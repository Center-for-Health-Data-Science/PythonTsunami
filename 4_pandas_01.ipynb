{
 "cells": [
  {
   "cell_type": "markdown",
   "metadata": {
    "slideshow": {
     "slide_type": "slide"
    }
   },
   "source": [
    "# Pandas\n",
    "\n",
    "- started by [Rita Colaço](https://www.cpr.ku.dk/staff/?id=621366&vis=medarbejder), continued by [Henry Webel](https://twitter.com/Henrywebel)\n",
    "- official pydata pandas [cheat sheet](https://pandas.pydata.org/Pandas_Cheat_Sheet.pdf)"
   ]
  },
  {
   "cell_type": "markdown",
   "metadata": {
    "slideshow": {
     "slide_type": "subslide"
    }
   },
   "source": [
    "## Introduction\n",
    "\n",
    "Pandas is built on top of `numpy`. It has an interface to directly plot using `maptlotlib`.\n",
    "\n",
    "Pandas is well suited for tabular data with heterogeneously-typed columns, as in an Excel spreadsheet\n",
    "\n",
    "Pandas is a library for data analysis and its powertool is the **`DataFrame`**."
   ]
  },
  {
   "cell_type": "markdown",
   "metadata": {
    "slideshow": {
     "slide_type": "slide"
    }
   },
   "source": [
    "## Two main classes (types/ objects)\n",
    "\n",
    "1. `pandas.Series`\n",
    "2. `pandas.DataFrame`\n",
    "\n",
    "- a `Series` is a `numpy.array` with an `Index` series.\n",
    "- a column in a `DataFrame` is a `Series`.\n",
    "- columns in a `DataFrame` share an `Index`"
   ]
  },
  {
   "cell_type": "code",
   "execution_count": 1,
   "metadata": {
    "slideshow": {
     "slide_type": "fragment"
    }
   },
   "outputs": [],
   "source": [
    "import pandas as pd\n",
    "import numpy as np"
   ]
  },
  {
   "cell_type": "markdown",
   "metadata": {
    "slideshow": {
     "slide_type": "slide"
    }
   },
   "source": [
    "## Creating an instance of a `pandas.Series`\n",
    "\n",
    "There are many ways. But a Series is an object holding some data.\n",
    "\n",
    "Let's create a Series from a built-in `range` and a `numpy.arange` object:"
   ]
  },
  {
   "cell_type": "code",
   "execution_count": 2,
   "metadata": {
    "slideshow": {
     "slide_type": "fragment"
    }
   },
   "outputs": [
    {
     "data": {
      "text/plain": [
       "0     3\n",
       "1     4\n",
       "2     5\n",
       "3     6\n",
       "4     7\n",
       "5     8\n",
       "6     9\n",
       "7    10\n",
       "8    11\n",
       "9    12\n",
       "dtype: int64"
      ]
     },
     "execution_count": 2,
     "metadata": {},
     "output_type": "execute_result"
    }
   ],
   "source": [
    "series_range = pd.Series(range(3, 13))\n",
    "series_range"
   ]
  },
  {
   "cell_type": "code",
   "execution_count": 3,
   "metadata": {
    "slideshow": {
     "slide_type": "fragment"
    }
   },
   "outputs": [
    {
     "data": {
      "text/plain": [
       "0     3\n",
       "1     4\n",
       "2     5\n",
       "3     6\n",
       "4     7\n",
       "5     8\n",
       "6     9\n",
       "7    10\n",
       "8    11\n",
       "9    12\n",
       "dtype: int32"
      ]
     },
     "execution_count": 3,
     "metadata": {},
     "output_type": "execute_result"
    }
   ],
   "source": [
    "series_np_arange = pd.Series(np.arange(3, 13))\n",
    "series_np_arange"
   ]
  },
  {
   "cell_type": "code",
   "execution_count": 4,
   "metadata": {
    "slideshow": {
     "slide_type": "fragment"
    }
   },
   "outputs": [
    {
     "name": "stdout",
     "output_type": "stream",
     "text": [
      "Series from range, underlying data:\t [ 3  4  5  6  7  8  9 10 11 12]\n",
      "Series from np.arange underlying data:\t [ 3  4  5  6  7  8  9 10 11 12]\n"
     ]
    }
   ],
   "source": [
    "print(\"Series from range, underlying data:\\t\", series_range.values)\n",
    "print(\"Series from np.arange underlying data:\\t\", series_np_arange.values)"
   ]
  },
  {
   "cell_type": "code",
   "execution_count": 5,
   "metadata": {
    "slideshow": {
     "slide_type": "fragment"
    }
   },
   "outputs": [
    {
     "data": {
      "text/plain": [
       "array([ 3,  4,  5,  6,  7,  8,  9, 10, 11, 12], dtype=int64)"
      ]
     },
     "execution_count": 5,
     "metadata": {},
     "output_type": "execute_result"
    }
   ],
   "source": [
    "series_range.values"
   ]
  },
  {
   "cell_type": "code",
   "execution_count": 6,
   "metadata": {
    "slideshow": {
     "slide_type": "fragment"
    }
   },
   "outputs": [
    {
     "data": {
      "text/plain": [
       "array([ 3,  4,  5,  6,  7,  8,  9, 10, 11, 12])"
      ]
     },
     "execution_count": 6,
     "metadata": {},
     "output_type": "execute_result"
    }
   ],
   "source": [
    "series_np_arange.values"
   ]
  },
  {
   "cell_type": "code",
   "execution_count": 7,
   "metadata": {
    "slideshow": {
     "slide_type": "fragment"
    }
   },
   "outputs": [
    {
     "data": {
      "text/plain": [
       "RangeIndex(start=0, stop=10, step=1)"
      ]
     },
     "execution_count": 7,
     "metadata": {},
     "output_type": "execute_result"
    }
   ],
   "source": [
    "series_range.index"
   ]
  },
  {
   "cell_type": "code",
   "execution_count": 8,
   "metadata": {
    "slideshow": {
     "slide_type": "fragment"
    }
   },
   "outputs": [
    {
     "data": {
      "text/plain": [
       "RangeIndex(start=0, stop=10, step=1)"
      ]
     },
     "execution_count": 8,
     "metadata": {},
     "output_type": "execute_result"
    }
   ],
   "source": [
    "series_np_arange.index"
   ]
  },
  {
   "cell_type": "markdown",
   "metadata": {
    "slideshow": {
     "slide_type": "fragment"
    }
   },
   "source": [
    "> Exkurs: This shows you how to create the same index in case you ever need to"
   ]
  },
  {
   "cell_type": "code",
   "execution_count": 9,
   "metadata": {
    "slideshow": {
     "slide_type": "fragment"
    }
   },
   "outputs": [
    {
     "data": {
      "text/plain": [
       "RangeIndex(start=0, stop=10, step=1)"
      ]
     },
     "execution_count": 9,
     "metadata": {},
     "output_type": "execute_result"
    }
   ],
   "source": [
    "from pandas import RangeIndex\n",
    "RangeIndex(start=0, stop=10, step=1)"
   ]
  },
  {
   "cell_type": "markdown",
   "metadata": {
    "slideshow": {
     "slide_type": "slide"
    }
   },
   "source": [
    "## What is a DataFrame?"
   ]
  },
  {
   "cell_type": "markdown",
   "metadata": {
    "slideshow": {
     "slide_type": "fragment"
    }
   },
   "source": [
    "A DataFrame is basically, a **Table** of data (or a tabular data structure) with labeled rows and columns. The rows are labeled by a special data structure called an Index, that permits fast look-up and powerful relational operations.\n",
    "For example:"
   ]
  },
  {
   "cell_type": "markdown",
   "metadata": {
    "slideshow": {
     "slide_type": "fragment"
    }
   },
   "source": [
    "| index | Name | Age | Height | LikesIceCream |\n",
    "| :---: | :--: | :--: | :--: | :--: |\n",
    "| 0     | \"Nick\" | 22 | 3.4 | True |\n",
    "| 1     | \"Jenn\" | 55 | 1.2 | True |\n",
    "| 2     | \"Joe\"  | 25 | 2.2 | True |"
   ]
  },
  {
   "cell_type": "markdown",
   "metadata": {
    "slideshow": {
     "slide_type": "subslide"
    }
   },
   "source": [
    "## Create a DataFrame directly"
   ]
  },
  {
   "cell_type": "markdown",
   "metadata": {
    "slideshow": {
     "slide_type": "fragment"
    }
   },
   "source": [
    "### From a `list` of `list`s"
   ]
  },
  {
   "cell_type": "code",
   "execution_count": 10,
   "metadata": {
    "slideshow": {
     "slide_type": "fragment"
    }
   },
   "outputs": [
    {
     "data": {
      "text/html": [
       "<div>\n",
       "<style scoped>\n",
       "    .dataframe tbody tr th:only-of-type {\n",
       "        vertical-align: middle;\n",
       "    }\n",
       "\n",
       "    .dataframe tbody tr th {\n",
       "        vertical-align: top;\n",
       "    }\n",
       "\n",
       "    .dataframe thead th {\n",
       "        text-align: right;\n",
       "    }\n",
       "</style>\n",
       "<table border=\"1\" class=\"dataframe\">\n",
       "  <thead>\n",
       "    <tr style=\"text-align: right;\">\n",
       "      <th></th>\n",
       "      <th>A</th>\n",
       "      <th>B</th>\n",
       "      <th>C</th>\n",
       "    </tr>\n",
       "  </thead>\n",
       "  <tbody>\n",
       "    <tr>\n",
       "      <th>0</th>\n",
       "      <td>2.23</td>\n",
       "      <td>1</td>\n",
       "      <td>test</td>\n",
       "    </tr>\n",
       "    <tr>\n",
       "      <th>1</th>\n",
       "      <td>3.45</td>\n",
       "      <td>2</td>\n",
       "      <td>train</td>\n",
       "    </tr>\n",
       "    <tr>\n",
       "      <th>2</th>\n",
       "      <td>4.50</td>\n",
       "      <td>3</td>\n",
       "      <td>test</td>\n",
       "    </tr>\n",
       "    <tr>\n",
       "      <th>3</th>\n",
       "      <td>6.00</td>\n",
       "      <td>4</td>\n",
       "      <td>train</td>\n",
       "    </tr>\n",
       "  </tbody>\n",
       "</table>\n",
       "</div>"
      ],
      "text/plain": [
       "      A  B      C\n",
       "0  2.23  1   test\n",
       "1  3.45  2  train\n",
       "2  4.50  3   test\n",
       "3  6.00  4  train"
      ]
     },
     "execution_count": 10,
     "metadata": {},
     "output_type": "execute_result"
    }
   ],
   "source": [
    "data = [\n",
    "    [2.23, 1, \"test\"],\n",
    "    [3.45, 2, \"train\"],\n",
    "    [4.5, 3, \"test\"],\n",
    "    [6.0, 4, \"train\"]\n",
    "]\n",
    "\n",
    "df = pd.DataFrame(data, columns=['A', 'B', 'C'])\n",
    "df"
   ]
  },
  {
   "cell_type": "markdown",
   "metadata": {
    "slideshow": {
     "slide_type": "fragment"
    }
   },
   "source": [
    "### From a `list` of `dict`s"
   ]
  },
  {
   "cell_type": "code",
   "execution_count": 11,
   "metadata": {
    "slideshow": {
     "slide_type": "fragment"
    }
   },
   "outputs": [
    {
     "data": {
      "text/html": [
       "<div>\n",
       "<style scoped>\n",
       "    .dataframe tbody tr th:only-of-type {\n",
       "        vertical-align: middle;\n",
       "    }\n",
       "\n",
       "    .dataframe tbody tr th {\n",
       "        vertical-align: top;\n",
       "    }\n",
       "\n",
       "    .dataframe thead th {\n",
       "        text-align: right;\n",
       "    }\n",
       "</style>\n",
       "<table border=\"1\" class=\"dataframe\">\n",
       "  <thead>\n",
       "    <tr style=\"text-align: right;\">\n",
       "      <th></th>\n",
       "      <th>A</th>\n",
       "      <th>B</th>\n",
       "      <th>C</th>\n",
       "    </tr>\n",
       "  </thead>\n",
       "  <tbody>\n",
       "    <tr>\n",
       "      <th>0</th>\n",
       "      <td>2.23</td>\n",
       "      <td>1</td>\n",
       "      <td>test</td>\n",
       "    </tr>\n",
       "    <tr>\n",
       "      <th>1</th>\n",
       "      <td>3.45</td>\n",
       "      <td>2</td>\n",
       "      <td>train</td>\n",
       "    </tr>\n",
       "    <tr>\n",
       "      <th>2</th>\n",
       "      <td>4.50</td>\n",
       "      <td>3</td>\n",
       "      <td>test</td>\n",
       "    </tr>\n",
       "    <tr>\n",
       "      <th>3</th>\n",
       "      <td>6.00</td>\n",
       "      <td>4</td>\n",
       "      <td>train</td>\n",
       "    </tr>\n",
       "  </tbody>\n",
       "</table>\n",
       "</div>"
      ],
      "text/plain": [
       "      A  B      C\n",
       "0  2.23  1   test\n",
       "1  3.45  2  train\n",
       "2  4.50  3   test\n",
       "3  6.00  4  train"
      ]
     },
     "execution_count": 11,
     "metadata": {},
     "output_type": "execute_result"
    }
   ],
   "source": [
    "data = [\n",
    "    {'A': 2.23, 'B': 1, 'C': \"test\"},\n",
    "    {'A': 3.45, 'B': 2, 'C': \"train\"},\n",
    "    {'A': 4.5, 'B': 3, 'C': \"test\"},\n",
    "    {'A': 6.0, 'B': 4, 'C': \"train\"}\n",
    "]\n",
    "\n",
    "df = pd.DataFrame(data)\n",
    "df"
   ]
  },
  {
   "cell_type": "markdown",
   "metadata": {
    "slideshow": {
     "slide_type": "fragment"
    }
   },
   "source": [
    "### From a Dict of Lists"
   ]
  },
  {
   "cell_type": "code",
   "execution_count": 12,
   "metadata": {
    "slideshow": {
     "slide_type": "fragment"
    }
   },
   "outputs": [
    {
     "data": {
      "text/html": [
       "<div>\n",
       "<style scoped>\n",
       "    .dataframe tbody tr th:only-of-type {\n",
       "        vertical-align: middle;\n",
       "    }\n",
       "\n",
       "    .dataframe tbody tr th {\n",
       "        vertical-align: top;\n",
       "    }\n",
       "\n",
       "    .dataframe thead th {\n",
       "        text-align: right;\n",
       "    }\n",
       "</style>\n",
       "<table border=\"1\" class=\"dataframe\">\n",
       "  <thead>\n",
       "    <tr style=\"text-align: right;\">\n",
       "      <th></th>\n",
       "      <th>A</th>\n",
       "      <th>B</th>\n",
       "      <th>C</th>\n",
       "    </tr>\n",
       "  </thead>\n",
       "  <tbody>\n",
       "    <tr>\n",
       "      <th>0</th>\n",
       "      <td>2.23</td>\n",
       "      <td>1</td>\n",
       "      <td>test</td>\n",
       "    </tr>\n",
       "    <tr>\n",
       "      <th>1</th>\n",
       "      <td>3.45</td>\n",
       "      <td>2</td>\n",
       "      <td>train</td>\n",
       "    </tr>\n",
       "    <tr>\n",
       "      <th>2</th>\n",
       "      <td>4.50</td>\n",
       "      <td>3</td>\n",
       "      <td>test</td>\n",
       "    </tr>\n",
       "    <tr>\n",
       "      <th>3</th>\n",
       "      <td>6.00</td>\n",
       "      <td>4</td>\n",
       "      <td>train</td>\n",
       "    </tr>\n",
       "  </tbody>\n",
       "</table>\n",
       "</div>"
      ],
      "text/plain": [
       "      A  B      C\n",
       "0  2.23  1   test\n",
       "1  3.45  2  train\n",
       "2  4.50  3   test\n",
       "3  6.00  4  train"
      ]
     },
     "execution_count": 12,
     "metadata": {},
     "output_type": "execute_result"
    }
   ],
   "source": [
    "df = pd.DataFrame({\n",
    "    'A': [2.23, 3.45, 4.5, 6.0],\n",
    "    'B': [1, 2, 3, 4],\n",
    "    'C': [\"test\", \"train\", \"test\", \"train\"]\n",
    "})\n",
    "\n",
    "df"
   ]
  },
  {
   "cell_type": "markdown",
   "metadata": {
    "slideshow": {
     "slide_type": "fragment"
    }
   },
   "source": [
    "### From a `dict` of `dict`s"
   ]
  },
  {
   "cell_type": "code",
   "execution_count": 13,
   "metadata": {
    "slideshow": {
     "slide_type": "fragment"
    }
   },
   "outputs": [
    {
     "data": {
      "text/html": [
       "<div>\n",
       "<style scoped>\n",
       "    .dataframe tbody tr th:only-of-type {\n",
       "        vertical-align: middle;\n",
       "    }\n",
       "\n",
       "    .dataframe tbody tr th {\n",
       "        vertical-align: top;\n",
       "    }\n",
       "\n",
       "    .dataframe thead th {\n",
       "        text-align: right;\n",
       "    }\n",
       "</style>\n",
       "<table border=\"1\" class=\"dataframe\">\n",
       "  <thead>\n",
       "    <tr style=\"text-align: right;\">\n",
       "      <th></th>\n",
       "      <th>A</th>\n",
       "      <th>B</th>\n",
       "      <th>C</th>\n",
       "    </tr>\n",
       "  </thead>\n",
       "  <tbody>\n",
       "    <tr>\n",
       "      <th>row1</th>\n",
       "      <td>2.23</td>\n",
       "      <td>1</td>\n",
       "      <td>test</td>\n",
       "    </tr>\n",
       "    <tr>\n",
       "      <th>row3</th>\n",
       "      <td>3.45</td>\n",
       "      <td>2</td>\n",
       "      <td>train</td>\n",
       "    </tr>\n",
       "    <tr>\n",
       "      <th>row2</th>\n",
       "      <td>4.50</td>\n",
       "      <td>3</td>\n",
       "      <td>test</td>\n",
       "    </tr>\n",
       "    <tr>\n",
       "      <th>row4</th>\n",
       "      <td>6.00</td>\n",
       "      <td>4</td>\n",
       "      <td>train</td>\n",
       "    </tr>\n",
       "  </tbody>\n",
       "</table>\n",
       "</div>"
      ],
      "text/plain": [
       "         A  B      C\n",
       "row1  2.23  1   test\n",
       "row3  3.45  2  train\n",
       "row2  4.50  3   test\n",
       "row4  6.00  4  train"
      ]
     },
     "execution_count": 13,
     "metadata": {},
     "output_type": "execute_result"
    }
   ],
   "source": [
    "df = pd.DataFrame.from_dict(\n",
    "    {\n",
    "        'row1': {'A': 2.23, 'B': 1, 'C': \"test\"},\n",
    "        'row3': {'A': 3.45, 'B': 2, 'C': \"train\"},\n",
    "        'row2': {'A': 4.5, 'B': 3, 'C': \"test\"},\n",
    "        'row4': {'A': 6.0, 'B': 4, 'C': \"train\"}\n",
    "    },\n",
    "    orient='index'  # default is columns. pd.DataFrame also works, but you have to transpose the data\n",
    ")\n",
    "df"
   ]
  },
  {
   "cell_type": "markdown",
   "metadata": {
    "slideshow": {
     "slide_type": "fragment"
    }
   },
   "source": [
    "### From an empty `DataFrame`"
   ]
  },
  {
   "cell_type": "code",
   "execution_count": 14,
   "metadata": {
    "slideshow": {
     "slide_type": "fragment"
    }
   },
   "outputs": [],
   "source": [
    "df = pd.DataFrame()\n",
    "df['A'] = [2.23, 3.45, 4.5, 6.0]\n",
    "df['B'] = [1, 2, 3, 4]\n",
    "df['C'] = [\"test\", \"train\", \"test\", \"train\"]"
   ]
  },
  {
   "cell_type": "code",
   "execution_count": 15,
   "metadata": {
    "slideshow": {
     "slide_type": "fragment"
    }
   },
   "outputs": [
    {
     "data": {
      "text/html": [
       "<div>\n",
       "<style scoped>\n",
       "    .dataframe tbody tr th:only-of-type {\n",
       "        vertical-align: middle;\n",
       "    }\n",
       "\n",
       "    .dataframe tbody tr th {\n",
       "        vertical-align: top;\n",
       "    }\n",
       "\n",
       "    .dataframe thead th {\n",
       "        text-align: right;\n",
       "    }\n",
       "</style>\n",
       "<table border=\"1\" class=\"dataframe\">\n",
       "  <thead>\n",
       "    <tr style=\"text-align: right;\">\n",
       "      <th></th>\n",
       "      <th>A</th>\n",
       "      <th>B</th>\n",
       "      <th>C</th>\n",
       "    </tr>\n",
       "  </thead>\n",
       "  <tbody>\n",
       "    <tr>\n",
       "      <th>0</th>\n",
       "      <td>2.23</td>\n",
       "      <td>1</td>\n",
       "      <td>test</td>\n",
       "    </tr>\n",
       "    <tr>\n",
       "      <th>1</th>\n",
       "      <td>3.45</td>\n",
       "      <td>2</td>\n",
       "      <td>train</td>\n",
       "    </tr>\n",
       "    <tr>\n",
       "      <th>2</th>\n",
       "      <td>4.50</td>\n",
       "      <td>3</td>\n",
       "      <td>test</td>\n",
       "    </tr>\n",
       "    <tr>\n",
       "      <th>3</th>\n",
       "      <td>6.00</td>\n",
       "      <td>4</td>\n",
       "      <td>train</td>\n",
       "    </tr>\n",
       "  </tbody>\n",
       "</table>\n",
       "</div>"
      ],
      "text/plain": [
       "      A  B      C\n",
       "0  2.23  1   test\n",
       "1  3.45  2  train\n",
       "2  4.50  3   test\n",
       "3  6.00  4  train"
      ]
     },
     "execution_count": 15,
     "metadata": {},
     "output_type": "execute_result"
    }
   ],
   "source": [
    "df"
   ]
  },
  {
   "cell_type": "markdown",
   "metadata": {
    "slideshow": {
     "slide_type": "subslide"
    }
   },
   "source": [
    "### Exercise 1\n",
    "Please recreate the table below as a Dataframe using one of the approaches detailed above:\n",
    "\n",
    "index | Year | Product | Cost |\n",
    "---| :--: | :----:  | :--: |\n",
    "0  | 2015 | Apples  | 0.35 |\n",
    "1  | 2016 | Apples  | 0.45 |\n",
    "2  | 2015 | Bananas | 0.75 |\n",
    "3  | 2016 | Bananas | 1.10 |"
   ]
  },
  {
   "cell_type": "code",
   "execution_count": null,
   "metadata": {
    "slideshow": {
     "slide_type": "fragment"
    }
   },
   "outputs": [],
   "source": []
  },
  {
   "cell_type": "markdown",
   "metadata": {
    "slideshow": {
     "slide_type": "fragment"
    }
   },
   "source": [
    "Which approach did you prefer? Why?"
   ]
  },
  {
   "cell_type": "markdown",
   "metadata": {
    "slideshow": {
     "slide_type": "slide"
    }
   },
   "source": [
    "## Making DataFrames from a Data File\n",
    "\n",
    "Pandas has functions that can make DataFrames from a wide variety of file types.  To do this, use one of the functions in Pandas that start with `read_`.  Here is a non-exclusive list of examples:\n",
    "\n",
    "| File Type | Function Name |\n",
    "| :----:    |  :---:  |\n",
    "| Excel | `pd.read_excel` |\n",
    "| CSV, TSV | `pd.read_csv` |\n",
    "| H5, HDF, HDF5 | `pd.read_hdf` |\n",
    "| JSON  | `pd.read_json` |\n",
    "| SQL | `pd.read_sql_table` |\n",
    "\n",
    "> These are all functions, which can be called, i.e. `pd.read_csv()`"
   ]
  },
  {
   "cell_type": "markdown",
   "metadata": {
    "slideshow": {
     "slide_type": "subslide"
    }
   },
   "source": [
    "### Loading the Data\n",
    "\n",
    "The file can be local or hosted: The `read_*`-function have many options and are very high general (in the sense of broad or comprehensive) functions."
   ]
  },
  {
   "cell_type": "code",
   "execution_count": 16,
   "metadata": {
    "slideshow": {
     "slide_type": "fragment"
    }
   },
   "outputs": [
    {
     "data": {
      "text/html": [
       "<div>\n",
       "<style scoped>\n",
       "    .dataframe tbody tr th:only-of-type {\n",
       "        vertical-align: middle;\n",
       "    }\n",
       "\n",
       "    .dataframe tbody tr th {\n",
       "        vertical-align: top;\n",
       "    }\n",
       "\n",
       "    .dataframe thead th {\n",
       "        text-align: right;\n",
       "    }\n",
       "</style>\n",
       "<table border=\"1\" class=\"dataframe\">\n",
       "  <thead>\n",
       "    <tr style=\"text-align: right;\">\n",
       "      <th></th>\n",
       "      <th>dateRep</th>\n",
       "      <th>year_week</th>\n",
       "      <th>cases_weekly</th>\n",
       "      <th>deaths_weekly</th>\n",
       "      <th>countriesAndTerritories</th>\n",
       "      <th>geoId</th>\n",
       "      <th>countryterritoryCode</th>\n",
       "      <th>popData2019</th>\n",
       "      <th>continentExp</th>\n",
       "      <th>notification_rate_per_100000_population_14-days</th>\n",
       "    </tr>\n",
       "  </thead>\n",
       "  <tbody>\n",
       "    <tr>\n",
       "      <th>0</th>\n",
       "      <td>18/01/2021</td>\n",
       "      <td>2021-02</td>\n",
       "      <td>557</td>\n",
       "      <td>45</td>\n",
       "      <td>Afghanistan</td>\n",
       "      <td>AF</td>\n",
       "      <td>AFG</td>\n",
       "      <td>38041757.0</td>\n",
       "      <td>Asia</td>\n",
       "      <td>3.24</td>\n",
       "    </tr>\n",
       "    <tr>\n",
       "      <th>1</th>\n",
       "      <td>11/01/2021</td>\n",
       "      <td>2021-01</td>\n",
       "      <td>675</td>\n",
       "      <td>71</td>\n",
       "      <td>Afghanistan</td>\n",
       "      <td>AF</td>\n",
       "      <td>AFG</td>\n",
       "      <td>38041757.0</td>\n",
       "      <td>Asia</td>\n",
       "      <td>4.15</td>\n",
       "    </tr>\n",
       "    <tr>\n",
       "      <th>2</th>\n",
       "      <td>04/01/2021</td>\n",
       "      <td>2020-53</td>\n",
       "      <td>902</td>\n",
       "      <td>60</td>\n",
       "      <td>Afghanistan</td>\n",
       "      <td>AF</td>\n",
       "      <td>AFG</td>\n",
       "      <td>38041757.0</td>\n",
       "      <td>Asia</td>\n",
       "      <td>7.61</td>\n",
       "    </tr>\n",
       "    <tr>\n",
       "      <th>3</th>\n",
       "      <td>28/12/2020</td>\n",
       "      <td>2020-52</td>\n",
       "      <td>1994</td>\n",
       "      <td>88</td>\n",
       "      <td>Afghanistan</td>\n",
       "      <td>AF</td>\n",
       "      <td>AFG</td>\n",
       "      <td>38041757.0</td>\n",
       "      <td>Asia</td>\n",
       "      <td>7.19</td>\n",
       "    </tr>\n",
       "    <tr>\n",
       "      <th>4</th>\n",
       "      <td>21/12/2020</td>\n",
       "      <td>2020-51</td>\n",
       "      <td>740</td>\n",
       "      <td>111</td>\n",
       "      <td>Afghanistan</td>\n",
       "      <td>AF</td>\n",
       "      <td>AFG</td>\n",
       "      <td>38041757.0</td>\n",
       "      <td>Asia</td>\n",
       "      <td>6.56</td>\n",
       "    </tr>\n",
       "    <tr>\n",
       "      <th>...</th>\n",
       "      <td>...</td>\n",
       "      <td>...</td>\n",
       "      <td>...</td>\n",
       "      <td>...</td>\n",
       "      <td>...</td>\n",
       "      <td>...</td>\n",
       "      <td>...</td>\n",
       "      <td>...</td>\n",
       "      <td>...</td>\n",
       "      <td>...</td>\n",
       "    </tr>\n",
       "    <tr>\n",
       "      <th>10000</th>\n",
       "      <td>20/04/2020</td>\n",
       "      <td>2020-16</td>\n",
       "      <td>11</td>\n",
       "      <td>0</td>\n",
       "      <td>Zimbabwe</td>\n",
       "      <td>ZW</td>\n",
       "      <td>ZWE</td>\n",
       "      <td>14645473.0</td>\n",
       "      <td>Africa</td>\n",
       "      <td>0.11</td>\n",
       "    </tr>\n",
       "    <tr>\n",
       "      <th>10001</th>\n",
       "      <td>13/04/2020</td>\n",
       "      <td>2020-15</td>\n",
       "      <td>5</td>\n",
       "      <td>2</td>\n",
       "      <td>Zimbabwe</td>\n",
       "      <td>ZW</td>\n",
       "      <td>ZWE</td>\n",
       "      <td>14645473.0</td>\n",
       "      <td>Africa</td>\n",
       "      <td>0.05</td>\n",
       "    </tr>\n",
       "    <tr>\n",
       "      <th>10002</th>\n",
       "      <td>06/04/2020</td>\n",
       "      <td>2020-14</td>\n",
       "      <td>2</td>\n",
       "      <td>0</td>\n",
       "      <td>Zimbabwe</td>\n",
       "      <td>ZW</td>\n",
       "      <td>ZWE</td>\n",
       "      <td>14645473.0</td>\n",
       "      <td>Africa</td>\n",
       "      <td>0.05</td>\n",
       "    </tr>\n",
       "    <tr>\n",
       "      <th>10003</th>\n",
       "      <td>30/03/2020</td>\n",
       "      <td>2020-13</td>\n",
       "      <td>5</td>\n",
       "      <td>1</td>\n",
       "      <td>Zimbabwe</td>\n",
       "      <td>ZW</td>\n",
       "      <td>ZWE</td>\n",
       "      <td>14645473.0</td>\n",
       "      <td>Africa</td>\n",
       "      <td>0.05</td>\n",
       "    </tr>\n",
       "    <tr>\n",
       "      <th>10004</th>\n",
       "      <td>23/03/2020</td>\n",
       "      <td>2020-12</td>\n",
       "      <td>2</td>\n",
       "      <td>0</td>\n",
       "      <td>Zimbabwe</td>\n",
       "      <td>ZW</td>\n",
       "      <td>ZWE</td>\n",
       "      <td>14645473.0</td>\n",
       "      <td>Africa</td>\n",
       "      <td>NaN</td>\n",
       "    </tr>\n",
       "  </tbody>\n",
       "</table>\n",
       "<p>10005 rows × 10 columns</p>\n",
       "</div>"
      ],
      "text/plain": [
       "          dateRep year_week  cases_weekly  deaths_weekly  \\\n",
       "0      18/01/2021   2021-02           557             45   \n",
       "1      11/01/2021   2021-01           675             71   \n",
       "2      04/01/2021   2020-53           902             60   \n",
       "3      28/12/2020   2020-52          1994             88   \n",
       "4      21/12/2020   2020-51           740            111   \n",
       "...           ...       ...           ...            ...   \n",
       "10000  20/04/2020   2020-16            11              0   \n",
       "10001  13/04/2020   2020-15             5              2   \n",
       "10002  06/04/2020   2020-14             2              0   \n",
       "10003  30/03/2020   2020-13             5              1   \n",
       "10004  23/03/2020   2020-12             2              0   \n",
       "\n",
       "      countriesAndTerritories geoId countryterritoryCode  popData2019  \\\n",
       "0                 Afghanistan    AF                  AFG   38041757.0   \n",
       "1                 Afghanistan    AF                  AFG   38041757.0   \n",
       "2                 Afghanistan    AF                  AFG   38041757.0   \n",
       "3                 Afghanistan    AF                  AFG   38041757.0   \n",
       "4                 Afghanistan    AF                  AFG   38041757.0   \n",
       "...                       ...   ...                  ...          ...   \n",
       "10000                Zimbabwe    ZW                  ZWE   14645473.0   \n",
       "10001                Zimbabwe    ZW                  ZWE   14645473.0   \n",
       "10002                Zimbabwe    ZW                  ZWE   14645473.0   \n",
       "10003                Zimbabwe    ZW                  ZWE   14645473.0   \n",
       "10004                Zimbabwe    ZW                  ZWE   14645473.0   \n",
       "\n",
       "      continentExp  notification_rate_per_100000_population_14-days  \n",
       "0             Asia                                             3.24  \n",
       "1             Asia                                             4.15  \n",
       "2             Asia                                             7.61  \n",
       "3             Asia                                             7.19  \n",
       "4             Asia                                             6.56  \n",
       "...            ...                                              ...  \n",
       "10000       Africa                                             0.11  \n",
       "10001       Africa                                             0.05  \n",
       "10002       Africa                                             0.05  \n",
       "10003       Africa                                             0.05  \n",
       "10004       Africa                                              NaN  \n",
       "\n",
       "[10005 rows x 10 columns]"
      ]
     },
     "execution_count": 16,
     "metadata": {},
     "output_type": "execute_result"
    }
   ],
   "source": [
    "url_ecdc_daily_cases = \"https://opendata.ecdc.europa.eu/covid19/casedistribution/csv/data.csv\"\n",
    "df = pd.read_csv(url_ecdc_daily_cases)\n",
    "df"
   ]
  },
  {
   "cell_type": "markdown",
   "metadata": {
    "slideshow": {
     "slide_type": "slide"
    }
   },
   "source": [
    "## Examining the Dataset\n",
    "\n",
    "Sometimes, we might just want to quickly inspect the DataFrame:\n",
    "\n",
    "### Attributes\n",
    "```python\n",
    "df.shape    # Shape of the object (2D)\n",
    "df.dtypes   # Data types in each column\n",
    "df.index    # Index range\n",
    "df.columns  # Column names\n",
    "```\n",
    "\n",
    "### Methods\n",
    "\n",
    "```python\n",
    "df.describe()   # Descriptive statistics of columns\n",
    "df.info()       # DataFrame information\n",
    "\n",
    "```\n",
    "\n",
    "\n"
   ]
  },
  {
   "cell_type": "markdown",
   "metadata": {
    "slideshow": {
     "slide_type": "subslide"
    }
   },
   "source": [
    "### Shape\n",
    "\n",
    "The first dimension are the number of rows (the `len`gth of the `DataFrame`), the second dimension the number of features or columns. The direction going down the rows is `axis=0` or `axis='index'`, and going over the columns is `axis=1` or `axis='columns'`.\n",
    "\n",
    "axis | descriptions\n",
    "---  | ---\n",
    "0    | index\n",
    "1    | columns"
   ]
  },
  {
   "cell_type": "code",
   "execution_count": 17,
   "metadata": {
    "slideshow": {
     "slide_type": "fragment"
    }
   },
   "outputs": [
    {
     "data": {
      "text/plain": [
       "(10005, 10)"
      ]
     },
     "execution_count": 17,
     "metadata": {},
     "output_type": "execute_result"
    }
   ],
   "source": [
    "df.shape  # axis=0"
   ]
  },
  {
   "cell_type": "markdown",
   "metadata": {
    "slideshow": {
     "slide_type": "subslide"
    }
   },
   "source": [
    "### Data types"
   ]
  },
  {
   "cell_type": "code",
   "execution_count": 18,
   "metadata": {
    "slideshow": {
     "slide_type": "fragment"
    }
   },
   "outputs": [
    {
     "data": {
      "text/plain": [
       "dateRep                                             object\n",
       "year_week                                           object\n",
       "cases_weekly                                         int64\n",
       "deaths_weekly                                        int64\n",
       "countriesAndTerritories                             object\n",
       "geoId                                               object\n",
       "countryterritoryCode                                object\n",
       "popData2019                                        float64\n",
       "continentExp                                        object\n",
       "notification_rate_per_100000_population_14-days    float64\n",
       "dtype: object"
      ]
     },
     "execution_count": 18,
     "metadata": {},
     "output_type": "execute_result"
    }
   ],
   "source": [
    "df.dtypes"
   ]
  },
  {
   "cell_type": "markdown",
   "metadata": {
    "slideshow": {
     "slide_type": "subslide"
    }
   },
   "source": [
    "### Index and Columns"
   ]
  },
  {
   "cell_type": "code",
   "execution_count": 19,
   "metadata": {
    "slideshow": {
     "slide_type": "fragment"
    }
   },
   "outputs": [
    {
     "data": {
      "text/plain": [
       "Index(['dateRep', 'year_week', 'cases_weekly', 'deaths_weekly',\n",
       "       'countriesAndTerritories', 'geoId', 'countryterritoryCode',\n",
       "       'popData2019', 'continentExp',\n",
       "       'notification_rate_per_100000_population_14-days'],\n",
       "      dtype='object')"
      ]
     },
     "execution_count": 19,
     "metadata": {},
     "output_type": "execute_result"
    }
   ],
   "source": [
    "df.columns"
   ]
  },
  {
   "cell_type": "code",
   "execution_count": 20,
   "metadata": {
    "slideshow": {
     "slide_type": "fragment"
    }
   },
   "outputs": [
    {
     "data": {
      "text/plain": [
       "RangeIndex(start=0, stop=10005, step=1)"
      ]
     },
     "execution_count": 20,
     "metadata": {},
     "output_type": "execute_result"
    }
   ],
   "source": [
    "df.index"
   ]
  },
  {
   "cell_type": "markdown",
   "metadata": {
    "slideshow": {
     "slide_type": "fragment"
    }
   },
   "source": [
    "You can set the index using `set_index`. Here we use a [general function](https://pandas.pydata.org/pandas-docs/stable/reference/general_functions.html) `pandas.to_datetime` to encode date into better to specialised types, see e.g. [date functionality user guide](https://pandas.pydata.org/pandas-docs/stable/user_guide/timeseries.html#time-series-date-functionality)"
   ]
  },
  {
   "cell_type": "code",
   "execution_count": 21,
   "metadata": {
    "slideshow": {
     "slide_type": "fragment"
    }
   },
   "outputs": [
    {
     "data": {
      "text/html": [
       "<div>\n",
       "<style scoped>\n",
       "    .dataframe tbody tr th:only-of-type {\n",
       "        vertical-align: middle;\n",
       "    }\n",
       "\n",
       "    .dataframe tbody tr th {\n",
       "        vertical-align: top;\n",
       "    }\n",
       "\n",
       "    .dataframe thead th {\n",
       "        text-align: right;\n",
       "    }\n",
       "</style>\n",
       "<table border=\"1\" class=\"dataframe\">\n",
       "  <thead>\n",
       "    <tr style=\"text-align: right;\">\n",
       "      <th></th>\n",
       "      <th>year_week</th>\n",
       "      <th>cases_weekly</th>\n",
       "      <th>deaths_weekly</th>\n",
       "      <th>countriesAndTerritories</th>\n",
       "      <th>geoId</th>\n",
       "      <th>countryterritoryCode</th>\n",
       "      <th>popData2019</th>\n",
       "      <th>continentExp</th>\n",
       "      <th>notification_rate_per_100000_population_14-days</th>\n",
       "    </tr>\n",
       "    <tr>\n",
       "      <th>dateRep</th>\n",
       "      <th></th>\n",
       "      <th></th>\n",
       "      <th></th>\n",
       "      <th></th>\n",
       "      <th></th>\n",
       "      <th></th>\n",
       "      <th></th>\n",
       "      <th></th>\n",
       "      <th></th>\n",
       "    </tr>\n",
       "  </thead>\n",
       "  <tbody>\n",
       "    <tr>\n",
       "      <th>2021-01-18</th>\n",
       "      <td>2021-02</td>\n",
       "      <td>557</td>\n",
       "      <td>45</td>\n",
       "      <td>Afghanistan</td>\n",
       "      <td>AF</td>\n",
       "      <td>AFG</td>\n",
       "      <td>38041757.0</td>\n",
       "      <td>Asia</td>\n",
       "      <td>3.24</td>\n",
       "    </tr>\n",
       "    <tr>\n",
       "      <th>2021-01-11</th>\n",
       "      <td>2021-01</td>\n",
       "      <td>675</td>\n",
       "      <td>71</td>\n",
       "      <td>Afghanistan</td>\n",
       "      <td>AF</td>\n",
       "      <td>AFG</td>\n",
       "      <td>38041757.0</td>\n",
       "      <td>Asia</td>\n",
       "      <td>4.15</td>\n",
       "    </tr>\n",
       "    <tr>\n",
       "      <th>2021-01-04</th>\n",
       "      <td>2020-53</td>\n",
       "      <td>902</td>\n",
       "      <td>60</td>\n",
       "      <td>Afghanistan</td>\n",
       "      <td>AF</td>\n",
       "      <td>AFG</td>\n",
       "      <td>38041757.0</td>\n",
       "      <td>Asia</td>\n",
       "      <td>7.61</td>\n",
       "    </tr>\n",
       "    <tr>\n",
       "      <th>2020-12-28</th>\n",
       "      <td>2020-52</td>\n",
       "      <td>1994</td>\n",
       "      <td>88</td>\n",
       "      <td>Afghanistan</td>\n",
       "      <td>AF</td>\n",
       "      <td>AFG</td>\n",
       "      <td>38041757.0</td>\n",
       "      <td>Asia</td>\n",
       "      <td>7.19</td>\n",
       "    </tr>\n",
       "    <tr>\n",
       "      <th>2020-12-21</th>\n",
       "      <td>2020-51</td>\n",
       "      <td>740</td>\n",
       "      <td>111</td>\n",
       "      <td>Afghanistan</td>\n",
       "      <td>AF</td>\n",
       "      <td>AFG</td>\n",
       "      <td>38041757.0</td>\n",
       "      <td>Asia</td>\n",
       "      <td>6.56</td>\n",
       "    </tr>\n",
       "    <tr>\n",
       "      <th>...</th>\n",
       "      <td>...</td>\n",
       "      <td>...</td>\n",
       "      <td>...</td>\n",
       "      <td>...</td>\n",
       "      <td>...</td>\n",
       "      <td>...</td>\n",
       "      <td>...</td>\n",
       "      <td>...</td>\n",
       "      <td>...</td>\n",
       "    </tr>\n",
       "    <tr>\n",
       "      <th>2020-04-20</th>\n",
       "      <td>2020-16</td>\n",
       "      <td>11</td>\n",
       "      <td>0</td>\n",
       "      <td>Zimbabwe</td>\n",
       "      <td>ZW</td>\n",
       "      <td>ZWE</td>\n",
       "      <td>14645473.0</td>\n",
       "      <td>Africa</td>\n",
       "      <td>0.11</td>\n",
       "    </tr>\n",
       "    <tr>\n",
       "      <th>2020-04-13</th>\n",
       "      <td>2020-15</td>\n",
       "      <td>5</td>\n",
       "      <td>2</td>\n",
       "      <td>Zimbabwe</td>\n",
       "      <td>ZW</td>\n",
       "      <td>ZWE</td>\n",
       "      <td>14645473.0</td>\n",
       "      <td>Africa</td>\n",
       "      <td>0.05</td>\n",
       "    </tr>\n",
       "    <tr>\n",
       "      <th>2020-04-06</th>\n",
       "      <td>2020-14</td>\n",
       "      <td>2</td>\n",
       "      <td>0</td>\n",
       "      <td>Zimbabwe</td>\n",
       "      <td>ZW</td>\n",
       "      <td>ZWE</td>\n",
       "      <td>14645473.0</td>\n",
       "      <td>Africa</td>\n",
       "      <td>0.05</td>\n",
       "    </tr>\n",
       "    <tr>\n",
       "      <th>2020-03-30</th>\n",
       "      <td>2020-13</td>\n",
       "      <td>5</td>\n",
       "      <td>1</td>\n",
       "      <td>Zimbabwe</td>\n",
       "      <td>ZW</td>\n",
       "      <td>ZWE</td>\n",
       "      <td>14645473.0</td>\n",
       "      <td>Africa</td>\n",
       "      <td>0.05</td>\n",
       "    </tr>\n",
       "    <tr>\n",
       "      <th>2020-03-23</th>\n",
       "      <td>2020-12</td>\n",
       "      <td>2</td>\n",
       "      <td>0</td>\n",
       "      <td>Zimbabwe</td>\n",
       "      <td>ZW</td>\n",
       "      <td>ZWE</td>\n",
       "      <td>14645473.0</td>\n",
       "      <td>Africa</td>\n",
       "      <td>NaN</td>\n",
       "    </tr>\n",
       "  </tbody>\n",
       "</table>\n",
       "<p>10005 rows × 9 columns</p>\n",
       "</div>"
      ],
      "text/plain": [
       "           year_week  cases_weekly  deaths_weekly countriesAndTerritories  \\\n",
       "dateRep                                                                     \n",
       "2021-01-18   2021-02           557             45             Afghanistan   \n",
       "2021-01-11   2021-01           675             71             Afghanistan   \n",
       "2021-01-04   2020-53           902             60             Afghanistan   \n",
       "2020-12-28   2020-52          1994             88             Afghanistan   \n",
       "2020-12-21   2020-51           740            111             Afghanistan   \n",
       "...              ...           ...            ...                     ...   \n",
       "2020-04-20   2020-16            11              0                Zimbabwe   \n",
       "2020-04-13   2020-15             5              2                Zimbabwe   \n",
       "2020-04-06   2020-14             2              0                Zimbabwe   \n",
       "2020-03-30   2020-13             5              1                Zimbabwe   \n",
       "2020-03-23   2020-12             2              0                Zimbabwe   \n",
       "\n",
       "           geoId countryterritoryCode  popData2019 continentExp  \\\n",
       "dateRep                                                           \n",
       "2021-01-18    AF                  AFG   38041757.0         Asia   \n",
       "2021-01-11    AF                  AFG   38041757.0         Asia   \n",
       "2021-01-04    AF                  AFG   38041757.0         Asia   \n",
       "2020-12-28    AF                  AFG   38041757.0         Asia   \n",
       "2020-12-21    AF                  AFG   38041757.0         Asia   \n",
       "...          ...                  ...          ...          ...   \n",
       "2020-04-20    ZW                  ZWE   14645473.0       Africa   \n",
       "2020-04-13    ZW                  ZWE   14645473.0       Africa   \n",
       "2020-04-06    ZW                  ZWE   14645473.0       Africa   \n",
       "2020-03-30    ZW                  ZWE   14645473.0       Africa   \n",
       "2020-03-23    ZW                  ZWE   14645473.0       Africa   \n",
       "\n",
       "            notification_rate_per_100000_population_14-days  \n",
       "dateRep                                                      \n",
       "2021-01-18                                             3.24  \n",
       "2021-01-11                                             4.15  \n",
       "2021-01-04                                             7.61  \n",
       "2020-12-28                                             7.19  \n",
       "2020-12-21                                             6.56  \n",
       "...                                                     ...  \n",
       "2020-04-20                                             0.11  \n",
       "2020-04-13                                             0.05  \n",
       "2020-04-06                                             0.05  \n",
       "2020-03-30                                             0.05  \n",
       "2020-03-23                                              NaN  \n",
       "\n",
       "[10005 rows x 9 columns]"
      ]
     },
     "execution_count": 21,
     "metadata": {},
     "output_type": "execute_result"
    }
   ],
   "source": [
    "df.dateRep = pd.to_datetime(df.dateRep, format=\"%d/%m/%Y\")  # persistent\n",
    "df.set_index('dateRep')  # not persistent"
   ]
  },
  {
   "cell_type": "markdown",
   "metadata": {
    "slideshow": {
     "slide_type": "subslide"
    }
   },
   "source": [
    "### Info and describe"
   ]
  },
  {
   "cell_type": "code",
   "execution_count": 22,
   "metadata": {
    "slideshow": {
     "slide_type": "fragment"
    }
   },
   "outputs": [
    {
     "name": "stdout",
     "output_type": "stream",
     "text": [
      "<class 'pandas.core.frame.DataFrame'>\n",
      "RangeIndex: 10005 entries, 0 to 10004\n",
      "Data columns (total 10 columns):\n",
      " #   Column                                           Non-Null Count  Dtype         \n",
      "---  ------                                           --------------  -----         \n",
      " 0   dateRep                                          10005 non-null  datetime64[ns]\n",
      " 1   year_week                                        10005 non-null  object        \n",
      " 2   cases_weekly                                     10005 non-null  int64         \n",
      " 3   deaths_weekly                                    10005 non-null  int64         \n",
      " 4   countriesAndTerritories                          10005 non-null  object        \n",
      " 5   geoId                                            9960 non-null   object        \n",
      " 6   countryterritoryCode                             9982 non-null   object        \n",
      " 7   popData2019                                      9982 non-null   float64       \n",
      " 8   continentExp                                     10005 non-null  object        \n",
      " 9   notification_rate_per_100000_population_14-days  9769 non-null   float64       \n",
      "dtypes: datetime64[ns](1), float64(2), int64(2), object(5)\n",
      "memory usage: 781.8+ KB\n"
     ]
    }
   ],
   "source": [
    "_ = df.info()  # returns None, only prints"
   ]
  },
  {
   "cell_type": "code",
   "execution_count": 23,
   "metadata": {
    "slideshow": {
     "slide_type": "fragment"
    }
   },
   "outputs": [
    {
     "data": {
      "text/html": [
       "<div>\n",
       "<style scoped>\n",
       "    .dataframe tbody tr th:only-of-type {\n",
       "        vertical-align: middle;\n",
       "    }\n",
       "\n",
       "    .dataframe tbody tr th {\n",
       "        vertical-align: top;\n",
       "    }\n",
       "\n",
       "    .dataframe thead th {\n",
       "        text-align: right;\n",
       "    }\n",
       "</style>\n",
       "<table border=\"1\" class=\"dataframe\">\n",
       "  <thead>\n",
       "    <tr style=\"text-align: right;\">\n",
       "      <th></th>\n",
       "      <th>cases_weekly</th>\n",
       "      <th>deaths_weekly</th>\n",
       "      <th>popData2019</th>\n",
       "      <th>notification_rate_per_100000_population_14-days</th>\n",
       "    </tr>\n",
       "  </thead>\n",
       "  <tbody>\n",
       "    <tr>\n",
       "      <th>count</th>\n",
       "      <td>1.000500e+04</td>\n",
       "      <td>10005.000000</td>\n",
       "      <td>9.982000e+03</td>\n",
       "      <td>9769.000000</td>\n",
       "    </tr>\n",
       "    <tr>\n",
       "      <th>mean</th>\n",
       "      <td>9.453561e+03</td>\n",
       "      <td>203.569515</td>\n",
       "      <td>4.033638e+07</td>\n",
       "      <td>80.845801</td>\n",
       "    </tr>\n",
       "    <tr>\n",
       "      <th>std</th>\n",
       "      <td>5.741908e+04</td>\n",
       "      <td>958.074852</td>\n",
       "      <td>1.512709e+08</td>\n",
       "      <td>196.534502</td>\n",
       "    </tr>\n",
       "    <tr>\n",
       "      <th>min</th>\n",
       "      <td>-3.864000e+03</td>\n",
       "      <td>-875.000000</td>\n",
       "      <td>8.150000e+02</td>\n",
       "      <td>-132.600000</td>\n",
       "    </tr>\n",
       "    <tr>\n",
       "      <th>25%</th>\n",
       "      <td>8.000000e+00</td>\n",
       "      <td>0.000000</td>\n",
       "      <td>1.293120e+06</td>\n",
       "      <td>0.840000</td>\n",
       "    </tr>\n",
       "    <tr>\n",
       "      <th>50%</th>\n",
       "      <td>1.740000e+02</td>\n",
       "      <td>2.000000</td>\n",
       "      <td>7.169456e+06</td>\n",
       "      <td>7.920000</td>\n",
       "    </tr>\n",
       "    <tr>\n",
       "      <th>75%</th>\n",
       "      <td>2.438000e+03</td>\n",
       "      <td>39.000000</td>\n",
       "      <td>2.851583e+07</td>\n",
       "      <td>64.560000</td>\n",
       "    </tr>\n",
       "    <tr>\n",
       "      <th>max</th>\n",
       "      <td>1.782792e+06</td>\n",
       "      <td>23169.000000</td>\n",
       "      <td>1.433784e+09</td>\n",
       "      <td>4343.440000</td>\n",
       "    </tr>\n",
       "  </tbody>\n",
       "</table>\n",
       "</div>"
      ],
      "text/plain": [
       "       cases_weekly  deaths_weekly   popData2019  \\\n",
       "count  1.000500e+04   10005.000000  9.982000e+03   \n",
       "mean   9.453561e+03     203.569515  4.033638e+07   \n",
       "std    5.741908e+04     958.074852  1.512709e+08   \n",
       "min   -3.864000e+03    -875.000000  8.150000e+02   \n",
       "25%    8.000000e+00       0.000000  1.293120e+06   \n",
       "50%    1.740000e+02       2.000000  7.169456e+06   \n",
       "75%    2.438000e+03      39.000000  2.851583e+07   \n",
       "max    1.782792e+06   23169.000000  1.433784e+09   \n",
       "\n",
       "       notification_rate_per_100000_population_14-days  \n",
       "count                                      9769.000000  \n",
       "mean                                         80.845801  \n",
       "std                                         196.534502  \n",
       "min                                        -132.600000  \n",
       "25%                                           0.840000  \n",
       "50%                                           7.920000  \n",
       "75%                                          64.560000  \n",
       "max                                        4343.440000  "
      ]
     },
     "execution_count": 23,
     "metadata": {},
     "output_type": "execute_result"
    }
   ],
   "source": [
    "df.describe()  # returns a new DataFrame"
   ]
  },
  {
   "cell_type": "markdown",
   "metadata": {
    "slideshow": {
     "slide_type": "slide"
    }
   },
   "source": [
    "## Selecting Data\n",
    "\n",
    "Pandas has a lot of flexibility in the number of syntaxes it supports.  For example, to select columns in a DataFrame:\n",
    "\n",
    "```python\n",
    "df['Column1']\n",
    "df.Column1  # no whitespaces possible!\n",
    "```\n",
    "\n",
    "Multiple Columns can also be selected by providing a list:\n",
    "\n",
    "```python\n",
    "df[['Column1', 'Column2']]\n",
    "```\n",
    "\n",
    "Rows are selected with the **iloc** and **loc** attributes:\n",
    "\n",
    "```python\n",
    "df.iloc[5]  # Used to get the \"integer\" index of the row.\n",
    "df.loc['Row6']  # Used if rows are named.\n",
    "```\n",
    "\n",
    "However, with large DataFrames, we often just want to see the first or last rows, or even just a sample of the rows.\n",
    "\n",
    "| Method | Description |\n",
    "| ---  | --- |\n",
    "| `df.head(5)` | the first 5 rows |\n",
    "| `df.tail(5)` | the last 5 rows |\n",
    "| `df.sample(5)` | a random 5 rows |\n"
   ]
  },
  {
   "cell_type": "code",
   "execution_count": 24,
   "metadata": {
    "slideshow": {
     "slide_type": "fragment"
    }
   },
   "outputs": [
    {
     "data": {
      "text/html": [
       "<div>\n",
       "<style scoped>\n",
       "    .dataframe tbody tr th:only-of-type {\n",
       "        vertical-align: middle;\n",
       "    }\n",
       "\n",
       "    .dataframe tbody tr th {\n",
       "        vertical-align: top;\n",
       "    }\n",
       "\n",
       "    .dataframe thead th {\n",
       "        text-align: right;\n",
       "    }\n",
       "</style>\n",
       "<table border=\"1\" class=\"dataframe\">\n",
       "  <thead>\n",
       "    <tr style=\"text-align: right;\">\n",
       "      <th></th>\n",
       "      <th>dateRep</th>\n",
       "      <th>year_week</th>\n",
       "      <th>cases_weekly</th>\n",
       "      <th>deaths_weekly</th>\n",
       "      <th>geoId</th>\n",
       "      <th>countryterritoryCode</th>\n",
       "      <th>popData2019</th>\n",
       "      <th>continentExp</th>\n",
       "      <th>notification_rate_per_100000_population_14-days</th>\n",
       "    </tr>\n",
       "    <tr>\n",
       "      <th>countriesAndTerritories</th>\n",
       "      <th></th>\n",
       "      <th></th>\n",
       "      <th></th>\n",
       "      <th></th>\n",
       "      <th></th>\n",
       "      <th></th>\n",
       "      <th></th>\n",
       "      <th></th>\n",
       "      <th></th>\n",
       "    </tr>\n",
       "  </thead>\n",
       "  <tbody>\n",
       "    <tr>\n",
       "      <th>Denmark</th>\n",
       "      <td>2021-01-18</td>\n",
       "      <td>2021-02</td>\n",
       "      <td>7170</td>\n",
       "      <td>208</td>\n",
       "      <td>DK</td>\n",
       "      <td>DNK</td>\n",
       "      <td>5806081.0</td>\n",
       "      <td>Europe</td>\n",
       "      <td>364.86</td>\n",
       "    </tr>\n",
       "    <tr>\n",
       "      <th>Denmark</th>\n",
       "      <td>2021-01-11</td>\n",
       "      <td>2021-01</td>\n",
       "      <td>14014</td>\n",
       "      <td>223</td>\n",
       "      <td>DK</td>\n",
       "      <td>DNK</td>\n",
       "      <td>5806081.0</td>\n",
       "      <td>Europe</td>\n",
       "      <td>505.95</td>\n",
       "    </tr>\n",
       "    <tr>\n",
       "      <th>Denmark</th>\n",
       "      <td>2021-01-04</td>\n",
       "      <td>2020-53</td>\n",
       "      <td>15362</td>\n",
       "      <td>170</td>\n",
       "      <td>DK</td>\n",
       "      <td>DNK</td>\n",
       "      <td>5806081.0</td>\n",
       "      <td>Europe</td>\n",
       "      <td>590.36</td>\n",
       "    </tr>\n",
       "    <tr>\n",
       "      <th>Denmark</th>\n",
       "      <td>2020-12-28</td>\n",
       "      <td>2020-52</td>\n",
       "      <td>18915</td>\n",
       "      <td>169</td>\n",
       "      <td>DK</td>\n",
       "      <td>DNK</td>\n",
       "      <td>5806081.0</td>\n",
       "      <td>Europe</td>\n",
       "      <td>750.78</td>\n",
       "    </tr>\n",
       "    <tr>\n",
       "      <th>Denmark</th>\n",
       "      <td>2020-12-21</td>\n",
       "      <td>2020-51</td>\n",
       "      <td>24676</td>\n",
       "      <td>94</td>\n",
       "      <td>DK</td>\n",
       "      <td>DNK</td>\n",
       "      <td>5806081.0</td>\n",
       "      <td>Europe</td>\n",
       "      <td>754.92</td>\n",
       "    </tr>\n",
       "    <tr>\n",
       "      <th>Denmark</th>\n",
       "      <td>2020-12-14</td>\n",
       "      <td>2020-50</td>\n",
       "      <td>19155</td>\n",
       "      <td>56</td>\n",
       "      <td>DK</td>\n",
       "      <td>DNK</td>\n",
       "      <td>5806081.0</td>\n",
       "      <td>Europe</td>\n",
       "      <td>523.69</td>\n",
       "    </tr>\n",
       "    <tr>\n",
       "      <th>Denmark</th>\n",
       "      <td>2020-12-07</td>\n",
       "      <td>2020-49</td>\n",
       "      <td>11251</td>\n",
       "      <td>56</td>\n",
       "      <td>DK</td>\n",
       "      <td>DNK</td>\n",
       "      <td>5806081.0</td>\n",
       "      <td>Europe</td>\n",
       "      <td>346.50</td>\n",
       "    </tr>\n",
       "    <tr>\n",
       "      <th>Denmark</th>\n",
       "      <td>2020-11-30</td>\n",
       "      <td>2020-48</td>\n",
       "      <td>8867</td>\n",
       "      <td>45</td>\n",
       "      <td>DK</td>\n",
       "      <td>DNK</td>\n",
       "      <td>5806081.0</td>\n",
       "      <td>Europe</td>\n",
       "      <td>296.52</td>\n",
       "    </tr>\n",
       "    <tr>\n",
       "      <th>Denmark</th>\n",
       "      <td>2020-11-23</td>\n",
       "      <td>2020-47</td>\n",
       "      <td>8349</td>\n",
       "      <td>24</td>\n",
       "      <td>DK</td>\n",
       "      <td>DNK</td>\n",
       "      <td>5806081.0</td>\n",
       "      <td>Europe</td>\n",
       "      <td>264.62</td>\n",
       "    </tr>\n",
       "    <tr>\n",
       "      <th>Denmark</th>\n",
       "      <td>2020-11-16</td>\n",
       "      <td>2020-46</td>\n",
       "      <td>7015</td>\n",
       "      <td>17</td>\n",
       "      <td>DK</td>\n",
       "      <td>DNK</td>\n",
       "      <td>5806081.0</td>\n",
       "      <td>Europe</td>\n",
       "      <td>255.54</td>\n",
       "    </tr>\n",
       "    <tr>\n",
       "      <th>Denmark</th>\n",
       "      <td>2020-11-09</td>\n",
       "      <td>2020-45</td>\n",
       "      <td>7822</td>\n",
       "      <td>20</td>\n",
       "      <td>DK</td>\n",
       "      <td>DNK</td>\n",
       "      <td>5806081.0</td>\n",
       "      <td>Europe</td>\n",
       "      <td>254.30</td>\n",
       "    </tr>\n",
       "    <tr>\n",
       "      <th>Denmark</th>\n",
       "      <td>2020-11-02</td>\n",
       "      <td>2020-44</td>\n",
       "      <td>6943</td>\n",
       "      <td>21</td>\n",
       "      <td>DK</td>\n",
       "      <td>DNK</td>\n",
       "      <td>5806081.0</td>\n",
       "      <td>Europe</td>\n",
       "      <td>205.08</td>\n",
       "    </tr>\n",
       "    <tr>\n",
       "      <th>Denmark</th>\n",
       "      <td>2020-10-26</td>\n",
       "      <td>2020-43</td>\n",
       "      <td>4964</td>\n",
       "      <td>22</td>\n",
       "      <td>DK</td>\n",
       "      <td>DNK</td>\n",
       "      <td>5806081.0</td>\n",
       "      <td>Europe</td>\n",
       "      <td>136.65</td>\n",
       "    </tr>\n",
       "    <tr>\n",
       "      <th>Denmark</th>\n",
       "      <td>2020-10-19</td>\n",
       "      <td>2020-42</td>\n",
       "      <td>2970</td>\n",
       "      <td>11</td>\n",
       "      <td>DK</td>\n",
       "      <td>DNK</td>\n",
       "      <td>5806081.0</td>\n",
       "      <td>Europe</td>\n",
       "      <td>98.38</td>\n",
       "    </tr>\n",
       "    <tr>\n",
       "      <th>Denmark</th>\n",
       "      <td>2020-10-12</td>\n",
       "      <td>2020-41</td>\n",
       "      <td>2742</td>\n",
       "      <td>11</td>\n",
       "      <td>DK</td>\n",
       "      <td>DNK</td>\n",
       "      <td>5806081.0</td>\n",
       "      <td>Europe</td>\n",
       "      <td>99.64</td>\n",
       "    </tr>\n",
       "    <tr>\n",
       "      <th>Denmark</th>\n",
       "      <td>2020-10-05</td>\n",
       "      <td>2020-40</td>\n",
       "      <td>3043</td>\n",
       "      <td>9</td>\n",
       "      <td>DK</td>\n",
       "      <td>DNK</td>\n",
       "      <td>5806081.0</td>\n",
       "      <td>Europe</td>\n",
       "      <td>134.91</td>\n",
       "    </tr>\n",
       "    <tr>\n",
       "      <th>Denmark</th>\n",
       "      <td>2020-09-28</td>\n",
       "      <td>2020-39</td>\n",
       "      <td>4790</td>\n",
       "      <td>14</td>\n",
       "      <td>DK</td>\n",
       "      <td>DNK</td>\n",
       "      <td>5806081.0</td>\n",
       "      <td>Europe</td>\n",
       "      <td>127.81</td>\n",
       "    </tr>\n",
       "    <tr>\n",
       "      <th>Denmark</th>\n",
       "      <td>2020-09-21</td>\n",
       "      <td>2020-38</td>\n",
       "      <td>2631</td>\n",
       "      <td>6</td>\n",
       "      <td>DK</td>\n",
       "      <td>DNK</td>\n",
       "      <td>5806081.0</td>\n",
       "      <td>Europe</td>\n",
       "      <td>74.06</td>\n",
       "    </tr>\n",
       "    <tr>\n",
       "      <th>Denmark</th>\n",
       "      <td>2020-09-14</td>\n",
       "      <td>2020-37</td>\n",
       "      <td>1669</td>\n",
       "      <td>2</td>\n",
       "      <td>DK</td>\n",
       "      <td>DNK</td>\n",
       "      <td>5806081.0</td>\n",
       "      <td>Europe</td>\n",
       "      <td>43.33</td>\n",
       "    </tr>\n",
       "    <tr>\n",
       "      <th>Denmark</th>\n",
       "      <td>2020-09-07</td>\n",
       "      <td>2020-36</td>\n",
       "      <td>847</td>\n",
       "      <td>3</td>\n",
       "      <td>DK</td>\n",
       "      <td>DNK</td>\n",
       "      <td>5806081.0</td>\n",
       "      <td>Europe</td>\n",
       "      <td>24.46</td>\n",
       "    </tr>\n",
       "    <tr>\n",
       "      <th>Denmark</th>\n",
       "      <td>2020-08-31</td>\n",
       "      <td>2020-35</td>\n",
       "      <td>573</td>\n",
       "      <td>3</td>\n",
       "      <td>DK</td>\n",
       "      <td>DNK</td>\n",
       "      <td>5806081.0</td>\n",
       "      <td>Europe</td>\n",
       "      <td>18.65</td>\n",
       "    </tr>\n",
       "    <tr>\n",
       "      <th>Denmark</th>\n",
       "      <td>2020-08-24</td>\n",
       "      <td>2020-34</td>\n",
       "      <td>510</td>\n",
       "      <td>0</td>\n",
       "      <td>DK</td>\n",
       "      <td>DNK</td>\n",
       "      <td>5806081.0</td>\n",
       "      <td>Europe</td>\n",
       "      <td>29.02</td>\n",
       "    </tr>\n",
       "    <tr>\n",
       "      <th>Denmark</th>\n",
       "      <td>2020-08-17</td>\n",
       "      <td>2020-33</td>\n",
       "      <td>1175</td>\n",
       "      <td>4</td>\n",
       "      <td>DK</td>\n",
       "      <td>DNK</td>\n",
       "      <td>5806081.0</td>\n",
       "      <td>Europe</td>\n",
       "      <td>31.48</td>\n",
       "    </tr>\n",
       "    <tr>\n",
       "      <th>Denmark</th>\n",
       "      <td>2020-08-10</td>\n",
       "      <td>2020-32</td>\n",
       "      <td>653</td>\n",
       "      <td>2</td>\n",
       "      <td>DK</td>\n",
       "      <td>DNK</td>\n",
       "      <td>5806081.0</td>\n",
       "      <td>Europe</td>\n",
       "      <td>17.29</td>\n",
       "    </tr>\n",
       "    <tr>\n",
       "      <th>Denmark</th>\n",
       "      <td>2020-08-03</td>\n",
       "      <td>2020-31</td>\n",
       "      <td>351</td>\n",
       "      <td>2</td>\n",
       "      <td>DK</td>\n",
       "      <td>DNK</td>\n",
       "      <td>5806081.0</td>\n",
       "      <td>Europe</td>\n",
       "      <td>10.61</td>\n",
       "    </tr>\n",
       "    <tr>\n",
       "      <th>Denmark</th>\n",
       "      <td>2020-07-27</td>\n",
       "      <td>2020-30</td>\n",
       "      <td>265</td>\n",
       "      <td>2</td>\n",
       "      <td>DK</td>\n",
       "      <td>DNK</td>\n",
       "      <td>5806081.0</td>\n",
       "      <td>Europe</td>\n",
       "      <td>8.47</td>\n",
       "    </tr>\n",
       "    <tr>\n",
       "      <th>Denmark</th>\n",
       "      <td>2020-07-20</td>\n",
       "      <td>2020-29</td>\n",
       "      <td>227</td>\n",
       "      <td>2</td>\n",
       "      <td>DK</td>\n",
       "      <td>DNK</td>\n",
       "      <td>5806081.0</td>\n",
       "      <td>Europe</td>\n",
       "      <td>5.87</td>\n",
       "    </tr>\n",
       "    <tr>\n",
       "      <th>Denmark</th>\n",
       "      <td>2020-07-13</td>\n",
       "      <td>2020-28</td>\n",
       "      <td>114</td>\n",
       "      <td>3</td>\n",
       "      <td>DK</td>\n",
       "      <td>DNK</td>\n",
       "      <td>5806081.0</td>\n",
       "      <td>Europe</td>\n",
       "      <td>4.67</td>\n",
       "    </tr>\n",
       "    <tr>\n",
       "      <th>Denmark</th>\n",
       "      <td>2020-07-06</td>\n",
       "      <td>2020-27</td>\n",
       "      <td>157</td>\n",
       "      <td>2</td>\n",
       "      <td>DK</td>\n",
       "      <td>DNK</td>\n",
       "      <td>5806081.0</td>\n",
       "      <td>Europe</td>\n",
       "      <td>7.60</td>\n",
       "    </tr>\n",
       "    <tr>\n",
       "      <th>Denmark</th>\n",
       "      <td>2020-06-29</td>\n",
       "      <td>2020-26</td>\n",
       "      <td>284</td>\n",
       "      <td>4</td>\n",
       "      <td>DK</td>\n",
       "      <td>DNK</td>\n",
       "      <td>5806081.0</td>\n",
       "      <td>Europe</td>\n",
       "      <td>8.30</td>\n",
       "    </tr>\n",
       "    <tr>\n",
       "      <th>Denmark</th>\n",
       "      <td>2020-06-22</td>\n",
       "      <td>2020-25</td>\n",
       "      <td>198</td>\n",
       "      <td>3</td>\n",
       "      <td>DK</td>\n",
       "      <td>DNK</td>\n",
       "      <td>5806081.0</td>\n",
       "      <td>Europe</td>\n",
       "      <td>7.63</td>\n",
       "    </tr>\n",
       "    <tr>\n",
       "      <th>Denmark</th>\n",
       "      <td>2020-06-15</td>\n",
       "      <td>2020-24</td>\n",
       "      <td>245</td>\n",
       "      <td>8</td>\n",
       "      <td>DK</td>\n",
       "      <td>DNK</td>\n",
       "      <td>5806081.0</td>\n",
       "      <td>Europe</td>\n",
       "      <td>9.03</td>\n",
       "    </tr>\n",
       "    <tr>\n",
       "      <th>Denmark</th>\n",
       "      <td>2020-06-08</td>\n",
       "      <td>2020-23</td>\n",
       "      <td>279</td>\n",
       "      <td>15</td>\n",
       "      <td>DK</td>\n",
       "      <td>DNK</td>\n",
       "      <td>5806081.0</td>\n",
       "      <td>Europe</td>\n",
       "      <td>10.13</td>\n",
       "    </tr>\n",
       "    <tr>\n",
       "      <th>Denmark</th>\n",
       "      <td>2020-06-01</td>\n",
       "      <td>2020-22</td>\n",
       "      <td>309</td>\n",
       "      <td>12</td>\n",
       "      <td>DK</td>\n",
       "      <td>DNK</td>\n",
       "      <td>5806081.0</td>\n",
       "      <td>Europe</td>\n",
       "      <td>12.78</td>\n",
       "    </tr>\n",
       "    <tr>\n",
       "      <th>Denmark</th>\n",
       "      <td>2020-05-25</td>\n",
       "      <td>2020-21</td>\n",
       "      <td>433</td>\n",
       "      <td>15</td>\n",
       "      <td>DK</td>\n",
       "      <td>DNK</td>\n",
       "      <td>5806081.0</td>\n",
       "      <td>Europe</td>\n",
       "      <td>16.03</td>\n",
       "    </tr>\n",
       "    <tr>\n",
       "      <th>Denmark</th>\n",
       "      <td>2020-05-18</td>\n",
       "      <td>2020-20</td>\n",
       "      <td>498</td>\n",
       "      <td>28</td>\n",
       "      <td>DK</td>\n",
       "      <td>DNK</td>\n",
       "      <td>5806081.0</td>\n",
       "      <td>Europe</td>\n",
       "      <td>24.18</td>\n",
       "    </tr>\n",
       "    <tr>\n",
       "      <th>Denmark</th>\n",
       "      <td>2020-05-11</td>\n",
       "      <td>2020-19</td>\n",
       "      <td>906</td>\n",
       "      <td>38</td>\n",
       "      <td>DK</td>\n",
       "      <td>DNK</td>\n",
       "      <td>5806081.0</td>\n",
       "      <td>Europe</td>\n",
       "      <td>31.93</td>\n",
       "    </tr>\n",
       "    <tr>\n",
       "      <th>Denmark</th>\n",
       "      <td>2020-05-04</td>\n",
       "      <td>2020-18</td>\n",
       "      <td>948</td>\n",
       "      <td>59</td>\n",
       "      <td>DK</td>\n",
       "      <td>DNK</td>\n",
       "      <td>5806081.0</td>\n",
       "      <td>Europe</td>\n",
       "      <td>36.84</td>\n",
       "    </tr>\n",
       "    <tr>\n",
       "      <th>Denmark</th>\n",
       "      <td>2020-04-27</td>\n",
       "      <td>2020-17</td>\n",
       "      <td>1191</td>\n",
       "      <td>67</td>\n",
       "      <td>DK</td>\n",
       "      <td>DNK</td>\n",
       "      <td>5806081.0</td>\n",
       "      <td>Europe</td>\n",
       "      <td>41.35</td>\n",
       "    </tr>\n",
       "    <tr>\n",
       "      <th>Denmark</th>\n",
       "      <td>2020-04-20</td>\n",
       "      <td>2020-16</td>\n",
       "      <td>1210</td>\n",
       "      <td>82</td>\n",
       "      <td>DK</td>\n",
       "      <td>DNK</td>\n",
       "      <td>5806081.0</td>\n",
       "      <td>Europe</td>\n",
       "      <td>51.93</td>\n",
       "    </tr>\n",
       "    <tr>\n",
       "      <th>Denmark</th>\n",
       "      <td>2020-04-13</td>\n",
       "      <td>2020-15</td>\n",
       "      <td>1805</td>\n",
       "      <td>94</td>\n",
       "      <td>DK</td>\n",
       "      <td>DNK</td>\n",
       "      <td>5806081.0</td>\n",
       "      <td>Europe</td>\n",
       "      <td>65.09</td>\n",
       "    </tr>\n",
       "    <tr>\n",
       "      <th>Denmark</th>\n",
       "      <td>2020-04-06</td>\n",
       "      <td>2020-14</td>\n",
       "      <td>1974</td>\n",
       "      <td>107</td>\n",
       "      <td>DK</td>\n",
       "      <td>DNK</td>\n",
       "      <td>5806081.0</td>\n",
       "      <td>Europe</td>\n",
       "      <td>51.22</td>\n",
       "    </tr>\n",
       "    <tr>\n",
       "      <th>Denmark</th>\n",
       "      <td>2020-03-30</td>\n",
       "      <td>2020-13</td>\n",
       "      <td>1000</td>\n",
       "      <td>59</td>\n",
       "      <td>DK</td>\n",
       "      <td>DNK</td>\n",
       "      <td>5806081.0</td>\n",
       "      <td>Europe</td>\n",
       "      <td>26.18</td>\n",
       "    </tr>\n",
       "    <tr>\n",
       "      <th>Denmark</th>\n",
       "      <td>2020-03-23</td>\n",
       "      <td>2020-12</td>\n",
       "      <td>520</td>\n",
       "      <td>12</td>\n",
       "      <td>DK</td>\n",
       "      <td>DNK</td>\n",
       "      <td>5806081.0</td>\n",
       "      <td>Europe</td>\n",
       "      <td>23.37</td>\n",
       "    </tr>\n",
       "    <tr>\n",
       "      <th>Denmark</th>\n",
       "      <td>2020-03-16</td>\n",
       "      <td>2020-11</td>\n",
       "      <td>837</td>\n",
       "      <td>1</td>\n",
       "      <td>DK</td>\n",
       "      <td>DNK</td>\n",
       "      <td>5806081.0</td>\n",
       "      <td>Europe</td>\n",
       "      <td>15.00</td>\n",
       "    </tr>\n",
       "    <tr>\n",
       "      <th>Denmark</th>\n",
       "      <td>2020-03-09</td>\n",
       "      <td>2020-10</td>\n",
       "      <td>34</td>\n",
       "      <td>0</td>\n",
       "      <td>DK</td>\n",
       "      <td>DNK</td>\n",
       "      <td>5806081.0</td>\n",
       "      <td>Europe</td>\n",
       "      <td>0.65</td>\n",
       "    </tr>\n",
       "    <tr>\n",
       "      <th>Denmark</th>\n",
       "      <td>2020-03-02</td>\n",
       "      <td>2020-09</td>\n",
       "      <td>4</td>\n",
       "      <td>0</td>\n",
       "      <td>DK</td>\n",
       "      <td>DNK</td>\n",
       "      <td>5806081.0</td>\n",
       "      <td>Europe</td>\n",
       "      <td>0.07</td>\n",
       "    </tr>\n",
       "    <tr>\n",
       "      <th>Denmark</th>\n",
       "      <td>2020-02-24</td>\n",
       "      <td>2020-08</td>\n",
       "      <td>0</td>\n",
       "      <td>0</td>\n",
       "      <td>DK</td>\n",
       "      <td>DNK</td>\n",
       "      <td>5806081.0</td>\n",
       "      <td>Europe</td>\n",
       "      <td>0.00</td>\n",
       "    </tr>\n",
       "    <tr>\n",
       "      <th>Denmark</th>\n",
       "      <td>2020-02-17</td>\n",
       "      <td>2020-07</td>\n",
       "      <td>0</td>\n",
       "      <td>0</td>\n",
       "      <td>DK</td>\n",
       "      <td>DNK</td>\n",
       "      <td>5806081.0</td>\n",
       "      <td>Europe</td>\n",
       "      <td>0.00</td>\n",
       "    </tr>\n",
       "    <tr>\n",
       "      <th>Denmark</th>\n",
       "      <td>2020-02-10</td>\n",
       "      <td>2020-06</td>\n",
       "      <td>0</td>\n",
       "      <td>0</td>\n",
       "      <td>DK</td>\n",
       "      <td>DNK</td>\n",
       "      <td>5806081.0</td>\n",
       "      <td>Europe</td>\n",
       "      <td>0.00</td>\n",
       "    </tr>\n",
       "    <tr>\n",
       "      <th>Denmark</th>\n",
       "      <td>2020-02-03</td>\n",
       "      <td>2020-05</td>\n",
       "      <td>0</td>\n",
       "      <td>0</td>\n",
       "      <td>DK</td>\n",
       "      <td>DNK</td>\n",
       "      <td>5806081.0</td>\n",
       "      <td>Europe</td>\n",
       "      <td>0.00</td>\n",
       "    </tr>\n",
       "    <tr>\n",
       "      <th>Denmark</th>\n",
       "      <td>2020-01-27</td>\n",
       "      <td>2020-04</td>\n",
       "      <td>0</td>\n",
       "      <td>0</td>\n",
       "      <td>DK</td>\n",
       "      <td>DNK</td>\n",
       "      <td>5806081.0</td>\n",
       "      <td>Europe</td>\n",
       "      <td>0.00</td>\n",
       "    </tr>\n",
       "    <tr>\n",
       "      <th>Denmark</th>\n",
       "      <td>2020-01-20</td>\n",
       "      <td>2020-03</td>\n",
       "      <td>0</td>\n",
       "      <td>0</td>\n",
       "      <td>DK</td>\n",
       "      <td>DNK</td>\n",
       "      <td>5806081.0</td>\n",
       "      <td>Europe</td>\n",
       "      <td>0.00</td>\n",
       "    </tr>\n",
       "    <tr>\n",
       "      <th>Denmark</th>\n",
       "      <td>2020-01-13</td>\n",
       "      <td>2020-02</td>\n",
       "      <td>0</td>\n",
       "      <td>0</td>\n",
       "      <td>DK</td>\n",
       "      <td>DNK</td>\n",
       "      <td>5806081.0</td>\n",
       "      <td>Europe</td>\n",
       "      <td>0.00</td>\n",
       "    </tr>\n",
       "    <tr>\n",
       "      <th>Denmark</th>\n",
       "      <td>2020-01-06</td>\n",
       "      <td>2020-01</td>\n",
       "      <td>0</td>\n",
       "      <td>0</td>\n",
       "      <td>DK</td>\n",
       "      <td>DNK</td>\n",
       "      <td>5806081.0</td>\n",
       "      <td>Europe</td>\n",
       "      <td>NaN</td>\n",
       "    </tr>\n",
       "  </tbody>\n",
       "</table>\n",
       "</div>"
      ],
      "text/plain": [
       "                           dateRep year_week  cases_weekly  deaths_weekly  \\\n",
       "countriesAndTerritories                                                     \n",
       "Denmark                 2021-01-18   2021-02          7170            208   \n",
       "Denmark                 2021-01-11   2021-01         14014            223   \n",
       "Denmark                 2021-01-04   2020-53         15362            170   \n",
       "Denmark                 2020-12-28   2020-52         18915            169   \n",
       "Denmark                 2020-12-21   2020-51         24676             94   \n",
       "Denmark                 2020-12-14   2020-50         19155             56   \n",
       "Denmark                 2020-12-07   2020-49         11251             56   \n",
       "Denmark                 2020-11-30   2020-48          8867             45   \n",
       "Denmark                 2020-11-23   2020-47          8349             24   \n",
       "Denmark                 2020-11-16   2020-46          7015             17   \n",
       "Denmark                 2020-11-09   2020-45          7822             20   \n",
       "Denmark                 2020-11-02   2020-44          6943             21   \n",
       "Denmark                 2020-10-26   2020-43          4964             22   \n",
       "Denmark                 2020-10-19   2020-42          2970             11   \n",
       "Denmark                 2020-10-12   2020-41          2742             11   \n",
       "Denmark                 2020-10-05   2020-40          3043              9   \n",
       "Denmark                 2020-09-28   2020-39          4790             14   \n",
       "Denmark                 2020-09-21   2020-38          2631              6   \n",
       "Denmark                 2020-09-14   2020-37          1669              2   \n",
       "Denmark                 2020-09-07   2020-36           847              3   \n",
       "Denmark                 2020-08-31   2020-35           573              3   \n",
       "Denmark                 2020-08-24   2020-34           510              0   \n",
       "Denmark                 2020-08-17   2020-33          1175              4   \n",
       "Denmark                 2020-08-10   2020-32           653              2   \n",
       "Denmark                 2020-08-03   2020-31           351              2   \n",
       "Denmark                 2020-07-27   2020-30           265              2   \n",
       "Denmark                 2020-07-20   2020-29           227              2   \n",
       "Denmark                 2020-07-13   2020-28           114              3   \n",
       "Denmark                 2020-07-06   2020-27           157              2   \n",
       "Denmark                 2020-06-29   2020-26           284              4   \n",
       "Denmark                 2020-06-22   2020-25           198              3   \n",
       "Denmark                 2020-06-15   2020-24           245              8   \n",
       "Denmark                 2020-06-08   2020-23           279             15   \n",
       "Denmark                 2020-06-01   2020-22           309             12   \n",
       "Denmark                 2020-05-25   2020-21           433             15   \n",
       "Denmark                 2020-05-18   2020-20           498             28   \n",
       "Denmark                 2020-05-11   2020-19           906             38   \n",
       "Denmark                 2020-05-04   2020-18           948             59   \n",
       "Denmark                 2020-04-27   2020-17          1191             67   \n",
       "Denmark                 2020-04-20   2020-16          1210             82   \n",
       "Denmark                 2020-04-13   2020-15          1805             94   \n",
       "Denmark                 2020-04-06   2020-14          1974            107   \n",
       "Denmark                 2020-03-30   2020-13          1000             59   \n",
       "Denmark                 2020-03-23   2020-12           520             12   \n",
       "Denmark                 2020-03-16   2020-11           837              1   \n",
       "Denmark                 2020-03-09   2020-10            34              0   \n",
       "Denmark                 2020-03-02   2020-09             4              0   \n",
       "Denmark                 2020-02-24   2020-08             0              0   \n",
       "Denmark                 2020-02-17   2020-07             0              0   \n",
       "Denmark                 2020-02-10   2020-06             0              0   \n",
       "Denmark                 2020-02-03   2020-05             0              0   \n",
       "Denmark                 2020-01-27   2020-04             0              0   \n",
       "Denmark                 2020-01-20   2020-03             0              0   \n",
       "Denmark                 2020-01-13   2020-02             0              0   \n",
       "Denmark                 2020-01-06   2020-01             0              0   \n",
       "\n",
       "                        geoId countryterritoryCode  popData2019 continentExp  \\\n",
       "countriesAndTerritories                                                        \n",
       "Denmark                    DK                  DNK    5806081.0       Europe   \n",
       "Denmark                    DK                  DNK    5806081.0       Europe   \n",
       "Denmark                    DK                  DNK    5806081.0       Europe   \n",
       "Denmark                    DK                  DNK    5806081.0       Europe   \n",
       "Denmark                    DK                  DNK    5806081.0       Europe   \n",
       "Denmark                    DK                  DNK    5806081.0       Europe   \n",
       "Denmark                    DK                  DNK    5806081.0       Europe   \n",
       "Denmark                    DK                  DNK    5806081.0       Europe   \n",
       "Denmark                    DK                  DNK    5806081.0       Europe   \n",
       "Denmark                    DK                  DNK    5806081.0       Europe   \n",
       "Denmark                    DK                  DNK    5806081.0       Europe   \n",
       "Denmark                    DK                  DNK    5806081.0       Europe   \n",
       "Denmark                    DK                  DNK    5806081.0       Europe   \n",
       "Denmark                    DK                  DNK    5806081.0       Europe   \n",
       "Denmark                    DK                  DNK    5806081.0       Europe   \n",
       "Denmark                    DK                  DNK    5806081.0       Europe   \n",
       "Denmark                    DK                  DNK    5806081.0       Europe   \n",
       "Denmark                    DK                  DNK    5806081.0       Europe   \n",
       "Denmark                    DK                  DNK    5806081.0       Europe   \n",
       "Denmark                    DK                  DNK    5806081.0       Europe   \n",
       "Denmark                    DK                  DNK    5806081.0       Europe   \n",
       "Denmark                    DK                  DNK    5806081.0       Europe   \n",
       "Denmark                    DK                  DNK    5806081.0       Europe   \n",
       "Denmark                    DK                  DNK    5806081.0       Europe   \n",
       "Denmark                    DK                  DNK    5806081.0       Europe   \n",
       "Denmark                    DK                  DNK    5806081.0       Europe   \n",
       "Denmark                    DK                  DNK    5806081.0       Europe   \n",
       "Denmark                    DK                  DNK    5806081.0       Europe   \n",
       "Denmark                    DK                  DNK    5806081.0       Europe   \n",
       "Denmark                    DK                  DNK    5806081.0       Europe   \n",
       "Denmark                    DK                  DNK    5806081.0       Europe   \n",
       "Denmark                    DK                  DNK    5806081.0       Europe   \n",
       "Denmark                    DK                  DNK    5806081.0       Europe   \n",
       "Denmark                    DK                  DNK    5806081.0       Europe   \n",
       "Denmark                    DK                  DNK    5806081.0       Europe   \n",
       "Denmark                    DK                  DNK    5806081.0       Europe   \n",
       "Denmark                    DK                  DNK    5806081.0       Europe   \n",
       "Denmark                    DK                  DNK    5806081.0       Europe   \n",
       "Denmark                    DK                  DNK    5806081.0       Europe   \n",
       "Denmark                    DK                  DNK    5806081.0       Europe   \n",
       "Denmark                    DK                  DNK    5806081.0       Europe   \n",
       "Denmark                    DK                  DNK    5806081.0       Europe   \n",
       "Denmark                    DK                  DNK    5806081.0       Europe   \n",
       "Denmark                    DK                  DNK    5806081.0       Europe   \n",
       "Denmark                    DK                  DNK    5806081.0       Europe   \n",
       "Denmark                    DK                  DNK    5806081.0       Europe   \n",
       "Denmark                    DK                  DNK    5806081.0       Europe   \n",
       "Denmark                    DK                  DNK    5806081.0       Europe   \n",
       "Denmark                    DK                  DNK    5806081.0       Europe   \n",
       "Denmark                    DK                  DNK    5806081.0       Europe   \n",
       "Denmark                    DK                  DNK    5806081.0       Europe   \n",
       "Denmark                    DK                  DNK    5806081.0       Europe   \n",
       "Denmark                    DK                  DNK    5806081.0       Europe   \n",
       "Denmark                    DK                  DNK    5806081.0       Europe   \n",
       "Denmark                    DK                  DNK    5806081.0       Europe   \n",
       "\n",
       "                         notification_rate_per_100000_population_14-days  \n",
       "countriesAndTerritories                                                   \n",
       "Denmark                                                           364.86  \n",
       "Denmark                                                           505.95  \n",
       "Denmark                                                           590.36  \n",
       "Denmark                                                           750.78  \n",
       "Denmark                                                           754.92  \n",
       "Denmark                                                           523.69  \n",
       "Denmark                                                           346.50  \n",
       "Denmark                                                           296.52  \n",
       "Denmark                                                           264.62  \n",
       "Denmark                                                           255.54  \n",
       "Denmark                                                           254.30  \n",
       "Denmark                                                           205.08  \n",
       "Denmark                                                           136.65  \n",
       "Denmark                                                            98.38  \n",
       "Denmark                                                            99.64  \n",
       "Denmark                                                           134.91  \n",
       "Denmark                                                           127.81  \n",
       "Denmark                                                            74.06  \n",
       "Denmark                                                            43.33  \n",
       "Denmark                                                            24.46  \n",
       "Denmark                                                            18.65  \n",
       "Denmark                                                            29.02  \n",
       "Denmark                                                            31.48  \n",
       "Denmark                                                            17.29  \n",
       "Denmark                                                            10.61  \n",
       "Denmark                                                             8.47  \n",
       "Denmark                                                             5.87  \n",
       "Denmark                                                             4.67  \n",
       "Denmark                                                             7.60  \n",
       "Denmark                                                             8.30  \n",
       "Denmark                                                             7.63  \n",
       "Denmark                                                             9.03  \n",
       "Denmark                                                            10.13  \n",
       "Denmark                                                            12.78  \n",
       "Denmark                                                            16.03  \n",
       "Denmark                                                            24.18  \n",
       "Denmark                                                            31.93  \n",
       "Denmark                                                            36.84  \n",
       "Denmark                                                            41.35  \n",
       "Denmark                                                            51.93  \n",
       "Denmark                                                            65.09  \n",
       "Denmark                                                            51.22  \n",
       "Denmark                                                            26.18  \n",
       "Denmark                                                            23.37  \n",
       "Denmark                                                            15.00  \n",
       "Denmark                                                             0.65  \n",
       "Denmark                                                             0.07  \n",
       "Denmark                                                             0.00  \n",
       "Denmark                                                             0.00  \n",
       "Denmark                                                             0.00  \n",
       "Denmark                                                             0.00  \n",
       "Denmark                                                             0.00  \n",
       "Denmark                                                             0.00  \n",
       "Denmark                                                             0.00  \n",
       "Denmark                                                              NaN  "
      ]
     },
     "execution_count": 24,
     "metadata": {},
     "output_type": "execute_result"
    }
   ],
   "source": [
    "df.set_index('countriesAndTerritories').loc['Denmark']"
   ]
  },
  {
   "cell_type": "markdown",
   "metadata": {
    "slideshow": {
     "slide_type": "subslide"
    }
   },
   "source": [
    "### Sitenote: Plot cases for Denmark\n",
    "\n",
    "Pandas can directly interact with matplotlib plotting functionality on the `DataFrame`"
   ]
  },
  {
   "cell_type": "code",
   "execution_count": 25,
   "metadata": {
    "slideshow": {
     "slide_type": "fragment"
    }
   },
   "outputs": [
    {
     "data": {
      "text/html": [
       "<div>\n",
       "<style scoped>\n",
       "    .dataframe tbody tr th:only-of-type {\n",
       "        vertical-align: middle;\n",
       "    }\n",
       "\n",
       "    .dataframe tbody tr th {\n",
       "        vertical-align: top;\n",
       "    }\n",
       "\n",
       "    .dataframe thead th {\n",
       "        text-align: right;\n",
       "    }\n",
       "</style>\n",
       "<table border=\"1\" class=\"dataframe\">\n",
       "  <thead>\n",
       "    <tr style=\"text-align: right;\">\n",
       "      <th></th>\n",
       "      <th>countriesAndTerritories</th>\n",
       "      <th>year_week</th>\n",
       "      <th>cases_weekly</th>\n",
       "      <th>deaths_weekly</th>\n",
       "      <th>geoId</th>\n",
       "      <th>countryterritoryCode</th>\n",
       "      <th>popData2019</th>\n",
       "      <th>continentExp</th>\n",
       "      <th>notification_rate_per_100000_population_14-days</th>\n",
       "    </tr>\n",
       "    <tr>\n",
       "      <th>dateRep</th>\n",
       "      <th></th>\n",
       "      <th></th>\n",
       "      <th></th>\n",
       "      <th></th>\n",
       "      <th></th>\n",
       "      <th></th>\n",
       "      <th></th>\n",
       "      <th></th>\n",
       "      <th></th>\n",
       "    </tr>\n",
       "  </thead>\n",
       "  <tbody>\n",
       "    <tr>\n",
       "      <th>2020-01-06</th>\n",
       "      <td>Denmark</td>\n",
       "      <td>2020-01</td>\n",
       "      <td>0</td>\n",
       "      <td>0</td>\n",
       "      <td>DK</td>\n",
       "      <td>DNK</td>\n",
       "      <td>5806081.0</td>\n",
       "      <td>Europe</td>\n",
       "      <td>NaN</td>\n",
       "    </tr>\n",
       "    <tr>\n",
       "      <th>2020-01-13</th>\n",
       "      <td>Denmark</td>\n",
       "      <td>2020-02</td>\n",
       "      <td>0</td>\n",
       "      <td>0</td>\n",
       "      <td>DK</td>\n",
       "      <td>DNK</td>\n",
       "      <td>5806081.0</td>\n",
       "      <td>Europe</td>\n",
       "      <td>0.00</td>\n",
       "    </tr>\n",
       "    <tr>\n",
       "      <th>2020-01-20</th>\n",
       "      <td>Denmark</td>\n",
       "      <td>2020-03</td>\n",
       "      <td>0</td>\n",
       "      <td>0</td>\n",
       "      <td>DK</td>\n",
       "      <td>DNK</td>\n",
       "      <td>5806081.0</td>\n",
       "      <td>Europe</td>\n",
       "      <td>0.00</td>\n",
       "    </tr>\n",
       "    <tr>\n",
       "      <th>2020-01-27</th>\n",
       "      <td>Denmark</td>\n",
       "      <td>2020-04</td>\n",
       "      <td>0</td>\n",
       "      <td>0</td>\n",
       "      <td>DK</td>\n",
       "      <td>DNK</td>\n",
       "      <td>5806081.0</td>\n",
       "      <td>Europe</td>\n",
       "      <td>0.00</td>\n",
       "    </tr>\n",
       "    <tr>\n",
       "      <th>2020-02-03</th>\n",
       "      <td>Denmark</td>\n",
       "      <td>2020-05</td>\n",
       "      <td>0</td>\n",
       "      <td>0</td>\n",
       "      <td>DK</td>\n",
       "      <td>DNK</td>\n",
       "      <td>5806081.0</td>\n",
       "      <td>Europe</td>\n",
       "      <td>0.00</td>\n",
       "    </tr>\n",
       "    <tr>\n",
       "      <th>2020-02-10</th>\n",
       "      <td>Denmark</td>\n",
       "      <td>2020-06</td>\n",
       "      <td>0</td>\n",
       "      <td>0</td>\n",
       "      <td>DK</td>\n",
       "      <td>DNK</td>\n",
       "      <td>5806081.0</td>\n",
       "      <td>Europe</td>\n",
       "      <td>0.00</td>\n",
       "    </tr>\n",
       "    <tr>\n",
       "      <th>2020-02-17</th>\n",
       "      <td>Denmark</td>\n",
       "      <td>2020-07</td>\n",
       "      <td>0</td>\n",
       "      <td>0</td>\n",
       "      <td>DK</td>\n",
       "      <td>DNK</td>\n",
       "      <td>5806081.0</td>\n",
       "      <td>Europe</td>\n",
       "      <td>0.00</td>\n",
       "    </tr>\n",
       "    <tr>\n",
       "      <th>2020-02-24</th>\n",
       "      <td>Denmark</td>\n",
       "      <td>2020-08</td>\n",
       "      <td>0</td>\n",
       "      <td>0</td>\n",
       "      <td>DK</td>\n",
       "      <td>DNK</td>\n",
       "      <td>5806081.0</td>\n",
       "      <td>Europe</td>\n",
       "      <td>0.00</td>\n",
       "    </tr>\n",
       "    <tr>\n",
       "      <th>2020-03-02</th>\n",
       "      <td>Denmark</td>\n",
       "      <td>2020-09</td>\n",
       "      <td>4</td>\n",
       "      <td>0</td>\n",
       "      <td>DK</td>\n",
       "      <td>DNK</td>\n",
       "      <td>5806081.0</td>\n",
       "      <td>Europe</td>\n",
       "      <td>0.07</td>\n",
       "    </tr>\n",
       "    <tr>\n",
       "      <th>2020-03-09</th>\n",
       "      <td>Denmark</td>\n",
       "      <td>2020-10</td>\n",
       "      <td>34</td>\n",
       "      <td>0</td>\n",
       "      <td>DK</td>\n",
       "      <td>DNK</td>\n",
       "      <td>5806081.0</td>\n",
       "      <td>Europe</td>\n",
       "      <td>0.65</td>\n",
       "    </tr>\n",
       "    <tr>\n",
       "      <th>2020-03-16</th>\n",
       "      <td>Denmark</td>\n",
       "      <td>2020-11</td>\n",
       "      <td>837</td>\n",
       "      <td>1</td>\n",
       "      <td>DK</td>\n",
       "      <td>DNK</td>\n",
       "      <td>5806081.0</td>\n",
       "      <td>Europe</td>\n",
       "      <td>15.00</td>\n",
       "    </tr>\n",
       "    <tr>\n",
       "      <th>2020-03-23</th>\n",
       "      <td>Denmark</td>\n",
       "      <td>2020-12</td>\n",
       "      <td>520</td>\n",
       "      <td>12</td>\n",
       "      <td>DK</td>\n",
       "      <td>DNK</td>\n",
       "      <td>5806081.0</td>\n",
       "      <td>Europe</td>\n",
       "      <td>23.37</td>\n",
       "    </tr>\n",
       "    <tr>\n",
       "      <th>2020-03-30</th>\n",
       "      <td>Denmark</td>\n",
       "      <td>2020-13</td>\n",
       "      <td>1000</td>\n",
       "      <td>59</td>\n",
       "      <td>DK</td>\n",
       "      <td>DNK</td>\n",
       "      <td>5806081.0</td>\n",
       "      <td>Europe</td>\n",
       "      <td>26.18</td>\n",
       "    </tr>\n",
       "    <tr>\n",
       "      <th>2020-04-06</th>\n",
       "      <td>Denmark</td>\n",
       "      <td>2020-14</td>\n",
       "      <td>1974</td>\n",
       "      <td>107</td>\n",
       "      <td>DK</td>\n",
       "      <td>DNK</td>\n",
       "      <td>5806081.0</td>\n",
       "      <td>Europe</td>\n",
       "      <td>51.22</td>\n",
       "    </tr>\n",
       "    <tr>\n",
       "      <th>2020-04-13</th>\n",
       "      <td>Denmark</td>\n",
       "      <td>2020-15</td>\n",
       "      <td>1805</td>\n",
       "      <td>94</td>\n",
       "      <td>DK</td>\n",
       "      <td>DNK</td>\n",
       "      <td>5806081.0</td>\n",
       "      <td>Europe</td>\n",
       "      <td>65.09</td>\n",
       "    </tr>\n",
       "    <tr>\n",
       "      <th>2020-04-20</th>\n",
       "      <td>Denmark</td>\n",
       "      <td>2020-16</td>\n",
       "      <td>1210</td>\n",
       "      <td>82</td>\n",
       "      <td>DK</td>\n",
       "      <td>DNK</td>\n",
       "      <td>5806081.0</td>\n",
       "      <td>Europe</td>\n",
       "      <td>51.93</td>\n",
       "    </tr>\n",
       "    <tr>\n",
       "      <th>2020-04-27</th>\n",
       "      <td>Denmark</td>\n",
       "      <td>2020-17</td>\n",
       "      <td>1191</td>\n",
       "      <td>67</td>\n",
       "      <td>DK</td>\n",
       "      <td>DNK</td>\n",
       "      <td>5806081.0</td>\n",
       "      <td>Europe</td>\n",
       "      <td>41.35</td>\n",
       "    </tr>\n",
       "    <tr>\n",
       "      <th>2020-05-04</th>\n",
       "      <td>Denmark</td>\n",
       "      <td>2020-18</td>\n",
       "      <td>948</td>\n",
       "      <td>59</td>\n",
       "      <td>DK</td>\n",
       "      <td>DNK</td>\n",
       "      <td>5806081.0</td>\n",
       "      <td>Europe</td>\n",
       "      <td>36.84</td>\n",
       "    </tr>\n",
       "    <tr>\n",
       "      <th>2020-05-11</th>\n",
       "      <td>Denmark</td>\n",
       "      <td>2020-19</td>\n",
       "      <td>906</td>\n",
       "      <td>38</td>\n",
       "      <td>DK</td>\n",
       "      <td>DNK</td>\n",
       "      <td>5806081.0</td>\n",
       "      <td>Europe</td>\n",
       "      <td>31.93</td>\n",
       "    </tr>\n",
       "    <tr>\n",
       "      <th>2020-05-18</th>\n",
       "      <td>Denmark</td>\n",
       "      <td>2020-20</td>\n",
       "      <td>498</td>\n",
       "      <td>28</td>\n",
       "      <td>DK</td>\n",
       "      <td>DNK</td>\n",
       "      <td>5806081.0</td>\n",
       "      <td>Europe</td>\n",
       "      <td>24.18</td>\n",
       "    </tr>\n",
       "    <tr>\n",
       "      <th>2020-05-25</th>\n",
       "      <td>Denmark</td>\n",
       "      <td>2020-21</td>\n",
       "      <td>433</td>\n",
       "      <td>15</td>\n",
       "      <td>DK</td>\n",
       "      <td>DNK</td>\n",
       "      <td>5806081.0</td>\n",
       "      <td>Europe</td>\n",
       "      <td>16.03</td>\n",
       "    </tr>\n",
       "    <tr>\n",
       "      <th>2020-06-01</th>\n",
       "      <td>Denmark</td>\n",
       "      <td>2020-22</td>\n",
       "      <td>309</td>\n",
       "      <td>12</td>\n",
       "      <td>DK</td>\n",
       "      <td>DNK</td>\n",
       "      <td>5806081.0</td>\n",
       "      <td>Europe</td>\n",
       "      <td>12.78</td>\n",
       "    </tr>\n",
       "    <tr>\n",
       "      <th>2020-06-08</th>\n",
       "      <td>Denmark</td>\n",
       "      <td>2020-23</td>\n",
       "      <td>279</td>\n",
       "      <td>15</td>\n",
       "      <td>DK</td>\n",
       "      <td>DNK</td>\n",
       "      <td>5806081.0</td>\n",
       "      <td>Europe</td>\n",
       "      <td>10.13</td>\n",
       "    </tr>\n",
       "    <tr>\n",
       "      <th>2020-06-15</th>\n",
       "      <td>Denmark</td>\n",
       "      <td>2020-24</td>\n",
       "      <td>245</td>\n",
       "      <td>8</td>\n",
       "      <td>DK</td>\n",
       "      <td>DNK</td>\n",
       "      <td>5806081.0</td>\n",
       "      <td>Europe</td>\n",
       "      <td>9.03</td>\n",
       "    </tr>\n",
       "    <tr>\n",
       "      <th>2020-06-22</th>\n",
       "      <td>Denmark</td>\n",
       "      <td>2020-25</td>\n",
       "      <td>198</td>\n",
       "      <td>3</td>\n",
       "      <td>DK</td>\n",
       "      <td>DNK</td>\n",
       "      <td>5806081.0</td>\n",
       "      <td>Europe</td>\n",
       "      <td>7.63</td>\n",
       "    </tr>\n",
       "    <tr>\n",
       "      <th>2020-06-29</th>\n",
       "      <td>Denmark</td>\n",
       "      <td>2020-26</td>\n",
       "      <td>284</td>\n",
       "      <td>4</td>\n",
       "      <td>DK</td>\n",
       "      <td>DNK</td>\n",
       "      <td>5806081.0</td>\n",
       "      <td>Europe</td>\n",
       "      <td>8.30</td>\n",
       "    </tr>\n",
       "    <tr>\n",
       "      <th>2020-07-06</th>\n",
       "      <td>Denmark</td>\n",
       "      <td>2020-27</td>\n",
       "      <td>157</td>\n",
       "      <td>2</td>\n",
       "      <td>DK</td>\n",
       "      <td>DNK</td>\n",
       "      <td>5806081.0</td>\n",
       "      <td>Europe</td>\n",
       "      <td>7.60</td>\n",
       "    </tr>\n",
       "    <tr>\n",
       "      <th>2020-07-13</th>\n",
       "      <td>Denmark</td>\n",
       "      <td>2020-28</td>\n",
       "      <td>114</td>\n",
       "      <td>3</td>\n",
       "      <td>DK</td>\n",
       "      <td>DNK</td>\n",
       "      <td>5806081.0</td>\n",
       "      <td>Europe</td>\n",
       "      <td>4.67</td>\n",
       "    </tr>\n",
       "    <tr>\n",
       "      <th>2020-07-20</th>\n",
       "      <td>Denmark</td>\n",
       "      <td>2020-29</td>\n",
       "      <td>227</td>\n",
       "      <td>2</td>\n",
       "      <td>DK</td>\n",
       "      <td>DNK</td>\n",
       "      <td>5806081.0</td>\n",
       "      <td>Europe</td>\n",
       "      <td>5.87</td>\n",
       "    </tr>\n",
       "    <tr>\n",
       "      <th>2020-07-27</th>\n",
       "      <td>Denmark</td>\n",
       "      <td>2020-30</td>\n",
       "      <td>265</td>\n",
       "      <td>2</td>\n",
       "      <td>DK</td>\n",
       "      <td>DNK</td>\n",
       "      <td>5806081.0</td>\n",
       "      <td>Europe</td>\n",
       "      <td>8.47</td>\n",
       "    </tr>\n",
       "    <tr>\n",
       "      <th>2020-08-03</th>\n",
       "      <td>Denmark</td>\n",
       "      <td>2020-31</td>\n",
       "      <td>351</td>\n",
       "      <td>2</td>\n",
       "      <td>DK</td>\n",
       "      <td>DNK</td>\n",
       "      <td>5806081.0</td>\n",
       "      <td>Europe</td>\n",
       "      <td>10.61</td>\n",
       "    </tr>\n",
       "    <tr>\n",
       "      <th>2020-08-10</th>\n",
       "      <td>Denmark</td>\n",
       "      <td>2020-32</td>\n",
       "      <td>653</td>\n",
       "      <td>2</td>\n",
       "      <td>DK</td>\n",
       "      <td>DNK</td>\n",
       "      <td>5806081.0</td>\n",
       "      <td>Europe</td>\n",
       "      <td>17.29</td>\n",
       "    </tr>\n",
       "    <tr>\n",
       "      <th>2020-08-17</th>\n",
       "      <td>Denmark</td>\n",
       "      <td>2020-33</td>\n",
       "      <td>1175</td>\n",
       "      <td>4</td>\n",
       "      <td>DK</td>\n",
       "      <td>DNK</td>\n",
       "      <td>5806081.0</td>\n",
       "      <td>Europe</td>\n",
       "      <td>31.48</td>\n",
       "    </tr>\n",
       "    <tr>\n",
       "      <th>2020-08-24</th>\n",
       "      <td>Denmark</td>\n",
       "      <td>2020-34</td>\n",
       "      <td>510</td>\n",
       "      <td>0</td>\n",
       "      <td>DK</td>\n",
       "      <td>DNK</td>\n",
       "      <td>5806081.0</td>\n",
       "      <td>Europe</td>\n",
       "      <td>29.02</td>\n",
       "    </tr>\n",
       "    <tr>\n",
       "      <th>2020-08-31</th>\n",
       "      <td>Denmark</td>\n",
       "      <td>2020-35</td>\n",
       "      <td>573</td>\n",
       "      <td>3</td>\n",
       "      <td>DK</td>\n",
       "      <td>DNK</td>\n",
       "      <td>5806081.0</td>\n",
       "      <td>Europe</td>\n",
       "      <td>18.65</td>\n",
       "    </tr>\n",
       "    <tr>\n",
       "      <th>2020-09-07</th>\n",
       "      <td>Denmark</td>\n",
       "      <td>2020-36</td>\n",
       "      <td>847</td>\n",
       "      <td>3</td>\n",
       "      <td>DK</td>\n",
       "      <td>DNK</td>\n",
       "      <td>5806081.0</td>\n",
       "      <td>Europe</td>\n",
       "      <td>24.46</td>\n",
       "    </tr>\n",
       "    <tr>\n",
       "      <th>2020-09-14</th>\n",
       "      <td>Denmark</td>\n",
       "      <td>2020-37</td>\n",
       "      <td>1669</td>\n",
       "      <td>2</td>\n",
       "      <td>DK</td>\n",
       "      <td>DNK</td>\n",
       "      <td>5806081.0</td>\n",
       "      <td>Europe</td>\n",
       "      <td>43.33</td>\n",
       "    </tr>\n",
       "    <tr>\n",
       "      <th>2020-09-21</th>\n",
       "      <td>Denmark</td>\n",
       "      <td>2020-38</td>\n",
       "      <td>2631</td>\n",
       "      <td>6</td>\n",
       "      <td>DK</td>\n",
       "      <td>DNK</td>\n",
       "      <td>5806081.0</td>\n",
       "      <td>Europe</td>\n",
       "      <td>74.06</td>\n",
       "    </tr>\n",
       "    <tr>\n",
       "      <th>2020-09-28</th>\n",
       "      <td>Denmark</td>\n",
       "      <td>2020-39</td>\n",
       "      <td>4790</td>\n",
       "      <td>14</td>\n",
       "      <td>DK</td>\n",
       "      <td>DNK</td>\n",
       "      <td>5806081.0</td>\n",
       "      <td>Europe</td>\n",
       "      <td>127.81</td>\n",
       "    </tr>\n",
       "    <tr>\n",
       "      <th>2020-10-05</th>\n",
       "      <td>Denmark</td>\n",
       "      <td>2020-40</td>\n",
       "      <td>3043</td>\n",
       "      <td>9</td>\n",
       "      <td>DK</td>\n",
       "      <td>DNK</td>\n",
       "      <td>5806081.0</td>\n",
       "      <td>Europe</td>\n",
       "      <td>134.91</td>\n",
       "    </tr>\n",
       "    <tr>\n",
       "      <th>2020-10-12</th>\n",
       "      <td>Denmark</td>\n",
       "      <td>2020-41</td>\n",
       "      <td>2742</td>\n",
       "      <td>11</td>\n",
       "      <td>DK</td>\n",
       "      <td>DNK</td>\n",
       "      <td>5806081.0</td>\n",
       "      <td>Europe</td>\n",
       "      <td>99.64</td>\n",
       "    </tr>\n",
       "    <tr>\n",
       "      <th>2020-10-19</th>\n",
       "      <td>Denmark</td>\n",
       "      <td>2020-42</td>\n",
       "      <td>2970</td>\n",
       "      <td>11</td>\n",
       "      <td>DK</td>\n",
       "      <td>DNK</td>\n",
       "      <td>5806081.0</td>\n",
       "      <td>Europe</td>\n",
       "      <td>98.38</td>\n",
       "    </tr>\n",
       "    <tr>\n",
       "      <th>2020-10-26</th>\n",
       "      <td>Denmark</td>\n",
       "      <td>2020-43</td>\n",
       "      <td>4964</td>\n",
       "      <td>22</td>\n",
       "      <td>DK</td>\n",
       "      <td>DNK</td>\n",
       "      <td>5806081.0</td>\n",
       "      <td>Europe</td>\n",
       "      <td>136.65</td>\n",
       "    </tr>\n",
       "    <tr>\n",
       "      <th>2020-11-02</th>\n",
       "      <td>Denmark</td>\n",
       "      <td>2020-44</td>\n",
       "      <td>6943</td>\n",
       "      <td>21</td>\n",
       "      <td>DK</td>\n",
       "      <td>DNK</td>\n",
       "      <td>5806081.0</td>\n",
       "      <td>Europe</td>\n",
       "      <td>205.08</td>\n",
       "    </tr>\n",
       "    <tr>\n",
       "      <th>2020-11-09</th>\n",
       "      <td>Denmark</td>\n",
       "      <td>2020-45</td>\n",
       "      <td>7822</td>\n",
       "      <td>20</td>\n",
       "      <td>DK</td>\n",
       "      <td>DNK</td>\n",
       "      <td>5806081.0</td>\n",
       "      <td>Europe</td>\n",
       "      <td>254.30</td>\n",
       "    </tr>\n",
       "    <tr>\n",
       "      <th>2020-11-16</th>\n",
       "      <td>Denmark</td>\n",
       "      <td>2020-46</td>\n",
       "      <td>7015</td>\n",
       "      <td>17</td>\n",
       "      <td>DK</td>\n",
       "      <td>DNK</td>\n",
       "      <td>5806081.0</td>\n",
       "      <td>Europe</td>\n",
       "      <td>255.54</td>\n",
       "    </tr>\n",
       "    <tr>\n",
       "      <th>2020-11-23</th>\n",
       "      <td>Denmark</td>\n",
       "      <td>2020-47</td>\n",
       "      <td>8349</td>\n",
       "      <td>24</td>\n",
       "      <td>DK</td>\n",
       "      <td>DNK</td>\n",
       "      <td>5806081.0</td>\n",
       "      <td>Europe</td>\n",
       "      <td>264.62</td>\n",
       "    </tr>\n",
       "    <tr>\n",
       "      <th>2020-11-30</th>\n",
       "      <td>Denmark</td>\n",
       "      <td>2020-48</td>\n",
       "      <td>8867</td>\n",
       "      <td>45</td>\n",
       "      <td>DK</td>\n",
       "      <td>DNK</td>\n",
       "      <td>5806081.0</td>\n",
       "      <td>Europe</td>\n",
       "      <td>296.52</td>\n",
       "    </tr>\n",
       "    <tr>\n",
       "      <th>2020-12-07</th>\n",
       "      <td>Denmark</td>\n",
       "      <td>2020-49</td>\n",
       "      <td>11251</td>\n",
       "      <td>56</td>\n",
       "      <td>DK</td>\n",
       "      <td>DNK</td>\n",
       "      <td>5806081.0</td>\n",
       "      <td>Europe</td>\n",
       "      <td>346.50</td>\n",
       "    </tr>\n",
       "    <tr>\n",
       "      <th>2020-12-14</th>\n",
       "      <td>Denmark</td>\n",
       "      <td>2020-50</td>\n",
       "      <td>19155</td>\n",
       "      <td>56</td>\n",
       "      <td>DK</td>\n",
       "      <td>DNK</td>\n",
       "      <td>5806081.0</td>\n",
       "      <td>Europe</td>\n",
       "      <td>523.69</td>\n",
       "    </tr>\n",
       "    <tr>\n",
       "      <th>2020-12-21</th>\n",
       "      <td>Denmark</td>\n",
       "      <td>2020-51</td>\n",
       "      <td>24676</td>\n",
       "      <td>94</td>\n",
       "      <td>DK</td>\n",
       "      <td>DNK</td>\n",
       "      <td>5806081.0</td>\n",
       "      <td>Europe</td>\n",
       "      <td>754.92</td>\n",
       "    </tr>\n",
       "    <tr>\n",
       "      <th>2020-12-28</th>\n",
       "      <td>Denmark</td>\n",
       "      <td>2020-52</td>\n",
       "      <td>18915</td>\n",
       "      <td>169</td>\n",
       "      <td>DK</td>\n",
       "      <td>DNK</td>\n",
       "      <td>5806081.0</td>\n",
       "      <td>Europe</td>\n",
       "      <td>750.78</td>\n",
       "    </tr>\n",
       "    <tr>\n",
       "      <th>2021-01-04</th>\n",
       "      <td>Denmark</td>\n",
       "      <td>2020-53</td>\n",
       "      <td>15362</td>\n",
       "      <td>170</td>\n",
       "      <td>DK</td>\n",
       "      <td>DNK</td>\n",
       "      <td>5806081.0</td>\n",
       "      <td>Europe</td>\n",
       "      <td>590.36</td>\n",
       "    </tr>\n",
       "    <tr>\n",
       "      <th>2021-01-11</th>\n",
       "      <td>Denmark</td>\n",
       "      <td>2021-01</td>\n",
       "      <td>14014</td>\n",
       "      <td>223</td>\n",
       "      <td>DK</td>\n",
       "      <td>DNK</td>\n",
       "      <td>5806081.0</td>\n",
       "      <td>Europe</td>\n",
       "      <td>505.95</td>\n",
       "    </tr>\n",
       "    <tr>\n",
       "      <th>2021-01-18</th>\n",
       "      <td>Denmark</td>\n",
       "      <td>2021-02</td>\n",
       "      <td>7170</td>\n",
       "      <td>208</td>\n",
       "      <td>DK</td>\n",
       "      <td>DNK</td>\n",
       "      <td>5806081.0</td>\n",
       "      <td>Europe</td>\n",
       "      <td>364.86</td>\n",
       "    </tr>\n",
       "  </tbody>\n",
       "</table>\n",
       "</div>"
      ],
      "text/plain": [
       "           countriesAndTerritories year_week  cases_weekly  deaths_weekly  \\\n",
       "dateRep                                                                     \n",
       "2020-01-06                 Denmark   2020-01             0              0   \n",
       "2020-01-13                 Denmark   2020-02             0              0   \n",
       "2020-01-20                 Denmark   2020-03             0              0   \n",
       "2020-01-27                 Denmark   2020-04             0              0   \n",
       "2020-02-03                 Denmark   2020-05             0              0   \n",
       "2020-02-10                 Denmark   2020-06             0              0   \n",
       "2020-02-17                 Denmark   2020-07             0              0   \n",
       "2020-02-24                 Denmark   2020-08             0              0   \n",
       "2020-03-02                 Denmark   2020-09             4              0   \n",
       "2020-03-09                 Denmark   2020-10            34              0   \n",
       "2020-03-16                 Denmark   2020-11           837              1   \n",
       "2020-03-23                 Denmark   2020-12           520             12   \n",
       "2020-03-30                 Denmark   2020-13          1000             59   \n",
       "2020-04-06                 Denmark   2020-14          1974            107   \n",
       "2020-04-13                 Denmark   2020-15          1805             94   \n",
       "2020-04-20                 Denmark   2020-16          1210             82   \n",
       "2020-04-27                 Denmark   2020-17          1191             67   \n",
       "2020-05-04                 Denmark   2020-18           948             59   \n",
       "2020-05-11                 Denmark   2020-19           906             38   \n",
       "2020-05-18                 Denmark   2020-20           498             28   \n",
       "2020-05-25                 Denmark   2020-21           433             15   \n",
       "2020-06-01                 Denmark   2020-22           309             12   \n",
       "2020-06-08                 Denmark   2020-23           279             15   \n",
       "2020-06-15                 Denmark   2020-24           245              8   \n",
       "2020-06-22                 Denmark   2020-25           198              3   \n",
       "2020-06-29                 Denmark   2020-26           284              4   \n",
       "2020-07-06                 Denmark   2020-27           157              2   \n",
       "2020-07-13                 Denmark   2020-28           114              3   \n",
       "2020-07-20                 Denmark   2020-29           227              2   \n",
       "2020-07-27                 Denmark   2020-30           265              2   \n",
       "2020-08-03                 Denmark   2020-31           351              2   \n",
       "2020-08-10                 Denmark   2020-32           653              2   \n",
       "2020-08-17                 Denmark   2020-33          1175              4   \n",
       "2020-08-24                 Denmark   2020-34           510              0   \n",
       "2020-08-31                 Denmark   2020-35           573              3   \n",
       "2020-09-07                 Denmark   2020-36           847              3   \n",
       "2020-09-14                 Denmark   2020-37          1669              2   \n",
       "2020-09-21                 Denmark   2020-38          2631              6   \n",
       "2020-09-28                 Denmark   2020-39          4790             14   \n",
       "2020-10-05                 Denmark   2020-40          3043              9   \n",
       "2020-10-12                 Denmark   2020-41          2742             11   \n",
       "2020-10-19                 Denmark   2020-42          2970             11   \n",
       "2020-10-26                 Denmark   2020-43          4964             22   \n",
       "2020-11-02                 Denmark   2020-44          6943             21   \n",
       "2020-11-09                 Denmark   2020-45          7822             20   \n",
       "2020-11-16                 Denmark   2020-46          7015             17   \n",
       "2020-11-23                 Denmark   2020-47          8349             24   \n",
       "2020-11-30                 Denmark   2020-48          8867             45   \n",
       "2020-12-07                 Denmark   2020-49         11251             56   \n",
       "2020-12-14                 Denmark   2020-50         19155             56   \n",
       "2020-12-21                 Denmark   2020-51         24676             94   \n",
       "2020-12-28                 Denmark   2020-52         18915            169   \n",
       "2021-01-04                 Denmark   2020-53         15362            170   \n",
       "2021-01-11                 Denmark   2021-01         14014            223   \n",
       "2021-01-18                 Denmark   2021-02          7170            208   \n",
       "\n",
       "           geoId countryterritoryCode  popData2019 continentExp  \\\n",
       "dateRep                                                           \n",
       "2020-01-06    DK                  DNK    5806081.0       Europe   \n",
       "2020-01-13    DK                  DNK    5806081.0       Europe   \n",
       "2020-01-20    DK                  DNK    5806081.0       Europe   \n",
       "2020-01-27    DK                  DNK    5806081.0       Europe   \n",
       "2020-02-03    DK                  DNK    5806081.0       Europe   \n",
       "2020-02-10    DK                  DNK    5806081.0       Europe   \n",
       "2020-02-17    DK                  DNK    5806081.0       Europe   \n",
       "2020-02-24    DK                  DNK    5806081.0       Europe   \n",
       "2020-03-02    DK                  DNK    5806081.0       Europe   \n",
       "2020-03-09    DK                  DNK    5806081.0       Europe   \n",
       "2020-03-16    DK                  DNK    5806081.0       Europe   \n",
       "2020-03-23    DK                  DNK    5806081.0       Europe   \n",
       "2020-03-30    DK                  DNK    5806081.0       Europe   \n",
       "2020-04-06    DK                  DNK    5806081.0       Europe   \n",
       "2020-04-13    DK                  DNK    5806081.0       Europe   \n",
       "2020-04-20    DK                  DNK    5806081.0       Europe   \n",
       "2020-04-27    DK                  DNK    5806081.0       Europe   \n",
       "2020-05-04    DK                  DNK    5806081.0       Europe   \n",
       "2020-05-11    DK                  DNK    5806081.0       Europe   \n",
       "2020-05-18    DK                  DNK    5806081.0       Europe   \n",
       "2020-05-25    DK                  DNK    5806081.0       Europe   \n",
       "2020-06-01    DK                  DNK    5806081.0       Europe   \n",
       "2020-06-08    DK                  DNK    5806081.0       Europe   \n",
       "2020-06-15    DK                  DNK    5806081.0       Europe   \n",
       "2020-06-22    DK                  DNK    5806081.0       Europe   \n",
       "2020-06-29    DK                  DNK    5806081.0       Europe   \n",
       "2020-07-06    DK                  DNK    5806081.0       Europe   \n",
       "2020-07-13    DK                  DNK    5806081.0       Europe   \n",
       "2020-07-20    DK                  DNK    5806081.0       Europe   \n",
       "2020-07-27    DK                  DNK    5806081.0       Europe   \n",
       "2020-08-03    DK                  DNK    5806081.0       Europe   \n",
       "2020-08-10    DK                  DNK    5806081.0       Europe   \n",
       "2020-08-17    DK                  DNK    5806081.0       Europe   \n",
       "2020-08-24    DK                  DNK    5806081.0       Europe   \n",
       "2020-08-31    DK                  DNK    5806081.0       Europe   \n",
       "2020-09-07    DK                  DNK    5806081.0       Europe   \n",
       "2020-09-14    DK                  DNK    5806081.0       Europe   \n",
       "2020-09-21    DK                  DNK    5806081.0       Europe   \n",
       "2020-09-28    DK                  DNK    5806081.0       Europe   \n",
       "2020-10-05    DK                  DNK    5806081.0       Europe   \n",
       "2020-10-12    DK                  DNK    5806081.0       Europe   \n",
       "2020-10-19    DK                  DNK    5806081.0       Europe   \n",
       "2020-10-26    DK                  DNK    5806081.0       Europe   \n",
       "2020-11-02    DK                  DNK    5806081.0       Europe   \n",
       "2020-11-09    DK                  DNK    5806081.0       Europe   \n",
       "2020-11-16    DK                  DNK    5806081.0       Europe   \n",
       "2020-11-23    DK                  DNK    5806081.0       Europe   \n",
       "2020-11-30    DK                  DNK    5806081.0       Europe   \n",
       "2020-12-07    DK                  DNK    5806081.0       Europe   \n",
       "2020-12-14    DK                  DNK    5806081.0       Europe   \n",
       "2020-12-21    DK                  DNK    5806081.0       Europe   \n",
       "2020-12-28    DK                  DNK    5806081.0       Europe   \n",
       "2021-01-04    DK                  DNK    5806081.0       Europe   \n",
       "2021-01-11    DK                  DNK    5806081.0       Europe   \n",
       "2021-01-18    DK                  DNK    5806081.0       Europe   \n",
       "\n",
       "            notification_rate_per_100000_population_14-days  \n",
       "dateRep                                                      \n",
       "2020-01-06                                              NaN  \n",
       "2020-01-13                                             0.00  \n",
       "2020-01-20                                             0.00  \n",
       "2020-01-27                                             0.00  \n",
       "2020-02-03                                             0.00  \n",
       "2020-02-10                                             0.00  \n",
       "2020-02-17                                             0.00  \n",
       "2020-02-24                                             0.00  \n",
       "2020-03-02                                             0.07  \n",
       "2020-03-09                                             0.65  \n",
       "2020-03-16                                            15.00  \n",
       "2020-03-23                                            23.37  \n",
       "2020-03-30                                            26.18  \n",
       "2020-04-06                                            51.22  \n",
       "2020-04-13                                            65.09  \n",
       "2020-04-20                                            51.93  \n",
       "2020-04-27                                            41.35  \n",
       "2020-05-04                                            36.84  \n",
       "2020-05-11                                            31.93  \n",
       "2020-05-18                                            24.18  \n",
       "2020-05-25                                            16.03  \n",
       "2020-06-01                                            12.78  \n",
       "2020-06-08                                            10.13  \n",
       "2020-06-15                                             9.03  \n",
       "2020-06-22                                             7.63  \n",
       "2020-06-29                                             8.30  \n",
       "2020-07-06                                             7.60  \n",
       "2020-07-13                                             4.67  \n",
       "2020-07-20                                             5.87  \n",
       "2020-07-27                                             8.47  \n",
       "2020-08-03                                            10.61  \n",
       "2020-08-10                                            17.29  \n",
       "2020-08-17                                            31.48  \n",
       "2020-08-24                                            29.02  \n",
       "2020-08-31                                            18.65  \n",
       "2020-09-07                                            24.46  \n",
       "2020-09-14                                            43.33  \n",
       "2020-09-21                                            74.06  \n",
       "2020-09-28                                           127.81  \n",
       "2020-10-05                                           134.91  \n",
       "2020-10-12                                            99.64  \n",
       "2020-10-19                                            98.38  \n",
       "2020-10-26                                           136.65  \n",
       "2020-11-02                                           205.08  \n",
       "2020-11-09                                           254.30  \n",
       "2020-11-16                                           255.54  \n",
       "2020-11-23                                           264.62  \n",
       "2020-11-30                                           296.52  \n",
       "2020-12-07                                           346.50  \n",
       "2020-12-14                                           523.69  \n",
       "2020-12-21                                           754.92  \n",
       "2020-12-28                                           750.78  \n",
       "2021-01-04                                           590.36  \n",
       "2021-01-11                                           505.95  \n",
       "2021-01-18                                           364.86  "
      ]
     },
     "metadata": {},
     "output_type": "display_data"
    },
    {
     "data": {
      "image/png": "[encoded data removed]",
      "text/plain": [
       "<Figure size 432x288 with 1 Axes>"
      ]
     },
     "metadata": {
      "needs_background": "light"
     },
     "output_type": "display_data"
    }
   ],
   "source": [
    "df_denmark = df.set_index('countriesAndTerritories').loc['Denmark'].reset_index(\n",
    "                        ).set_index('dateRep').sort_index()\n",
    "display(df_denmark)\n",
    "# df.plot(x='dateRep', y='cases')\n",
    "_ = df_denmark.plot(y='cases_weekly')  # data is the DataFrame itself"
   ]
  },
  {
   "cell_type": "markdown",
   "metadata": {
    "slideshow": {
     "slide_type": "subslide"
    }
   },
   "source": [
    "### Exercise 2\n",
    "\n",
    "Please open the file [`titanic.csv`]('https://raw.githubusercontent.com/mwaskom/seaborn-data/master/titanic.csv') (using `pd.read_csv`) and use it to answer the following questions about the rdataset. If you reach the end of the exercises, explore the dataset and DataFrames more and see what you can find about it!"
   ]
  },
  {
   "cell_type": "markdown",
   "metadata": {
    "slideshow": {
     "slide_type": "fragment"
    }
   },
   "source": [
    "Display the first 5 lines of the dataset."
   ]
  },
  {
   "cell_type": "code",
   "execution_count": 26,
   "metadata": {
    "slideshow": {
     "slide_type": "fragment"
    }
   },
   "outputs": [],
   "source": [
    "url = 'https://raw.githubusercontent.com/mwaskom/seaborn-data/master/titanic.csv'\n",
    "titanic = pd.read_csv(url)"
   ]
  },
  {
   "cell_type": "markdown",
   "metadata": {
    "slideshow": {
     "slide_type": "fragment"
    }
   },
   "source": [
    "Show the last 3 lines of the \"alive\" column."
   ]
  },
  {
   "cell_type": "code",
   "execution_count": null,
   "metadata": {
    "slideshow": {
     "slide_type": "fragment"
    }
   },
   "outputs": [],
   "source": []
  },
  {
   "cell_type": "markdown",
   "metadata": {
    "slideshow": {
     "slide_type": "fragment"
    }
   },
   "source": [
    "Check 3 random lines of the dataset"
   ]
  },
  {
   "cell_type": "code",
   "execution_count": null,
   "metadata": {
    "slideshow": {
     "slide_type": "fragment"
    }
   },
   "outputs": [],
   "source": []
  },
  {
   "cell_type": "markdown",
   "metadata": {
    "slideshow": {
     "slide_type": "fragment"
    }
   },
   "source": [
    "Make a new dataframe containing just the \"survived\", \"sex\", and \"age\" columns"
   ]
  },
  {
   "cell_type": "code",
   "execution_count": null,
   "metadata": {
    "slideshow": {
     "slide_type": "fragment"
    }
   },
   "outputs": [],
   "source": []
  },
  {
   "cell_type": "markdown",
   "metadata": {
    "slideshow": {
     "slide_type": "fragment"
    }
   },
   "source": [
    "Make a new dataframe containing just the 10th, 15th and 16th lines of the dataset"
   ]
  },
  {
   "cell_type": "code",
   "execution_count": null,
   "metadata": {
    "slideshow": {
     "slide_type": "fragment"
    }
   },
   "outputs": [],
   "source": []
  },
  {
   "cell_type": "markdown",
   "metadata": {
    "slideshow": {
     "slide_type": "slide"
    }
   },
   "source": [
    "## Query/Filtering Data\n",
    "\n",
    "To get rows based on their value, Pandas supports both Numpy's logical indexing:\n",
    "\n",
    "```python\n",
    "select_rows = df[df['Column1'] > 0]\n",
    "```\n",
    "\n",
    "and an SQL-like query string:\n",
    "    \n",
    "```python\n",
    "df.query('Colummn1 > 0')\n",
    "```\n",
    "\n",
    "One can also filter based on multiple conditions, using the element-wise (\"bit-wise\") logical operators **`&`** data intersection, or **`|`** for the data union.\n",
    "\n",
    "```python\n",
    "select_rows = df[(df['Column1'] > 0) & (df['Column2'] > 2)]\n",
    "```\n",
    "\n",
    "```python\n",
    "select_rows = df[(df['Column1'] > 0) | (df['Column2'] > 2)]\n",
    "```\n",
    "\n",
    "consider  first creating the mask (`Series` of `True` and `False` values indicating if a row is selected)\n",
    "\n",
    "```python\n",
    "mask = (df['Column1'] > 0) | (df['Column2'] > 2)\n",
    "select_rows = df[mask]\n",
    "```\n",
    "\n",
    "Checkout the methods [`pandas.Series.isin`](https://pandas.pydata.org/pandas-docs/stable/reference/api/pandas.Series.isin.html) or  [`pandas.Series.betweeen`](https://pandas.pydata.org/pandas-docs/stable/reference/api/pandas.Series.between.html?highlight=between#pandas.Series.between)"
   ]
  },
  {
   "cell_type": "code",
   "execution_count": 27,
   "metadata": {
    "slideshow": {
     "slide_type": "fragment"
    }
   },
   "outputs": [
    {
     "data": {
      "text/html": [
       "<div>\n",
       "<style scoped>\n",
       "    .dataframe tbody tr th:only-of-type {\n",
       "        vertical-align: middle;\n",
       "    }\n",
       "\n",
       "    .dataframe tbody tr th {\n",
       "        vertical-align: top;\n",
       "    }\n",
       "\n",
       "    .dataframe thead th {\n",
       "        text-align: right;\n",
       "    }\n",
       "</style>\n",
       "<table border=\"1\" class=\"dataframe\">\n",
       "  <thead>\n",
       "    <tr style=\"text-align: right;\">\n",
       "      <th></th>\n",
       "      <th>dateRep</th>\n",
       "      <th>year_week</th>\n",
       "      <th>cases_weekly</th>\n",
       "      <th>deaths_weekly</th>\n",
       "      <th>countriesAndTerritories</th>\n",
       "      <th>geoId</th>\n",
       "      <th>countryterritoryCode</th>\n",
       "      <th>popData2019</th>\n",
       "      <th>continentExp</th>\n",
       "      <th>notification_rate_per_100000_population_14-days</th>\n",
       "    </tr>\n",
       "  </thead>\n",
       "  <tbody>\n",
       "    <tr>\n",
       "      <th>2514</th>\n",
       "      <td>2021-01-18</td>\n",
       "      <td>2021-02</td>\n",
       "      <td>7170</td>\n",
       "      <td>208</td>\n",
       "      <td>Denmark</td>\n",
       "      <td>DK</td>\n",
       "      <td>DNK</td>\n",
       "      <td>5806081.0</td>\n",
       "      <td>Europe</td>\n",
       "      <td>364.86</td>\n",
       "    </tr>\n",
       "    <tr>\n",
       "      <th>2515</th>\n",
       "      <td>2021-01-11</td>\n",
       "      <td>2021-01</td>\n",
       "      <td>14014</td>\n",
       "      <td>223</td>\n",
       "      <td>Denmark</td>\n",
       "      <td>DK</td>\n",
       "      <td>DNK</td>\n",
       "      <td>5806081.0</td>\n",
       "      <td>Europe</td>\n",
       "      <td>505.95</td>\n",
       "    </tr>\n",
       "    <tr>\n",
       "      <th>2516</th>\n",
       "      <td>2021-01-04</td>\n",
       "      <td>2020-53</td>\n",
       "      <td>15362</td>\n",
       "      <td>170</td>\n",
       "      <td>Denmark</td>\n",
       "      <td>DK</td>\n",
       "      <td>DNK</td>\n",
       "      <td>5806081.0</td>\n",
       "      <td>Europe</td>\n",
       "      <td>590.36</td>\n",
       "    </tr>\n",
       "    <tr>\n",
       "      <th>2517</th>\n",
       "      <td>2020-12-28</td>\n",
       "      <td>2020-52</td>\n",
       "      <td>18915</td>\n",
       "      <td>169</td>\n",
       "      <td>Denmark</td>\n",
       "      <td>DK</td>\n",
       "      <td>DNK</td>\n",
       "      <td>5806081.0</td>\n",
       "      <td>Europe</td>\n",
       "      <td>750.78</td>\n",
       "    </tr>\n",
       "    <tr>\n",
       "      <th>2518</th>\n",
       "      <td>2020-12-21</td>\n",
       "      <td>2020-51</td>\n",
       "      <td>24676</td>\n",
       "      <td>94</td>\n",
       "      <td>Denmark</td>\n",
       "      <td>DK</td>\n",
       "      <td>DNK</td>\n",
       "      <td>5806081.0</td>\n",
       "      <td>Europe</td>\n",
       "      <td>754.92</td>\n",
       "    </tr>\n",
       "    <tr>\n",
       "      <th>2519</th>\n",
       "      <td>2020-12-14</td>\n",
       "      <td>2020-50</td>\n",
       "      <td>19155</td>\n",
       "      <td>56</td>\n",
       "      <td>Denmark</td>\n",
       "      <td>DK</td>\n",
       "      <td>DNK</td>\n",
       "      <td>5806081.0</td>\n",
       "      <td>Europe</td>\n",
       "      <td>523.69</td>\n",
       "    </tr>\n",
       "    <tr>\n",
       "      <th>2520</th>\n",
       "      <td>2020-12-07</td>\n",
       "      <td>2020-49</td>\n",
       "      <td>11251</td>\n",
       "      <td>56</td>\n",
       "      <td>Denmark</td>\n",
       "      <td>DK</td>\n",
       "      <td>DNK</td>\n",
       "      <td>5806081.0</td>\n",
       "      <td>Europe</td>\n",
       "      <td>346.50</td>\n",
       "    </tr>\n",
       "    <tr>\n",
       "      <th>2521</th>\n",
       "      <td>2020-11-30</td>\n",
       "      <td>2020-48</td>\n",
       "      <td>8867</td>\n",
       "      <td>45</td>\n",
       "      <td>Denmark</td>\n",
       "      <td>DK</td>\n",
       "      <td>DNK</td>\n",
       "      <td>5806081.0</td>\n",
       "      <td>Europe</td>\n",
       "      <td>296.52</td>\n",
       "    </tr>\n",
       "    <tr>\n",
       "      <th>2522</th>\n",
       "      <td>2020-11-23</td>\n",
       "      <td>2020-47</td>\n",
       "      <td>8349</td>\n",
       "      <td>24</td>\n",
       "      <td>Denmark</td>\n",
       "      <td>DK</td>\n",
       "      <td>DNK</td>\n",
       "      <td>5806081.0</td>\n",
       "      <td>Europe</td>\n",
       "      <td>264.62</td>\n",
       "    </tr>\n",
       "    <tr>\n",
       "      <th>2523</th>\n",
       "      <td>2020-11-16</td>\n",
       "      <td>2020-46</td>\n",
       "      <td>7015</td>\n",
       "      <td>17</td>\n",
       "      <td>Denmark</td>\n",
       "      <td>DK</td>\n",
       "      <td>DNK</td>\n",
       "      <td>5806081.0</td>\n",
       "      <td>Europe</td>\n",
       "      <td>255.54</td>\n",
       "    </tr>\n",
       "    <tr>\n",
       "      <th>2524</th>\n",
       "      <td>2020-11-09</td>\n",
       "      <td>2020-45</td>\n",
       "      <td>7822</td>\n",
       "      <td>20</td>\n",
       "      <td>Denmark</td>\n",
       "      <td>DK</td>\n",
       "      <td>DNK</td>\n",
       "      <td>5806081.0</td>\n",
       "      <td>Europe</td>\n",
       "      <td>254.30</td>\n",
       "    </tr>\n",
       "    <tr>\n",
       "      <th>2525</th>\n",
       "      <td>2020-11-02</td>\n",
       "      <td>2020-44</td>\n",
       "      <td>6943</td>\n",
       "      <td>21</td>\n",
       "      <td>Denmark</td>\n",
       "      <td>DK</td>\n",
       "      <td>DNK</td>\n",
       "      <td>5806081.0</td>\n",
       "      <td>Europe</td>\n",
       "      <td>205.08</td>\n",
       "    </tr>\n",
       "    <tr>\n",
       "      <th>2526</th>\n",
       "      <td>2020-10-26</td>\n",
       "      <td>2020-43</td>\n",
       "      <td>4964</td>\n",
       "      <td>22</td>\n",
       "      <td>Denmark</td>\n",
       "      <td>DK</td>\n",
       "      <td>DNK</td>\n",
       "      <td>5806081.0</td>\n",
       "      <td>Europe</td>\n",
       "      <td>136.65</td>\n",
       "    </tr>\n",
       "    <tr>\n",
       "      <th>2527</th>\n",
       "      <td>2020-10-19</td>\n",
       "      <td>2020-42</td>\n",
       "      <td>2970</td>\n",
       "      <td>11</td>\n",
       "      <td>Denmark</td>\n",
       "      <td>DK</td>\n",
       "      <td>DNK</td>\n",
       "      <td>5806081.0</td>\n",
       "      <td>Europe</td>\n",
       "      <td>98.38</td>\n",
       "    </tr>\n",
       "    <tr>\n",
       "      <th>2528</th>\n",
       "      <td>2020-10-12</td>\n",
       "      <td>2020-41</td>\n",
       "      <td>2742</td>\n",
       "      <td>11</td>\n",
       "      <td>Denmark</td>\n",
       "      <td>DK</td>\n",
       "      <td>DNK</td>\n",
       "      <td>5806081.0</td>\n",
       "      <td>Europe</td>\n",
       "      <td>99.64</td>\n",
       "    </tr>\n",
       "    <tr>\n",
       "      <th>2529</th>\n",
       "      <td>2020-10-05</td>\n",
       "      <td>2020-40</td>\n",
       "      <td>3043</td>\n",
       "      <td>9</td>\n",
       "      <td>Denmark</td>\n",
       "      <td>DK</td>\n",
       "      <td>DNK</td>\n",
       "      <td>5806081.0</td>\n",
       "      <td>Europe</td>\n",
       "      <td>134.91</td>\n",
       "    </tr>\n",
       "    <tr>\n",
       "      <th>2530</th>\n",
       "      <td>2020-09-28</td>\n",
       "      <td>2020-39</td>\n",
       "      <td>4790</td>\n",
       "      <td>14</td>\n",
       "      <td>Denmark</td>\n",
       "      <td>DK</td>\n",
       "      <td>DNK</td>\n",
       "      <td>5806081.0</td>\n",
       "      <td>Europe</td>\n",
       "      <td>127.81</td>\n",
       "    </tr>\n",
       "    <tr>\n",
       "      <th>2531</th>\n",
       "      <td>2020-09-21</td>\n",
       "      <td>2020-38</td>\n",
       "      <td>2631</td>\n",
       "      <td>6</td>\n",
       "      <td>Denmark</td>\n",
       "      <td>DK</td>\n",
       "      <td>DNK</td>\n",
       "      <td>5806081.0</td>\n",
       "      <td>Europe</td>\n",
       "      <td>74.06</td>\n",
       "    </tr>\n",
       "    <tr>\n",
       "      <th>2532</th>\n",
       "      <td>2020-09-14</td>\n",
       "      <td>2020-37</td>\n",
       "      <td>1669</td>\n",
       "      <td>2</td>\n",
       "      <td>Denmark</td>\n",
       "      <td>DK</td>\n",
       "      <td>DNK</td>\n",
       "      <td>5806081.0</td>\n",
       "      <td>Europe</td>\n",
       "      <td>43.33</td>\n",
       "    </tr>\n",
       "    <tr>\n",
       "      <th>2533</th>\n",
       "      <td>2020-09-07</td>\n",
       "      <td>2020-36</td>\n",
       "      <td>847</td>\n",
       "      <td>3</td>\n",
       "      <td>Denmark</td>\n",
       "      <td>DK</td>\n",
       "      <td>DNK</td>\n",
       "      <td>5806081.0</td>\n",
       "      <td>Europe</td>\n",
       "      <td>24.46</td>\n",
       "    </tr>\n",
       "    <tr>\n",
       "      <th>2534</th>\n",
       "      <td>2020-08-31</td>\n",
       "      <td>2020-35</td>\n",
       "      <td>573</td>\n",
       "      <td>3</td>\n",
       "      <td>Denmark</td>\n",
       "      <td>DK</td>\n",
       "      <td>DNK</td>\n",
       "      <td>5806081.0</td>\n",
       "      <td>Europe</td>\n",
       "      <td>18.65</td>\n",
       "    </tr>\n",
       "    <tr>\n",
       "      <th>2535</th>\n",
       "      <td>2020-08-24</td>\n",
       "      <td>2020-34</td>\n",
       "      <td>510</td>\n",
       "      <td>0</td>\n",
       "      <td>Denmark</td>\n",
       "      <td>DK</td>\n",
       "      <td>DNK</td>\n",
       "      <td>5806081.0</td>\n",
       "      <td>Europe</td>\n",
       "      <td>29.02</td>\n",
       "    </tr>\n",
       "    <tr>\n",
       "      <th>2536</th>\n",
       "      <td>2020-08-17</td>\n",
       "      <td>2020-33</td>\n",
       "      <td>1175</td>\n",
       "      <td>4</td>\n",
       "      <td>Denmark</td>\n",
       "      <td>DK</td>\n",
       "      <td>DNK</td>\n",
       "      <td>5806081.0</td>\n",
       "      <td>Europe</td>\n",
       "      <td>31.48</td>\n",
       "    </tr>\n",
       "    <tr>\n",
       "      <th>2537</th>\n",
       "      <td>2020-08-10</td>\n",
       "      <td>2020-32</td>\n",
       "      <td>653</td>\n",
       "      <td>2</td>\n",
       "      <td>Denmark</td>\n",
       "      <td>DK</td>\n",
       "      <td>DNK</td>\n",
       "      <td>5806081.0</td>\n",
       "      <td>Europe</td>\n",
       "      <td>17.29</td>\n",
       "    </tr>\n",
       "    <tr>\n",
       "      <th>2538</th>\n",
       "      <td>2020-08-03</td>\n",
       "      <td>2020-31</td>\n",
       "      <td>351</td>\n",
       "      <td>2</td>\n",
       "      <td>Denmark</td>\n",
       "      <td>DK</td>\n",
       "      <td>DNK</td>\n",
       "      <td>5806081.0</td>\n",
       "      <td>Europe</td>\n",
       "      <td>10.61</td>\n",
       "    </tr>\n",
       "    <tr>\n",
       "      <th>2539</th>\n",
       "      <td>2020-07-27</td>\n",
       "      <td>2020-30</td>\n",
       "      <td>265</td>\n",
       "      <td>2</td>\n",
       "      <td>Denmark</td>\n",
       "      <td>DK</td>\n",
       "      <td>DNK</td>\n",
       "      <td>5806081.0</td>\n",
       "      <td>Europe</td>\n",
       "      <td>8.47</td>\n",
       "    </tr>\n",
       "    <tr>\n",
       "      <th>2540</th>\n",
       "      <td>2020-07-20</td>\n",
       "      <td>2020-29</td>\n",
       "      <td>227</td>\n",
       "      <td>2</td>\n",
       "      <td>Denmark</td>\n",
       "      <td>DK</td>\n",
       "      <td>DNK</td>\n",
       "      <td>5806081.0</td>\n",
       "      <td>Europe</td>\n",
       "      <td>5.87</td>\n",
       "    </tr>\n",
       "    <tr>\n",
       "      <th>2541</th>\n",
       "      <td>2020-07-13</td>\n",
       "      <td>2020-28</td>\n",
       "      <td>114</td>\n",
       "      <td>3</td>\n",
       "      <td>Denmark</td>\n",
       "      <td>DK</td>\n",
       "      <td>DNK</td>\n",
       "      <td>5806081.0</td>\n",
       "      <td>Europe</td>\n",
       "      <td>4.67</td>\n",
       "    </tr>\n",
       "    <tr>\n",
       "      <th>2542</th>\n",
       "      <td>2020-07-06</td>\n",
       "      <td>2020-27</td>\n",
       "      <td>157</td>\n",
       "      <td>2</td>\n",
       "      <td>Denmark</td>\n",
       "      <td>DK</td>\n",
       "      <td>DNK</td>\n",
       "      <td>5806081.0</td>\n",
       "      <td>Europe</td>\n",
       "      <td>7.60</td>\n",
       "    </tr>\n",
       "    <tr>\n",
       "      <th>2543</th>\n",
       "      <td>2020-06-29</td>\n",
       "      <td>2020-26</td>\n",
       "      <td>284</td>\n",
       "      <td>4</td>\n",
       "      <td>Denmark</td>\n",
       "      <td>DK</td>\n",
       "      <td>DNK</td>\n",
       "      <td>5806081.0</td>\n",
       "      <td>Europe</td>\n",
       "      <td>8.30</td>\n",
       "    </tr>\n",
       "    <tr>\n",
       "      <th>2544</th>\n",
       "      <td>2020-06-22</td>\n",
       "      <td>2020-25</td>\n",
       "      <td>198</td>\n",
       "      <td>3</td>\n",
       "      <td>Denmark</td>\n",
       "      <td>DK</td>\n",
       "      <td>DNK</td>\n",
       "      <td>5806081.0</td>\n",
       "      <td>Europe</td>\n",
       "      <td>7.63</td>\n",
       "    </tr>\n",
       "    <tr>\n",
       "      <th>2545</th>\n",
       "      <td>2020-06-15</td>\n",
       "      <td>2020-24</td>\n",
       "      <td>245</td>\n",
       "      <td>8</td>\n",
       "      <td>Denmark</td>\n",
       "      <td>DK</td>\n",
       "      <td>DNK</td>\n",
       "      <td>5806081.0</td>\n",
       "      <td>Europe</td>\n",
       "      <td>9.03</td>\n",
       "    </tr>\n",
       "    <tr>\n",
       "      <th>2546</th>\n",
       "      <td>2020-06-08</td>\n",
       "      <td>2020-23</td>\n",
       "      <td>279</td>\n",
       "      <td>15</td>\n",
       "      <td>Denmark</td>\n",
       "      <td>DK</td>\n",
       "      <td>DNK</td>\n",
       "      <td>5806081.0</td>\n",
       "      <td>Europe</td>\n",
       "      <td>10.13</td>\n",
       "    </tr>\n",
       "    <tr>\n",
       "      <th>2547</th>\n",
       "      <td>2020-06-01</td>\n",
       "      <td>2020-22</td>\n",
       "      <td>309</td>\n",
       "      <td>12</td>\n",
       "      <td>Denmark</td>\n",
       "      <td>DK</td>\n",
       "      <td>DNK</td>\n",
       "      <td>5806081.0</td>\n",
       "      <td>Europe</td>\n",
       "      <td>12.78</td>\n",
       "    </tr>\n",
       "    <tr>\n",
       "      <th>2548</th>\n",
       "      <td>2020-05-25</td>\n",
       "      <td>2020-21</td>\n",
       "      <td>433</td>\n",
       "      <td>15</td>\n",
       "      <td>Denmark</td>\n",
       "      <td>DK</td>\n",
       "      <td>DNK</td>\n",
       "      <td>5806081.0</td>\n",
       "      <td>Europe</td>\n",
       "      <td>16.03</td>\n",
       "    </tr>\n",
       "    <tr>\n",
       "      <th>2549</th>\n",
       "      <td>2020-05-18</td>\n",
       "      <td>2020-20</td>\n",
       "      <td>498</td>\n",
       "      <td>28</td>\n",
       "      <td>Denmark</td>\n",
       "      <td>DK</td>\n",
       "      <td>DNK</td>\n",
       "      <td>5806081.0</td>\n",
       "      <td>Europe</td>\n",
       "      <td>24.18</td>\n",
       "    </tr>\n",
       "    <tr>\n",
       "      <th>2550</th>\n",
       "      <td>2020-05-11</td>\n",
       "      <td>2020-19</td>\n",
       "      <td>906</td>\n",
       "      <td>38</td>\n",
       "      <td>Denmark</td>\n",
       "      <td>DK</td>\n",
       "      <td>DNK</td>\n",
       "      <td>5806081.0</td>\n",
       "      <td>Europe</td>\n",
       "      <td>31.93</td>\n",
       "    </tr>\n",
       "    <tr>\n",
       "      <th>2551</th>\n",
       "      <td>2020-05-04</td>\n",
       "      <td>2020-18</td>\n",
       "      <td>948</td>\n",
       "      <td>59</td>\n",
       "      <td>Denmark</td>\n",
       "      <td>DK</td>\n",
       "      <td>DNK</td>\n",
       "      <td>5806081.0</td>\n",
       "      <td>Europe</td>\n",
       "      <td>36.84</td>\n",
       "    </tr>\n",
       "    <tr>\n",
       "      <th>2552</th>\n",
       "      <td>2020-04-27</td>\n",
       "      <td>2020-17</td>\n",
       "      <td>1191</td>\n",
       "      <td>67</td>\n",
       "      <td>Denmark</td>\n",
       "      <td>DK</td>\n",
       "      <td>DNK</td>\n",
       "      <td>5806081.0</td>\n",
       "      <td>Europe</td>\n",
       "      <td>41.35</td>\n",
       "    </tr>\n",
       "    <tr>\n",
       "      <th>2553</th>\n",
       "      <td>2020-04-20</td>\n",
       "      <td>2020-16</td>\n",
       "      <td>1210</td>\n",
       "      <td>82</td>\n",
       "      <td>Denmark</td>\n",
       "      <td>DK</td>\n",
       "      <td>DNK</td>\n",
       "      <td>5806081.0</td>\n",
       "      <td>Europe</td>\n",
       "      <td>51.93</td>\n",
       "    </tr>\n",
       "    <tr>\n",
       "      <th>2554</th>\n",
       "      <td>2020-04-13</td>\n",
       "      <td>2020-15</td>\n",
       "      <td>1805</td>\n",
       "      <td>94</td>\n",
       "      <td>Denmark</td>\n",
       "      <td>DK</td>\n",
       "      <td>DNK</td>\n",
       "      <td>5806081.0</td>\n",
       "      <td>Europe</td>\n",
       "      <td>65.09</td>\n",
       "    </tr>\n",
       "    <tr>\n",
       "      <th>2555</th>\n",
       "      <td>2020-04-06</td>\n",
       "      <td>2020-14</td>\n",
       "      <td>1974</td>\n",
       "      <td>107</td>\n",
       "      <td>Denmark</td>\n",
       "      <td>DK</td>\n",
       "      <td>DNK</td>\n",
       "      <td>5806081.0</td>\n",
       "      <td>Europe</td>\n",
       "      <td>51.22</td>\n",
       "    </tr>\n",
       "    <tr>\n",
       "      <th>2556</th>\n",
       "      <td>2020-03-30</td>\n",
       "      <td>2020-13</td>\n",
       "      <td>1000</td>\n",
       "      <td>59</td>\n",
       "      <td>Denmark</td>\n",
       "      <td>DK</td>\n",
       "      <td>DNK</td>\n",
       "      <td>5806081.0</td>\n",
       "      <td>Europe</td>\n",
       "      <td>26.18</td>\n",
       "    </tr>\n",
       "    <tr>\n",
       "      <th>2557</th>\n",
       "      <td>2020-03-23</td>\n",
       "      <td>2020-12</td>\n",
       "      <td>520</td>\n",
       "      <td>12</td>\n",
       "      <td>Denmark</td>\n",
       "      <td>DK</td>\n",
       "      <td>DNK</td>\n",
       "      <td>5806081.0</td>\n",
       "      <td>Europe</td>\n",
       "      <td>23.37</td>\n",
       "    </tr>\n",
       "    <tr>\n",
       "      <th>2558</th>\n",
       "      <td>2020-03-16</td>\n",
       "      <td>2020-11</td>\n",
       "      <td>837</td>\n",
       "      <td>1</td>\n",
       "      <td>Denmark</td>\n",
       "      <td>DK</td>\n",
       "      <td>DNK</td>\n",
       "      <td>5806081.0</td>\n",
       "      <td>Europe</td>\n",
       "      <td>15.00</td>\n",
       "    </tr>\n",
       "    <tr>\n",
       "      <th>2559</th>\n",
       "      <td>2020-03-09</td>\n",
       "      <td>2020-10</td>\n",
       "      <td>34</td>\n",
       "      <td>0</td>\n",
       "      <td>Denmark</td>\n",
       "      <td>DK</td>\n",
       "      <td>DNK</td>\n",
       "      <td>5806081.0</td>\n",
       "      <td>Europe</td>\n",
       "      <td>0.65</td>\n",
       "    </tr>\n",
       "    <tr>\n",
       "      <th>2560</th>\n",
       "      <td>2020-03-02</td>\n",
       "      <td>2020-09</td>\n",
       "      <td>4</td>\n",
       "      <td>0</td>\n",
       "      <td>Denmark</td>\n",
       "      <td>DK</td>\n",
       "      <td>DNK</td>\n",
       "      <td>5806081.0</td>\n",
       "      <td>Europe</td>\n",
       "      <td>0.07</td>\n",
       "    </tr>\n",
       "    <tr>\n",
       "      <th>2561</th>\n",
       "      <td>2020-02-24</td>\n",
       "      <td>2020-08</td>\n",
       "      <td>0</td>\n",
       "      <td>0</td>\n",
       "      <td>Denmark</td>\n",
       "      <td>DK</td>\n",
       "      <td>DNK</td>\n",
       "      <td>5806081.0</td>\n",
       "      <td>Europe</td>\n",
       "      <td>0.00</td>\n",
       "    </tr>\n",
       "    <tr>\n",
       "      <th>2562</th>\n",
       "      <td>2020-02-17</td>\n",
       "      <td>2020-07</td>\n",
       "      <td>0</td>\n",
       "      <td>0</td>\n",
       "      <td>Denmark</td>\n",
       "      <td>DK</td>\n",
       "      <td>DNK</td>\n",
       "      <td>5806081.0</td>\n",
       "      <td>Europe</td>\n",
       "      <td>0.00</td>\n",
       "    </tr>\n",
       "    <tr>\n",
       "      <th>2563</th>\n",
       "      <td>2020-02-10</td>\n",
       "      <td>2020-06</td>\n",
       "      <td>0</td>\n",
       "      <td>0</td>\n",
       "      <td>Denmark</td>\n",
       "      <td>DK</td>\n",
       "      <td>DNK</td>\n",
       "      <td>5806081.0</td>\n",
       "      <td>Europe</td>\n",
       "      <td>0.00</td>\n",
       "    </tr>\n",
       "    <tr>\n",
       "      <th>2564</th>\n",
       "      <td>2020-02-03</td>\n",
       "      <td>2020-05</td>\n",
       "      <td>0</td>\n",
       "      <td>0</td>\n",
       "      <td>Denmark</td>\n",
       "      <td>DK</td>\n",
       "      <td>DNK</td>\n",
       "      <td>5806081.0</td>\n",
       "      <td>Europe</td>\n",
       "      <td>0.00</td>\n",
       "    </tr>\n",
       "    <tr>\n",
       "      <th>2565</th>\n",
       "      <td>2020-01-27</td>\n",
       "      <td>2020-04</td>\n",
       "      <td>0</td>\n",
       "      <td>0</td>\n",
       "      <td>Denmark</td>\n",
       "      <td>DK</td>\n",
       "      <td>DNK</td>\n",
       "      <td>5806081.0</td>\n",
       "      <td>Europe</td>\n",
       "      <td>0.00</td>\n",
       "    </tr>\n",
       "    <tr>\n",
       "      <th>2566</th>\n",
       "      <td>2020-01-20</td>\n",
       "      <td>2020-03</td>\n",
       "      <td>0</td>\n",
       "      <td>0</td>\n",
       "      <td>Denmark</td>\n",
       "      <td>DK</td>\n",
       "      <td>DNK</td>\n",
       "      <td>5806081.0</td>\n",
       "      <td>Europe</td>\n",
       "      <td>0.00</td>\n",
       "    </tr>\n",
       "    <tr>\n",
       "      <th>2567</th>\n",
       "      <td>2020-01-13</td>\n",
       "      <td>2020-02</td>\n",
       "      <td>0</td>\n",
       "      <td>0</td>\n",
       "      <td>Denmark</td>\n",
       "      <td>DK</td>\n",
       "      <td>DNK</td>\n",
       "      <td>5806081.0</td>\n",
       "      <td>Europe</td>\n",
       "      <td>0.00</td>\n",
       "    </tr>\n",
       "    <tr>\n",
       "      <th>2568</th>\n",
       "      <td>2020-01-06</td>\n",
       "      <td>2020-01</td>\n",
       "      <td>0</td>\n",
       "      <td>0</td>\n",
       "      <td>Denmark</td>\n",
       "      <td>DK</td>\n",
       "      <td>DNK</td>\n",
       "      <td>5806081.0</td>\n",
       "      <td>Europe</td>\n",
       "      <td>NaN</td>\n",
       "    </tr>\n",
       "  </tbody>\n",
       "</table>\n",
       "</div>"
      ],
      "text/plain": [
       "        dateRep year_week  cases_weekly  deaths_weekly  \\\n",
       "2514 2021-01-18   2021-02          7170            208   \n",
       "2515 2021-01-11   2021-01         14014            223   \n",
       "2516 2021-01-04   2020-53         15362            170   \n",
       "2517 2020-12-28   2020-52         18915            169   \n",
       "2518 2020-12-21   2020-51         24676             94   \n",
       "2519 2020-12-14   2020-50         19155             56   \n",
       "2520 2020-12-07   2020-49         11251             56   \n",
       "2521 2020-11-30   2020-48          8867             45   \n",
       "2522 2020-11-23   2020-47          8349             24   \n",
       "2523 2020-11-16   2020-46          7015             17   \n",
       "2524 2020-11-09   2020-45          7822             20   \n",
       "2525 2020-11-02   2020-44          6943             21   \n",
       "2526 2020-10-26   2020-43          4964             22   \n",
       "2527 2020-10-19   2020-42          2970             11   \n",
       "2528 2020-10-12   2020-41          2742             11   \n",
       "2529 2020-10-05   2020-40          3043              9   \n",
       "2530 2020-09-28   2020-39          4790             14   \n",
       "2531 2020-09-21   2020-38          2631              6   \n",
       "2532 2020-09-14   2020-37          1669              2   \n",
       "2533 2020-09-07   2020-36           847              3   \n",
       "2534 2020-08-31   2020-35           573              3   \n",
       "2535 2020-08-24   2020-34           510              0   \n",
       "2536 2020-08-17   2020-33          1175              4   \n",
       "2537 2020-08-10   2020-32           653              2   \n",
       "2538 2020-08-03   2020-31           351              2   \n",
       "2539 2020-07-27   2020-30           265              2   \n",
       "2540 2020-07-20   2020-29           227              2   \n",
       "2541 2020-07-13   2020-28           114              3   \n",
       "2542 2020-07-06   2020-27           157              2   \n",
       "2543 2020-06-29   2020-26           284              4   \n",
       "2544 2020-06-22   2020-25           198              3   \n",
       "2545 2020-06-15   2020-24           245              8   \n",
       "2546 2020-06-08   2020-23           279             15   \n",
       "2547 2020-06-01   2020-22           309             12   \n",
       "2548 2020-05-25   2020-21           433             15   \n",
       "2549 2020-05-18   2020-20           498             28   \n",
       "2550 2020-05-11   2020-19           906             38   \n",
       "2551 2020-05-04   2020-18           948             59   \n",
       "2552 2020-04-27   2020-17          1191             67   \n",
       "2553 2020-04-20   2020-16          1210             82   \n",
       "2554 2020-04-13   2020-15          1805             94   \n",
       "2555 2020-04-06   2020-14          1974            107   \n",
       "2556 2020-03-30   2020-13          1000             59   \n",
       "2557 2020-03-23   2020-12           520             12   \n",
       "2558 2020-03-16   2020-11           837              1   \n",
       "2559 2020-03-09   2020-10            34              0   \n",
       "2560 2020-03-02   2020-09             4              0   \n",
       "2561 2020-02-24   2020-08             0              0   \n",
       "2562 2020-02-17   2020-07             0              0   \n",
       "2563 2020-02-10   2020-06             0              0   \n",
       "2564 2020-02-03   2020-05             0              0   \n",
       "2565 2020-01-27   2020-04             0              0   \n",
       "2566 2020-01-20   2020-03             0              0   \n",
       "2567 2020-01-13   2020-02             0              0   \n",
       "2568 2020-01-06   2020-01             0              0   \n",
       "\n",
       "     countriesAndTerritories geoId countryterritoryCode  popData2019  \\\n",
       "2514                 Denmark    DK                  DNK    5806081.0   \n",
       "2515                 Denmark    DK                  DNK    5806081.0   \n",
       "2516                 Denmark    DK                  DNK    5806081.0   \n",
       "2517                 Denmark    DK                  DNK    5806081.0   \n",
       "2518                 Denmark    DK                  DNK    5806081.0   \n",
       "2519                 Denmark    DK                  DNK    5806081.0   \n",
       "2520                 Denmark    DK                  DNK    5806081.0   \n",
       "2521                 Denmark    DK                  DNK    5806081.0   \n",
       "2522                 Denmark    DK                  DNK    5806081.0   \n",
       "2523                 Denmark    DK                  DNK    5806081.0   \n",
       "2524                 Denmark    DK                  DNK    5806081.0   \n",
       "2525                 Denmark    DK                  DNK    5806081.0   \n",
       "2526                 Denmark    DK                  DNK    5806081.0   \n",
       "2527                 Denmark    DK                  DNK    5806081.0   \n",
       "2528                 Denmark    DK                  DNK    5806081.0   \n",
       "2529                 Denmark    DK                  DNK    5806081.0   \n",
       "2530                 Denmark    DK                  DNK    5806081.0   \n",
       "2531                 Denmark    DK                  DNK    5806081.0   \n",
       "2532                 Denmark    DK                  DNK    5806081.0   \n",
       "2533                 Denmark    DK                  DNK    5806081.0   \n",
       "2534                 Denmark    DK                  DNK    5806081.0   \n",
       "2535                 Denmark    DK                  DNK    5806081.0   \n",
       "2536                 Denmark    DK                  DNK    5806081.0   \n",
       "2537                 Denmark    DK                  DNK    5806081.0   \n",
       "2538                 Denmark    DK                  DNK    5806081.0   \n",
       "2539                 Denmark    DK                  DNK    5806081.0   \n",
       "2540                 Denmark    DK                  DNK    5806081.0   \n",
       "2541                 Denmark    DK                  DNK    5806081.0   \n",
       "2542                 Denmark    DK                  DNK    5806081.0   \n",
       "2543                 Denmark    DK                  DNK    5806081.0   \n",
       "2544                 Denmark    DK                  DNK    5806081.0   \n",
       "2545                 Denmark    DK                  DNK    5806081.0   \n",
       "2546                 Denmark    DK                  DNK    5806081.0   \n",
       "2547                 Denmark    DK                  DNK    5806081.0   \n",
       "2548                 Denmark    DK                  DNK    5806081.0   \n",
       "2549                 Denmark    DK                  DNK    5806081.0   \n",
       "2550                 Denmark    DK                  DNK    5806081.0   \n",
       "2551                 Denmark    DK                  DNK    5806081.0   \n",
       "2552                 Denmark    DK                  DNK    5806081.0   \n",
       "2553                 Denmark    DK                  DNK    5806081.0   \n",
       "2554                 Denmark    DK                  DNK    5806081.0   \n",
       "2555                 Denmark    DK                  DNK    5806081.0   \n",
       "2556                 Denmark    DK                  DNK    5806081.0   \n",
       "2557                 Denmark    DK                  DNK    5806081.0   \n",
       "2558                 Denmark    DK                  DNK    5806081.0   \n",
       "2559                 Denmark    DK                  DNK    5806081.0   \n",
       "2560                 Denmark    DK                  DNK    5806081.0   \n",
       "2561                 Denmark    DK                  DNK    5806081.0   \n",
       "2562                 Denmark    DK                  DNK    5806081.0   \n",
       "2563                 Denmark    DK                  DNK    5806081.0   \n",
       "2564                 Denmark    DK                  DNK    5806081.0   \n",
       "2565                 Denmark    DK                  DNK    5806081.0   \n",
       "2566                 Denmark    DK                  DNK    5806081.0   \n",
       "2567                 Denmark    DK                  DNK    5806081.0   \n",
       "2568                 Denmark    DK                  DNK    5806081.0   \n",
       "\n",
       "     continentExp  notification_rate_per_100000_population_14-days  \n",
       "2514       Europe                                           364.86  \n",
       "2515       Europe                                           505.95  \n",
       "2516       Europe                                           590.36  \n",
       "2517       Europe                                           750.78  \n",
       "2518       Europe                                           754.92  \n",
       "2519       Europe                                           523.69  \n",
       "2520       Europe                                           346.50  \n",
       "2521       Europe                                           296.52  \n",
       "2522       Europe                                           264.62  \n",
       "2523       Europe                                           255.54  \n",
       "2524       Europe                                           254.30  \n",
       "2525       Europe                                           205.08  \n",
       "2526       Europe                                           136.65  \n",
       "2527       Europe                                            98.38  \n",
       "2528       Europe                                            99.64  \n",
       "2529       Europe                                           134.91  \n",
       "2530       Europe                                           127.81  \n",
       "2531       Europe                                            74.06  \n",
       "2532       Europe                                            43.33  \n",
       "2533       Europe                                            24.46  \n",
       "2534       Europe                                            18.65  \n",
       "2535       Europe                                            29.02  \n",
       "2536       Europe                                            31.48  \n",
       "2537       Europe                                            17.29  \n",
       "2538       Europe                                            10.61  \n",
       "2539       Europe                                             8.47  \n",
       "2540       Europe                                             5.87  \n",
       "2541       Europe                                             4.67  \n",
       "2542       Europe                                             7.60  \n",
       "2543       Europe                                             8.30  \n",
       "2544       Europe                                             7.63  \n",
       "2545       Europe                                             9.03  \n",
       "2546       Europe                                            10.13  \n",
       "2547       Europe                                            12.78  \n",
       "2548       Europe                                            16.03  \n",
       "2549       Europe                                            24.18  \n",
       "2550       Europe                                            31.93  \n",
       "2551       Europe                                            36.84  \n",
       "2552       Europe                                            41.35  \n",
       "2553       Europe                                            51.93  \n",
       "2554       Europe                                            65.09  \n",
       "2555       Europe                                            51.22  \n",
       "2556       Europe                                            26.18  \n",
       "2557       Europe                                            23.37  \n",
       "2558       Europe                                            15.00  \n",
       "2559       Europe                                             0.65  \n",
       "2560       Europe                                             0.07  \n",
       "2561       Europe                                             0.00  \n",
       "2562       Europe                                             0.00  \n",
       "2563       Europe                                             0.00  \n",
       "2564       Europe                                             0.00  \n",
       "2565       Europe                                             0.00  \n",
       "2566       Europe                                             0.00  \n",
       "2567       Europe                                             0.00  \n",
       "2568       Europe                                              NaN  "
      ]
     },
     "execution_count": 27,
     "metadata": {},
     "output_type": "execute_result"
    }
   ],
   "source": [
    "df[df['countriesAndTerritories'] == 'Denmark']  # not persistent"
   ]
  },
  {
   "cell_type": "markdown",
   "metadata": {
    "slideshow": {
     "slide_type": "subslide"
    }
   },
   "source": [
    "### Exercise 3\n",
    "Using the Titanic dataset, let's do some data querying exercises."
   ]
  },
  {
   "cell_type": "markdown",
   "metadata": {
    "slideshow": {
     "slide_type": "fragment"
    }
   },
   "source": [
    "What is ticket fare for the 1st class? The 2nd? The 3rd?"
   ]
  },
  {
   "cell_type": "code",
   "execution_count": null,
   "metadata": {
    "slideshow": {
     "slide_type": "fragment"
    }
   },
   "outputs": [],
   "source": []
  },
  {
   "cell_type": "markdown",
   "metadata": {
    "slideshow": {
     "slide_type": "fragment"
    }
   },
   "source": [
    "Did the oldest passenger on the Titanic survive?"
   ]
  },
  {
   "cell_type": "code",
   "execution_count": null,
   "metadata": {
    "slideshow": {
     "slide_type": "fragment"
    }
   },
   "outputs": [],
   "source": []
  },
  {
   "cell_type": "markdown",
   "metadata": {
    "slideshow": {
     "slide_type": "fragment"
    }
   },
   "source": [
    "Was the youngest passenger on the Titanic alone?"
   ]
  },
  {
   "cell_type": "code",
   "execution_count": null,
   "metadata": {
    "slideshow": {
     "slide_type": "fragment"
    }
   },
   "outputs": [],
   "source": []
  },
  {
   "cell_type": "markdown",
   "metadata": {
    "slideshow": {
     "slide_type": "fragment"
    }
   },
   "source": [
    "How many passengers on the Titanic embarked from Cherbourg?"
   ]
  },
  {
   "cell_type": "code",
   "execution_count": null,
   "metadata": {
    "slideshow": {
     "slide_type": "fragment"
    }
   },
   "outputs": [],
   "source": []
  },
  {
   "cell_type": "markdown",
   "metadata": {
    "slideshow": {
     "slide_type": "fragment"
    }
   },
   "source": [
    "How much money did the Titanic make from passengers from Southampton? From Cherbourg? From Queenstown?"
   ]
  },
  {
   "cell_type": "code",
   "execution_count": null,
   "metadata": {
    "slideshow": {
     "slide_type": "fragment"
    }
   },
   "outputs": [],
   "source": []
  },
  {
   "cell_type": "markdown",
   "metadata": {
    "slideshow": {
     "slide_type": "fragment"
    }
   },
   "source": [
    "Considering only those passengers older than 22, were there more Males travelling alone from Southampton or Females in Third class from Cherbourg?"
   ]
  },
  {
   "cell_type": "code",
   "execution_count": null,
   "metadata": {},
   "outputs": [],
   "source": []
  },
  {
   "cell_type": "code",
   "execution_count": null,
   "metadata": {
    "scrolled": true,
    "slideshow": {
     "slide_type": "fragment"
    }
   },
   "outputs": [],
   "source": []
  },
  {
   "cell_type": "markdown",
   "metadata": {
    "slideshow": {
     "slide_type": "slide"
    }
   },
   "source": [
    "## Summarizing/Statistics in DataFrames\n",
    "\n",
    "Pandas' Series and DataFrames are iterables, and can be given to any function that expects a list or Numpy Array, which allows them to be useful to many different libraries' functions.  For example, to compute basic statistics for a colum (`Series`):\n",
    "\n",
    "```python\n",
    "df.describe() # describe numeric columns\n",
    "df['Column1'].describe() # describe a particular column/series\n",
    "df['Column1'].count()\n",
    "df['Column1'].nunique()\n",
    "df['Column1'].value_counts()\n",
    "\n",
    "df['Column1'].max()\n",
    "df['Column1'].mean()\n",
    "df['Column2'][df['Column1'] == 'string'].sum()\n",
    "```\n",
    "\n",
    "or for row:\n",
    "\n",
    "```python\n",
    "df.loc['row_index_label`].sum() # count, std, mean, etc\n",
    "```\n",
    "\n",
    "or for all columns\n",
    "\n",
    "```python\n",
    "df.mean() # default by column (= over all index)\n",
    "```\n",
    "\n",
    "or for all rows\n",
    "\n",
    "```python\n",
    "df.mean(axis=1)\n",
    "df.mean(axis='columns') # columns axis is axis 1\n",
    "```\n",
    "\n",
    "> What the default axis for a method (or operation) will vary."
   ]
  },
  {
   "cell_type": "code",
   "execution_count": 28,
   "metadata": {
    "slideshow": {
     "slide_type": "fragment"
    }
   },
   "outputs": [
    {
     "data": {
      "text/plain": [
       "cases_weekly                                       9.453561e+03\n",
       "deaths_weekly                                      2.035695e+02\n",
       "popData2019                                        4.033638e+07\n",
       "notification_rate_per_100000_population_14-days    8.084580e+01\n",
       "dtype: float64"
      ]
     },
     "execution_count": 28,
     "metadata": {},
     "output_type": "execute_result"
    }
   ],
   "source": [
    "df.mean(axis='index')  # uses numeric column only, default"
   ]
  },
  {
   "cell_type": "code",
   "execution_count": 29,
   "metadata": {
    "slideshow": {
     "slide_type": "fragment"
    }
   },
   "outputs": [
    {
     "data": {
      "text/plain": [
       "0        9.510591e+06\n",
       "1        9.510627e+06\n",
       "2        9.510682e+06\n",
       "3        9.510962e+06\n",
       "4        9.510654e+06\n",
       "             ...     \n",
       "10000    3.661371e+06\n",
       "10001    3.661370e+06\n",
       "10002    3.661369e+06\n",
       "10003    3.661370e+06\n",
       "10004    4.881825e+06\n",
       "Length: 10005, dtype: float64"
      ]
     },
     "execution_count": 29,
     "metadata": {},
     "output_type": "execute_result"
    }
   ],
   "source": [
    "df.mean(axis=1)  # rows summed (left to right)"
   ]
  },
  {
   "cell_type": "markdown",
   "metadata": {
    "slideshow": {
     "slide_type": "fragment"
    }
   },
   "source": [
    "You can also use the [`pipe`](https://pandas.pydata.org/pandas-docs/stable/reference/api/pandas.DataFrame.pipe.html?highlight=pipe) method to call a function on the rows or columns of a DataFrame:\n",
    "\n",
    "```python\n",
    "df['Column1'].pipe(np.mean)\n",
    "```\n",
    "\n",
    "method | description\n",
    "--- | ---\n",
    "[`DataFrame.apply`](https://pandas.pydata.org/pandas-docs/stable/reference/api/pandas.DataFrame.apply.html#pandas.DataFrame.apply) | Apply a function along input axis of DataFrame.\n",
    "[`DataFrame.applymap`](https://pandas.pydata.org/pandas-docs/stable/reference/api/pandas.DataFrame.applymap.html#pandas.DataFrame.applymap) | Apply a function elementwise on a whole DataFrame.\n",
    "[`Series.map`](https://pandas.pydata.org/pandas-docs/stable/reference/api/pandas.Series.map.html#pandas.Series.map) | Apply a mapping correspondence on a Series."
   ]
  },
  {
   "cell_type": "markdown",
   "metadata": {
    "slideshow": {
     "slide_type": "subslide"
    }
   },
   "source": [
    "### Exercise 4"
   ]
  },
  {
   "cell_type": "markdown",
   "metadata": {
    "slideshow": {
     "slide_type": "fragment"
    }
   },
   "source": [
    "What is the mean ticket fare that the passengers paid on the titanic? And the median?"
   ]
  },
  {
   "cell_type": "code",
   "execution_count": null,
   "metadata": {
    "slideshow": {
     "slide_type": "fragment"
    }
   },
   "outputs": [],
   "source": []
  },
  {
   "cell_type": "markdown",
   "metadata": {
    "slideshow": {
     "slide_type": "fragment"
    }
   },
   "source": [
    "How many passengers does this dataset contain?"
   ]
  },
  {
   "cell_type": "code",
   "execution_count": null,
   "metadata": {
    "slideshow": {
     "slide_type": "fragment"
    }
   },
   "outputs": [],
   "source": []
  },
  {
   "cell_type": "markdown",
   "metadata": {
    "slideshow": {
     "slide_type": "fragment"
    }
   },
   "source": [
    "What class ticket did the 10th (index = 9) passenger in this dataset buy?"
   ]
  },
  {
   "cell_type": "code",
   "execution_count": null,
   "metadata": {
    "slideshow": {
     "slide_type": "fragment"
    }
   },
   "outputs": [],
   "source": []
  },
  {
   "cell_type": "markdown",
   "metadata": {
    "slideshow": {
     "slide_type": "fragment"
    }
   },
   "source": [
    "What proportion of the passengers were alone on the titanic?"
   ]
  },
  {
   "cell_type": "code",
   "execution_count": null,
   "metadata": {
    "slideshow": {
     "slide_type": "fragment"
    }
   },
   "outputs": [],
   "source": []
  },
  {
   "cell_type": "markdown",
   "metadata": {
    "slideshow": {
     "slide_type": "fragment"
    }
   },
   "source": [
    "How many different classes were on the titanic?"
   ]
  },
  {
   "cell_type": "code",
   "execution_count": null,
   "metadata": {
    "slideshow": {
     "slide_type": "fragment"
    }
   },
   "outputs": [],
   "source": []
  },
  {
   "cell_type": "markdown",
   "metadata": {
    "slideshow": {
     "slide_type": "fragment"
    }
   },
   "source": [
    "How many men and women are in this dataset? ([`value_counts`](https://pandas.pydata.org/pandas-docs/stable/reference/api/pandas.Series.value_counts.html))"
   ]
  },
  {
   "cell_type": "code",
   "execution_count": null,
   "metadata": {
    "slideshow": {
     "slide_type": "fragment"
    }
   },
   "outputs": [],
   "source": []
  },
  {
   "cell_type": "markdown",
   "metadata": {
    "slideshow": {
     "slide_type": "fragment"
    }
   },
   "source": [
    "How many passengers are sitting in each class?"
   ]
  },
  {
   "cell_type": "code",
   "execution_count": null,
   "metadata": {
    "slideshow": {
     "slide_type": "fragment"
    }
   },
   "outputs": [],
   "source": []
  },
  {
   "cell_type": "markdown",
   "metadata": {
    "slideshow": {
     "slide_type": "slide"
    }
   },
   "source": [
    "## Transforming/Modifying Data\n",
    "\n",
    "Any transformation function can be performed on each element of a column   or on the entire DataFrame. For example:\n",
    "\n",
    "\n",
    "```python\n",
    "df['Column1'] * 5\n",
    "\n",
    "np.sqrt(df['Column1'])\n",
    "\n",
    "df['Column1'].str.upper()\n",
    "\n",
    "del df['B']\n",
    "\n",
    "df['Column1'] = [3, 9. 27, 81]  # Replace the entire column with other values (length must match)\n",
    "```\n",
    "\n",
    "> Column: a `pandas.Series` with the index of the rows"
   ]
  },
  {
   "cell_type": "code",
   "execution_count": 30,
   "metadata": {
    "slideshow": {
     "slide_type": "fragment"
    }
   },
   "outputs": [
    {
     "data": {
      "text/html": [
       "<div>\n",
       "<style scoped>\n",
       "    .dataframe tbody tr th:only-of-type {\n",
       "        vertical-align: middle;\n",
       "    }\n",
       "\n",
       "    .dataframe tbody tr th {\n",
       "        vertical-align: top;\n",
       "    }\n",
       "\n",
       "    .dataframe thead th {\n",
       "        text-align: right;\n",
       "    }\n",
       "</style>\n",
       "<table border=\"1\" class=\"dataframe\">\n",
       "  <thead>\n",
       "    <tr style=\"text-align: right;\">\n",
       "      <th></th>\n",
       "      <th>dateRep</th>\n",
       "      <th>year_week</th>\n",
       "      <th>cases_weekly</th>\n",
       "      <th>deaths_weekly</th>\n",
       "      <th>countriesAndTerritories</th>\n",
       "      <th>geoId</th>\n",
       "      <th>countryterritoryCode</th>\n",
       "      <th>popData2019</th>\n",
       "      <th>continentExp</th>\n",
       "      <th>notification_rate_per_100000_population_14-days</th>\n",
       "      <th>cases_per_capita</th>\n",
       "    </tr>\n",
       "  </thead>\n",
       "  <tbody>\n",
       "    <tr>\n",
       "      <th>2514</th>\n",
       "      <td>2021-01-18</td>\n",
       "      <td>2021-02</td>\n",
       "      <td>7170</td>\n",
       "      <td>208</td>\n",
       "      <td>Denmark</td>\n",
       "      <td>DK</td>\n",
       "      <td>DNK</td>\n",
       "      <td>5806081.0</td>\n",
       "      <td>Europe</td>\n",
       "      <td>364.86</td>\n",
       "      <td>123.491216</td>\n",
       "    </tr>\n",
       "    <tr>\n",
       "      <th>2515</th>\n",
       "      <td>2021-01-11</td>\n",
       "      <td>2021-01</td>\n",
       "      <td>14014</td>\n",
       "      <td>223</td>\n",
       "      <td>Denmark</td>\n",
       "      <td>DK</td>\n",
       "      <td>DNK</td>\n",
       "      <td>5806081.0</td>\n",
       "      <td>Europe</td>\n",
       "      <td>505.95</td>\n",
       "      <td>241.367628</td>\n",
       "    </tr>\n",
       "    <tr>\n",
       "      <th>2516</th>\n",
       "      <td>2021-01-04</td>\n",
       "      <td>2020-53</td>\n",
       "      <td>15362</td>\n",
       "      <td>170</td>\n",
       "      <td>Denmark</td>\n",
       "      <td>DK</td>\n",
       "      <td>DNK</td>\n",
       "      <td>5806081.0</td>\n",
       "      <td>Europe</td>\n",
       "      <td>590.36</td>\n",
       "      <td>264.584666</td>\n",
       "    </tr>\n",
       "    <tr>\n",
       "      <th>2517</th>\n",
       "      <td>2020-12-28</td>\n",
       "      <td>2020-52</td>\n",
       "      <td>18915</td>\n",
       "      <td>169</td>\n",
       "      <td>Denmark</td>\n",
       "      <td>DK</td>\n",
       "      <td>DNK</td>\n",
       "      <td>5806081.0</td>\n",
       "      <td>Europe</td>\n",
       "      <td>750.78</td>\n",
       "      <td>325.779127</td>\n",
       "    </tr>\n",
       "    <tr>\n",
       "      <th>2518</th>\n",
       "      <td>2020-12-21</td>\n",
       "      <td>2020-51</td>\n",
       "      <td>24676</td>\n",
       "      <td>94</td>\n",
       "      <td>Denmark</td>\n",
       "      <td>DK</td>\n",
       "      <td>DNK</td>\n",
       "      <td>5806081.0</td>\n",
       "      <td>Europe</td>\n",
       "      <td>754.92</td>\n",
       "      <td>425.002683</td>\n",
       "    </tr>\n",
       "    <tr>\n",
       "      <th>2519</th>\n",
       "      <td>2020-12-14</td>\n",
       "      <td>2020-50</td>\n",
       "      <td>19155</td>\n",
       "      <td>56</td>\n",
       "      <td>Denmark</td>\n",
       "      <td>DK</td>\n",
       "      <td>DNK</td>\n",
       "      <td>5806081.0</td>\n",
       "      <td>Europe</td>\n",
       "      <td>523.69</td>\n",
       "      <td>329.912724</td>\n",
       "    </tr>\n",
       "    <tr>\n",
       "      <th>2520</th>\n",
       "      <td>2020-12-07</td>\n",
       "      <td>2020-49</td>\n",
       "      <td>11251</td>\n",
       "      <td>56</td>\n",
       "      <td>Denmark</td>\n",
       "      <td>DK</td>\n",
       "      <td>DNK</td>\n",
       "      <td>5806081.0</td>\n",
       "      <td>Europe</td>\n",
       "      <td>346.50</td>\n",
       "      <td>193.779591</td>\n",
       "    </tr>\n",
       "    <tr>\n",
       "      <th>2521</th>\n",
       "      <td>2020-11-30</td>\n",
       "      <td>2020-48</td>\n",
       "      <td>8867</td>\n",
       "      <td>45</td>\n",
       "      <td>Denmark</td>\n",
       "      <td>DK</td>\n",
       "      <td>DNK</td>\n",
       "      <td>5806081.0</td>\n",
       "      <td>Europe</td>\n",
       "      <td>296.52</td>\n",
       "      <td>152.719192</td>\n",
       "    </tr>\n",
       "    <tr>\n",
       "      <th>2522</th>\n",
       "      <td>2020-11-23</td>\n",
       "      <td>2020-47</td>\n",
       "      <td>8349</td>\n",
       "      <td>24</td>\n",
       "      <td>Denmark</td>\n",
       "      <td>DK</td>\n",
       "      <td>DNK</td>\n",
       "      <td>5806081.0</td>\n",
       "      <td>Europe</td>\n",
       "      <td>264.62</td>\n",
       "      <td>143.797512</td>\n",
       "    </tr>\n",
       "    <tr>\n",
       "      <th>2523</th>\n",
       "      <td>2020-11-16</td>\n",
       "      <td>2020-46</td>\n",
       "      <td>7015</td>\n",
       "      <td>17</td>\n",
       "      <td>Denmark</td>\n",
       "      <td>DK</td>\n",
       "      <td>DNK</td>\n",
       "      <td>5806081.0</td>\n",
       "      <td>Europe</td>\n",
       "      <td>255.54</td>\n",
       "      <td>120.821601</td>\n",
       "    </tr>\n",
       "    <tr>\n",
       "      <th>2524</th>\n",
       "      <td>2020-11-09</td>\n",
       "      <td>2020-45</td>\n",
       "      <td>7822</td>\n",
       "      <td>20</td>\n",
       "      <td>Denmark</td>\n",
       "      <td>DK</td>\n",
       "      <td>DNK</td>\n",
       "      <td>5806081.0</td>\n",
       "      <td>Europe</td>\n",
       "      <td>254.30</td>\n",
       "      <td>134.720821</td>\n",
       "    </tr>\n",
       "    <tr>\n",
       "      <th>2525</th>\n",
       "      <td>2020-11-02</td>\n",
       "      <td>2020-44</td>\n",
       "      <td>6943</td>\n",
       "      <td>21</td>\n",
       "      <td>Denmark</td>\n",
       "      <td>DK</td>\n",
       "      <td>DNK</td>\n",
       "      <td>5806081.0</td>\n",
       "      <td>Europe</td>\n",
       "      <td>205.08</td>\n",
       "      <td>119.581522</td>\n",
       "    </tr>\n",
       "    <tr>\n",
       "      <th>2526</th>\n",
       "      <td>2020-10-26</td>\n",
       "      <td>2020-43</td>\n",
       "      <td>4964</td>\n",
       "      <td>22</td>\n",
       "      <td>Denmark</td>\n",
       "      <td>DK</td>\n",
       "      <td>DNK</td>\n",
       "      <td>5806081.0</td>\n",
       "      <td>Europe</td>\n",
       "      <td>136.65</td>\n",
       "      <td>85.496568</td>\n",
       "    </tr>\n",
       "    <tr>\n",
       "      <th>2527</th>\n",
       "      <td>2020-10-19</td>\n",
       "      <td>2020-42</td>\n",
       "      <td>2970</td>\n",
       "      <td>11</td>\n",
       "      <td>Denmark</td>\n",
       "      <td>DK</td>\n",
       "      <td>DNK</td>\n",
       "      <td>5806081.0</td>\n",
       "      <td>Europe</td>\n",
       "      <td>98.38</td>\n",
       "      <td>51.153265</td>\n",
       "    </tr>\n",
       "    <tr>\n",
       "      <th>2528</th>\n",
       "      <td>2020-10-12</td>\n",
       "      <td>2020-41</td>\n",
       "      <td>2742</td>\n",
       "      <td>11</td>\n",
       "      <td>Denmark</td>\n",
       "      <td>DK</td>\n",
       "      <td>DNK</td>\n",
       "      <td>5806081.0</td>\n",
       "      <td>Europe</td>\n",
       "      <td>99.64</td>\n",
       "      <td>47.226348</td>\n",
       "    </tr>\n",
       "    <tr>\n",
       "      <th>2529</th>\n",
       "      <td>2020-10-05</td>\n",
       "      <td>2020-40</td>\n",
       "      <td>3043</td>\n",
       "      <td>9</td>\n",
       "      <td>Denmark</td>\n",
       "      <td>DK</td>\n",
       "      <td>DNK</td>\n",
       "      <td>5806081.0</td>\n",
       "      <td>Europe</td>\n",
       "      <td>134.91</td>\n",
       "      <td>52.410567</td>\n",
       "    </tr>\n",
       "    <tr>\n",
       "      <th>2530</th>\n",
       "      <td>2020-09-28</td>\n",
       "      <td>2020-39</td>\n",
       "      <td>4790</td>\n",
       "      <td>14</td>\n",
       "      <td>Denmark</td>\n",
       "      <td>DK</td>\n",
       "      <td>DNK</td>\n",
       "      <td>5806081.0</td>\n",
       "      <td>Europe</td>\n",
       "      <td>127.81</td>\n",
       "      <td>82.499710</td>\n",
       "    </tr>\n",
       "    <tr>\n",
       "      <th>2531</th>\n",
       "      <td>2020-09-21</td>\n",
       "      <td>2020-38</td>\n",
       "      <td>2631</td>\n",
       "      <td>6</td>\n",
       "      <td>Denmark</td>\n",
       "      <td>DK</td>\n",
       "      <td>DNK</td>\n",
       "      <td>5806081.0</td>\n",
       "      <td>Europe</td>\n",
       "      <td>74.06</td>\n",
       "      <td>45.314559</td>\n",
       "    </tr>\n",
       "    <tr>\n",
       "      <th>2532</th>\n",
       "      <td>2020-09-14</td>\n",
       "      <td>2020-37</td>\n",
       "      <td>1669</td>\n",
       "      <td>2</td>\n",
       "      <td>Denmark</td>\n",
       "      <td>DK</td>\n",
       "      <td>DNK</td>\n",
       "      <td>5806081.0</td>\n",
       "      <td>Europe</td>\n",
       "      <td>43.33</td>\n",
       "      <td>28.745724</td>\n",
       "    </tr>\n",
       "    <tr>\n",
       "      <th>2533</th>\n",
       "      <td>2020-09-07</td>\n",
       "      <td>2020-36</td>\n",
       "      <td>847</td>\n",
       "      <td>3</td>\n",
       "      <td>Denmark</td>\n",
       "      <td>DK</td>\n",
       "      <td>DNK</td>\n",
       "      <td>5806081.0</td>\n",
       "      <td>Europe</td>\n",
       "      <td>24.46</td>\n",
       "      <td>14.588153</td>\n",
       "    </tr>\n",
       "    <tr>\n",
       "      <th>2534</th>\n",
       "      <td>2020-08-31</td>\n",
       "      <td>2020-35</td>\n",
       "      <td>573</td>\n",
       "      <td>3</td>\n",
       "      <td>Denmark</td>\n",
       "      <td>DK</td>\n",
       "      <td>DNK</td>\n",
       "      <td>5806081.0</td>\n",
       "      <td>Europe</td>\n",
       "      <td>18.65</td>\n",
       "      <td>9.868963</td>\n",
       "    </tr>\n",
       "    <tr>\n",
       "      <th>2535</th>\n",
       "      <td>2020-08-24</td>\n",
       "      <td>2020-34</td>\n",
       "      <td>510</td>\n",
       "      <td>0</td>\n",
       "      <td>Denmark</td>\n",
       "      <td>DK</td>\n",
       "      <td>DNK</td>\n",
       "      <td>5806081.0</td>\n",
       "      <td>Europe</td>\n",
       "      <td>29.02</td>\n",
       "      <td>8.783894</td>\n",
       "    </tr>\n",
       "    <tr>\n",
       "      <th>2536</th>\n",
       "      <td>2020-08-17</td>\n",
       "      <td>2020-33</td>\n",
       "      <td>1175</td>\n",
       "      <td>4</td>\n",
       "      <td>Denmark</td>\n",
       "      <td>DK</td>\n",
       "      <td>DNK</td>\n",
       "      <td>5806081.0</td>\n",
       "      <td>Europe</td>\n",
       "      <td>31.48</td>\n",
       "      <td>20.237403</td>\n",
       "    </tr>\n",
       "    <tr>\n",
       "      <th>2537</th>\n",
       "      <td>2020-08-10</td>\n",
       "      <td>2020-32</td>\n",
       "      <td>653</td>\n",
       "      <td>2</td>\n",
       "      <td>Denmark</td>\n",
       "      <td>DK</td>\n",
       "      <td>DNK</td>\n",
       "      <td>5806081.0</td>\n",
       "      <td>Europe</td>\n",
       "      <td>17.29</td>\n",
       "      <td>11.246829</td>\n",
       "    </tr>\n",
       "    <tr>\n",
       "      <th>2538</th>\n",
       "      <td>2020-08-03</td>\n",
       "      <td>2020-31</td>\n",
       "      <td>351</td>\n",
       "      <td>2</td>\n",
       "      <td>Denmark</td>\n",
       "      <td>DK</td>\n",
       "      <td>DNK</td>\n",
       "      <td>5806081.0</td>\n",
       "      <td>Europe</td>\n",
       "      <td>10.61</td>\n",
       "      <td>6.045386</td>\n",
       "    </tr>\n",
       "    <tr>\n",
       "      <th>2539</th>\n",
       "      <td>2020-07-27</td>\n",
       "      <td>2020-30</td>\n",
       "      <td>265</td>\n",
       "      <td>2</td>\n",
       "      <td>Denmark</td>\n",
       "      <td>DK</td>\n",
       "      <td>DNK</td>\n",
       "      <td>5806081.0</td>\n",
       "      <td>Europe</td>\n",
       "      <td>8.47</td>\n",
       "      <td>4.564180</td>\n",
       "    </tr>\n",
       "    <tr>\n",
       "      <th>2540</th>\n",
       "      <td>2020-07-20</td>\n",
       "      <td>2020-29</td>\n",
       "      <td>227</td>\n",
       "      <td>2</td>\n",
       "      <td>Denmark</td>\n",
       "      <td>DK</td>\n",
       "      <td>DNK</td>\n",
       "      <td>5806081.0</td>\n",
       "      <td>Europe</td>\n",
       "      <td>5.87</td>\n",
       "      <td>3.909694</td>\n",
       "    </tr>\n",
       "    <tr>\n",
       "      <th>2541</th>\n",
       "      <td>2020-07-13</td>\n",
       "      <td>2020-28</td>\n",
       "      <td>114</td>\n",
       "      <td>3</td>\n",
       "      <td>Denmark</td>\n",
       "      <td>DK</td>\n",
       "      <td>DNK</td>\n",
       "      <td>5806081.0</td>\n",
       "      <td>Europe</td>\n",
       "      <td>4.67</td>\n",
       "      <td>1.963459</td>\n",
       "    </tr>\n",
       "    <tr>\n",
       "      <th>2542</th>\n",
       "      <td>2020-07-06</td>\n",
       "      <td>2020-27</td>\n",
       "      <td>157</td>\n",
       "      <td>2</td>\n",
       "      <td>Denmark</td>\n",
       "      <td>DK</td>\n",
       "      <td>DNK</td>\n",
       "      <td>5806081.0</td>\n",
       "      <td>Europe</td>\n",
       "      <td>7.60</td>\n",
       "      <td>2.704061</td>\n",
       "    </tr>\n",
       "    <tr>\n",
       "      <th>2543</th>\n",
       "      <td>2020-06-29</td>\n",
       "      <td>2020-26</td>\n",
       "      <td>284</td>\n",
       "      <td>4</td>\n",
       "      <td>Denmark</td>\n",
       "      <td>DK</td>\n",
       "      <td>DNK</td>\n",
       "      <td>5806081.0</td>\n",
       "      <td>Europe</td>\n",
       "      <td>8.30</td>\n",
       "      <td>4.891423</td>\n",
       "    </tr>\n",
       "    <tr>\n",
       "      <th>2544</th>\n",
       "      <td>2020-06-22</td>\n",
       "      <td>2020-25</td>\n",
       "      <td>198</td>\n",
       "      <td>3</td>\n",
       "      <td>Denmark</td>\n",
       "      <td>DK</td>\n",
       "      <td>DNK</td>\n",
       "      <td>5806081.0</td>\n",
       "      <td>Europe</td>\n",
       "      <td>7.63</td>\n",
       "      <td>3.410218</td>\n",
       "    </tr>\n",
       "    <tr>\n",
       "      <th>2545</th>\n",
       "      <td>2020-06-15</td>\n",
       "      <td>2020-24</td>\n",
       "      <td>245</td>\n",
       "      <td>8</td>\n",
       "      <td>Denmark</td>\n",
       "      <td>DK</td>\n",
       "      <td>DNK</td>\n",
       "      <td>5806081.0</td>\n",
       "      <td>Europe</td>\n",
       "      <td>9.03</td>\n",
       "      <td>4.219714</td>\n",
       "    </tr>\n",
       "    <tr>\n",
       "      <th>2546</th>\n",
       "      <td>2020-06-08</td>\n",
       "      <td>2020-23</td>\n",
       "      <td>279</td>\n",
       "      <td>15</td>\n",
       "      <td>Denmark</td>\n",
       "      <td>DK</td>\n",
       "      <td>DNK</td>\n",
       "      <td>5806081.0</td>\n",
       "      <td>Europe</td>\n",
       "      <td>10.13</td>\n",
       "      <td>4.805307</td>\n",
       "    </tr>\n",
       "    <tr>\n",
       "      <th>2547</th>\n",
       "      <td>2020-06-01</td>\n",
       "      <td>2020-22</td>\n",
       "      <td>309</td>\n",
       "      <td>12</td>\n",
       "      <td>Denmark</td>\n",
       "      <td>DK</td>\n",
       "      <td>DNK</td>\n",
       "      <td>5806081.0</td>\n",
       "      <td>Europe</td>\n",
       "      <td>12.78</td>\n",
       "      <td>5.322006</td>\n",
       "    </tr>\n",
       "    <tr>\n",
       "      <th>2548</th>\n",
       "      <td>2020-05-25</td>\n",
       "      <td>2020-21</td>\n",
       "      <td>433</td>\n",
       "      <td>15</td>\n",
       "      <td>Denmark</td>\n",
       "      <td>DK</td>\n",
       "      <td>DNK</td>\n",
       "      <td>5806081.0</td>\n",
       "      <td>Europe</td>\n",
       "      <td>16.03</td>\n",
       "      <td>7.457698</td>\n",
       "    </tr>\n",
       "    <tr>\n",
       "      <th>2549</th>\n",
       "      <td>2020-05-18</td>\n",
       "      <td>2020-20</td>\n",
       "      <td>498</td>\n",
       "      <td>28</td>\n",
       "      <td>Denmark</td>\n",
       "      <td>DK</td>\n",
       "      <td>DNK</td>\n",
       "      <td>5806081.0</td>\n",
       "      <td>Europe</td>\n",
       "      <td>24.18</td>\n",
       "      <td>8.577214</td>\n",
       "    </tr>\n",
       "    <tr>\n",
       "      <th>2550</th>\n",
       "      <td>2020-05-11</td>\n",
       "      <td>2020-19</td>\n",
       "      <td>906</td>\n",
       "      <td>38</td>\n",
       "      <td>Denmark</td>\n",
       "      <td>DK</td>\n",
       "      <td>DNK</td>\n",
       "      <td>5806081.0</td>\n",
       "      <td>Europe</td>\n",
       "      <td>31.93</td>\n",
       "      <td>15.604329</td>\n",
       "    </tr>\n",
       "    <tr>\n",
       "      <th>2551</th>\n",
       "      <td>2020-05-04</td>\n",
       "      <td>2020-18</td>\n",
       "      <td>948</td>\n",
       "      <td>59</td>\n",
       "      <td>Denmark</td>\n",
       "      <td>DK</td>\n",
       "      <td>DNK</td>\n",
       "      <td>5806081.0</td>\n",
       "      <td>Europe</td>\n",
       "      <td>36.84</td>\n",
       "      <td>16.327709</td>\n",
       "    </tr>\n",
       "    <tr>\n",
       "      <th>2552</th>\n",
       "      <td>2020-04-27</td>\n",
       "      <td>2020-17</td>\n",
       "      <td>1191</td>\n",
       "      <td>67</td>\n",
       "      <td>Denmark</td>\n",
       "      <td>DK</td>\n",
       "      <td>DNK</td>\n",
       "      <td>5806081.0</td>\n",
       "      <td>Europe</td>\n",
       "      <td>41.35</td>\n",
       "      <td>20.512976</td>\n",
       "    </tr>\n",
       "    <tr>\n",
       "      <th>2553</th>\n",
       "      <td>2020-04-20</td>\n",
       "      <td>2020-16</td>\n",
       "      <td>1210</td>\n",
       "      <td>82</td>\n",
       "      <td>Denmark</td>\n",
       "      <td>DK</td>\n",
       "      <td>DNK</td>\n",
       "      <td>5806081.0</td>\n",
       "      <td>Europe</td>\n",
       "      <td>51.93</td>\n",
       "      <td>20.840219</td>\n",
       "    </tr>\n",
       "    <tr>\n",
       "      <th>2554</th>\n",
       "      <td>2020-04-13</td>\n",
       "      <td>2020-15</td>\n",
       "      <td>1805</td>\n",
       "      <td>94</td>\n",
       "      <td>Denmark</td>\n",
       "      <td>DK</td>\n",
       "      <td>DNK</td>\n",
       "      <td>5806081.0</td>\n",
       "      <td>Europe</td>\n",
       "      <td>65.09</td>\n",
       "      <td>31.088095</td>\n",
       "    </tr>\n",
       "    <tr>\n",
       "      <th>2555</th>\n",
       "      <td>2020-04-06</td>\n",
       "      <td>2020-14</td>\n",
       "      <td>1974</td>\n",
       "      <td>107</td>\n",
       "      <td>Denmark</td>\n",
       "      <td>DK</td>\n",
       "      <td>DNK</td>\n",
       "      <td>5806081.0</td>\n",
       "      <td>Europe</td>\n",
       "      <td>51.22</td>\n",
       "      <td>33.998837</td>\n",
       "    </tr>\n",
       "    <tr>\n",
       "      <th>2556</th>\n",
       "      <td>2020-03-30</td>\n",
       "      <td>2020-13</td>\n",
       "      <td>1000</td>\n",
       "      <td>59</td>\n",
       "      <td>Denmark</td>\n",
       "      <td>DK</td>\n",
       "      <td>DNK</td>\n",
       "      <td>5806081.0</td>\n",
       "      <td>Europe</td>\n",
       "      <td>26.18</td>\n",
       "      <td>17.223322</td>\n",
       "    </tr>\n",
       "    <tr>\n",
       "      <th>2557</th>\n",
       "      <td>2020-03-23</td>\n",
       "      <td>2020-12</td>\n",
       "      <td>520</td>\n",
       "      <td>12</td>\n",
       "      <td>Denmark</td>\n",
       "      <td>DK</td>\n",
       "      <td>DNK</td>\n",
       "      <td>5806081.0</td>\n",
       "      <td>Europe</td>\n",
       "      <td>23.37</td>\n",
       "      <td>8.956127</td>\n",
       "    </tr>\n",
       "    <tr>\n",
       "      <th>2558</th>\n",
       "      <td>2020-03-16</td>\n",
       "      <td>2020-11</td>\n",
       "      <td>837</td>\n",
       "      <td>1</td>\n",
       "      <td>Denmark</td>\n",
       "      <td>DK</td>\n",
       "      <td>DNK</td>\n",
       "      <td>5806081.0</td>\n",
       "      <td>Europe</td>\n",
       "      <td>15.00</td>\n",
       "      <td>14.415920</td>\n",
       "    </tr>\n",
       "    <tr>\n",
       "      <th>2559</th>\n",
       "      <td>2020-03-09</td>\n",
       "      <td>2020-10</td>\n",
       "      <td>34</td>\n",
       "      <td>0</td>\n",
       "      <td>Denmark</td>\n",
       "      <td>DK</td>\n",
       "      <td>DNK</td>\n",
       "      <td>5806081.0</td>\n",
       "      <td>Europe</td>\n",
       "      <td>0.65</td>\n",
       "      <td>0.585593</td>\n",
       "    </tr>\n",
       "    <tr>\n",
       "      <th>2560</th>\n",
       "      <td>2020-03-02</td>\n",
       "      <td>2020-09</td>\n",
       "      <td>4</td>\n",
       "      <td>0</td>\n",
       "      <td>Denmark</td>\n",
       "      <td>DK</td>\n",
       "      <td>DNK</td>\n",
       "      <td>5806081.0</td>\n",
       "      <td>Europe</td>\n",
       "      <td>0.07</td>\n",
       "      <td>0.068893</td>\n",
       "    </tr>\n",
       "    <tr>\n",
       "      <th>2561</th>\n",
       "      <td>2020-02-24</td>\n",
       "      <td>2020-08</td>\n",
       "      <td>0</td>\n",
       "      <td>0</td>\n",
       "      <td>Denmark</td>\n",
       "      <td>DK</td>\n",
       "      <td>DNK</td>\n",
       "      <td>5806081.0</td>\n",
       "      <td>Europe</td>\n",
       "      <td>0.00</td>\n",
       "      <td>0.000000</td>\n",
       "    </tr>\n",
       "    <tr>\n",
       "      <th>2562</th>\n",
       "      <td>2020-02-17</td>\n",
       "      <td>2020-07</td>\n",
       "      <td>0</td>\n",
       "      <td>0</td>\n",
       "      <td>Denmark</td>\n",
       "      <td>DK</td>\n",
       "      <td>DNK</td>\n",
       "      <td>5806081.0</td>\n",
       "      <td>Europe</td>\n",
       "      <td>0.00</td>\n",
       "      <td>0.000000</td>\n",
       "    </tr>\n",
       "    <tr>\n",
       "      <th>2563</th>\n",
       "      <td>2020-02-10</td>\n",
       "      <td>2020-06</td>\n",
       "      <td>0</td>\n",
       "      <td>0</td>\n",
       "      <td>Denmark</td>\n",
       "      <td>DK</td>\n",
       "      <td>DNK</td>\n",
       "      <td>5806081.0</td>\n",
       "      <td>Europe</td>\n",
       "      <td>0.00</td>\n",
       "      <td>0.000000</td>\n",
       "    </tr>\n",
       "    <tr>\n",
       "      <th>2564</th>\n",
       "      <td>2020-02-03</td>\n",
       "      <td>2020-05</td>\n",
       "      <td>0</td>\n",
       "      <td>0</td>\n",
       "      <td>Denmark</td>\n",
       "      <td>DK</td>\n",
       "      <td>DNK</td>\n",
       "      <td>5806081.0</td>\n",
       "      <td>Europe</td>\n",
       "      <td>0.00</td>\n",
       "      <td>0.000000</td>\n",
       "    </tr>\n",
       "    <tr>\n",
       "      <th>2565</th>\n",
       "      <td>2020-01-27</td>\n",
       "      <td>2020-04</td>\n",
       "      <td>0</td>\n",
       "      <td>0</td>\n",
       "      <td>Denmark</td>\n",
       "      <td>DK</td>\n",
       "      <td>DNK</td>\n",
       "      <td>5806081.0</td>\n",
       "      <td>Europe</td>\n",
       "      <td>0.00</td>\n",
       "      <td>0.000000</td>\n",
       "    </tr>\n",
       "    <tr>\n",
       "      <th>2566</th>\n",
       "      <td>2020-01-20</td>\n",
       "      <td>2020-03</td>\n",
       "      <td>0</td>\n",
       "      <td>0</td>\n",
       "      <td>Denmark</td>\n",
       "      <td>DK</td>\n",
       "      <td>DNK</td>\n",
       "      <td>5806081.0</td>\n",
       "      <td>Europe</td>\n",
       "      <td>0.00</td>\n",
       "      <td>0.000000</td>\n",
       "    </tr>\n",
       "    <tr>\n",
       "      <th>2567</th>\n",
       "      <td>2020-01-13</td>\n",
       "      <td>2020-02</td>\n",
       "      <td>0</td>\n",
       "      <td>0</td>\n",
       "      <td>Denmark</td>\n",
       "      <td>DK</td>\n",
       "      <td>DNK</td>\n",
       "      <td>5806081.0</td>\n",
       "      <td>Europe</td>\n",
       "      <td>0.00</td>\n",
       "      <td>0.000000</td>\n",
       "    </tr>\n",
       "    <tr>\n",
       "      <th>2568</th>\n",
       "      <td>2020-01-06</td>\n",
       "      <td>2020-01</td>\n",
       "      <td>0</td>\n",
       "      <td>0</td>\n",
       "      <td>Denmark</td>\n",
       "      <td>DK</td>\n",
       "      <td>DNK</td>\n",
       "      <td>5806081.0</td>\n",
       "      <td>Europe</td>\n",
       "      <td>NaN</td>\n",
       "      <td>0.000000</td>\n",
       "    </tr>\n",
       "  </tbody>\n",
       "</table>\n",
       "</div>"
      ],
      "text/plain": [
       "        dateRep year_week  cases_weekly  deaths_weekly  \\\n",
       "2514 2021-01-18   2021-02          7170            208   \n",
       "2515 2021-01-11   2021-01         14014            223   \n",
       "2516 2021-01-04   2020-53         15362            170   \n",
       "2517 2020-12-28   2020-52         18915            169   \n",
       "2518 2020-12-21   2020-51         24676             94   \n",
       "2519 2020-12-14   2020-50         19155             56   \n",
       "2520 2020-12-07   2020-49         11251             56   \n",
       "2521 2020-11-30   2020-48          8867             45   \n",
       "2522 2020-11-23   2020-47          8349             24   \n",
       "2523 2020-11-16   2020-46          7015             17   \n",
       "2524 2020-11-09   2020-45          7822             20   \n",
       "2525 2020-11-02   2020-44          6943             21   \n",
       "2526 2020-10-26   2020-43          4964             22   \n",
       "2527 2020-10-19   2020-42          2970             11   \n",
       "2528 2020-10-12   2020-41          2742             11   \n",
       "2529 2020-10-05   2020-40          3043              9   \n",
       "2530 2020-09-28   2020-39          4790             14   \n",
       "2531 2020-09-21   2020-38          2631              6   \n",
       "2532 2020-09-14   2020-37          1669              2   \n",
       "2533 2020-09-07   2020-36           847              3   \n",
       "2534 2020-08-31   2020-35           573              3   \n",
       "2535 2020-08-24   2020-34           510              0   \n",
       "2536 2020-08-17   2020-33          1175              4   \n",
       "2537 2020-08-10   2020-32           653              2   \n",
       "2538 2020-08-03   2020-31           351              2   \n",
       "2539 2020-07-27   2020-30           265              2   \n",
       "2540 2020-07-20   2020-29           227              2   \n",
       "2541 2020-07-13   2020-28           114              3   \n",
       "2542 2020-07-06   2020-27           157              2   \n",
       "2543 2020-06-29   2020-26           284              4   \n",
       "2544 2020-06-22   2020-25           198              3   \n",
       "2545 2020-06-15   2020-24           245              8   \n",
       "2546 2020-06-08   2020-23           279             15   \n",
       "2547 2020-06-01   2020-22           309             12   \n",
       "2548 2020-05-25   2020-21           433             15   \n",
       "2549 2020-05-18   2020-20           498             28   \n",
       "2550 2020-05-11   2020-19           906             38   \n",
       "2551 2020-05-04   2020-18           948             59   \n",
       "2552 2020-04-27   2020-17          1191             67   \n",
       "2553 2020-04-20   2020-16          1210             82   \n",
       "2554 2020-04-13   2020-15          1805             94   \n",
       "2555 2020-04-06   2020-14          1974            107   \n",
       "2556 2020-03-30   2020-13          1000             59   \n",
       "2557 2020-03-23   2020-12           520             12   \n",
       "2558 2020-03-16   2020-11           837              1   \n",
       "2559 2020-03-09   2020-10            34              0   \n",
       "2560 2020-03-02   2020-09             4              0   \n",
       "2561 2020-02-24   2020-08             0              0   \n",
       "2562 2020-02-17   2020-07             0              0   \n",
       "2563 2020-02-10   2020-06             0              0   \n",
       "2564 2020-02-03   2020-05             0              0   \n",
       "2565 2020-01-27   2020-04             0              0   \n",
       "2566 2020-01-20   2020-03             0              0   \n",
       "2567 2020-01-13   2020-02             0              0   \n",
       "2568 2020-01-06   2020-01             0              0   \n",
       "\n",
       "     countriesAndTerritories geoId countryterritoryCode  popData2019  \\\n",
       "2514                 Denmark    DK                  DNK    5806081.0   \n",
       "2515                 Denmark    DK                  DNK    5806081.0   \n",
       "2516                 Denmark    DK                  DNK    5806081.0   \n",
       "2517                 Denmark    DK                  DNK    5806081.0   \n",
       "2518                 Denmark    DK                  DNK    5806081.0   \n",
       "2519                 Denmark    DK                  DNK    5806081.0   \n",
       "2520                 Denmark    DK                  DNK    5806081.0   \n",
       "2521                 Denmark    DK                  DNK    5806081.0   \n",
       "2522                 Denmark    DK                  DNK    5806081.0   \n",
       "2523                 Denmark    DK                  DNK    5806081.0   \n",
       "2524                 Denmark    DK                  DNK    5806081.0   \n",
       "2525                 Denmark    DK                  DNK    5806081.0   \n",
       "2526                 Denmark    DK                  DNK    5806081.0   \n",
       "2527                 Denmark    DK                  DNK    5806081.0   \n",
       "2528                 Denmark    DK                  DNK    5806081.0   \n",
       "2529                 Denmark    DK                  DNK    5806081.0   \n",
       "2530                 Denmark    DK                  DNK    5806081.0   \n",
       "2531                 Denmark    DK                  DNK    5806081.0   \n",
       "2532                 Denmark    DK                  DNK    5806081.0   \n",
       "2533                 Denmark    DK                  DNK    5806081.0   \n",
       "2534                 Denmark    DK                  DNK    5806081.0   \n",
       "2535                 Denmark    DK                  DNK    5806081.0   \n",
       "2536                 Denmark    DK                  DNK    5806081.0   \n",
       "2537                 Denmark    DK                  DNK    5806081.0   \n",
       "2538                 Denmark    DK                  DNK    5806081.0   \n",
       "2539                 Denmark    DK                  DNK    5806081.0   \n",
       "2540                 Denmark    DK                  DNK    5806081.0   \n",
       "2541                 Denmark    DK                  DNK    5806081.0   \n",
       "2542                 Denmark    DK                  DNK    5806081.0   \n",
       "2543                 Denmark    DK                  DNK    5806081.0   \n",
       "2544                 Denmark    DK                  DNK    5806081.0   \n",
       "2545                 Denmark    DK                  DNK    5806081.0   \n",
       "2546                 Denmark    DK                  DNK    5806081.0   \n",
       "2547                 Denmark    DK                  DNK    5806081.0   \n",
       "2548                 Denmark    DK                  DNK    5806081.0   \n",
       "2549                 Denmark    DK                  DNK    5806081.0   \n",
       "2550                 Denmark    DK                  DNK    5806081.0   \n",
       "2551                 Denmark    DK                  DNK    5806081.0   \n",
       "2552                 Denmark    DK                  DNK    5806081.0   \n",
       "2553                 Denmark    DK                  DNK    5806081.0   \n",
       "2554                 Denmark    DK                  DNK    5806081.0   \n",
       "2555                 Denmark    DK                  DNK    5806081.0   \n",
       "2556                 Denmark    DK                  DNK    5806081.0   \n",
       "2557                 Denmark    DK                  DNK    5806081.0   \n",
       "2558                 Denmark    DK                  DNK    5806081.0   \n",
       "2559                 Denmark    DK                  DNK    5806081.0   \n",
       "2560                 Denmark    DK                  DNK    5806081.0   \n",
       "2561                 Denmark    DK                  DNK    5806081.0   \n",
       "2562                 Denmark    DK                  DNK    5806081.0   \n",
       "2563                 Denmark    DK                  DNK    5806081.0   \n",
       "2564                 Denmark    DK                  DNK    5806081.0   \n",
       "2565                 Denmark    DK                  DNK    5806081.0   \n",
       "2566                 Denmark    DK                  DNK    5806081.0   \n",
       "2567                 Denmark    DK                  DNK    5806081.0   \n",
       "2568                 Denmark    DK                  DNK    5806081.0   \n",
       "\n",
       "     continentExp  notification_rate_per_100000_population_14-days  \\\n",
       "2514       Europe                                           364.86   \n",
       "2515       Europe                                           505.95   \n",
       "2516       Europe                                           590.36   \n",
       "2517       Europe                                           750.78   \n",
       "2518       Europe                                           754.92   \n",
       "2519       Europe                                           523.69   \n",
       "2520       Europe                                           346.50   \n",
       "2521       Europe                                           296.52   \n",
       "2522       Europe                                           264.62   \n",
       "2523       Europe                                           255.54   \n",
       "2524       Europe                                           254.30   \n",
       "2525       Europe                                           205.08   \n",
       "2526       Europe                                           136.65   \n",
       "2527       Europe                                            98.38   \n",
       "2528       Europe                                            99.64   \n",
       "2529       Europe                                           134.91   \n",
       "2530       Europe                                           127.81   \n",
       "2531       Europe                                            74.06   \n",
       "2532       Europe                                            43.33   \n",
       "2533       Europe                                            24.46   \n",
       "2534       Europe                                            18.65   \n",
       "2535       Europe                                            29.02   \n",
       "2536       Europe                                            31.48   \n",
       "2537       Europe                                            17.29   \n",
       "2538       Europe                                            10.61   \n",
       "2539       Europe                                             8.47   \n",
       "2540       Europe                                             5.87   \n",
       "2541       Europe                                             4.67   \n",
       "2542       Europe                                             7.60   \n",
       "2543       Europe                                             8.30   \n",
       "2544       Europe                                             7.63   \n",
       "2545       Europe                                             9.03   \n",
       "2546       Europe                                            10.13   \n",
       "2547       Europe                                            12.78   \n",
       "2548       Europe                                            16.03   \n",
       "2549       Europe                                            24.18   \n",
       "2550       Europe                                            31.93   \n",
       "2551       Europe                                            36.84   \n",
       "2552       Europe                                            41.35   \n",
       "2553       Europe                                            51.93   \n",
       "2554       Europe                                            65.09   \n",
       "2555       Europe                                            51.22   \n",
       "2556       Europe                                            26.18   \n",
       "2557       Europe                                            23.37   \n",
       "2558       Europe                                            15.00   \n",
       "2559       Europe                                             0.65   \n",
       "2560       Europe                                             0.07   \n",
       "2561       Europe                                             0.00   \n",
       "2562       Europe                                             0.00   \n",
       "2563       Europe                                             0.00   \n",
       "2564       Europe                                             0.00   \n",
       "2565       Europe                                             0.00   \n",
       "2566       Europe                                             0.00   \n",
       "2567       Europe                                             0.00   \n",
       "2568       Europe                                              NaN   \n",
       "\n",
       "      cases_per_capita  \n",
       "2514        123.491216  \n",
       "2515        241.367628  \n",
       "2516        264.584666  \n",
       "2517        325.779127  \n",
       "2518        425.002683  \n",
       "2519        329.912724  \n",
       "2520        193.779591  \n",
       "2521        152.719192  \n",
       "2522        143.797512  \n",
       "2523        120.821601  \n",
       "2524        134.720821  \n",
       "2525        119.581522  \n",
       "2526         85.496568  \n",
       "2527         51.153265  \n",
       "2528         47.226348  \n",
       "2529         52.410567  \n",
       "2530         82.499710  \n",
       "2531         45.314559  \n",
       "2532         28.745724  \n",
       "2533         14.588153  \n",
       "2534          9.868963  \n",
       "2535          8.783894  \n",
       "2536         20.237403  \n",
       "2537         11.246829  \n",
       "2538          6.045386  \n",
       "2539          4.564180  \n",
       "2540          3.909694  \n",
       "2541          1.963459  \n",
       "2542          2.704061  \n",
       "2543          4.891423  \n",
       "2544          3.410218  \n",
       "2545          4.219714  \n",
       "2546          4.805307  \n",
       "2547          5.322006  \n",
       "2548          7.457698  \n",
       "2549          8.577214  \n",
       "2550         15.604329  \n",
       "2551         16.327709  \n",
       "2552         20.512976  \n",
       "2553         20.840219  \n",
       "2554         31.088095  \n",
       "2555         33.998837  \n",
       "2556         17.223322  \n",
       "2557          8.956127  \n",
       "2558         14.415920  \n",
       "2559          0.585593  \n",
       "2560          0.068893  \n",
       "2561          0.000000  \n",
       "2562          0.000000  \n",
       "2563          0.000000  \n",
       "2564          0.000000  \n",
       "2565          0.000000  \n",
       "2566          0.000000  \n",
       "2567          0.000000  \n",
       "2568          0.000000  "
      ]
     },
     "execution_count": 30,
     "metadata": {},
     "output_type": "execute_result"
    }
   ],
   "source": [
    "df['cases_per_capita'] = df['cases_weekly'] / df['popData2019'] * 100_000\n",
    "mask_denmark = df['countriesAndTerritories'] == 'Denmark'\n",
    "df[mask_denmark]"
   ]
  },
  {
   "cell_type": "markdown",
   "metadata": {
    "slideshow": {
     "slide_type": "fragment"
    }
   },
   "source": [
    "For more complicated operations, where you want to combine `DataFrame`s with `Series`, you can have a look [how broadcasting works](https://pandas.pydata.org/pandas-docs/stable/user_guide/basics.html#flexible-binary-operations) in pandas."
   ]
  },
  {
   "cell_type": "markdown",
   "metadata": {
    "slideshow": {
     "slide_type": "subslide"
    }
   },
   "source": [
    "### Exercise 5"
   ]
  },
  {
   "cell_type": "markdown",
   "metadata": {
    "slideshow": {
     "slide_type": "fragment"
    }
   },
   "source": [
    "Get everyone's age if they were still alive today (hint: Titanic sunk in 1912)"
   ]
  },
  {
   "cell_type": "code",
   "execution_count": null,
   "metadata": {
    "slideshow": {
     "slide_type": "fragment"
    }
   },
   "outputs": [],
   "source": []
  },
  {
   "cell_type": "markdown",
   "metadata": {
    "slideshow": {
     "slide_type": "fragment"
    }
   },
   "source": [
    "Make the class name title-cased (the first letter capitalized)"
   ]
  },
  {
   "cell_type": "code",
   "execution_count": null,
   "metadata": {
    "slideshow": {
     "slide_type": "fragment"
    }
   },
   "outputs": [],
   "source": []
  },
  {
   "cell_type": "markdown",
   "metadata": {
    "slideshow": {
     "slide_type": "fragment"
    }
   },
   "source": [
    "Make a columns called \"not_survived\", the opposite of the \"survived\" column"
   ]
  },
  {
   "cell_type": "code",
   "execution_count": null,
   "metadata": {
    "slideshow": {
     "slide_type": "fragment"
    }
   },
   "outputs": [],
   "source": []
  },
  {
   "cell_type": "markdown",
   "metadata": {
    "slideshow": {
     "slide_type": "slide"
    }
   },
   "source": [
    "## GroupBy Operations\n",
    "\n",
    "In most of our tasks, getting single metrics from a dataset is not enough, and we often actually want to compare metrics between groups or conditions.\n",
    "\n",
    "The [**`groupby`**](https://pandas.pydata.org/pandas-docs/stable/user_guide/groupby.html)\n",
    "method essentially splits the data into different groups depending on a variable of your choice, and allows you to apply summary functions on each group. For example, if you wanted to calculate the mean temperature by month from a given data frame:\n",
    "\n",
    "```python\n",
    "df.groupby('month').temperature.mean()\n",
    "```\n",
    "where \"month\" and \"temperature\" are column names from the [`DataFrame`](https://pandas.pydata.org/pandas-docs/stable/reference/frame.html).\n",
    " \n",
    "You can also group by multiple columns, by providing a list of column names:\n",
    " \n",
    "```python\n",
    "df.groupby(['year', 'month']).temperature.mean()\n",
    "```\n",
    "\n",
    "The `groupby` method returns a GroupBy object, where the `.groups` attribute is a dictionary whose keys are the computed unique groups.\n",
    "\n",
    "```python\n",
    "df_grouped = df.groupby(['year', 'month'])\n",
    "df_grouped.groups # return dictionary of groups\n",
    "```\n",
    "\n",
    "[`GroupBy`](https://pandas.pydata.org/pandas-docs/stable/reference/groupby.html) objects are **lazy**, meaning they don't start calculating anything until they know the full pipeline.  This approach is called the **\"Split-Apply-Combine\"** workflow.  You can get more info on it [in the UserGuide](https://pandas.pydata.org/pandas-docs/stable/user_guide/groupby.html)."
   ]
  },
  {
   "cell_type": "code",
   "execution_count": 31,
   "metadata": {
    "slideshow": {
     "slide_type": "fragment"
    }
   },
   "outputs": [
    {
     "data": {
      "text/plain": [
       "189895"
      ]
     },
     "execution_count": 31,
     "metadata": {},
     "output_type": "execute_result"
    }
   ],
   "source": [
    "df.groupby(by='countriesAndTerritories').cases_weekly.sum().loc['Denmark']"
   ]
  },
  {
   "cell_type": "code",
   "execution_count": 32,
   "metadata": {
    "slideshow": {
     "slide_type": "fragment"
    }
   },
   "outputs": [
    {
     "data": {
      "text/plain": [
       "189895"
      ]
     },
     "execution_count": 32,
     "metadata": {},
     "output_type": "execute_result"
    }
   ],
   "source": [
    "df.loc[mask_denmark, 'cases_weekly'].sum()"
   ]
  },
  {
   "cell_type": "code",
   "execution_count": 33,
   "metadata": {},
   "outputs": [
    {
     "data": {
      "text/plain": [
       "Int64Index([2514, 2515, 2516, 2517, 2518, 2519, 2520, 2521, 2522, 2523, 2524,\n",
       "            2525, 2526, 2527, 2528, 2529, 2530, 2531, 2532, 2533, 2534, 2535,\n",
       "            2536, 2537, 2538, 2539, 2540, 2541, 2542, 2543, 2544, 2545, 2546,\n",
       "            2547, 2548, 2549, 2550, 2551, 2552, 2553, 2554, 2555, 2556, 2557,\n",
       "            2558, 2559, 2560, 2561, 2562, 2563, 2564, 2565, 2566, 2567, 2568],\n",
       "           dtype='int64')"
      ]
     },
     "execution_count": 33,
     "metadata": {},
     "output_type": "execute_result"
    }
   ],
   "source": [
    "df_grouped = df.groupby(by='countriesAndTerritories')\n",
    "df_grouped.groups['Denmark']"
   ]
  },
  {
   "cell_type": "markdown",
   "metadata": {
    "slideshow": {
     "slide_type": "subslide"
    }
   },
   "source": [
    "### Exercise 6\n",
    "\n",
    "Let's try this out on the Titanic dataset."
   ]
  },
  {
   "cell_type": "markdown",
   "metadata": {
    "slideshow": {
     "slide_type": "fragment"
    }
   },
   "source": [
    "What was the median ticket fare for each class?"
   ]
  },
  {
   "cell_type": "code",
   "execution_count": null,
   "metadata": {
    "slideshow": {
     "slide_type": "fragment"
    }
   },
   "outputs": [],
   "source": []
  },
  {
   "cell_type": "markdown",
   "metadata": {
    "slideshow": {
     "slide_type": "subslide"
    }
   },
   "source": [
    "What was the survival rate for each class?"
   ]
  },
  {
   "cell_type": "code",
   "execution_count": null,
   "metadata": {
    "slideshow": {
     "slide_type": "fragment"
    }
   },
   "outputs": [],
   "source": []
  },
  {
   "cell_type": "code",
   "execution_count": null,
   "metadata": {
    "scrolled": true
   },
   "outputs": [],
   "source": []
  },
  {
   "cell_type": "markdown",
   "metadata": {
    "slideshow": {
     "slide_type": "fragment"
    }
   },
   "source": [
    "What was the survival rate for each sex?"
   ]
  },
  {
   "cell_type": "code",
   "execution_count": null,
   "metadata": {
    "slideshow": {
     "slide_type": "fragment"
    }
   },
   "outputs": [],
   "source": []
  },
  {
   "cell_type": "markdown",
   "metadata": {
    "slideshow": {
     "slide_type": "fragment"
    }
   },
   "source": [
    "What was the survival rate, broken down by both sex and class?\n",
    "\n",
    "> Multiclass Index ([guide](https://pandas.pydata.org/pandas-docs/stable/user_guide/advanced.html):\n",
    "> You can access indices with more than one entry using tuples: `df.loc[(first_index, second_index)]`"
   ]
  },
  {
   "cell_type": "markdown",
   "metadata": {
    "slideshow": {
     "slide_type": "fragment"
    }
   },
   "source": [
    "Which class tended to travel alone more often? Did it matter where they were embarking from?"
   ]
  },
  {
   "cell_type": "code",
   "execution_count": null,
   "metadata": {
    "slideshow": {
     "slide_type": "fragment"
    }
   },
   "outputs": [],
   "source": []
  },
  {
   "cell_type": "markdown",
   "metadata": {
    "slideshow": {
     "slide_type": "fragment"
    }
   },
   "source": [
    "What was the ticket fare for each embarking city?"
   ]
  },
  {
   "cell_type": "code",
   "execution_count": 34,
   "metadata": {},
   "outputs": [
    {
     "data": {
      "text/html": [
       "<div>\n",
       "<style scoped>\n",
       "    .dataframe tbody tr th:only-of-type {\n",
       "        vertical-align: middle;\n",
       "    }\n",
       "\n",
       "    .dataframe tbody tr th {\n",
       "        vertical-align: top;\n",
       "    }\n",
       "\n",
       "    .dataframe thead th {\n",
       "        text-align: right;\n",
       "    }\n",
       "</style>\n",
       "<table border=\"1\" class=\"dataframe\">\n",
       "  <thead>\n",
       "    <tr style=\"text-align: right;\">\n",
       "      <th></th>\n",
       "      <th>survived</th>\n",
       "      <th>pclass</th>\n",
       "      <th>sex</th>\n",
       "      <th>age</th>\n",
       "      <th>sibsp</th>\n",
       "      <th>parch</th>\n",
       "      <th>fare</th>\n",
       "      <th>embarked</th>\n",
       "      <th>class</th>\n",
       "      <th>who</th>\n",
       "      <th>adult_male</th>\n",
       "      <th>deck</th>\n",
       "      <th>embark_town</th>\n",
       "      <th>alive</th>\n",
       "      <th>alone</th>\n",
       "    </tr>\n",
       "  </thead>\n",
       "  <tbody>\n",
       "    <tr>\n",
       "      <th>0</th>\n",
       "      <td>0</td>\n",
       "      <td>3</td>\n",
       "      <td>male</td>\n",
       "      <td>22.0</td>\n",
       "      <td>1</td>\n",
       "      <td>0</td>\n",
       "      <td>7.2500</td>\n",
       "      <td>S</td>\n",
       "      <td>Third</td>\n",
       "      <td>man</td>\n",
       "      <td>True</td>\n",
       "      <td>NaN</td>\n",
       "      <td>Southampton</td>\n",
       "      <td>no</td>\n",
       "      <td>False</td>\n",
       "    </tr>\n",
       "    <tr>\n",
       "      <th>1</th>\n",
       "      <td>1</td>\n",
       "      <td>1</td>\n",
       "      <td>female</td>\n",
       "      <td>38.0</td>\n",
       "      <td>1</td>\n",
       "      <td>0</td>\n",
       "      <td>71.2833</td>\n",
       "      <td>C</td>\n",
       "      <td>First</td>\n",
       "      <td>woman</td>\n",
       "      <td>False</td>\n",
       "      <td>C</td>\n",
       "      <td>Cherbourg</td>\n",
       "      <td>yes</td>\n",
       "      <td>False</td>\n",
       "    </tr>\n",
       "    <tr>\n",
       "      <th>2</th>\n",
       "      <td>1</td>\n",
       "      <td>3</td>\n",
       "      <td>female</td>\n",
       "      <td>26.0</td>\n",
       "      <td>0</td>\n",
       "      <td>0</td>\n",
       "      <td>7.9250</td>\n",
       "      <td>S</td>\n",
       "      <td>Third</td>\n",
       "      <td>woman</td>\n",
       "      <td>False</td>\n",
       "      <td>NaN</td>\n",
       "      <td>Southampton</td>\n",
       "      <td>yes</td>\n",
       "      <td>True</td>\n",
       "    </tr>\n",
       "    <tr>\n",
       "      <th>3</th>\n",
       "      <td>1</td>\n",
       "      <td>1</td>\n",
       "      <td>female</td>\n",
       "      <td>35.0</td>\n",
       "      <td>1</td>\n",
       "      <td>0</td>\n",
       "      <td>53.1000</td>\n",
       "      <td>S</td>\n",
       "      <td>First</td>\n",
       "      <td>woman</td>\n",
       "      <td>False</td>\n",
       "      <td>C</td>\n",
       "      <td>Southampton</td>\n",
       "      <td>yes</td>\n",
       "      <td>False</td>\n",
       "    </tr>\n",
       "    <tr>\n",
       "      <th>4</th>\n",
       "      <td>0</td>\n",
       "      <td>3</td>\n",
       "      <td>male</td>\n",
       "      <td>35.0</td>\n",
       "      <td>0</td>\n",
       "      <td>0</td>\n",
       "      <td>8.0500</td>\n",
       "      <td>S</td>\n",
       "      <td>Third</td>\n",
       "      <td>man</td>\n",
       "      <td>True</td>\n",
       "      <td>NaN</td>\n",
       "      <td>Southampton</td>\n",
       "      <td>no</td>\n",
       "      <td>True</td>\n",
       "    </tr>\n",
       "    <tr>\n",
       "      <th>...</th>\n",
       "      <td>...</td>\n",
       "      <td>...</td>\n",
       "      <td>...</td>\n",
       "      <td>...</td>\n",
       "      <td>...</td>\n",
       "      <td>...</td>\n",
       "      <td>...</td>\n",
       "      <td>...</td>\n",
       "      <td>...</td>\n",
       "      <td>...</td>\n",
       "      <td>...</td>\n",
       "      <td>...</td>\n",
       "      <td>...</td>\n",
       "      <td>...</td>\n",
       "      <td>...</td>\n",
       "    </tr>\n",
       "    <tr>\n",
       "      <th>886</th>\n",
       "      <td>0</td>\n",
       "      <td>2</td>\n",
       "      <td>male</td>\n",
       "      <td>27.0</td>\n",
       "      <td>0</td>\n",
       "      <td>0</td>\n",
       "      <td>13.0000</td>\n",
       "      <td>S</td>\n",
       "      <td>Second</td>\n",
       "      <td>man</td>\n",
       "      <td>True</td>\n",
       "      <td>NaN</td>\n",
       "      <td>Southampton</td>\n",
       "      <td>no</td>\n",
       "      <td>True</td>\n",
       "    </tr>\n",
       "    <tr>\n",
       "      <th>887</th>\n",
       "      <td>1</td>\n",
       "      <td>1</td>\n",
       "      <td>female</td>\n",
       "      <td>19.0</td>\n",
       "      <td>0</td>\n",
       "      <td>0</td>\n",
       "      <td>30.0000</td>\n",
       "      <td>S</td>\n",
       "      <td>First</td>\n",
       "      <td>woman</td>\n",
       "      <td>False</td>\n",
       "      <td>B</td>\n",
       "      <td>Southampton</td>\n",
       "      <td>yes</td>\n",
       "      <td>True</td>\n",
       "    </tr>\n",
       "    <tr>\n",
       "      <th>888</th>\n",
       "      <td>0</td>\n",
       "      <td>3</td>\n",
       "      <td>female</td>\n",
       "      <td>NaN</td>\n",
       "      <td>1</td>\n",
       "      <td>2</td>\n",
       "      <td>23.4500</td>\n",
       "      <td>S</td>\n",
       "      <td>Third</td>\n",
       "      <td>woman</td>\n",
       "      <td>False</td>\n",
       "      <td>NaN</td>\n",
       "      <td>Southampton</td>\n",
       "      <td>no</td>\n",
       "      <td>False</td>\n",
       "    </tr>\n",
       "    <tr>\n",
       "      <th>889</th>\n",
       "      <td>1</td>\n",
       "      <td>1</td>\n",
       "      <td>male</td>\n",
       "      <td>26.0</td>\n",
       "      <td>0</td>\n",
       "      <td>0</td>\n",
       "      <td>30.0000</td>\n",
       "      <td>C</td>\n",
       "      <td>First</td>\n",
       "      <td>man</td>\n",
       "      <td>True</td>\n",
       "      <td>C</td>\n",
       "      <td>Cherbourg</td>\n",
       "      <td>yes</td>\n",
       "      <td>True</td>\n",
       "    </tr>\n",
       "    <tr>\n",
       "      <th>890</th>\n",
       "      <td>0</td>\n",
       "      <td>3</td>\n",
       "      <td>male</td>\n",
       "      <td>32.0</td>\n",
       "      <td>0</td>\n",
       "      <td>0</td>\n",
       "      <td>7.7500</td>\n",
       "      <td>Q</td>\n",
       "      <td>Third</td>\n",
       "      <td>man</td>\n",
       "      <td>True</td>\n",
       "      <td>NaN</td>\n",
       "      <td>Queenstown</td>\n",
       "      <td>no</td>\n",
       "      <td>True</td>\n",
       "    </tr>\n",
       "  </tbody>\n",
       "</table>\n",
       "<p>891 rows × 15 columns</p>\n",
       "</div>"
      ],
      "text/plain": [
       "     survived  pclass     sex   age  sibsp  parch     fare embarked   class  \\\n",
       "0           0       3    male  22.0      1      0   7.2500        S   Third   \n",
       "1           1       1  female  38.0      1      0  71.2833        C   First   \n",
       "2           1       3  female  26.0      0      0   7.9250        S   Third   \n",
       "3           1       1  female  35.0      1      0  53.1000        S   First   \n",
       "4           0       3    male  35.0      0      0   8.0500        S   Third   \n",
       "..        ...     ...     ...   ...    ...    ...      ...      ...     ...   \n",
       "886         0       2    male  27.0      0      0  13.0000        S  Second   \n",
       "887         1       1  female  19.0      0      0  30.0000        S   First   \n",
       "888         0       3  female   NaN      1      2  23.4500        S   Third   \n",
       "889         1       1    male  26.0      0      0  30.0000        C   First   \n",
       "890         0       3    male  32.0      0      0   7.7500        Q   Third   \n",
       "\n",
       "       who  adult_male deck  embark_town alive  alone  \n",
       "0      man        True  NaN  Southampton    no  False  \n",
       "1    woman       False    C    Cherbourg   yes  False  \n",
       "2    woman       False  NaN  Southampton   yes   True  \n",
       "3    woman       False    C  Southampton   yes  False  \n",
       "4      man        True  NaN  Southampton    no   True  \n",
       "..     ...         ...  ...          ...   ...    ...  \n",
       "886    man        True  NaN  Southampton    no   True  \n",
       "887  woman       False    B  Southampton   yes   True  \n",
       "888  woman       False  NaN  Southampton    no  False  \n",
       "889    man        True    C    Cherbourg   yes   True  \n",
       "890    man        True  NaN   Queenstown    no   True  \n",
       "\n",
       "[891 rows x 15 columns]"
      ]
     },
     "execution_count": 34,
     "metadata": {},
     "output_type": "execute_result"
    }
   ],
   "source": [
    "titanic"
   ]
  },
  {
   "cell_type": "code",
   "execution_count": null,
   "metadata": {
    "slideshow": {
     "slide_type": "fragment"
    }
   },
   "outputs": [],
   "source": []
  },
  {
   "cell_type": "markdown",
   "metadata": {
    "slideshow": {
     "slide_type": "fragment"
    }
   },
   "source": [
    "What was the median age of the survivors vs non-survivors, when sex is considered as a factor?"
   ]
  },
  {
   "cell_type": "code",
   "execution_count": null,
   "metadata": {
    "slideshow": {
     "slide_type": "fragment"
    }
   },
   "outputs": [],
   "source": []
  },
  {
   "cell_type": "markdown",
   "metadata": {
    "slideshow": {
     "slide_type": "subslide"
    }
   },
   "source": [
    "### Multiple Statistics per Group\n",
    "\n",
    "Another piece of syntax we are going to look at, is the `aggregate` method for a `GroupBy` pandas objects, also available as `agg`.\n",
    "\n",
    "The aggregation functionality provided by this function allows multiple statistics to be calculated per group in one calculation.\n",
    "\n",
    "The instructions to the method `agg` are provided in the form of a dictionary, where the keys specify the columns upon which to apply the operation(s), and the value specify the function to run:\n",
    "\n",
    "```python\n",
    "df.groupby(['year', 'month']).aggre({'duration':'sum',\n",
    "                                   'network_type':'count',\n",
    "                                   'date':'first'})\n",
    "```\n",
    "\n",
    "You can also apply multiple functions to one column in groups:\n",
    "\n",
    "```python\n",
    "df.groupby(['year', 'month']).agg({'duration':[min, max, sum],\n",
    "                                   'network_type':'count',\n",
    "                                   'date':[min, 'first', 'nunique']})\n",
    "```\n",
    "\n",
    "> Aggregating by multiple columns will create an [`MultiIndex`](https://pandas.pydata.org/pandas-docs/stable/user_guide/advanced.html) row-Index.  \n",
    "> You can access indices with more than one entry using tuples: `df.loc[(first_index, second_index)]`"
   ]
  },
  {
   "cell_type": "code",
   "execution_count": 35,
   "metadata": {
    "slideshow": {
     "slide_type": "fragment"
    }
   },
   "outputs": [
    {
     "data": {
      "text/html": [
       "<div>\n",
       "<style scoped>\n",
       "    .dataframe tbody tr th:only-of-type {\n",
       "        vertical-align: middle;\n",
       "    }\n",
       "\n",
       "    .dataframe tbody tr th {\n",
       "        vertical-align: top;\n",
       "    }\n",
       "\n",
       "    .dataframe thead th {\n",
       "        text-align: right;\n",
       "    }\n",
       "</style>\n",
       "<table border=\"1\" class=\"dataframe\">\n",
       "  <thead>\n",
       "    <tr style=\"text-align: right;\">\n",
       "      <th></th>\n",
       "      <th>cases_weekly</th>\n",
       "      <th>deaths_weekly</th>\n",
       "    </tr>\n",
       "    <tr>\n",
       "      <th>countriesAndTerritories</th>\n",
       "      <th></th>\n",
       "      <th></th>\n",
       "    </tr>\n",
       "  </thead>\n",
       "  <tbody>\n",
       "    <tr>\n",
       "      <th>Afghanistan</th>\n",
       "      <td>54141</td>\n",
       "      <td>2346</td>\n",
       "    </tr>\n",
       "    <tr>\n",
       "      <th>Albania</th>\n",
       "      <td>67690</td>\n",
       "      <td>1277</td>\n",
       "    </tr>\n",
       "    <tr>\n",
       "      <th>Algeria</th>\n",
       "      <td>103833</td>\n",
       "      <td>2836</td>\n",
       "    </tr>\n",
       "    <tr>\n",
       "      <th>Andorra</th>\n",
       "      <td>9083</td>\n",
       "      <td>91</td>\n",
       "    </tr>\n",
       "    <tr>\n",
       "      <th>Angola</th>\n",
       "      <td>18875</td>\n",
       "      <td>436</td>\n",
       "    </tr>\n",
       "    <tr>\n",
       "      <th>...</th>\n",
       "      <td>...</td>\n",
       "      <td>...</td>\n",
       "    </tr>\n",
       "    <tr>\n",
       "      <th>Wallis_and_Futuna</th>\n",
       "      <td>4</td>\n",
       "      <td>0</td>\n",
       "    </tr>\n",
       "    <tr>\n",
       "      <th>Western_Sahara</th>\n",
       "      <td>766</td>\n",
       "      <td>1</td>\n",
       "    </tr>\n",
       "    <tr>\n",
       "      <th>Yemen</th>\n",
       "      <td>2116</td>\n",
       "      <td>613</td>\n",
       "    </tr>\n",
       "    <tr>\n",
       "      <th>Zambia</th>\n",
       "      <td>38207</td>\n",
       "      <td>559</td>\n",
       "    </tr>\n",
       "    <tr>\n",
       "      <th>Zimbabwe</th>\n",
       "      <td>27203</td>\n",
       "      <td>713</td>\n",
       "    </tr>\n",
       "  </tbody>\n",
       "</table>\n",
       "<p>215 rows × 2 columns</p>\n",
       "</div>"
      ],
      "text/plain": [
       "                         cases_weekly  deaths_weekly\n",
       "countriesAndTerritories                             \n",
       "Afghanistan                     54141           2346\n",
       "Albania                         67690           1277\n",
       "Algeria                        103833           2836\n",
       "Andorra                          9083             91\n",
       "Angola                          18875            436\n",
       "...                               ...            ...\n",
       "Wallis_and_Futuna                   4              0\n",
       "Western_Sahara                    766              1\n",
       "Yemen                            2116            613\n",
       "Zambia                          38207            559\n",
       "Zimbabwe                        27203            713\n",
       "\n",
       "[215 rows x 2 columns]"
      ]
     },
     "execution_count": 35,
     "metadata": {},
     "output_type": "execute_result"
    }
   ],
   "source": [
    "df.groupby(by='countriesAndTerritories').agg(\n",
    "    {'cases_weekly': 'sum', 'deaths_weekly': sum})"
   ]
  },
  {
   "cell_type": "markdown",
   "metadata": {
    "slideshow": {
     "slide_type": "subslide"
    }
   },
   "source": [
    "### Exercise 7\n",
    "\n",
    "Now, let's try to apply it to our Titanic dataset, and answer the following questions."
   ]
  },
  {
   "cell_type": "markdown",
   "metadata": {
    "slideshow": {
     "slide_type": "fragment"
    }
   },
   "source": [
    "How many man, women and childern survived, and what was their average age?"
   ]
  },
  {
   "cell_type": "code",
   "execution_count": null,
   "metadata": {
    "slideshow": {
     "slide_type": "fragment"
    }
   },
   "outputs": [],
   "source": []
  },
  {
   "cell_type": "markdown",
   "metadata": {
    "slideshow": {
     "slide_type": "fragment"
    }
   },
   "source": [
    "How many males and females, embarking on different towns, were alive? And how many of those were alone?"
   ]
  },
  {
   "cell_type": "code",
   "execution_count": null,
   "metadata": {
    "slideshow": {
     "slide_type": "fragment"
    }
   },
   "outputs": [],
   "source": []
  },
  {
   "cell_type": "markdown",
   "metadata": {
    "slideshow": {
     "slide_type": "slide"
    }
   },
   "source": [
    "## Handling Missing Values\n",
    "\n",
    "Missing values are often a concern in data science, for example in proteomics, and can be indicated with a **`None`** or **`NaN`** (np.nan in Numpy). Pandas DataFrames have several methods for detecting, removing and replacing these values:\n",
    "\n",
    "| method | description\n",
    "| ---:  | :---- |\n",
    "**`isna()`** | Returns True for each NaN |\n",
    "**`notna()`** | Returns False for each NaN |\n",
    "**`dropna()`** | Returns just the rows without any NaNs |"
   ]
  },
  {
   "cell_type": "markdown",
   "metadata": {
    "slideshow": {
     "slide_type": "subslide"
    }
   },
   "source": [
    "### Exercise 8"
   ]
  },
  {
   "cell_type": "markdown",
   "metadata": {
    "slideshow": {
     "slide_type": "fragment"
    }
   },
   "source": [
    "What proportion of the \"deck\" column is missing data?"
   ]
  },
  {
   "cell_type": "code",
   "execution_count": null,
   "metadata": {
    "slideshow": {
     "slide_type": "fragment"
    }
   },
   "outputs": [],
   "source": []
  },
  {
   "cell_type": "markdown",
   "metadata": {
    "slideshow": {
     "slide_type": "fragment"
    }
   },
   "source": [
    "How many rows don't contain any missing data at all?"
   ]
  },
  {
   "cell_type": "code",
   "execution_count": null,
   "metadata": {
    "slideshow": {
     "slide_type": "fragment"
    }
   },
   "outputs": [],
   "source": []
  },
  {
   "cell_type": "markdown",
   "metadata": {
    "slideshow": {
     "slide_type": "fragment"
    }
   },
   "source": [
    "Make a dataframe with only the rows containing no missing data."
   ]
  },
  {
   "cell_type": "code",
   "execution_count": null,
   "metadata": {
    "scrolled": true,
    "slideshow": {
     "slide_type": "fragment"
    }
   },
   "outputs": [],
   "source": []
  },
  {
   "cell_type": "markdown",
   "metadata": {
    "slideshow": {
     "slide_type": "slide"
    }
   },
   "source": [
    "## Imputation\n",
    "\n",
    "Imputation means replacing the missing values with real values. \n",
    "\n",
    "| method | description |\n",
    "| ----: |  :---- |\n",
    "| **`fillna()`** | Replaces the NaNs with values (provides lots of options) |\n",
    "| **`ffill()`** | Replaces the Nans with the previous non-NaN value (equivalent to df.fillna(method='ffill') |\n",
    "| **`bfill()`** | Replaces the Nans with the following non-NaN value (equivalent to df.fillna(method='bfill') |\n",
    "| **`interpolate()`** | interpolates nans with previous and following values |\n"
   ]
  },
  {
   "cell_type": "markdown",
   "metadata": {
    "slideshow": {
     "slide_type": "subslide"
    }
   },
   "source": [
    "### Exercise 9\n",
    "\n",
    "Using the following DataFrame, solve the exercises below.\n",
    "\n",
    "> recreate it in every exercise or copy it to avoid confusion:  `data_type_filled = data.copy()`  \n",
    "> Can you explain the problem?"
   ]
  },
  {
   "cell_type": "code",
   "execution_count": 36,
   "metadata": {
    "scrolled": true,
    "slideshow": {
     "slide_type": "fragment"
    }
   },
   "outputs": [
    {
     "data": {
      "text/html": [
       "<div>\n",
       "<style scoped>\n",
       "    .dataframe tbody tr th:only-of-type {\n",
       "        vertical-align: middle;\n",
       "    }\n",
       "\n",
       "    .dataframe tbody tr th {\n",
       "        vertical-align: top;\n",
       "    }\n",
       "\n",
       "    .dataframe thead th {\n",
       "        text-align: right;\n",
       "    }\n",
       "</style>\n",
       "<table border=\"1\" class=\"dataframe\">\n",
       "  <thead>\n",
       "    <tr style=\"text-align: right;\">\n",
       "      <th></th>\n",
       "      <th>time</th>\n",
       "      <th>value</th>\n",
       "    </tr>\n",
       "  </thead>\n",
       "  <tbody>\n",
       "    <tr>\n",
       "      <th>0</th>\n",
       "      <td>0.5</td>\n",
       "      <td>6.0</td>\n",
       "    </tr>\n",
       "    <tr>\n",
       "      <th>1</th>\n",
       "      <td>1.0</td>\n",
       "      <td>4.0</td>\n",
       "    </tr>\n",
       "    <tr>\n",
       "      <th>2</th>\n",
       "      <td>1.5</td>\n",
       "      <td>5.0</td>\n",
       "    </tr>\n",
       "    <tr>\n",
       "      <th>3</th>\n",
       "      <td>NaN</td>\n",
       "      <td>8.0</td>\n",
       "    </tr>\n",
       "    <tr>\n",
       "      <th>4</th>\n",
       "      <td>2.5</td>\n",
       "      <td>NaN</td>\n",
       "    </tr>\n",
       "    <tr>\n",
       "      <th>5</th>\n",
       "      <td>3.0</td>\n",
       "      <td>10.0</td>\n",
       "    </tr>\n",
       "    <tr>\n",
       "      <th>6</th>\n",
       "      <td>3.5</td>\n",
       "      <td>11.0</td>\n",
       "    </tr>\n",
       "    <tr>\n",
       "      <th>7</th>\n",
       "      <td>NaN</td>\n",
       "      <td>NaN</td>\n",
       "    </tr>\n",
       "  </tbody>\n",
       "</table>\n",
       "</div>"
      ],
      "text/plain": [
       "   time  value\n",
       "0   0.5    6.0\n",
       "1   1.0    4.0\n",
       "2   1.5    5.0\n",
       "3   NaN    8.0\n",
       "4   2.5    NaN\n",
       "5   3.0   10.0\n",
       "6   3.5   11.0\n",
       "7   NaN    NaN"
      ]
     },
     "execution_count": 36,
     "metadata": {},
     "output_type": "execute_result"
    }
   ],
   "source": [
    "data = pd.DataFrame({'time': [0.5, 1., 1.5, None, 2.5, 3., 3.5, None], 'value': [\n",
    "                    6, 4, 5, 8, None, 10, 11, None]})\n",
    "data"
   ]
  },
  {
   "cell_type": "markdown",
   "metadata": {
    "slideshow": {
     "slide_type": "fragment"
    }
   },
   "source": [
    "Replace all the missing \"value\" rows with zeros."
   ]
  },
  {
   "cell_type": "code",
   "execution_count": null,
   "metadata": {
    "slideshow": {
     "slide_type": "fragment"
    }
   },
   "outputs": [],
   "source": []
  },
  {
   "cell_type": "markdown",
   "metadata": {
    "slideshow": {
     "slide_type": "fragment"
    }
   },
   "source": [
    "Replace the missing \"time\" rows with the previous value."
   ]
  },
  {
   "cell_type": "code",
   "execution_count": null,
   "metadata": {
    "slideshow": {
     "slide_type": "fragment"
    }
   },
   "outputs": [],
   "source": []
  },
  {
   "cell_type": "markdown",
   "metadata": {
    "slideshow": {
     "slide_type": "fragment"
    }
   },
   "source": [
    "Replace all of the missing values with the data from the next row. What do you notice when you do this with this dataset?"
   ]
  },
  {
   "cell_type": "code",
   "execution_count": null,
   "metadata": {},
   "outputs": [],
   "source": []
  },
  {
   "cell_type": "markdown",
   "metadata": {
    "slideshow": {
     "slide_type": "fragment"
    }
   },
   "source": [
    "Linearly interpolate the missing data. What is the result for this dataset?"
   ]
  },
  {
   "cell_type": "code",
   "execution_count": null,
   "metadata": {
    "slideshow": {
     "slide_type": "fragment"
    }
   },
   "outputs": [],
   "source": []
  },
  {
   "cell_type": "markdown",
   "metadata": {
    "id": "ol5el84hJ9oQ",
    "slideshow": {
     "slide_type": "slide"
    }
   },
   "source": [
    "# Optional: Redo-exercises from numpy \n",
    "\n",
    "> What is different?\n",
    "\n",
    "In all of these exercises, do not loop over `Series` you create. All exercises can be solved using only vectorized operations on a `Series` or `DataFrame`."
   ]
  },
  {
   "cell_type": "markdown",
   "metadata": {
    "id": "E8lcv9BwJ9oQ",
    "slideshow": {
     "slide_type": "subslide"
    }
   },
   "source": [
    "## Simple vectorized operations\n",
    "\n",
    "You want to plot the mathematical function\n",
    "\n",
    "$f(x) = log(-1.3x^2 + 1.4^x + 7x + 50)$\n",
    "\n",
    "For the numbers in $[0, 20]$. To do this, you need to create a vector `xs` with lots of numbers between 0 and 20, and a vector `ys` with $f$ evaluated at every element of `xs`. A vector is a `1d-ndarray`.\n",
    "\n",
    "To get a hang of vectorized operations, solve the problem *without using any loops*:\n",
    "\n",
    "### Create a `pandas.Series` `xs` with 1000 evenly spaced points between 0 and 20"
   ]
  },
  {
   "cell_type": "code",
   "execution_count": null,
   "metadata": {
    "slideshow": {
     "slide_type": "fragment"
    }
   },
   "outputs": [],
   "source": []
  },
  {
   "cell_type": "markdown",
   "metadata": {
    "id": "E8lcv9BwJ9oQ",
    "slideshow": {
     "slide_type": "fragment"
    }
   },
   "source": [
    "### Create a Python function $f$ as seen above"
   ]
  },
  {
   "cell_type": "code",
   "execution_count": null,
   "metadata": {
    "slideshow": {
     "slide_type": "fragment"
    }
   },
   "outputs": [],
   "source": []
  },
  {
   "cell_type": "markdown",
   "metadata": {
    "id": "E8lcv9BwJ9oQ",
    "slideshow": {
     "slide_type": "fragment"
    }
   },
   "source": [
    "### Evaluate `ys` = $f(x)$, i.e. $f$ of every element of `xs`."
   ]
  },
  {
   "cell_type": "code",
   "execution_count": null,
   "metadata": {
    "slideshow": {
     "slide_type": "fragment"
    }
   },
   "outputs": [],
   "source": []
  },
  {
   "cell_type": "markdown",
   "metadata": {
    "id": "E8lcv9BwJ9oQ",
    "slideshow": {
     "slide_type": "fragment"
    }
   },
   "source": [
    "### What is the mean and standard deviation of `ys`?"
   ]
  },
  {
   "cell_type": "code",
   "execution_count": null,
   "metadata": {
    "slideshow": {
     "slide_type": "fragment"
    }
   },
   "outputs": [],
   "source": []
  },
  {
   "cell_type": "markdown",
   "metadata": {
    "id": "E8lcv9BwJ9oQ",
    "slideshow": {
     "slide_type": "fragment"
    }
   },
   "source": [
    "### How many elements of. `ys` are below 0? Between 1 and 2, both exclusive?\n",
    "\n",
    "> Hint: You can use a comparison operator to get an array of dtype `bool`. To get the number of elements that are `True`, you can exploit the fact that `True` behaves similar to the number 1, and `False` similar to the number 0."
   ]
  },
  {
   "cell_type": "code",
   "execution_count": null,
   "metadata": {
    "slideshow": {
     "slide_type": "fragment"
    }
   },
   "outputs": [],
   "source": []
  },
  {
   "cell_type": "markdown",
   "metadata": {
    "id": "E8lcv9BwJ9oQ",
    "slideshow": {
     "slide_type": "fragment"
    }
   },
   "source": [
    "### What is the minimum and maximum value of `ys`?"
   ]
  },
  {
   "cell_type": "code",
   "execution_count": null,
   "metadata": {
    "slideshow": {
     "slide_type": "fragment"
    }
   },
   "outputs": [],
   "source": []
  },
  {
   "cell_type": "markdown",
   "metadata": {
    "id": "E8lcv9BwJ9oQ",
    "slideshow": {
     "slide_type": "fragment"
    }
   },
   "source": [
    "### Create a series `non_negatives`, which contain all the values of `ys` that are nonnegative"
   ]
  },
  {
   "cell_type": "code",
   "execution_count": null,
   "metadata": {
    "slideshow": {
     "slide_type": "fragment"
    }
   },
   "outputs": [],
   "source": []
  },
  {
   "cell_type": "markdown",
   "metadata": {
    "id": "E8lcv9BwJ9oQ",
    "slideshow": {
     "slide_type": "fragment"
    }
   },
   "source": [
    "### *Extra*: Use `matplotlib` to plot `xs` vs `ys` directly from your `Series` object"
   ]
  },
  {
   "cell_type": "code",
   "execution_count": null,
   "metadata": {
    "slideshow": {
     "slide_type": "fragment"
    }
   },
   "outputs": [],
   "source": []
  },
  {
   "cell_type": "markdown",
   "metadata": {
    "slideshow": {
     "slide_type": "slide"
    }
   },
   "source": [
    "## Species depth matrix\n",
    "\n",
    "Load in the data [`depths.csv`](https://drive.google.com/file/d/1d5694Ggnc-wq-ta0njlA9cz0_AEVQLoN/view). As you can see in drive preview, there are 11 columns, with columns 2-11 representing a sample from a human git microbiome. Each row represents a genome of a micro-organism, a so-called \"operational taxonomic unit at 97% sequence identity\" (OTU_97). The first row gives the name of the genome. The values in the matrix represents the relative abundance (or depth) of that micro-organism in that sample, i.e. how much of the micro-organism there is."
   ]
  },
  {
   "cell_type": "markdown",
   "metadata": {
    "slideshow": {
     "slide_type": "subslide"
    }
   },
   "source": [
    "### Load in the matrix in a `pandas.DataFrame`"
   ]
  },
  {
   "cell_type": "code",
   "execution_count": 37,
   "metadata": {
    "slideshow": {
     "slide_type": "fragment"
    }
   },
   "outputs": [
    {
     "data": {
      "text/html": [
       "<div>\n",
       "<style scoped>\n",
       "    .dataframe tbody tr th:only-of-type {\n",
       "        vertical-align: middle;\n",
       "    }\n",
       "\n",
       "    .dataframe tbody tr th {\n",
       "        vertical-align: top;\n",
       "    }\n",
       "\n",
       "    .dataframe thead th {\n",
       "        text-align: right;\n",
       "    }\n",
       "</style>\n",
       "<table border=\"1\" class=\"dataframe\">\n",
       "  <thead>\n",
       "    <tr style=\"text-align: right;\">\n",
       "      <th></th>\n",
       "      <th>#genome</th>\n",
       "      <th>sample_6</th>\n",
       "      <th>sample_7</th>\n",
       "      <th>sample_8</th>\n",
       "      <th>sample_13</th>\n",
       "      <th>sample_14</th>\n",
       "      <th>sample_15</th>\n",
       "      <th>sample_16</th>\n",
       "      <th>sample_17</th>\n",
       "      <th>sample_18</th>\n",
       "      <th>sample_19</th>\n",
       "    </tr>\n",
       "  </thead>\n",
       "  <tbody>\n",
       "    <tr>\n",
       "      <th>0</th>\n",
       "      <td>OTU_97.21068.0</td>\n",
       "      <td>1.4179</td>\n",
       "      <td>0.3905</td>\n",
       "      <td>0.0000</td>\n",
       "      <td>0.0000</td>\n",
       "      <td>0.0000</td>\n",
       "      <td>0.0000</td>\n",
       "      <td>1.6318</td>\n",
       "      <td>0.3905</td>\n",
       "      <td>0.0000</td>\n",
       "      <td>0.0000</td>\n",
       "    </tr>\n",
       "    <tr>\n",
       "      <th>1</th>\n",
       "      <td>OTU_97.360.0</td>\n",
       "      <td>0.3871</td>\n",
       "      <td>0.0000</td>\n",
       "      <td>0.0000</td>\n",
       "      <td>0.0000</td>\n",
       "      <td>0.0000</td>\n",
       "      <td>0.0000</td>\n",
       "      <td>0.3871</td>\n",
       "      <td>0.0000</td>\n",
       "      <td>0.0000</td>\n",
       "      <td>0.0000</td>\n",
       "    </tr>\n",
       "    <tr>\n",
       "      <th>2</th>\n",
       "      <td>OTU_97.44228.0</td>\n",
       "      <td>7.5783</td>\n",
       "      <td>87.6600</td>\n",
       "      <td>13.1089</td>\n",
       "      <td>28.6166</td>\n",
       "      <td>25.1856</td>\n",
       "      <td>10.2906</td>\n",
       "      <td>37.3140</td>\n",
       "      <td>104.9891</td>\n",
       "      <td>13.1089</td>\n",
       "      <td>49.1341</td>\n",
       "    </tr>\n",
       "    <tr>\n",
       "      <th>3</th>\n",
       "      <td>OTU_97.38344.1</td>\n",
       "      <td>1.9753</td>\n",
       "      <td>0.0000</td>\n",
       "      <td>0.0000</td>\n",
       "      <td>0.0000</td>\n",
       "      <td>0.0000</td>\n",
       "      <td>0.0000</td>\n",
       "      <td>2.2735</td>\n",
       "      <td>0.0000</td>\n",
       "      <td>8.8969</td>\n",
       "      <td>0.0000</td>\n",
       "    </tr>\n",
       "    <tr>\n",
       "      <th>4</th>\n",
       "      <td>OTU_97.28595.0</td>\n",
       "      <td>7.5782</td>\n",
       "      <td>2.0872</td>\n",
       "      <td>7.8652</td>\n",
       "      <td>0.0000</td>\n",
       "      <td>0.0000</td>\n",
       "      <td>0.0000</td>\n",
       "      <td>9.8654</td>\n",
       "      <td>2.0872</td>\n",
       "      <td>7.8652</td>\n",
       "      <td>0.0000</td>\n",
       "    </tr>\n",
       "    <tr>\n",
       "      <th>...</th>\n",
       "      <td>...</td>\n",
       "      <td>...</td>\n",
       "      <td>...</td>\n",
       "      <td>...</td>\n",
       "      <td>...</td>\n",
       "      <td>...</td>\n",
       "      <td>...</td>\n",
       "      <td>...</td>\n",
       "      <td>...</td>\n",
       "      <td>...</td>\n",
       "      <td>...</td>\n",
       "    </tr>\n",
       "    <tr>\n",
       "      <th>655</th>\n",
       "      <td>OTU_97.39384.0</td>\n",
       "      <td>0.0000</td>\n",
       "      <td>0.0000</td>\n",
       "      <td>0.0000</td>\n",
       "      <td>0.0000</td>\n",
       "      <td>0.0000</td>\n",
       "      <td>0.0000</td>\n",
       "      <td>0.0000</td>\n",
       "      <td>0.0000</td>\n",
       "      <td>0.0000</td>\n",
       "      <td>4.6065</td>\n",
       "    </tr>\n",
       "    <tr>\n",
       "      <th>656</th>\n",
       "      <td>OTU_97.17011.0</td>\n",
       "      <td>0.0000</td>\n",
       "      <td>0.0000</td>\n",
       "      <td>0.0000</td>\n",
       "      <td>0.0000</td>\n",
       "      <td>0.0000</td>\n",
       "      <td>0.0000</td>\n",
       "      <td>0.0000</td>\n",
       "      <td>0.0000</td>\n",
       "      <td>0.0000</td>\n",
       "      <td>3.0709</td>\n",
       "    </tr>\n",
       "    <tr>\n",
       "      <th>657</th>\n",
       "      <td>OTU_97.27922.0</td>\n",
       "      <td>0.0000</td>\n",
       "      <td>0.0000</td>\n",
       "      <td>0.0000</td>\n",
       "      <td>0.0000</td>\n",
       "      <td>0.0000</td>\n",
       "      <td>0.0000</td>\n",
       "      <td>0.0000</td>\n",
       "      <td>0.0000</td>\n",
       "      <td>0.0000</td>\n",
       "      <td>0.0658</td>\n",
       "    </tr>\n",
       "    <tr>\n",
       "      <th>658</th>\n",
       "      <td>OTU_97.31496.1</td>\n",
       "      <td>0.0000</td>\n",
       "      <td>0.0000</td>\n",
       "      <td>0.0000</td>\n",
       "      <td>0.0000</td>\n",
       "      <td>0.0000</td>\n",
       "      <td>0.0000</td>\n",
       "      <td>0.0000</td>\n",
       "      <td>0.0000</td>\n",
       "      <td>0.0000</td>\n",
       "      <td>0.0228</td>\n",
       "    </tr>\n",
       "    <tr>\n",
       "      <th>659</th>\n",
       "      <td>OTU_97.5089.0</td>\n",
       "      <td>0.0000</td>\n",
       "      <td>0.0000</td>\n",
       "      <td>0.0000</td>\n",
       "      <td>0.0000</td>\n",
       "      <td>0.0000</td>\n",
       "      <td>0.0000</td>\n",
       "      <td>0.0000</td>\n",
       "      <td>0.0000</td>\n",
       "      <td>0.0000</td>\n",
       "      <td>4.6066</td>\n",
       "    </tr>\n",
       "  </tbody>\n",
       "</table>\n",
       "<p>660 rows × 11 columns</p>\n",
       "</div>"
      ],
      "text/plain": [
       "            #genome  sample_6  sample_7  sample_8  sample_13  sample_14  \\\n",
       "0    OTU_97.21068.0    1.4179    0.3905    0.0000     0.0000     0.0000   \n",
       "1      OTU_97.360.0    0.3871    0.0000    0.0000     0.0000     0.0000   \n",
       "2    OTU_97.44228.0    7.5783   87.6600   13.1089    28.6166    25.1856   \n",
       "3    OTU_97.38344.1    1.9753    0.0000    0.0000     0.0000     0.0000   \n",
       "4    OTU_97.28595.0    7.5782    2.0872    7.8652     0.0000     0.0000   \n",
       "..              ...       ...       ...       ...        ...        ...   \n",
       "655  OTU_97.39384.0    0.0000    0.0000    0.0000     0.0000     0.0000   \n",
       "656  OTU_97.17011.0    0.0000    0.0000    0.0000     0.0000     0.0000   \n",
       "657  OTU_97.27922.0    0.0000    0.0000    0.0000     0.0000     0.0000   \n",
       "658  OTU_97.31496.1    0.0000    0.0000    0.0000     0.0000     0.0000   \n",
       "659   OTU_97.5089.0    0.0000    0.0000    0.0000     0.0000     0.0000   \n",
       "\n",
       "     sample_15  sample_16  sample_17  sample_18  sample_19  \n",
       "0       0.0000     1.6318     0.3905     0.0000     0.0000  \n",
       "1       0.0000     0.3871     0.0000     0.0000     0.0000  \n",
       "2      10.2906    37.3140   104.9891    13.1089    49.1341  \n",
       "3       0.0000     2.2735     0.0000     8.8969     0.0000  \n",
       "4       0.0000     9.8654     2.0872     7.8652     0.0000  \n",
       "..         ...        ...        ...        ...        ...  \n",
       "655     0.0000     0.0000     0.0000     0.0000     4.6065  \n",
       "656     0.0000     0.0000     0.0000     0.0000     3.0709  \n",
       "657     0.0000     0.0000     0.0000     0.0000     0.0658  \n",
       "658     0.0000     0.0000     0.0000     0.0000     0.0228  \n",
       "659     0.0000     0.0000     0.0000     0.0000     4.6066  \n",
       "\n",
       "[660 rows x 11 columns]"
      ]
     },
     "execution_count": 37,
     "metadata": {},
     "output_type": "execute_result"
    }
   ],
   "source": [
    "url = 'https://raw.githubusercontent.com/pythontsunami/teaching/intro/data/depths.csv'\n",
    "depths = pd.read_csv(url)\n",
    "depths"
   ]
  },
  {
   "cell_type": "markdown",
   "metadata": {
    "slideshow": {
     "slide_type": "subslide"
    }
   },
   "source": [
    "### How many OTUs are there? Show how you figured it out."
   ]
  },
  {
   "cell_type": "code",
   "execution_count": null,
   "metadata": {
    "slideshow": {
     "slide_type": "fragment"
    }
   },
   "outputs": [],
   "source": []
  },
  {
   "cell_type": "markdown",
   "metadata": {
    "slideshow": {
     "slide_type": "subslide"
    }
   },
   "source": [
    "### Find the OTU \"OTU_97.41189.0\". What is the mean and standard deviations of the depths across the 10 samples of this OTU?"
   ]
  },
  {
   "cell_type": "code",
   "execution_count": null,
   "metadata": {
    "slideshow": {
     "slide_type": "fragment"
    }
   },
   "outputs": [],
   "source": []
  },
  {
   "cell_type": "markdown",
   "metadata": {
    "slideshow": {
     "slide_type": "subslide"
    }
   },
   "source": [
    "### How many samples have 0 depth of that OTU? (or rather, below detection limit?)"
   ]
  },
  {
   "cell_type": "code",
   "execution_count": null,
   "metadata": {
    "slideshow": {
     "slide_type": "fragment"
    }
   },
   "outputs": [],
   "source": []
  },
  {
   "cell_type": "markdown",
   "metadata": {
    "slideshow": {
     "slide_type": "subslide"
    }
   },
   "source": [
    "### What is the mean and standard deviation if you exclude those samples?"
   ]
  },
  {
   "cell_type": "code",
   "execution_count": null,
   "metadata": {
    "slideshow": {
     "slide_type": "fragment"
    }
   },
   "outputs": [],
   "source": []
  },
  {
   "cell_type": "markdown",
   "metadata": {
    "slideshow": {
     "slide_type": "subslide"
    }
   },
   "source": [
    "### Extra: How would you get all the means and std. deviations in one go?"
   ]
  },
  {
   "cell_type": "code",
   "execution_count": null,
   "metadata": {
    "slideshow": {
     "slide_type": "fragment"
    }
   },
   "outputs": [],
   "source": []
  },
  {
   "cell_type": "markdown",
   "metadata": {
    "slideshow": {
     "slide_type": "subslide"
    }
   },
   "source": [
    "### We are not interested in OTUs present in fewer than 4 samples. Remove all those OTUs."
   ]
  },
  {
   "cell_type": "code",
   "execution_count": null,
   "metadata": {
    "slideshow": {
     "slide_type": "fragment"
    }
   },
   "outputs": [],
   "source": []
  },
  {
   "cell_type": "markdown",
   "metadata": {
    "slideshow": {
     "slide_type": "subslide"
    }
   },
   "source": [
    "### How many OTUs did you remove?"
   ]
  },
  {
   "cell_type": "code",
   "execution_count": null,
   "metadata": {
    "slideshow": {
     "slide_type": "fragment"
    }
   },
   "outputs": [],
   "source": []
  },
  {
   "cell_type": "markdown",
   "metadata": {
    "slideshow": {
     "slide_type": "subslide"
    }
   },
   "source": [
    "### How many OTUs have a depth of > 5 in all 10 samples? (hint: `np.all`)"
   ]
  },
  {
   "cell_type": "code",
   "execution_count": null,
   "metadata": {
    "slideshow": {
     "slide_type": "fragment"
    }
   },
   "outputs": [],
   "source": []
  },
  {
   "cell_type": "markdown",
   "metadata": {
    "slideshow": {
     "slide_type": "subslide"
    }
   },
   "source": [
    "### Filtering and Normalization\n",
    "\n",
    "After discarding all OTUs present in fewer than 4 samples, sort the OTUs, do the following:\n",
    "\n",
    "- Calculate the mean depth across samples for each remaining OTU.\n",
    "   \n",
    "- Normalize the remaining OTUs such that each row sum to 0 and have a standard deviation of 1 (so-called z-score normalization)\n",
    "- Print the remaining OTUs to a new file in descending order by their mean depth, with a 12th column giving the mean depth, and columns 1-11 being the normalized depth. Make sure that your file looks like the input file (except with the 12th column)\n",
    "\n",
    "> Do the results match with what you computed before using `numpy`?"
   ]
  },
  {
   "cell_type": "code",
   "execution_count": null,
   "metadata": {
    "slideshow": {
     "slide_type": "fragment"
    }
   },
   "outputs": [],
   "source": []
  }
 ],
 "metadata": {
  "celltoolbar": "Slideshow",
  "kernelspec": {
   "display_name": "Python 3",
   "language": "python",
   "name": "python3"
  },
  "language_info": {
   "codemirror_mode": {
    "name": "ipython",
    "version": 3
   },
   "file_extension": ".py",
   "mimetype": "text/x-python",
   "name": "python",
   "nbconvert_exporter": "python",
   "pygments_lexer": "ipython3",
   "version": "3.8.3"
  },
  "rise": {
   "scroll": true
  },
  "toc": {
   "base_numbering": 1,
   "nav_menu": {},
   "number_sections": true,
   "sideBar": false,
   "skip_h1_title": false,
   "title_cell": "Table of Contents",
   "title_sidebar": "Contents",
   "toc_cell": false,
   "toc_position": {
    "height": "1149px",
    "left": "1987.61px",
    "top": "0px",
    "width": "572.391px"
   },
   "toc_section_display": false,
   "toc_window_display": false
  },
  "toc-autonumbering": true
 },
 "nbformat": 4,
 "nbformat_minor": 4
}
