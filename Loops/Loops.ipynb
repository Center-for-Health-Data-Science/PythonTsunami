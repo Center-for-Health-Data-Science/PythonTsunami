{
 "cells": [
  {
   "cell_type": "markdown",
   "metadata": {
    "id": "KFib138AzHLW"
   },
   "source": [
    "<img src=\"https://github.com/Center-for-Health-Data-Science/PythonTsunami/blob/spring2022/figures/HeaDS_logo_large_withTitle.png?raw=1\" width=\"300\">\n",
    "\n",
    "<img src=\"https://github.com/Center-for-Health-Data-Science/PythonTsunami/blob/spring2022/figures/tsunami_logo.PNG?raw=1\" width=\"600\">\n",
    "\n",
    "[![Open In Colab](https://colab.research.google.com/assets/colab-badge.svg)](https://colab.research.google.com/github/Center-for-Health-Data-Science/PythonTsunami/blob/fall2021/Loops/Loops.ipynb)"
   ]
  },
  {
   "cell_type": "markdown",
   "metadata": {},
   "source": [
    "**For (anonymous) questions**, use this **[Padlet link](https://ucph.padlet.org/henrikezschach1/7f65ytua2sv0qt9g)**. "
   ]
  },
  {
   "cell_type": "markdown",
   "metadata": {
    "id": "jzzrpQS-zxnF"
   },
   "source": [
    "# Loops"
   ]
  },
  {
   "cell_type": "markdown",
   "metadata": {
    "id": "HrDeygtfzx7P"
   },
   "source": [
    "Consider the code below: It prints the numbers 1 through 10 using what we've learned so far.  \n",
    "This notebook is about how to do the same task less tediously. **Loops** are a way to repeatedly execute some code, in a simple and succinct way."
   ]
  },
  {
   "cell_type": "code",
   "execution_count": null,
   "metadata": {
    "id": "tjj39-AazwAb"
   },
   "outputs": [],
   "source": [
    "print(1)\n",
    "print(2)\n",
    "print(3)\n",
    "print(4)\n",
    "print(5)\n",
    "print(6)\n",
    "print(7)\n",
    "print(8)\n",
    "print(9)\n",
    "print(10)"
   ]
  },
  {
   "cell_type": "markdown",
   "metadata": {
    "id": "EClTb9Qy0i8U"
   },
   "source": [
    "## **`for`** loops\n",
    "\n",
    "In Python, **`for`** loops are written like this:\n",
    "\n",
    "```python\n",
    "for variable in sequence:\n",
    "    expression\n",
    "```\n",
    "\n",
    "> Read: for each ***variable*** in ***sequence***, execute the ***expression*** (that is code you want to repeat for each variable)\n",
    "\n",
    "- ``variable`` is a variable and can be called whatever you want. \n",
    "\n",
    "- ``sequence`` is a sequence we iterate over. It is some kind of collection of items, for instance: a `str` of characters, a `range`, a list etc.\n",
    "\n",
    "- ``variable`` references the current position of our ***iterator*** within the **iterable variable**. It will iterate over (run through) every item of the collection and then go away when it has visited all items.\n",
    "\n",
    "- The body of the loop is **indented** to group statements."
   ]
  },
  {
   "cell_type": "code",
   "execution_count": null,
   "metadata": {
    "id": "aCmVJXXBzHLn"
   },
   "outputs": [],
   "source": [
    "number_list = [1, 2, 3, 4, 5, 6, 7, 8, 9, 10]\n",
    "\n",
    "for number in number_list:\n",
    "    print(number)"
   ]
  },
  {
   "cell_type": "markdown",
   "metadata": {
    "id": "rP62SBxWzHLw"
   },
   "source": [
    "## ``for`` loops with **ranges**\n",
    "Let's print numbers 1 - 10 using ranges."
   ]
  },
  {
   "cell_type": "code",
   "execution_count": null,
   "metadata": {
    "id": "aI1zSyEw1Tvk"
   },
   "outputs": [],
   "source": [
    "for number in range(1, 11):\n",
    "    print(number)"
   ]
  },
  {
   "cell_type": "markdown",
   "metadata": {
    "id": "ZCj6EX711bw1"
   },
   "source": [
    "### `range()` function\n",
    "\n",
    "The [**`range()`**](https://docs.python.org/3/library/functions.html#func-range) function returns a sequence of numbers, starting from 0 by default, and increments by 1 by default, and stops at a specified number (which is not included in the range).\n",
    "\n",
    "> The syntax is: `range(start, stop, step)`\n",
    "\n",
    "The *step* parameter tells the function how many steps to skip and which direction to count (**`+`** for **up** and **`-`** for **down**).\n",
    "\n",
    "Examples:\n",
    "\n",
    "- `range(8)` gives you integers from 0 through 7.\n",
    "\n",
    "- `range(2, 9)` will give you integers from 2 to 8.\n",
    "\n",
    "- `range(10, 20, 2)`  will give you even numbers from 10 to 20.\n",
    "\n",
    "- `range(9, 0, -1)`  will give you integers from 9 to 1.\n"
   ]
  },
  {
   "cell_type": "code",
   "execution_count": null,
   "metadata": {
    "id": "g2c31rHKzHLy"
   },
   "outputs": [],
   "source": [
    "for index, number in enumerate(range(1, 11)):\n",
    "    print(\"index \" + str(index) + \": \" + str(number))"
   ]
  },
  {
   "cell_type": "markdown",
   "metadata": {
    "id": "o42yFkWx4WyO"
   },
   "source": [
    "# Exercise 1\n",
    "\n",
    "_~ 20 minutes_"
   ]
  },
  {
   "cell_type": "markdown",
   "metadata": {
    "id": "xqhI0vljzHL0"
   },
   "source": [
    "**a.** What numbers does the following range generate?\n",
    "\n",
    "`range(4)` "
   ]
  },
  {
   "cell_type": "code",
   "execution_count": null,
   "metadata": {
    "id": "amW1Ja7kzHL0"
   },
   "outputs": [],
   "source": [
    "# your code goes here"
   ]
  },
  {
   "cell_type": "markdown",
   "metadata": {
    "id": "pHR_ctAfzHL0"
   },
   "source": [
    "**b.** What does the code below print?\n",
    "\n",
    "``` python\n",
    "nums = range(1,5)\n",
    "print(nums)\n",
    "```"
   ]
  },
  {
   "cell_type": "code",
   "execution_count": null,
   "metadata": {
    "id": "nJj4ebrLzHL1"
   },
   "outputs": [],
   "source": [
    "# your code goes here"
   ]
  },
  {
   "cell_type": "markdown",
   "metadata": {
    "id": "1453WLTVzHL1"
   },
   "source": [
    "**c.** What numbers does the following range generate?\n",
    "\n",
    "`range(12,0,-3)`"
   ]
  },
  {
   "cell_type": "code",
   "execution_count": null,
   "metadata": {
    "id": "B1LU-GHpzHL2"
   },
   "outputs": [],
   "source": [
    "# your code goes here"
   ]
  },
  {
   "cell_type": "markdown",
   "metadata": {
    "id": "YqDcWibUzHL2"
   },
   "source": [
    "**d.** Loop through numbers 1-20:\n",
    "- If the number is 4 or 13, print \"x is unlucky\"\n",
    "- Otherwise:\n",
    "    - If the number is even, print \"x is even\"\n",
    "    - If the number is odd, print \"x is odd\"\n",
    "\n",
    "> check [`Conditions.ipynb`](https://colab.research.google.com/github/Center-for-Health-Data-Science/PythonTsunami/blob/fall2021/Conditionals/Conditions.ipynb)"
   ]
  },
  {
   "cell_type": "code",
   "execution_count": null,
   "metadata": {
    "id": "AC4dgNEPzHL3"
   },
   "outputs": [],
   "source": []
  },
  {
   "cell_type": "markdown",
   "metadata": {
    "id": "4NJV8SnW2dcf"
   },
   "source": [
    "## **`while`** loops\n",
    "\n",
    "We can also iterate over a sequence using a **`while`** loop, which has a different format:\n",
    "\n",
    "```python\n",
    "while condition:\n",
    "    expression\n",
    "```\n",
    "`while` loops continue to execute while a certain condition is `True`, and will end when it becomes `False`.\n",
    "\n",
    "```python\n",
    "user_response = \"Something...\"\n",
    "while user_response != \"please\":\n",
    "    user_response = input(\"Ah ah ah, you didn't say the magic word: \")\n",
    "```\n",
    "\n",
    "`while` loops require more careful setup than `for` loops, since you have to specify the termination conditions manually.\n",
    "\n",
    "Be careful! If the condition doesn't become `False` at some point, your loop will continue ***forever***!"
   ]
  },
  {
   "cell_type": "code",
   "execution_count": null,
   "metadata": {
    "id": "dKlSQ64XzHL4"
   },
   "outputs": [],
   "source": [
    "error = 50.0\n",
    "\n",
    "while error > 1:\n",
    "    error = error / 4\n",
    "    print(error)"
   ]
  },
  {
   "cell_type": "markdown",
   "metadata": {
    "id": "xKOz5qSs5bfV"
   },
   "source": [
    "# Exercise 2\n",
    "\n",
    "_~15 minutes_\n",
    "\n",
    "**a.** What does the following loop do?\n",
    "```python\n",
    "    i = 1\n",
    "    while i < 5:\n",
    "        i + i\n",
    "        print(i)\n",
    "```\n",
    "    \n",
    "> Hint: is the value of `i` changing?"
   ]
  },
  {
   "cell_type": "code",
   "execution_count": null,
   "metadata": {
    "id": "MEX_6xXPzHL4"
   },
   "outputs": [],
   "source": [
    "# your code goes here"
   ]
  },
  {
   "cell_type": "markdown",
   "metadata": {
    "id": "NlbI1VH4zHL5"
   },
   "source": [
    "**b.** What does the following loop do?\n",
    "```python\n",
    "    i = 0\n",
    "    while i <= 5:\n",
    "        i =+ 1\n",
    "        print(i)\n",
    "```\n",
    "> Hint: have you checked for typos here?"
   ]
  },
  {
   "cell_type": "code",
   "execution_count": null,
   "metadata": {
    "id": "iu3oul_BzHL5"
   },
   "outputs": [],
   "source": [
    "# your code goes here"
   ]
  },
  {
   "cell_type": "markdown",
   "metadata": {
    "id": "CYMshsgmzHL6"
   },
   "source": [
    "**c.** What can we do to get out of the infinite loop below?\n",
    "```python\n",
    "    # this code runs forever...\n",
    "    x = 0\n",
    "    while x != 11:\n",
    "        x += 2\n",
    "        print(x)\n",
    "```\n",
    "\n",
    "1. change the condition to `x != 10`\n",
    "   \n",
    "2. change the condition to `x < 11`\n",
    "    \n",
    "3. add conditional that says \n",
    "    \n",
    "```python\n",
    "if x == 10:\n",
    "    break\n",
    "```\n",
    "\n",
    "4. press Ctrl + C to kill the program\n",
    "\n",
    "5. all of the above"
   ]
  },
  {
   "cell_type": "code",
   "execution_count": null,
   "metadata": {
    "id": "aH1WA-K7zHL6"
   },
   "outputs": [],
   "source": [
    "# your code goes here"
   ]
  },
  {
   "cell_type": "markdown",
   "metadata": {
    "id": "XKETo3jK3aue"
   },
   "source": [
    "## Python loop control\n",
    "\n",
    "Controlled exit, skipping a block of code, or ignoring external factors that might influence your code, can be achieved with the Python statements: `break`, `continue`, and `pass`."
   ]
  },
  {
   "cell_type": "markdown",
   "metadata": {
    "id": "xFv803XuzHL7"
   },
   "source": [
    "### ***`break`*** statement\n",
    "\n",
    "The keyword `break` gives us the ability to exit out of a loop whenever we want, and can be used in both `while` and `for` loops.\n",
    "\n",
    "Example:\n",
    "\n",
    "``` python\n",
    "for letter in 'Python':\n",
    "    if letter == 'h':\n",
    "        break\n",
    "    print('Current Letter:', letter)\n",
    "```"
   ]
  },
  {
   "cell_type": "markdown",
   "metadata": {
    "id": "Eff6JwP0zHL7"
   },
   "source": [
    "The `break` statement needs to be within the block of code under your loop statement, ususally after a conditional `if` statement."
   ]
  },
  {
   "cell_type": "code",
   "execution_count": null,
   "metadata": {
    "id": "VsEuKOb731qP"
   },
   "outputs": [],
   "source": [
    "for letter in 'Python':\n",
    "    if letter == 'h':\n",
    "        break\n",
    "    print('Current Letter :', letter)"
   ]
  },
  {
   "cell_type": "markdown",
   "metadata": {
    "id": "Uf24LfUJzHL8"
   },
   "source": [
    "### ***`continue`*** statement\n",
    "\n",
    "The [`continue`](https://docs.python.org/3/tutorial/controlflow.html#break-and-continue-statements-and-else-clauses-on-loops) statement in Python gives you the option to skip over the part of a loop where a condition is met, but to go on to complete the rest of the loop. That is, it disrupts the iteration of the loop that fulfills the condition and returns the control to the beginning of the loop. It works with both `while` and `for` loops.\n",
    "\n",
    "Example:\n",
    "\n",
    "``` python\n",
    "for letter in 'Python':\n",
    "    if letter == 'h':\n",
    "        continue\n",
    "    print('Current Letter :', letter)\n",
    "```"
   ]
  },
  {
   "cell_type": "markdown",
   "metadata": {
    "id": "V3Bic6PVzHL9"
   },
   "source": [
    "The difference in using `continue` rather than `break` is that the loop will continue despite the disruption when the condition is met."
   ]
  },
  {
   "cell_type": "code",
   "execution_count": null,
   "metadata": {
    "id": "8DJUYVlNzHL9"
   },
   "outputs": [],
   "source": [
    "for letter in 'Python':\n",
    "    if letter == 'h':\n",
    "        continue\n",
    "    print('Current Letter :', letter)"
   ]
  },
  {
   "cell_type": "markdown",
   "metadata": {
    "id": "n_HVORV8zHL9"
   },
   "source": [
    "### ***`pass`*** statement\n",
    "\n",
    "The [`pass`](https://docs.python.org/3/tutorial/controlflow.html#pass-statements) statement is used when a statement is required syntactically but you do not want any command or code to execute. It's a *null* operation.\n",
    "\n",
    "Example:\n",
    "\n",
    "``` python\n",
    "for letter in 'Python':\n",
    "    if letter == 'h':\n",
    "        pass\n",
    "    print('Current Letter :', letter)\n",
    "```"
   ]
  },
  {
   "cell_type": "code",
   "execution_count": null,
   "metadata": {
    "id": "JJ4O026WzHL-"
   },
   "outputs": [],
   "source": [
    "for letter in 'Python':\n",
    "    if letter == 'h':\n",
    "        pass\n",
    "    print('Current Letter :', letter)"
   ]
  },
  {
   "cell_type": "markdown",
   "metadata": {
    "id": "FIEj-qc5zHL-"
   },
   "source": [
    "# Exercise  \n",
    "\n",
    "_~ 15 minutes_\n",
    "\n",
    "Write a loop that:\n",
    "\n",
    "- iterates over each character in the string `\"I live in CPH, and I like it here.\"`;\n",
    "- for each character checks if it is an empty string;\n",
    "- if it is an empty string, then just continue with the loop;\n",
    "- if the character is an actual letter (not an empty string);\n",
    "- then check for each letter if it is a comma `,` or not;\n",
    "- if the letter is a comma `,`, break the loop;\n",
    "- if the letter is not a comma, print the letter."
   ]
  }
 ],
 "metadata": {
  "colab": {
   "collapsed_sections": [],
   "name": "Copy of loops.ipynb",
   "provenance": [
    {
     "file_id": "https://github.com/Center-for-Health-Data-Science/PythonTsunami/blob/spring2022/Loops/Loops.ipynb",
     "timestamp": 1649868065416
    }
   ]
  },
  "kernelspec": {
   "display_name": "Python 3",
   "language": "python",
   "name": "python3"
  },
  "language_info": {
   "codemirror_mode": {
    "name": "ipython",
    "version": 3
   },
   "file_extension": ".py",
   "mimetype": "text/x-python",
   "name": "python",
   "nbconvert_exporter": "python",
   "pygments_lexer": "ipython3",
   "version": "3.8.3"
  },
  "toc": {
   "base_numbering": 1,
   "nav_menu": {},
   "number_sections": true,
   "sideBar": true,
   "skip_h1_title": false,
   "title_cell": "Table of Contents",
   "title_sidebar": "Contents",
   "toc_cell": false,
   "toc_position": {},
   "toc_section_display": true,
   "toc_window_display": false
  },
  "toc-autonumbering": true
 },
 "nbformat": 4,
 "nbformat_minor": 1
}
