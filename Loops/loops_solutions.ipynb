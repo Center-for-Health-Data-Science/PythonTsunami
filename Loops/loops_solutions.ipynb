{
 "cells": [
  {
   "cell_type": "markdown",
   "metadata": {},
   "source": [
    "### Exercise 1\n",
    "\n",
    "Loop through numbers 1-20:\n",
    "- If the number is 4 or 13, print \"x is unlucky\"\n",
    "- Otherwise:\n",
    "    - If the number is even, print \"x is even\"\n",
    "    - If the number is odd, print \"x is odd\"\n",
    "\n",
    "> check [`Conditions.ipynb`](https://colab.research.google.com/github/Center-for-Health-Data-Science/PythonTsunami/blob/fall2021/Conditionals/Conditions.ipynb)"
   ]
  },
  {
   "cell_type": "code",
   "execution_count": 6,
   "metadata": {},
   "outputs": [
    {
     "name": "stdout",
     "output_type": "stream",
     "text": [
      "1 is uneven\n",
      "2 is even\n",
      "3 is uneven\n",
      "4 is unlucky\n",
      "5 is uneven\n",
      "6 is even\n",
      "7 is uneven\n",
      "8 is even\n",
      "9 is uneven\n",
      "10 is even\n",
      "11 is uneven\n",
      "12 is even\n",
      "13 is unlucky\n",
      "14 is even\n",
      "15 is uneven\n",
      "16 is even\n",
      "17 is uneven\n",
      "18 is even\n",
      "19 is uneven\n",
      "20 is even\n"
     ]
    }
   ],
   "source": [
    "for i in range(1,21):\n",
    "    if i == 4 or i == 13:\n",
    "        print(i, 'is unlucky')\n",
    "    else:\n",
    "        #he mode of uneven numbers with 2 is 0: even numbers are dividable by 2 without a left over\n",
    "        if i % 2 == 0:\n",
    "            print(i, \"is even\")\n",
    "        #the mode of uneven numbers with 2 is 1\n",
    "        else:\n",
    "            print(i, \"is uneven\")"
   ]
  },
  {
   "cell_type": "code",
   "execution_count": 3,
   "metadata": {},
   "outputs": [
    {
     "data": {
      "text/plain": [
       "0"
      ]
     },
     "execution_count": 3,
     "metadata": {},
     "output_type": "execute_result"
    }
   ],
   "source": [
    "#how does the mode operator (%) work: Try it out\n",
    "i = 4\n",
    "i % 2"
   ]
  },
  {
   "cell_type": "code",
   "execution_count": 4,
   "metadata": {},
   "outputs": [
    {
     "data": {
      "text/plain": [
       "1"
      ]
     },
     "execution_count": 4,
     "metadata": {},
     "output_type": "execute_result"
    }
   ],
   "source": [
    "i = 5\n",
    "i % 2"
   ]
  },
  {
   "cell_type": "markdown",
   "metadata": {},
   "source": [
    "## Exercise 2\n",
    "\n",
    "Create a Python script that guesses your age in a maximum of 8 tries. The script can ask only questions with the format \"Are you 50 years old?\". And you can answer only one of the three options: less, more or correct."
   ]
  },
  {
   "cell_type": "code",
   "execution_count": null,
   "metadata": {},
   "outputs": [],
   "source": [
    "#We establish a range of possible ages (in the beginning 0 to 100, or 1 to 100 if you will).\n",
    "#We calculate the middle of the range and ask. If incorrect, the range will be reduced by half. \n",
    "#We then recalculate the middle of the new range and ask again. This is called binary search.\n",
    "\n",
    "down = 0\n",
    "up = 100\n",
    "for i in range(1,10):\n",
    "    guessed_age = int((up + down) / 2)\n",
    "    answer = input('Are you ' + str(guessed_age) + \" years old?\")\n",
    "    if answer == 'correct':\n",
    "        print(\"Nice\")\n",
    "        break\n",
    "    elif answer == 'less':\n",
    "        up = guessed_age\n",
    "    elif answer == 'more':\n",
    "        down = guessed_age\n",
    "    else:\n",
    "        print('wrong answer')"
   ]
  }
 ],
 "metadata": {
  "kernelspec": {
   "display_name": "Python 3",
   "language": "python",
   "name": "python3"
  },
  "language_info": {
   "codemirror_mode": {
    "name": "ipython",
    "version": 3
   },
   "file_extension": ".py",
   "mimetype": "text/x-python",
   "name": "python",
   "nbconvert_exporter": "python",
   "pygments_lexer": "ipython3",
   "version": "3.8.5"
  }
 },
 "nbformat": 4,
 "nbformat_minor": 4
}
