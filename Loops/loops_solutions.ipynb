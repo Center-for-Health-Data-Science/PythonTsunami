{
 "cells": [
  {
   "cell_type": "markdown",
   "metadata": {},
   "source": [
    "# Exercise 1\n",
    "\n",
    "Loop through numbers 1-20:\n",
    "- If the number is 4 or 13, print \"x is unlucky\"\n",
    "- Otherwise:\n",
    "    - If the number is even, print \"x is even\"\n",
    "    - If the number is odd, print \"x is odd\"\n",
    "\n",
    "> check [`Conditions.ipynb`](https://colab.research.google.com/github/Center-for-Health-Data-Science/PythonTsunami/blob/fall2021/Conditionals/Conditions.ipynb)"
   ]
  },
  {
   "cell_type": "code",
   "execution_count": 6,
   "metadata": {},
   "outputs": [
    {
     "name": "stdout",
     "output_type": "stream",
     "text": [
      "1 is uneven\n",
      "2 is even\n",
      "3 is uneven\n",
      "4 is unlucky\n",
      "5 is uneven\n",
      "6 is even\n",
      "7 is uneven\n",
      "8 is even\n",
      "9 is uneven\n",
      "10 is even\n",
      "11 is uneven\n",
      "12 is even\n",
      "13 is unlucky\n",
      "14 is even\n",
      "15 is uneven\n",
      "16 is even\n",
      "17 is uneven\n",
      "18 is even\n",
      "19 is uneven\n",
      "20 is even\n"
     ]
    }
   ],
   "source": [
    "for i in range(1,21):\n",
    "    if i == 4 or i == 13:\n",
    "        print(i, 'is unlucky')\n",
    "    else:\n",
    "        #he mode of uneven numbers with 2 is 0: even numbers are dividable by 2 without a left over\n",
    "        if i % 2 == 0:\n",
    "            print(i, \"is even\")\n",
    "        #the mode of uneven numbers with 2 is 1\n",
    "        else:\n",
    "            print(i, \"is uneven\")"
   ]
  },
  {
   "cell_type": "code",
   "execution_count": 3,
   "metadata": {},
   "outputs": [
    {
     "data": {
      "text/plain": [
       "0"
      ]
     },
     "execution_count": 3,
     "metadata": {},
     "output_type": "execute_result"
    }
   ],
   "source": [
    "#how does the mode operator (%) work: Try it out\n",
    "i = 4\n",
    "i % 2"
   ]
  },
  {
   "cell_type": "code",
   "execution_count": 4,
   "metadata": {},
   "outputs": [
    {
     "data": {
      "text/plain": [
       "1"
      ]
     },
     "execution_count": 4,
     "metadata": {},
     "output_type": "execute_result"
    }
   ],
   "source": [
    "i = 5\n",
    "i % 2"
   ]
  },
  {
   "cell_type": "markdown",
   "metadata": {},
   "source": [
    "# Exercise 2\n",
    "\n",
    "Write a loop that:\n",
    "\n",
    "- iterates over each character in the string `\"I live in CPH, and I like it here.\"`;\n",
    "- for each character checks if it is an empty string;\n",
    "- if it is an empty string, then just continue with the loop;\n",
    "- if the character is an actual letter (not an empty string);\n",
    "- then check for each letter if it is a comma `,` or not;\n",
    "- if the letter is a comma `,`, break the loop;\n",
    "- if the letter is not a comma, print the letter."
   ]
  },
  {
   "cell_type": "code",
   "execution_count": null,
   "metadata": {},
   "outputs": [],
   "source": [
    "for letter in \"I live in CPH, and I like it here.\":    # Iterate over all characters in the string-\n",
    "    if letter == None:                                 # If the character is an empty string,\n",
    "        continue                                       # just continue with the loop.\n",
    "    \n",
    "    else:                                              # If the character is a letter...\n",
    "        if letter == \",\":                              # ...and if it is a comma, then break the loop.\n",
    "            break\n",
    "        else:                                          # ...and it is not a comma, then print the letter.\n",
    "            print(letter)"
   ]
  }
 ],
 "metadata": {
  "kernelspec": {
   "display_name": "Python 3",
   "language": "python",
   "name": "python3"
  },
  "language_info": {
   "codemirror_mode": {
    "name": "ipython",
    "version": 3
   },
   "file_extension": ".py",
   "mimetype": "text/x-python",
   "name": "python",
   "nbconvert_exporter": "python",
   "pygments_lexer": "ipython3",
   "version": "3.8.3"
  }
 },
 "nbformat": 4,
 "nbformat_minor": 4
}
