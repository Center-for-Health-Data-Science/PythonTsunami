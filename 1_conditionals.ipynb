{
 "cells": [
  {
   "cell_type": "markdown",
   "metadata": {
    "colab_type": "text",
    "id": "sx2_ytTonyCz"
   },
   "source": [
    "# Boolean and Conditional logic\n",
    "\n",
    "- prepared by [Katarina Nastou](https://www.cpr.ku.dk/staff/?pure=en/persons/672471)\n",
    "\n",
    "[![Open In Colab](https://colab.research.google.com/assets/colab-badge.svg)](https://colab.research.google.com/github/pythontsunami/teaching/blob/intro/1_conditionals.ipynb)"
   ]
  },
  {
   "cell_type": "markdown",
   "metadata": {
    "colab_type": "text",
    "id": "f0z_VyIZfL_2"
   },
   "source": [
    "## Objectives\n",
    "\n",
    "\n",
    "- Learn how to get user input in Python\n",
    "- Learn about \"Truthiness\"\n",
    "- Learn how to use comparison operators to make a basic program\n",
    "\n"
   ]
  },
  {
   "cell_type": "markdown",
   "metadata": {
    "colab_type": "text",
    "id": "OMcp2kWqi8ik"
   },
   "source": [
    "## User Input\n",
    "There is a built-in function in Python called \"input\" that will prompt the user and store the result to a variable.\n"
   ]
  },
  {
   "cell_type": "code",
   "execution_count": null,
   "metadata": {
    "colab": {
     "base_uri": "https://localhost:8080/",
     "height": 34
    },
    "colab_type": "code",
    "executionInfo": {
     "elapsed": 3474,
     "status": "ok",
     "timestamp": 1583694636703,
     "user": {
      "displayName": "Catherine Nst",
      "photoUrl": "",
      "userId": "00118750132604534762"
     },
     "user_tz": -60
    },
    "id": "90A_eVFDjZSO",
    "outputId": "2ca19a1e-f379-443d-9f97-3864784d83ad"
   },
   "outputs": [
    {
     "name": "stdout",
     "output_type": "stream",
     "text": [
      "Enter your name here: Khaleesi Mother of Dragons\n"
     ]
    }
   ],
   "source": [
    "name = input(\"Enter your name here: \")"
   ]
  },
  {
   "cell_type": "code",
   "execution_count": null,
   "metadata": {
    "colab": {
     "base_uri": "https://localhost:8080/",
     "height": 34
    },
    "colab_type": "code",
    "executionInfo": {
     "elapsed": 559,
     "status": "ok",
     "timestamp": 1583694638578,
     "user": {
      "displayName": "Catherine Nst",
      "photoUrl": "",
      "userId": "00118750132604534762"
     },
     "user_tz": -60
    },
    "id": "uFvOHE4QjhG_",
    "outputId": "258f0866-22a4-489b-d256-c5f7fa545b0e"
   },
   "outputs": [
    {
     "name": "stdout",
     "output_type": "stream",
     "text": [
      "Khaleesi Mother of Dragons\n"
     ]
    }
   ],
   "source": [
    "print(name)"
   ]
  },
  {
   "cell_type": "markdown",
   "metadata": {
    "colab_type": "text",
    "id": "UEidBq19jrHt"
   },
   "source": [
    "## Boolean Expressions"
   ]
  },
  {
   "cell_type": "markdown",
   "metadata": {
    "colab_type": "text",
    "id": "kKTTEKx1jv6h"
   },
   "source": [
    "### Conditional Statements"
   ]
  },
  {
   "cell_type": "markdown",
   "metadata": {
    "colab_type": "text",
    "id": "g7oUjlMDj1Bh"
   },
   "source": [
    "Conditional logic using ***if*** statements represents different paths a program can take based on some type of comparison of input.\n",
    "\n",
    "```\n",
    "if some condition is True:\n",
    "    do something\n",
    "elif some other condition is True:\n",
    "    do something\n",
    "else:\n",
    "    do something\n",
    "```"
   ]
  },
  {
   "cell_type": "code",
   "execution_count": null,
   "metadata": {
    "colab": {},
    "colab_type": "code",
    "id": "lNBhkHV5kB29"
   },
   "outputs": [],
   "source": [
    "if name == \"Gandalf\":\n",
    "    print(\"Run, you fools!\")\n",
    "elif name == \"Aragorn\":\n",
    "    print(\"There is always hope.\")\n",
    "else:\n",
    "    print(\"Move on then!\")"
   ]
  },
  {
   "cell_type": "markdown",
   "metadata": {
    "colab_type": "text",
    "id": "MBH1G8cJkHyg"
   },
   "source": [
    "Quiz: try setting the name variable to \"Gandalf\" or \"Aragorn\" and run the script above again."
   ]
  },
  {
   "cell_type": "markdown",
   "metadata": {
    "colab_type": "text",
    "id": "SKnzmfmgooc6"
   },
   "source": [
    "Exercise 1: At the next code block there is some code that randomly picks a number from 1 to 10. \n",
    "Write a conditional statement to check if `choice` is 5 and print `\"Five it is!\"` and in any other case print `\"Well that's not a 5!\"`."
   ]
  },
  {
   "cell_type": "code",
   "execution_count": null,
   "metadata": {
    "colab": {},
    "colab_type": "code",
    "id": "Mb_BZVxPooBS"
   },
   "outputs": [],
   "source": [
    "from random import randint\n",
    "choice = randint(1,10)\n",
    "\n",
    "# YOUR CODE GOES HERE vvvvvv\n"
   ]
  },
  {
   "cell_type": "markdown",
   "metadata": {
    "colab_type": "text",
    "id": "kioEJrhzpZnM"
   },
   "source": [
    "Exercise 2: At the next code block there is some code that randomly picks a number from 1 to 1000. Use a conditional statement to check if the number is odd and print \"odd\", otherwise print \"even\".\n",
    "\n",
    "*Hint*: Remember the numerical operators we saw before and think of which one can help you find an odd number."
   ]
  },
  {
   "cell_type": "code",
   "execution_count": null,
   "metadata": {
    "colab": {},
    "colab_type": "code",
    "id": "zaALh72SpZQi"
   },
   "outputs": [],
   "source": [
    "from random import randint\n",
    "num = randint(1, 1000) #picks random number from 1-1000\n",
    "\n",
    "# YOUR CODE GOES HERE vvvvvvv\n",
    "\n"
   ]
  },
  {
   "cell_type": "markdown",
   "metadata": {
    "colab_type": "text",
    "id": "IBHh_cJzlMLr"
   },
   "source": [
    "## Truthiness"
   ]
  },
  {
   "cell_type": "markdown",
   "metadata": {
    "colab_type": "text",
    "id": "hu3pjkY_lP5n"
   },
   "source": [
    "In Python, all conditional checks resolve to True or False.\n",
    "\n",
    "```\n",
    "x = 1\n",
    "x is 1  # True\n",
    "x is 0  # False\n",
    "```\n",
    "\n",
    "Besides False conditional checks, other things that are naturally \"falsy\" include: empty objects, empty strings, None, and zero.\n"
   ]
  },
  {
   "cell_type": "markdown",
   "metadata": {
    "colab_type": "text",
    "id": "0QVDXNorlaY4"
   },
   "source": [
    "### Comparison Operators"
   ]
  },
  {
   "cell_type": "markdown",
   "metadata": {
    "colab_type": "text",
    "id": "YZnI0AZGlc5N"
   },
   "source": [
    "In the examples, a = 2 and b = 2\n",
    "\n",
    "```\n",
    "\"==\" \tTrue if a has the same value as b \t\"a == b\"  # True\n",
    "\"!=\" \tTrue if a does NOT have the same value as b \t\"a != b\"  # False\n",
    "\">\"    True if a is greater than b    \"a > b\"  # False\n",
    "\"<\" \tTrue if a is less than be b \t\n",
    "\"a < b\"  # False\n",
    "\">=\"    True if a is greater than or equal to b    \"a >= b\"  # True\n",
    "\"<=\" \tTrue if a is less than or equal to b \t\"a <= b\"  # True\n",
    "```"
   ]
  },
  {
   "cell_type": "markdown",
   "metadata": {
    "colab_type": "text",
    "id": "ntvM86pmmVNf"
   },
   "source": [
    "### Logical Operators"
   ]
  },
  {
   "cell_type": "markdown",
   "metadata": {
    "colab_type": "text",
    "id": "HIOcNmRdmXkY"
   },
   "source": [
    "In Python, the following operators can be used to make Boolean Logic comparisons or statements:\n",
    "```\n",
    "\"and\" \tTrue if both a AND b are true (logical conjunction) \t\n",
    "if cats_are_cute and dogs_are_cute:\n",
    "    print(c)\n",
    "\n",
    "\"or\" \tTrue if either a OR b are true (logical disjunction) \t\n",
    "if am_tired or is_bedtime:\n",
    "    print(\"go to sleep\")\n",
    "\n",
    "\"not\" \tTrue if the opposite of a is true (logical negation) \t\n",
    "if not is_weekend:\n",
    "    print(\"go to work\")\n",
    "```"
   ]
  },
  {
   "cell_type": "markdown",
   "metadata": {
    "colab_type": "text",
    "id": "fJyWAxAkm6un"
   },
   "source": [
    "### is vs. \"==\""
   ]
  },
  {
   "cell_type": "markdown",
   "metadata": {
    "colab_type": "text",
    "id": "nSGr7Ozjm9WO"
   },
   "source": [
    "In python, \"==\" and \"is\" are very similar comparators, however they are not the same.\n",
    "```\n",
    "a = 1\n",
    "a == 1  # True\n",
    "a is 1  # True\n",
    "```\n",
    "\n",
    "```\n",
    "a = [1, 2, 3]  # a list of numbers\n",
    "b = [1, 2, 3]\n",
    "a == b  # True\n",
    "a is b  # False\n",
    "```\n",
    "\n",
    "```\n",
    "c = b\n",
    "b is c  # True\n",
    "```"
   ]
  },
  {
   "cell_type": "markdown",
   "metadata": {
    "colab_type": "text",
    "id": "xQVMaPxYnOkf"
   },
   "source": [
    "\"**is**\" is only True if the variables reference the same item *in memory*\n"
   ]
  },
  {
   "cell_type": "markdown",
   "metadata": {
    "colab_type": "text",
    "id": "gwg0M-dcqSad"
   },
   "source": [
    "Quiz:\n",
    "- *Question 1*: What is truthiness?\n",
    "        (a) Statements or facts that seem \"kind of true\" even if they aren't true necessarily\n",
    "        (b) Statements or expressions that result to a True value\n",
    "        (c) Code that never lies\n",
    "        (d) Computers have the tendency to believe things are True until provel False\n",
    "\n",
    "- *Question 2*: Is the following expression True or False?\n",
    "```\n",
    "    x = 15\n",
    "    y = 0\n",
    "    x or y  # this expression\n",
    "```\n",
    "hint: think about what bool(x or y)  results in?\n",
    "\n",
    "- *Question 3*: Is the following expression True or False?\n",
    "```\n",
    "    x = 0\n",
    "    y = None\n",
    "    x or y  # this expression\n",
    "```\n",
    "hint: think about what bool(x or y)  results in?\n",
    "\n",
    "\n",
    "- *Question 4*: Is the following expression True or False?\n",
    "```\n",
    "    x = 0\n",
    "    y = 1000\n",
    "    x and y  # this expression\n",
    "```\n",
    "Choose between the 2 options:\n",
    "        True, because y has a True value, therefore x and y must be true\n",
    "        False, because x is 0 which is \"falsy\"\n",
    "\n",
    "- *Question 5*: (Hard) Is the following expression True or False?\n",
    "```\n",
    "    a = -1\n",
    "    not a  # this expression\n",
    "```\n",
    "\n",
    "- *Question 6*: Hardest question! Is the following truthy or falsy:\n",
    "```\n",
    "    x = 0\n",
    "    y = -1\n",
    "    x or y and x - 1 == y and y + 1 == x\n",
    "```\n",
    "tip: put parentheses around different logical statements to make it easier to break down"
   ]
  },
  {
   "cell_type": "markdown",
   "metadata": {
    "colab_type": "text",
    "id": "6y2iwYFuncUy"
   },
   "source": [
    "## Recap\n"
   ]
  },
  {
   "cell_type": "markdown",
   "metadata": {
    "colab_type": "text",
    "id": "i-YiaG6YneFA"
   },
   "source": [
    "- Conditional logic can control the flow of a program\n",
    "\n",
    "- We can use comparison and logical operators to make conditional if statements\n",
    "\n",
    "- Conditional logic evaluates whether statements are true or false\n",
    "\n",
    "\n",
    "\n",
    "\n"
   ]
  },
  {
   "cell_type": "markdown",
   "metadata": {
    "colab_type": "text",
    "id": "THMUNuzm3jtb"
   },
   "source": [
    "*Note: This notebook's content structure has been adapted from Colt Steele's slides used in \"Modern Python 3 Bootcamp Course\" on Udemy*"
   ]
  }
 ],
 "metadata": {
  "colab": {
   "authorship_tag": "ABX9TyPA4FNVSbwbHXzTkHRRee18",
   "collapsed_sections": [],
   "name": "conditionals.ipynb",
   "provenance": []
  },
  "kernelspec": {
   "display_name": "Python 3",
   "language": "python",
   "name": "python3"
  },
  "language_info": {
   "codemirror_mode": {
    "name": "ipython",
    "version": 3
   },
   "file_extension": ".py",
   "mimetype": "text/x-python",
   "name": "python",
   "nbconvert_exporter": "python",
   "pygments_lexer": "ipython3",
   "version": "3.7.7"
  }
 },
 "nbformat": 4,
 "nbformat_minor": 4
}
