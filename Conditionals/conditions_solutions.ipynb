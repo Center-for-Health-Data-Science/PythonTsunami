{
 "cells": [
  {
   "cell_type": "markdown",
   "metadata": {},
   "source": [
    "## Exercise 1\n",
    "1.1: If you set the name variable to \"Gandalf\" and run the script below, what will be the output?  \n",
    "1.2: Why do we use `==` and not `is` in the code above?"
   ]
  },
  {
   "cell_type": "markdown",
   "metadata": {},
   "source": [
    "1.1: \"Run, you fools!\"\n",
    "1.2: We are testing for equality, not identity. Consider this example:\n",
    "\n",
    "```python\n",
    "\n",
    "a = [1,2,3]\n",
    "b = [1,2,3]\n",
    "```\n",
    "\n",
    "Obviously a == b, since they are both lists from 1 to 3. But a __is__ not b, since they are not the same object.\n",
    "\n",
    "Note: For some simple data types like int, string and boolean, a `is` b actually evaluates to true despite the explanation above. However, as we see with lists and other complex types this does not generalize and therefore you should not use the identity operator (`is`) to compare two different objects. \n"
   ]
  },
  {
   "cell_type": "code",
   "execution_count": 7,
   "metadata": {},
   "outputs": [],
   "source": [
    "a = 5\n",
    "b = 5"
   ]
  },
  {
   "cell_type": "code",
   "execution_count": 8,
   "metadata": {},
   "outputs": [
    {
     "data": {
      "text/plain": [
       "True"
      ]
     },
     "execution_count": 8,
     "metadata": {},
     "output_type": "execute_result"
    }
   ],
   "source": [
    "a == b"
   ]
  },
  {
   "cell_type": "code",
   "execution_count": 9,
   "metadata": {},
   "outputs": [
    {
     "data": {
      "text/plain": [
       "True"
      ]
     },
     "execution_count": 9,
     "metadata": {},
     "output_type": "execute_result"
    }
   ],
   "source": [
    "a is b"
   ]
  },
  {
   "cell_type": "code",
   "execution_count": 10,
   "metadata": {},
   "outputs": [],
   "source": [
    "a = [1,2,3]\n",
    "b = [1,2,3]"
   ]
  },
  {
   "cell_type": "code",
   "execution_count": 11,
   "metadata": {},
   "outputs": [
    {
     "data": {
      "text/plain": [
       "True"
      ]
     },
     "execution_count": 11,
     "metadata": {},
     "output_type": "execute_result"
    }
   ],
   "source": [
    "a == b"
   ]
  },
  {
   "cell_type": "code",
   "execution_count": 12,
   "metadata": {},
   "outputs": [
    {
     "data": {
      "text/plain": [
       "False"
      ]
     },
     "execution_count": 12,
     "metadata": {},
     "output_type": "execute_result"
    }
   ],
   "source": [
    "a is b"
   ]
  },
  {
   "cell_type": "markdown",
   "metadata": {},
   "source": [
    "## Exercise 2\n",
    "\n",
    "Create a variable and assign an integer as value, then build a conditional to test it:\n",
    "- If the value is below 0, print \"The value is negative\"\n",
    "- If the value is between 0 and 20 (including 0 and 20), print the value\n",
    "- Otherwise, print \"Out of scope\"\n",
    "\n",
    "Test it by changing the value of the variable."
   ]
  },
  {
   "cell_type": "code",
   "execution_count": 20,
   "metadata": {},
   "outputs": [],
   "source": [
    "my_int = 30"
   ]
  },
  {
   "cell_type": "code",
   "execution_count": 21,
   "metadata": {},
   "outputs": [
    {
     "name": "stdout",
     "output_type": "stream",
     "text": [
      "Out of scope.\n"
     ]
    }
   ],
   "source": [
    "if my_int < 0:\n",
    "    print(\"The value is negative\")\n",
    "elif my_int <= 20:\n",
    "    print(my_int)\n",
    "else:\n",
    "    print(\"Out of scope.\")"
   ]
  },
  {
   "cell_type": "code",
   "execution_count": null,
   "metadata": {},
   "outputs": [],
   "source": []
  }
 ],
 "metadata": {
  "kernelspec": {
   "display_name": "Python 3",
   "language": "python",
   "name": "python3"
  },
  "language_info": {
   "codemirror_mode": {
    "name": "ipython",
    "version": 3
   },
   "file_extension": ".py",
   "mimetype": "text/x-python",
   "name": "python",
   "nbconvert_exporter": "python",
   "pygments_lexer": "ipython3",
   "version": "3.8.5"
  }
 },
 "nbformat": 4,
 "nbformat_minor": 4
}
