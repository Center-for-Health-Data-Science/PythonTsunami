{
 "cells": [
  {
   "cell_type": "markdown",
   "metadata": {
    "id": "9M0YHUa0q1Z3"
   },
   "source": [
    "<img src=\"https://github.com/Center-for-Health-Data-Science/PythonTsunami/blob/oct_2022_3days/figures/HeaDS_logo_large_withTitle.png?raw=1\" width=\"300\">\n",
    "\n",
    "<img src=\"https://github.com/Center-for-Health-Data-Science/PythonTsunami/blob/oct_2022_3days/figures/tsunami_logo.PNG?raw=1\" width=\"600\">\n"
   ]
  },
  {
   "cell_type": "markdown",
   "metadata": {
    "id": "sx2_ytTonyCz"
   },
   "source": [
    "# Booleans and Conditional logic"
   ]
  },
  {
   "cell_type": "markdown",
   "metadata": {
    "id": "0QVDXNorlaY4"
   },
   "source": [
    "## Booleans\n",
    "\n",
    "> A Boolean is a datatype that can only take two values: `True` or `False`.\n",
    "\n",
    "## Comparison Operators\n",
    "\n",
    "Comparison operators tell how two Python values relate and they always result in a boolean (True or False). In other words, they answer yes/no questions.\n",
    "\n"
   ]
  },
  {
   "cell_type": "code",
   "execution_count": 1,
   "metadata": {
    "id": "vwMqQc7nbZYd",
    "outputId": "f0bc0b10-b099-4cfc-8a73-f7263a777e1c"
   },
   "outputs": [
    {
     "data": {
      "text/plain": [
       "False"
      ]
     },
     "execution_count": 1,
     "metadata": {},
     "output_type": "execute_result"
    }
   ],
   "source": [
    "2 == 3"
   ]
  },
  {
   "cell_type": "code",
   "execution_count": 2,
   "metadata": {
    "id": "sariRVVQbZYe",
    "outputId": "310d17c1-e0bb-445b-c30f-2fa30e8e03ad"
   },
   "outputs": [
    {
     "data": {
      "text/plain": [
       "True"
      ]
     },
     "execution_count": 2,
     "metadata": {},
     "output_type": "execute_result"
    }
   ],
   "source": [
    "2 < 3"
   ]
  },
  {
   "cell_type": "code",
   "execution_count": null,
   "metadata": {
    "id": "WhFuBHFcbZYe",
    "outputId": "36c87f36-a7d0-43b4-e644-9d3684ce168c"
   },
   "outputs": [
    {
     "data": {
      "text/plain": [
       "False"
      ]
     },
     "execution_count": 30,
     "metadata": {},
     "output_type": "execute_result"
    }
   ],
   "source": [
    "2 > 3"
   ]
  },
  {
   "cell_type": "markdown",
   "metadata": {
    "id": "NNAWPWDIbZYf"
   },
   "source": [
    "We will often use comparison operators between two variables, or between a variable and a value:"
   ]
  },
  {
   "cell_type": "code",
   "execution_count": null,
   "metadata": {
    "id": "w-k1LTjKbZY0",
    "outputId": "9e69408f-789e-4a03-d172-86ca1817da5f"
   },
   "outputs": [
    {
     "name": "stdout",
     "output_type": "stream",
     "text": [
      "True\n"
     ]
    }
   ],
   "source": [
    "#assigning a variable\n",
    "a = 2\n",
    "\n",
    "#Applying the comparison operator: Is a equal to 2? Well yes, we just defined it!\n",
    "print(a == 2)"
   ]
  },
  {
   "cell_type": "code",
   "execution_count": null,
   "metadata": {
    "id": "8zifI81LbZY3",
    "outputId": "76724e44-7f3b-400f-c9d0-5777d15b4a6b"
   },
   "outputs": [
    {
     "name": "stdout",
     "output_type": "stream",
     "text": [
      "False\n"
     ]
    }
   ],
   "source": [
    "b = 3\n",
    "\n",
    "#Applying a comparison between two variables:\n",
    "print(a == b)"
   ]
  },
  {
   "cell_type": "markdown",
   "metadata": {
    "id": "DcTDNIl7bZY3"
   },
   "source": [
    "The following comparison operators exist between two integer variables:\n",
    "Assume `a = 2` and `b = 3` as above.\n",
    "\n",
    "operator | Description | Result | Example (`a, b = 2, 3`)\n",
    "---      | ---         |--- | ---\n",
    "`==`  | **a** equal to **b** | True if **a** has the same value as **b**  | `a == b  # False`\n",
    "`!=`  |\t**a** not equal to **b** | True if **a** does NOT have the same value as **b** | `a != b  # True`\n",
    "`>`   | **a** greater than **b** | True if **a** is greater than **b**  |  `a > b  # False`\n",
    "`<`   | **a** less than **b** | True if **a** is less than be **b**  | `a < b # True`\n",
    "`>=`  | **a** greater than or equal to **b** | True if **a** is greater than or equal to **b**   |  `a >= b  # False`\n",
    "`<=`  | **a** less than or equal to **b** | True if **a** is less than or equal to **b** | `a <= b  # True`\n",
    "\n",
    "> Note: The result of a comparison is defined by the type of **a** and **b**, and the **operator** used.\n",
    "\n",
    "\n",
    "All conditional checks must always resolve to `True` or `False`, or an error if the two object types are not comparable."
   ]
  },
  {
   "cell_type": "code",
   "execution_count": null,
   "metadata": {
    "id": "CPlMv78Fq1Z9",
    "outputId": "c04d1ff0-ea5d-425a-87eb-ad4cefeb087f"
   },
   "outputs": [
    {
     "name": "stdout",
     "output_type": "stream",
     "text": [
      "False\n",
      "True\n",
      "True\n"
     ]
    }
   ],
   "source": [
    "#try it out!\n",
    "print(a > b)\n",
    "print(a < b)\n",
    "print(a != b)"
   ]
  },
  {
   "cell_type": "code",
   "execution_count": null,
   "metadata": {
    "id": "jkrbntrSbZY5",
    "outputId": "49b6712d-47e0-4410-c102-1638af25fd75"
   },
   "outputs": [
    {
     "name": "stdout",
     "output_type": "stream",
     "text": [
      "False\n",
      "<class 'bool'>\n"
     ]
    }
   ],
   "source": [
    "#Just like a variable, we can also store the result of the comparison. It will be a boolean\n",
    "\n",
    "result = a > b\n",
    "print(result)\n",
    "print(type(result))"
   ]
  },
  {
   "cell_type": "markdown",
   "metadata": {
    "id": "JzGGIHg2bZY5"
   },
   "source": [
    "The same operators can also be applied to two string variables.\n",
    "\n",
    "Greater/smaller than comparisons are based on the alphanumeric sort:"
   ]
  },
  {
   "cell_type": "code",
   "execution_count": null,
   "metadata": {
    "id": "P1Xv3n-3q1Z_",
    "outputId": "0bfcefbb-e527-41bf-88c1-a4e2ac011fa3"
   },
   "outputs": [
    {
     "name": "stdout",
     "output_type": "stream",
     "text": [
      "False\n",
      "True\n"
     ]
    }
   ],
   "source": [
    "print(\"a\" == \"b\")\n",
    "print(\"a\" != \"b\")"
   ]
  },
  {
   "cell_type": "code",
   "execution_count": null,
   "metadata": {
    "id": "i4dLrRq0bZY7",
    "outputId": "e0d6846d-85ad-4475-a500-2a53785629ed"
   },
   "outputs": [
    {
     "name": "stdout",
     "output_type": "stream",
     "text": [
      "True\n",
      "False\n",
      "True\n"
     ]
    }
   ],
   "source": [
    "print(\"a\" < \"b\")\n",
    "print(\"a\" > \"b\")\n",
    "\n",
    "#also works on multi character strings:\n",
    "print(\"carl\" < \"cbrl\")"
   ]
  },
  {
   "cell_type": "code",
   "execution_count": null,
   "metadata": {
    "id": "3oMejjiYbZY7",
    "outputId": "367d57cd-e2bd-46ed-a83e-32f79dff9c9c"
   },
   "outputs": [
    {
     "name": "stdout",
     "output_type": "stream",
     "text": [
      "True\n"
     ]
    }
   ],
   "source": [
    "#Why is \"cdk10\" smaller than \"cdk8\"?\n",
    "print(\"cdk10\" < \"cdk8\")"
   ]
  },
  {
   "cell_type": "markdown",
   "metadata": {
    "id": "fJyWAxAkm6un"
   },
   "source": [
    "## Equality\n",
    "\n",
    "More generally, we can test the __equality__ of two variables or objects with the equality operator `==`.\n",
    "\n",
    "Operator | Description |Example (`a, b = 2, 3`)\n",
    "---      | ---         |---\n",
    "`==`  | True if both sides evaluate to the same | `a == 2  # True`\n",
    "`==`  | True if both sides evaluate to the same | `a == b  # False`\n",
    "`!=` | True if both side do __not__ evaluate to the same | `a != b  # True`\n",
    "`!=` | True if both side do __not__ evaluate to the same | `a != 3  # True`\n",
    "\n",
    "There is also the __identity__ operator `is`, but it does something different than `==` and the explanation goes beyound the scope of this course. You can read about it [here](https://stackoverflow.com/questions/13650293/understanding-pythons-is-operator) if you're curious. For now, in 99% of case you actually want `==`.\n"
   ]
  },
  {
   "cell_type": "code",
   "execution_count": null,
   "metadata": {
    "colab": {
     "base_uri": "https://localhost:8080/"
    },
    "executionInfo": {
     "elapsed": 968,
     "status": "ok",
     "timestamp": 1649867303660,
     "user": {
      "displayName": "Henrike Zschach",
      "userId": "10873369072901591129"
     },
     "user_tz": -120
    },
    "id": "2ErofN0KwPnK",
    "outputId": "40900504-ae5c-4102-df19-c4e594984ff5"
   },
   "outputs": [
    {
     "name": "stdout",
     "output_type": "stream",
     "text": [
      "False\n",
      "True\n"
     ]
    }
   ],
   "source": [
    "a = 2\n",
    "b = 3\n",
    "print(a == b)\n",
    "print(a != b)"
   ]
  },
  {
   "cell_type": "markdown",
   "metadata": {
    "id": "1tFy8R4ebZY8"
   },
   "source": [
    "This works between all types of objects:"
   ]
  },
  {
   "cell_type": "code",
   "execution_count": null,
   "metadata": {
    "colab": {
     "base_uri": "https://localhost:8080/"
    },
    "executionInfo": {
     "elapsed": 476,
     "status": "ok",
     "timestamp": 1649867313337,
     "user": {
      "displayName": "Henrike Zschach",
      "userId": "10873369072901591129"
     },
     "user_tz": -120
    },
    "id": "1VM8OBTBwSYa",
    "outputId": "285021ba-ec1b-4166-c989-86f7aa783902"
   },
   "outputs": [
    {
     "name": "stdout",
     "output_type": "stream",
     "text": [
      "True\n",
      "False\n"
     ]
    }
   ],
   "source": [
    "#comparing the equality of lists\n",
    "alist = [1, 2, 3]\n",
    "blist = [1, 2, 3]\n",
    "print(alist == blist)\n",
    "\n",
    "#comparing dictionaries\n",
    "food_dict = {\n",
    "    'fruit': ['banana', 'apple', 'strawberry'],\n",
    "    'veggies': ['eggplant', 'carrot']\n",
    "}\n",
    "\n",
    "city_population = {\n",
    "    'Tokyo': 13350000, # a key-value pair\n",
    "    'Los Angeles': 18550000,\n",
    "    'New York City': 8400000,\n",
    "    'San Francisco': 1837442,\n",
    "}\n",
    "\n",
    "print(food_dict == city_population)\n",
    "\n",
    "# we already saw == on integers and strings above"
   ]
  },
  {
   "cell_type": "markdown",
   "metadata": {
    "id": "GcazoV67q1aC"
   },
   "source": [
    "# Exercise 1\n",
    "\n",
    "_~ 5 minutes_\n",
    "\n",
    "**a.** What will be the result of this comparison?\n",
    "\n",
    "```python\n",
    "    x = 2\n",
    "    y = \"Anthony\"\n",
    "    x < y\n",
    "```\n",
    "\n",
    "1. ``True``\n",
    "2. ``False``\n",
    "3. Error\n",
    "\n",
    "**b.** What about this comparison?\n",
    "\n",
    "```python\n",
    "    x = 12.99\n",
    "    y = 12\n",
    "    x >= y\n",
    "```\n",
    "\n",
    "1. ``True``\n",
    "2. ``False``\n",
    "3. Error\n",
    "\n",
    "**c.** And this comparison?\n",
    "\n",
    "```python\n",
    "    x = 5\n",
    "    y = \"Hanna\"\n",
    "    x == y\n",
    "```\n",
    "\n",
    "1. ``True``\n",
    "2. ``False``\n",
    "3. Error"
   ]
  },
  {
   "cell_type": "markdown",
   "metadata": {
    "id": "ntvM86pmmVNf"
   },
   "source": [
    "## Logical Operators\n",
    "\n",
    "> Logical operators are used in conditional statements.\n",
    "\n",
    "* `and`, True if both **a** AND **b** are true (logical conjunction)\n",
    "* `or`, True if either **a** OR **b** are true (logical disjunction)\n",
    "* `not`, True if the opposite of **a** is true (logical negation)"
   ]
  },
  {
   "cell_type": "code",
   "execution_count": 6,
   "metadata": {
    "colab": {
     "base_uri": "https://localhost:8080/"
    },
    "executionInfo": {
     "elapsed": 368,
     "status": "ok",
     "timestamp": 1697011815626,
     "user": {
      "displayName": "Henrike Zschach",
      "userId": "10873369072901591129"
     },
     "user_tz": -120
    },
    "id": "EZWvPR08q1aI",
    "outputId": "4161e9e1-7cef-4af6-c271-bb9668c3cf94"
   },
   "outputs": [
    {
     "name": "stdout",
     "output_type": "stream",
     "text": [
      "True\n"
     ]
    }
   ],
   "source": [
    "# logical operator: and\n",
    "# will only return true if both conditions are true!\n",
    "a = True\n",
    "b = True\n",
    "\n",
    "res1 = a and b\n",
    "print(res1)"
   ]
  },
  {
   "cell_type": "code",
   "execution_count": 7,
   "metadata": {
    "colab": {
     "base_uri": "https://localhost:8080/"
    },
    "executionInfo": {
     "elapsed": 507,
     "status": "ok",
     "timestamp": 1697011817612,
     "user": {
      "displayName": "Henrike Zschach",
      "userId": "10873369072901591129"
     },
     "user_tz": -120
    },
    "id": "SOQ2y_LybZY_",
    "outputId": "efb83197-d01e-4e4e-a3d5-bf951b7b57f8"
   },
   "outputs": [
    {
     "name": "stdout",
     "output_type": "stream",
     "text": [
      "False\n"
     ]
    }
   ],
   "source": [
    "c = False\n",
    "res2 = a and c\n",
    "print(res2)"
   ]
  },
  {
   "cell_type": "code",
   "execution_count": 8,
   "metadata": {
    "colab": {
     "base_uri": "https://localhost:8080/"
    },
    "executionInfo": {
     "elapsed": 498,
     "status": "ok",
     "timestamp": 1697011824191,
     "user": {
      "displayName": "Henrike Zschach",
      "userId": "10873369072901591129"
     },
     "user_tz": -120
    },
    "id": "NKFc4R7Dq1aI",
    "outputId": "81b3dc99-89f6-4415-b241-c6f398dc4fc0"
   },
   "outputs": [
    {
     "name": "stdout",
     "output_type": "stream",
     "text": [
      "True\n"
     ]
    }
   ],
   "source": [
    "# logical operator: or\n",
    "# will return true if at least one of the conditions is true\n",
    "\n",
    "#remember a = True and c = False as defined above\n",
    "res3 = a or c\n",
    "print(res3)"
   ]
  },
  {
   "cell_type": "code",
   "execution_count": 9,
   "metadata": {
    "colab": {
     "base_uri": "https://localhost:8080/"
    },
    "executionInfo": {
     "elapsed": 375,
     "status": "ok",
     "timestamp": 1697011825671,
     "user": {
      "displayName": "Henrike Zschach",
      "userId": "10873369072901591129"
     },
     "user_tz": -120
    },
    "id": "h_mNVi7kq1aJ",
    "outputId": "1f997fa1-1161-42a7-d681-c61a54e40466"
   },
   "outputs": [
    {
     "name": "stdout",
     "output_type": "stream",
     "text": [
      "False\n",
      "True\n"
     ]
    }
   ],
   "source": [
    "# logical operator: not\n",
    "# negates: True becomes False and False becomes True\n",
    "\n",
    "#remember a = True and c = False as defined above\n",
    "res4 = not a\n",
    "print(res4)\n",
    "res5 = not c\n",
    "print(res5)"
   ]
  },
  {
   "cell_type": "markdown",
   "metadata": {
    "id": "7RuyIQhaq1aL"
   },
   "source": [
    "## Membership operators\n",
    "\n",
    "Membership operators test whether a certain element is part of a container.\n",
    "\n",
    "Operator | Description |Example (`a = [1, 2, 3]`)\n",
    "---      | ---         |---\n",
    "`in`  | True if value/variable is found in the sequence | `2 in a  # True`\n",
    "`not in` | True if value/variable is not found in the sequence | `5 not in a  # False`"
   ]
  },
  {
   "cell_type": "code",
   "execution_count": null,
   "metadata": {
    "id": "07Rdn4N6q1aL",
    "outputId": "322633e7-c9a1-4987-ef0a-0d5db8f28e6f"
   },
   "outputs": [
    {
     "data": {
      "text/plain": [
       "True"
      ]
     },
     "execution_count": 45,
     "metadata": {},
     "output_type": "execute_result"
    }
   ],
   "source": [
    "aa = ['alanine', 'glycine', 'tyrosine']\n",
    "'alanine' in aa"
   ]
  },
  {
   "cell_type": "markdown",
   "metadata": {
    "id": "qABCfBf-wlwu"
   },
   "source": [
    "Remember that strings are containers of characters, so `in` works on them as well!"
   ]
  },
  {
   "cell_type": "code",
   "execution_count": null,
   "metadata": {
    "id": "Em6en-Fdq1aM",
    "outputId": "8c0b5003-35c8-42f6-c81e-9024af13b7fc"
   },
   "outputs": [
    {
     "name": "stdout",
     "output_type": "stream",
     "text": [
      "glycine\n"
     ]
    },
    {
     "data": {
      "text/plain": [
       "True"
      ]
     },
     "execution_count": 47,
     "metadata": {},
     "output_type": "execute_result"
    }
   ],
   "source": [
    "print(aa[1])\n",
    "'gly' in aa[1]"
   ]
  },
  {
   "cell_type": "code",
   "execution_count": null,
   "metadata": {
    "id": "2PJSuZMrwsmQ"
   },
   "outputs": [],
   "source": [
    "my_s = \"Python is great!\"\n",
    "'great' in my_s"
   ]
  },
  {
   "cell_type": "markdown",
   "metadata": {
    "id": "gwg0M-dcqSad"
   },
   "source": [
    "# Exercise 2\n",
    "\n",
    "_~10 minutes_\n",
    "\n",
    "\n",
    "**a.**  What is the result of the following expression?\n",
    "\n",
    "```python\n",
    "a = True\n",
    "b = False\n",
    "a or b\n",
    "```\n",
    "\n",
    "What do you need to change to make this expression evaluate to `False`?\n"
   ]
  },
  {
   "cell_type": "code",
   "execution_count": null,
   "metadata": {
    "id": "gQ-dnetQbZZB"
   },
   "outputs": [],
   "source": [
    "# your code here"
   ]
  },
  {
   "cell_type": "markdown",
   "metadata": {
    "id": "QKClzGGDbZZC"
   },
   "source": [
    "**b.** How can you find out if the following list contains 'Copenhagen'?\n",
    "\n",
    "```python\n",
    "capitals = ['Berlin', 'London', 'Copenhagen', 'Madrid']\n",
    "```"
   ]
  },
  {
   "cell_type": "code",
   "execution_count": null,
   "metadata": {
    "id": "W-Lzsu1qbZZC"
   },
   "outputs": [],
   "source": [
    "# your code here"
   ]
  },
  {
   "cell_type": "markdown",
   "metadata": {
    "id": "IqeyZUTnbZZD"
   },
   "source": [
    "## Flow of code\n",
    "\n",
    "So far we have made code that flows linearly. The statements are executed one after each other like here:\n",
    "\n",
    "```python\n",
    "\n",
    "my_var = 1\n",
    "\n",
    "my_var += 10\n",
    "\n",
    "print(my_var)\n",
    "\n",
    "print(my_var == 11)\n",
    "\n",
    "```\n",
    "\n",
    "You can see, all lines start at the same left edge of the page. We say they are on the same **indentation level**.\n",
    "\n",
    "But often when we program we want different things to happen depending on a condition:\n",
    "\n",
    "\n"
   ]
  },
  {
   "cell_type": "markdown",
   "metadata": {
    "id": "jszupMvobZZD"
   },
   "source": [
    "<img src=\"https://cdn.slidesharecdn.com/ss_thumbnails/2997-simple-flowchart-190608094521-thumbnail-4.jpg?cb=1559987152\" width=\"600\">\n",
    "\n",
    "\n",
    "The way we control flow in python is with **indentation**. It defines where a line of code belongs. Lines that are on the same level of indentation will be executed linearly, one after another. Lines on a different indentation level means there is some sort of flow control happening.\n",
    "\n",
    "```python\n",
    "if some condition is True:\n",
    "    do something\n",
    "    everything I write here is part of the if block\n",
    "    it will only be executed if the condition is true\n",
    "    more commands\n",
    "\n",
    "#when we return to the outermost indentation level python knows the if block is over    \n",
    "elif some other condition is True:\n",
    "    do something else\n",
    "\n",
    "else:\n",
    "    do something\n",
    "```\n",
    "\n"
   ]
  },
  {
   "cell_type": "markdown",
   "metadata": {
    "id": "kKTTEKx1jv6h"
   },
   "source": [
    "## Conditional Statements"
   ]
  },
  {
   "cell_type": "markdown",
   "metadata": {
    "id": "g7oUjlMDj1Bh"
   },
   "source": [
    "> [Conditional statements](https://docs.python.org/3/tutorial/controlflow.html#if-statements) use the keywords `if`, `elif` and `else`, and they let you control which pieces of code are run based on the value of some Boolean condition.\n",
    "\n",
    "As shown above the basic syntax of an `if` block is:\n",
    "\n",
    "```python\n",
    "if some condition is True:\n",
    "    do something\n",
    "elif some other condition is True:\n",
    "    do something\n",
    "else:\n",
    "    do something\n",
    "```\n",
    "\n",
    "* The lines containing `if`, `elif` and `else` always need to end with a `:` (colon).\n",
    "* Only `if` and `elif` are followed by conditions, whereas `else` is never followed by anything else than a `:` (colon).\n",
    "* `if` and `elif` are exclusive. They cannot simultaneously be true! In fact, the `elif` condition will only be checked if the `if` condition is False.\n",
    "* Code to be executed if the condition is True always needs to be indented."
   ]
  },
  {
   "cell_type": "code",
   "execution_count": null,
   "metadata": {
    "id": "HXqX8CqtbZZE",
    "outputId": "185243d7-8e76-4c22-f1b8-eba14668a4df"
   },
   "outputs": [
    {
     "name": "stdout",
     "output_type": "stream",
     "text": [
      "Here's your beer\n"
     ]
    }
   ],
   "source": [
    "# if/else\n",
    "\n",
    "age = 23\n",
    "\n",
    "if age >= 18:\n",
    "    print(\"Here's your beer\")\n",
    "else:\n",
    "    print(\"Come back when you're 18!\")\n"
   ]
  },
  {
   "cell_type": "markdown",
   "metadata": {
    "id": "Ox_ELgiObZZE"
   },
   "source": [
    "The condition to be checked can also be a boolean itself! For example:"
   ]
  },
  {
   "cell_type": "code",
   "execution_count": null,
   "metadata": {
    "id": "KE9P9AnFq1aQ",
    "outputId": "b404b75d-2269-476e-f835-1d3573d1b82d"
   },
   "outputs": [
    {
     "name": "stdout",
     "output_type": "stream",
     "text": [
      "Sleep in and enjoy the beach.\n"
     ]
    }
   ],
   "source": [
    "# if/else\n",
    "\n",
    "is_weekend = True\n",
    "\n",
    "if not is_weekend:\n",
    "    print(\"It's Monday.\")\n",
    "    print(\"Go to work.\")\n",
    "else:\n",
    "    print(\"Sleep in and enjoy the beach.\")\n"
   ]
  },
  {
   "cell_type": "markdown",
   "metadata": {},
   "source": [
    "This is a script I use to argue with people on the internet."
   ]
  },
  {
   "cell_type": "code",
   "execution_count": null,
   "metadata": {
    "id": "7lmYrTVjq1aQ",
    "outputId": "2085fec3-e88e-48a8-e102-db9d4e73d018"
   },
   "outputs": [
    {
     "name": "stdout",
     "output_type": "stream",
     "text": [
      "Ok, boomer.\n"
     ]
    }
   ],
   "source": [
    "# if/elif/else\n",
    "# the elif condition will only be checked if the if condition is False\n",
    "\n",
    "birth_year = 1950\n",
    "\n",
    "if birth_year < 1964:\n",
    "    print('Ok, boomer.')\n",
    "elif birth_year < 1990:\n",
    "    print(\"Sorry, the 90's was not 15 years ago. That's 2008.\")\n",
    "else:\n",
    "    print(\"Yeah yeah, talk to me when you're a grown-up, zoomer\")"
   ]
  },
  {
   "cell_type": "markdown",
   "metadata": {
    "id": "gqu5x9vy1D-I"
   },
   "source": [
    "You can use logical operators like **and**, **or** and **not** to combine complex conditions."
   ]
  },
  {
   "cell_type": "code",
   "execution_count": null,
   "metadata": {
    "id": "KqnhAZ1h1OJS"
   },
   "outputs": [],
   "source": [
    "#February\n",
    "month = 2\n",
    "\n",
    "#here I select for months that are either <= 2 or >= 12.\n",
    "if month <= 2 or month >= 12:\n",
    "    print('It is winter')"
   ]
  },
  {
   "cell_type": "code",
   "execution_count": 4,
   "metadata": {
    "id": "1ifTSPJK1jk-"
   },
   "outputs": [
    {
     "name": "stdout",
     "output_type": "stream",
     "text": [
      "Time for a beer!\n"
     ]
    }
   ],
   "source": [
    "#flirt check at the Friday bar\n",
    "hour = 5\n",
    "deadline = False\n",
    "\n",
    "if hour >= 5 and not deadline:\n",
    "    print(\"Time for a beer!\")\n",
    "else:\n",
    "    print(\"Let's work some more.\")"
   ]
  },
  {
   "cell_type": "markdown",
   "metadata": {
    "id": "TiBT7Psct_2F"
   },
   "source": [
    "## Truthiness\n",
    "\n",
    "In addition to comparing objects to each other, it is important to note that all Python objects are by __themselves__ either ``True`` or ``False``. We call this concept __Truthiness__.\n",
    "\n",
    "We will wrap `bool` around the variable to make python evaluate it.\n",
    "\n",
    "```python\n",
    "x = 1\n",
    "y = 0\n",
    "bool(x) # True\n",
    "bool(y) # False\n",
    "```\n",
    "\n",
    "Empty objects such as empty lists/tuples/arrays/strings, the `None` object, and the ``int`` ``0`` and ``float`` ``0.0`` are by definition __False__.\n",
    "\n",
    "All non-empty objects are by definition __True__.\n",
    "\n",
    "Let's see it:"
   ]
  },
  {
   "cell_type": "code",
   "execution_count": null,
   "metadata": {
    "id": "szJ9Xml6q1aA",
    "outputId": "822a1dd6-bcc2-43ba-b495-b7bada0cce30"
   },
   "outputs": [
    {
     "name": "stdout",
     "output_type": "stream",
     "text": [
      "False\n"
     ]
    }
   ],
   "source": [
    "# empty list\n",
    "a = []\n",
    "print(bool(a))"
   ]
  },
  {
   "cell_type": "code",
   "execution_count": null,
   "metadata": {
    "id": "7O69CegPq1aB",
    "outputId": "fe654717-6381-4449-da73-02de9c08749b"
   },
   "outputs": [
    {
     "name": "stdout",
     "output_type": "stream",
     "text": [
      "False\n",
      "False\n",
      "False\n"
     ]
    }
   ],
   "source": [
    "!\n",
    "a = 0\n",
    "b = None\n",
    "c = ''\n",
    "\n",
    "print(bool(a))\n",
    "print(bool(b))\n",
    "print(bool(c))"
   ]
  },
  {
   "cell_type": "code",
   "execution_count": null,
   "metadata": {
    "id": "9ShCKkEeu6lj"
   },
   "outputs": [],
   "source": [
    "# non-empty objects are True\n",
    "a = [1,2,3]\n",
    "b = 5\n",
    "c = 'Hi!'\n",
    "\n",
    "print(bool(a))\n",
    "print(bool(b))\n",
    "print(bool(c))"
   ]
  },
  {
   "cell_type": "markdown",
   "metadata": {
    "id": "hCM1dRHMcDXC"
   },
   "source": [
    "This comes in handy when we want to check whether an object already contains information:"
   ]
  },
  {
   "cell_type": "code",
   "execution_count": null,
   "metadata": {
    "id": "bI6njrg5c3Pb"
   },
   "outputs": [],
   "source": [
    "fav_food_list = []\n",
    "\n",
    "if fav_food_list:\n",
    "    print('These are my favorite foods:', fav_food_list)\n",
    "else:\n",
    "    fav_food_list.append('Pizzaaaaaaa')\n",
    "\n"
   ]
  },
  {
   "cell_type": "markdown",
   "metadata": {
    "id": "GldtDcjKdaQL"
   },
   "source": [
    "Often we will want to do something if the object is indeed empty (and perhaps nothing if it already has content), so we can use a **not** construct instead:"
   ]
  },
  {
   "cell_type": "code",
   "execution_count": null,
   "metadata": {
    "id": "kSaxxH1BdOns"
   },
   "outputs": [],
   "source": [
    "fav_food_list = []\n",
    "\n",
    "if not fav_food_list:\n",
    "    fav_food_list.append('Pizzaaaaaaa')\n",
    "\n",
    "print(fav_food_list)"
   ]
  },
  {
   "cell_type": "markdown",
   "metadata": {
    "id": "MBH1G8cJkHyg"
   },
   "source": [
    "# Exercise\n",
    "\n",
    "_~ 5 minutes_\n",
    "\n",
    "If you set the name variable to \"Gandalf\" and run the script below, what will the output be? How do you get the output 'Move on then'?"
   ]
  },
  {
   "cell_type": "code",
   "execution_count": null,
   "metadata": {
    "id": "lNBhkHV5kB29"
   },
   "outputs": [],
   "source": [
    "name = \"\"\n",
    "if name == \"Gandalf\":\n",
    "    print(\"Run, you fools!\")\n",
    "elif name == \"Aragorn\":\n",
    "    print(\"There is always hope.\")\n",
    "else:\n",
    "    print(\"Move on then!\")"
   ]
  },
  {
   "cell_type": "markdown",
   "metadata": {
    "id": "ZhdgpFH8q1aR"
   },
   "source": [
    "## Exercise 3\n",
    "\n",
    "_~ 10-15 minutes_\n",
    "\n",
    "Create a variable and assign an integer as value, then build a conditional to test it:\n",
    "- If the value is below 0, print \"The value is negative\".\n",
    "- If the value is between 0 and 20 (including 0 and 20), print the value.\n",
    "- Otherwise, print \"Out of scope\".\n",
    "\n",
    "Test it by changing the value of the variable."
   ]
  },
  {
   "cell_type": "code",
   "execution_count": null,
   "metadata": {
    "id": "cQvJ_9RHq1aR"
   },
   "outputs": [],
   "source": []
  }
 ],
 "metadata": {
  "colab": {
   "provenance": [
    {
     "file_id": "https://github.com/Center-for-Health-Data-Science/PythonTsunami/blob/oct_2022_3days/Conditionals/Conditions.ipynb",
     "timestamp": 1649865878015
    }
   ]
  },
  "kernelspec": {
   "display_name": "Python 3 (ipykernel)",
   "language": "python",
   "name": "python3"
  },
  "language_info": {
   "codemirror_mode": {
    "name": "ipython",
    "version": 3
   },
   "file_extension": ".py",
   "mimetype": "text/x-python",
   "name": "python",
   "nbconvert_exporter": "python",
   "pygments_lexer": "ipython3",
   "version": "3.11.1"
  },
  "rise": {
   "scroll": true
  },
  "toc": {
   "base_numbering": 1,
   "nav_menu": {},
   "number_sections": true,
   "sideBar": true,
   "skip_h1_title": false,
   "title_cell": "Table of Contents",
   "title_sidebar": "Contents",
   "toc_cell": false,
   "toc_position": {},
   "toc_section_display": true,
   "toc_window_display": false
  },
  "toc-autonumbering": true
 },
 "nbformat": 4,
 "nbformat_minor": 1
}
