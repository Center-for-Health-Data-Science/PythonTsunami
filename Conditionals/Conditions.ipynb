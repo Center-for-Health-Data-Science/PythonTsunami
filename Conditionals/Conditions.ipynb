{
 "cells": [
  {
   "cell_type": "markdown",
   "metadata": {
    "id": "9M0YHUa0q1Z3"
   },
   "source": [
    "<img src=\"https://github.com/Center-for-Health-Data-Science/PythonTsunami/blob/spring2022/figures/HeaDS_logo_large_withTitle.png?raw=1\" width=\"300\">\n",
    "\n",
    "<img src=\"https://github.com/Center-for-Health-Data-Science/PythonTsunami/blob/spring2022/figures/tsunami_logo.PNG?raw=1\" width=\"600\">\n",
    "\n",
    "[![Open In Colab](https://colab.research.google.com/assets/colab-badge.svg)](https://colab.research.google.com/github/Center-for-Health-Data-Science/PythonTsunami/blob/spring2022/Conditionals/Conditions.ipynb)"
   ]
  },
  {
   "cell_type": "markdown",
   "metadata": {},
   "source": [
    "**For (anonymous) questions**, use this **[Padlet link](https://ucph.padlet.org/henrikezschach1/7f65ytua2sv0qt9g)**. "
   ]
  },
  {
   "cell_type": "markdown",
   "metadata": {
    "id": "sx2_ytTonyCz"
   },
   "source": [
    "# Boolean and Conditional logic"
   ]
  },
  {
   "cell_type": "markdown",
   "metadata": {
    "id": "0QVDXNorlaY4"
   },
   "source": [
    "## Booleans\n",
    "\n",
    "> A Boolean can only take to values: `True` or `False`.\n",
    "\n",
    "## Comparison Operators\n",
    "\n",
    "Comparison operators can tell how two Python values relate, resulting in a boolean. They answer yes/no questions.\n",
    "\n",
    "In the example `a = 2` and `b = 2` we are comparing two integer (`int`) variables to each other.\n",
    "\n",
    "\n",
    "operator | Description | Result | Example (`a, b = 2, 2`)\n",
    "---      | ---         |--- | ---\n",
    "`==`  | **a** equal to **b** | True if **a** has the same value as **b**  | `a == b  # True`\n",
    "`!=`  |\t**a** not equal to **b** | True if **a** does NOT have the same value as **b** | `a != b  # False`\n",
    "`>`   | **a** greater than **b** | True if **a** is greater than **b**  |  `a > b  # False`\n",
    "`<`   | **a** less than **b** | True if **a** is less than be **b**  | `a < b # False`\n",
    "`>=`  | **a** greater than or equal to **b** | True if **a** is greater than or equal to **b**   |  `a >= b  # True`\n",
    "`<=`  | **a** less than or equal to **b** | True if **a** is less than or equal to **b** | `a <= b  # True`\n",
    "\n",
    "> Note: The result of a comparison is defined by the type of **a** and **b**, and the **operator** used.\n",
    "\n",
    "\n",
    "All conditional checks must always resolve to `True` or `False`, or an error if the two object types are not comparable."
   ]
  },
  {
   "cell_type": "code",
   "execution_count": null,
   "metadata": {
    "id": "CPlMv78Fq1Z9",
    "outputId": "c04d1ff0-ea5d-425a-87eb-ad4cefeb087f"
   },
   "outputs": [],
   "source": [
    "# numeric comparison\n",
    "a, b = (2, 2)\n",
    "a >= b"
   ]
  },
  {
   "cell_type": "code",
   "execution_count": null,
   "metadata": {
    "id": "P1Xv3n-3q1Z_",
    "outputId": "0bfcefbb-e527-41bf-88c1-a4e2ac011fa3"
   },
   "outputs": [],
   "source": [
    "# string comparison\n",
    "\"carl\" < \"chris\""
   ]
  },
  {
   "cell_type": "markdown",
   "metadata": {
    "id": "TiBT7Psct_2F"
   },
   "source": [
    "## Truthiness\n",
    "\n",
    "You can use comparison operators in the following way:\n",
    "\n",
    "```python\n",
    "x = 1\n",
    "x == 1  # True\n",
    "x == 0  # False\n",
    "```\n",
    "\n",
    "Moreover, it is important to note that all Python objects are by __themselves__ either ``True`` or ``False``. We call this __Truthiness__. \n",
    "\n",
    "```python\n",
    "x = 1\n",
    "y = 0\n",
    "bool(x) # True\n",
    "bool(y) # False\n",
    "```\n",
    "\n",
    "Empty objects such as empty lists/tuples/arrays/strings, the `None` object, and the ``int`` ``0`` and ``float`` ``0.0`` are by definition __False__. All non-empty objects are by definition __True__."
   ]
  },
  {
   "cell_type": "code",
   "execution_count": null,
   "metadata": {
    "id": "szJ9Xml6q1aA",
    "outputId": "822a1dd6-bcc2-43ba-b495-b7bada0cce30"
   },
   "outputs": [],
   "source": [
    "# empty list\n",
    "a = []\n",
    "bool(a)"
   ]
  },
  {
   "cell_type": "code",
   "execution_count": null,
   "metadata": {
    "id": "7O69CegPq1aB",
    "outputId": "fe654717-6381-4449-da73-02de9c08749b"
   },
   "outputs": [],
   "source": [
    "# 0, '' and None\n",
    "a = 0\n",
    "b = None\n",
    "c = ''\n",
    "\n",
    "print(bool(a))\n",
    "print(bool(b))\n",
    "print(bool(c))"
   ]
  },
  {
   "cell_type": "code",
   "execution_count": null,
   "metadata": {
    "id": "9ShCKkEeu6lj"
   },
   "outputs": [],
   "source": [
    "# non-empty objects are True\n",
    "a = [1,2,3]\n",
    "b = 5\n",
    "c = 'Hi!'\n",
    "\n",
    "print(bool(a))\n",
    "print(bool(b))\n",
    "print(bool(c))"
   ]
  },
  {
   "cell_type": "markdown",
   "metadata": {
    "id": "GcazoV67q1aC"
   },
   "source": [
    "# Exercise 1\n",
    "\n",
    "_~ 5 minutes_\n",
    "\n",
    "**a.** What will be the result of this comparison?\n",
    "\n",
    "```python\n",
    "    x = 2\n",
    "    y = \"Anthony\"\n",
    "    x < y\n",
    "```\n",
    "\n",
    "1. ``True``\n",
    "2. ``False``\n",
    "3. Error"
   ]
  },
  {
   "cell_type": "markdown",
   "metadata": {
    "id": "M0yrzH0nq1aE"
   },
   "source": [
    "**b.** What about this comparison?\n",
    "\n",
    "```python\n",
    "    x = 12.99\n",
    "    y = 12\n",
    "    x >= y\n",
    "```\n",
    "\n",
    "1. ``True``\n",
    "2. ``False``\n",
    "3. Error"
   ]
  },
  {
   "cell_type": "markdown",
   "metadata": {
    "id": "EvyCR7mZq1aG"
   },
   "source": [
    "**c.** And this comparison?\n",
    "\n",
    "```python\n",
    "    x = 5\n",
    "    y = \"Hanna\"\n",
    "    x == y\n",
    "```\n",
    "\n",
    "1. ``True``\n",
    "2. ``False``\n",
    "3. Error"
   ]
  },
  {
   "cell_type": "markdown",
   "metadata": {
    "id": "ntvM86pmmVNf"
   },
   "source": [
    "## Logical Operators\n",
    "\n",
    "> Logical operators are used in conditional statements.\n",
    "\n",
    "* `and`, True if both **a** AND **b** are true (logical conjunction)\n",
    "* `or`, True if either **a** OR **b** are true (logical disjunction) \n",
    "* `not`, True if the opposite of **a** is true (logical negation)"
   ]
  },
  {
   "cell_type": "code",
   "execution_count": null,
   "metadata": {
    "id": "EZWvPR08q1aI",
    "outputId": "d2b67d55-4cdf-414e-e329-4ac61e0484c0"
   },
   "outputs": [],
   "source": [
    "# logical operator: and\n",
    "cats_are_cute = True\n",
    "dogs_are_cute = True\n",
    "\n",
    "cats_are_cute and dogs_are_cute # True"
   ]
  },
  {
   "cell_type": "code",
   "execution_count": null,
   "metadata": {
    "id": "NKFc4R7Dq1aI",
    "outputId": "5da6dfa2-c72a-4075-f57e-778b9a6a430c"
   },
   "outputs": [],
   "source": [
    "# logical operator: or\n",
    "am_tired = True\n",
    "is_bedtime = False\n",
    "\n",
    "am_tired or is_bedtime # True"
   ]
  },
  {
   "cell_type": "code",
   "execution_count": null,
   "metadata": {
    "id": "h_mNVi7kq1aJ",
    "outputId": "0e3cceea-d1c3-4aad-ee7e-d6ea8a50f500"
   },
   "outputs": [],
   "source": [
    "# logical operator: not\n",
    "is_weekend = False\n",
    "\n",
    "not is_weekend # True"
   ]
  },
  {
   "cell_type": "markdown",
   "metadata": {
    "id": "fJyWAxAkm6un"
   },
   "source": [
    "## Equality\n",
    "\n",
    "We generally test the __equality__ of two variables or objects with the equality operator `==`.\n",
    "\n",
    "Operator | Description |Example (`a, b = 2, 3`)\n",
    "---      | ---         |---\n",
    "`==`  | True if both sides evaluate to the same | `a == 2  # True`\n",
    "`==`  | True if both sides evaluate to the same | `a == b  # False`\n",
    "`!=` | True if both side do __not__ evaluate to the same | `a != b  # True`\n",
    "`!=` | True if both side do __not__ evaluate to the same | `a != 3  # True`\n",
    "\n",
    "There is also the __identity__ operator `is`, but it does something different than `==` and the explanation goes beyound the scope of this course. You can read about it [here](https://stackoverflow.com/questions/13650293/understanding-pythons-is-operator) if you're curious. For now, in 99% of case you actually want `==`.\n"
   ]
  },
  {
   "cell_type": "code",
   "execution_count": null,
   "metadata": {
    "colab": {
     "base_uri": "https://localhost:8080/"
    },
    "executionInfo": {
     "elapsed": 968,
     "status": "ok",
     "timestamp": 1649867303660,
     "user": {
      "displayName": "Henrike Zschach",
      "userId": "10873369072901591129"
     },
     "user_tz": -120
    },
    "id": "2ErofN0KwPnK",
    "outputId": "40900504-ae5c-4102-df19-c4e594984ff5"
   },
   "outputs": [],
   "source": [
    "a = 1\n",
    "b = 1\n",
    "print(a == b)"
   ]
  },
  {
   "cell_type": "code",
   "execution_count": null,
   "metadata": {
    "colab": {
     "base_uri": "https://localhost:8080/"
    },
    "executionInfo": {
     "elapsed": 476,
     "status": "ok",
     "timestamp": 1649867313337,
     "user": {
      "displayName": "Henrike Zschach",
      "userId": "10873369072901591129"
     },
     "user_tz": -120
    },
    "id": "1VM8OBTBwSYa",
    "outputId": "285021ba-ec1b-4166-c989-86f7aa783902"
   },
   "outputs": [],
   "source": [
    "a = [1, 2, 3]\n",
    "b = [1, 2, 3]\n",
    "print(a == b)"
   ]
  },
  {
   "cell_type": "markdown",
   "metadata": {
    "id": "7RuyIQhaq1aL"
   },
   "source": [
    "## Membership operators\n",
    "\n",
    "Membership operators test whether a certain element is part of a container.\n",
    "\n",
    "Operator | Description |Example (`a = [1, 2, 3]`)\n",
    "---      | ---         |---\n",
    "`in`  | True if value/variable is found in the sequence | `2 in a  # True`\n",
    "`not in` | True if value/variable is not found in the sequence | `5 not in a  # False`"
   ]
  },
  {
   "cell_type": "code",
   "execution_count": null,
   "metadata": {
    "id": "07Rdn4N6q1aL",
    "outputId": "322633e7-c9a1-4987-ef0a-0d5db8f28e6f"
   },
   "outputs": [],
   "source": [
    "aa = ['alanine', 'glycine', 'tyrosine']\n",
    "'alanine' in aa"
   ]
  },
  {
   "cell_type": "code",
   "execution_count": null,
   "metadata": {
    "id": "Em6en-Fdq1aM",
    "outputId": "8c0b5003-35c8-42f6-c81e-9024af13b7fc"
   },
   "outputs": [],
   "source": [
    "'gly' in aa[0]"
   ]
  },
  {
   "cell_type": "markdown",
   "metadata": {
    "id": "qABCfBf-wlwu"
   },
   "source": [
    "Remember that strings are containers of characters, so `in` works on them as well!"
   ]
  },
  {
   "cell_type": "code",
   "execution_count": null,
   "metadata": {
    "colab": {
     "base_uri": "https://localhost:8080/"
    },
    "executionInfo": {
     "elapsed": 410,
     "status": "ok",
     "timestamp": 1649867436115,
     "user": {
      "displayName": "Henrike Zschach",
      "userId": "10873369072901591129"
     },
     "user_tz": -120
    },
    "id": "2PJSuZMrwsmQ",
    "outputId": "0d8b5ae0-981c-4205-bd48-57872443bdf8"
   },
   "outputs": [],
   "source": [
    "my_s = \"Python is great!\"\n",
    "'great' in my_s"
   ]
  },
  {
   "cell_type": "markdown",
   "metadata": {
    "id": "gwg0M-dcqSad"
   },
   "source": [
    "# Exercise 2\n",
    "\n",
    "_~10 minutes_\n",
    "\n",
    "\n",
    "**a.** What is truthiness?\n",
    "\n",
    "1. Statements or facts that seem \"kind of true\" even if they aren't true necessarily.\n",
    "2. Statements or expressions that result to a `True` value.\n",
    "3. Code that never lies.\n",
    "4. Computers have the tendency to believe things are `True` until proven `False`."
   ]
  },
  {
   "cell_type": "markdown",
   "metadata": {
    "id": "56jO9mb_q1aN"
   },
   "source": [
    "**b.** What is the result of the following expression?\n",
    "\n",
    "```python\n",
    "    x = 15\n",
    "    y = 0\n",
    "    bool(x or y)  # this expression\n",
    "```"
   ]
  },
  {
   "cell_type": "code",
   "execution_count": null,
   "metadata": {
    "id": "491OIc08q1aN"
   },
   "outputs": [],
   "source": [
    "# your code codes here"
   ]
  },
  {
   "cell_type": "markdown",
   "metadata": {
    "id": "O_boD3Dpq1aO"
   },
   "source": [
    "**c.** What is the result of the following expression?\n",
    "\n",
    "```python\n",
    "    x = 0\n",
    "    y = None\n",
    "    x < y  # this expression\n",
    "```"
   ]
  },
  {
   "cell_type": "code",
   "execution_count": null,
   "metadata": {
    "executionInfo": {
     "elapsed": 515,
     "status": "ok",
     "timestamp": 1649867620126,
     "user": {
      "displayName": "Henrike Zschach",
      "userId": "10873369072901591129"
     },
     "user_tz": -120
    },
    "id": "r6ogDkabq1aO"
   },
   "outputs": [],
   "source": [
    "# your code codes here"
   ]
  },
  {
   "cell_type": "markdown",
   "metadata": {
    "id": "kBkqpvPjq1aO"
   },
   "source": [
    "**d.** What is the result of the following expression? And what is the difference between the last two lines?\n",
    "\n",
    "```python\n",
    "    x = 233\n",
    "    y = 0\n",
    "    z = None\n",
    "    print(x or y or z)  # this expression\n",
    "    print(bool(x or y or z))\n",
    "```"
   ]
  },
  {
   "cell_type": "code",
   "execution_count": null,
   "metadata": {
    "id": "q1a_qT_nq1aP"
   },
   "outputs": [],
   "source": [
    "# your code codes here"
   ]
  },
  {
   "cell_type": "markdown",
   "metadata": {
    "id": "kKTTEKx1jv6h"
   },
   "source": [
    "## Conditional Statements"
   ]
  },
  {
   "cell_type": "markdown",
   "metadata": {
    "id": "g7oUjlMDj1Bh"
   },
   "source": [
    "> [Conditional statements](https://docs.python.org/3/tutorial/controlflow.html#if-statements) use the keywords `if`, `elif` and `else`, and they let you control which pieces of code are run based on the value of some Boolean condition.\n",
    "\n",
    "The basic syntax of an `if` block is:\n",
    "\n",
    "```python\n",
    "if some condition is True:\n",
    "    do something\n",
    "elif some other condition is True:\n",
    "    do something\n",
    "else:\n",
    "    do something\n",
    "```\n",
    "\n",
    "* The lines containing `if`, `elif` and `else` always need to end with a `:` (colon).\n",
    "* Only `if` and `elif` are followed by conditions, whereas `else` is never followed by anything else than a `:` (colon).\n",
    "* Code to be executed if the condition is True always needs to be indented."
   ]
  },
  {
   "cell_type": "code",
   "execution_count": null,
   "metadata": {
    "id": "KE9P9AnFq1aQ",
    "outputId": "b404b75d-2269-476e-f835-1d3573d1b82d"
   },
   "outputs": [],
   "source": [
    "# if/else\n",
    "\n",
    "is_weekend = True\n",
    "\n",
    "if not is_weekend:\n",
    "    print(\"It's Monday.\")\n",
    "    print(\"Go to work.\")\n",
    "else:\n",
    "    print(\"Sleep in and enjoy the beach.\")\n",
    "    "
   ]
  },
  {
   "cell_type": "code",
   "execution_count": null,
   "metadata": {
    "id": "7lmYrTVjq1aQ",
    "outputId": "2085fec3-e88e-48a8-e102-db9d4e73d018"
   },
   "outputs": [],
   "source": [
    "# if/elif/else\n",
    "\n",
    "am_tired = True\n",
    "is_bedtime = True\n",
    "\n",
    "if not am_tired:\n",
    "    print(\"One more episode.\")  \n",
    "elif am_tired and is_bedtime:\n",
    "    print(\"Go to sleep.\")\n",
    "else:\n",
    "    print(\"Go to sleep anyways.\")"
   ]
  },
  {
   "cell_type": "markdown",
   "metadata": {
    "id": "MBH1G8cJkHyg"
   },
   "source": [
    "# Exercise \n",
    "\n",
    "_~ 5 minutes_\n",
    "\n",
    "If you set the name variable to \"Gandalf\" and run the script below, what will the output be? How do you get the output 'Move on then'?"
   ]
  },
  {
   "cell_type": "code",
   "execution_count": null,
   "metadata": {
    "id": "lNBhkHV5kB29"
   },
   "outputs": [],
   "source": [
    "name = \"\"\n",
    "if name == \"Gandalf\":\n",
    "    print(\"Run, you fools!\")\n",
    "elif name == \"Aragorn\":\n",
    "    print(\"There is always hope.\")\n",
    "else:\n",
    "    print(\"Move on then!\")"
   ]
  },
  {
   "cell_type": "markdown",
   "metadata": {
    "id": "ZhdgpFH8q1aR"
   },
   "source": [
    "## Exercise 3\n",
    "\n",
    "_~ 10-15 minutes_\n",
    "\n",
    "Create a variable and assign an integer as value, then build a conditional to test it:\n",
    "- If the value is below 0, print \"The value is negative\".\n",
    "- If the value is between 0 and 20 (including 0 and 20), print the value.\n",
    "- Otherwise, print \"Out of scope\".\n",
    "\n",
    "Test it by changing the value of the variable."
   ]
  },
  {
   "cell_type": "code",
   "execution_count": null,
   "metadata": {
    "id": "cQvJ_9RHq1aR"
   },
   "outputs": [],
   "source": []
  }
 ],
 "metadata": {
  "colab": {
   "collapsed_sections": [],
   "name": "Copy of conditionals.ipynb",
   "provenance": [
    {
     "file_id": "https://github.com/Center-for-Health-Data-Science/PythonTsunami/blob/spring2022/Conditionals/Conditions.ipynb",
     "timestamp": 1649865878015
    }
   ]
  },
  "kernelspec": {
   "display_name": "Python 3 (ipykernel)",
   "language": "python",
   "name": "python3"
  },
  "language_info": {
   "codemirror_mode": {
    "name": "ipython",
    "version": 3
   },
   "file_extension": ".py",
   "mimetype": "text/x-python",
   "name": "python",
   "nbconvert_exporter": "python",
   "pygments_lexer": "ipython3",
   "version": "3.9.12"
  },
  "rise": {
   "scroll": true
  },
  "toc": {
   "base_numbering": 1,
   "nav_menu": {},
   "number_sections": true,
   "sideBar": true,
   "skip_h1_title": false,
   "title_cell": "Table of Contents",
   "title_sidebar": "Contents",
   "toc_cell": false,
   "toc_position": {},
   "toc_section_display": true,
   "toc_window_display": false
  },
  "toc-autonumbering": true
 },
 "nbformat": 4,
 "nbformat_minor": 1
}
