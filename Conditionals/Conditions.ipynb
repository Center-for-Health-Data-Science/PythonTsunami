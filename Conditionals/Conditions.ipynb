{
 "cells": [
  {
   "cell_type": "markdown",
   "metadata": {},
   "source": [
    "<img src=\"../figures/HeaDS_logo_large_withTitle.png\" width=\"300\">\n",
    "\n",
    "<img src=\"../figures/tsunami_logo.PNG\" width=\"600\">\n",
    "\n",
    "[![Open In Colab](https://colab.research.google.com/assets/colab-badge.svg)](https://colab.research.google.com/github/Center-for-Health-Data-Science/PythonTsunami/blob/spring2022/Conditionals/Conditions.ipynb)"
   ]
  },
  {
   "cell_type": "markdown",
   "metadata": {
    "colab_type": "text",
    "id": "sx2_ytTonyCz",
    "slideshow": {
     "slide_type": "slide"
    }
   },
   "source": [
    "# Boolean and Conditional logic\n",
    "\n",
    "*prepared by [Katarina Nastou](https://www.cpr.ku.dk/staff/?pure=en/persons/672471), [Rita Colaço](https://www.cpr.ku.dk/staff/?id=621366&vis=medarbejder)* and [Iñigo Prada Luengo](https://research.ku.dk/search/result/?pure=en%2Fpersons%2Finigo-prada-luengo(c34d1714-3cf4-4a0f-9452-234271a00e9b).html)\n",
    "\n",
    "*Note: This notebook's content structure has been adapted from Colt Steele's slides used in [Modern Python 3 Bootcamp Course](https://www.udemy.com/course/the-modern-python3-bootcamp/) on Udemy*"
   ]
  },
  {
   "cell_type": "markdown",
   "metadata": {
    "colab_type": "text",
    "id": "0QVDXNorlaY4",
    "slideshow": {
     "slide_type": "slide"
    }
   },
   "source": [
    "## Booleans\n",
    "\n",
    "> A Boolean can only take to values: `True` or `False`.\n",
    "\n",
    "## Comparison Operators\n",
    "\n",
    "Comparison operators can tell how two Python values relate, resulting in a boolean. They answer yes/no questions.\n",
    "\n",
    "In the example `a = 2` and `b = 2`, i.e. we are comparing integers (`int`)\n",
    "\n",
    "\n",
    "operator | Description | Result | Example (`a, b = 2, 2`)\n",
    "---      | ---         |--- | ---\n",
    "`==`  | **a** equal to **b** | True if **a** has the same value as **b**  | `a == b  # True`\n",
    "`!=`  |\t**a** not equal to **b** | True if **a** does NOT have the same value as **b** | `a != b  # False`\n",
    "`>`   | **a** greater than **b** | True if **a** is greater than **b**  |  `a > b  # False`\n",
    "`<`   | **a** less than **b** | True if **a** is less than be **b**  | `a < b # False`\n",
    "`>=`  | **a** greater than or equal to **b** | True if **a** is greater than or equal to **b**   |  `a >= b  # True`\n",
    "`<=`  | **a** less than or equal to **b** | True if **a** is less than or equal to **b** | `a <= b  # True`\n",
    "\n",
    "> Hint: The result of a comparison is defined by the type of **a** and **b**, and the **operator** used.\n",
    "\n",
    "\n",
    "## Truthiness\n",
    "\n",
    "In Python, all conditional checks resolve to `True` or `False`.\n",
    "\n",
    "```python\n",
    "x = 1\n",
    "x == 1  # True\n",
    "x == 0  # False\n",
    "```\n",
    "\n",
    "Besides false conditional checks, other things that are naturally \"falsy\" include: empty lists/tuples/arrays, empty strings, None, and zero (and non-empty things are normally `True`)."
   ]
  },
  {
   "cell_type": "code",
   "execution_count": 1,
   "metadata": {
    "slideshow": {
     "slide_type": "fragment"
    }
   },
   "outputs": [
    {
     "data": {
      "text/plain": [
       "True"
      ]
     },
     "execution_count": 1,
     "metadata": {},
     "output_type": "execute_result"
    }
   ],
   "source": [
    "# numeric comparison\n",
    "a, b = (2, 2)\n",
    "a >= b"
   ]
  },
  {
   "cell_type": "code",
   "execution_count": 2,
   "metadata": {},
   "outputs": [
    {
     "data": {
      "text/plain": [
       "True"
      ]
     },
     "execution_count": 2,
     "metadata": {},
     "output_type": "execute_result"
    }
   ],
   "source": [
    "# string comparison\n",
    "\"carl\" < \"chris\""
   ]
  },
  {
   "cell_type": "code",
   "execution_count": 4,
   "metadata": {},
   "outputs": [
    {
     "data": {
      "text/plain": [
       "False"
      ]
     },
     "execution_count": 4,
     "metadata": {},
     "output_type": "execute_result"
    }
   ],
   "source": [
    "# empty list\n",
    "a = []\n",
    "bool(a)"
   ]
  },
  {
   "cell_type": "code",
   "execution_count": 5,
   "metadata": {},
   "outputs": [
    {
     "name": "stdout",
     "output_type": "stream",
     "text": [
      "False\n",
      "False\n"
     ]
    }
   ],
   "source": [
    "# 0 and None\n",
    "a = 0\n",
    "b = None\n",
    "\n",
    "print(bool(a))\n",
    "print(bool(b))"
   ]
  },
  {
   "cell_type": "markdown",
   "metadata": {},
   "source": [
    "### Quiz\n",
    "\n",
    "**Question 1**: What will be the result of this comparison?\n",
    "\n",
    "```python\n",
    "    x = 2\n",
    "    y = \"Anthony\"\n",
    "    x < y\n",
    "```\n",
    "\n",
    "1. True\n",
    "2. False\n",
    "3. Error"
   ]
  },
  {
   "cell_type": "markdown",
   "metadata": {},
   "source": [
    "**Question 2**: What about this comparison?\n",
    "\n",
    "```python\n",
    "    x = 12.99\n",
    "    y = 12\n",
    "    x >= y\n",
    "```\n",
    "\n",
    "1. True\n",
    "2. False\n",
    "3. Error"
   ]
  },
  {
   "cell_type": "markdown",
   "metadata": {},
   "source": [
    "**Question 3**: And this comparison?\n",
    "\n",
    "```python\n",
    "    x = 5\n",
    "    y = \"Hanna\"\n",
    "    x == y\n",
    "```\n",
    "\n",
    "1. True\n",
    "2. False\n",
    "3. Error"
   ]
  },
  {
   "cell_type": "markdown",
   "metadata": {
    "colab_type": "text",
    "id": "ntvM86pmmVNf",
    "slideshow": {
     "slide_type": "slide"
    }
   },
   "source": [
    "## Logical Operators\n",
    "\n",
    "> Logical operators are used in conditional statements.\n",
    "\n",
    "* `and`, True if both **a** AND **b** are true (logical conjunction)\n",
    "* `or`, True if either **a** OR **b** are true (logical disjunction) \n",
    "* `not`, True if the opposite of **a** is true (logical negation)"
   ]
  },
  {
   "cell_type": "code",
   "execution_count": 7,
   "metadata": {},
   "outputs": [
    {
     "data": {
      "text/plain": [
       "True"
      ]
     },
     "execution_count": 7,
     "metadata": {},
     "output_type": "execute_result"
    }
   ],
   "source": [
    "# logical operator: and\n",
    "cats_are_cute = True\n",
    "dogs_are_cute = True\n",
    "\n",
    "cats_are_cute and dogs_are_cute # True"
   ]
  },
  {
   "cell_type": "code",
   "execution_count": 8,
   "metadata": {},
   "outputs": [
    {
     "data": {
      "text/plain": [
       "True"
      ]
     },
     "execution_count": 8,
     "metadata": {},
     "output_type": "execute_result"
    }
   ],
   "source": [
    "# logical operator: or\n",
    "am_tired = True\n",
    "is_bedtime = False\n",
    "\n",
    "am_tired or is_bedtime # True"
   ]
  },
  {
   "cell_type": "code",
   "execution_count": 9,
   "metadata": {},
   "outputs": [
    {
     "data": {
      "text/plain": [
       "True"
      ]
     },
     "execution_count": 9,
     "metadata": {},
     "output_type": "execute_result"
    }
   ],
   "source": [
    "# logical operator: not\n",
    "is_weekend = False\n",
    "\n",
    "not is_weekend # False"
   ]
  },
  {
   "cell_type": "markdown",
   "metadata": {
    "colab_type": "text",
    "id": "fJyWAxAkm6un",
    "slideshow": {
     "slide_type": "subslide"
    }
   },
   "source": [
    "## Identity operators\n",
    "\n",
    "Operator | Description |Example (`a, b = 2, 3`)\n",
    "---      | ---         |---\n",
    "`is`  | True if the operands are identical (refer to the same object) | `a is 2  # True`\n",
    "`is not` | True if the operands are not identical (do not refer to the same object) | `a is not b  # False`\n",
    "\n",
    "* In python, `==` and `is` are very similar operators, however they are NOT the same.\n",
    "* `==` compares **equality**, while `is` compares by checking for the **identity**.\n",
    "* **`is`** comparisons only return `True` if the variables reference the same item *in memory*. "
   ]
  },
  {
   "cell_type": "code",
   "execution_count": 21,
   "metadata": {
    "colab_type": "text",
    "id": "nSGr7Ozjm9WO",
    "slideshow": {
     "slide_type": "fragment"
    }
   },
   "outputs": [
    {
     "name": "stdout",
     "output_type": "stream",
     "text": [
      "True\n"
     ]
    }
   ],
   "source": [
    "a = 1\n",
    "b = 1\n",
    "print(a == b)"
   ]
  },
  {
   "cell_type": "code",
   "execution_count": 22,
   "metadata": {
    "colab_type": "text",
    "id": "nSGr7Ozjm9WO",
    "slideshow": {
     "slide_type": "fragment"
    }
   },
   "outputs": [
    {
     "name": "stdout",
     "output_type": "stream",
     "text": [
      "True\n",
      "False\n"
     ]
    }
   ],
   "source": [
    "a = [1, 2, 3]\n",
    "b = [1, 2, 3]\n",
    "print(a == b)\n",
    "print(a is b)"
   ]
  },
  {
   "cell_type": "markdown",
   "metadata": {},
   "source": [
    "## Membership operators\n",
    "\n",
    "Operator | Description |Example (`a = [1, 2, 3]`)\n",
    "---      | ---         |---\n",
    "`in`  | True if value/variable is found in the sequence | `2 in a  # True`\n",
    "`not in` | True if value/variable is not found in the sequence | `5 not in a  # False`"
   ]
  },
  {
   "cell_type": "code",
   "execution_count": 16,
   "metadata": {},
   "outputs": [
    {
     "data": {
      "text/plain": [
       "True"
      ]
     },
     "execution_count": 16,
     "metadata": {},
     "output_type": "execute_result"
    }
   ],
   "source": [
    "aa = ['alanine', 'glycine', 'tyrosine']\n",
    "\n",
    "'alanine' in aa"
   ]
  },
  {
   "cell_type": "code",
   "execution_count": 17,
   "metadata": {},
   "outputs": [
    {
     "data": {
      "text/plain": [
       "False"
      ]
     },
     "execution_count": 17,
     "metadata": {},
     "output_type": "execute_result"
    }
   ],
   "source": [
    "'gly' in aa[0]"
   ]
  },
  {
   "cell_type": "markdown",
   "metadata": {
    "colab_type": "text",
    "id": "gwg0M-dcqSad",
    "slideshow": {
     "slide_type": "slide"
    }
   },
   "source": [
    "## Quiz\n",
    "\n",
    "**Question 1**: What is truthiness?\n",
    "\n",
    "1. Statements or facts that seem \"kind of true\" even if they aren't true necessarily.\n",
    "2. Statements or expressions that result to a `True` value.\n",
    "3. Code that never lies.\n",
    "4. Computers have the tendency to believe things are `True` until proven `False`."
   ]
  },
  {
   "cell_type": "markdown",
   "metadata": {
    "colab_type": "text",
    "id": "gwg0M-dcqSad",
    "slideshow": {
     "slide_type": "fragment"
    }
   },
   "source": [
    "**Question 2**: Is the following expression True or False?\n",
    "\n",
    "```python\n",
    "    x = 15\n",
    "    y = 0\n",
    "    bool(x or y)  # this expression\n",
    "```"
   ]
  },
  {
   "cell_type": "code",
   "execution_count": 23,
   "metadata": {
    "slideshow": {
     "slide_type": "fragment"
    }
   },
   "outputs": [
    {
     "data": {
      "text/plain": [
       "True"
      ]
     },
     "execution_count": 23,
     "metadata": {},
     "output_type": "execute_result"
    }
   ],
   "source": []
  },
  {
   "cell_type": "markdown",
   "metadata": {
    "colab_type": "text",
    "id": "gwg0M-dcqSad",
    "slideshow": {
     "slide_type": "subslide"
    }
   },
   "source": [
    "**Question 3**: What is the result of the following expression?\n",
    "\n",
    "```python\n",
    "    x = 0\n",
    "    y = None\n",
    "    x < None  # this expression\n",
    "```"
   ]
  },
  {
   "cell_type": "code",
   "execution_count": null,
   "metadata": {
    "slideshow": {
     "slide_type": "fragment"
    }
   },
   "outputs": [],
   "source": []
  },
  {
   "cell_type": "markdown",
   "metadata": {},
   "source": [
    "**Question 3**: What is the result of the following expression?\n",
    "\n",
    "```python\n",
    "    x = 233\n",
    "    y = 0\n",
    "    z = None\n",
    "    x or y or z  # this expression\n",
    "```"
   ]
  },
  {
   "cell_type": "code",
   "execution_count": 27,
   "metadata": {},
   "outputs": [
    {
     "data": {
      "text/plain": [
       "233"
      ]
     },
     "execution_count": 27,
     "metadata": {},
     "output_type": "execute_result"
    }
   ],
   "source": [
    "x = 233\n",
    "y = 0\n",
    "z = None\n",
    "x or y or z"
   ]
  },
  {
   "cell_type": "markdown",
   "metadata": {
    "colab_type": "text",
    "id": "kKTTEKx1jv6h",
    "slideshow": {
     "slide_type": "fragment"
    }
   },
   "source": [
    "## Conditional Statements"
   ]
  },
  {
   "cell_type": "markdown",
   "metadata": {
    "colab_type": "text",
    "id": "g7oUjlMDj1Bh",
    "slideshow": {
     "slide_type": "fragment"
    }
   },
   "source": [
    "> [Conditional statements](https://docs.python.org/3/tutorial/controlflow.html#if-statements), use the keywords `if`, `elif` and `else`, and they let you control what pieces of code are run based on the value of some Boolean condition.\n",
    "\n",
    "```python\n",
    "if some condition is True:\n",
    "    do something\n",
    "elif some other condition is True:\n",
    "    do something\n",
    "else:\n",
    "    do something\n",
    "```\n",
    "\n",
    "* If condition always finishes with `:` (colon)\n",
    "* Expression to be executed if condition succeeds always needs to be indented (spaces or tab, depending on the editor you are using)"
   ]
  },
  {
   "cell_type": "code",
   "execution_count": 28,
   "metadata": {},
   "outputs": [
    {
     "name": "stdout",
     "output_type": "stream",
     "text": [
      "Sleep in and enjoy the beach.\n"
     ]
    }
   ],
   "source": [
    "# if/else\n",
    "\n",
    "is_weekend = True\n",
    "\n",
    "if not is_weekend:\n",
    "    print(\"It's Monday.\")\n",
    "    print(\"Go to work.\")\n",
    "else:\n",
    "    print(\"Sleep in and enjoy the beach.\")\n",
    "    "
   ]
  },
  {
   "cell_type": "code",
   "execution_count": 20,
   "metadata": {},
   "outputs": [
    {
     "name": "stdout",
     "output_type": "stream",
     "text": [
      "Go to sleep.\n"
     ]
    }
   ],
   "source": [
    "# if/elif/else\n",
    "\n",
    "am_tired = True\n",
    "is_bedtime = True\n",
    "\n",
    "if not am_tired:\n",
    "    print(\"One more episode.\")  \n",
    "elif am_tired and is_bedtime:\n",
    "    print(\"Go to sleep.\")\n",
    "else:\n",
    "    print(\"Go to sleep anyways.\")"
   ]
  },
  {
   "cell_type": "markdown",
   "metadata": {
    "colab_type": "text",
    "id": "MBH1G8cJkHyg",
    "slideshow": {
     "slide_type": "fragment"
    }
   },
   "source": [
    "## Exercise 1\n",
    "1.1: If you set the name variable to \"Gandalf\" and run the script below, what will be the output?  \n",
    "1.2: Why do we use `==` and not `is` in the code above?"
   ]
  },
  {
   "cell_type": "code",
   "execution_count": 22,
   "metadata": {
    "colab": {},
    "colab_type": "code",
    "id": "lNBhkHV5kB29",
    "slideshow": {
     "slide_type": "fragment"
    }
   },
   "outputs": [
    {
     "name": "stdout",
     "output_type": "stream",
     "text": [
      "Move on then!\n"
     ]
    }
   ],
   "source": [
    "name = \"\"\n",
    "if name == \"Gandalf\":\n",
    "    print(\"Run, you fools!\")\n",
    "elif name == \"Aragorn\":\n",
    "    print(\"There is always hope.\")\n",
    "else:\n",
    "    print(\"Move on then!\")"
   ]
  },
  {
   "cell_type": "markdown",
   "metadata": {},
   "source": [
    "## Exercise 2\n",
    "\n",
    "Create a variable and assign an integer as value, then build a conditional to test it:\n",
    "- If the value is below 0, print \"The value is negative\"\n",
    "- If the value is between 0 and 20 (including 0 and 20), print the value\n",
    "- Otherwise, print \"Out of scope\"\n",
    "\n",
    "Test it by changing the value of the variable."
   ]
  },
  {
   "cell_type": "code",
   "execution_count": null,
   "metadata": {},
   "outputs": [],
   "source": []
  }
 ],
 "metadata": {
  "colab": {
   "authorship_tag": "ABX9TyPA4FNVSbwbHXzTkHRRee18",
   "collapsed_sections": [],
   "name": "conditionals.ipynb",
   "provenance": []
  },
  "kernelspec": {
   "display_name": "Python 3 (ipykernel)",
   "language": "python",
   "name": "python3"
  },
  "language_info": {
   "codemirror_mode": {
    "name": "ipython",
    "version": 3
   },
   "file_extension": ".py",
   "mimetype": "text/x-python",
   "name": "python",
   "nbconvert_exporter": "python",
   "pygments_lexer": "ipython3",
   "version": "3.9.5"
  },
  "rise": {
   "scroll": true
  },
  "toc": {
   "base_numbering": 1,
   "nav_menu": {},
   "number_sections": true,
   "sideBar": true,
   "skip_h1_title": false,
   "title_cell": "Table of Contents",
   "title_sidebar": "Contents",
   "toc_cell": false,
   "toc_position": {},
   "toc_section_display": true,
   "toc_window_display": false
  },
  "toc-autonumbering": true
 },
 "nbformat": 4,
 "nbformat_minor": 4
}
