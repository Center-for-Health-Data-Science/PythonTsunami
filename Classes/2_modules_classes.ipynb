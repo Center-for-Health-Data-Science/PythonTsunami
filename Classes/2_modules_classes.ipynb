{
 "cells": [
  {
   "cell_type": "markdown",
   "metadata": {
    "slideshow": {
     "slide_type": "slide"
    }
   },
   "source": [
    "# Modules and Classes\n",
    "\n",
    "- Henry Webel at [NNF CPR](https://www.cpr.ku.dk/staff/rasmussen-group/?pure=en/persons/662319)  [![Twitter](https://img.shields.io/twitter/url/https/twitter.com/cloudposse.svg?style=social&label=Follow%20%40Henrywebel)](https://twitter.com/henrywebel)\n",
    "- Python Tsumanmi 2020 at [SUND](https://healthsciences.ku.dk/)\n",
    "\n",
    "- Pre-requisites: Python Intro, minimal Pandas, functions\n",
    "  \n",
    "[![Open In Colab](https://colab.research.google.com/assets/colab-badge.svg)](https://colab.research.google.com/github/pythontsunami/teaching/blob/intro/2_modules_classes.ipynb)"
   ]
  },
  {
   "cell_type": "markdown",
   "metadata": {
    "slideshow": {
     "slide_type": "subslide"
    }
   },
   "source": [
    "## Objectives\n",
    "\n",
    "- putting functions into separate files\n",
    "- grouping related function and data into objects"
   ]
  },
  {
   "cell_type": "markdown",
   "metadata": {
    "slideshow": {
     "slide_type": "slide"
    }
   },
   "source": [
    "## Modules\n",
    "\n",
    "> Modules are one of Python's main abstraction layers, and probably the most natural one.  \n",
    "> Abstraction layers allow a programmer to separate code into parts that hold related data and functionality.  \n",
    "> (Reitz/ Schlusser : [The Hitchhiker's Guide to Python, Modules](https://docs.python-guide.org/writing/structure/#modules))"
   ]
  },
  {
   "cell_type": "code",
   "execution_count": null,
   "metadata": {
    "slideshow": {
     "slide_type": "fragment"
    }
   },
   "outputs": [],
   "source": [
    "import antigravity"
   ]
  },
  {
   "cell_type": "markdown",
   "metadata": {
    "slideshow": {
     "slide_type": "fragment"
    }
   },
   "source": [
    "what does happen?"
   ]
  },
  {
   "cell_type": "code",
   "execution_count": null,
   "metadata": {
    "slideshow": {
     "slide_type": "fragment"
    }
   },
   "outputs": [],
   "source": [
    "# antigravity??"
   ]
  },
  {
   "cell_type": "markdown",
   "metadata": {
    "slideshow": {
     "slide_type": "fragment"
    }
   },
   "source": [
    "Modules are importet only once in a running Python interpreter (here: IPython)"
   ]
  },
  {
   "cell_type": "code",
   "execution_count": null,
   "metadata": {
    "slideshow": {
     "slide_type": "fragment"
    }
   },
   "outputs": [],
   "source": [
    "import antigravity # nothing happens"
   ]
  },
  {
   "cell_type": "markdown",
   "metadata": {
    "slideshow": {
     "slide_type": "fragment"
    }
   },
   "source": [
    "You need to explicitly re-import the module using e.g. [`importlib.reload`](https://docs.python.org/3/library/importlib.html#importlib.reload)\n",
    "\n",
    "> \"Reload a previously imported module. The argument must be a module object, so it must have been successfully imported before.\" ([docs](https://docs.python.org/3/library/importlib.html#importlib.reload))"
   ]
  },
  {
   "cell_type": "code",
   "execution_count": null,
   "metadata": {
    "slideshow": {
     "slide_type": "fragment"
    }
   },
   "outputs": [],
   "source": [
    "# explicitly reimport the module\n",
    "import importlib\n",
    "importlib.reload(antigravity)"
   ]
  },
  {
   "cell_type": "markdown",
   "metadata": {
    "slideshow": {
     "slide_type": "subslide"
    }
   },
   "source": [
    "### A first small module\n",
    "\n",
    "- create python files to import as module\n",
    "\n",
    "> [`os.makedirs`](https://docs.python.org/3/library/os.html#os.makedirs) and [`%%writefile`](https://ipython.readthedocs.io/en/stable/interactive/magics.html#cellmagic-writefile) are needed to make the files available on colab."
   ]
  },
  {
   "cell_type": "code",
   "execution_count": null,
   "metadata": {
    "slideshow": {
     "slide_type": "fragment"
    }
   },
   "outputs": [],
   "source": [
    "import os\n",
    "os.makedirs('src', exist_ok=True)"
   ]
  },
  {
   "cell_type": "code",
   "execution_count": null,
   "metadata": {
    "slideshow": {
     "slide_type": "fragment"
    }
   },
   "outputs": [],
   "source": [
    "%%writefile src/__init__.py\n",
    "# src init\n",
    "__author__ = 'me'\n",
    "__doc__ = 'hello friend.'"
   ]
  },
  {
   "cell_type": "code",
   "execution_count": null,
   "metadata": {
    "slideshow": {
     "slide_type": "fragment"
    }
   },
   "outputs": [],
   "source": [
    "%%writefile src/functions.py\n",
    "\n",
    "def my_greeting(name, prefix='Hello'):\n",
    "    return_string = f\"{prefix}: {name}\"\n",
    "    return return_string"
   ]
  },
  {
   "cell_type": "code",
   "execution_count": null,
   "metadata": {
    "slideshow": {
     "slide_type": "fragment"
    }
   },
   "outputs": [],
   "source": [
    "import src\n",
    "# # For changes to file after you importet once, you need to explicitly reimport\n",
    "import importlib\n",
    "importlib.reload(src)"
   ]
  },
  {
   "cell_type": "code",
   "execution_count": null,
   "metadata": {
    "slideshow": {
     "slide_type": "fragment"
    }
   },
   "outputs": [],
   "source": [
    "src.__author__ "
   ]
  },
  {
   "cell_type": "markdown",
   "metadata": {},
   "source": [
    "We use the built-in function `dir` to inspect the attributes of our `src`-module.\n",
    "\n",
    "> \"Without arguments, return the list of names in the current local scope. With an argument, **attempt to return a list of valid attributes for that object**.\" ([docs](https://docs.python.org/3/library/functions.html#dir))"
   ]
  },
  {
   "cell_type": "code",
   "execution_count": null,
   "metadata": {
    "slideshow": {
     "slide_type": "fragment"
    }
   },
   "outputs": [],
   "source": [
    "dir(src) # does not know \"functions\""
   ]
  },
  {
   "cell_type": "markdown",
   "metadata": {
    "slideshow": {
     "slide_type": "subslide"
    }
   },
   "source": [
    "### Module annotations\n",
    "\n",
    "Each module automatically holds some information. \n",
    "\n",
    "Find our discription defined before by `__doc__`:"
   ]
  },
  {
   "cell_type": "code",
   "execution_count": null,
   "metadata": {
    "slideshow": {
     "slide_type": "fragment"
    }
   },
   "outputs": [],
   "source": [
    "src?"
   ]
  },
  {
   "cell_type": "markdown",
   "metadata": {},
   "source": [
    "### Importing Modules\n",
    "\n",
    "There are different ways to import modules"
   ]
  },
  {
   "cell_type": "code",
   "execution_count": null,
   "metadata": {
    "slideshow": {
     "slide_type": "fragment"
    }
   },
   "outputs": [],
   "source": [
    "import src.functions #directory.file\n",
    "src.functions.my_greeting('you')"
   ]
  },
  {
   "cell_type": "code",
   "execution_count": null,
   "metadata": {
    "slideshow": {
     "slide_type": "fragment"
    }
   },
   "outputs": [],
   "source": [
    "from src.functions import my_greeting\n",
    "my_greeting('Henry')"
   ]
  },
  {
   "cell_type": "code",
   "execution_count": null,
   "metadata": {},
   "outputs": [],
   "source": [
    "from src import functions\n",
    "functions.my_greeting('Rita')"
   ]
  },
  {
   "cell_type": "markdown",
   "metadata": {},
   "source": [
    "You can also rename imported modules using `as`"
   ]
  },
  {
   "cell_type": "code",
   "execution_count": null,
   "metadata": {
    "slideshow": {
     "slide_type": "fragment"
    }
   },
   "outputs": [],
   "source": [
    "from src import functions as my_own_module\n",
    "my_own_module.my_greeting('Rita')"
   ]
  },
  {
   "cell_type": "code",
   "execution_count": null,
   "metadata": {
    "slideshow": {
     "slide_type": "fragment"
    }
   },
   "outputs": [],
   "source": [
    "dir(src) # now, it does know functions! Why?"
   ]
  },
  {
   "cell_type": "markdown",
   "metadata": {
    "slideshow": {
     "slide_type": "slide"
    }
   },
   "source": [
    "## Packages\n",
    "\n",
    "- extend modules to a whole folder (directory). \n",
    "- group code so that it can be brought to another computer\n",
    "\n",
    "Next session we will look at [`numpy`](https://numpy.org/)"
   ]
  },
  {
   "cell_type": "code",
   "execution_count": null,
   "metadata": {
    "slideshow": {
     "slide_type": "fragment"
    }
   },
   "outputs": [],
   "source": [
    "import numpy\n",
    "numpy?"
   ]
  },
  {
   "cell_type": "markdown",
   "metadata": {
    "slideshow": {
     "slide_type": "slide"
    }
   },
   "source": [
    "## Classes\n",
    "\n",
    "- As modules, they can group code statements\n",
    "- **classes** are blueprints for concrete **instances**\n",
    "- Classes are \"user\"-defined objects: \"A template for creating user-defined objects. Class definitions normally contain method definitions which operate on instances of the class.\" ([Glossary](https://docs.python.org/3/glossary.html))\n",
    "- \"built-in\"-types are also classes, but maybe not defined in python directly\n",
    "\n",
    "Reference: Python Tutorial [9.3.2](https://docs.python.org/3/tutorial/classes.html#class-objects) (You may also read the rest)"
   ]
  },
  {
   "cell_type": "code",
   "execution_count": null,
   "metadata": {
    "slideshow": {
     "slide_type": "fragment"
    }
   },
   "outputs": [],
   "source": [
    "class Gene:\n",
    "    \"\"\"My class.\"\"\"\n",
    "    def __init__(self, name, sequence):\n",
    "        \"\"\"\"\"\"\n",
    "        self.name = name\n",
    "        self.sequence = sequence\n",
    "\n",
    "    def count_bases(self):\n",
    "        pass\n",
    "\n",
    "    def gc_content(self):\n",
    "        pass\n",
    "\n",
    "    def __repr__(self):\n",
    "        return f'{self.__class__.__name__}(name={self.name!r}, sequence={self.sequence!r})'"
   ]
  },
  {
   "cell_type": "markdown",
   "metadata": {
    "slideshow": {
     "slide_type": "subslide"
    }
   },
   "source": [
    "### Plasmid-Fasta\n",
    "\n",
    "Example of an artifical plasmid entry, normally in a fasta file `plasmid.fa`\n",
    "```\n",
    ">pla\n",
    "ATGAAGAAAAGTTCTATTGTGGCAACCATTATAACTATTCTGTCCGGGAGTGCTAATGCAGCATCATCTCAGTTAATACC\n",
    "AAATATATCCCCTGACAGCTTTACAGTTGCAGCCTCCACCGGGATGCTGAGTGGAAAGTCTCATGAAATGGTTTATGACG\n",
    "CAGAAACAGGAAGAAAGATCAGCCAGTTAGACTGGAAGATCAAAAATGTCGCTATCCTGAAAGGTGATATATCCTGGGAT\n",
    "CCATACTCATTTCTGACCCTGAATGCCAGGGGGTGGACGTCTCTGGCTTCCGGGTCAGGTAATATGGATGACTACGACTG\n",
    "GATGAATGAAAATCAATCTGAGTGGACAGATCACTCATCTCATCCTGCTACAAATGTTAATCATGCCAATGAATATGACC\n",
    "TCAATGTGAAAGGCTGGTTACTCCAGGATGAGAATTATAAAGCAGGTATAACAGCAGGATATCAGGAAACACGTTTCAGT\n",
    "TGGACAGCTACAGGTGGTTCATATAGTTATAATAATGGAGCTTATACCGGAAACTTCCCGAAAGGAGTGCGGGTAATAGG\n",
    "TTATAACCAGCGCTTTTCTATGCCATATATTGGACTTGCAGGCCAGTATCGCATTAATGATTTTGAGTTAAATGCATTAT\n",
    "TTAAATTCAGCGACTGGGTTCGGGCACATGATAATGATGAGCACTATATGAGAGATCTTACTTTCCGTGAGAAGACATCC\n",
    "GGCTCACGTTATTATGGTACCGTAATTAACGCTGGATATTATGTCACACCTAATGCCAAAGTCTTTGCGGAATTTACATA\n",
    "CAGTAAATATGATGAGGGCAAAGGAGGTACTCAGANCATTGATAAGAATAGTGGAGATTCTGTCTCTATTGGCGGAGATG\n",
    "CTGCCGGTATTTCCAATAAAAATTATACTGTGACGGCGGGTCTGCAATATCGCTTCTGA\n",
    "```\n"
   ]
  },
  {
   "cell_type": "code",
   "execution_count": null,
   "metadata": {
    "slideshow": {
     "slide_type": "fragment"
    }
   },
   "outputs": [],
   "source": [
    "sequence = (\"ATGAAGAAAAGTTCTATTGTGGCAACCATTATAACTATTCTGTCCGGGAGTGCTAATGCAGCATCATCTCAGTTAATACC\"\n",
    "\"AAATATATCCCCTGACAGCTTTACAGTTGCAGCCTCCACCGGGATGCTGAGTGGAAAGTCTCATGAAATGGTTTATGACG\"\n",
    "\"CAGAAACAGGAAGAAAGATCAGCCAGTTAGACTGGAAGATCAAAAATGTCGCTATCCTGAAAGGTGATATATCCTGGGAT\"\n",
    "\"CCATACTCATTTCTGACCCTGAATGCCAGGGGGTGGACGTCTCTGGCTTCCGGGTCAGGTAATATGGATGACTACGACTG\"\n",
    "\"GATGAATGAAAATCAATCTGAGTGGACAGATCACTCATCTCATCCTGCTACAAATGTTAATCATGCCAATGAATATGACC\"\n",
    "\"TCAATGTGAAAGGCTGGTTACTCCAGGATGAGAATTATAAAGCAGGTATAACAGCAGGATATCAGGAAACACGTTTCAGT\"\n",
    "\"TGGACAGCTACAGGTGGTTCATATAGTTATAATAATGGAGCTTATACCGGAAACTTCCCGAAAGGAGTGCGGGTAATAGG\"\n",
    "\"TTATAACCAGCGCTTTTCTATGCCATATATTGGACTTGCAGGCCAGTATCGCATTAATGATTTTGAGTTAAATGCATTAT\"\n",
    "\"TTAAATTCAGCGACTGGGTTCGGGCACATGATAATGATGAGCACTATATGAGAGATCTTACTTTCCGTGAGAAGACATCC\"\n",
    "\"GGCTCACGTTATTATGGTACCGTAATTAACGCTGGATATTATGTCACACCTAATGCCAAAGTCTTTGCGGAATTTACATA\"\n",
    "\"CAGTAAATATGATGAGGGCAAAGGAGGTACTCAGANCATTGATAAGAATAGTGGAGATTCTGTCTCTATTGGCGGAGATG\"\n",
    "\"CTGCCGGTATTTCCAATAAAAATTATACTGTGACGGCGGGTCTGCAATATCGCTTCTGA\")\n",
    "\n",
    "gene = Gene(name='pla', sequence=sequence)\n",
    "# Gene.__init__??\n",
    "gene"
   ]
  },
  {
   "cell_type": "code",
   "execution_count": null,
   "metadata": {
    "slideshow": {
     "slide_type": "fragment"
    }
   },
   "outputs": [],
   "source": [
    "gene.sequence"
   ]
  },
  {
   "cell_type": "code",
   "execution_count": null,
   "metadata": {},
   "outputs": [],
   "source": [
    "gene"
   ]
  },
  {
   "cell_type": "code",
   "execution_count": null,
   "metadata": {
    "slideshow": {
     "slide_type": "fragment"
    }
   },
   "outputs": [],
   "source": [
    "gene.count_bases() # Your turn in the exercises:)"
   ]
  },
  {
   "cell_type": "markdown",
   "metadata": {
    "slideshow": {
     "slide_type": "slide"
    }
   },
   "source": [
    "### Exercise on classes\n",
    "\n",
    "1. Continue the gene class that can count the number of nucleotides\n",
    "    - Which type should the sequence have?\n",
    "    - Which methods does the sequence type have allowing you to count?\n",
    "2. Get the relative fraction of G and C over the total number of nucleotides.\n",
    "    - implement it strait forwardly, but reuse `count_bases`:)\n",
    "    - Extra: Think about stateful-behaviour (should the class remember things?)\n",
    "3. Write the class to a file and try to import it.\n",
    "    - File: `src/gene.py`\n",
    "    - `from gene import Gene` should work\n",
    "    > Use `import importlib(gene); importlib.reload(gene)` if you want to re-execute the import - as python normally import modules only once during the a runtime (\"program execution\")\n"
   ]
  },
  {
   "cell_type": "code",
   "execution_count": null,
   "metadata": {
    "slideshow": {
     "slide_type": "fragment"
    }
   },
   "outputs": [],
   "source": [
    "class Gene:\n",
    "    def __init__(self, name, sequence):\n",
    "        \"\"\"\"\"\"\n",
    "        self.name = name\n",
    "        self.sequence = sequence\n",
    "\n",
    "    def count_bases(self):\n",
    "        pass\n",
    "\n",
    "    def gc_content(self):\n",
    "        pass\n",
    "    \n",
    "    def __repr__(self):\n",
    "        return f'{self.__class__.__name__}(name={self.name!r}, sequence={self.sequence!r})'"
   ]
  },
  {
   "cell_type": "markdown",
   "metadata": {
    "slideshow": {
     "slide_type": "slide"
    }
   },
   "source": [
    "## Excursus: Class inheritance\n",
    "\n",
    "Classes can be based on one of each other, in order to define interfaces or re-use functionality. \n",
    "\n",
    "Inheritence works by adding classes in the constructor statement of new classes:\n",
    "\n",
    "```python\n",
    "class Base():\n",
    "\n",
    "    name = 'Base'  # stored already in __class__.__name__ but repeat for the point\n",
    "    count = 0\n",
    "\n",
    "\n",
    "class Derived(Base):\n",
    "\n",
    "    name = 'Derived'\n",
    "```"
   ]
  },
  {
   "cell_type": "markdown",
   "metadata": {
    "slideshow": {
     "slide_type": "fragment"
    }
   },
   "source": [
    "`Derived` is also an instance of `Base`:"
   ]
  },
  {
   "cell_type": "code",
   "execution_count": null,
   "metadata": {
    "slideshow": {
     "slide_type": "fragment"
    }
   },
   "outputs": [],
   "source": [
    "class Base():\n",
    "\n",
    "    name = 'Base'  # stored already in __class__.__name__ but repeat for the point\n",
    "    count = 0\n",
    "\n",
    "\n",
    "class Derived(Base):\n",
    "\n",
    "    name = 'Derived'\n",
    "\n",
    "\n",
    "derived = Derived()\n",
    "print(\"derive is instance of Base:\", isinstance(derived, Base))"
   ]
  },
  {
   "cell_type": "markdown",
   "metadata": {
    "slideshow": {
     "slide_type": "fragment"
    }
   },
   "source": [
    "Therefore it inherited the `count` attribute, her an `int`eger:"
   ]
  },
  {
   "cell_type": "code",
   "execution_count": null,
   "metadata": {
    "slideshow": {
     "slide_type": "fragment"
    }
   },
   "outputs": [],
   "source": [
    "derived.count"
   ]
  },
  {
   "cell_type": "markdown",
   "metadata": {},
   "source": [
    "However, we did overwrite the `name` attribute, which is here the same as the internally stored class name:"
   ]
  },
  {
   "cell_type": "code",
   "execution_count": null,
   "metadata": {
    "slideshow": {
     "slide_type": "fragment"
    }
   },
   "outputs": [],
   "source": [
    "derived.name, derived.__class__.__name__"
   ]
  },
  {
   "cell_type": "markdown",
   "metadata": {
    "slideshow": {
     "slide_type": "fragment"
    }
   },
   "source": [
    "> This will be mainly of importance to understand the **scikit-learn** API better."
   ]
  }
 ],
 "metadata": {
  "celltoolbar": "Slideshow",
  "kernelspec": {
   "display_name": "tsunami",
   "language": "python",
   "name": "tsunami"
  },
  "language_info": {
   "codemirror_mode": {
    "name": "ipython",
    "version": 3
   },
   "file_extension": ".py",
   "mimetype": "text/x-python",
   "name": "python",
   "nbconvert_exporter": "python",
   "pygments_lexer": "ipython3",
   "version": "3.8.5"
  },
  "rise": {
   "scroll": true
  },
  "toc": {
   "base_numbering": 1,
   "nav_menu": {},
   "number_sections": true,
   "sideBar": true,
   "skip_h1_title": false,
   "title_cell": "Table of Contents",
   "title_sidebar": "Contents",
   "toc_cell": false,
   "toc_position": {},
   "toc_section_display": true,
   "toc_window_display": false
  }
 },
 "nbformat": 4,
 "nbformat_minor": 4
}
