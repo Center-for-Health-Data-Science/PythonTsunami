{
 "cells": [
  {
   "cell_type": "markdown",
   "metadata": {},
   "source": [
    "<img src=\"../figures/HeaDS_logo_large_withTitle.png\" width=\"300\">\n",
    "\n",
    "<img src=\"../figures/tsunami_logo.PNG\" width=\"600\">\n",
    "\n",
    "[![Open In Colab](https://colab.research.google.com/assets/colab-badge.svg)](https://colab.research.google.com/github/Center-for-Health-Data-Science/PythonTsunami/blob/fall2021/Variables_and_data_types/Variables_and_data_types.ipynb)"
   ]
  },
  {
   "cell_type": "markdown",
   "metadata": {
    "colab_type": "text",
    "id": "1MjzmO4uoHh9",
    "slideshow": {
     "slide_type": "slide"
    }
   },
   "source": [
    "# Variables and Data Types\n",
    "\n",
    "*Prepared by [Katarina Nastou](https://www.cpr.ku.dk/staff/?pure=en/persons/672471)*\n",
    "\n",
    "*Note: This notebook's contents have been adapted from Colt Steele's slides used in \"[Modern Python 3 Bootcamp Course](https://www.udemy.com/course/the-modern-python3-bootcamp/)\" on Udemy*"
   ]
  },
  {
   "cell_type": "markdown",
   "metadata": {
    "colab_type": "text",
    "id": "CiX8enO1uJ65",
    "slideshow": {
     "slide_type": "fragment"
    }
   },
   "source": [
    "## Overview\n",
    "\n",
    "*   [Variable assignment](#Variable-Assignment)\n",
    "*   [Naming restrictions](#Naming-Restrictions)\n",
    "*   [Data types](#Data-Types)\n",
    "*   [Dynamic typing](#Dynamic-Typing)\n",
    "*   [Numbers](#Numbers)\n",
    "*   [Math operators](#Operators) \n",
    "*   [Strings](#Strings)\n",
    "*   [Converting data types](#Converting-Data-Types)\n",
    "*   [Quiz](#Quiz) wrapping up the notebook contents"
   ]
  },
  {
   "cell_type": "markdown",
   "metadata": {
    "colab_type": "text",
    "id": "GXxxR4dDuunK",
    "slideshow": {
     "slide_type": "slide"
    }
   },
   "source": [
    "## Variable Assignment"
   ]
  },
  {
   "cell_type": "markdown",
   "metadata": {
    "colab_type": "text",
    "id": "Nx4q1VSyuzOA",
    "slideshow": {
     "slide_type": "fragment"
    }
   },
   "source": [
    "> A variable is a named symbol that holds a value.\n",
    "\n",
    "* Create variables by assigning a value to a name (just like using variables in math).\n",
    "* Variable names should be meaningful, i.e. not just ``a``, ``b``, ``c``\n",
    "* Variables are always **assigned** with the variable name on the left and the value on the right of the ***equals*** sign. For instance:\n",
    "        \n",
    "    * `a_variable = 100`  \n",
    "    * assigned to other variables: `another_variable = a_variable`\n",
    "    * reassigned at any time: `a_variable = 435` \n",
    "    * assigned at the same time as other variables: `all, at, once = 1, 130, 43`\n",
    "\n",
    "* Variables must be assigned before they can be used."
   ]
  },
  {
   "cell_type": "code",
   "execution_count": null,
   "metadata": {
    "colab": {
     "base_uri": "https://localhost:8080/",
     "height": 34
    },
    "colab_type": "code",
    "executionInfo": {
     "elapsed": 555,
     "status": "ok",
     "timestamp": 1583692499662,
     "user": {
      "displayName": "Catherine Nst",
      "photoUrl": "",
      "userId": "00118750132604534762"
     },
     "user_tz": -60
    },
    "id": "-IoOMUOnuD6f",
    "outputId": "243cf484-7518-48ad-9770-9c2d6ff4166b",
    "slideshow": {
     "slide_type": "fragment"
    }
   },
   "outputs": [],
   "source": [
    "x = 100\n",
    "another_variable = 1\n",
    "print(another_variable + x)"
   ]
  },
  {
   "cell_type": "markdown",
   "metadata": {
    "colab_type": "text",
    "id": "l5SuTYIGvuB_",
    "slideshow": {
     "slide_type": "slide"
    }
   },
   "source": [
    "## Naming Restrictions\n"
   ]
  },
  {
   "cell_type": "markdown",
   "metadata": {
    "colab_type": "text",
    "id": "M23lgzTcwMXn",
    "slideshow": {
     "slide_type": "fragment"
    }
   },
   "source": [
    "In Python, you can name your variables whatever you want, with some restrictions:\n",
    "\n",
    "1. Variables must start with a letter or underscore:  \n",
    "    * `_yes`: Valid name.  \n",
    "    * `2no`: Not valid!  \n",
    "   \n",
    "2. The rest of the name must consist of letters, numbers, or underscores:  \n",
    "    * `yes2`: Valid name.   \n",
    "    * `hey@no`: Not valid!   \n",
    "    \n",
    "3. Names are case-sensitive  \n",
    "    * `Yes` and `yes` are two _different_ variables. "
   ]
  },
  {
   "cell_type": "code",
   "execution_count": null,
   "metadata": {},
   "outputs": [],
   "source": [
    "# try it out"
   ]
  },
  {
   "cell_type": "markdown",
   "metadata": {
    "colab_type": "text",
    "id": "pVF6YjlgGtKX",
    "slideshow": {
     "slide_type": "slide"
    }
   },
   "source": [
    "## Data Types"
   ]
  },
  {
   "cell_type": "markdown",
   "metadata": {
    "colab_type": "text",
    "id": "J3kix56wGxEB",
    "slideshow": {
     "slide_type": "fragment"
    }
   },
   "source": [
    "In any assignment, the assigned value must always be a valid data type.\n",
    "\n",
    "Python data types include (among others):\n",
    "- numbers:\n",
    "    - `int`: an integer, e.g. `1`, `2`, `3`\n",
    "    - `float`: a floating point number with a decimal point, e.g. `1.2`, `2999.197`, `-160.8`\n",
    "- `str`: (string) a sequence of Unicode characters, e.g. \"Kate\" or \"程序设计\"\n",
    "- `bool`: `True` or `False` values"
   ]
  },
  {
   "cell_type": "code",
   "execution_count": null,
   "metadata": {},
   "outputs": [],
   "source": [
    "# try it out"
   ]
  },
  {
   "cell_type": "markdown",
   "metadata": {
    "colab_type": "text",
    "id": "UAnUqmtKICUK",
    "slideshow": {
     "slide_type": "subslide"
    }
   },
   "source": [
    "## Dynamic Typing"
   ]
  },
  {
   "cell_type": "markdown",
   "metadata": {
    "colab_type": "text",
    "id": "tL8FZFytIeIX",
    "slideshow": {
     "slide_type": "fragment"
    }
   },
   "source": [
    "In Python variables can change types readily, something called **dynamic typing**! Test it with the 4 code blocks below."
   ]
  },
  {
   "cell_type": "code",
   "execution_count": null,
   "metadata": {
    "colab": {},
    "colab_type": "code",
    "id": "mJWRieehIRFs",
    "slideshow": {
     "slide_type": "fragment"
    }
   },
   "outputs": [],
   "source": [
    "variable1 = True\n",
    "print(variable1)"
   ]
  },
  {
   "cell_type": "code",
   "execution_count": null,
   "metadata": {
    "colab": {},
    "colab_type": "code",
    "id": "EzKLZ1t3IVNw",
    "slideshow": {
     "slide_type": "fragment"
    }
   },
   "outputs": [],
   "source": [
    "variable1 = \"Hello!\"\n",
    "print(variable1)"
   ]
  },
  {
   "cell_type": "code",
   "execution_count": null,
   "metadata": {
    "colab": {},
    "colab_type": "code",
    "id": "atpEaIWyIYCy",
    "slideshow": {
     "slide_type": "fragment"
    }
   },
   "outputs": [],
   "source": [
    "variable1 = None\n",
    "print(variable1)"
   ]
  },
  {
   "cell_type": "code",
   "execution_count": null,
   "metadata": {
    "colab": {},
    "colab_type": "code",
    "id": "kymQ8oseIZ70",
    "slideshow": {
     "slide_type": "fragment"
    }
   },
   "outputs": [],
   "source": [
    "variable1 = 22 / 7\n",
    "print(variable1)"
   ]
  },
  {
   "cell_type": "markdown",
   "metadata": {
    "colab_type": "text",
    "id": "2Fxr9nvvNelH",
    "slideshow": {
     "slide_type": "fragment"
    }
   },
   "source": [
    "Question: Is the following valid Python code?\n",
    "\n",
    "```    \n",
    "    i_am_string = \"hello world\"\n",
    "    \n",
    "    i_am_string = 73 \n",
    "    \n",
    "    i_am_string = True\n",
    "```"
   ]
  },
  {
   "cell_type": "code",
   "execution_count": null,
   "metadata": {},
   "outputs": [],
   "source": [
    "# try it out"
   ]
  },
  {
   "cell_type": "markdown",
   "metadata": {},
   "source": [
    "### Exercise\n",
    "\n",
    "Try out dynamic typing. For instance, create a variable, assign a string and print it out: \n",
    "```python\n",
    "name = \"Lisa\"\n",
    "print(name)\n",
    "```\n",
    "Then, change the value of name to a different name, and add another variable for the surname:\n",
    "\n",
    "```python\n",
    "Name = \"Bill\"\n",
    "print(name)\n",
    "\n",
    "```"
   ]
  },
  {
   "cell_type": "code",
   "execution_count": null,
   "metadata": {},
   "outputs": [],
   "source": [
    "# try it out"
   ]
  },
  {
   "cell_type": "markdown",
   "metadata": {},
   "source": [
    "# Numbers and Operators"
   ]
  },
  {
   "cell_type": "markdown",
   "metadata": {},
   "source": [
    "## Numbers\n",
    "Two main types of numbers:\n",
    "- Integers: `56, 3, -90`\n",
    "- Floating Points: `5.666, 0.0, -8.9`\n",
    "    \n",
    "## Math Operators \n",
    "- addition: `+`\n",
    "- subtraction: `-`\n",
    "- multiplication: `*`\n",
    "- division: `/`\n",
    "- exponentiation, power: `**`\n",
    "- modulo: `%`\n",
    "- integer division: `//`  (what does it return?)"
   ]
  },
  {
   "cell_type": "markdown",
   "metadata": {},
   "source": [
    "### Questions: Ints and Floats\n",
    "\n",
    "- Question 1: What type does the following expression result in? \n",
    "\n",
    "```python\n",
    "3.0 + 5\n",
    "```"
   ]
  },
  {
   "cell_type": "code",
   "execution_count": null,
   "metadata": {},
   "outputs": [],
   "source": [
    "# try it out"
   ]
  },
  {
   "cell_type": "markdown",
   "metadata": {},
   "source": [
    "### Questions: Operators\n",
    "- Question 2: How can we add parenthesis to the following expression to make it equal 100? \n",
    "```python\n",
    "1 + 9 * 10\n",
    "```"
   ]
  },
  {
   "cell_type": "code",
   "execution_count": null,
   "metadata": {},
   "outputs": [],
   "source": []
  },
  {
   "cell_type": "markdown",
   "metadata": {},
   "source": [
    "- Question 3: What is the result of the following expression?\n",
    "```python\n",
    "3 + 14 * 2 + 4 * 5\n",
    "```"
   ]
  },
  {
   "cell_type": "code",
   "execution_count": null,
   "metadata": {},
   "outputs": [],
   "source": []
  },
  {
   "cell_type": "markdown",
   "metadata": {},
   "source": [
    "- Question 4: What is the result of the following expression\n",
    "```python\n",
    "5 * 9 / 4 ** 3 - 6 * 7\n",
    "```"
   ]
  },
  {
   "cell_type": "code",
   "execution_count": null,
   "metadata": {},
   "outputs": [],
   "source": []
  },
  {
   "cell_type": "markdown",
   "metadata": {},
   "source": [
    "- Question 5: What is the result of running this code? \n",
    "\n",
    "```python\n",
    "15 / 3 * 2 # + 1 \n",
    "```"
   ]
  },
  {
   "cell_type": "markdown",
   "metadata": {},
   "source": [
    "- Question 6: Which of the following result in integers in Python? \n",
    "        (a) 8 / 2\n",
    "        (b) 3 // 2 \n",
    "        (c) 4.5 * 2"
   ]
  },
  {
   "cell_type": "code",
   "execution_count": null,
   "metadata": {},
   "outputs": [],
   "source": []
  },
  {
   "cell_type": "markdown",
   "metadata": {},
   "source": [
    "- Question 7: What is the result of `18 // 3` ?"
   ]
  },
  {
   "cell_type": "code",
   "execution_count": null,
   "metadata": {},
   "outputs": [],
   "source": []
  },
  {
   "cell_type": "markdown",
   "metadata": {},
   "source": [
    "- Question 8: What is the result of `121 % 7` ?"
   ]
  },
  {
   "cell_type": "code",
   "execution_count": null,
   "metadata": {},
   "outputs": [],
   "source": []
  },
  {
   "cell_type": "markdown",
   "metadata": {},
   "source": [
    "## Exercise 1: ``int`` and ``float``\n",
    "1. Use an ``int`` value of your choice and store it in a variable. Multiply that variable by ``2``and print this new variable.\n",
    "2. Use a second ``int`` value of your choice and multiply it with the initial variable used in 1).\n",
    "3. Square the ``int``s from 1) and 2)."
   ]
  },
  {
   "cell_type": "code",
   "execution_count": null,
   "metadata": {},
   "outputs": [],
   "source": []
  },
  {
   "cell_type": "markdown",
   "metadata": {},
   "source": [
    "### Note\n",
    "\n",
    "Check out also the [math library](https://docs.python.org/3/library/math.html) in Python. You can use this library for more complex operations with numbers. Just import the library and try it out:\n",
    "\n",
    "```python\n",
    "\n",
    "import math\n",
    "\n",
    "print(math.sqrt(25))\n",
    "\n",
    "print(math.log10(10))\n",
    "```"
   ]
  },
  {
   "cell_type": "code",
   "execution_count": null,
   "metadata": {},
   "outputs": [],
   "source": []
  },
  {
   "cell_type": "markdown",
   "metadata": {},
   "source": [
    "# Strings\n",
    "\n",
    "> Strings are containers of characters.\n",
    "\n",
    "There are different _encodings_ for characters. The default in Python 3 is the Unicode encoding which includes characters from European and Asian languages."
   ]
  },
  {
   "cell_type": "markdown",
   "metadata": {
    "colab_type": "text",
    "id": "id_C8gtAJH0H",
    "slideshow": {
     "slide_type": "subslide"
    }
   },
   "source": [
    "### Declaring strings"
   ]
  },
  {
   "cell_type": "markdown",
   "metadata": {
    "colab_type": "text",
    "id": "5ld4357nJwPO",
    "slideshow": {
     "slide_type": "fragment"
    }
   },
   "source": [
    "String literals in Python can be declared with either single or double quotes.\n",
    "    \n",
    "    my_other_str = 'a hat'\n",
    "    my_str = \"a cat\"\n",
    "\n",
    "\n",
    "Either one is perfectly fine; but make sure you stick to the same convention throughout the same file.\n"
   ]
  },
  {
   "cell_type": "markdown",
   "metadata": {
    "colab_type": "text",
    "id": "L1dWUnXgKP-V",
    "slideshow": {
     "slide_type": "subslide"
    }
   },
   "source": [
    "### String Escape Characters"
   ]
  },
  {
   "cell_type": "markdown",
   "metadata": {
    "colab_type": "text",
    "id": "hbJoXKY3KTZU",
    "slideshow": {
     "slide_type": "fragment"
    }
   },
   "source": [
    "In Python there are also \"escape characters\", which are \"metacharacters\" - they get interpreted by Python to do something special. All escape characters start with a backslash `\\`:\n"
   ]
  },
  {
   "cell_type": "code",
   "execution_count": null,
   "metadata": {
    "colab": {},
    "colab_type": "code",
    "id": "Dwsi4tHLKW2_",
    "slideshow": {
     "slide_type": "fragment"
    }
   },
   "outputs": [],
   "source": [
    "new_line = \"hello \\n world\"\n",
    "print(new_line)"
   ]
  },
  {
   "cell_type": "markdown",
   "metadata": {
    "colab_type": "text",
    "id": "8zvHzDf9ObSF",
    "slideshow": {
     "slide_type": "fragment"
    }
   },
   "source": [
    "**Question:** What will happen in the following cases?\n",
    "```\n",
    "names = \"Megan\\nTrevor\"\n",
    "names2 = 'Megan\\nTrevor'\n",
    "greeting = \"hello \"Megan\"\"\n",
    "greeting2 = \"hello 'Megan'\"\n",
    "\n",
    "```"
   ]
  },
  {
   "cell_type": "code",
   "execution_count": null,
   "metadata": {},
   "outputs": [],
   "source": []
  },
  {
   "cell_type": "markdown",
   "metadata": {
    "colab_type": "text",
    "id": "wdl3Mr56KobD",
    "slideshow": {
     "slide_type": "subslide"
    }
   },
   "source": [
    "### String Concatenation"
   ]
  },
  {
   "cell_type": "markdown",
   "metadata": {
    "colab_type": "text",
    "id": "2TrbxJSoKqzZ",
    "slideshow": {
     "slide_type": "fragment"
    }
   },
   "source": [
    "Concatenation is combining multiple strings together. In Python you can do this simply with the \"+\" operator."
   ]
  },
  {
   "cell_type": "code",
   "execution_count": null,
   "metadata": {
    "colab": {
     "base_uri": "https://localhost:8080/",
     "height": 34
    },
    "colab_type": "code",
    "executionInfo": {
     "elapsed": 531,
     "status": "ok",
     "timestamp": 1583688136965,
     "user": {
      "displayName": "Catherine Nst",
      "photoUrl": "",
      "userId": "00118750132604534762"
     },
     "user_tz": -60
    },
    "id": "TES-Z6EOKtJO",
    "outputId": "0be577ce-aecc-442c-c3a6-1c4bdae35586",
    "slideshow": {
     "slide_type": "fragment"
    }
   },
   "outputs": [],
   "source": [
    "str_one = \"your\"\n",
    "str_two = \"face\"\n",
    "str_three = str_one + \" \" + str_two \n",
    "print(str_three)"
   ]
  },
  {
   "cell_type": "markdown",
   "metadata": {
    "colab_type": "text",
    "id": "5ARprsTjK1rf",
    "slideshow": {
     "slide_type": "fragment"
    }
   },
   "source": [
    "You can also use the \"+=\" operator!"
   ]
  },
  {
   "cell_type": "code",
   "execution_count": null,
   "metadata": {
    "colab": {},
    "colab_type": "code",
    "id": "v-YdMCywK3eU",
    "slideshow": {
     "slide_type": "fragment"
    }
   },
   "outputs": [],
   "source": [
    "str_one = \"ice\"\n",
    "str_one += \" cream\"\n",
    "str_one\n",
    "print(str_one)"
   ]
  },
  {
   "cell_type": "code",
   "execution_count": null,
   "metadata": {
    "slideshow": {
     "slide_type": "fragment"
    }
   },
   "outputs": [],
   "source": []
  },
  {
   "cell_type": "markdown",
   "metadata": {
    "colab_type": "text",
    "id": "TUWlmr5jLMSS",
    "slideshow": {
     "slide_type": "subslide"
    }
   },
   "source": [
    "### Formatting strings"
   ]
  },
  {
   "cell_type": "markdown",
   "metadata": {
    "colab_type": "text",
    "id": "gAKONDNDLQPM",
    "slideshow": {
     "slide_type": "fragment"
    }
   },
   "source": [
    "There are also several ways to format strings in Python to interpolate variables. In the Python version we use (Python 3.6+), strings are formatted by using **F-Strings**:"
   ]
  },
  {
   "cell_type": "code",
   "execution_count": null,
   "metadata": {
    "colab": {},
    "colab_type": "code",
    "id": "waOcpL6ALVyg",
    "slideshow": {
     "slide_type": "fragment"
    }
   },
   "outputs": [],
   "source": [
    "x = 10\n",
    "formatted = f\"I've told you {x} times already!\"\n",
    "print(formatted)"
   ]
  },
  {
   "cell_type": "markdown",
   "metadata": {
    "colab_type": "text",
    "id": "cWYyiUYwPIzK",
    "slideshow": {
     "slide_type": "subslide"
    }
   },
   "source": [
    "## Exercises\n",
    "\n",
    "### Exercise 2\n",
    "\n",
    "2.1 Create a new variable ``message`` and set it equal to a string containing a new line.\n",
    "\n",
    "2.2 Create a new variable ``mountains``. Assign a string to this variable so that it results in /\\/\\/\\ when printed. _Hint:_ You will need to use an escape sequence more than once!\n",
    "\n",
    "2.3 Create a new variable ``quotation`` and set it to any string that contains an escaped double quotation mark."
   ]
  },
  {
   "cell_type": "markdown",
   "metadata": {
    "colab_type": "text",
    "id": "4Ux6Hu0HPa9J",
    "slideshow": {
     "slide_type": "subslide"
    }
   },
   "source": [
    "### Exercise 3\n",
    "3.1 Set the variable called ``greeting`` to some greeting, e.g. \"hello\".\n",
    "\n",
    "3.2 Set the variable called ``name`` to some name, e.g. \"Moto\". \n",
    "\n",
    "3.3 Then set the variable called ``greet_name``  that concatenates greeting , name , and a space \" \" between them."
   ]
  },
  {
   "cell_type": "code",
   "execution_count": null,
   "metadata": {
    "colab": {},
    "colab_type": "code",
    "id": "9g4l_bmSPd8G",
    "slideshow": {
     "slide_type": "fragment"
    }
   },
   "outputs": [],
   "source": [
    "greeting = \"\"\n",
    "\n",
    "name = \"\"\n",
    "\n",
    "space = \"\"\n",
    "\n",
    "greet_name = \"Change me!\"\n",
    "print(greet_name)"
   ]
  },
  {
   "cell_type": "markdown",
   "metadata": {
    "colab_type": "text",
    "id": "ZCImv_NnRde8",
    "slideshow": {
     "slide_type": "subslide"
    }
   },
   "source": [
    "### Exercise 4\n",
    "4.1 Set the variable ``first`` to your first name.\n",
    "\n",
    "4.2 Set the variable ``last`` to your last name.\n",
    "\n",
    "4.3 Set the variable ``name`` to a combination of ``first`` and ``last`` using the f-string method. Follow this pattern: ```First Name: Mary, Last Name: Poppins```"
   ]
  },
  {
   "cell_type": "code",
   "execution_count": 1,
   "metadata": {
    "colab": {
     "base_uri": "https://localhost:8080/",
     "height": 52
    },
    "colab_type": "code",
    "executionInfo": {
     "elapsed": 575,
     "status": "ok",
     "timestamp": 1583690141610,
     "user": {
      "displayName": "Catherine Nst",
      "photoUrl": "",
      "userId": "00118750132604534762"
     },
     "user_tz": -60
    },
    "id": "Ptyqkjh3RiUb",
    "outputId": "ceec6784-cb73-4f8e-f267-4c100874b41d",
    "slideshow": {
     "slide_type": "fragment"
    }
   },
   "outputs": [],
   "source": [
    "first = \"\"\n",
    "last = \"\"\n",
    "name = \"\""
   ]
  },
  {
   "cell_type": "markdown",
   "metadata": {
    "colab_type": "text",
    "id": "GDBodXOJLnja",
    "slideshow": {
     "slide_type": "subslide"
    }
   },
   "source": [
    "## Converting Data Types"
   ]
  },
  {
   "cell_type": "markdown",
   "metadata": {
    "colab_type": "text",
    "id": "RskoInewL1yZ",
    "slideshow": {
     "slide_type": "fragment"
    }
   },
   "source": [
    "You can also convert variables by using the name of the builtin type as a function (more on functions later):"
   ]
  },
  {
   "cell_type": "code",
   "execution_count": 11,
   "metadata": {
    "colab": {
     "base_uri": "https://localhost:8080/",
     "height": 34
    },
    "colab_type": "code",
    "executionInfo": {
     "elapsed": 1100,
     "status": "ok",
     "timestamp": 1583688471452,
     "user": {
      "displayName": "Catherine Nst",
      "photoUrl": "",
      "userId": "00118750132604534762"
     },
     "user_tz": -60
    },
    "id": "bOaRRZ2dL8Um",
    "outputId": "cb3a6074-1162-4d40-b3f6-4b4b53c31ac5",
    "slideshow": {
     "slide_type": "fragment"
    }
   },
   "outputs": [
    {
     "name": "stdout",
     "output_type": "stream",
     "text": [
      "12\n",
      "<class 'int'>\n"
     ]
    }
   ],
   "source": [
    "# convert an float value i*nto an int value\n",
    "decimal = 12.56345634534\n",
    "integer = int(decimal) \n",
    "print(integer)\n",
    "\n",
    "# to check what data type a variable is, you can use the type() function\n",
    "print(type(integer))"
   ]
  },
  {
   "cell_type": "code",
   "execution_count": 12,
   "metadata": {
    "colab": {
     "base_uri": "https://localhost:8080/",
     "height": 52
    },
    "colab_type": "code",
    "executionInfo": {
     "elapsed": 534,
     "status": "ok",
     "timestamp": 1583688489921,
     "user": {
      "displayName": "Catherine Nst",
      "photoUrl": "",
      "userId": "00118750132604534762"
     },
     "user_tz": -60
    },
    "id": "UH8WhR5IMAwZ",
    "outputId": "99224d78-453b-4933-c229-426f6aef2ec6",
    "slideshow": {
     "slide_type": "fragment"
    }
   },
   "outputs": [
    {
     "name": "stdout",
     "output_type": "stream",
     "text": [
      "12\n",
      "<class 'str'>\n"
     ]
    }
   ],
   "source": [
    "# convert an int value into a string representation \n",
    "string = str(integer)\n",
    "print(string)\n",
    "\n",
    "# check the data type\n",
    "print(type(string))"
   ]
  },
  {
   "cell_type": "markdown",
   "metadata": {
    "colab_type": "text",
    "id": "3vUm-Di3Sxaj",
    "slideshow": {
     "slide_type": "slide"
    }
   },
   "source": [
    "## Quiz\n",
    "\n",
    "##### Question 1\n",
    "True or False: Variables must be assigned before they can be used."
   ]
  },
  {
   "cell_type": "markdown",
   "metadata": {
    "colab_type": "text",
    "id": "3vUm-Di3Sxaj",
    "slideshow": {
     "slide_type": "fragment"
    }
   },
   "source": [
    "##### Question 2:\n",
    "Variables can be: \n",
    "\n",
    "1. assigned to other variables,\n",
    "\n",
    "2. reassigned at any time,\n",
    "\n",
    "3. assigned at the same time as other variables, \n",
    "\n",
    "4. all of the above."
   ]
  },
  {
   "cell_type": "code",
   "execution_count": null,
   "metadata": {
    "slideshow": {
     "slide_type": "fragment"
    }
   },
   "outputs": [],
   "source": []
  },
  {
   "cell_type": "markdown",
   "metadata": {
    "colab_type": "text",
    "id": "3vUm-Di3Sxaj",
    "slideshow": {
     "slide_type": "fragment"
    }
   },
   "source": [
    "##### Question 3\n",
    "Is `24hrs`  a valid variable name?"
   ]
  },
  {
   "cell_type": "code",
   "execution_count": null,
   "metadata": {
    "slideshow": {
     "slide_type": "fragment"
    }
   },
   "outputs": [],
   "source": []
  },
  {
   "cell_type": "markdown",
   "metadata": {
    "colab_type": "text",
    "id": "3vUm-Di3Sxaj",
    "slideshow": {
     "slide_type": "fragment"
    }
   },
   "source": [
    "##### Question 4\n",
    "Is `my_1st_variable`  a valid variable name?"
   ]
  },
  {
   "cell_type": "code",
   "execution_count": null,
   "metadata": {
    "slideshow": {
     "slide_type": "fragment"
    }
   },
   "outputs": [],
   "source": []
  },
  {
   "cell_type": "markdown",
   "metadata": {
    "colab_type": "text",
    "id": "3vUm-Di3Sxaj",
    "slideshow": {
     "slide_type": "fragment"
    }
   },
   "source": [
    "##### Question 5\n",
    "What values can the `Boolean` data type hold?"
   ]
  },
  {
   "cell_type": "code",
   "execution_count": null,
   "metadata": {
    "slideshow": {
     "slide_type": "fragment"
    }
   },
   "outputs": [],
   "source": []
  },
  {
   "cell_type": "markdown",
   "metadata": {
    "colab_type": "text",
    "id": "3vUm-Di3Sxaj",
    "slideshow": {
     "slide_type": "fragment"
    }
   },
   "source": [
    "##### Question 6\n",
    "True or False. The following is a valid string in Python 3: `الثعبان`"
   ]
  },
  {
   "cell_type": "code",
   "execution_count": null,
   "metadata": {
    "slideshow": {
     "slide_type": "fragment"
    }
   },
   "outputs": [],
   "source": []
  },
  {
   "cell_type": "markdown",
   "metadata": {
    "colab_type": "text",
    "id": "3vUm-Di3Sxaj",
    "slideshow": {
     "slide_type": "fragment"
    }
   },
   "source": [
    "##### Question 7\n",
    "What does it mean that Python is a dynamically-typed language?"
   ]
  },
  {
   "cell_type": "code",
   "execution_count": null,
   "metadata": {},
   "outputs": [],
   "source": []
  },
  {
   "cell_type": "markdown",
   "metadata": {},
   "source": [
    "##### Question 8\n",
    "What does the module ``%`` operator do?"
   ]
  },
  {
   "cell_type": "code",
   "execution_count": null,
   "metadata": {},
   "outputs": [],
   "source": []
  },
  {
   "cell_type": "markdown",
   "metadata": {},
   "source": [
    "##### Question 9\n",
    "What is the difference between ``int`` and ``float`` numbers?"
   ]
  },
  {
   "cell_type": "code",
   "execution_count": null,
   "metadata": {},
   "outputs": [],
   "source": []
  }
 ],
 "metadata": {
  "colab": {
   "authorship_tag": "ABX9TyOaxw8MyUHqh2yH8My6xJgL",
   "collapsed_sections": [],
   "name": "variables_data-types.ipynb",
   "provenance": []
  },
  "kernelspec": {
   "display_name": "Python 3",
   "language": "python",
   "name": "python3"
  },
  "language_info": {
   "codemirror_mode": {
    "name": "ipython",
    "version": 3
   },
   "file_extension": ".py",
   "mimetype": "text/x-python",
   "name": "python",
   "nbconvert_exporter": "python",
   "pygments_lexer": "ipython3",
   "version": "3.8.3"
  },
  "rise": {
   "scroll": true
  },
  "toc": {
   "base_numbering": 1,
   "nav_menu": {},
   "number_sections": true,
   "sideBar": true,
   "skip_h1_title": false,
   "title_cell": "Table of Contents",
   "title_sidebar": "Contents",
   "toc_cell": false,
   "toc_position": {},
   "toc_section_display": true,
   "toc_window_display": true
  }
 },
 "nbformat": 4,
 "nbformat_minor": 4
}
