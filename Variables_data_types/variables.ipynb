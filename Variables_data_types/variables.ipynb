{
 "cells": [
  {
   "cell_type": "markdown",
   "metadata": {
    "id": "i7xIAr06u3oF"
   },
   "source": [
    "<img src=\"https://github.com/Center-for-Health-Data-Science/PythonTsunami/blob/spring2022/figures/HeaDS_logo_large_withTitle.png?raw=1\" width=\"300\">\n",
    "\n",
    "<img src=\"https://github.com/Center-for-Health-Data-Science/PythonTsunami/blob/spring2022/figures/tsunami_logo.PNG?raw=1\" width=\"600\">\n",
    "\n",
    "[![Open In Colab](https://colab.research.google.com/assets/colab-badge.svg)](https://colab.research.google.com/github/Center-for-Health-Data-Science/PythonTsunami/blob/spring2022/Variables_data_types/variables.ipynb)"
   ]
  },
  {
   "cell_type": "markdown",
   "metadata": {
    "id": "1MjzmO4uoHh9"
   },
   "source": [
    "# Variables and Data Types\n",
    "\n",
    "*Prepared by [Katarina Nastou](https://www.cpr.ku.dk/staff/?pure=en/persons/672471) and edited by [Marilena Hohmann](https://heads.ku.dk/team/)*.\n",
    "\n",
    "*Note: This notebook's contents have been adapted from Colt Steele's slides used in \"[Modern Python 3 Bootcamp Course](https://www.udemy.com/course/the-modern-python3-bootcamp/)\" on Udemy*"
   ]
  },
  {
   "cell_type": "markdown",
   "metadata": {
    "id": "7QT8Vhp4xJJ8"
   },
   "source": [
    "## For (anonymous) questions\n",
    "If there are any questions you'd like to ask anonymously, post them to this [Padlet link](https://ucph.padlet.org/marilenahohmann/m0wsjjprswzsi1ji). "
   ]
  },
  {
   "cell_type": "markdown",
   "metadata": {
    "id": "GXxxR4dDuunK"
   },
   "source": [
    "## Variable Assignment"
   ]
  },
  {
   "cell_type": "markdown",
   "metadata": {
    "id": "Nx4q1VSyuzOA"
   },
   "source": [
    "> A variable is a named symbol that holds a value.\n",
    "\n",
    "* Create variables by assigning a value to a name (just like using variables in math).\n",
    "* Variable names should be meaningful, i.e. not just ``a``, ``b``, ``c``\n",
    "* Variables are always **assigned** with the variable name on the left and the value on the right of the ***equals*** sign. For instance:\n",
    "        \n",
    "    * `a_variable = 100`  \n",
    "    * assigned to other variables: `another_variable = a_variable`\n",
    "    * reassigned at any time: `a_variable = 435` \n",
    "    * assigned at the same time as other variables: `all, at, once = 1, 130, 43`\n",
    "\n",
    "* Variables must be assigned before they can be used."
   ]
  },
  {
   "cell_type": "code",
   "execution_count": null,
   "metadata": {
    "id": "-IoOMUOnuD6f"
   },
   "outputs": [],
   "source": [
    "x = 100"
   ]
  },
  {
   "cell_type": "code",
   "execution_count": null,
   "metadata": {
    "colab": {
     "base_uri": "https://localhost:8080/"
    },
    "id": "Dz-dM28F2wxQ",
    "outputId": "aeffabc7-40d3-4b74-9d02-27fd52877e17"
   },
   "outputs": [
    {
     "name": "stdout",
     "output_type": "stream",
     "text": [
      "100\n"
     ]
    }
   ],
   "source": [
    "print(x)"
   ]
  },
  {
   "cell_type": "markdown",
   "metadata": {
    "id": "l5SuTYIGvuB_"
   },
   "source": [
    "## Naming Restrictions\n"
   ]
  },
  {
   "cell_type": "markdown",
   "metadata": {
    "id": "M23lgzTcwMXn"
   },
   "source": [
    "In Python, you can name your variables whatever you want, with some restrictions:\n",
    "\n",
    "1. Variables must start with a letter or underscore:  \n",
    "    * `_yes`: Valid name.  \n",
    "    * `2no`: Not valid!  \n",
    "   \n",
    "2. The rest of the name must consist of letters, numbers, or underscores:  \n",
    "    * `yes2`: Valid name.   \n",
    "    * `hey@no`: Not valid!   \n",
    "    \n",
    "3. Names are case-sensitive  \n",
    "    * `Yes` and `yes` are two _different_ variables. "
   ]
  },
  {
   "cell_type": "code",
   "execution_count": null,
   "metadata": {
    "id": "ReKCem_Cu3oW"
   },
   "outputs": [],
   "source": [
    "# try it out\n"
   ]
  },
  {
   "cell_type": "markdown",
   "metadata": {
    "id": "pVF6YjlgGtKX"
   },
   "source": [
    "## Data Types"
   ]
  },
  {
   "cell_type": "markdown",
   "metadata": {
    "id": "J3kix56wGxEB"
   },
   "source": [
    "In any assignment, the assigned value must always be a valid data type.\n",
    "\n",
    "Python data types include (among others):\n",
    "- numbers:\n",
    "    - `int`: an integer, e.g. `1`, `2`, `3`\n",
    "    - `float`: a floating point number with a decimal point, e.g. `1.2`, `2999.197`, `-160.8`\n",
    "- `str`: (string) a sequence of Unicode characters, e.g. \"Kate\" or \"程序设计\"\n",
    "- `bool`: True or False"
   ]
  },
  {
   "cell_type": "code",
   "execution_count": null,
   "metadata": {
    "colab": {
     "base_uri": "https://localhost:8080/"
    },
    "id": "ovMTp36Eu3oa",
    "outputId": "03d238d7-9d15-436f-ca77-9ae7a3eba5da"
   },
   "outputs": [
    {
     "data": {
      "text/plain": [
       "-1"
      ]
     },
     "execution_count": 4,
     "metadata": {},
     "output_type": "execute_result"
    }
   ],
   "source": [
    "# try it out\n",
    "var = -1\n",
    "var"
   ]
  },
  {
   "cell_type": "code",
   "execution_count": null,
   "metadata": {
    "colab": {
     "base_uri": "https://localhost:8080/"
    },
    "id": "goSxBiyf4qkY",
    "outputId": "ae184f90-4620-45b2-f5fe-0773b5aeba61"
   },
   "outputs": [
    {
     "data": {
      "text/plain": [
       "-2.099874565"
      ]
     },
     "execution_count": 5,
     "metadata": {},
     "output_type": "execute_result"
    }
   ],
   "source": [
    "var2 = -2.099874565\n",
    "var2"
   ]
  },
  {
   "cell_type": "code",
   "execution_count": null,
   "metadata": {
    "colab": {
     "base_uri": "https://localhost:8080/",
     "height": 35
    },
    "id": "Zt37xw_g40uH",
    "outputId": "6be1dc3b-f884-45e3-9fcb-ca7526327d24"
   },
   "outputs": [
    {
     "data": {
      "text/plain": [
       "'Hello world!'"
      ]
     },
     "execution_count": 6,
     "metadata": {},
     "output_type": "execute_result"
    }
   ],
   "source": [
    "my_string = \"Hello world!\"\n",
    "my_string"
   ]
  },
  {
   "cell_type": "code",
   "execution_count": null,
   "metadata": {
    "colab": {
     "base_uri": "https://localhost:8080/"
    },
    "id": "R9BA93CP4_12",
    "outputId": "894b1176-39a3-464c-dc6e-290058c26460"
   },
   "outputs": [
    {
     "data": {
      "text/plain": [
       "True"
      ]
     },
     "execution_count": 7,
     "metadata": {},
     "output_type": "execute_result"
    }
   ],
   "source": [
    "bool_var = True\n",
    "bool_var"
   ]
  },
  {
   "cell_type": "markdown",
   "metadata": {
    "id": "UAnUqmtKICUK"
   },
   "source": [
    "## Dynamic Typing"
   ]
  },
  {
   "cell_type": "markdown",
   "metadata": {
    "id": "tL8FZFytIeIX"
   },
   "source": [
    "In Python variables can change types readily, something called **dynamic typing**! Test it with the 4 code blocks below."
   ]
  },
  {
   "cell_type": "code",
   "execution_count": null,
   "metadata": {
    "colab": {
     "base_uri": "https://localhost:8080/"
    },
    "id": "mJWRieehIRFs",
    "outputId": "d3f63f57-d3ff-4687-e2b1-c14bcbc2cdd1"
   },
   "outputs": [
    {
     "name": "stdout",
     "output_type": "stream",
     "text": [
      "True\n"
     ]
    }
   ],
   "source": [
    "variable1 = True\n",
    "print(variable1)"
   ]
  },
  {
   "cell_type": "code",
   "execution_count": null,
   "metadata": {
    "colab": {
     "base_uri": "https://localhost:8080/"
    },
    "id": "EzKLZ1t3IVNw",
    "outputId": "583626ed-c4cd-4c84-ea5e-071395269965"
   },
   "outputs": [
    {
     "name": "stdout",
     "output_type": "stream",
     "text": [
      "Hello!\n"
     ]
    }
   ],
   "source": [
    "variable1 = \"Hello!\"\n",
    "print(variable1)"
   ]
  },
  {
   "cell_type": "code",
   "execution_count": null,
   "metadata": {
    "colab": {
     "base_uri": "https://localhost:8080/"
    },
    "id": "kymQ8oseIZ70",
    "outputId": "cadaa5c5-939c-4d9e-b580-fa2f25592901"
   },
   "outputs": [
    {
     "name": "stdout",
     "output_type": "stream",
     "text": [
      "3.142857142857143\n"
     ]
    }
   ],
   "source": [
    "variable1 = 22 / 7\n",
    "print(variable1)"
   ]
  },
  {
   "cell_type": "markdown",
   "metadata": {
    "id": "2Fxr9nvvNelH"
   },
   "source": [
    "Question: Is the following valid Python code?\n",
    "\n",
    "```    \n",
    "    i_am_string = \"hello world\"\n",
    "    \n",
    "    i_am_string = 73 \n",
    "    \n",
    "    i_am_string = True\n",
    "```"
   ]
  },
  {
   "cell_type": "code",
   "execution_count": null,
   "metadata": {
    "id": "UoZSBRelu3oi"
   },
   "outputs": [],
   "source": [
    "# try it out\n"
   ]
  },
  {
   "cell_type": "markdown",
   "metadata": {
    "id": "T8sme5NPu3oj"
   },
   "source": [
    "### Exercise\n",
    "\n",
    "Try out dynamic typing. For instance, create a variable, assign a string and print it out: \n",
    "```python\n",
    "name = \"Lisa\"\n",
    "print(name)\n",
    "```\n",
    "Then, change the value of name to a different name, and add another variable for the surname:\n",
    "\n",
    "```python\n",
    "Name = \"Bill\"\n",
    "print(name)\n",
    "\n",
    "```"
   ]
  },
  {
   "cell_type": "code",
   "execution_count": null,
   "metadata": {
    "id": "Z2JXfPbPu3ok"
   },
   "outputs": [],
   "source": [
    "# try it out"
   ]
  },
  {
   "cell_type": "markdown",
   "metadata": {
    "id": "PrL4PX77u3ol"
   },
   "source": [
    "# Numbers and Operators"
   ]
  },
  {
   "cell_type": "markdown",
   "metadata": {
    "id": "wCrDfqgGu3ol"
   },
   "source": [
    "## Numbers\n",
    "Two main types of numbers:\n",
    "- Integers: `56, 3, -90`\n",
    "- Floating Points: `5.666, 0.0, -8.9`\n",
    "    \n",
    "## Math Operators \n",
    "- addition: `+`\n",
    "- subtraction: `-`\n",
    "- multiplication: `*`\n",
    "- division: `/`\n",
    "- integer division: `//`\n",
    "- exponentiation, power: `**`\n",
    "- modulo: `%`\n"
   ]
  },
  {
   "cell_type": "code",
   "execution_count": null,
   "metadata": {
    "id": "RiLNH1uN5yoe"
   },
   "outputs": [],
   "source": [
    "# try it out"
   ]
  },
  {
   "cell_type": "markdown",
   "metadata": {
    "id": "ZDguNUx9u3om"
   },
   "source": [
    "### Questions: Ints and Floats\n",
    "\n",
    "- Question 1: What type does the following expression result in? \n",
    "\n",
    "```python\n",
    "3.0 + 5\n",
    "```"
   ]
  },
  {
   "cell_type": "code",
   "execution_count": null,
   "metadata": {
    "id": "u58xPsuxu3om"
   },
   "outputs": [],
   "source": [
    "# try it out\n"
   ]
  },
  {
   "cell_type": "markdown",
   "metadata": {
    "id": "QDJWDF-8u3om"
   },
   "source": [
    "### Questions: Operators\n",
    "- Question 2: How can we add parenthesis to the following expression to make it equal 100? \n",
    "```python\n",
    "1 + 9 * 10\n",
    "```"
   ]
  },
  {
   "cell_type": "code",
   "execution_count": null,
   "metadata": {
    "id": "MCc7CQ1Eu3on"
   },
   "outputs": [],
   "source": []
  },
  {
   "cell_type": "markdown",
   "metadata": {
    "id": "UTrkcKTKu3on"
   },
   "source": [
    "- Question 3: What is the result of the following expression?\n",
    "```python\n",
    "4 + 13 * 2 + 4 * 5\n",
    "```"
   ]
  },
  {
   "cell_type": "code",
   "execution_count": null,
   "metadata": {
    "id": "BdlxEnFpu3on"
   },
   "outputs": [],
   "source": []
  },
  {
   "cell_type": "markdown",
   "metadata": {
    "id": "kzr2EI46u3oo"
   },
   "source": [
    "- Question 4: What is the result of the following expression\n",
    "```python\n",
    "5 * 9 / 4 ** 3 - 6 * 7\n",
    "```"
   ]
  },
  {
   "cell_type": "code",
   "execution_count": null,
   "metadata": {
    "id": "QSrmsqy98IZ1"
   },
   "outputs": [],
   "source": []
  },
  {
   "cell_type": "markdown",
   "metadata": {
    "id": "aJ_YXDHTu3oo"
   },
   "source": [
    "- Question 5: What is the result of running this code? \n",
    "\n",
    "```python\n",
    "15 / 3 * 2 # + 1 \n",
    "```"
   ]
  },
  {
   "cell_type": "code",
   "execution_count": null,
   "metadata": {
    "id": "x-P4WUgp8sC-"
   },
   "outputs": [],
   "source": []
  },
  {
   "cell_type": "markdown",
   "metadata": {
    "id": "gVngLCJiu3oo"
   },
   "source": [
    "- Question 6: Which of the following result in integers in Python? \n",
    "        (a) 8 / 2\n",
    "        (b) 3 // 2 \n",
    "        (c) 4.5 * 2"
   ]
  },
  {
   "cell_type": "code",
   "execution_count": null,
   "metadata": {
    "id": "gBufcERNu3op"
   },
   "outputs": [],
   "source": []
  },
  {
   "cell_type": "markdown",
   "metadata": {
    "id": "efZtg094u3op"
   },
   "source": [
    "- Question 7: What is the result of `18 // 3` ?"
   ]
  },
  {
   "cell_type": "code",
   "execution_count": null,
   "metadata": {
    "id": "TQGQv4oAu3op"
   },
   "outputs": [],
   "source": []
  },
  {
   "cell_type": "markdown",
   "metadata": {
    "id": "Ja8Z93Qku3oq"
   },
   "source": [
    "- Question 8: What is the result of `121 % 7` ?"
   ]
  },
  {
   "cell_type": "code",
   "execution_count": null,
   "metadata": {
    "id": "Eh3EqnsAu3oq"
   },
   "outputs": [],
   "source": []
  },
  {
   "cell_type": "markdown",
   "metadata": {
    "id": "Arrv3Ql1u3oq"
   },
   "source": [
    "## Exercise 1: ``int`` and ``float``\n",
    "1. Use an ``int`` value of your choice and store it in a variable. Multiply that variable by ``2``and print this new variable.\n",
    "2. Use a second ``int`` value of your choice and multiply it with the initial variable used in 1).\n",
    "3. Square the ``int``s from 1) and 2)."
   ]
  },
  {
   "cell_type": "code",
   "execution_count": null,
   "metadata": {
    "id": "Le_E2eSEu3or"
   },
   "outputs": [],
   "source": []
  },
  {
   "cell_type": "markdown",
   "metadata": {
    "id": "P2fccvjvu3or"
   },
   "source": [
    "### Note\n",
    "\n",
    "Check out also the [math library](https://docs.python.org/3/library/math.html) in Python. You can use this library for more complex operations with numbers. Just import the library and try it out:\n",
    "\n",
    "```python\n",
    "\n",
    "import math\n",
    "\n",
    "print(math.sqrt(25))\n",
    "\n",
    "print(math.log10(10))\n",
    "```"
   ]
  },
  {
   "cell_type": "code",
   "execution_count": null,
   "metadata": {
    "id": "aXqhEH8Bu3or"
   },
   "outputs": [],
   "source": []
  },
  {
   "cell_type": "markdown",
   "metadata": {
    "id": "E6efkkz4u3os"
   },
   "source": [
    "# Strings\n",
    "\n",
    "> Strings are containers of characters.\n",
    "\n",
    "There are different _encodings_ for characters. The default in Python 3 is the Unicode encoding which includes characters from European and Asian languages."
   ]
  },
  {
   "cell_type": "code",
   "execution_count": null,
   "metadata": {
    "id": "PYBif6rQ-Wzf"
   },
   "outputs": [],
   "source": []
  },
  {
   "cell_type": "markdown",
   "metadata": {
    "id": "id_C8gtAJH0H"
   },
   "source": [
    "### Declaring strings"
   ]
  },
  {
   "cell_type": "markdown",
   "metadata": {
    "id": "5ld4357nJwPO"
   },
   "source": [
    "String literals in Python can be declared with either single or double quotes.\n",
    "    \n",
    "    my_other_str = 'a hat'\n",
    "    my_str = \"a cat\"\n",
    "\n",
    "\n",
    "Either one is perfectly fine; but make sure you stick to the same convention throughout the same file.\n"
   ]
  },
  {
   "cell_type": "code",
   "execution_count": null,
   "metadata": {
    "id": "tsgB3B8R-nHf"
   },
   "outputs": [],
   "source": [
    "# try it out"
   ]
  },
  {
   "cell_type": "markdown",
   "metadata": {
    "id": "L1dWUnXgKP-V"
   },
   "source": [
    "### String Escape Characters"
   ]
  },
  {
   "cell_type": "markdown",
   "metadata": {
    "id": "hbJoXKY3KTZU"
   },
   "source": [
    "In Python there are also \"escape characters\", which are \"metacharacters\" - they get interpreted by Python to do something special. All escape characters start with a backslash `\\`:\n"
   ]
  },
  {
   "cell_type": "code",
   "execution_count": null,
   "metadata": {
    "colab": {
     "base_uri": "https://localhost:8080/"
    },
    "id": "Dwsi4tHLKW2_",
    "outputId": "1ddb6e2c-f26f-42d9-b112-69c3af8db6ef"
   },
   "outputs": [
    {
     "name": "stdout",
     "output_type": "stream",
     "text": [
      "hello \n",
      " world\n"
     ]
    }
   ],
   "source": [
    "new_line = \"hello \\n world\"\n",
    "print(new_line)"
   ]
  },
  {
   "cell_type": "markdown",
   "metadata": {
    "id": "8zvHzDf9ObSF"
   },
   "source": [
    "**Question:** What will happen in the following cases?\n",
    "```\n",
    "names = \"Megan\\nTrevor\"\n",
    "names2 = 'Megan\\nTrevor'\n",
    "greeting = \"hello \"Megan\"\"\n",
    "greeting2 = \"hello 'Megan'\"\n",
    "\n",
    "```"
   ]
  },
  {
   "cell_type": "code",
   "execution_count": null,
   "metadata": {
    "id": "r-eyXEpju3ou"
   },
   "outputs": [],
   "source": []
  },
  {
   "cell_type": "markdown",
   "metadata": {
    "id": "wdl3Mr56KobD"
   },
   "source": [
    "### String Concatenation"
   ]
  },
  {
   "cell_type": "markdown",
   "metadata": {
    "id": "2TrbxJSoKqzZ"
   },
   "source": [
    "Concatenation is combining multiple strings together. In Python you can do this simply with the \"+\" operator."
   ]
  },
  {
   "cell_type": "code",
   "execution_count": null,
   "metadata": {
    "colab": {
     "base_uri": "https://localhost:8080/"
    },
    "id": "TES-Z6EOKtJO",
    "outputId": "511df559-d369-48e8-a9d6-f8c3c3010e76"
   },
   "outputs": [
    {
     "name": "stdout",
     "output_type": "stream",
     "text": [
      "your face\n"
     ]
    }
   ],
   "source": [
    "str_one = \"your\"\n",
    "str_two = \"face\"\n",
    "str_three = str_one + \" \" + str_two \n",
    "print(str_three)"
   ]
  },
  {
   "cell_type": "markdown",
   "metadata": {
    "id": "5ARprsTjK1rf"
   },
   "source": [
    "You can also use the \"+=\" operator!"
   ]
  },
  {
   "cell_type": "code",
   "execution_count": null,
   "metadata": {
    "colab": {
     "base_uri": "https://localhost:8080/"
    },
    "id": "v-YdMCywK3eU",
    "outputId": "c5806bae-8bfc-4876-bfb7-fc072c70eac5"
   },
   "outputs": [
    {
     "name": "stdout",
     "output_type": "stream",
     "text": [
      "ice cream\n"
     ]
    }
   ],
   "source": [
    "str_one = \"ice\"\n",
    "str_one += \" cream\"\n",
    "str_one\n",
    "print(str_one)"
   ]
  },
  {
   "cell_type": "code",
   "execution_count": null,
   "metadata": {
    "id": "AURlgBVfu3ow"
   },
   "outputs": [],
   "source": []
  },
  {
   "cell_type": "markdown",
   "metadata": {
    "id": "TUWlmr5jLMSS"
   },
   "source": [
    "### Formatting strings"
   ]
  },
  {
   "cell_type": "markdown",
   "metadata": {
    "id": "gAKONDNDLQPM"
   },
   "source": [
    "There are also several ways to format strings in Python to interpolate variables. In the Python version we use (Python 3.6+), strings are formatted by using **F-Strings**:"
   ]
  },
  {
   "cell_type": "code",
   "execution_count": null,
   "metadata": {
    "colab": {
     "base_uri": "https://localhost:8080/"
    },
    "id": "waOcpL6ALVyg",
    "outputId": "f1d33a19-b0a2-4fd7-a130-3511376c32e1"
   },
   "outputs": [
    {
     "name": "stdout",
     "output_type": "stream",
     "text": [
      "I've told you 10 times already!\n"
     ]
    }
   ],
   "source": [
    "x = 10\n",
    "formatted = f\"I've told you {x} times already!\"\n",
    "print(formatted)"
   ]
  },
  {
   "cell_type": "markdown",
   "metadata": {
    "id": "cWYyiUYwPIzK"
   },
   "source": [
    "## Exercises\n",
    "\n",
    "### Exercise 2\n",
    "\n",
    "2.1 Create a new variable ``message`` and set it equal to a string containing a new line.\n",
    "\n",
    "2.2 Create a new variable ``mountains``. Assign a string to this variable so that it results in /\\/\\/\\ when printed. _Hint:_ You will need to use an escape sequence more than once!\n",
    "\n",
    "2.3 Create a new variable ``quotation`` and set it to any string that contains an escaped double quotation mark."
   ]
  },
  {
   "cell_type": "markdown",
   "metadata": {
    "id": "4Ux6Hu0HPa9J"
   },
   "source": [
    "### Exercise 3\n",
    "3.1 Set the variable called ``greeting`` to some greeting, e.g. \"hello\".\n",
    "\n",
    "3.2 Set the variable called ``name`` to some name, e.g. \"Moto\". \n",
    "\n",
    "3.3 Then set the variable called ``greet_name``  that concatenates greeting , name , and a space \" \" between them."
   ]
  },
  {
   "cell_type": "code",
   "execution_count": null,
   "metadata": {
    "colab": {
     "base_uri": "https://localhost:8080/"
    },
    "id": "9g4l_bmSPd8G",
    "outputId": "27dfd6ae-7a77-458c-81aa-95175ea2f734"
   },
   "outputs": [
    {
     "name": "stdout",
     "output_type": "stream",
     "text": [
      "Change me!\n"
     ]
    }
   ],
   "source": [
    "greeting = \"\"\n",
    "\n",
    "name = \"\"\n",
    "\n",
    "space = \"\"\n",
    "\n",
    "greet_name = \"Change me!\"\n",
    "print(greet_name)"
   ]
  },
  {
   "cell_type": "markdown",
   "metadata": {
    "id": "ZCImv_NnRde8"
   },
   "source": [
    "### Exercise 4\n",
    "4.1 Set the variable ``first`` to your first name.\n",
    "\n",
    "4.2 Set the variable ``last`` to your last name.\n",
    "\n",
    "4.3 Set the variable ``name`` to a combination of ``first`` and ``last`` using the f-string method. Follow this pattern: ```First Name: Mary, Last Name: Poppins```"
   ]
  },
  {
   "cell_type": "code",
   "execution_count": null,
   "metadata": {
    "id": "Ptyqkjh3RiUb"
   },
   "outputs": [],
   "source": [
    "first = \"\"\n",
    "last = \"\"\n",
    "name = \"\""
   ]
  },
  {
   "cell_type": "markdown",
   "metadata": {
    "id": "GDBodXOJLnja"
   },
   "source": [
    "## Converting Data Types"
   ]
  },
  {
   "cell_type": "markdown",
   "metadata": {
    "id": "RskoInewL1yZ"
   },
   "source": [
    "You can also convert variables by using the name of the built-in type as a function (more on functions later):"
   ]
  },
  {
   "cell_type": "code",
   "execution_count": null,
   "metadata": {
    "colab": {
     "base_uri": "https://localhost:8080/"
    },
    "id": "bOaRRZ2dL8Um",
    "outputId": "1066d863-a90d-4942-d4b0-85bdec0c0b52"
   },
   "outputs": [
    {
     "name": "stdout",
     "output_type": "stream",
     "text": [
      "12\n"
     ]
    }
   ],
   "source": [
    "# convert an float value into an int value\n",
    "decimal = 12.56345634534\n",
    "integer = int(decimal) \n",
    "print(integer)"
   ]
  },
  {
   "cell_type": "code",
   "execution_count": null,
   "metadata": {
    "colab": {
     "base_uri": "https://localhost:8080/"
    },
    "id": "4CVN-KSaCoQv",
    "outputId": "d1926321-6fd4-43b2-910d-e999605134fd"
   },
   "outputs": [
    {
     "name": "stdout",
     "output_type": "stream",
     "text": [
      "<class 'int'>\n"
     ]
    }
   ],
   "source": [
    "# to check what data type a variable is, you can use the type() function\n",
    "print(type(integer))"
   ]
  },
  {
   "cell_type": "code",
   "execution_count": null,
   "metadata": {
    "colab": {
     "base_uri": "https://localhost:8080/"
    },
    "id": "UH8WhR5IMAwZ",
    "outputId": "760b71ee-00ee-41bb-8f77-42d5e3adf16c"
   },
   "outputs": [
    {
     "name": "stdout",
     "output_type": "stream",
     "text": [
      "12\n"
     ]
    }
   ],
   "source": [
    "# convert an int value into a string representation \n",
    "string = str(integer)\n",
    "print(string)"
   ]
  },
  {
   "cell_type": "code",
   "execution_count": null,
   "metadata": {
    "colab": {
     "base_uri": "https://localhost:8080/"
    },
    "id": "evoRNMekCq9S",
    "outputId": "88ba5fde-7dad-4f9a-b9be-54308a7cdfdd"
   },
   "outputs": [
    {
     "name": "stdout",
     "output_type": "stream",
     "text": [
      "<class 'str'>\n"
     ]
    }
   ],
   "source": [
    "# check the data type\n",
    "print(type(string))"
   ]
  },
  {
   "cell_type": "markdown",
   "metadata": {
    "id": "3vUm-Di3Sxaj"
   },
   "source": [
    "## Quiz\n",
    "\n",
    "##### Question 1\n",
    "True or False: Variables must be assigned before they can be used."
   ]
  },
  {
   "cell_type": "markdown",
   "metadata": {
    "id": "5TweQb0Ku3o1"
   },
   "source": [
    "##### Question 2:\n",
    "Variables can be: \n",
    "\n",
    "1. assigned to other variables,\n",
    "\n",
    "2. reassigned at any time,\n",
    "\n",
    "3. assigned at the same time as other variables, \n",
    "\n",
    "4. all of the above."
   ]
  },
  {
   "cell_type": "code",
   "execution_count": null,
   "metadata": {
    "id": "1nRuoeC4u3o1"
   },
   "outputs": [],
   "source": []
  },
  {
   "cell_type": "markdown",
   "metadata": {
    "id": "Q5AJaoCCu3o1"
   },
   "source": [
    "##### Question 3\n",
    "Is `24hrs`  a valid variable name?"
   ]
  },
  {
   "cell_type": "code",
   "execution_count": null,
   "metadata": {
    "id": "23fjTGqtu3o1"
   },
   "outputs": [],
   "source": []
  },
  {
   "cell_type": "markdown",
   "metadata": {
    "id": "1LWfOSiqu3o1"
   },
   "source": [
    "##### Question 4\n",
    "Is `my_1st_variable`  a valid variable name?"
   ]
  },
  {
   "cell_type": "code",
   "execution_count": null,
   "metadata": {
    "id": "dL5lq_YGu3o2"
   },
   "outputs": [],
   "source": []
  },
  {
   "cell_type": "markdown",
   "metadata": {
    "id": "oIt0RcNAu3o2"
   },
   "source": [
    "##### Question 5\n",
    "What values can the `Boolean` data type hold?"
   ]
  },
  {
   "cell_type": "code",
   "execution_count": null,
   "metadata": {
    "id": "bpo9aBBgu3o2"
   },
   "outputs": [],
   "source": []
  },
  {
   "cell_type": "markdown",
   "metadata": {
    "id": "8a7mXp-5u3o2"
   },
   "source": [
    "##### Question 6\n",
    "True or False. The following is a valid string in Python 3: `الثعبان`"
   ]
  },
  {
   "cell_type": "code",
   "execution_count": null,
   "metadata": {
    "id": "DiTQ4C9zu3o2"
   },
   "outputs": [],
   "source": []
  },
  {
   "cell_type": "markdown",
   "metadata": {
    "id": "jDunJS8Ku3o3"
   },
   "source": [
    "##### Question 7\n",
    "What does it mean that Python is a dynamically-typed language?"
   ]
  },
  {
   "cell_type": "code",
   "execution_count": null,
   "metadata": {
    "id": "YKPhanpXu3o3"
   },
   "outputs": [],
   "source": []
  },
  {
   "cell_type": "markdown",
   "metadata": {
    "id": "HO6QFOj6u3o3"
   },
   "source": [
    "##### Question 8\n",
    "What does the modulo ``%`` operator do?"
   ]
  },
  {
   "cell_type": "code",
   "execution_count": null,
   "metadata": {
    "id": "NGmSaTbbu3o3"
   },
   "outputs": [],
   "source": []
  },
  {
   "cell_type": "markdown",
   "metadata": {
    "id": "8AiQxHcsu3o3"
   },
   "source": [
    "##### Question 9\n",
    "What is the difference between ``int`` and ``float`` numbers?"
   ]
  },
  {
   "cell_type": "code",
   "execution_count": null,
   "metadata": {
    "id": "2qhTSJbwu3o3"
   },
   "outputs": [],
   "source": []
  },
  {
   "cell_type": "markdown",
   "metadata": {
    "id": "czYsAUPBu3o4"
   },
   "source": [
    "# Reading error messages\n",
    "\n",
    "Let's talk about error messages! They look red and scary, but they're actually just here to help you. Error messages tell you that you are trying to do something that is either not allowed, not possible, ambiguous, not meaningful or written using the wrong syntax.  \n",
    "  \n",
    "You will encounter error messages **ALL THE TIME**; especially when learning to program, but also as an advanced programmer. That's why it's worth knowing how the read them. \n",
    "\n",
    "\n",
    "***\n",
    "Look at the error message below. You can find the most important piece of information **on the last line: this is the actual error** and this is where you should always look first. In the part above the last line, you can see in which line of your program the error occurs in. \n",
    "\n",
    "```python\n",
    "---------------------------------------------------------------------------\n",
    "ZeroDivisionError                         Traceback (most recent call last)\n",
    "<ipython-input-10-bc757c3fda29> in <module>\n",
    "----> 1 1 / 0                                     # the arrow points towards the line where the error occurs\n",
    "\n",
    "ZeroDivisionError: division by zero               # this is the actual type of error\n",
    "```"
   ]
  },
  {
   "cell_type": "code",
   "execution_count": null,
   "metadata": {
    "id": "jYMwrxSQu3o4"
   },
   "outputs": [],
   "source": [
    "# let's see what types of error messages there are"
   ]
  },
  {
   "cell_type": "code",
   "execution_count": null,
   "metadata": {
    "colab": {
     "base_uri": "https://localhost:8080/",
     "height": 165
    },
    "id": "3M6rVbZlu3o4",
    "outputId": "3a6eae0b-4e94-4a50-d998-14dc348a3133"
   },
   "outputs": [
    {
     "ename": "NameError",
     "evalue": "name 'i' is not defined",
     "output_type": "error",
     "traceback": [
      "\u001b[1;31m---------------------------------------------------------------------------\u001b[0m",
      "\u001b[1;31mNameError\u001b[0m                                 Traceback (most recent call last)",
      "\u001b[1;32m<ipython-input-27-397d543883c5>\u001b[0m in \u001b[0;36m<module>\u001b[1;34m\u001b[0m\n\u001b[1;32m----> 1\u001b[1;33m \u001b[0mi\u001b[0m\u001b[1;33m\u001b[0m\u001b[1;33m\u001b[0m\u001b[0m\n\u001b[0m",
      "\u001b[1;31mNameError\u001b[0m: name 'i' is not defined"
     ]
    }
   ],
   "source": [
    "i"
   ]
  },
  {
   "cell_type": "code",
   "execution_count": null,
   "metadata": {
    "id": "VSAExeGVu3o5",
    "outputId": "5373e024-757e-42d4-ea11-b1bee7aa1323"
   },
   "outputs": [
    {
     "ename": "ZeroDivisionError",
     "evalue": "division by zero",
     "output_type": "error",
     "traceback": [
      "\u001b[1;31m---------------------------------------------------------------------------\u001b[0m",
      "\u001b[1;31mZeroDivisionError\u001b[0m                         Traceback (most recent call last)",
      "\u001b[1;32m<ipython-input-28-bc757c3fda29>\u001b[0m in \u001b[0;36m<module>\u001b[1;34m\u001b[0m\n\u001b[1;32m----> 1\u001b[1;33m \u001b[1;36m1\u001b[0m \u001b[1;33m/\u001b[0m \u001b[1;36m0\u001b[0m\u001b[1;33m\u001b[0m\u001b[1;33m\u001b[0m\u001b[0m\n\u001b[0m",
      "\u001b[1;31mZeroDivisionError\u001b[0m: division by zero"
     ]
    }
   ],
   "source": [
    "1 / 0"
   ]
  },
  {
   "cell_type": "code",
   "execution_count": null,
   "metadata": {
    "id": "9KcwsZYzu3o5",
    "outputId": "74dee3a3-09d2-4669-d3bd-0aaf3840b998"
   },
   "outputs": [
    {
     "ename": "SyntaxError",
     "evalue": "invalid syntax (<ipython-input-29-0165dc641888>, line 1)",
     "output_type": "error",
     "traceback": [
      "\u001b[1;36m  File \u001b[1;32m\"<ipython-input-29-0165dc641888>\"\u001b[1;36m, line \u001b[1;32m1\u001b[0m\n\u001b[1;33m    1 %% 2\u001b[0m\n\u001b[1;37m       ^\u001b[0m\n\u001b[1;31mSyntaxError\u001b[0m\u001b[1;31m:\u001b[0m invalid syntax\n"
     ]
    }
   ],
   "source": [
    "1 %% 2"
   ]
  },
  {
   "cell_type": "code",
   "execution_count": null,
   "metadata": {
    "id": "ZirqXS0ou3o5",
    "outputId": "8ff61784-3ad3-40b2-f9a7-574373c817e2"
   },
   "outputs": [
    {
     "ename": "TypeError",
     "evalue": "can only concatenate str (not \"int\") to str",
     "output_type": "error",
     "traceback": [
      "\u001b[1;31m---------------------------------------------------------------------------\u001b[0m",
      "\u001b[1;31mTypeError\u001b[0m                                 Traceback (most recent call last)",
      "\u001b[1;32m<ipython-input-30-9aa644ec6cb4>\u001b[0m in \u001b[0;36m<module>\u001b[1;34m\u001b[0m\n\u001b[0;32m      1\u001b[0m \u001b[0mmy_string\u001b[0m \u001b[1;33m=\u001b[0m \u001b[1;34m\"Hello world!\"\u001b[0m\u001b[1;33m\u001b[0m\u001b[1;33m\u001b[0m\u001b[0m\n\u001b[1;32m----> 2\u001b[1;33m \u001b[0mmy_string\u001b[0m \u001b[1;33m+\u001b[0m \u001b[1;36m1\u001b[0m\u001b[1;33m\u001b[0m\u001b[1;33m\u001b[0m\u001b[0m\n\u001b[0m",
      "\u001b[1;31mTypeError\u001b[0m: can only concatenate str (not \"int\") to str"
     ]
    }
   ],
   "source": [
    "my_string = \"Hello world!\"\n",
    "my_string + 1"
   ]
  }
 ],
 "metadata": {
  "colab": {
   "collapsed_sections": [],
   "name": "variables.ipynb",
   "provenance": []
  },
  "kernelspec": {
   "display_name": "Python 3",
   "language": "python",
   "name": "python3"
  },
  "language_info": {
   "codemirror_mode": {
    "name": "ipython",
    "version": 3
   },
   "file_extension": ".py",
   "mimetype": "text/x-python",
   "name": "python",
   "nbconvert_exporter": "python",
   "pygments_lexer": "ipython3",
   "version": "3.8.3"
  },
  "rise": {
   "scroll": true
  },
  "toc": {
   "base_numbering": 1,
   "nav_menu": {},
   "number_sections": true,
   "sideBar": true,
   "skip_h1_title": false,
   "title_cell": "Table of Contents",
   "title_sidebar": "Contents",
   "toc_cell": false,
   "toc_position": {},
   "toc_section_display": true,
   "toc_window_display": true
  }
 },
 "nbformat": 4,
 "nbformat_minor": 1
}
