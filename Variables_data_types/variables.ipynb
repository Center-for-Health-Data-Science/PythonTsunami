{
 "cells": [
  {
   "cell_type": "markdown",
   "metadata": {
    "id": "i7xIAr06u3oF"
   },
   "source": [
    "<img src=\"https://github.com/Center-for-Health-Data-Science/PythonTsunami/blob/spring2022/figures/HeaDS_logo_large_withTitle.png?raw=1\" width=\"300\">\n",
    "\n",
    "<img src=\"https://github.com/Center-for-Health-Data-Science/PythonTsunami/blob/spring2022/figures/tsunami_logo.PNG?raw=1\" width=\"600\">\n",
    "\n",
    "[![Open In Colab](https://colab.research.google.com/assets/colab-badge.svg)](https://colab.research.google.com/github/Center-for-Health-Data-Science/PythonTsunami/blob/fall2021/Variables_and_data_types/variables.ipynb)"
   ]
  },
  {
   "cell_type": "markdown",
   "metadata": {
    "id": "1MjzmO4uoHh9"
   },
   "source": [
    "# Variables and Data Types"
   ]
  },
  {
   "cell_type": "markdown",
   "metadata": {
    "id": "7QT8Vhp4xJJ8"
   },
   "source": [
    "## For (anonymous) questions\n",
    "If there are any questions you'd like to ask anonymously, post them to this [Padlet link](https://ucph.padlet.org/henrikezschach1/7f65ytua2sv0qt9g). "
   ]
  },
  {
   "cell_type": "markdown",
   "metadata": {
    "id": "GXxxR4dDuunK"
   },
   "source": [
    "## Variable Assignment and naming restrictions"
   ]
  },
  {
   "cell_type": "markdown",
   "metadata": {
    "id": "Nx4q1VSyuzOA"
   },
   "source": [
    "> A variable is a named symbol that holds a value.\n",
    "\n",
    "* Create variables by assigning a value to a name (just like using variables in math).\n",
    "* Variable names should be meaningful, i.e. not just ``a``, ``b``, ``c``\n",
    "* Variables are always **assigned** with the variable name on the left and the value on the right of the ***equals*** sign. For instance:\n",
    "        \n",
    "    * `a_variable = 100`  \n",
    "    * assigned to other variables: `another_variable = a_variable`\n",
    "    * reassigned at any time: `a_variable = 435` \n",
    "    * assigning several variables at the same time: `all, at, once = 1, 130, 43`\n",
    "\n",
    "* Variables **must** be assigned before they can be used."
   ]
  },
  {
   "cell_type": "code",
   "execution_count": null,
   "metadata": {
    "id": "-IoOMUOnuD6f"
   },
   "outputs": [],
   "source": [
    "x = 100\n",
    "print(x)"
   ]
  },
  {
   "cell_type": "markdown",
   "metadata": {
    "id": "M23lgzTcwMXn"
   },
   "source": [
    "In Python, you can name your variables whatever you want, with some restrictions:\n",
    "\n",
    "1. Variables must start with a letter or underscore:  \n",
    "    * `_yes`: Valid name.  \n",
    "    * `2no`: Not valid!  \n",
    "   \n",
    "2. The rest of the name must consist of letters, numbers, or underscores:  \n",
    "    * `yes2`: Valid name.   \n",
    "    * `hey@no`: Not valid!   \n",
    "    \n",
    "3. Names are case-sensitive  \n",
    "    * `Yes` and `yes` are two _different_ variables. "
   ]
  },
  {
   "cell_type": "code",
   "execution_count": null,
   "metadata": {
    "id": "ReKCem_Cu3oW"
   },
   "outputs": [],
   "source": [
    "# try it out"
   ]
  },
  {
   "cell_type": "markdown",
   "metadata": {
    "id": "pVF6YjlgGtKX"
   },
   "source": [
    "## Data Types"
   ]
  },
  {
   "cell_type": "markdown",
   "metadata": {
    "id": "J3kix56wGxEB"
   },
   "source": [
    "In any assignment, the assigned value must always be a valid data type.\n",
    "\n",
    "Python data types include (among others):\n",
    "- numbers:\n",
    "    - `int`: an integer, e.g. `1`, `2`, `3`\n",
    "    - `float`: a floating point number with a decimal point, e.g. `1.2`, `2999.197`, `-160.8`\n",
    "- `str`: (string) a sequence of Unicode characters, e.g. \"Kate\" or \"程序设计\"\n",
    "- `bool`: True or False\n",
    "\n",
    "You can check a variable's type with the `type()` function."
   ]
  },
  {
   "cell_type": "code",
   "execution_count": null,
   "metadata": {
    "colab": {
     "base_uri": "https://localhost:8080/"
    },
    "executionInfo": {
     "elapsed": 10,
     "status": "ok",
     "timestamp": 1649857238622,
     "user": {
      "displayName": "Henrike Zschach",
      "userId": "10873369072901591129"
     },
     "user_tz": -120
    },
    "id": "ovMTp36Eu3oa",
    "outputId": "3c98bfc2-30be-48ed-c0b7-5428abef65ce"
   },
   "outputs": [],
   "source": [
    "# try it out\n",
    "var = -1\n",
    "print(var)\n",
    "print(type(var))"
   ]
  },
  {
   "cell_type": "code",
   "execution_count": null,
   "metadata": {
    "colab": {
     "base_uri": "https://localhost:8080/"
    },
    "executionInfo": {
     "elapsed": 449,
     "status": "ok",
     "timestamp": 1649856268721,
     "user": {
      "displayName": "Henrike Zschach",
      "userId": "10873369072901591129"
     },
     "user_tz": -120
    },
    "id": "goSxBiyf4qkY",
    "outputId": "33c23902-17a4-4df4-d4a3-93c7b0603147"
   },
   "outputs": [],
   "source": [
    "var2 = -2.099874565\n",
    "print(var2)\n",
    "print(type(var2))"
   ]
  },
  {
   "cell_type": "code",
   "execution_count": null,
   "metadata": {
    "colab": {
     "base_uri": "https://localhost:8080/"
    },
    "executionInfo": {
     "elapsed": 455,
     "status": "ok",
     "timestamp": 1649856283494,
     "user": {
      "displayName": "Henrike Zschach",
      "userId": "10873369072901591129"
     },
     "user_tz": -120
    },
    "id": "Zt37xw_g40uH",
    "outputId": "5c013f85-32ea-4524-e9d4-1179abeacf6c"
   },
   "outputs": [],
   "source": [
    "my_string = \"Hello world!\"\n",
    "print(my_string)\n",
    "print(type(my_string))"
   ]
  },
  {
   "cell_type": "code",
   "execution_count": null,
   "metadata": {
    "colab": {
     "base_uri": "https://localhost:8080/"
    },
    "executionInfo": {
     "elapsed": 398,
     "status": "ok",
     "timestamp": 1649856302151,
     "user": {
      "displayName": "Henrike Zschach",
      "userId": "10873369072901591129"
     },
     "user_tz": -120
    },
    "id": "R9BA93CP4_12",
    "outputId": "bc233b0b-21be-4255-a156-3e9abaaca6ee"
   },
   "outputs": [],
   "source": [
    "bool_var = True\n",
    "print(bool_var)\n",
    "print(type(bool_var))"
   ]
  },
  {
   "cell_type": "markdown",
   "metadata": {
    "id": "PrL4PX77u3ol"
   },
   "source": [
    "# Numbers and Operators"
   ]
  },
  {
   "cell_type": "markdown",
   "metadata": {
    "id": "wCrDfqgGu3ol"
   },
   "source": [
    "## Numbers\n",
    "Two main types of numbers:\n",
    "- Integers: `56, 3, -90`\n",
    "- Floating Points: `5.666, 0.0, -8.9`\n",
    "    \n",
    "## Math Operators \n",
    "- addition: `+`\n",
    "- subtraction: `-`\n",
    "- multiplication: `*`\n",
    "- division: `/`\n",
    "- integer division: `//`\n",
    "- exponentiation, power: `**`\n",
    "- modulo: `%`\n",
    "\n",
    "The usual rules of algebra apply."
   ]
  },
  {
   "cell_type": "markdown",
   "metadata": {},
   "source": [
    "# Quiz 1"
   ]
  },
  {
   "cell_type": "markdown",
   "metadata": {
    "id": "ZDguNUx9u3om"
   },
   "source": [
    "**Question 1:** What type does the following expression result in? \n",
    "\n",
    "```python\n",
    "3.0 + 5\n",
    "```"
   ]
  },
  {
   "cell_type": "code",
   "execution_count": null,
   "metadata": {},
   "outputs": [],
   "source": [
    "# your code goes here"
   ]
  },
  {
   "cell_type": "markdown",
   "metadata": {
    "id": "QDJWDF-8u3om"
   },
   "source": [
    "**Question 2:** How can we add parenthesis to the following expression to make it equal 100? \n",
    "```python\n",
    "1 + 9 * 10\n",
    "```"
   ]
  },
  {
   "cell_type": "code",
   "execution_count": null,
   "metadata": {
    "id": "MCc7CQ1Eu3on"
   },
   "outputs": [],
   "source": [
    "# your code goes here"
   ]
  },
  {
   "cell_type": "markdown",
   "metadata": {
    "id": "Ja8Z93Qku3oq"
   },
   "source": [
    "**Question 3:** How do we know if a number is even or odd? _Hint: Use the modulo operator._"
   ]
  },
  {
   "cell_type": "code",
   "execution_count": null,
   "metadata": {
    "id": "Eh3EqnsAu3oq"
   },
   "outputs": [],
   "source": [
    "# your code goes here"
   ]
  },
  {
   "cell_type": "markdown",
   "metadata": {
    "id": "Arrv3Ql1u3oq"
   },
   "source": [
    "## Exercise 1: ``int`` and ``float``\n",
    "1. Use an ``int`` value of your choice and store it in a variable. Multiply that variable by ``2`` and print this new variable.\n",
    "2. Use a second ``int`` value of your choice and multiply it with the initial variable used in 1).\n",
    "3. Find out if the result is even (divisible by 2) or odd.\n",
    "4. Square the result.\n",
    "5. Convert the result into a string type variable."
   ]
  },
  {
   "cell_type": "code",
   "execution_count": null,
   "metadata": {
    "id": "Le_E2eSEu3or"
   },
   "outputs": [],
   "source": [
    "# your code goes here"
   ]
  },
  {
   "cell_type": "markdown",
   "metadata": {
    "id": "E6efkkz4u3os"
   },
   "source": [
    "# Strings\n",
    "\n",
    "> Strings are containers of characters.\n",
    "\n",
    "There are different _encodings_ for characters. The default in Python 3 is the Unicode encoding which includes characters from European and Asian languages."
   ]
  },
  {
   "cell_type": "markdown",
   "metadata": {
    "id": "id_C8gtAJH0H"
   },
   "source": [
    "### Declaring strings"
   ]
  },
  {
   "cell_type": "markdown",
   "metadata": {
    "id": "5ld4357nJwPO"
   },
   "source": [
    "String literals in Python can be declared with either single or double quotes.\n",
    "    \n",
    "    my_other_str = 'a hat'\n",
    "    my_str = \"a cat\"\n",
    "\n",
    "\n",
    "Either one is perfectly fine; but make sure you stick to the same convention throughout the same file.\n"
   ]
  },
  {
   "cell_type": "markdown",
   "metadata": {
    "id": "L1dWUnXgKP-V"
   },
   "source": [
    "### String Escape Characters"
   ]
  },
  {
   "cell_type": "markdown",
   "metadata": {
    "id": "hbJoXKY3KTZU"
   },
   "source": [
    "In Python there are also \"escape characters\", which are \"metacharacters\" - they get interpreted by Python to do something special. All escape characters start with a backslash `\\`:\n"
   ]
  },
  {
   "cell_type": "code",
   "execution_count": null,
   "metadata": {
    "colab": {
     "base_uri": "https://localhost:8080/"
    },
    "id": "Dwsi4tHLKW2_",
    "outputId": "1ddb6e2c-f26f-42d9-b112-69c3af8db6ef"
   },
   "outputs": [],
   "source": [
    "new_line = \"hello \\n world\"\n",
    "print(new_line)"
   ]
  },
  {
   "cell_type": "markdown",
   "metadata": {
    "id": "8zvHzDf9ObSF"
   },
   "source": [
    "**Question:** What will happen in the following cases?\n",
    "```\n",
    "names = \"Megan\\nTrevor\"\n",
    "names2 = 'Megan\\nTrevor'\n",
    "greeting = \"hello \"Megan\"\"\n",
    "greeting2 = \"hello 'Megan'\"\n",
    "\n",
    "```"
   ]
  },
  {
   "cell_type": "code",
   "execution_count": null,
   "metadata": {
    "id": "r-eyXEpju3ou"
   },
   "outputs": [],
   "source": [
    "# your code goes here"
   ]
  },
  {
   "cell_type": "markdown",
   "metadata": {
    "id": "wdl3Mr56KobD"
   },
   "source": [
    "### String Concatenation"
   ]
  },
  {
   "cell_type": "markdown",
   "metadata": {
    "id": "2TrbxJSoKqzZ"
   },
   "source": [
    "Concatenation is combining multiple strings together. In Python you can do this simply with the \"+\" operator."
   ]
  },
  {
   "cell_type": "code",
   "execution_count": null,
   "metadata": {
    "colab": {
     "base_uri": "https://localhost:8080/"
    },
    "id": "TES-Z6EOKtJO",
    "outputId": "511df559-d369-48e8-a9d6-f8c3c3010e76"
   },
   "outputs": [],
   "source": [
    "str_one = \"your\"\n",
    "str_two = \"face\"\n",
    "str_three = str_one + \" \" + str_two \n",
    "print(str_three)"
   ]
  },
  {
   "cell_type": "markdown",
   "metadata": {
    "id": "5ARprsTjK1rf"
   },
   "source": [
    "You can also use the \"+=\" operator!"
   ]
  },
  {
   "cell_type": "code",
   "execution_count": null,
   "metadata": {
    "colab": {
     "base_uri": "https://localhost:8080/"
    },
    "id": "v-YdMCywK3eU",
    "outputId": "c5806bae-8bfc-4876-bfb7-fc072c70eac5"
   },
   "outputs": [],
   "source": [
    "str_one = \"ice\"\n",
    "str_one += \" cream\"\n",
    "str_one\n",
    "print(str_one)"
   ]
  },
  {
   "cell_type": "markdown",
   "metadata": {
    "id": "TUWlmr5jLMSS"
   },
   "source": [
    "### Formatting strings"
   ]
  },
  {
   "cell_type": "markdown",
   "metadata": {
    "id": "gAKONDNDLQPM"
   },
   "source": [
    "There are also several ways to format strings in Python to interpolate variables. In the Python version we use (Python 3.6+), strings are formatted by using **F-Strings**:"
   ]
  },
  {
   "cell_type": "code",
   "execution_count": null,
   "metadata": {
    "colab": {
     "base_uri": "https://localhost:8080/"
    },
    "id": "waOcpL6ALVyg",
    "outputId": "f1d33a19-b0a2-4fd7-a130-3511376c32e1"
   },
   "outputs": [],
   "source": [
    "x = 10\n",
    "formatted = f\"I've told you {x} times already!\"\n",
    "print(formatted)"
   ]
  },
  {
   "cell_type": "markdown",
   "metadata": {
    "id": "UAnUqmtKICUK"
   },
   "source": [
    "## Dynamic Typing"
   ]
  },
  {
   "cell_type": "markdown",
   "metadata": {
    "id": "tL8FZFytIeIX"
   },
   "source": [
    "Unlike in other programming languages, variable **types** do not have to be declared in Python. Instead, Python infers the type. Variables may also (automatically) change type if it is required. This behavior is called **dynamic typing**! Test it with the code blocks below."
   ]
  },
  {
   "cell_type": "code",
   "execution_count": null,
   "metadata": {
    "colab": {
     "base_uri": "https://localhost:8080/"
    },
    "id": "mJWRieehIRFs",
    "outputId": "d3f63f57-d3ff-4687-e2b1-c14bcbc2cdd1"
   },
   "outputs": [],
   "source": [
    "variable1 = True\n",
    "print(variable1)\n",
    "print(type(variable1))"
   ]
  },
  {
   "cell_type": "markdown",
   "metadata": {
    "id": "J1L4bvfVSIJp"
   },
   "source": [
    "Re-assigning the variable wipes the previous content and type"
   ]
  },
  {
   "cell_type": "code",
   "execution_count": null,
   "metadata": {
    "colab": {
     "base_uri": "https://localhost:8080/"
    },
    "id": "EzKLZ1t3IVNw",
    "outputId": "583626ed-c4cd-4c84-ea5e-071395269965"
   },
   "outputs": [],
   "source": [
    "variable1 = \"Hello!\"\n",
    "print(variable1)\n",
    "print(type(variable1))"
   ]
  },
  {
   "cell_type": "markdown",
   "metadata": {
    "id": "-MdmuujTH6g6"
   },
   "source": [
    "### Casting\n",
    "Python will try to be helpful and perform changes to the variable type without the user needing to specify them. This behavior is called an __implicit cast__.   \n",
    "Try the code block below. Is this what you expected?"
   ]
  },
  {
   "cell_type": "code",
   "execution_count": null,
   "metadata": {
    "colab": {
     "base_uri": "https://localhost:8080/"
    },
    "executionInfo": {
     "elapsed": 325,
     "status": "ok",
     "timestamp": 1649856853700,
     "user": {
      "displayName": "Henrike Zschach",
      "userId": "10873369072901591129"
     },
     "user_tz": -120
    },
    "id": "kymQ8oseIZ70",
    "outputId": "d8c820c6-e095-44d0-c15e-3257bd3c8597"
   },
   "outputs": [],
   "source": [
    "my_var1 = 22\n",
    "my_var2 = 7\n",
    "print(type(my_var1))\n",
    "\n",
    "result = my_var1 / my_var2 \n",
    "print(result)\n",
    "print(type(result))"
   ]
  },
  {
   "cell_type": "markdown",
   "metadata": {
    "id": "BHKz3ywLGohB"
   },
   "source": [
    "You can force a certain type with so called 'cast' functions. The name of these function is usually similar to the name of the type, e.g., ``int()`` or ``float``. An exception is the string cast which is called `str()`. \n",
    "\n",
    "```python\n",
    "my_var = 3.3\n",
    "my_var = int(my_var)\n",
    "```"
   ]
  },
  {
   "cell_type": "code",
   "execution_count": null,
   "metadata": {
    "colab": {
     "base_uri": "https://localhost:8080/"
    },
    "executionInfo": {
     "elapsed": 7,
     "status": "ok",
     "timestamp": 1651067633778,
     "user": {
      "displayName": "Henrike Zschach",
      "userId": "10873369072901591129"
     },
     "user_tz": -120
    },
    "id": "ptEX4GgLGnfK",
    "outputId": "4d4887c1-6883-415d-93b7-04d4512da083"
   },
   "outputs": [],
   "source": [
    "my_var = 3.3\n",
    "print(type(my_var))\n",
    "\n",
    "my_var = int(my_var)\n",
    "print(type(my_var))\n",
    "\n",
    "my_var = str(my_var)\n",
    "print(my_var)\n",
    "print(type(my_var))"
   ]
  },
  {
   "cell_type": "markdown",
   "metadata": {
    "id": "cWYyiUYwPIzK"
   },
   "source": [
    "# Exercise 2: ``str``\n",
    "\n",
    "2.1 Write a string that contains the newline metacharacter and assign it to a variable called `message`.\n",
    "\n",
    "2.2 Write a string that contains an escaped double quotation mark and assign it to a variable called ``quotation``.\n",
    "\n",
    "2.3 Create a new variable ``mountains``. Assign a string to this variable so that it will show up like this when printed: /\\\\/\\\\/\\\\. _Hint:_ You will need to use an escape sequence more than once!\n",
    "\n"
   ]
  },
  {
   "cell_type": "code",
   "execution_count": null,
   "metadata": {},
   "outputs": [],
   "source": [
    "# your code goes here"
   ]
  },
  {
   "cell_type": "markdown",
   "metadata": {
    "id": "4Ux6Hu0HPa9J"
   },
   "source": [
    "# Exercise 3: Formatted strings\n",
    "\n",
    "3.1 Create a variable called `name` and assign you name to it.\n",
    "\n",
    "3.2 Now, create a formatted string that writes a greeting to you, using the `name` variable. The output should be something like \"Hello Mary!\"\n"
   ]
  },
  {
   "cell_type": "code",
   "execution_count": null,
   "metadata": {
    "id": "9g4l_bmSPd8G"
   },
   "outputs": [],
   "source": [
    "# your code goes here"
   ]
  },
  {
   "cell_type": "markdown",
   "metadata": {
    "id": "czYsAUPBu3o4"
   },
   "source": [
    "# Reading error messages\n",
    "\n",
    "Let's talk about error messages! They look red and scary, but they're actually just here to help you. Error messages tell you that you are trying to do something that is either not allowed, not possible, ambiguous, not meaningful or written using the wrong syntax.  \n",
    "  \n",
    "You will encounter error messages **ALL THE TIME**; especially when learning to program, but also as an advanced programmer. That's why it's worth knowing how the read them. \n",
    "\n",
    "\n",
    "***\n",
    "Look at the error message below. You can find the most important piece of information **on the last line: this is the actual error** and this is where you should always look first. In the part above the last line, you can see in which line of your program the error occurs in. \n",
    "\n",
    "```python\n",
    "---------------------------------------------------------------------------\n",
    "ZeroDivisionError                         Traceback (most recent call last)\n",
    "<ipython-input-10-bc757c3fda29> in <module>\n",
    "----> 1 1 / 0                                     # the arrow points towards the line where the error occurs\n",
    "\n",
    "ZeroDivisionError: division by zero               # this is the actual type of error\n",
    "```"
   ]
  },
  {
   "cell_type": "code",
   "execution_count": null,
   "metadata": {
    "id": "jYMwrxSQu3o4"
   },
   "outputs": [],
   "source": [
    "# let's see what types of error messages there are"
   ]
  },
  {
   "cell_type": "code",
   "execution_count": null,
   "metadata": {
    "colab": {
     "base_uri": "https://localhost:8080/",
     "height": 165
    },
    "id": "3M6rVbZlu3o4",
    "outputId": "3a6eae0b-4e94-4a50-d998-14dc348a3133"
   },
   "outputs": [],
   "source": [
    "i"
   ]
  },
  {
   "cell_type": "code",
   "execution_count": null,
   "metadata": {
    "id": "VSAExeGVu3o5",
    "outputId": "5373e024-757e-42d4-ea11-b1bee7aa1323"
   },
   "outputs": [],
   "source": [
    "1 / 0"
   ]
  },
  {
   "cell_type": "code",
   "execution_count": null,
   "metadata": {
    "id": "9KcwsZYzu3o5",
    "outputId": "74dee3a3-09d2-4669-d3bd-0aaf3840b998"
   },
   "outputs": [],
   "source": [
    "1 %% 2"
   ]
  },
  {
   "cell_type": "code",
   "execution_count": null,
   "metadata": {
    "id": "ZirqXS0ou3o5",
    "outputId": "8ff61784-3ad3-40b2-f9a7-574373c817e2"
   },
   "outputs": [],
   "source": [
    "my_string = \"Hello world!\"\n",
    "my_string + 1"
   ]
  },
  {
   "cell_type": "markdown",
   "metadata": {},
   "source": [
    "## Extra: Quiz"
   ]
  },
  {
   "cell_type": "markdown",
   "metadata": {},
   "source": [
    "**Question 1:** Is the following statement correct? _Variables must be assigned before they can be used._"
   ]
  },
  {
   "cell_type": "markdown",
   "metadata": {},
   "source": [
    "**Question 2:**  \n",
    "\n",
    "Variables can be: \n",
    "\n",
    "1. assigned to other variables,\n",
    "\n",
    "2. reassigned at any time,\n",
    "\n",
    "3. assigned at the same time as other variables, \n",
    "\n",
    "4. all of the above."
   ]
  },
  {
   "cell_type": "markdown",
   "metadata": {},
   "source": [
    "**Question 3:** Is `24hrs`  a valid variable name?"
   ]
  },
  {
   "cell_type": "code",
   "execution_count": null,
   "metadata": {},
   "outputs": [],
   "source": [
    "# your code goes here"
   ]
  },
  {
   "cell_type": "markdown",
   "metadata": {},
   "source": [
    "**Question 4:** Is `my_1st_variable`  a valid variable name?"
   ]
  },
  {
   "cell_type": "code",
   "execution_count": null,
   "metadata": {},
   "outputs": [],
   "source": [
    "# your code goes here"
   ]
  },
  {
   "cell_type": "markdown",
   "metadata": {},
   "source": [
    "**Question 5:** Is this `الثعبان` a valid string in Python?"
   ]
  },
  {
   "cell_type": "code",
   "execution_count": null,
   "metadata": {},
   "outputs": [],
   "source": [
    "# your code goes here"
   ]
  }
 ],
 "metadata": {
  "colab": {
   "collapsed_sections": [],
   "name": "Variables_shortend.ipynb",
   "provenance": [
    {
     "file_id": "https://github.com/Center-for-Health-Data-Science/PythonTsunami/blob/spring2022/Variables_data_types/variables.ipynb",
     "timestamp": 1649317670957
    }
   ]
  },
  "kernelspec": {
   "display_name": "Python 3",
   "language": "python",
   "name": "python3"
  },
  "language_info": {
   "codemirror_mode": {
    "name": "ipython",
    "version": 3
   },
   "file_extension": ".py",
   "mimetype": "text/x-python",
   "name": "python",
   "nbconvert_exporter": "python",
   "pygments_lexer": "ipython3",
   "version": "3.8.3"
  },
  "rise": {
   "scroll": true
  },
  "toc": {
   "base_numbering": 1,
   "nav_menu": {},
   "number_sections": true,
   "sideBar": true,
   "skip_h1_title": false,
   "title_cell": "Table of Contents",
   "title_sidebar": "Contents",
   "toc_cell": false,
   "toc_position": {},
   "toc_section_display": true,
   "toc_window_display": true
  }
 },
 "nbformat": 4,
 "nbformat_minor": 1
}
