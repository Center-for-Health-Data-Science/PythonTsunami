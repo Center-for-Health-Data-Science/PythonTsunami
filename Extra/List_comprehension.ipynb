{
 "cells": [
  {
   "cell_type": "markdown",
   "metadata": {},
   "source": [
    "# List comprehensions"
   ]
  },
  {
   "cell_type": "markdown",
   "metadata": {},
   "source": [
    "A list comprehension is an implicit for loop.\n",
    "\n",
    "syntax\n",
    "\n",
    "```python\n",
    "[ __ for __ in __ ]\n",
    "```"
   ]
  }
 ],
 "metadata": {
  "language_info": {
   "name": "python"
  }
 },
 "nbformat": 4,
 "nbformat_minor": 2
}
