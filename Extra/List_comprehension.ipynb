{
 "cells": [
  {
   "cell_type": "markdown",
   "metadata": {},
   "source": [
    "# List comprehensions"
   ]
  },
  {
   "cell_type": "markdown",
   "metadata": {},
   "source": [
    "A list comprehension is an implicit for loop where we want to do *something* to every element of an existing list and create a new list.\n"
   ]
  },
  {
   "cell_type": "markdown",
   "metadata": {},
   "source": [
    "## General syntax\n",
    "\n",
    "The general syntax is:\n",
    "\n",
    "```python\n",
    "new_list = [expression for iterator in old_list]\n",
    "```"
   ]
  },
  {
   "cell_type": "code",
   "execution_count": 5,
   "metadata": {},
   "outputs": [
    {
     "name": "stdout",
     "output_type": "stream",
     "text": [
      "[1, 4, 9, 16, 25, 36]\n"
     ]
    }
   ],
   "source": [
    "#an example: square a list of numbers\n",
    "\n",
    "numbers = [1,2,3,4,5,6]\n",
    "squares = []\n",
    "\n",
    "for x in numbers:\n",
    "    squares.append(x**2)\n",
    "\n",
    "print(squares)"
   ]
  },
  {
   "cell_type": "markdown",
   "metadata": {},
   "source": [
    "We can do this in one line instead with a list comprehension:"
   ]
  },
  {
   "cell_type": "code",
   "execution_count": 6,
   "metadata": {},
   "outputs": [
    {
     "name": "stdout",
     "output_type": "stream",
     "text": [
      "[1, 4, 9, 16, 25, 36]\n"
     ]
    }
   ],
   "source": [
    "squares = [x**2 for x in numbers]\n",
    "print(squares)"
   ]
  },
  {
   "cell_type": "markdown",
   "metadata": {},
   "source": [
    "You could also skip defining the old list, `numbers`, and straight-up use an iterator like `range`:"
   ]
  },
  {
   "cell_type": "code",
   "execution_count": 7,
   "metadata": {},
   "outputs": [
    {
     "name": "stdout",
     "output_type": "stream",
     "text": [
      "[1, 4, 9, 16, 25, 36]\n"
     ]
    }
   ],
   "source": [
    "#remember, we want to start from 1 and go up to 6 so we need range(1,7)\n",
    "squares = [x**2 for x in range(1,7)]\n",
    "print(squares)"
   ]
  },
  {
   "cell_type": "markdown",
   "metadata": {},
   "source": [
    "So in terms of syntax we mean:\n",
    "\n",
    "```python\n",
    "new_list = [expression for iterator in old_list]\n",
    "```\n",
    "\n",
    "where:\n",
    "* `old_list` - the name of the list we want to iterate over\n",
    "* `iterator` - what we want to call the entry of `old list` we are currently looking at, i.e. `x` or `i`\n",
    "* `expression` - what we want to do each entry of `old list`\n"
   ]
  },
  {
   "cell_type": "markdown",
   "metadata": {},
   "source": [
    "## Conditional comprehensions\n",
    "\n",
    "Where list comprehensions really shine is when we want to do *something* to only *some* entries of a list, depending on a condition.\n",
    "\n",
    "Here we will square only even numbers:"
   ]
  },
  {
   "cell_type": "code",
   "execution_count": 8,
   "metadata": {},
   "outputs": [
    {
     "name": "stdout",
     "output_type": "stream",
     "text": [
      "[4, 16, 36]\n"
     ]
    }
   ],
   "source": [
    "numbers = [1,2,3,4,5,6]\n",
    "even_squares = []\n",
    "\n",
    "for x in numbers: #go through all entries in numbers\n",
    "    if x % 2 == 0: #if the entry is even, square it and append it to the new list\n",
    "        even_squares.append(x**2)\n",
    "\n",
    "print(even_squares)   "
   ]
  },
  {
   "cell_type": "markdown",
   "metadata": {},
   "source": [
    "We can do the same in a list comprehension:"
   ]
  },
  {
   "cell_type": "code",
   "execution_count": 9,
   "metadata": {},
   "outputs": [
    {
     "data": {
      "text/plain": [
       "[4, 16, 36]"
      ]
     },
     "execution_count": 9,
     "metadata": {},
     "output_type": "execute_result"
    }
   ],
   "source": [
    "even_squares = [x**2 for x in numbers if x % 2 == 0]\n",
    "even_squares"
   ]
  },
  {
   "cell_type": "markdown",
   "metadata": {},
   "source": [
    "If we instead frontload the condition we can also add an `else`.\n",
    "\n",
    "Here we square the even numbers and add the odd numbers to themselves:"
   ]
  },
  {
   "cell_type": "code",
   "execution_count": 12,
   "metadata": {},
   "outputs": [
    {
     "name": "stdout",
     "output_type": "stream",
     "text": [
      "[1, 2, 3, 4, 5, 6]\n",
      "[2, 4, 6, 16, 10, 36]\n"
     ]
    }
   ],
   "source": [
    "print(numbers)\n",
    "even_square_odd_one = [x**2 if x % 2 == 0 else x+x for x in numbers]\n",
    "print(even_square_odd_one)"
   ]
  },
  {
   "cell_type": "markdown",
   "metadata": {},
   "source": [
    "## Exercise\n",
    "\n",
    "1. Write a list comprehension that adds 5 to every number in `numbers`."
   ]
  },
  {
   "cell_type": "code",
   "execution_count": null,
   "metadata": {},
   "outputs": [],
   "source": [
    "numbers = [0, 91, 69, -15, -54, 58, -58, 62, 4, 54, 53, -43, -87, 28, 23, -21, 69, -17, -60, 21]"
   ]
  },
  {
   "cell_type": "code",
   "execution_count": null,
   "metadata": {},
   "outputs": [],
   "source": [
    "#your code here"
   ]
  },
  {
   "cell_type": "markdown",
   "metadata": {},
   "source": [
    "\n",
    "\n",
    "2. Write a list comprehension that goes through the list `numbers` and replaces every negative number with 0. The result should be saved in a new list called `positive_numbers`."
   ]
  },
  {
   "cell_type": "code",
   "execution_count": null,
   "metadata": {},
   "outputs": [],
   "source": [
    "#your code here"
   ]
  },
  {
   "cell_type": "markdown",
   "metadata": {},
   "source": [
    "We can use `random.randint()` to generate a pseudo random inter in python. It works like this:"
   ]
  },
  {
   "cell_type": "code",
   "execution_count": 56,
   "metadata": {},
   "outputs": [],
   "source": [
    "import random"
   ]
  },
  {
   "cell_type": "code",
   "execution_count": 61,
   "metadata": {},
   "outputs": [
    {
     "data": {
      "text/plain": [
       "-24"
      ]
     },
     "execution_count": 61,
     "metadata": {},
     "output_type": "execute_result"
    }
   ],
   "source": [
    "#run this cell a couple of times to create some different random numbers\n",
    "random.randint(-100,100)"
   ]
  },
  {
   "cell_type": "markdown",
   "metadata": {},
   "source": [
    "3. Write a list comprehension that creates 20 random integers. You can use `range` to define how many times you want the explicit loop to run."
   ]
  },
  {
   "cell_type": "code",
   "execution_count": 58,
   "metadata": {},
   "outputs": [
    {
     "name": "stdout",
     "output_type": "stream",
     "text": [
      "[0, 91, 69, -15, -54, 58, -58, 62, 4, 54, 53, -43, -87, 28, 23, -21, 69, -17, -60, 21]\n"
     ]
    }
   ],
   "source": [
    "#your code here"
   ]
  },
  {
   "cell_type": "markdown",
   "metadata": {},
   "source": [
    "## Practical applications\n",
    "\n",
    "### Finding all occurances of a certain item in a list.\n",
    "\n",
    "I want to know all the indices of 'red' in the 'colors' list."
   ]
  },
  {
   "cell_type": "code",
   "execution_count": 19,
   "metadata": {},
   "outputs": [],
   "source": [
    "colors = ['red', 'green', 'orange', 'yellow', 'black', 'green', 'red', 'blue', 'purple', 'yellow', 'red']"
   ]
  },
  {
   "cell_type": "code",
   "execution_count": 20,
   "metadata": {},
   "outputs": [
    {
     "data": {
      "text/plain": [
       "[0, 6, 10]"
      ]
     },
     "execution_count": 20,
     "metadata": {},
     "output_type": "execute_result"
    }
   ],
   "source": [
    "indices = [i for i, x in enumerate(colors) if x == \"red\"]\n",
    "indices"
   ]
  },
  {
   "cell_type": "markdown",
   "metadata": {},
   "source": [
    "### Tallying list items\n",
    "\n",
    "Finding out how many times each item in a list occurs is also referred to as tallying. \n",
    "\n",
    "We want to know how many times each of the colors occurs in 'colors'. Or in other words, we want to use `.count()` for each unique item in the list (how many times do we see 'red', ' yellow', 'purple', ect)."
   ]
  },
  {
   "cell_type": "code",
   "execution_count": 41,
   "metadata": {},
   "outputs": [
    {
     "data": {
      "text/plain": [
       "[('green', 2),\n",
       " ('black', 1),\n",
       " ('purple', 1),\n",
       " ('red', 3),\n",
       " ('yellow', 2),\n",
       " ('orange', 1),\n",
       " ('blue', 1)]"
      ]
     },
     "execution_count": 41,
     "metadata": {},
     "output_type": "execute_result"
    }
   ],
   "source": [
    "color_counts = [(x,colors.count(x)) for x in set(colors)]\n",
    "color_counts"
   ]
  },
  {
   "cell_type": "markdown",
   "metadata": {},
   "source": [
    "We can then reverse the order to have the count first:"
   ]
  },
  {
   "cell_type": "code",
   "execution_count": 42,
   "metadata": {},
   "outputs": [
    {
     "data": {
      "text/plain": [
       "[(2, 'green'),\n",
       " (1, 'black'),\n",
       " (1, 'purple'),\n",
       " (3, 'red'),\n",
       " (2, 'yellow'),\n",
       " (1, 'orange'),\n",
       " (1, 'blue')]"
      ]
     },
     "execution_count": 42,
     "metadata": {},
     "output_type": "execute_result"
    }
   ],
   "source": [
    "color_counts = [(colors.count(x),x) for x in set(colors)]\n",
    "color_counts"
   ]
  },
  {
   "cell_type": "markdown",
   "metadata": {},
   "source": [
    "Which will help us with imposing `sorted` of the list of tuples to get the most common entry on top:"
   ]
  },
  {
   "cell_type": "code",
   "execution_count": 43,
   "metadata": {},
   "outputs": [
    {
     "data": {
      "text/plain": [
       "[(3, 'red'),\n",
       " (2, 'yellow'),\n",
       " (2, 'green'),\n",
       " (1, 'purple'),\n",
       " (1, 'orange'),\n",
       " (1, 'blue'),\n",
       " (1, 'black')]"
      ]
     },
     "execution_count": 43,
     "metadata": {},
     "output_type": "execute_result"
    }
   ],
   "source": [
    "color_counts = sorted([(colors.count(x),x) for x in set(colors)], reverse=True)\n",
    "color_counts"
   ]
  },
  {
   "cell_type": "markdown",
   "metadata": {},
   "source": [
    "### Creating dictionaries from existing lists"
   ]
  },
  {
   "cell_type": "markdown",
   "metadata": {},
   "source": [
    "I have these two lists and I want to make them into a dictionary where one list is the key (the city name) and the other is the value (population). But I don't want to type out everything again."
   ]
  },
  {
   "cell_type": "code",
   "execution_count": 52,
   "metadata": {},
   "outputs": [],
   "source": [
    "cities = ['Tokyo', 'Berlin', 'New York', 'Copenhagen', 'Los Angeles']\n",
    "population = [37115035, 3576873, 8260000, 1391205, 3895836]"
   ]
  },
  {
   "cell_type": "code",
   "execution_count": 53,
   "metadata": {},
   "outputs": [
    {
     "data": {
      "text/plain": [
       "[{'Tokyo': 37115035},\n",
       " {'Berlin': 3576873},\n",
       " {'New York': 8260000},\n",
       " {'Copenhagen': 1391205},\n",
       " {'Los Angeles': 3895836}]"
      ]
     },
     "execution_count": 53,
     "metadata": {},
     "output_type": "execute_result"
    }
   ],
   "source": [
    "city_population = [{city : pop} for city, pop in zip(cities, population)]\n",
    "\n",
    "city_population"
   ]
  },
  {
   "cell_type": "code",
   "execution_count": 54,
   "metadata": {},
   "outputs": [
    {
     "data": {
      "text/plain": [
       "[('Tokyo', 37115035),\n",
       " ('Berlin', 3576873),\n",
       " ('New York', 8260000),\n",
       " ('Copenhagen', 1391205),\n",
       " ('Los Angeles', 3895836)]"
      ]
     },
     "execution_count": 54,
     "metadata": {},
     "output_type": "execute_result"
    }
   ],
   "source": [
    "bla = list(zip(cities,population))\n",
    "bla"
   ]
  },
  {
   "cell_type": "code",
   "execution_count": 55,
   "metadata": {},
   "outputs": [
    {
     "name": "stdout",
     "output_type": "stream",
     "text": [
      "Tokyo : 37115035\n",
      "Berlin : 3576873\n",
      "New York : 8260000\n",
      "Copenhagen : 1391205\n",
      "Los Angeles : 3895836\n"
     ]
    }
   ],
   "source": [
    "for city, pop in zip(cities,population):\n",
    "    print(city, \":\", pop)"
   ]
  },
  {
   "cell_type": "code",
   "execution_count": null,
   "metadata": {},
   "outputs": [],
   "source": []
  }
 ],
 "metadata": {
  "kernelspec": {
   "display_name": "Python 3",
   "language": "python",
   "name": "python3"
  },
  "language_info": {
   "codemirror_mode": {
    "name": "ipython",
    "version": 3
   },
   "file_extension": ".py",
   "mimetype": "text/x-python",
   "name": "python",
   "nbconvert_exporter": "python",
   "pygments_lexer": "ipython3",
   "version": "3.11.1"
  }
 },
 "nbformat": 4,
 "nbformat_minor": 2
}
