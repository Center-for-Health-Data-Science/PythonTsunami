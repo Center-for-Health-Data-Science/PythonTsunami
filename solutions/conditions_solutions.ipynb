{
 "cells": [
  {
   "cell_type": "markdown",
   "metadata": {},
   "source": [
    "## Exercise 2\n",
    "\n",
    "You have two boolean variables:\n",
    "\n",
    "```python\n",
    "a = True\n",
    "b = False\n",
    "```\n",
    "\n",
    "What is the result of the following expressions?\n",
    "\n",
    "1. `a or b`\n",
    "\n",
    "2. `a and b`\n",
    "\n",
    "3. `a and not b`"
   ]
  },
  {
   "cell_type": "code",
   "execution_count": 1,
   "metadata": {},
   "outputs": [],
   "source": [
    "a = True\n",
    "b = False"
   ]
  },
  {
   "cell_type": "code",
   "execution_count": 2,
   "metadata": {},
   "outputs": [
    {
     "data": {
      "text/plain": [
       "True"
      ]
     },
     "execution_count": 2,
     "metadata": {},
     "output_type": "execute_result"
    }
   ],
   "source": [
    "#1 \n",
    "a or b"
   ]
  },
  {
   "cell_type": "code",
   "execution_count": 3,
   "metadata": {},
   "outputs": [
    {
     "data": {
      "text/plain": [
       "False"
      ]
     },
     "execution_count": 3,
     "metadata": {},
     "output_type": "execute_result"
    }
   ],
   "source": [
    "#2\n",
    "a and b"
   ]
  },
  {
   "cell_type": "code",
   "execution_count": 4,
   "metadata": {},
   "outputs": [
    {
     "data": {
      "text/plain": [
       "True"
      ]
     },
     "execution_count": 4,
     "metadata": {},
     "output_type": "execute_result"
    }
   ],
   "source": [
    "#3\n",
    "a and not b"
   ]
  },
  {
   "cell_type": "code",
   "execution_count": 5,
   "metadata": {},
   "outputs": [
    {
     "data": {
      "text/plain": [
       "False"
      ]
     },
     "execution_count": 5,
     "metadata": {},
     "output_type": "execute_result"
    }
   ],
   "source": [
    "#how to make it False. One example. \n",
    "\n",
    "not a and b"
   ]
  },
  {
   "cell_type": "markdown",
   "metadata": {},
   "source": [
    "## Exercise 3\n",
    "\n",
    "If you set the name variable to \"Gandalf\" and run the script below, what will the output be? How do you get the output 'Move on then'?"
   ]
  },
  {
   "cell_type": "markdown",
   "metadata": {},
   "source": [
    "For \"Gandalf\" the result is \"Run, you fools!\". To make the condition go into the else, put literally any string that is not \"Gandalf\" or \"Aragorn\"."
   ]
  },
  {
   "cell_type": "code",
   "execution_count": 6,
   "metadata": {},
   "outputs": [
    {
     "name": "stdout",
     "output_type": "stream",
     "text": [
      "Move on then!\n"
     ]
    }
   ],
   "source": [
    "name = \"Frodo\"\n",
    "if name == \"Gandalf\":\n",
    "    print(\"Run, you fools!\")\n",
    "elif name == \"Aragorn\":\n",
    "    print(\"There is always hope.\")\n",
    "else:\n",
    "    print(\"Move on then!\")"
   ]
  },
  {
   "cell_type": "markdown",
   "metadata": {},
   "source": [
    "Create a variable and assign an integer as value, then build a conditional to test it:\n",
    "- If the value is below 0, print \"The value is negative\"\n",
    "- If the value is between 0 and 20 (including 0 and 20), print the value\n",
    "- Otherwise, print \"Out of scope\"\n",
    "\n",
    "Test it by changing the value of the variable."
   ]
  },
  {
   "cell_type": "code",
   "execution_count": 20,
   "metadata": {},
   "outputs": [],
   "source": [
    "my_int = 30"
   ]
  },
  {
   "cell_type": "code",
   "execution_count": 21,
   "metadata": {},
   "outputs": [
    {
     "name": "stdout",
     "output_type": "stream",
     "text": [
      "Out of scope.\n"
     ]
    }
   ],
   "source": [
    "if my_int < 0:\n",
    "    print(\"The value is negative\")\n",
    "elif my_int <= 20:\n",
    "    print(my_int)\n",
    "else:\n",
    "    print(\"Out of scope.\")"
   ]
  },
  {
   "cell_type": "markdown",
   "metadata": {},
   "source": [
    "## Exercise 4\n",
    "\n",
    "Write an `if` condition that tests whether `word_list` is empty. If it is, add 'Hello world' and print the list. If it is not, print the first element. Test that both outcomes work. "
   ]
  },
  {
   "cell_type": "code",
   "execution_count": 8,
   "metadata": {},
   "outputs": [
    {
     "name": "stdout",
     "output_type": "stream",
     "text": [
      "pen\n"
     ]
    }
   ],
   "source": [
    "word_list = ['pen', 'paper', 'room']\n",
    "\n",
    "if word_list:\n",
    "    print(word_list[0])\n",
    "else:\n",
    "    word_list.append('Hello world')\n",
    "    print(word_list)"
   ]
  },
  {
   "cell_type": "code",
   "execution_count": 9,
   "metadata": {},
   "outputs": [
    {
     "name": "stdout",
     "output_type": "stream",
     "text": [
      "['Hello world']\n"
     ]
    }
   ],
   "source": [
    "word_list = []\n",
    "\n",
    "if word_list:\n",
    "    print(word_list[0])\n",
    "else:\n",
    "    word_list.append('Hello world')\n",
    "    print(word_list)"
   ]
  },
  {
   "cell_type": "code",
   "execution_count": null,
   "metadata": {},
   "outputs": [],
   "source": []
  }
 ],
 "metadata": {
  "kernelspec": {
   "display_name": "Python 3",
   "language": "python",
   "name": "python3"
  },
  "language_info": {
   "codemirror_mode": {
    "name": "ipython",
    "version": 3
   },
   "file_extension": ".py",
   "mimetype": "text/x-python",
   "name": "python",
   "nbconvert_exporter": "python",
   "pygments_lexer": "ipython3",
   "version": "3.11.1"
  }
 },
 "nbformat": 4,
 "nbformat_minor": 4
}
