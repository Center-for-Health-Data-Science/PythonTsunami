{
  "cells": [
    {
      "cell_type": "markdown",
      "metadata": {
        "id": "taqKnUx8avlW"
      },
      "source": [
        "## Exercise 1\n",
        "\n",
        "Create a list called `random_things` that is at least 4 elements long.  It must contain at least 1 `str` and 1 `float`. \n",
        "\n",
        "Use the ``len`` function to verify if your list is indeed at least 4 elements long."
      ]
    },
    {
      "cell_type": "code",
      "execution_count": 72,
      "metadata": {
        "colab": {
          "base_uri": "https://localhost:8080/"
        },
        "id": "4umAIKkttCzN",
        "outputId": "08af7925-4b8c-4ef1-f84c-4e579517e523"
      },
      "outputs": [
        {
          "data": {
            "text/plain": [
              "4"
            ]
          },
          "execution_count": 72,
          "metadata": {},
          "output_type": "execute_result"
        }
      ],
      "source": [
        "# your code goes here\n",
        "\n",
        "random_things = ['one', 2, 3, 4.0]\n",
        "len(random_things)"
      ]
    },
    {
      "cell_type": "markdown",
      "metadata": {},
      "source": [
        "Now, access the first element of your list."
      ]
    },
    {
      "cell_type": "code",
      "execution_count": null,
      "metadata": {},
      "outputs": [],
      "source": [
        "random_things[0]"
      ]
    },
    {
      "cell_type": "markdown",
      "metadata": {},
      "source": [
        "And the last element."
      ]
    },
    {
      "cell_type": "code",
      "execution_count": null,
      "metadata": {},
      "outputs": [],
      "source": [
        "random_things[-1]"
      ]
    },
    {
      "cell_type": "markdown",
      "metadata": {},
      "source": [
        "## Exercise 2\n",
        "\n",
        "Use slicing on the list to extract the desired elements:"
      ]
    },
    {
      "cell_type": "code",
      "execution_count": 1,
      "metadata": {},
      "outputs": [],
      "source": [
        "# A list of centers:\n",
        "sund_centers = [\"BRIC\", \"CPR\", \"CBMR\", \"reNEW\", \"CTN\", \"HeaDS\", \"Globe\", \"Vet\", \"Pharma\"]"
      ]
    },
    {
      "cell_type": "code",
      "execution_count": 7,
      "metadata": {},
      "outputs": [
        {
          "name": "stdout",
          "output_type": "stream",
          "text": [
            "BRIC\n",
            "Pharma\n",
            "['BRIC', 'CPR', 'CBMR', 'reNEW', 'CTN', 'HeaDS', 'Globe', 'Vet']\n",
            "['Globe', 'Vet', 'Pharma']\n",
            "['BRIC', 'CBMR', 'CTN', 'Globe', 'Pharma']\n",
            "['CPR', 'reNEW', 'HeaDS', 'Vet']\n"
          ]
        }
      ],
      "source": [
        "# Display the first element in 'sund_centers'.\n",
        "print(sund_centers[0])\n",
        "\n",
        "# Display the last element in 'sund_centers'.\n",
        "print(sund_centers[-1])\n",
        "\n",
        "# Display all but the last element in 'sund_centers'.\n",
        "print(sund_centers[:-1])\n",
        "\n",
        "# Display the last 3 elements in 'sund_centers'.\n",
        "print(sund_centers[-3:])\n",
        "\n",
        "# Display every second element in 'sund_centers'.\n",
        "print(sund_centers[::2])\n",
        "\n",
        "# Display every second element starting from \"CPR\" in 'sund_centers'.\n",
        "print(sund_centers[1::2])"
      ]
    },
    {
      "cell_type": "code",
      "execution_count": 8,
      "metadata": {},
      "outputs": [
        {
          "data": {
            "text/plain": [
              "['BRIC', 'CPR', 'BMI', 'reNEW', 'CTN', 'HeaDS', 'Globe', 'Vet', 'Pharma']"
            ]
          },
          "execution_count": 8,
          "metadata": {},
          "output_type": "execute_result"
        }
      ],
      "source": [
        "#replace CMBR with BMI\n",
        "\n",
        "sund_centers[2] = \"BMI\"\n",
        "sund_centers"
      ]
    },
    {
      "cell_type": "markdown",
      "metadata": {},
      "source": [
        "## Exercise 3\n",
        "\n",
        "Work on the list 'colors' as specified below.\n",
        "\n",
        "1. How many times does the color 'red' appear in the list?\n",
        "2. Add 'cyan' and 'magenta' to the list.\n",
        "3. Remove the last element. \n",
        "4. Remove the first element.\n",
        "5. Make a copy of the list.\n",
        "6. Delete the original list."
      ]
    },
    {
      "cell_type": "code",
      "execution_count": 9,
      "metadata": {},
      "outputs": [],
      "source": [
        "colors = ['red', 'green', 'orange', 'yellow', 'black', 'red', 'blue', 'purple']"
      ]
    },
    {
      "cell_type": "code",
      "execution_count": 10,
      "metadata": {},
      "outputs": [
        {
          "data": {
            "text/plain": [
              "2"
            ]
          },
          "execution_count": 10,
          "metadata": {},
          "output_type": "execute_result"
        }
      ],
      "source": [
        "#1\n",
        "colors.count('red')"
      ]
    },
    {
      "cell_type": "code",
      "execution_count": 11,
      "metadata": {},
      "outputs": [
        {
          "data": {
            "text/plain": [
              "['red',\n",
              " 'green',\n",
              " 'orange',\n",
              " 'yellow',\n",
              " 'black',\n",
              " 'red',\n",
              " 'blue',\n",
              " 'purple',\n",
              " 'cyan',\n",
              " 'magenta']"
            ]
          },
          "execution_count": 11,
          "metadata": {},
          "output_type": "execute_result"
        }
      ],
      "source": [
        "#2\n",
        "colors.extend(['cyan', 'magenta'])\n",
        "colors"
      ]
    },
    {
      "cell_type": "code",
      "execution_count": 12,
      "metadata": {},
      "outputs": [
        {
          "data": {
            "text/plain": [
              "['red', 'green', 'orange', 'yellow', 'black', 'red', 'blue', 'purple', 'cyan']"
            ]
          },
          "execution_count": 12,
          "metadata": {},
          "output_type": "execute_result"
        }
      ],
      "source": [
        "#3\n",
        "colors.pop()\n",
        "colors"
      ]
    },
    {
      "cell_type": "code",
      "execution_count": 13,
      "metadata": {},
      "outputs": [
        {
          "data": {
            "text/plain": [
              "['green', 'orange', 'yellow', 'black', 'red', 'blue', 'purple', 'cyan']"
            ]
          },
          "execution_count": 13,
          "metadata": {},
          "output_type": "execute_result"
        }
      ],
      "source": [
        "#4\n",
        "colors.pop(0)\n",
        "colors"
      ]
    },
    {
      "cell_type": "code",
      "execution_count": 14,
      "metadata": {},
      "outputs": [
        {
          "data": {
            "text/plain": [
              "['green', 'orange', 'yellow', 'black', 'red', 'blue', 'purple', 'cyan']"
            ]
          },
          "execution_count": 14,
          "metadata": {},
          "output_type": "execute_result"
        }
      ],
      "source": [
        "new_list = colors.copy()\n",
        "new_list"
      ]
    },
    {
      "cell_type": "code",
      "execution_count": 15,
      "metadata": {},
      "outputs": [],
      "source": [
        "del colors"
      ]
    },
    {
      "cell_type": "markdown",
      "metadata": {},
      "source": [
        "## Exercise 4\n",
        "\n",
        "1. Create a set of a least 3 yellow fruits.\n",
        "\n",
        "2. And a another at least 3 citrus fruits.\n",
        "\n",
        "3. Which fruits are both yellow and citrus?"
      ]
    },
    {
      "cell_type": "code",
      "execution_count": 18,
      "metadata": {},
      "outputs": [
        {
          "data": {
            "text/plain": [
              "{'lemon'}"
            ]
          },
          "execution_count": 18,
          "metadata": {},
          "output_type": "execute_result"
        }
      ],
      "source": [
        "yellow = {'banana', 'lemon', 'apple'}\n",
        "citrus = {'orange', 'grapefruit', 'lemon', 'lime'}\n",
        "\n",
        "yellow.intersection(citrus)"
      ]
    },
    {
      "cell_type": "markdown",
      "metadata": {},
      "source": [
        "## Exercise 5\n",
        "\n",
        "1. Create a dictionary called 'countries' where the key is the country and the value is a (non-exhaustive) list of cities in the country. Include at least 3 countries. One of them has to be 'Denmark'. \n",
        "\n",
        "2. Extract the value for the key 'Denmark'.\n",
        "\n",
        "3. Add another country and its cities to the dictionary.\n",
        "\n",
        "4. Remove one of the countries and associated cities."
      ]
    },
    {
      "cell_type": "code",
      "execution_count": 22,
      "metadata": {
        "colab": {
          "base_uri": "https://localhost:8080/"
        },
        "id": "t-xhyk9WtCzY",
        "outputId": "08c0d967-7442-42de-a673-80ad595b130c"
      },
      "outputs": [
        {
          "name": "stdout",
          "output_type": "stream",
          "text": [
            "{'Denmark': ['Copenhagen', 'Aarhus'], 'France': ['Paris', 'Marseille'], 'USA': ['Washington', 'New York']}\n"
          ]
        }
      ],
      "source": [
        "countries = {\n",
        "    'Denmark': ['Copenhagen', 'Aarhus'],\n",
        "    'France': ['Paris', 'Marseille'],\n",
        "    'USA': ['Washington','New York']\n",
        "}\n",
        "\n",
        "print(countries)"
      ]
    },
    {
      "cell_type": "code",
      "execution_count": 23,
      "metadata": {},
      "outputs": [
        {
          "data": {
            "text/plain": [
              "['Copenhagen', 'Aarhus']"
            ]
          },
          "execution_count": 23,
          "metadata": {},
          "output_type": "execute_result"
        }
      ],
      "source": [
        "countries['Denmark']"
      ]
    },
    {
      "cell_type": "code",
      "execution_count": 24,
      "metadata": {
        "colab": {
          "base_uri": "https://localhost:8080/"
        },
        "id": "ThFsOIc1tCzZ",
        "outputId": "d52b05cb-fd97-4a7e-e8a1-017ab14b0306"
      },
      "outputs": [
        {
          "name": "stdout",
          "output_type": "stream",
          "text": [
            "{'Denmark': ['Copenhagen', 'Aarhus'], 'France': ['Paris', 'Marseille'], 'USA': ['Washington', 'New York'], 'Japan': ['Tokyo', 'Osaka']}\n"
          ]
        }
      ],
      "source": [
        "countries['Japan'] = ['Tokyo', 'Osaka']\n",
        "\n",
        "print(countries)"
      ]
    },
    {
      "cell_type": "markdown",
      "metadata": {
        "id": "KK3PF2B2tCzZ"
      },
      "source": [
        "6. Remove one of the countries and its elements."
      ]
    },
    {
      "cell_type": "code",
      "execution_count": 25,
      "metadata": {
        "colab": {
          "base_uri": "https://localhost:8080/"
        },
        "id": "-Y9aaM7wtCzZ",
        "outputId": "8942e738-8ec0-4b6e-8750-9348be4caaf2"
      },
      "outputs": [
        {
          "name": "stdout",
          "output_type": "stream",
          "text": [
            "{'Denmark': ['Copenhagen', 'Aarhus'], 'France': ['Paris', 'Marseille'], 'Japan': ['Tokyo', 'Osaka']}\n"
          ]
        }
      ],
      "source": [
        "del countries['USA']\n",
        "\n",
        "print(countries)"
      ]
    }
  ],
  "metadata": {
    "colab": {
      "collapsed_sections": [
        "nNNFT7KttCzD",
        "Xxg8pJi5czAg",
        "BzxGAkXqV0XI",
        "Slkq6GYKtCzJ",
        "K9hVHmTKtCzM",
        "taqKnUx8avlW",
        "lAqWTd6jeFlg",
        "zyZO6bhUMl6g",
        "--PTuLUitCzS",
        "SW1Ggx4ytCzX",
        "wveXX--OtCzU"
      ],
      "name": "iterables_wSolutions.ipynb",
      "provenance": []
    },
    "kernelspec": {
      "display_name": "Python 3",
      "language": "python",
      "name": "python3"
    },
    "language_info": {
      "codemirror_mode": {
        "name": "ipython",
        "version": 3
      },
      "file_extension": ".py",
      "mimetype": "text/x-python",
      "name": "python",
      "nbconvert_exporter": "python",
      "pygments_lexer": "ipython3",
      "version": "3.11.1"
    },
    "rise": {
      "scroll": true
    },
    "toc": {
      "base_numbering": 1,
      "nav_menu": {},
      "number_sections": true,
      "sideBar": true,
      "skip_h1_title": false,
      "title_cell": "Table of Contents",
      "title_sidebar": "Contents",
      "toc_cell": false,
      "toc_position": {
        "height": "calc(100% - 180px)",
        "left": "10px",
        "top": "150px",
        "width": "512px"
      },
      "toc_section_display": true,
      "toc_window_display": true
    },
    "toc-autonumbering": true
  },
  "nbformat": 4,
  "nbformat_minor": 0
}
