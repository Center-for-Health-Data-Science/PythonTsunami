{
 "cells": [
  {
   "cell_type": "markdown",
   "metadata": {},
   "source": [
    "### Exercise 1\n",
    "1. Use an ``int`` value of your choice and store it in a variable. Multiply that variable by ``2``and print this new variable.\n",
    "2. Use a second ``int`` value of your choice and multiply it with the initial variable used in 1).\n",
    "3. Square the ``int``s from 1) and 2)."
   ]
  },
  {
   "cell_type": "code",
   "execution_count": 1,
   "metadata": {},
   "outputs": [
    {
     "name": "stdout",
     "output_type": "stream",
     "text": [
      "10\n",
      "20\n"
     ]
    }
   ],
   "source": [
    "my_int = 5\n",
    "my_int = my_int * 2\n",
    "print(my_int)\n",
    "\n",
    "#or shorter\n",
    "my_int *= 2\n",
    "print(my_int)\n"
   ]
  },
  {
   "cell_type": "markdown",
   "metadata": {},
   "source": [
    "### Exercise 2\n",
    "\n",
    "2.1 Create a new variable ``message`` and set it equal to a string containing a new line.\n",
    "\n",
    "2.2 Create a new variable ``mountains``. Assign a string to this variable so that it results in /\\/\\/\\ when printed. _Hint:_ You will need to use an escape sequence more than once!\n",
    "\n",
    "2.3 Create a new variable ``quotation`` and set it to any string that contains an escaped double quotation mark."
   ]
  },
  {
   "cell_type": "code",
   "execution_count": 2,
   "metadata": {},
   "outputs": [
    {
     "name": "stdout",
     "output_type": "stream",
     "text": [
      "Hey you!\n",
      "Yes, you there.\n",
      "///\\\n",
      "Excuse me, we're doing \"real\" python here.\n"
     ]
    }
   ],
   "source": [
    "message = \"Hey you!\\nYes, you there.\"\n",
    "print(message)\n",
    "mountains = \"///\\\\\"\n",
    "print(mountains)\n",
    "quotation = \"Excuse me, we're doing \\\"real\\\" python here.\"\n",
    "print(quotation)"
   ]
  },
  {
   "cell_type": "markdown",
   "metadata": {},
   "source": [
    "### Exercise 4\n",
    "4.1 Set the variable ``first`` to your first name.\n",
    "\n",
    "4.2 Set the variable ``last`` to your last name.\n",
    "\n",
    "4.3 Set the variable ``name`` to a combination of ``first`` and ``last`` using the f-string method. Follow this pattern: ```First Name: Mary, Last Name: Poppins```"
   ]
  },
  {
   "cell_type": "code",
   "execution_count": 3,
   "metadata": {},
   "outputs": [
    {
     "name": "stdout",
     "output_type": "stream",
     "text": [
      "First Name: John, Last Name: Doe\n"
     ]
    }
   ],
   "source": [
    "first = \"John\"\n",
    "last = 'Doe'\n",
    "name = f\"First Name: {first}, Last Name: {last}\"\n",
    "print(name)"
   ]
  },
  {
   "cell_type": "code",
   "execution_count": null,
   "metadata": {},
   "outputs": [],
   "source": []
  },
  {
   "cell_type": "code",
   "execution_count": null,
   "metadata": {},
   "outputs": [],
   "source": []
  },
  {
   "cell_type": "code",
   "execution_count": null,
   "metadata": {},
   "outputs": [],
   "source": []
  }
 ],
 "metadata": {
  "kernelspec": {
   "display_name": "Python 3",
   "language": "python",
   "name": "python3"
  },
  "language_info": {
   "codemirror_mode": {
    "name": "ipython",
    "version": 3
   },
   "file_extension": ".py",
   "mimetype": "text/x-python",
   "name": "python",
   "nbconvert_exporter": "python",
   "pygments_lexer": "ipython3",
   "version": "3.8.3"
  }
 },
 "nbformat": 4,
 "nbformat_minor": 4
}
