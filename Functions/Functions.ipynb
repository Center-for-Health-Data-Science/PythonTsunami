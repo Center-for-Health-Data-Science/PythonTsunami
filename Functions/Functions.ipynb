{
 "cells": [
  {
   "cell_type": "markdown",
   "metadata": {},
   "source": [
    "<img src=\"../figures/HeaDS_logo_large_withTitle.png\" width=\"300\">\n",
    "\n",
    "<img src=\"../figures/tsunami_logo.PNG\" width=\"600\">\n",
    "\n",
    "[![Open In Colab](https://colab.research.google.com/assets/colab-badge.svg)](https://colab.research.google.com/github/Center-for-Health-Data-Science/PythonTsunami/blob/spring2022/Functions/Functions.ipynb)"
   ]
  },
  {
   "cell_type": "markdown",
   "metadata": {
    "slideshow": {
     "slide_type": "slide"
    }
   },
   "source": [
    "# Encapsulating Code with Functions\n",
    "\n",
    "*prepared by [Katarina Nastou](https://www.cpr.ku.dk/staff/?pure=en/persons/672471) and [Rita Colaço](https://www.cpr.ku.dk/staff/?id=621366&vis=medarbejder)*"
   ]
  },
  {
   "cell_type": "markdown",
   "metadata": {
    "slideshow": {
     "slide_type": "subslide"
    }
   },
   "source": [
    "## Objectives\n",
    "\n",
    "* Describe what a function is and how they are useful\n",
    "* Explain exactly what the return keyword does and some of the side effects when using it\n",
    "* Add parameters to functions to output different data\n",
    "* Understand how scope works in a function\n",
    "* Add keyword arguments to functions"
   ]
  },
  {
   "cell_type": "markdown",
   "metadata": {
    "slideshow": {
     "slide_type": "slide"
    }
   },
   "source": [
    "## What is a function?\n",
    "\n",
    "Just as we've learned that Python does a lot of work \"under the hood\"--translating its \"syntactic sugar\" into many lines of Python, interpreting that code into the C language, then compiling it into machine language, and so on--we too can wrap our code into simple functions, thereby making those lines easier to understand, debug, and reuse.  The basic unit of encapsulation in programming is called a [**function**](https://docs.python.org/3/glossary.html#term-function), and they can mostly be thought of as a pipeline:\n",
    "\n",
    "**Input(s) -> [Some Code] -> Output(s)**\n",
    "\n",
    "You have already used functions such as `print()` and `int()`. We call these functions _built-in_ since they already exist in python. \n",
    "\n",
    "There are three types of functions in Python:\n",
    "\n",
    "- Built-in functions, such as help(), min() or print()\n",
    "\n",
    "- User-defined functions (UDFs), created by the users\n",
    "\n",
    "- Anonymous functions, called lambda functions because they are not declared with the standard `def` keyword"
   ]
  },
  {
   "cell_type": "markdown",
   "metadata": {
    "slideshow": {
     "slide_type": "slide"
    }
   },
   "source": [
    "## Why use functions?\n",
    "\n",
    "The main motivation behind using functions is to stay **DRY** - **D**on't **R**epeat **Y**ourself!  \n",
    "\n",
    "Functions are essential to programming because they **simplify** code!  Good functions are simple to reason about, help provide an **abstraction** of that code's purpose, and help **teach** about the nature of the tasks that code is carrying out, and are **testable** (i.e.  they can be checked to see if they are working properly)."
   ]
  },
  {
   "cell_type": "markdown",
   "metadata": {
    "slideshow": {
     "slide_type": "slide"
    }
   },
   "source": [
    "In Python, you can recognize a function by the fact that it is **callable**. This mean you need to use parentheses after the function name.  When **calling** a function, the following syntax is used:\n",
    "\n",
    "```python\n",
    "output = function(input1, input2)\n",
    "```"
   ]
  },
  {
   "cell_type": "markdown",
   "metadata": {
    "slideshow": {
     "slide_type": "slide"
    }
   },
   "source": [
    "## Defining functions\n",
    "\n",
    "Creating a function is done using the same code block style we've seen in for-loops and if-loops:\n",
    "\n",
    "1. Define the keyword `def`.\n",
    "\n",
    "2. Add parameters within the parentheses of the function. End the line with a colon.\n",
    "\n",
    "3. Add statements the function should execute.\n",
    "\n",
    "4. End the function with a `return` statement if there should be an output.\n",
    "\n",
    "\n",
    "Example 1:\n",
    "\n",
    "```python\n",
    "def say_hi():\n",
    "    print('Hi!')\n",
    "```\n",
    "\n",
    "Example 2:\n",
    "\n",
    "```python\n",
    "def say_hi_return():\n",
    "    return 'Hi!'\n",
    "```\n",
    "\n",
    "> The body of a function is indented, as Python uses indentation for grouping statements."
   ]
  },
  {
   "cell_type": "markdown",
   "metadata": {
    "slideshow": {
     "slide_type": "subslide"
    }
   },
   "source": [
    "### Example"
   ]
  },
  {
   "cell_type": "code",
   "execution_count": null,
   "metadata": {
    "slideshow": {
     "slide_type": "fragment"
    }
   },
   "outputs": [],
   "source": [
    "def say_hi():\n",
    "    print('Hi!')\n",
    "    \n",
    "def say_hi_return():\n",
    "    return 'Hi!'"
   ]
  },
  {
   "cell_type": "code",
   "execution_count": null,
   "metadata": {
    "slideshow": {
     "slide_type": "fragment"
    }
   },
   "outputs": [],
   "source": [
    "say_hi()"
   ]
  },
  {
   "cell_type": "code",
   "execution_count": null,
   "metadata": {},
   "outputs": [],
   "source": [
    "say_hi_return()"
   ]
  },
  {
   "cell_type": "markdown",
   "metadata": {
    "slideshow": {
     "slide_type": "slide"
    }
   },
   "source": [
    "## The `return` statement\n",
    "\n",
    "Neccessary if you want to continue to work with the result of your function and run other operations on that result.\n",
    "\n",
    "When Python encounters a `return` statement, it exits the function immediately, and passes the value on the right hand side to the calling context. Every function in python has a return value even if you do not explictly state `return`. The default return value is `None`. "
   ]
  },
  {
   "cell_type": "markdown",
   "metadata": {
    "slideshow": {
     "slide_type": "fragment"
    }
   },
   "source": [
    "Is this what you expected to happen?"
   ]
  },
  {
   "cell_type": "code",
   "execution_count": null,
   "metadata": {
    "slideshow": {
     "slide_type": "fragment"
    }
   },
   "outputs": [],
   "source": [
    "def say_hi():\n",
    "    'Hello!'\n",
    "\n",
    "my_result = say_hi()\n",
    "\n",
    "print(my_result) # None\n",
    "type(my_result)"
   ]
  },
  {
   "cell_type": "markdown",
   "metadata": {
    "slideshow": {
     "slide_type": "fragment"
    }
   },
   "source": [
    "This prints 'Hello' but the return type is still None."
   ]
  },
  {
   "cell_type": "code",
   "execution_count": null,
   "metadata": {
    "slideshow": {
     "slide_type": "fragment"
    }
   },
   "outputs": [],
   "source": [
    "def say_hi():\n",
    "    print('Hello!')\n",
    "\n",
    "result = say_hi() \n",
    "\n",
    "print(result) # None"
   ]
  },
  {
   "cell_type": "markdown",
   "metadata": {},
   "source": [
    "When we use the `return` statement, the object that comes after it becomes the functions return value."
   ]
  },
  {
   "cell_type": "code",
   "execution_count": null,
   "metadata": {
    "slideshow": {
     "slide_type": "fragment"
    }
   },
   "outputs": [],
   "source": [
    "def say_hi():\n",
    "    return 'Hi!'\n",
    "\n",
    "greeting = say_hi()\n",
    "\n",
    "print(greeting) # 'Hi!"
   ]
  },
  {
   "cell_type": "markdown",
   "metadata": {},
   "source": [
    "The same function can incoporate several return statements:"
   ]
  },
  {
   "cell_type": "code",
   "execution_count": 4,
   "metadata": {},
   "outputs": [
    {
     "name": "stdout",
     "output_type": "stream",
     "text": [
      "Yes, working hard.\n"
     ]
    }
   ],
   "source": [
    "from datetime import datetime\n",
    "\n",
    "def are_you_working():\n",
    "    #Thursday is day 3, Friday is day 4\n",
    "    if datetime.today().weekday() == 3 or datetime.today().weekday() == 4:\n",
    "        return 'No, am learning python!'\n",
    "    else:\n",
    "        return 'Yes, working hard.'\n",
    "\n",
    "print(are_you_working())\n"
   ]
  },
  {
   "cell_type": "markdown",
   "metadata": {},
   "source": [
    "But you can only ever `return` once! In other words, you can never reach both return statements. The first one that is reached will end the function, no matter what comes after."
   ]
  },
  {
   "cell_type": "markdown",
   "metadata": {},
   "source": [
    "Then how can you return more than one result, let's say you're doing something complex? Well, you can only encounter one return statement, but the object you return can be complex, i.e. a list, a dict, a tuple. In the example above we're returning strings."
   ]
  },
  {
   "cell_type": "code",
   "execution_count": 24,
   "metadata": {},
   "outputs": [],
   "source": [
    "def string_fun(my_string):\n",
    "    my_list = [my_string.upper(), my_string.lower(), my_string[::-1]]\n",
    "    return my_list"
   ]
  },
  {
   "cell_type": "code",
   "execution_count": 25,
   "metadata": {},
   "outputs": [
    {
     "data": {
      "text/plain": [
       "['HELLO WORLD!', 'hello world!', '!dlroW olleH']"
      ]
     },
     "execution_count": 25,
     "metadata": {},
     "output_type": "execute_result"
    }
   ],
   "source": [
    "string_fun('Hello World!')"
   ]
  },
  {
   "cell_type": "markdown",
   "metadata": {
    "slideshow": {
     "slide_type": "subslide"
    }
   },
   "source": [
    "### Quiz\n",
    "\n",
    "A common return mistake is returning too early in a loop.\n",
    "This function sums all the even numbers in a list.\n",
    "\n",
    "\n",
    "```python\n",
    "def sum_even_numbers(list_of_numbers):\n",
    "    total = 0\n",
    "    for number in list_of_numbers:\n",
    "        if number % 2 == 0:\n",
    "            total += number\n",
    "        return total\n",
    "```\n",
    "\n",
    "What is wrong here? Can you correct the code?"
   ]
  },
  {
   "cell_type": "code",
   "execution_count": null,
   "metadata": {
    "slideshow": {
     "slide_type": "fragment"
    }
   },
   "outputs": [],
   "source": []
  },
  {
   "cell_type": "markdown",
   "metadata": {
    "slideshow": {
     "slide_type": "slide"
    }
   },
   "source": [
    "## Parameters vs Arguments\n",
    "\n",
    "Some functions work without arguments, like our say_hi() defined above. But usually we want to pass data into the function that the function should work on. Like when we call `print` :\n",
    "\n",
    "```python\n",
    "print('Hi!')\n",
    "```\n",
    "\n",
    "In the above example, the string 'Hi!' is called an __argument__. It is what we want `print()` to work on. Any value passed to a function is an [argument](https://docs.python.org/3/glossary.html#term-argument).\n",
    "\n",
    "But then what are __parameters__?\n",
    "\n",
    "[Parameters ](https://docs.python.org/3/glossary.html#term-parameter) are the names that we want to use inside the function. They appear in the function definition. Consider this:\n"
   ]
  },
  {
   "cell_type": "code",
   "execution_count": 5,
   "metadata": {},
   "outputs": [],
   "source": [
    "def greet_me(my_name):\n",
    "    print('Hello', my_name, '!')"
   ]
  },
  {
   "cell_type": "code",
   "execution_count": 6,
   "metadata": {},
   "outputs": [
    {
     "name": "stdout",
     "output_type": "stream",
     "text": [
      "Hello Henrike !\n"
     ]
    }
   ],
   "source": [
    "greet_me('Henrike')"
   ]
  },
  {
   "cell_type": "markdown",
   "metadata": {},
   "source": [
    "_my_name_ is the parameter. It is what the variable is called __inside__ the function. The string 'Henrike' is the argument I pass when I call the function. \n",
    "\n",
    "You can also think of it as the argument as being the actual value and the parameter being its alias.\n",
    "\n",
    "Some more examples:\n",
    "https://docs.python.org/3/faq/programming.html#faq-argument-vs-parameter"
   ]
  },
  {
   "cell_type": "markdown",
   "metadata": {
    "slideshow": {
     "slide_type": "slide"
    }
   },
   "source": [
    "Sp parameters are like placeholders. Like other variables, you can call your parameters anything, but it is wise to choose clear names that you can recognize! They can have default values too, more about this later."
   ]
  },
  {
   "cell_type": "markdown",
   "metadata": {
    "slideshow": {
     "slide_type": "fragment"
    }
   },
   "source": [
    "**Example**: Write a function that returns the sum of two numbers.  Use it to add x and y below:"
   ]
  },
  {
   "cell_type": "code",
   "execution_count": null,
   "metadata": {
    "slideshow": {
     "slide_type": "fragment"
    }
   },
   "outputs": [],
   "source": [
    "def add(a,b):\n",
    "    print(\"a+b: \", a+b)"
   ]
  },
  {
   "cell_type": "markdown",
   "metadata": {
    "slideshow": {
     "slide_type": "fragment"
    }
   },
   "source": [
    "Data:"
   ]
  },
  {
   "cell_type": "code",
   "execution_count": null,
   "metadata": {
    "slideshow": {
     "slide_type": "fragment"
    }
   },
   "outputs": [],
   "source": [
    "x = 3\n",
    "y = 5"
   ]
  },
  {
   "cell_type": "markdown",
   "metadata": {
    "slideshow": {
     "slide_type": "fragment"
    }
   },
   "source": [
    "Calling function on data:"
   ]
  },
  {
   "cell_type": "code",
   "execution_count": null,
   "metadata": {
    "slideshow": {
     "slide_type": "fragment"
    }
   },
   "outputs": [],
   "source": [
    "add(x, y)"
   ]
  },
  {
   "cell_type": "markdown",
   "metadata": {},
   "source": [
    "What are the parameters and what are the arguments in the above example?"
   ]
  },
  {
   "cell_type": "markdown",
   "metadata": {},
   "source": [
    "## Arguments\n",
    "\n",
    "There are three types of arguments that Python User-defined functions can take:\n",
    "\n",
    "- Default arguments\n",
    "- Required arguments\n",
    "- Variable number of arguments"
   ]
  },
  {
   "cell_type": "markdown",
   "metadata": {
    "slideshow": {
     "slide_type": "slide"
    }
   },
   "source": [
    "### Default arguments\n",
    "\n",
    "Values that the corresponding parameters take if no argument value is passed during the function call. Assign the default value by using the operator `=` in the function header. Can also be called optional arguments since there is no need to specify values for them when you call a function."
   ]
  },
  {
   "cell_type": "code",
   "execution_count": null,
   "metadata": {
    "slideshow": {
     "slide_type": "fragment"
    }
   },
   "outputs": [],
   "source": [
    "def add(a=10, b=20):\n",
    "    return a+b"
   ]
  },
  {
   "cell_type": "code",
   "execution_count": null,
   "metadata": {
    "slideshow": {
     "slide_type": "fragment"
    }
   },
   "outputs": [],
   "source": [
    "add() # 30"
   ]
  },
  {
   "cell_type": "code",
   "execution_count": null,
   "metadata": {
    "slideshow": {
     "slide_type": "fragment"
    }
   },
   "outputs": [],
   "source": [
    "add(1,10) # 11"
   ]
  },
  {
   "cell_type": "markdown",
   "metadata": {
    "slideshow": {
     "slide_type": "fragment"
    }
   },
   "source": [
    "Having default parameters allows you to avoids errors with incorrect parameters and also generates more readable examples!"
   ]
  },
  {
   "cell_type": "markdown",
   "metadata": {},
   "source": [
    "### Required arguments\n",
    "\n",
    "Arguments that are mandatory to pass during the function call and in precisely the right order. If you switch them around, the result might be different."
   ]
  },
  {
   "cell_type": "code",
   "execution_count": 1,
   "metadata": {},
   "outputs": [],
   "source": [
    "def divide(a, b):\n",
    "    return a/b"
   ]
  },
  {
   "cell_type": "code",
   "execution_count": 2,
   "metadata": {},
   "outputs": [
    {
     "ename": "TypeError",
     "evalue": "divide() missing 2 required positional arguments: 'a' and 'b'",
     "output_type": "error",
     "traceback": [
      "\u001b[0;31m---------------------------------------------------------------------------\u001b[0m",
      "\u001b[0;31mTypeError\u001b[0m                                 Traceback (most recent call last)",
      "\u001b[0;32m<ipython-input-2-0adbd83d24fe>\u001b[0m in \u001b[0;36m<module>\u001b[0;34m\u001b[0m\n\u001b[0;32m----> 1\u001b[0;31m \u001b[0mdivide\u001b[0m\u001b[0;34m(\u001b[0m\u001b[0;34m)\u001b[0m\u001b[0;34m\u001b[0m\u001b[0;34m\u001b[0m\u001b[0m\n\u001b[0m",
      "\u001b[0;31mTypeError\u001b[0m: divide() missing 2 required positional arguments: 'a' and 'b'"
     ]
    }
   ],
   "source": [
    "divide()"
   ]
  },
  {
   "cell_type": "code",
   "execution_count": 3,
   "metadata": {},
   "outputs": [
    {
     "data": {
      "text/plain": [
       "2.0"
      ]
     },
     "execution_count": 3,
     "metadata": {},
     "output_type": "execute_result"
    }
   ],
   "source": [
    "divide(20, 10)"
   ]
  },
  {
   "cell_type": "code",
   "execution_count": 4,
   "metadata": {},
   "outputs": [
    {
     "data": {
      "text/plain": [
       "0.5"
      ]
     },
     "execution_count": 4,
     "metadata": {},
     "output_type": "execute_result"
    }
   ],
   "source": [
    "divide(10,20)"
   ]
  },
  {
   "cell_type": "markdown",
   "metadata": {},
   "source": [
    "\n",
    "\n",
    "By default, arguments are positional-or-keyword. If you do not specify which argument was given to which parameter they will be assigned in the order that was defined in the function definition. \n",
    "\n",
    "In this example\n",
    "\n",
    "```python\n",
    "def divide(a, b):\n",
    "    return a/b\n",
    "```\n",
    "\n",
    "If you call `divide(20,10)` the parameter `a` will take the value 20 and the parameter `b` will take the value 10 since they are specified in that order in the function definition.\n"
   ]
  },
  {
   "cell_type": "markdown",
   "metadata": {},
   "source": [
    "You can also specify which parameter an argument should be assigned to by using it's name (keyword) during the call:"
   ]
  },
  {
   "cell_type": "code",
   "execution_count": 5,
   "metadata": {},
   "outputs": [
    {
     "data": {
      "text/plain": [
       "0.5"
      ]
     },
     "execution_count": 5,
     "metadata": {},
     "output_type": "execute_result"
    }
   ],
   "source": [
    "divide(b=20, a=10)"
   ]
  },
  {
   "cell_type": "markdown",
   "metadata": {
    "slideshow": {
     "slide_type": "fragment"
    }
   },
   "source": [
    "Keyword arguments are different from default parameters\n",
    "\n",
    "* When you **define** a function and use an **=** you are setting a **default parameter**\n",
    "* When you **call** a function and use an **=** you are making a **keyword argument**"
   ]
  },
  {
   "cell_type": "markdown",
   "metadata": {},
   "source": [
    "### Variable number of arguments\n",
    "\n",
    "In cases where you don't know the exact number of arguments that you want to pass to a function, you can use the syntax `*args`.\n",
    "\n",
    "The asterisk (`*`) is placed before the variable name that holds the values of all non keyword arguments. `args` can be replaced by other names you want.\n"
   ]
  },
  {
   "cell_type": "code",
   "execution_count": null,
   "metadata": {},
   "outputs": [],
   "source": [
    "def plus(*args):\n",
    "    return sum(args)"
   ]
  },
  {
   "cell_type": "code",
   "execution_count": null,
   "metadata": {},
   "outputs": [],
   "source": [
    "plus(1,4,5)"
   ]
  },
  {
   "cell_type": "code",
   "execution_count": null,
   "metadata": {},
   "outputs": [],
   "source": [
    "def plus(*args):\n",
    "    total = 0\n",
    "    for i in args:\n",
    "        total += i\n",
    "    return total"
   ]
  },
  {
   "cell_type": "code",
   "execution_count": null,
   "metadata": {},
   "outputs": [],
   "source": [
    "plus(20,30,40,50)"
   ]
  },
  {
   "cell_type": "markdown",
   "metadata": {},
   "source": [
    "## Warning: Don't use mutable types as default parameters\n",
    "\n",
    "Do __not__ use e.g. an empty list as a default parameter. Instead, use `None`.\n",
    "\n",
    "Consider the following example:"
   ]
  },
  {
   "cell_type": "code",
   "execution_count": 42,
   "metadata": {},
   "outputs": [],
   "source": [
    "def add_number(x, to=None):\n",
    "    \"\"\"add x to a list of numbers. Create a new list if none is passed.\"\"\"\n",
    "    \n",
    "    if to is None:\n",
    "        to = []\n",
    "    to.append(x)\n",
    "    return to"
   ]
  },
  {
   "cell_type": "markdown",
   "metadata": {},
   "source": [
    "The above function behaves well:"
   ]
  },
  {
   "cell_type": "code",
   "execution_count": 48,
   "metadata": {},
   "outputs": [
    {
     "data": {
      "text/plain": [
       "[4]"
      ]
     },
     "execution_count": 48,
     "metadata": {},
     "output_type": "execute_result"
    }
   ],
   "source": [
    "my_numbers = add_number(4)\n",
    "my_numbers"
   ]
  },
  {
   "cell_type": "code",
   "execution_count": 49,
   "metadata": {},
   "outputs": [
    {
     "data": {
      "text/plain": [
       "[4, 9]"
      ]
     },
     "execution_count": 49,
     "metadata": {},
     "output_type": "execute_result"
    }
   ],
   "source": [
    "#this adds 9 to the list we passed as an argument.\n",
    "add_number(9, to=my_numbers)"
   ]
  },
  {
   "cell_type": "code",
   "execution_count": 46,
   "metadata": {},
   "outputs": [
    {
     "data": {
      "text/plain": [
       "[4, 9]"
      ]
     },
     "execution_count": 46,
     "metadata": {},
     "output_type": "execute_result"
    }
   ],
   "source": [
    "my_numbers"
   ]
  },
  {
   "cell_type": "markdown",
   "metadata": {},
   "source": [
    "What happens if we use an empty list in the definition instead?"
   ]
  },
  {
   "cell_type": "code",
   "execution_count": 54,
   "metadata": {},
   "outputs": [],
   "source": [
    "def add_number_wrong(x, to=[]):\n",
    "    \"\"\"add x to a list of numbers. Create a new list if none is passed.\"\"\"\n",
    "    to.append(x)\n",
    "    return to"
   ]
  },
  {
   "cell_type": "code",
   "execution_count": 55,
   "metadata": {},
   "outputs": [
    {
     "data": {
      "text/plain": [
       "[4]"
      ]
     },
     "execution_count": 55,
     "metadata": {},
     "output_type": "execute_result"
    }
   ],
   "source": [
    "#this behaves as above\n",
    "my_numbers2 = add_number_wrong(4)\n",
    "my_numbers2"
   ]
  },
  {
   "cell_type": "code",
   "execution_count": 56,
   "metadata": {},
   "outputs": [
    {
     "data": {
      "text/plain": [
       "[4, 9]"
      ]
     },
     "execution_count": 56,
     "metadata": {},
     "output_type": "execute_result"
    }
   ],
   "source": [
    "#we can add the number 9\n",
    "add_number_wrong(9, to=my_numbers2)"
   ]
  },
  {
   "cell_type": "markdown",
   "metadata": {},
   "source": [
    "But ..."
   ]
  },
  {
   "cell_type": "code",
   "execution_count": 59,
   "metadata": {},
   "outputs": [
    {
     "data": {
      "text/plain": [
       "[4, 9, 5, 5]"
      ]
     },
     "execution_count": 59,
     "metadata": {},
     "output_type": "execute_result"
    }
   ],
   "source": [
    "#I haven't passed a list, so to should be empty as per it's default. However:\n",
    "add_number_wrong(5)"
   ]
  },
  {
   "cell_type": "markdown",
   "metadata": {},
   "source": [
    "Also:"
   ]
  },
  {
   "cell_type": "code",
   "execution_count": 61,
   "metadata": {},
   "outputs": [
    {
     "data": {
      "text/plain": [
       "[4, 9, 5, 5]"
      ]
     },
     "execution_count": 61,
     "metadata": {},
     "output_type": "execute_result"
    }
   ],
   "source": [
    "my_numbers2"
   ]
  },
  {
   "cell_type": "markdown",
   "metadata": {},
   "source": [
    "This is probably not what you expected to happen!\n",
    "> More prominent examples arise out of the context of classes, e.g. see Ramalho 2015: Fluent Python, p. 236ff."
   ]
  },
  {
   "cell_type": "markdown",
   "metadata": {},
   "source": [
    "## Documenting functions\n",
    "\n",
    "- Describe what your function does, which parameters it takes, and its return values.\n",
    "\n",
    "- Use `\"\"\" \"\"\"` to wrap it.\n",
    "\n",
    "- Placed in the immediate line after the function header.\n",
    "\n",
    "- Essential when writing complex functions.\n",
    "\n",
    "- There are several formats. For more detail check out some Github repositories of Python packages like [scikit-learn](https://github.com/scikit-learn/scikit-learn/tree/main/sklearn) or [pandas](https://github.com/pandas-dev/pandas/tree/master/pandas), with plenty of examples."
   ]
  },
  {
   "cell_type": "markdown",
   "metadata": {},
   "source": [
    "Example:\n",
    "\n",
    "```python\n",
    "def full_name(first, last):\n",
    "    \"\"\"A function that takes as arguments a first and last name and prints a full name\"\"\"\n",
    "    print (f\"Your name is {first} {last}\")\n",
    "```"
   ]
  },
  {
   "cell_type": "markdown",
   "metadata": {},
   "source": [
    "Adding parameter descriptions using the [numpy style](https://numpydoc.readthedocs.io/en/latest/format.html):\n",
    "\n",
    "```python\n",
    "def full_name(first, last):\n",
    "    \"\"\"A function that takes as arguments a first and last name and prints a full name\n",
    "    \n",
    "    Parameters\n",
    "    ----------\n",
    "    first : str\n",
    "        The first name of someone.\n",
    "    last : str\n",
    "        The last name of someone.\n",
    "    \"\"\"\n",
    "    print (f\"Your name is {first} {last}\")\n",
    "```"
   ]
  },
  {
   "cell_type": "markdown",
   "metadata": {},
   "source": [
    "## Scope\n",
    "\n",
    "Variables created in functions are scoped inside that function! They do not exist outside the function.\n",
    "\n",
    "Example:\n"
   ]
  },
  {
   "cell_type": "code",
   "execution_count": 8,
   "metadata": {},
   "outputs": [
    {
     "ename": "NameError",
     "evalue": "name 'instructor' is not defined",
     "output_type": "error",
     "traceback": [
      "\u001b[0;31m---------------------------------------------------------------------------\u001b[0m",
      "\u001b[0;31mNameError\u001b[0m                                 Traceback (most recent call last)",
      "\u001b[0;32m<ipython-input-8-76eb8512804b>\u001b[0m in \u001b[0;36m<module>\u001b[0;34m\u001b[0m\n\u001b[1;32m      5\u001b[0m \u001b[0msay_hello\u001b[0m\u001b[0;34m(\u001b[0m\u001b[0;34m)\u001b[0m\u001b[0;34m\u001b[0m\u001b[0;34m\u001b[0m\u001b[0m\n\u001b[1;32m      6\u001b[0m \u001b[0;34m\u001b[0m\u001b[0m\n\u001b[0;32m----> 7\u001b[0;31m \u001b[0mprint\u001b[0m\u001b[0;34m(\u001b[0m\u001b[0minstructor\u001b[0m\u001b[0;34m)\u001b[0m \u001b[0;31m# NameError\u001b[0m\u001b[0;34m\u001b[0m\u001b[0;34m\u001b[0m\u001b[0m\n\u001b[0m",
      "\u001b[0;31mNameError\u001b[0m: name 'instructor' is not defined"
     ]
    }
   ],
   "source": [
    "def say_hello():\n",
    "    instructor = 'Colt'\n",
    "    return f'Hello {instructor}'\n",
    "\n",
    "say_hello()\n",
    "\n",
    "print(instructor) # NameError"
   ]
  },
  {
   "cell_type": "markdown",
   "metadata": {},
   "source": [
    "Similarly, anything you do to a variable inside a function and do not return has no consequence on the outside. Consider:"
   ]
  },
  {
   "cell_type": "code",
   "execution_count": 17,
   "metadata": {},
   "outputs": [],
   "source": [
    "my_int = 10"
   ]
  },
  {
   "cell_type": "code",
   "execution_count": 18,
   "metadata": {},
   "outputs": [],
   "source": [
    "def my_function(my_int):\n",
    "    my_int *= 2\n",
    "    print(my_int)"
   ]
  },
  {
   "cell_type": "code",
   "execution_count": 19,
   "metadata": {},
   "outputs": [
    {
     "name": "stdout",
     "output_type": "stream",
     "text": [
      "20\n"
     ]
    }
   ],
   "source": [
    "my_function(my_int)"
   ]
  },
  {
   "cell_type": "code",
   "execution_count": 20,
   "metadata": {},
   "outputs": [
    {
     "data": {
      "text/plain": [
       "10"
      ]
     },
     "execution_count": 20,
     "metadata": {},
     "output_type": "execute_result"
    }
   ],
   "source": [
    "my_int"
   ]
  },
  {
   "cell_type": "markdown",
   "metadata": {},
   "source": [
    "Why is my_int still 10?"
   ]
  },
  {
   "cell_type": "markdown",
   "metadata": {},
   "source": [
    "## Pass by value and pass by reference\n",
    "\n",
    "We just said that variables created inside the function are not visible to the 'outside' and what we do to them inside the function does not propagate outside function if we do not return it. \n",
    "\n",
    "__This is only true for variables that are pass-by-value!__"
   ]
  },
  {
   "cell_type": "markdown",
   "metadata": {},
   "source": [
    "In the above example there are two variables called my_int. They have the same name but they are __not__ the same object. One of them exists outside the function, the one exists inside the function. I named them both the same, which python allows me to do but is generally a very bad idea.\n",
    "\n",
    "To re-iterate, the reason why me multiplying my_int by 2 inside the function has no bearing on the outside world is because my_int and my_int are not the same objects. They are two objects with the same name. This is because integers are pass by value. Consider the following example:"
   ]
  },
  {
   "cell_type": "markdown",
   "metadata": {},
   "source": [
    "I create an integer object which I call `a` and I assign it the number 3. "
   ]
  },
  {
   "cell_type": "code",
   "execution_count": 25,
   "metadata": {},
   "outputs": [
    {
     "data": {
      "text/plain": [
       "3"
      ]
     },
     "execution_count": 25,
     "metadata": {},
     "output_type": "execute_result"
    }
   ],
   "source": [
    "a = 3\n",
    "a"
   ]
  },
  {
   "cell_type": "markdown",
   "metadata": {},
   "source": [
    "'3' is the object, `a` is the variable (what I call this object).\n",
    "I now create a copy of a which I call `b`. We can easily check that `b` is also 3. This is because I copied `a`'s content. "
   ]
  },
  {
   "cell_type": "code",
   "execution_count": 26,
   "metadata": {},
   "outputs": [
    {
     "data": {
      "text/plain": [
       "3"
      ]
     },
     "execution_count": 26,
     "metadata": {},
     "output_type": "execute_result"
    }
   ],
   "source": [
    "b = a\n",
    "b"
   ]
  },
  {
   "cell_type": "markdown",
   "metadata": {},
   "source": [
    "Now I add 2 to `b`."
   ]
  },
  {
   "cell_type": "code",
   "execution_count": 27,
   "metadata": {},
   "outputs": [
    {
     "data": {
      "text/plain": [
       "5"
      ]
     },
     "execution_count": 27,
     "metadata": {},
     "output_type": "execute_result"
    }
   ],
   "source": [
    "b = b + 2\n",
    "b"
   ]
  },
  {
   "cell_type": "markdown",
   "metadata": {},
   "source": [
    "To nobody's surprise `a` is still 3. This is because `a` and `b` are not the same object, they are two objects that happen to have the same value."
   ]
  },
  {
   "cell_type": "code",
   "execution_count": 24,
   "metadata": {},
   "outputs": [
    {
     "data": {
      "text/plain": [
       "3"
      ]
     },
     "execution_count": 24,
     "metadata": {},
     "output_type": "execute_result"
    }
   ],
   "source": [
    "a"
   ]
  },
  {
   "cell_type": "markdown",
   "metadata": {},
   "source": [
    "This behavior is called __pass by value__."
   ]
  },
  {
   "cell_type": "markdown",
   "metadata": {},
   "source": [
    "However, many complex object types like lists are __pass by reference__.\n",
    "Here, I create a list object which I will call `x` and I assign it the values 1, 2 and 3."
   ]
  },
  {
   "cell_type": "code",
   "execution_count": 28,
   "metadata": {},
   "outputs": [
    {
     "data": {
      "text/plain": [
       "[1, 2, 3]"
      ]
     },
     "execution_count": 28,
     "metadata": {},
     "output_type": "execute_result"
    }
   ],
   "source": [
    "x = [1, 2, 3]\n",
    "x"
   ]
  },
  {
   "cell_type": "markdown",
   "metadata": {},
   "source": [
    "I copy my list object, just as I did the integer `a` above: "
   ]
  },
  {
   "cell_type": "code",
   "execution_count": null,
   "metadata": {},
   "outputs": [],
   "source": [
    "y = x\n",
    "y"
   ]
  },
  {
   "cell_type": "markdown",
   "metadata": {},
   "source": [
    "Now, lets append 10 to my new list `y`. "
   ]
  },
  {
   "cell_type": "code",
   "execution_count": 30,
   "metadata": {},
   "outputs": [
    {
     "data": {
      "text/plain": [
       "[1, 2, 3, 10]"
      ]
     },
     "execution_count": 30,
     "metadata": {},
     "output_type": "execute_result"
    }
   ],
   "source": [
    "y.append(10)\n",
    "y"
   ]
  },
  {
   "cell_type": "markdown",
   "metadata": {},
   "source": [
    "Anyone want to guess what happened to `x`?"
   ]
  },
  {
   "cell_type": "markdown",
   "metadata": {},
   "source": [
    "This behavior is called __call by reference__. \n",
    "\n",
    "What happened is that unlike `a` and `b`, `x` and `y` are __not__ two different objects. They are two reference to the __same__ object. Let me repeat this, `x` and `y` are both __pointers to the same list object__. If you change x, you change y."
   ]
  },
  {
   "cell_type": "markdown",
   "metadata": {},
   "source": [
    "This means that if you pass a list into a function, what you do to the list inside the function __propagates to the outside__. This is because lists are pass by reference, which means that instead of creating a new list object inside the function, the function will operate directly on the list object. It has been given a __reference__, not a __copy__. Consider:"
   ]
  },
  {
   "cell_type": "code",
   "execution_count": 33,
   "metadata": {},
   "outputs": [
    {
     "data": {
      "text/plain": [
       "[1, 2, 3]"
      ]
     },
     "execution_count": 33,
     "metadata": {},
     "output_type": "execute_result"
    }
   ],
   "source": [
    "x = [1,2,3]\n",
    "x"
   ]
  },
  {
   "cell_type": "code",
   "execution_count": 34,
   "metadata": {},
   "outputs": [],
   "source": [
    "def my_function(my_list):\n",
    "    my_list.append(10)\n",
    "    print(my_list)"
   ]
  },
  {
   "cell_type": "code",
   "execution_count": 37,
   "metadata": {},
   "outputs": [
    {
     "name": "stdout",
     "output_type": "stream",
     "text": [
      "[1, 2, 3, 10]\n"
     ]
    }
   ],
   "source": [
    "my_function(x)"
   ]
  },
  {
   "cell_type": "code",
   "execution_count": 38,
   "metadata": {},
   "outputs": [
    {
     "data": {
      "text/plain": [
       "[1, 2, 3, 10]"
      ]
     },
     "execution_count": 38,
     "metadata": {},
     "output_type": "execute_result"
    }
   ],
   "source": [
    "x"
   ]
  },
  {
   "cell_type": "markdown",
   "metadata": {},
   "source": [
    "Compare this to what happened above with my_int."
   ]
  },
  {
   "cell_type": "markdown",
   "metadata": {},
   "source": [
    "## So is python call by reference or call by value?\n",
    "\n",
    "Neither. Python is 'call by object reference'. Immutable objects (strings, tuples, integers) are called and passed as values. Mutable objects are called and passed as references. \n",
    "\n",
    "Time for coffee."
   ]
  },
  {
   "cell_type": "markdown",
   "metadata": {},
   "source": [
    "## Group exercises - part 1\n",
    "\n",
    "Build functions that carry out the requested task, then use them on the given data. Work in groups for ~20 minutes."
   ]
  },
  {
   "cell_type": "markdown",
   "metadata": {
    "slideshow": {
     "slide_type": "slide"
    }
   },
   "source": [
    "### Exercise 1\n",
    "\n",
    "#### Calculate absolute difference\n",
    "\n",
    "Write a function that returns the absolute (positive) difference between two numbers."
   ]
  },
  {
   "cell_type": "markdown",
   "metadata": {
    "slideshow": {
     "slide_type": "fragment"
    }
   },
   "source": [
    "Function:"
   ]
  },
  {
   "cell_type": "code",
   "execution_count": null,
   "metadata": {
    "slideshow": {
     "slide_type": "fragment"
    }
   },
   "outputs": [],
   "source": [
    "def abs_difference(x, y):\n",
    "    pass # placeholder statement where your code goes"
   ]
  },
  {
   "cell_type": "markdown",
   "metadata": {
    "slideshow": {
     "slide_type": "fragment"
    }
   },
   "source": [
    "Data: "
   ]
  },
  {
   "cell_type": "code",
   "execution_count": 8,
   "metadata": {
    "slideshow": {
     "slide_type": "fragment"
    }
   },
   "outputs": [],
   "source": [
    "a = 25\n",
    "b = 65"
   ]
  },
  {
   "cell_type": "code",
   "execution_count": null,
   "metadata": {},
   "outputs": [],
   "source": []
  },
  {
   "cell_type": "markdown",
   "metadata": {
    "slideshow": {
     "slide_type": "subslide"
    }
   },
   "source": [
    "### Exercise 2\n",
    "\n",
    "#### Calculate squares\n",
    "\n",
    "Write a function that returns the square root of the sum of squares of two numbers. \n",
    "\n",
    "> Hint: You can use `math.sqrt` to calculate the square root."
   ]
  },
  {
   "cell_type": "markdown",
   "metadata": {
    "slideshow": {
     "slide_type": "fragment"
    }
   },
   "source": [
    "Function:"
   ]
  },
  {
   "cell_type": "code",
   "execution_count": 18,
   "metadata": {
    "slideshow": {
     "slide_type": "fragment"
    }
   },
   "outputs": [],
   "source": [
    "from math import sqrt # see modules and classes notebook for more explanations\n",
    "sqrt(25)\n",
    "\n",
    "def square_root_of_squares():\n",
    "    pass\n",
    "#     YOUR CODE GOES HERE"
   ]
  },
  {
   "cell_type": "markdown",
   "metadata": {
    "slideshow": {
     "slide_type": "fragment"
    }
   },
   "source": [
    "Data:"
   ]
  },
  {
   "cell_type": "code",
   "execution_count": 19,
   "metadata": {
    "slideshow": {
     "slide_type": "fragment"
    }
   },
   "outputs": [],
   "source": [
    "x = 5\n",
    "y = 4"
   ]
  },
  {
   "cell_type": "code",
   "execution_count": null,
   "metadata": {},
   "outputs": [],
   "source": []
  },
  {
   "cell_type": "markdown",
   "metadata": {
    "slideshow": {
     "slide_type": "subslide"
    }
   },
   "source": [
    "### Exercise 3\n",
    "\n",
    "#### Indicate sign of difference\n",
    "\n",
    "Write a function that returns \"Positive\" if their difference is positive, and \"Negative\" if their difference is negative"
   ]
  },
  {
   "cell_type": "markdown",
   "metadata": {
    "slideshow": {
     "slide_type": "fragment"
    }
   },
   "source": [
    "Function:"
   ]
  },
  {
   "cell_type": "code",
   "execution_count": null,
   "metadata": {
    "slideshow": {
     "slide_type": "fragment"
    }
   },
   "outputs": [],
   "source": []
  },
  {
   "cell_type": "markdown",
   "metadata": {
    "slideshow": {
     "slide_type": "fragment"
    }
   },
   "source": [
    "Data:"
   ]
  },
  {
   "cell_type": "code",
   "execution_count": null,
   "metadata": {
    "slideshow": {
     "slide_type": "fragment"
    }
   },
   "outputs": [],
   "source": [
    "x = 10\n",
    "y = 5"
   ]
  },
  {
   "cell_type": "code",
   "execution_count": null,
   "metadata": {
    "slideshow": {
     "slide_type": "fragment"
    }
   },
   "outputs": [],
   "source": []
  },
  {
   "cell_type": "markdown",
   "metadata": {
    "slideshow": {
     "slide_type": "subslide"
    }
   },
   "source": [
    "### Exercise 4\n",
    "\n",
    "#### Calculate sum and differences\n",
    "\n",
    "Write a function that returns **both** the sum of the first two inputs and the difference between the second and third input: "
   ]
  },
  {
   "cell_type": "markdown",
   "metadata": {
    "slideshow": {
     "slide_type": "fragment"
    }
   },
   "source": [
    "Function:"
   ]
  },
  {
   "cell_type": "code",
   "execution_count": null,
   "metadata": {
    "slideshow": {
     "slide_type": "fragment"
    }
   },
   "outputs": [],
   "source": []
  },
  {
   "cell_type": "markdown",
   "metadata": {
    "slideshow": {
     "slide_type": "fragment"
    }
   },
   "source": [
    "Data:"
   ]
  },
  {
   "cell_type": "code",
   "execution_count": null,
   "metadata": {
    "slideshow": {
     "slide_type": "fragment"
    }
   },
   "outputs": [],
   "source": [
    "a = 10\n",
    "b = 15\n",
    "c = 20"
   ]
  },
  {
   "cell_type": "code",
   "execution_count": null,
   "metadata": {
    "slideshow": {
     "slide_type": "fragment"
    }
   },
   "outputs": [],
   "source": []
  },
  {
   "cell_type": "markdown",
   "metadata": {
    "slideshow": {
     "slide_type": "subslide"
    }
   },
   "source": [
    "### Exercise 5\n",
    "\n",
    "#### Function overloading: Different behaviour for `int` and `str`\n",
    "\n",
    "Write a function that adds two numbers together if the inputs are both numbers, and concatenates the inputs if they are both strings.\n",
    "\n",
    "> Hint: You can use built-in functions [`type`](https://docs.python.org/3/library/functions.html#type) or [`isinstance`](https://docs.python.org/3/library/functions.html#isinstance) to find out the type of a variable."
   ]
  },
  {
   "cell_type": "markdown",
   "metadata": {
    "slideshow": {
     "slide_type": "fragment"
    }
   },
   "source": [
    "Function:"
   ]
  },
  {
   "cell_type": "code",
   "execution_count": null,
   "metadata": {},
   "outputs": [],
   "source": [
    "def add_stuff():\n",
    "    pass\n",
    "    #your code here"
   ]
  },
  {
   "cell_type": "markdown",
   "metadata": {
    "slideshow": {
     "slide_type": "fragment"
    }
   },
   "source": [
    "Data:"
   ]
  },
  {
   "cell_type": "code",
   "execution_count": null,
   "metadata": {
    "slideshow": {
     "slide_type": "fragment"
    }
   },
   "outputs": [],
   "source": [
    "x = \"Hello\"\n",
    "y = \"World\""
   ]
  },
  {
   "cell_type": "code",
   "execution_count": null,
   "metadata": {
    "slideshow": {
     "slide_type": "fragment"
    }
   },
   "outputs": [],
   "source": [
    "a = 3\n",
    "b = 5"
   ]
  },
  {
   "cell_type": "code",
   "execution_count": null,
   "metadata": {},
   "outputs": [],
   "source": []
  },
  {
   "cell_type": "markdown",
   "metadata": {
    "slideshow": {
     "slide_type": "slide"
    }
   },
   "source": [
    "## Using Functions to Wrap Code\n",
    "\n",
    "In general, we want to make code as abstract as possible, but at the same time we should be specific about what we are trying to accomplish.  These two goals - abstraction and specificity - are often at odds with each other.  Encapsulation solves this problem by allowing us to put specific code inside function definitions, and abstract code in the code that calls it.\n",
    "\n",
    "Usually, the process of producing this code format follows three steps:\n",
    "  1. Write code that works.  (Focus on the specifics)\n",
    "  2. Wrap it in a function.  (Encapsulate it)\n",
    "  3. Call the function in your script (Abstract it)\n",
    " \n",
    " \n",
    "For example:\n",
    "```python\n",
    "data = [2, 6, 3, 7, 8, 9, 1]\n",
    "squares = []\n",
    "for el in data:\n",
    "    square = el ** 2\n",
    "    squares.append(square)\n",
    "sum(sum_of_squares)\n",
    "```\n",
    "\n",
    "will become:\n",
    "\n",
    "```python\n",
    "def sum_of_squares(data):\n",
    "    \"\"\"Comute the sum of squares.\"\"\"\n",
    "    squares = []\n",
    "    for el in data:\n",
    "        square = el ** 2\n",
    "        squares.append(square)\n",
    "    return sum(squares)\n",
    "\n",
    "\n",
    "data = [2, 6, 3, 7, 8, 9, 1]\n",
    "sum_of_squares(data)\n",
    "```\n",
    "\n",
    "Let's practice doing this with various types of loops:"
   ]
  },
  {
   "cell_type": "markdown",
   "metadata": {},
   "source": [
    "## Group exercises - part 2\n",
    "\n",
    "Take the following working Python code and rewrite it so that it uses functions. Work again in groups for ~20 minutes."
   ]
  },
  {
   "cell_type": "markdown",
   "metadata": {
    "slideshow": {
     "slide_type": "fragment"
    }
   },
   "source": [
    "### Exercise 1\n",
    "\n",
    "#### Square numbers\n",
    "\n",
    "The code below squares all of the numbers and removes all of the strings from the list.  Make it into a function, **square_numbers**:"
   ]
  },
  {
   "cell_type": "code",
   "execution_count": null,
   "metadata": {
    "slideshow": {
     "slide_type": "fragment"
    }
   },
   "outputs": [],
   "source": [
    "data = [5, \"missing\", 54, \"bad\", 3, 6]\n",
    "good_data = []\n",
    "good_data_squared = []\n",
    "idx = 0\n",
    "while idx < len(data):\n",
    "    el = data[idx]\n",
    "    if isinstance(el, int):\n",
    "        good_data_squared.append(el ** 2)\n",
    "    idx += 1\n",
    "good_data_squared"
   ]
  },
  {
   "cell_type": "markdown",
   "metadata": {
    "slideshow": {
     "slide_type": "fragment"
    }
   },
   "source": [
    "Put the modified code below:"
   ]
  },
  {
   "cell_type": "code",
   "execution_count": null,
   "metadata": {
    "slideshow": {
     "slide_type": "fragment"
    }
   },
   "outputs": [],
   "source": []
  },
  {
   "cell_type": "markdown",
   "metadata": {
    "slideshow": {
     "slide_type": "subslide"
    }
   },
   "source": [
    "### Exercise 2\n",
    "\n",
    "#### Calculate the standard deviation\n",
    "\n",
    "The code below calculates the **standard deviation** of the data.  Put it in a function called **`standard_deviation`** and use the function on the data:"
   ]
  },
  {
   "cell_type": "code",
   "execution_count": null,
   "metadata": {
    "slideshow": {
     "slide_type": "fragment"
    }
   },
   "outputs": [],
   "source": [
    "import math\n",
    "\n",
    "data = [2, 6, 8, 2, 5, 8, 9, 2]\n",
    "\n",
    "mean = 0\n",
    "std = 0\n",
    "for el in data:\n",
    "    mean += el / len(data)\n",
    "dev_squareds = []\n",
    "for el in data:\n",
    "    dev = (el - mean) ** 2\n",
    "    dev_squareds.append(dev)\n",
    "sum_dev_squareds = sum(dev_squareds)\n",
    "standard_dev = sum_dev_squareds / len(data) * 1.\n",
    "standard_dev = math.sqrt(standard_dev)\n",
    "standard_dev"
   ]
  },
  {
   "cell_type": "markdown",
   "metadata": {
    "slideshow": {
     "slide_type": "fragment"
    }
   },
   "source": [
    "Put the modified code below:"
   ]
  },
  {
   "cell_type": "code",
   "execution_count": null,
   "metadata": {
    "slideshow": {
     "slide_type": "fragment"
    }
   },
   "outputs": [],
   "source": []
  },
  {
   "cell_type": "markdown",
   "metadata": {
    "slideshow": {
     "slide_type": "subslide"
    }
   },
   "source": [
    "### Exercise 3\n",
    "\n",
    "#### Bootstrap mean\n",
    "\n",
    "The code below generates a **bootstrap** sample of the data, getting a random selection of the data **boot_n** times and calculating the mean of that sample, so that many estimates of the mean can be made from a single dataset.  Put it in a function called **bootstrap_means**."
   ]
  },
  {
   "cell_type": "code",
   "execution_count": null,
   "metadata": {
    "slideshow": {
     "slide_type": "fragment"
    }
   },
   "outputs": [],
   "source": [
    "import random\n",
    "\n",
    "data = [2, 6, 8, 2, 5, 8, 9, 2, 6, 2, 10]\n",
    "n_boot = 5\n",
    "means = []\n",
    "for rep in range(n_boot):\n",
    "    sample = random.choices(data, k=len(data))\n",
    "    mean = sum(sample) / len(sample)\n",
    "    rep = rep * 2\n",
    "    means.append(mean)\n",
    "means\n"
   ]
  },
  {
   "cell_type": "markdown",
   "metadata": {
    "slideshow": {
     "slide_type": "fragment"
    }
   },
   "source": [
    "Put the modified code below:"
   ]
  },
  {
   "cell_type": "code",
   "execution_count": null,
   "metadata": {
    "slideshow": {
     "slide_type": "fragment"
    }
   },
   "outputs": [],
   "source": []
  },
  {
   "cell_type": "markdown",
   "metadata": {},
   "source": [
    "### Exercise 4\n",
    "\n",
    "#### Build a function to modify a file\n",
    "\n",
    "Based on what we have seen in the previous lectures (Importing data, Conditionals and Loops): \n",
    "\n",
    "Build a function that takes as parameter the name of a country, then reads the file 'data/sample.txt', checks if the country exists in the file and if it doesn't the function should add it as a new line and otherwise print out that the country already exists (You can use a formatted string)."
   ]
  },
  {
   "cell_type": "code",
   "execution_count": null,
   "metadata": {},
   "outputs": [],
   "source": []
  },
  {
   "cell_type": "code",
   "execution_count": null,
   "metadata": {},
   "outputs": [],
   "source": []
  },
  {
   "cell_type": "markdown",
   "metadata": {},
   "source": [
    "## Extra"
   ]
  },
  {
   "cell_type": "markdown",
   "metadata": {},
   "source": [
    "### Functions Applied to Functions\n",
    "\n",
    "Note that you can also use functions as parameters, like in the example below. `call` is a function that calls the function passed to it (fn) on some data passed to it (arg).\n",
    "\n",
    "Functions that operate on other functions are called \"Higher order functions\".\n"
   ]
  },
  {
   "cell_type": "code",
   "execution_count": 1,
   "metadata": {},
   "outputs": [],
   "source": [
    "\n",
    "def mult_by_five(x):\n",
    "    return 5 * x\n",
    "\n",
    "def call(fn, arg):\n",
    "    \"\"\"Call fn on arg\"\"\"\n",
    "    return fn(arg)\n",
    "\n",
    "def squared_call(fn, arg):\n",
    "    \"\"\"Call fn on the result of calling fn on arg\"\"\"\n",
    "    return fn(fn(arg))"
   ]
  },
  {
   "cell_type": "code",
   "execution_count": 2,
   "metadata": {},
   "outputs": [
    {
     "name": "stdout",
     "output_type": "stream",
     "text": [
      "5\n",
      "25\n"
     ]
    }
   ],
   "source": [
    "print(call(mult_by_five, 1),\n",
    "      squared_call(mult_by_five, 1), \n",
    "      sep='\\n')"
   ]
  },
  {
   "cell_type": "markdown",
   "metadata": {
    "slideshow": {
     "slide_type": "slide"
    }
   },
   "source": [
    "### Refactoring Code: Improving it without breaking it\n",
    "\n",
    "By modularizing code, we give ourselves the ability to modify small parts of the code without having to worry about the rest of it--so long as the inputs and outputs don't change, anything that happens in the middle doesn't matter to the code that calls the function!\n",
    "\n",
    "The exercises above all contain things that can be improved, whether that is to make them simpler, more readable, or more reliable, any improvements are helpful.  Let's work through them again and make the following improvements:\n",
    "\n",
    "  1. **Remove Orphan Code**: Often, code that isn't actually used by the function is left sitting there, lost and forgotten.  Deleting those lines will make it easier to see how everything works and improve readability.\n",
    "  2. **Change variable names to something clearer**: variables like x and y are not helpful.  Make them something that represents that result of the line!\n",
    "  3. **Reduce the number of steps**: If there are several lines doing something you think is simple, either compress them to a single line or make a new function that represents that action.  If you know that the function you want already exists in another package, then import that package and use it!\n",
    "  4. **Convert While loops to For loops**: If you see iteration happening, use a for-loop!  If it's a single action, why not make it a comprehension?"
   ]
  },
  {
   "cell_type": "markdown",
   "metadata": {
    "slideshow": {
     "slide_type": "slide"
    }
   },
   "source": [
    "### **Exercises**\n",
    "\n",
    "Refactor the functions created in the previous section.  Make sure to re-run the code with each change you make to verify that it still works!"
   ]
  },
  {
   "cell_type": "code",
   "execution_count": null,
   "metadata": {},
   "outputs": [],
   "source": []
  }
 ],
 "metadata": {
  "kernelspec": {
   "display_name": "Python 3",
   "language": "python",
   "name": "python3"
  },
  "language_info": {
   "codemirror_mode": {
    "name": "ipython",
    "version": 3
   },
   "file_extension": ".py",
   "mimetype": "text/x-python",
   "name": "python",
   "nbconvert_exporter": "python",
   "pygments_lexer": "ipython3",
   "version": "3.8.5"
  },
  "rise": {
   "scroll": true
  },
  "toc": {
   "base_numbering": 1,
   "nav_menu": {},
   "number_sections": true,
   "sideBar": true,
   "skip_h1_title": false,
   "title_cell": "Table of Contents",
   "title_sidebar": "Contents",
   "toc_cell": false,
   "toc_position": {
    "height": "calc(100% - 180px)",
    "left": "10px",
    "top": "150px",
    "width": "232.997px"
   },
   "toc_section_display": true,
   "toc_window_display": false
  },
  "toc-autonumbering": true
 },
 "nbformat": 4,
 "nbformat_minor": 4
}
