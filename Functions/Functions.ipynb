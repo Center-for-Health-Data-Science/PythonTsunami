{
 "cells": [
  {
   "cell_type": "markdown",
   "metadata": {
    "id": "CZGKlScEJ57p"
   },
   "source": [
    "<img src=\"https://github.com/Center-for-Health-Data-Science/PythonTsunami/blob/spring2022/figures/HeaDS_logo_large_withTitle.png?raw=1\" width=\"300\">\n",
    "\n",
    "<img src=\"https://github.com/Center-for-Health-Data-Science/PythonTsunami/blob/spring2022/figures/tsunami_logo.PNG?raw=1\" width=\"600\">\n",
    "\n",
    "[![Open In Colab](https://colab.research.google.com/assets/colab-badge.svg)](https://colab.research.google.com/github/Center-for-Health-Data-Science/PythonTsunami/blob/spring2022/Functions/Functions.ipynb)"
   ]
  },
  {
   "cell_type": "markdown",
   "metadata": {},
   "source": [
    "**For (anonymous) questions**, use this **[Padlet link](https://ucph.padlet.org/henrikezschach1/7f65ytua2sv0qt9g)**. "
   ]
  },
  {
   "cell_type": "markdown",
   "metadata": {
    "id": "XJNBhbJ1J57t"
   },
   "source": [
    "# Functions"
   ]
  },
  {
   "cell_type": "markdown",
   "metadata": {
    "id": "9lTsFLhdJ57x"
   },
   "source": [
    "**What is a function?**  \n",
    "You can think of functions like 'mini-programs' that take some input and convert it into the desired output: \n",
    "\n",
    "> Input &rarr; [Function] &rarr; Output  \n",
    "\n",
    "We use functions to simplify code. They allow us to specify a complex task and execute it repeatedly.\n",
    "\n",
    "You have already used functions such as `print()` and `int()`. We call these functions _built-in_ since they already exist in Python. We can also define our own functions using the keyword `def`:\n",
    "\n",
    "```python\n",
    "def name_of_the_function(parameter):\n",
    "    do something\n",
    "```\n",
    "\n",
    "* A function always starts with the keyword `def`.\n",
    "* Next, we need to give the function a name.\n",
    "* The name is followed by a pair of parentheses which _can_ contain one or several parameters (the input that is passed to the function). Note that we use parentheses when executing functions even if we don't pass any input to the function."
   ]
  },
  {
   "cell_type": "code",
   "execution_count": null,
   "metadata": {
    "id": "WJBhUwqILcnn"
   },
   "outputs": [],
   "source": [
    "# define the function\n",
    "def motivation():\n",
    "    return \"You are doing great!\""
   ]
  },
  {
   "cell_type": "code",
   "execution_count": null,
   "metadata": {
    "colab": {
     "base_uri": "https://localhost:8080/"
    },
    "executionInfo": {
     "elapsed": 483,
     "status": "ok",
     "timestamp": 1651239406593,
     "user": {
      "displayName": "Henrike Zschach",
      "userId": "10873369072901591129"
     },
     "user_tz": -120
    },
    "id": "CXfESZMgLfiA",
    "outputId": "4525c668-97c4-4d86-a735-3e8bc81fa30d"
   },
   "outputs": [],
   "source": [
    "# execute/call the function\n",
    "my_result = motivation()\n",
    "print(my_result)"
   ]
  },
  {
   "cell_type": "markdown",
   "metadata": {
    "id": "slQv5FPkJ578"
   },
   "source": [
    "## The `return` statement\n",
    "\n",
    "**Basics**  \n",
    "If you specify the `return` statement at the end of a function, it will create the specified output when you call the function. If you want to continue working with this output, you need to assign the output to a variable:\n",
    "\n",
    "```python\n",
    "def add_three(my_int):    #  define the function\n",
    "    return my_int + 3\n",
    "\n",
    "my_result = add_three(5)  # assign the output to a new variable\n",
    "```\n",
    "\n",
    "> Note: All functions have a return value. If you leave `return` unspecified, the function will simply return a `None` object.\n",
    "\n",
    "**Returning more than one output**  \n",
    "Depending on how you specify the `return` statement, your function can return more than one output:\n",
    "\n",
    "```python \n",
    "def fun_with_strings(my_string):\n",
    "    return my_string.upper(), my_string.lower(), my_string[::-1]   # return more than one output\n",
    "```\n",
    "\n",
    "**Several return statements**  \n",
    "The same function can incoporate several return statements as shown in the code below. Note: you can never reach both return statements. The first one that is reached will end the execution of the function, no matter what comes after.\n",
    "\n",
    "```python\n",
    "def even_odd(number):\n",
    "    if number % 2 == 0:\n",
    "        return 'This is an even number.'   # example of a function with two return statements\n",
    "    else:\n",
    "        return 'This is an odd number.'\n",
    "\n",
    "```"
   ]
  },
  {
   "cell_type": "code",
   "execution_count": null,
   "metadata": {
    "id": "xDnddTZrJ58E"
   },
   "outputs": [],
   "source": [
    "# return more than one output\n",
    "def fun_with_strings(my_string):\n",
    "    return my_string.upper(), my_string.lower(), my_string[::-1]\n",
    "\n",
    "# call the function\n",
    "fun_with_strings('Hello World!')"
   ]
  },
  {
   "cell_type": "code",
   "execution_count": null,
   "metadata": {},
   "outputs": [],
   "source": [
    "# several return statements based on conditions\n",
    "def even_odd(number):\n",
    "    if number % 2 == 0:\n",
    "        return 'This is an even number.'   # example of a function with two return statements\n",
    "    else:\n",
    "        return 'This is an odd number.'\n",
    "    \n",
    "# call the function\n",
    "even_odd(2)"
   ]
  },
  {
   "cell_type": "markdown",
   "metadata": {
    "id": "0xd3MrpyJ585"
   },
   "source": [
    "# Exercise 1\n",
    "\n",
    "_~10 minutes_\n",
    "\n",
    "Write a function that takes a number as the input and squares this number. Hint: Look at the example of `add_three` for how to define your function."
   ]
  },
  {
   "cell_type": "code",
   "execution_count": null,
   "metadata": {
    "id": "-Q4T0Bi1J585"
   },
   "outputs": [],
   "source": [
    "# define your function"
   ]
  },
  {
   "cell_type": "code",
   "execution_count": null,
   "metadata": {
    "id": "iEFd2MsoJ586"
   },
   "outputs": [],
   "source": [
    "# call your function here"
   ]
  },
  {
   "cell_type": "markdown",
   "metadata": {
    "id": "0PjH2etWJ58G"
   },
   "source": [
    "# Exercise 2\n",
    "\n",
    "_~ 10 minutes_\n",
    "\n",
    "The following function sums all the even numbers in a list. Create some test data like `my_list = [1,2,3,4,5,6]` and test the function by calling it on the list: `sum_even_numbers(my_list)`. Do you think the result is correct? How can you change the code to get the correct result?\n",
    "\n",
    "Hint: A common `return` mistake is returning too early in a loop."
   ]
  },
  {
   "cell_type": "code",
   "execution_count": null,
   "metadata": {
    "id": "Sb2QqGwCJ58H"
   },
   "outputs": [],
   "source": [
    "def sum_even_numbers(list_of_numbers):\n",
    "    total = 0\n",
    "    for number in list_of_numbers:\n",
    "        if number % 2 == 0:\n",
    "            total += number\n",
    "        return total"
   ]
  },
  {
   "cell_type": "code",
   "execution_count": null,
   "metadata": {
    "id": "OintC9bmozbq"
   },
   "outputs": [],
   "source": [
    "# your code goes here"
   ]
  },
  {
   "cell_type": "markdown",
   "metadata": {},
   "source": [
    "# Exercise 3\n",
    "\n",
    "_~ 5 minutes_\n",
    "\n",
    "Fill out the missing information in the example below. What are the parameters and what are the arguments in the above example?"
   ]
  },
  {
   "cell_type": "code",
   "execution_count": null,
   "metadata": {
    "id": "ux2lP0jbJ58K"
   },
   "outputs": [],
   "source": [
    "# define the function\n",
    "def add(a,b):\n",
    "    print(\"a+b: \", a+b)"
   ]
  },
  {
   "cell_type": "code",
   "execution_count": null,
   "metadata": {
    "id": "U7wXN6oYJ58N"
   },
   "outputs": [],
   "source": [
    "# data\n",
    "x = # you define a value\n",
    "y = # you define a value"
   ]
  },
  {
   "cell_type": "code",
   "execution_count": null,
   "metadata": {
    "colab": {
     "base_uri": "https://localhost:8080/"
    },
    "executionInfo": {
     "elapsed": 13,
     "status": "ok",
     "timestamp": 1649406179245,
     "user": {
      "displayName": "Henrike Zschach",
      "userId": "10873369072901591129"
     },
     "user_tz": -120
    },
    "id": "r8tWxmbiJ58O",
    "outputId": "6518fde6-aa6f-4052-9deb-96b057c299ad"
   },
   "outputs": [],
   "source": [
    "# call the function on x and y\n",
    "add(x, y)"
   ]
  },
  {
   "cell_type": "markdown",
   "metadata": {},
   "source": [
    "## Scope\n",
    "Variables that you create _inside_ of a function only live _inside_ of the function, but they do not exist on the outside:"
   ]
  },
  {
   "cell_type": "code",
   "execution_count": null,
   "metadata": {},
   "outputs": [],
   "source": [
    "def say_hello(instructor):\n",
    "    return \"Hello\" + instructor\n",
    "\n",
    "print(instructor) # NameError"
   ]
  },
  {
   "cell_type": "markdown",
   "metadata": {},
   "source": [
    "# Argument order\n",
    "\n",
    "The input which we pass to a function is called an _argument._ As shown in the example below, we can pass more than one argument if the function allows for it and the order in which we pass arguments matters here. Consider this example:\n",
    "\n",
    "```python\n",
    "def divide(a, b):\n",
    "    return a/b\n",
    "```\n",
    "\n",
    "If you call `divide(1, 2)`, then `a=1` and `b=2`, and the output is `0.5`.  \n",
    "If you call `divide(2, 1)`, then `a=2` and `b=1`, and the output is `2`."
   ]
  },
  {
   "cell_type": "code",
   "execution_count": null,
   "metadata": {},
   "outputs": [],
   "source": [
    "# the order of the arguments matters!\n",
    "def divide(a, b):\n",
    "    return a/b\n",
    "\n",
    "divide(1,2)"
   ]
  },
  {
   "cell_type": "markdown",
   "metadata": {
    "id": "6f_7DnacJ589"
   },
   "source": [
    "# Exercise 3  \n",
    "\n",
    "_~ 10 minutes_\n",
    "\n",
    "\n",
    "Write a function that takes two integers or floats as input (you can test for type if you feel up for it) and calculates their difference. It should return _positive_ if their difference is positive, _negative_ if their difference is negative and _same_ if there is no difference."
   ]
  },
  {
   "cell_type": "code",
   "execution_count": null,
   "metadata": {
    "id": "uoPJOFEIJ58-"
   },
   "outputs": [],
   "source": [
    "# define your function here"
   ]
  },
  {
   "cell_type": "code",
   "execution_count": null,
   "metadata": {
    "id": "TXjPSmisJ58-"
   },
   "outputs": [],
   "source": [
    "# define the input for your function\n",
    "x = 10\n",
    "y = 5"
   ]
  },
  {
   "cell_type": "code",
   "execution_count": null,
   "metadata": {
    "id": "Y0JuYp4eJ58-"
   },
   "outputs": [],
   "source": [
    "# test your function"
   ]
  },
  {
   "cell_type": "markdown",
   "metadata": {
    "id": "XtZS6UiCJ58_"
   },
   "source": [
    "# Exercise 4\n",
    "\n",
    "_~ 10 minutes_\n",
    "\n",
    "Write a function that returns **both** the sum of the first two inputs and the difference between the second and third input: "
   ]
  },
  {
   "cell_type": "code",
   "execution_count": null,
   "metadata": {
    "id": "7c1QZkFAJ58_"
   },
   "outputs": [],
   "source": [
    "# define your function here"
   ]
  },
  {
   "cell_type": "code",
   "execution_count": null,
   "metadata": {
    "id": "yrFVi7isJ58_"
   },
   "outputs": [],
   "source": [
    "# define the input for your function\n",
    "a = 10\n",
    "b = 15\n",
    "c = 20"
   ]
  },
  {
   "cell_type": "code",
   "execution_count": null,
   "metadata": {
    "id": "i4I_dernJ59A"
   },
   "outputs": [],
   "source": [
    "# test your function"
   ]
  },
  {
   "cell_type": "markdown",
   "metadata": {
    "id": "id8bgrPPJ59D"
   },
   "source": [
    "# Exercise 5\n",
    "\n",
    "_~20 minutes_  \n",
    "  \n",
    "We ask 20 people about their preferred holiday destination. Now, we want to use a function that helps us summarize the information about preferred holiday destinations in a dictionary. \n",
    "\n",
    "The function should do the following:\n",
    "1. Take the holiday destination (as a string) as input.\n",
    "2. Take a dictionary in which we collect info as a second input.\n",
    "3. If the destination does not exist in the dictionary yet, create a new key-value pair for it in the dictionary and set its value to 1.\n",
    "4. If the destination already exists in the dictionary, count the value up by one (+1)."
   ]
  },
  {
   "cell_type": "code",
   "execution_count": null,
   "metadata": {},
   "outputs": [],
   "source": [
    "# your code goes here"
   ]
  },
  {
   "cell_type": "code",
   "execution_count": null,
   "metadata": {},
   "outputs": [],
   "source": [
    "# test you function to see if it works"
   ]
  }
 ],
 "metadata": {
  "colab": {
   "collapsed_sections": [
    "0PjH2etWJ58G",
    "CJJRn966J58H",
    "pSWpD4qPJ58P",
    "rjfst3zRJ58P",
    "b10STM9ZJ58S",
    "AtHP-1j4J58Z",
    "wRkjzvbhJ58c",
    "T6HW8PTlJ58m",
    "15IX3bJQJ584",
    "tlf5W-HaJ584",
    "0xd3MrpyJ585",
    "AZ71tAAlJ586",
    "6f_7DnacJ589",
    "XtZS6UiCJ58_",
    "scfHhxxTJ59A",
    "gbCcXNhqJ59C",
    "id8bgrPPJ59D",
    "tpsct0qpJ59E",
    "XJ0AyQpWJ59G",
    "y00mCoaVJ59K"
   ],
   "name": "Functions_HZ.ipynb",
   "provenance": [
    {
     "file_id": "https://github.com/Center-for-Health-Data-Science/PythonTsunami/blob/spring2022/Functions/Functions.ipynb",
     "timestamp": 1649404260947
    }
   ]
  },
  "kernelspec": {
   "display_name": "Python 3",
   "language": "python",
   "name": "python3"
  },
  "language_info": {
   "codemirror_mode": {
    "name": "ipython",
    "version": 3
   },
   "file_extension": ".py",
   "mimetype": "text/x-python",
   "name": "python",
   "nbconvert_exporter": "python",
   "pygments_lexer": "ipython3",
   "version": "3.8.3"
  },
  "rise": {
   "scroll": true
  },
  "toc": {
   "base_numbering": 1,
   "nav_menu": {},
   "number_sections": true,
   "sideBar": true,
   "skip_h1_title": false,
   "title_cell": "Table of Contents",
   "title_sidebar": "Contents",
   "toc_cell": false,
   "toc_position": {
    "height": "calc(100% - 180px)",
    "left": "10px",
    "top": "150px",
    "width": "232.997px"
   },
   "toc_section_display": true,
   "toc_window_display": false
  },
  "toc-autonumbering": true
 },
 "nbformat": 4,
 "nbformat_minor": 1
}
