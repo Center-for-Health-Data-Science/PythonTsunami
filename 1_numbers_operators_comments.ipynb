{
 "cells": [
  {
   "cell_type": "markdown",
   "metadata": {
    "colab_type": "text",
    "id": "GA6eVAZ8vDmf"
   },
   "source": [
    "# Numerical Operators\n",
    "\n",
    "- prepared by [Katarina Nastou](https://www.cpr.ku.dk/staff/?pure=en/persons/672471)\n",
    "\n",
    "[![Open In Colab](https://colab.research.google.com/assets/colab-badge.svg)](https://colab.research.google.com/github/pythontsunami/teaching/blob/intro/1_numbers_operators_comments.ipynb)"
   ]
  },
  {
   "cell_type": "markdown",
   "metadata": {
    "colab_type": "text",
    "id": "GptYMRpSuasN"
   },
   "source": [
    "## Objectives\n",
    "- understand differences between ints and floats\n",
    "- work with simple math operators\n",
    "- add comments to your code"
   ]
  },
  {
   "cell_type": "markdown",
   "metadata": {
    "colab_type": "text",
    "id": "dIx5dioRuasS"
   },
   "source": [
    "## Numbers\n",
    "Two main types of numbers:\n",
    "- Integers: `56, 3, -90`\n",
    "- Floating Points: `5.666, 0.0, -8.9`"
   ]
  },
  {
   "cell_type": "markdown",
   "metadata": {
    "colab_type": "text",
    "id": "OgojobH6uasW"
   },
   "source": [
    "## Operators \n",
    "- addition: +\n",
    "- subtraction: -\n",
    "- multiplication: *\n",
    "- division: /\n",
    "- exponentiation: **\n",
    "- modulo: %\n",
    "- integer division: //"
   ]
  },
  {
   "cell_type": "markdown",
   "metadata": {
    "colab_type": "text",
    "id": "V3PQMg3GuasY"
   },
   "source": [
    "### Ints and Floats\n",
    "- Question 1: Which of the following numbers is NOT a float? \n",
    "        (a) 0 \n",
    "        (b) 2.3 \n",
    "        (c) 23.0 \n",
    "        (d) -23.0 \n",
    "        (e) 0.0\n",
    "\n",
    "- Question 2: What type does the following expression result in? \n",
    "        3.0 + 5"
   ]
  },
  {
   "cell_type": "markdown",
   "metadata": {
    "colab_type": "text",
    "id": "GlG2t-H-uasb"
   },
   "source": [
    "### Operators 1\n",
    "- Question 3: How can we add parenthesis to the following expression to make it equal 100? \n",
    "        1 + 9 * 10\n",
    "- Question 4: What is the result of the following expression?\n",
    "        3 + 14 * 2 + 4 * 5\n",
    "- Question 5: What is the result of the following expression\n",
    "        5 * 9 / 4 ** 3 - 6 * 7"
   ]
  },
  {
   "cell_type": "markdown",
   "metadata": {
    "colab_type": "text",
    "id": "1wU8A2FFuasg"
   },
   "source": [
    "### Comments\n",
    "- Question 6: What is the result of running this code? \n",
    "        15 / 3 * 2 # + 1 "
   ]
  },
  {
   "cell_type": "markdown",
   "metadata": {
    "colab_type": "text",
    "id": "RHUiqAaYuash"
   },
   "source": [
    "### Operators 2 \n",
    "- Question 7: Which of the following result in integers in Python? \n",
    "        (a) 8 / 2\n",
    "        (b) 3 // 2 \n",
    "        (c) 4.5 * 2\n",
    "\n",
    "- Question 8: What is the result of `18 // 3` ?\n",
    "\n",
    "- Question 9: What is the result of `121 % 7` ?"
   ]
  }
 ],
 "metadata": {
  "colab": {
   "collapsed_sections": [],
   "name": "numbers_operators_comments.ipynb",
   "provenance": [],
   "toc_visible": true
  },
  "kernelspec": {
   "display_name": "Python 3",
   "language": "python",
   "name": "python3"
  },
  "language_info": {
   "codemirror_mode": {
    "name": "ipython",
    "version": 3
   },
   "file_extension": ".py",
   "mimetype": "text/x-python",
   "name": "python",
   "nbconvert_exporter": "python",
   "pygments_lexer": "ipython3",
   "version": "3.7.7"
  }
 },
 "nbformat": 4,
 "nbformat_minor": 4
}
