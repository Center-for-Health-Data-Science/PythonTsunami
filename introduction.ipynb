{
 "cells": [
  {
   "cell_type": "markdown",
   "metadata": {},
   "source": [
    "# Python for Datascience\n",
    "\n",
    "- Henry Webel at [NNF CPR](https://www.cpr.ku.dk/staff/rasmussen-group/?pure=en/persons/662319)  [![Twitter](https://img.shields.io/twitter/url/https/twitter.com/cloudposse.svg?style=social&label=Follow%20%40Henrywebel)](https://twitter.com/henrywebel)\n",
    "\n",
    "[![Open In Colab](https://colab.research.google.com/assets/colab-badge.svg)](https://colab.research.google.com/github/pythontsunami/teaching/blob/intro/introduction.ipynb)"
   ]
  },
  {
   "cell_type": "markdown",
   "metadata": {
    "slideshow": {
     "slide_type": "subslide"
    }
   },
   "source": [
    "### Saving the notebook in Drive\n",
    "Save a copy in your drive if you want to save your changes: `File` -> `Save a copy in Drive`\n",
    "\n",
    "\n",
    "![Save Colab Notebook in Google Drive](figures/colab_save_in_drive.png)\n",
    "\n",
    "or \n",
    "\n",
    "![Save Colab Notebook in Google Drive](figures/colab_save_in_drive_2.png)\n"
   ]
  },
  {
   "cell_type": "markdown",
   "metadata": {
    "slideshow": {
     "slide_type": "fragment"
    }
   },
   "source": [
    "**Table of Contents in Colab**\n",
    "> Allows easier navigation\n",
    "\n",
    "![Table of content in Colab](figures/colab_toc.png)"
   ]
  },
  {
   "cell_type": "markdown",
   "metadata": {},
   "source": [
    "## What is Python?\n",
    "\n",
    "- a programming language?\n",
    "- a community of developers?\n",
    "- PyData? Jupyter? SciPy? NumPy?\n",
    "- A highlevel language to use many tools"
   ]
  },
  {
   "cell_type": "markdown",
   "metadata": {},
   "source": [
    "### An attempt for a great and beautiful programming language\n",
    "\n",
    "It's based on the idea to be readable, consistent and easy to learn. [Gido van Rossum](https://twitter.com/gvanrossum)\n",
    "\n",
    "> \"programming languages are how programmers express and communicate ideas — and the audience for those ideas is other programmers, not computers.\" ([king's day speach, 2016](http://neopythonic.blogspot.com/2016/04/kings-day-speech.html))"
   ]
  },
  {
   "cell_type": "code",
   "execution_count": null,
   "metadata": {},
   "outputs": [],
   "source": [
    "import this"
   ]
  },
  {
   "cell_type": "code",
   "execution_count": null,
   "metadata": {},
   "outputs": [],
   "source": [
    "love = this\n",
    "this is love"
   ]
  },
  {
   "cell_type": "code",
   "execution_count": null,
   "metadata": {},
   "outputs": [],
   "source": [
    "love is True"
   ]
  },
  {
   "cell_type": "code",
   "execution_count": null,
   "metadata": {},
   "outputs": [],
   "source": [
    "love is False"
   ]
  },
  {
   "cell_type": "code",
   "execution_count": null,
   "metadata": {},
   "outputs": [],
   "source": [
    "love is not True or False"
   ]
  },
  {
   "cell_type": "code",
   "execution_count": null,
   "metadata": {},
   "outputs": [],
   "source": [
    "love is love"
   ]
  },
  {
   "cell_type": "markdown",
   "metadata": {},
   "source": [
    "### Python Data model\n",
    "\n",
    "- everything is an object\n",
    "- syntax is calling so called `magic` - methods (`__truediv__` here)"
   ]
  },
  {
   "cell_type": "code",
   "execution_count": null,
   "metadata": {},
   "outputs": [],
   "source": [
    "12 / 4"
   ]
  },
  {
   "cell_type": "code",
   "execution_count": null,
   "metadata": {},
   "outputs": [],
   "source": [
    "a = 12\n",
    "a.__truediv__(4)"
   ]
  },
  {
   "cell_type": "code",
   "execution_count": null,
   "metadata": {},
   "outputs": [],
   "source": [
    "from pathlib import Path\n",
    "Path('path/to/') / \"file\""
   ]
  },
  {
   "cell_type": "code",
   "execution_count": null,
   "metadata": {},
   "outputs": [],
   "source": [
    "a = Path('path/to/')\n",
    "a.__truediv__(\"file\")"
   ]
  },
  {
   "cell_type": "code",
   "execution_count": null,
   "metadata": {},
   "outputs": [],
   "source": [
    "a = [1, 2, 6, 9]\n",
    "len(a)"
   ]
  },
  {
   "cell_type": "code",
   "execution_count": null,
   "metadata": {},
   "outputs": [],
   "source": [
    "# ?"
   ]
  },
  {
   "cell_type": "markdown",
   "metadata": {},
   "source": [
    "### Python clients\n",
    "\n",
    "Clients are a way to call other programs having a similar (and easier) API\n",
    "\n",
    "- pyspark\n",
    "- tensorflow\n",
    "- pytorch\n",
    "\n",
    "> Speaking python allows you to use many other tools by provided librariers or clients."
   ]
  },
  {
   "cell_type": "markdown",
   "metadata": {},
   "source": [
    "## Python for Datascience\n",
    "\n",
    "- data manipulation\n",
    "    - [pandas](https://pandas.pydata.org/pandas-docs/stable/user_guide/10min.html)\n",
    "    - [numpy](https://numpy.org/doc/stable/user/quickstart.html)\n",
    "- plotting\n",
    "    - [matplotlib](https://matplotlib.org/)\n",
    "    - [seaborn](https://seaborn.pydata.org/introduction.html)\n",
    "    - [pandas](https://pandas.pydata.org/pandas-docs/stable/user_guide/visualization.html)\n",
    "- machine learning (science of learning from data)\n",
    "    - [scikit-learn](https://scikit-learn.org/stable/)\n",
    "    - [tensorflow](https://www.tensorflow.org/)\n",
    "    - [pytorch](https://pytorch.org/)"
   ]
  },
  {
   "cell_type": "markdown",
   "metadata": {
    "slideshow": {
     "slide_type": "subslide"
    }
   },
   "source": [
    "### Pandas example\n",
    "\n",
    "#### European Centre for Disease Prevention and Control (ECDC)\n",
    "\n",
    "- [European Centre for Disease Prevention and Control (ECDC) - Testing data](ecdc.europa.eu/en/publications-data/covid-19-testing) and [ECDC daily numbers worldwide](https://www.ecdc.europa.eu/en/publications-data/download-todays-data-geographic-distribution-covid-19-cases-worldwide)"
   ]
  },
  {
   "cell_type": "code",
   "execution_count": null,
   "metadata": {
    "slideshow": {
     "slide_type": "fragment"
    }
   },
   "outputs": [],
   "source": [
    "import pandas as pd\n",
    "pd?"
   ]
  },
  {
   "cell_type": "code",
   "execution_count": null,
   "metadata": {
    "slideshow": {
     "slide_type": "fragment"
    }
   },
   "outputs": [],
   "source": [
    "url_ecdc_daily_cases = \"https://opendata.ecdc.europa.eu/covid19/casedistribution/csv/data.csv\"\n",
    "url_ecdc_weekly_testing = \"https://opendata.ecdc.europa.eu/covid19/testing/csv\"\n",
    "\n",
    "ecdc_daily_cases = pd.read_csv(url_ecdc_daily_cases, parse_dates=True, infer_datetime_format=True)\n",
    "ecdc_weekly_testing = pd.read_csv(url_ecdc_weekly_testing)"
   ]
  },
  {
   "cell_type": "code",
   "execution_count": null,
   "metadata": {
    "slideshow": {
     "slide_type": "fragment"
    }
   },
   "outputs": [],
   "source": [
    "ecdc_daily_cases.head()"
   ]
  },
  {
   "cell_type": "code",
   "execution_count": null,
   "metadata": {
    "slideshow": {
     "slide_type": "fragment"
    }
   },
   "outputs": [],
   "source": [
    "ecdc_daily_cases.dateRep = pd.to_datetime(ecdc_daily_cases.dateRep)\n",
    "ecdc_daily_cases.set_index('dateRep').head() # not persistent"
   ]
  },
  {
   "cell_type": "code",
   "execution_count": null,
   "metadata": {
    "slideshow": {
     "slide_type": "fragment"
    }
   },
   "outputs": [],
   "source": [
    "ecdc_weekly_testing.tail()"
   ]
  },
  {
   "cell_type": "code",
   "execution_count": null,
   "metadata": {},
   "outputs": [],
   "source": [
    "# ecdc_weekly_france = ecdc_weekly_testing.query('country == United Kingdom\")\n",
    "mask = ecdc_weekly_testing.country == \"France\"\n",
    "ecdc_weekly_france = ecdc_weekly_testing.loc[mask]"
   ]
  },
  {
   "cell_type": "markdown",
   "metadata": {},
   "source": [
    "Check out the documentation of [`pandas.DataFrame.plot`](https://pandas.pydata.org/pandas-docs/stable/reference/api/pandas.DataFrame.plot.html)"
   ]
  },
  {
   "cell_type": "code",
   "execution_count": null,
   "metadata": {},
   "outputs": [],
   "source": [
    "# will be method of a DataFrame instance\n",
    "# pd.DataFrame.plot?"
   ]
  },
  {
   "cell_type": "code",
   "execution_count": null,
   "metadata": {},
   "outputs": [],
   "source": [
    "ecdc_weekly_france.set_index(\"year_week\").plot(y='positivity_rate', rot=90)"
   ]
  },
  {
   "cell_type": "code",
   "execution_count": null,
   "metadata": {},
   "outputs": [],
   "source": [
    "slice?"
   ]
  },
  {
   "cell_type": "code",
   "execution_count": null,
   "metadata": {},
   "outputs": [],
   "source": [
    "df = ecdc_weekly_testing.set_index([\"year_week\", \"country\"])\n",
    "df.loc[(slice(None),\"France\"),:]"
   ]
  },
  {
   "cell_type": "code",
   "execution_count": null,
   "metadata": {},
   "outputs": [],
   "source": [
    "import matplotlib.pyplot as plt\n",
    "# fig, ax = plt.subplots(figsize=(15,15))\n",
    "ax = None\n",
    "_ = df[\"positivity_rate\"].unstack().plot(ax=ax, y=None, rot=90, xlabel='week')"
   ]
  },
  {
   "cell_type": "markdown",
   "metadata": {},
   "source": [
    "## Webprogramming"
   ]
  },
  {
   "cell_type": "markdown",
   "metadata": {},
   "source": [
    "### Native websites\n",
    "- [Django](https://www.djangoproject.com/), used for [large websites](https://hackernoon.com/10-popular-websites-built-with-django-906cc310aa0a)"
   ]
  },
  {
   "cell_type": "markdown",
   "metadata": {},
   "source": [
    "### Dashboards\n",
    "\n",
    "> mostly run locally, but can in principle be deployed\n",
    "\n",
    "- [dash](https://plotly.com/dash/)\n",
    "- [voila](https://github.com/voila-dashboards/voila)\n",
    "- [panel](https://panel.holoviz.org/)\n",
    " - [ipywidgets](https://ipywidgets.readthedocs.io/en/latest/)\n",
    "- [streamlit](https://www.streamlit.io/)"
   ]
  },
  {
   "cell_type": "markdown",
   "metadata": {},
   "source": [
    "## Integrated Development Environments\n",
    "\n",
    "IDEs are manifold\n",
    "- [VSCode](https://code.visualstudio.com/)\n",
    "- [spyder](https://www.spyder-ide.org/), try [here](https://mybinder.org/v2/gh/spyder-ide/spyder/4.x?urlpath=/desktop)\n",
    "- [jupyter lab](https://jupyter.org/)"
   ]
  },
  {
   "cell_type": "markdown",
   "metadata": {},
   "source": [
    "## Jupyter\n",
    "\n",
    "- python vs ipython\n",
    "- jupyter lab and notebook"
   ]
  },
  {
   "cell_type": "markdown",
   "metadata": {},
   "source": [
    "[magic functions](https://ipython.readthedocs.io/en/stable/interactive/magics.html), e.g. the [`%time`](https://ipython.readthedocs.io/en/stable/interactive/magics.html#magic-time) magic"
   ]
  },
  {
   "cell_type": "code",
   "execution_count": null,
   "metadata": {},
   "outputs": [],
   "source": [
    "%%time\n",
    "a = list(range(100_000_000)) # IPython is used in Notebooks"
   ]
  },
  {
   "cell_type": "code",
   "execution_count": null,
   "metadata": {},
   "outputs": [],
   "source": [
    "a[11314]"
   ]
  },
  {
   "cell_type": "markdown",
   "metadata": {},
   "source": [
    "Again, don't do this, but use numpy if you should really have need for it."
   ]
  },
  {
   "cell_type": "code",
   "execution_count": null,
   "metadata": {},
   "outputs": [],
   "source": [
    "%%time\n",
    "import numpy as np\n",
    "a = np.arange(100_000_000)\n",
    "a[11314]"
   ]
  },
  {
   "cell_type": "markdown",
   "metadata": {},
   "source": [
    "There are many utility functions shipped with IPython"
   ]
  },
  {
   "cell_type": "code",
   "execution_count": null,
   "metadata": {},
   "outputs": [],
   "source": [
    "from IPython.core.debugger import set_trace\n",
    "set_trace?"
   ]
  },
  {
   "cell_type": "code",
   "execution_count": null,
   "metadata": {},
   "outputs": [],
   "source": [
    "# Don't use this. There are whole libraries to do that.\n",
    "def remove_suffix(name,suffix=' '):\n",
    "    _list = name.split(suffix)\n",
    "#     set_trace()\n",
    "    if len(_list) > 1:\n",
    "        return \"\".join(_list[:-1])\n",
    "    else:\n",
    "        return _list[0]\n",
    "\n",
    "name = \"my/long/name.ext\"\n",
    "remove_suffix(name, suffix='.ext')"
   ]
  },
  {
   "cell_type": "code",
   "execution_count": null,
   "metadata": {},
   "outputs": [],
   "source": [
    "import os\n",
    "os.path.splitext(name)"
   ]
  },
  {
   "cell_type": "code",
   "execution_count": null,
   "metadata": {},
   "outputs": [],
   "source": [
    "from pathlib import Path\n",
    "Path(name).with_suffix('')"
   ]
  },
  {
   "cell_type": "markdown",
   "metadata": {},
   "source": [
    "How do you remember this? Do you? \n",
    "- [link](https://stackoverflow.com/a/3548689/9684872) to stackoverflow"
   ]
  },
  {
   "cell_type": "markdown",
   "metadata": {},
   "source": [
    "## Resources\n",
    "\n",
    "[learnpython.org](https://www.learnpython.org/)\n",
    "\n",
    "### For non-programmers\n",
    "\n",
    "- python.org [references](https://wiki.python.org/moin/BeginnersGuide/NonProgrammers)\n",
    "- Datacamp, Udemey, Coursera, codecademy, udacity, edx\n",
    "\n",
    "### For programmers (R, Java, C)\n",
    " - [official tutorial](https://docs.python.org/3/tutorial/)\n",
    " - [Fluent Python, 2021](https://www.oreilly.com/library/view/fluent-python-2nd/9781492056348/)\n",
    " - [introductions](https://wiki.python.org/moin/IntroductoryBooks)\n",
    " - [freecodecamp - intermediate](https://www.youtube.com/watch?v=HGOBQPFzWKo)\n",
    " - [Hitchhiker's Guide to Python](https://docs.python-guide.org/)"
   ]
  },
  {
   "cell_type": "code",
   "execution_count": null,
   "metadata": {},
   "outputs": [],
   "source": []
  }
 ],
 "metadata": {
  "kernelspec": {
   "display_name": "Python3.8 (tsunami)",
   "language": "python",
   "name": "tsunami"
  },
  "language_info": {
   "codemirror_mode": {
    "name": "ipython",
    "version": 3
   },
   "file_extension": ".py",
   "mimetype": "text/x-python",
   "name": "python",
   "nbconvert_exporter": "python",
   "pygments_lexer": "ipython3",
   "version": "3.8.5"
  }
 },
 "nbformat": 4,
 "nbformat_minor": 4
}
