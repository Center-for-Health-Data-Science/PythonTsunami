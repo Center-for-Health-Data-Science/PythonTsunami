{
 "cells": [
  {
   "cell_type": "markdown",
   "metadata": {},
   "source": [
    "### Exercise 1\n",
    "\n",
    "#### Calculate absolute difference\n",
    "\n",
    "Write a function that returns the absolute (positive) difference between two numbers."
   ]
  },
  {
   "cell_type": "code",
   "execution_count": 1,
   "metadata": {},
   "outputs": [],
   "source": [
    "a = 25\n",
    "b = 65"
   ]
  },
  {
   "cell_type": "code",
   "execution_count": 2,
   "metadata": {},
   "outputs": [],
   "source": [
    "def abs_difference(x, y):\n",
    "    diff = abs(x-y)\n",
    "    return diff"
   ]
  },
  {
   "cell_type": "code",
   "execution_count": 3,
   "metadata": {},
   "outputs": [
    {
     "data": {
      "text/plain": [
       "40"
      ]
     },
     "execution_count": 3,
     "metadata": {},
     "output_type": "execute_result"
    }
   ],
   "source": [
    "abs_difference(a,b)"
   ]
  },
  {
   "cell_type": "code",
   "execution_count": 4,
   "metadata": {},
   "outputs": [
    {
     "data": {
      "text/plain": [
       "60"
      ]
     },
     "execution_count": 4,
     "metadata": {},
     "output_type": "execute_result"
    }
   ],
   "source": [
    "abs_difference(-20,40)"
   ]
  },
  {
   "cell_type": "code",
   "execution_count": 5,
   "metadata": {},
   "outputs": [
    {
     "data": {
      "text/plain": [
       "10"
      ]
     },
     "execution_count": 5,
     "metadata": {},
     "output_type": "execute_result"
    }
   ],
   "source": [
    "abs_difference(0,-10)"
   ]
  },
  {
   "cell_type": "code",
   "execution_count": 6,
   "metadata": {},
   "outputs": [
    {
     "data": {
      "text/plain": [
       "10"
      ]
     },
     "execution_count": 6,
     "metadata": {},
     "output_type": "execute_result"
    }
   ],
   "source": [
    "abs_difference(-10,-20)"
   ]
  },
  {
   "cell_type": "markdown",
   "metadata": {},
   "source": [
    "### Exercise 2\n",
    "\n",
    "#### Calculate squares\n",
    "\n",
    "Write a function that returns the square root of the sum of squares of two numbers. \n",
    "\n",
    "> Hint: You can use `math.sqrt` to calculate the square root."
   ]
  },
  {
   "cell_type": "code",
   "execution_count": 11,
   "metadata": {},
   "outputs": [],
   "source": [
    "from math import sqrt\n",
    "sqrt(25)\n",
    "\n",
    "def square_root_of_squares(a,b):\n",
    "    res = sqrt(a**2 + b**2)\n",
    "    return res"
   ]
  },
  {
   "cell_type": "code",
   "execution_count": 12,
   "metadata": {},
   "outputs": [
    {
     "data": {
      "text/plain": [
       "4.47213595499958"
      ]
     },
     "execution_count": 12,
     "metadata": {},
     "output_type": "execute_result"
    }
   ],
   "source": [
    "square_root_of_squares(2,4)"
   ]
  },
  {
   "cell_type": "code",
   "execution_count": 13,
   "metadata": {},
   "outputs": [
    {
     "data": {
      "text/plain": [
       "4.47213595499958"
      ]
     },
     "execution_count": 13,
     "metadata": {},
     "output_type": "execute_result"
    }
   ],
   "source": [
    "#test:\n",
    "sqrt(4+16)"
   ]
  },
  {
   "cell_type": "code",
   "execution_count": 14,
   "metadata": {},
   "outputs": [
    {
     "data": {
      "text/plain": [
       "1.4142135623730951"
      ]
     },
     "execution_count": 14,
     "metadata": {},
     "output_type": "execute_result"
    }
   ],
   "source": [
    "square_root_of_squares(1,1)"
   ]
  },
  {
   "cell_type": "code",
   "execution_count": 15,
   "metadata": {},
   "outputs": [
    {
     "data": {
      "text/plain": [
       "4.47213595499958"
      ]
     },
     "execution_count": 15,
     "metadata": {},
     "output_type": "execute_result"
    }
   ],
   "source": [
    "#also works with negative numbers since we square\n",
    "square_root_of_squares(-2,4)"
   ]
  },
  {
   "cell_type": "markdown",
   "metadata": {},
   "source": [
    "### Exercise 3\n",
    "\n",
    "#### Indicate sign of difference betweem two numbers\n",
    "\n",
    "Write a function that substracts the second number from the first. Return \"Positive\" if their difference is positive, and \"Negative\" if their difference is negative."
   ]
  },
  {
   "cell_type": "code",
   "execution_count": 16,
   "metadata": {},
   "outputs": [],
   "source": [
    "#mind the edge case where difference == 0!\n",
    "def signed_diff(a,b):\n",
    "    res = a - b\n",
    "    if res > 0:\n",
    "        return 'Positive'\n",
    "    elif res < 0:\n",
    "        return 'Negative'\n",
    "    else:\n",
    "        return 'Equal'"
   ]
  },
  {
   "cell_type": "code",
   "execution_count": 17,
   "metadata": {},
   "outputs": [
    {
     "data": {
      "text/plain": [
       "'Negative'"
      ]
     },
     "execution_count": 17,
     "metadata": {},
     "output_type": "execute_result"
    }
   ],
   "source": [
    "signed_diff(1,10)"
   ]
  },
  {
   "cell_type": "code",
   "execution_count": 18,
   "metadata": {},
   "outputs": [
    {
     "data": {
      "text/plain": [
       "'Positive'"
      ]
     },
     "execution_count": 18,
     "metadata": {},
     "output_type": "execute_result"
    }
   ],
   "source": [
    "signed_diff(20,5)"
   ]
  },
  {
   "cell_type": "code",
   "execution_count": 19,
   "metadata": {},
   "outputs": [
    {
     "data": {
      "text/plain": [
       "'Equal'"
      ]
     },
     "execution_count": 19,
     "metadata": {},
     "output_type": "execute_result"
    }
   ],
   "source": [
    "signed_diff(10,10)"
   ]
  },
  {
   "cell_type": "code",
   "execution_count": 20,
   "metadata": {},
   "outputs": [
    {
     "data": {
      "text/plain": [
       "'Negative'"
      ]
     },
     "execution_count": 20,
     "metadata": {},
     "output_type": "execute_result"
    }
   ],
   "source": [
    "signed_diff(-10,-5)"
   ]
  },
  {
   "cell_type": "markdown",
   "metadata": {},
   "source": [
    "### Exercise 4\n",
    "\n",
    "#### Calculate sum and differences\n",
    "\n",
    "Write a function that returns **both** the sum of the first two inputs and the difference between the second and third input: "
   ]
  },
  {
   "cell_type": "code",
   "execution_count": 26,
   "metadata": {},
   "outputs": [],
   "source": [
    "def f4(a,b,c):\n",
    "    sum_1 = a + b\n",
    "    diff_2 = b - c\n",
    "    #here we return a tuple. we could also use a list.\n",
    "    return (sum_1, diff_2)"
   ]
  },
  {
   "cell_type": "code",
   "execution_count": 24,
   "metadata": {},
   "outputs": [
    {
     "data": {
      "text/plain": [
       "(3, -1)"
      ]
     },
     "execution_count": 24,
     "metadata": {},
     "output_type": "execute_result"
    }
   ],
   "source": [
    "f4(1,2,3)"
   ]
  },
  {
   "cell_type": "code",
   "execution_count": 25,
   "metadata": {},
   "outputs": [
    {
     "data": {
      "text/plain": [
       "(-1, -6)"
      ]
     },
     "execution_count": 25,
     "metadata": {},
     "output_type": "execute_result"
    }
   ],
   "source": [
    "f4(-5,4,10)"
   ]
  },
  {
   "cell_type": "markdown",
   "metadata": {},
   "source": [
    "### Exercise 5\n",
    "\n",
    "#### Function overloading: Different behaviour for `int` and `str`\n",
    "\n",
    "Write a function that adds two numbers together if the inputs are both numbers, and concatenates the inputs if they are both strings.\n",
    "\n",
    "> Hint: You can use built-in functions [`type`](https://docs.python.org/3/library/functions.html#type) or [`isinstance`](https://docs.python.org/3/library/functions.html#isinstance) to find out the type of a variable."
   ]
  },
  {
   "cell_type": "code",
   "execution_count": 39,
   "metadata": {},
   "outputs": [],
   "source": [
    "#actually, the + function in python is already overloaded and will do the sum on numbers and concatenation on strings\n",
    "def add_this(a,b):\n",
    "    if type(a) != type(b):\n",
    "        return 'Arguments have different types.'\n",
    "    \n",
    "    elif type(a) == str:\n",
    "        return a+b\n",
    "    \n",
    "    #the exercise text says int, but you can also add floats so I added that\n",
    "    elif type(a) == int or type(a) == float:\n",
    "        return a+b\n",
    "    \n",
    "    #edge case for whatever weird input the user might be give is the same type for both arugments but not int or str\n",
    "    else:\n",
    "        return f\"Cannot add type {type(a)} and {type(b)}\""
   ]
  },
  {
   "cell_type": "code",
   "execution_count": 40,
   "metadata": {},
   "outputs": [
    {
     "data": {
      "text/plain": [
       "3"
      ]
     },
     "execution_count": 40,
     "metadata": {},
     "output_type": "execute_result"
    }
   ],
   "source": [
    "add_this(1,2)"
   ]
  },
  {
   "cell_type": "code",
   "execution_count": 41,
   "metadata": {},
   "outputs": [
    {
     "data": {
      "text/plain": [
       "'HelloWorld'"
      ]
     },
     "execution_count": 41,
     "metadata": {},
     "output_type": "execute_result"
    }
   ],
   "source": [
    "add_this('Hello','World')"
   ]
  },
  {
   "cell_type": "code",
   "execution_count": 42,
   "metadata": {},
   "outputs": [
    {
     "data": {
      "text/plain": [
       "'Arguments have different types.'"
      ]
     },
     "execution_count": 42,
     "metadata": {},
     "output_type": "execute_result"
    }
   ],
   "source": [
    "add_this('Hi',3)"
   ]
  },
  {
   "cell_type": "code",
   "execution_count": 43,
   "metadata": {},
   "outputs": [
    {
     "data": {
      "text/plain": [
       "\"Cannot add type <class 'bool'> and <class 'bool'>\""
      ]
     },
     "execution_count": 43,
     "metadata": {},
     "output_type": "execute_result"
    }
   ],
   "source": [
    "add_this(True,False)"
   ]
  },
  {
   "cell_type": "markdown",
   "metadata": {},
   "source": [
    "## Group Exercises"
   ]
  },
  {
   "cell_type": "markdown",
   "metadata": {},
   "source": [
    "### Exercise 1\n",
    "\n",
    "#### Square numbers\n",
    "\n",
    "The code below squares all of the numbers and removes all of the strings from the list.  Make it into a function, **square_numbers**:\n",
    "\n",
    "```python\n",
    "data = [5, \"missing\", 54, \"bad\", 3, 6]\n",
    "good_data = []\n",
    "good_data_squared = []\n",
    "idx = 0\n",
    "while idx < len(data):\n",
    "    el = data[idx]\n",
    "    if isinstance(el, int):\n",
    "        good_data_squared.append(el ** 2)\n",
    "    idx += 1\n",
    "good_data_squared\n",
    "```\n"
   ]
  },
  {
   "cell_type": "code",
   "execution_count": 45,
   "metadata": {},
   "outputs": [],
   "source": [
    "#Note: I don't particularly care for while loops to iterate over lists so I changed the code to a for loop\n",
    "\n",
    "def square_numbers(my_list = None):\n",
    "    ret_list = []\n",
    "    \n",
    "    #decide what to do if there is no data given. \n",
    "    #We can also omit this part and make the my_list argument mandatory by removing the default value of None\n",
    "    #Though the user could still supply an empty list, so it's better to check that list is not empty\n",
    "    if not my_list:\n",
    "        print('No data supplied')\n",
    "        return ret_list\n",
    "    \n",
    "    #I could put this inside an else to the if above but I prefer to have one fewer level of indentation so I don't \n",
    "    for item in my_list:\n",
    "        if isinstance(item, int):\n",
    "            ret_list.append(item**2)\n",
    "            \n",
    "    return ret_list        "
   ]
  },
  {
   "cell_type": "code",
   "execution_count": 46,
   "metadata": {},
   "outputs": [],
   "source": [
    "data = [5, \"missing\", 54, \"bad\", 3, 6]"
   ]
  },
  {
   "cell_type": "code",
   "execution_count": 47,
   "metadata": {},
   "outputs": [
    {
     "data": {
      "text/plain": [
       "[25, 2916, 9, 36]"
      ]
     },
     "execution_count": 47,
     "metadata": {},
     "output_type": "execute_result"
    }
   ],
   "source": [
    "square_numbers(data)"
   ]
  },
  {
   "cell_type": "code",
   "execution_count": 48,
   "metadata": {},
   "outputs": [
    {
     "name": "stdout",
     "output_type": "stream",
     "text": [
      "No data supplied\n"
     ]
    },
    {
     "data": {
      "text/plain": [
       "[]"
      ]
     },
     "execution_count": 48,
     "metadata": {},
     "output_type": "execute_result"
    }
   ],
   "source": [
    "square_numbers([])"
   ]
  },
  {
   "cell_type": "code",
   "execution_count": 49,
   "metadata": {},
   "outputs": [
    {
     "name": "stdout",
     "output_type": "stream",
     "text": [
      "No data supplied\n"
     ]
    },
    {
     "data": {
      "text/plain": [
       "[]"
      ]
     },
     "execution_count": 49,
     "metadata": {},
     "output_type": "execute_result"
    }
   ],
   "source": [
    "square_numbers()"
   ]
  },
  {
   "cell_type": "markdown",
   "metadata": {},
   "source": [
    "### Exercise 2\n",
    "\n",
    "#### Calculate the standard deviation\n",
    "\n",
    "The code below calculates the **standard deviation** of the data.  Put it in a function called **`standard_deviation`** and use the function on the data:\n",
    "\n",
    "```python\n",
    "import math\n",
    "\n",
    "data = [2, 6, 8, 2, 5, 8, 9, 2]\n",
    "\n",
    "mean = 0\n",
    "std = 0\n",
    "for el in data:\n",
    "    mean += el / len(data)\n",
    "dev_squareds = []\n",
    "for el in data:\n",
    "    dev = (el - mean) ** 2\n",
    "    dev_squareds.append(dev)\n",
    "sum_dev_squareds = sum(dev_squareds)\n",
    "standard_dev = sum_dev_squareds / len(data) * 1.\n",
    "standard_dev = math.sqrt(standard_dev)\n",
    "standard_dev\n",
    "```\n",
    "\n",
    "**Note**: We do not actually recommend to calc the standard deviation yourself. Use the pandas attribute `.std()` on a series instead. \n"
   ]
  },
  {
   "cell_type": "code",
   "execution_count": 60,
   "metadata": {},
   "outputs": [],
   "source": [
    "import math\n",
    "def std_dev(data): \n",
    "    mean = 0\n",
    "    std = 0\n",
    "    \n",
    "    for el in data:\n",
    "        mean += el / len(data)\n",
    "    \n",
    "    dev_squareds = []\n",
    "    for el in data:\n",
    "        dev = (el - mean) ** 2\n",
    "        dev_squareds.append(dev)\n",
    "    \n",
    "    sum_dev_squareds = sum(dev_squareds)\n",
    "    \n",
    "    standard_dev = sum_dev_squareds / len(data) * 1.\n",
    "    standard_dev = math.sqrt(standard_dev)\n",
    "    return standard_dev"
   ]
  },
  {
   "cell_type": "code",
   "execution_count": 61,
   "metadata": {},
   "outputs": [],
   "source": [
    "data = [2, 6, 8, 2, 5, 8, 9, 2]"
   ]
  },
  {
   "cell_type": "code",
   "execution_count": 62,
   "metadata": {},
   "outputs": [
    {
     "data": {
      "text/plain": [
       "2.7726341266023544"
      ]
     },
     "execution_count": 62,
     "metadata": {},
     "output_type": "execute_result"
    }
   ],
   "source": [
    "std_dev(data)"
   ]
  },
  {
   "cell_type": "code",
   "execution_count": 65,
   "metadata": {},
   "outputs": [
    {
     "data": {
      "text/plain": [
       "2.7726341266023544"
      ]
     },
     "execution_count": 65,
     "metadata": {},
     "output_type": "execute_result"
    }
   ],
   "source": [
    "#using the pandas library\n",
    "import pandas as pd\n",
    "#first, cast the list into a series with pd.Series(), then apply .std().\n",
    "#We use ddof = 0 to get the same result as in our manual calc since pandas by default corrects \n",
    "#the std with N – 1 instead of N\n",
    "pd.Series(data).std(ddof = 0)"
   ]
  },
  {
   "cell_type": "markdown",
   "metadata": {},
   "source": [
    "### Exercise 3\n",
    "\n",
    "#### Bootstrap mean\n",
    "\n",
    "The code below generates a **bootstrap** sample of the data, getting a random selection of the data **boot_n** times and calculating the mean of that sample, so that many estimates of the mean can be made from a single dataset.  Put it in a function called **bootstrap_means**.\n",
    "\n",
    "```python\n",
    "import random\n",
    "\n",
    "data = [2, 6, 8, 2, 5, 8, 9, 2, 6, 2, 10]\n",
    "n_boot = 5\n",
    "means = []\n",
    "for rep in range(n_boot):\n",
    "    sample = random.choices(data, k=len(data))\n",
    "    mean = sum(sample) / len(sample)\n",
    "    rep = rep * 2\n",
    "    means.append(mean)\n",
    "means\n",
    "\n",
    "```"
   ]
  },
  {
   "cell_type": "code",
   "execution_count": 66,
   "metadata": {},
   "outputs": [],
   "source": [
    "data = [2, 6, 8, 2, 5, 8, 9, 2, 6, 2, 10]"
   ]
  },
  {
   "cell_type": "code",
   "execution_count": 73,
   "metadata": {},
   "outputs": [],
   "source": [
    "#lets be good people and also document our function\n",
    "import random\n",
    "\n",
    "def bootstrap_means(data, n_boot = 5):\n",
    "    \"\"\"A function that calculates means on a bootstrapped sample of the data\n",
    "\n",
    "    Parameters\n",
    "    ----------\n",
    "    data : list\n",
    "        The list of values.\n",
    "    n_boot : int\n",
    "        number of times we sub-sample the data.  \n",
    "    \"\"\"\n",
    "    means = []\n",
    "    if not data:\n",
    "        print('No data supplied')\n",
    "        return means\n",
    "    \n",
    "    for rep in range(n_boot):\n",
    "        sample = random.choices(data, k=len(data))\n",
    "        mean = sum(sample) / len(sample)\n",
    "        rep = rep * 2\n",
    "        means.append(mean)\n",
    "    return means"
   ]
  },
  {
   "cell_type": "code",
   "execution_count": 74,
   "metadata": {},
   "outputs": [
    {
     "data": {
      "text/plain": [
       "[4.181818181818182,\n",
       " 4.818181818181818,\n",
       " 6.090909090909091,\n",
       " 5.2727272727272725,\n",
       " 5.181818181818182]"
      ]
     },
     "execution_count": 74,
     "metadata": {},
     "output_type": "execute_result"
    }
   ],
   "source": [
    "bootstrap_means(data)"
   ]
  },
  {
   "cell_type": "code",
   "execution_count": 75,
   "metadata": {},
   "outputs": [
    {
     "data": {
      "text/plain": [
       "[4.636363636363637,\n",
       " 5.545454545454546,\n",
       " 4.545454545454546,\n",
       " 5.909090909090909,\n",
       " 6.2727272727272725,\n",
       " 5.0,\n",
       " 6.0,\n",
       " 5.454545454545454,\n",
       " 6.2727272727272725,\n",
       " 5.818181818181818]"
      ]
     },
     "execution_count": 75,
     "metadata": {},
     "output_type": "execute_result"
    }
   ],
   "source": [
    "bootstrap_means(data,10)"
   ]
  },
  {
   "cell_type": "code",
   "execution_count": 77,
   "metadata": {},
   "outputs": [
    {
     "name": "stdout",
     "output_type": "stream",
     "text": [
      "No data supplied\n"
     ]
    },
    {
     "data": {
      "text/plain": [
       "[]"
      ]
     },
     "execution_count": 77,
     "metadata": {},
     "output_type": "execute_result"
    }
   ],
   "source": [
    "bootstrap_means([])"
   ]
  },
  {
   "cell_type": "markdown",
   "metadata": {},
   "source": [
    "### Exercise 4\n",
    "\n",
    "#### Build a function to modify a file\n",
    "\n",
    "Based on what we have seen in the previous lectures (Importing data, Conditionals and Loops): \n",
    "\n",
    "Build a function that takes as parameter the name of a country, then reads the file 'data/sample.txt', checks if the country exists in the file and if it doesn't the function should add it as a new line and otherwise print out that the country already exists (You can use a formatted string).\n",
    "\n",
    "**Note**: We haven't talked about opening files outside of pandas data import so I'm just gonna put the solution as an example how to read files line by line and using file handles. In order to test this you need to create a file 'data/sample.txt' in the same directory as this script so the script can find it."
   ]
  },
  {
   "cell_type": "code",
   "execution_count": null,
   "metadata": {},
   "outputs": [],
   "source": [
    "def add_country(country_name):\n",
    "    country_set = set()\n",
    "    #open file in read mode 'r'\n",
    "    with open('data/sample.txt', 'r') as IN:\n",
    "        for line in IN:\n",
    "            #we'll strip of newlines before adding to our set of countries\n",
    "            country_set.add(line.rstrip())\n",
    "    \n",
    "    #we're outside the with block now, the file has been closed. We need to open the file again in append mode 'a'\n",
    "    if not country_name in country_set:\n",
    "        with open('data/sample.txt', 'a') as OUT:\n",
    "            #print to the filehandle instead of the standard output with the 'file' argument\n",
    "            print(country_name, file = OUT)\n",
    "        return f'Added {country_name}.'    \n",
    "    else:\n",
    "        return f'Country {country_name} exists already in file.'\n",
    "    "
   ]
  },
  {
   "cell_type": "markdown",
   "metadata": {},
   "source": [
    "Refactoring Code is left as an exercise to the reader. We already optimized some of the code in the solutions."
   ]
  },
  {
   "cell_type": "code",
   "execution_count": null,
   "metadata": {},
   "outputs": [],
   "source": []
  }
 ],
 "metadata": {
  "kernelspec": {
   "display_name": "Python 3",
   "language": "python",
   "name": "python3"
  },
  "language_info": {
   "codemirror_mode": {
    "name": "ipython",
    "version": 3
   },
   "file_extension": ".py",
   "mimetype": "text/x-python",
   "name": "python",
   "nbconvert_exporter": "python",
   "pygments_lexer": "ipython3",
   "version": "3.8.5"
  }
 },
 "nbformat": 4,
 "nbformat_minor": 4
}
