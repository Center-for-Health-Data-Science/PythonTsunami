{
 "cells": [
  {
   "cell_type": "markdown",
   "metadata": {
    "slideshow": {
     "slide_type": "slide"
    }
   },
   "source": [
    "<img src=\"../figures/HeaDS_logo_large_withTitle.png\" width=\"300\">\n",
    "\n",
    "<img src=\"../figures/tsunami_logo.PNG\" width=\"600\">\n",
    "\n",
    "[![Open In Colab](https://colab.research.google.com/assets/colab-badge.svg)](https://colab.research.google.com/github/Center-for-Health-Data-Science/PythonTsunami/blob/fall2021/Data_structures/lists.ipynb)\n"
   ]
  },
  {
   "cell_type": "markdown",
   "metadata": {
    "colab_type": "text",
    "id": "U8oOVXRObhT6",
    "slideshow": {
     "slide_type": "slide"
    }
   },
   "source": [
    "# Containers\n",
    "\n",
    "*Prepared by [Katarina Nastou](https://www.cpr.ku.dk/staff/?pure=en/persons/672471)*\n",
    "\n",
    "*Note: This notebook's contents have been adapted from Colt Steele's slides used in \"[Modern Python 3 Bootcamp Course](https://www.udemy.com/course/the-modern-python3-bootcamp/)\" on Udemy*"
   ]
  },
  {
   "cell_type": "markdown",
   "metadata": {
    "colab_type": "text",
    "id": "9g_buV4bbmjm",
    "slideshow": {
     "slide_type": "subslide"
    }
   },
   "source": [
    "## Overview\n",
    "\n",
    "- [Lists](#Lists)\n",
    "- [Sets](#Sets)\n",
    "- [Dictionaries](#Dictionaries)\n",
    "- [Tuples](#Tuples)"
   ]
  },
  {
   "cell_type": "markdown",
   "metadata": {},
   "source": [
    "# Containers\n",
    "You were previously introduced to the following basic data types in Python: ``Boolean``, ``int``, ``float`` and ``str``. There are more fundamental data structures in Python which you will learn about in this notebook. These data types are like containers that can contain several items or elements. In particular, this notebook covers:\n",
    "\n",
    "* ``list``\n",
    "* ``dictionary``\n",
    "* ``tuple``\n",
    "* ``set``"
   ]
  },
  {
   "cell_type": "markdown",
   "metadata": {},
   "source": [
    "# Lists\n",
    "\n",
    "> A list is a container of ordered items that can be accessed by their index.\n",
    "\n",
    "* To create an empty list:\n",
    "    * use square breackets ``[]``\n",
    "    * use the built-in fuction ``list()``\n",
    "* The items in a list are separated by commas."
   ]
  },
  {
   "cell_type": "code",
   "execution_count": null,
   "metadata": {},
   "outputs": [],
   "source": [
    "tasks = [\"Install Python\", \"Learn Python\", \"Take a break\"]"
   ]
  },
  {
   "cell_type": "markdown",
   "metadata": {},
   "source": [
    "* To find out how many elements there are in a list, you can use the built-in function ``len``."
   ]
  },
  {
   "cell_type": "code",
   "execution_count": null,
   "metadata": {},
   "outputs": [],
   "source": [
    "len(tasks)"
   ]
  },
  {
   "cell_type": "markdown",
   "metadata": {
    "colab_type": "text",
    "id": "Xxg8pJi5czAg",
    "slideshow": {
     "slide_type": "slide"
    }
   },
   "source": [
    "## Slicing: accessing values in a ``list``\n",
    "\n",
    "The elements in a list are ordered and they can be accessed by their index. Lists start counting at ``0``,  i.e. the first element in your list lives at the index position ``0``. "
   ]
  },
  {
   "cell_type": "code",
   "execution_count": null,
   "metadata": {
    "colab": {
     "base_uri": "https://localhost:8080/",
     "height": 234
    },
    "colab_type": "code",
    "executionInfo": {
     "elapsed": 961,
     "status": "error",
     "timestamp": 1583776824852,
     "user": {
      "displayName": "Catherine Nst",
      "photoUrl": "",
      "userId": "00118750132604534762"
     },
     "user_tz": -60
    },
    "id": "S9KidDpNdCTV",
    "outputId": "449b9a10-6943-41b6-f2a2-063259452506",
    "scrolled": true,
    "slideshow": {
     "slide_type": "fragment"
    }
   },
   "outputs": [],
   "source": [
    "friends = [\"Ashley\", \"Matt\", \"Michael\"]\n",
    "print(friends[0]) \n",
    "print(friends[2]) \n",
    "print(friends[3]) # IndexError"
   ]
  },
  {
   "cell_type": "markdown",
   "metadata": {
    "colab_type": "text",
    "id": "tslhA20TdN--",
    "slideshow": {
     "slide_type": "subslide"
    }
   },
   "source": [
    "**To access values from the end**, you can use a negative number to index backwards:"
   ]
  },
  {
   "cell_type": "code",
   "execution_count": null,
   "metadata": {
    "colab": {},
    "colab_type": "code",
    "id": "sNTpreo8dNjJ",
    "slideshow": {
     "slide_type": "fragment"
    }
   },
   "outputs": [],
   "source": [
    "friends = [\"Ashley\", \"Matt\", \"Michael\"]\n",
    "print(friends[-1]) \n",
    "print(friends[-3]) \n",
    "print(friends[-4]) # IndexError"
   ]
  },
  {
   "cell_type": "markdown",
   "metadata": {
    "colab_type": "text",
    "id": "gT4HfJxCdXsD",
    "slideshow": {
     "slide_type": "subslide"
    }
   },
   "source": [
    "**To check if a value is in a list**, you can use the ``in`` operator:"
   ]
  },
  {
   "cell_type": "code",
   "execution_count": null,
   "metadata": {
    "colab": {
     "base_uri": "https://localhost:8080/",
     "height": 52
    },
    "colab_type": "code",
    "executionInfo": {
     "elapsed": 834,
     "status": "ok",
     "timestamp": 1583776944986,
     "user": {
      "displayName": "Catherine Nst",
      "photoUrl": "",
      "userId": "00118750132604534762"
     },
     "user_tz": -60
    },
    "id": "lNx_OJ7AdbNh",
    "outputId": "858c83e4-11ff-4662-d116-7e1dd3ab0498",
    "slideshow": {
     "slide_type": "fragment"
    }
   },
   "outputs": [],
   "source": [
    "friends = [\"Ashley\", \"Matt\", \"Michael\"]\n",
    "print(\"Ashley\" in friends) \n",
    "print(\"Jason\" in friends)"
   ]
  },
  {
   "cell_type": "markdown",
   "metadata": {},
   "source": [
    "**To access several elements at once**, you can use a technique called _slicing:_\n",
    "\n",
    "```python\n",
    "    some_list[start:end:step]\n",
    "```\n",
    "\n",
    "1. **First parameter:** ``start``  \n",
    "Tell Python which index to start slicing from. If you enter a negative number, it will start the slice back from the end."
   ]
  },
  {
   "cell_type": "code",
   "execution_count": 16,
   "metadata": {},
   "outputs": [
    {
     "name": "stdout",
     "output_type": "stream",
     "text": [
      "[2, 3, 4, 5, 6, 7]\n",
      "[4, 5, 6, 7]\n",
      "[5, 6, 7]\n"
     ]
    }
   ],
   "source": [
    "first_list = [1, 2, 3, 4, 5, 6, 7]\n",
    "\n",
    "# slice from index 1 (this is the second element in the list)\n",
    "print(first_list[1:])\n",
    "\n",
    "# slice from index 3\n",
    "print(first_list[3:]) \n",
    "\n",
    "# slice from third element backwards\n",
    "print(first_list[-3:])"
   ]
  },
  {
   "cell_type": "markdown",
   "metadata": {},
   "source": [
    "2. **Second parameter:** ``end``  \n",
    "Specifies the index to copy up to (excluding the last one). Negative numbers specify how many items to exclude from the end (i.e. indexing by counting backwards)."
   ]
  },
  {
   "cell_type": "code",
   "execution_count": 17,
   "metadata": {},
   "outputs": [
    {
     "name": "stdout",
     "output_type": "stream",
     "text": [
      "[1, 2]\n",
      "[2, 3, 4]\n",
      "[1, 2, 3, 4, 5, 6]\n"
     ]
    }
   ],
   "source": [
    "# slice up to (but excluding) index 2\n",
    "print(first_list[:2]) \n",
    "\n",
    "# slice starting from index 1 up to (but excluding) index 4\n",
    "print(first_list[1:4]) \n",
    "\n",
    "# slice up to the (but excluding) the last element\n",
    "# = the first element from the end\n",
    "print(first_list[:-1])"
   ]
  },
  {
   "cell_type": "markdown",
   "metadata": {},
   "source": [
    "3. **Third parameter:** ``step``  \n",
    "The ``step`` indicates the number to count at a time. E.g. a step of ``2`` only counts every second number in the list. We can reverse the order by using negative values for the ``step`` parameter."
   ]
  },
  {
   "cell_type": "code",
   "execution_count": 19,
   "metadata": {},
   "outputs": [
    {
     "name": "stdout",
     "output_type": "stream",
     "text": [
      "[1, 3, 5, 7]\n",
      "[2, 1]\n",
      "[7, 6, 5, 4, 3]\n"
     ]
    }
   ],
   "source": [
    "# access entire list from start to end, but only count every other element\n",
    "print(first_list[::2])\n",
    "\n",
    "# start at index 1 and count backwards\n",
    "print(first_list[1::-1])\n",
    "      \n",
    "# access list from the end and count backwards\n",
    "print(first_list[:1:-1])"
   ]
  },
  {
   "cell_type": "markdown",
   "metadata": {},
   "source": [
    "## Nested Lists\n",
    "Lists can contain any kind of element, even other lists!\n",
    "To access an element in a sublist of a list, you first need to access the sublist by its index and then the element in the sublist by its index."
   ]
  },
  {
   "cell_type": "code",
   "execution_count": 21,
   "metadata": {},
   "outputs": [
    {
     "data": {
      "text/plain": [
       "2"
      ]
     },
     "execution_count": 21,
     "metadata": {},
     "output_type": "execute_result"
    }
   ],
   "source": [
    "nested_list = [[1, 2, 3], [4, 5, 6], [7, 8, 9]]\n",
    "nested_list[0][1] # access 2"
   ]
  },
  {
   "cell_type": "markdown",
   "metadata": {},
   "source": [
    "## Note on slicing\n",
    "The same slicing techniques that work for lists, also work for strings. You can access individual characters in a string and define a ``start``, ``stop`` and ``step`` parameter when slicing strings: ``some_string[start:end:step]``."
   ]
  },
  {
   "cell_type": "code",
   "execution_count": 17,
   "metadata": {},
   "outputs": [
    {
     "name": "stdout",
     "output_type": "stream",
     "text": [
      "!nuf si gnimmargorP\n"
     ]
    }
   ],
   "source": [
    "my_string = \"Programming is fun!\"\n",
    "print(my_string[::-1]) # print string backwards"
   ]
  },
  {
   "cell_type": "markdown",
   "metadata": {},
   "source": [
    "### Exercise 1\n",
    "1. Define a list called `random_things` that is at least 4 elements long.  The data is completely up to you, but it must contain at least 1 `str` and 1 `float`. \n",
    "2. Use the ``len`` function to check if your list is indeed 4 elements long."
   ]
  },
  {
   "cell_type": "code",
   "execution_count": null,
   "metadata": {},
   "outputs": [],
   "source": [
    "# your code goes here"
   ]
  },
  {
   "cell_type": "markdown",
   "metadata": {
    "colab_type": "text",
    "id": "rYl080_XJen9",
    "slideshow": {
     "slide_type": "subslide"
    }
   },
   "source": [
    "### Exercise 2\n",
    "\n",
    "1. The list below contains a few spelling errors. Correct the entries in the list **by accessing an element by its index** and assigning a new string.\n",
    "    - Change \"Petre\" to \"Peter\"\n",
    "    - Change \"Monika\" to \"Monica\"\n",
    "    - Change \"george\" to \"George\" (capitalize it)\n",
    "    \n",
    "2. Access the name \"Louis\" from the list. Then access the last two characters of that string and print them backwards."
   ]
  },
  {
   "cell_type": "code",
   "execution_count": 22,
   "metadata": {
    "colab": {},
    "colab_type": "code",
    "id": "oIVGbBjzJsGp",
    "slideshow": {
     "slide_type": "fragment"
    }
   },
   "outputs": [],
   "source": [
    "# DON'T CHANGE ANYTHING UP HERE!\n",
    "people = [\"Petre\",\"Joanna\",\"Louis\",\"Angie\",\"Monika\",\"george\"]\n",
    "# DON'T CHANGE ANYTHING UP HERE!\n",
    "\n",
    "# your code goes here"
   ]
  },
  {
   "cell_type": "markdown",
   "metadata": {},
   "source": [
    "### Exercise 3: Quiz\n",
    "- **Question 1**: Given a list `numbers = [1,2,3,4]`  - what does `numbers[::-1]`  return?\n",
    "\n",
    "    (a) `[1,2,3,4]`  \n",
    "    (b) `[1,4]`  \n",
    "    (c) `[4,3,2,1]`  \n",
    "    (d) `[4]`  \n",
    "    \n",
    "- **Question 2**: Given a list `numbers = [1,2,3,4]`  - what does `numbers[1:3]`  return?\n",
    "\n",
    "    (a) `[1,2,3]`  \n",
    "    (b) `[2,3]`   \n",
    "    (c) `[2,3,4]`  \n",
    "    (d) `[1,2]`  \n",
    "    (e) `[3]`  \n",
    "    \n",
    "- **Question 3**: Given a list `numbers = [1,2,3,4]`  - what does `numbers[-2]`  return?\n",
    "\n",
    "    (a) `[3]`  \n",
    "    (b) `3`  \n",
    "    (c) `[1,2,3]`  \n",
    "    (d) `[2]`  \n",
    "    (e) `2`  "
   ]
  },
  {
   "cell_type": "code",
   "execution_count": null,
   "metadata": {},
   "outputs": [],
   "source": [
    "# your code goes here"
   ]
  },
  {
   "cell_type": "markdown",
   "metadata": {
    "colab_type": "text",
    "id": "lAqWTd6jeFlg",
    "slideshow": {
     "slide_type": "slide"
    }
   },
   "source": [
    "## List Methods\n",
    "\n",
    "Working with lists is very common - there are quite a few things we can do!\n",
    "\n",
    "**Adding elements to a list:**\n",
    "* ``append``: add an item to the end of the list.\n",
    "* ``extend``: add to the end of a list all values passed to extend.\n",
    "* ``insert``: insert an item at a given position. "
   ]
  },
  {
   "cell_type": "code",
   "execution_count": null,
   "metadata": {},
   "outputs": [],
   "source": [
    "first_list = [1, 2, 3, 4]"
   ]
  },
  {
   "cell_type": "code",
   "execution_count": 22,
   "metadata": {
    "colab": {
     "base_uri": "https://localhost:8080/",
     "height": 34
    },
    "colab_type": "code",
    "executionInfo": {
     "elapsed": 851,
     "status": "ok",
     "timestamp": 1583777128609,
     "user": {
      "displayName": "Catherine Nst",
      "photoUrl": "",
      "userId": "00118750132604534762"
     },
     "user_tz": -60
    },
    "id": "5_vJErJOeP2Z",
    "outputId": "cd8408b3-3f74-4d05-c676-bf28bf5a22c4",
    "slideshow": {
     "slide_type": "fragment"
    }
   },
   "outputs": [
    {
     "name": "stdout",
     "output_type": "stream",
     "text": [
      "[1, 2, 3, 4, 5]\n"
     ]
    }
   ],
   "source": [
    "# append\n",
    "first_list.append(5)\n",
    "print(first_list)"
   ]
  },
  {
   "cell_type": "code",
   "execution_count": 25,
   "metadata": {
    "colab": {
     "base_uri": "https://localhost:8080/",
     "height": 34
    },
    "colab_type": "code",
    "executionInfo": {
     "elapsed": 903,
     "status": "ok",
     "timestamp": 1583777227119,
     "user": {
      "displayName": "Catherine Nst",
      "photoUrl": "",
      "userId": "00118750132604534762"
     },
     "user_tz": -60
    },
    "id": "7cKbC3ecediY",
    "outputId": "321160d5-f965-41a8-e5df-befd9be757fa",
    "slideshow": {
     "slide_type": "fragment"
    }
   },
   "outputs": [
    {
     "name": "stdout",
     "output_type": "stream",
     "text": [
      "[1, 2, 3, 4, 5, 6, 7, 8]\n"
     ]
    }
   ],
   "source": [
    "# extend\n",
    "correct_list = [1, 2, 3, 4]\n",
    "correct_list.extend([5, 6, 7, 8])\n",
    "print(correct_list) "
   ]
  },
  {
   "cell_type": "code",
   "execution_count": null,
   "metadata": {
    "colab": {
     "base_uri": "https://localhost:8080/",
     "height": 34
    },
    "colab_type": "code",
    "executionInfo": {
     "elapsed": 813,
     "status": "ok",
     "timestamp": 1583777278169,
     "user": {
      "displayName": "Catherine Nst",
      "photoUrl": "",
      "userId": "00118750132604534762"
     },
     "user_tz": -60
    },
    "id": "sYi8TBMdewL7",
    "outputId": "e6c640b5-c1eb-4583-fa35-c3f372e4edae",
    "slideshow": {
     "slide_type": "fragment"
    }
   },
   "outputs": [],
   "source": [
    "# insert\n",
    "first_list = [1, 2, 3, 4]\n",
    "first_list.insert(2, 'Hi!') \n",
    "print(first_list) "
   ]
  },
  {
   "cell_type": "markdown",
   "metadata": {},
   "source": [
    "**Removing elements from a list:**\n",
    "* ``clear``: remove all items from a list.\n",
    "* ``pop``\n",
    "    - Remove the item at the given position in the list, and return it.\n",
    "    - If no index is specified, removes & returns last item in the list.\n",
    "* ``remove``\n",
    "    - Remove the first item from the list whose value is x. \n",
    "    - Throws a `ValueError` if the item is not found.\n",
    "* ``del``: deletes a value from a list."
   ]
  },
  {
   "cell_type": "code",
   "execution_count": null,
   "metadata": {
    "colab": {
     "base_uri": "https://localhost:8080/",
     "height": 34
    },
    "colab_type": "code",
    "executionInfo": {
     "elapsed": 835,
     "status": "ok",
     "timestamp": 1583777311709,
     "user": {
      "displayName": "Catherine Nst",
      "photoUrl": "",
      "userId": "00118750132604534762"
     },
     "user_tz": -60
    },
    "id": "Id7y6YRFe9TD",
    "outputId": "a097b11b-8bf5-4a4f-b442-51801f5f2de1",
    "slideshow": {
     "slide_type": "fragment"
    }
   },
   "outputs": [],
   "source": [
    "# clear\n",
    "first_list = [1, 2, 3, 4]\n",
    "first_list.clear()\n",
    "print(first_list)"
   ]
  },
  {
   "cell_type": "code",
   "execution_count": null,
   "metadata": {
    "colab": {
     "base_uri": "https://localhost:8080/",
     "height": 52
    },
    "colab_type": "code",
    "executionInfo": {
     "elapsed": 820,
     "status": "ok",
     "timestamp": 1583777393568,
     "user": {
      "displayName": "Catherine Nst",
      "photoUrl": "",
      "userId": "00118750132604534762"
     },
     "user_tz": -60
    },
    "id": "pFvzWU_1fGiy",
    "outputId": "d5963587-6c17-4917-d975-abe74f157fa2",
    "slideshow": {
     "slide_type": "fragment"
    }
   },
   "outputs": [],
   "source": [
    "# pop\n",
    "last_item = first_list.pop() \n",
    "print(last_item)\n",
    "second_item = first_list.pop(1) \n",
    "print(second_item)\n",
    "\n",
    "# the elements are then not in the list anymore\n",
    "print(first_list)"
   ]
  },
  {
   "cell_type": "code",
   "execution_count": null,
   "metadata": {
    "colab": {},
    "colab_type": "code",
    "id": "L6H2rQCEfXT0",
    "slideshow": {
     "slide_type": "fragment"
    }
   },
   "outputs": [],
   "source": [
    "# remove\n",
    "first_list = [1, 2, 3, 4, 4, 4]\n",
    "first_list.remove(2)\n",
    "print(first_list)\n",
    "first_list.remove(4)\n",
    "print(first_list) "
   ]
  },
  {
   "cell_type": "code",
   "execution_count": null,
   "metadata": {
    "colab": {},
    "colab_type": "code",
    "id": "MZ8i_N2ofpDr",
    "slideshow": {
     "slide_type": "fragment"
    }
   },
   "outputs": [],
   "source": [
    "# del \n",
    "first_list = [1, 2, 3, 4]\n",
    "del first_list[3]\n",
    "print(first_list)\n",
    "del first_list[1]\n",
    "print(first_list)"
   ]
  },
  {
   "cell_type": "markdown",
   "metadata": {},
   "source": [
    "**Other list methods:**\n",
    "* `index`: returns the index of the specified item in the list.\n",
    "* `count`: return the number of times x appears in the list.\n",
    "* `reverse`: reverse the elements of the list (in-place).\n",
    "* `sort`: sort the items of the list (in-place)."
   ]
  },
  {
   "cell_type": "code",
   "execution_count": 12,
   "metadata": {},
   "outputs": [
    {
     "name": "stdout",
     "output_type": "stream",
     "text": [
      "0\n",
      "7\n"
     ]
    }
   ],
   "source": [
    "# index\n",
    "letters = [\"a\", \"a\", \"b\", \"z\", \"l\", \"i\", \"k\", \"a\", \"o\"]\n",
    "\n",
    "# find the index of the first time the letter \"a\" appears in the list\n",
    "print(letters.index(\"a\")) \n",
    "\n",
    "# find the index of the first time the letter \"a\" appears in between indices 6 and 8 \n",
    "print(letters.index(\"a\", 6, 8))"
   ]
  },
  {
   "cell_type": "code",
   "execution_count": 13,
   "metadata": {},
   "outputs": [
    {
     "name": "stdout",
     "output_type": "stream",
     "text": [
      "3\n",
      "0\n"
     ]
    }
   ],
   "source": [
    "# count\n",
    "numbers = [1, 2, 3, 4, 3, 2, 1, 4, 10, 2]\n",
    "\n",
    "# count how often 2 appears in the list\n",
    "print(numbers.count(2))\n",
    "\n",
    "# count how often 21 appears in the list\n",
    "print(numbers.count(21))"
   ]
  },
  {
   "cell_type": "code",
   "execution_count": 14,
   "metadata": {},
   "outputs": [
    {
     "name": "stdout",
     "output_type": "stream",
     "text": [
      "[4, 3, 2, 1]\n"
     ]
    }
   ],
   "source": [
    "# reverse\n",
    "first_list = [1, 2, 3, 4]\n",
    "first_list.reverse()\n",
    "print(first_list) "
   ]
  },
  {
   "cell_type": "code",
   "execution_count": 15,
   "metadata": {},
   "outputs": [
    {
     "name": "stdout",
     "output_type": "stream",
     "text": [
      "[1, 2, 4, 5, 6]\n"
     ]
    }
   ],
   "source": [
    "# sort\n",
    "another_list = [6, 4, 1, 2, 5]\n",
    "another_list.sort()\n",
    "print(another_list)"
   ]
  },
  {
   "cell_type": "markdown",
   "metadata": {
    "colab_type": "text",
    "id": "zyZO6bhUMl6g",
    "slideshow": {
     "slide_type": "subslide"
    }
   },
   "source": [
    "### Exercise 4"
   ]
  },
  {
   "cell_type": "markdown",
   "metadata": {
    "colab_type": "text",
    "id": "zyZO6bhUMl6g",
    "slideshow": {
     "slide_type": "fragment"
    }
   },
   "source": [
    "Find the instructions as comments. Work in groups for 10mins"
   ]
  },
  {
   "cell_type": "code",
   "execution_count": null,
   "metadata": {
    "colab": {},
    "colab_type": "code",
    "id": "XdIuKxDWMpKP",
    "slideshow": {
     "slide_type": "fragment"
    }
   },
   "outputs": [],
   "source": [
    "# Create a list called instructors\n",
    "\n",
    "# Add the following strings to the instructors list \n",
    "    # \"Marc\"\n",
    "    # \"Rita\"\n",
    "    # \"Henry\"\n",
    "\n",
    "# Remove the last value in the list\n",
    "\n",
    "# Remove the first value in the list\n",
    " \n",
    "# Add the string \"Done\" to the beginning of the list\n",
    "\n",
    "# Print to make sure you did this right"
   ]
  },
  {
   "cell_type": "markdown",
   "metadata": {},
   "source": [
    "### Exercise 5: Quiz\n",
    "1. Question: What method here does not add one or more elements to a list?\n",
    "    1. extend\n",
    "    2. add\n",
    "    3. append  \n",
    "    4. insert\n",
    "\n",
    "2. Question: Given a list `numbers = [1,2,3]` how would you access the first element in the list?\n",
    "\n",
    "3. Question: Given a list `numbers = [1,2,3]` what would the result of `numbers.pop(5)` be?\n",
    "    \n",
    "    1. `None`\n",
    "    2. `IndexError`\n",
    "    3. `3`\n",
    "\n",
    "4. Question: Which of the following is not true about lists:\n",
    "    1. You can loop over them using a for or a while loop \n",
    "    2. The index starts at 1\n",
    "    3. They are collections of elements"
   ]
  },
  {
   "cell_type": "markdown",
   "metadata": {},
   "source": [
    "# Sets\n",
    "\n",
    "> A set is collection of unqiue, unordered, unchangeable, and unindexed elements.\n",
    "\n",
    "* To create an empty set:\n",
    "    * use curly brackets ``{}``.\n",
    "    * use the built-in method ``set()``.\n",
    "* **Unique elements:** Each element in a set can only appear once.\n",
    "* **Unordered and unindexed elements:** In a set, you cannot know in which order the elements might appear. Since the elements can appear in any order, they do not have an index and you therefore cannot access the elements of a set by an index.\n",
    "* **Unchangeable elements:** You cannot change or update the elements of a set, but you can remove or add new items."
   ]
  },
  {
   "cell_type": "code",
   "execution_count": 57,
   "metadata": {},
   "outputs": [
    {
     "name": "stdout",
     "output_type": "stream",
     "text": [
      "<class 'set'>\n"
     ]
    }
   ],
   "source": [
    "# create a set\n",
    "number_set = {1,2,3}\n",
    "print(type(number_set))"
   ]
  },
  {
   "cell_type": "markdown",
   "metadata": {},
   "source": [
    "### Set methods\n",
    "You can use the following methods on sets (among others):\n",
    "\n",
    "* ``add``: add an element to the set\n",
    "* ``pop``: remove (a random) element from the set\n",
    "* ``remove``: remove a specified element from the set and returns this element"
   ]
  },
  {
   "cell_type": "code",
   "execution_count": 62,
   "metadata": {},
   "outputs": [
    {
     "name": "stdout",
     "output_type": "stream",
     "text": [
      "{1, 2, 3, 4}\n"
     ]
    }
   ],
   "source": [
    "# add a number to the set\n",
    "number_set.add(4)\n",
    "print(number_set)"
   ]
  },
  {
   "cell_type": "code",
   "execution_count": 63,
   "metadata": {},
   "outputs": [
    {
     "name": "stdout",
     "output_type": "stream",
     "text": [
      "{1, 2, 3}\n"
     ]
    },
    {
     "data": {
      "text/plain": [
       "1"
      ]
     },
     "execution_count": 63,
     "metadata": {},
     "output_type": "execute_result"
    }
   ],
   "source": [
    "# remove the number again\n",
    "number_set.remove(4)\n",
    "print(number_set)\n",
    "\n",
    "# remove random element from the set\n",
    "number_set.pop()"
   ]
  },
  {
   "cell_type": "markdown",
   "metadata": {},
   "source": [
    "Other set methods include:\n",
    "\n",
    "* ``difference``: return the difference between two or more sets\n",
    "* ``intersection``: returns the intersection between two or more sets \n",
    "* ``union``: returns set containing the union of two or more sets"
   ]
  },
  {
   "cell_type": "code",
   "execution_count": 65,
   "metadata": {},
   "outputs": [],
   "source": [
    "# create two sets\n",
    "first_set = {1,2,3}\n",
    "second_set = {2,3,4,5}"
   ]
  },
  {
   "cell_type": "code",
   "execution_count": 66,
   "metadata": {},
   "outputs": [
    {
     "data": {
      "text/plain": [
       "{1}"
      ]
     },
     "execution_count": 66,
     "metadata": {},
     "output_type": "execute_result"
    }
   ],
   "source": [
    "# difference\n",
    "first_set.difference(second_set)"
   ]
  },
  {
   "cell_type": "code",
   "execution_count": 67,
   "metadata": {},
   "outputs": [
    {
     "data": {
      "text/plain": [
       "{2, 3}"
      ]
     },
     "execution_count": 67,
     "metadata": {},
     "output_type": "execute_result"
    }
   ],
   "source": [
    "# intersection\n",
    "first_set.intersection(second_set)"
   ]
  },
  {
   "cell_type": "code",
   "execution_count": 68,
   "metadata": {},
   "outputs": [
    {
     "data": {
      "text/plain": [
       "{1, 2, 3, 4, 5}"
      ]
     },
     "execution_count": 68,
     "metadata": {},
     "output_type": "execute_result"
    }
   ],
   "source": [
    "# union\n",
    "v.union(v)"
   ]
  },
  {
   "cell_type": "markdown",
   "metadata": {},
   "source": [
    "## Exercise 6\n",
    "\n",
    "1. Examine the three examples below: Is there a difference between case a) and case b)? \n",
    "\n",
    "**Example 1:**\n",
    "```python\n",
    "first_set.difference(second_set)     # case a)\n",
    "second_set.difference(first_set)     # case b)\n",
    "```\n",
    "\n",
    "**Example 2:**\n",
    "```python\n",
    "first_set.intersection(second_set)     # case a)\n",
    "second_set.intersection(first_set)     # case b)\n",
    "```\n",
    "\n",
    "**Example 3:**\n",
    "```python\n",
    "first_set.union(second_set)     # case a)\n",
    "second_set.union(first_set)     # case b)\n",
    "```\n",
    "\n",
    "2. Can you think of a use case in which it makes more sense to use a ``set`` than a ``list``? And vice versa: when does it make more sense to use a ``list`` instead of a ``set``?"
   ]
  },
  {
   "cell_type": "code",
   "execution_count": null,
   "metadata": {},
   "outputs": [],
   "source": [
    "# your code goes here"
   ]
  },
  {
   "cell_type": "markdown",
   "metadata": {
    "slideshow": {
     "slide_type": "slide"
    }
   },
   "source": [
    "# Dictionaries\n",
    "\n",
    "> A dictionary stores (key, value) pairs.\n",
    "\n",
    "- Dictionaries are ordered by insertion order since `Python 3.5`.\n",
    "- Dictionary values are accessed by keys.\n",
    "- Each key in the dictionary is unique and duplicates are not allowed."
   ]
  },
  {
   "cell_type": "code",
   "execution_count": 27,
   "metadata": {
    "slideshow": {
     "slide_type": "fragment"
    }
   },
   "outputs": [],
   "source": [
    "# define dictionary\n",
    "city_population = {\n",
    "    'Tokyo': 13350000, # a key-value pair\n",
    "    'Los Angeles': 18550000,\n",
    "    'New York City': 8400000,\n",
    "    'San Francisco': 1837442,\n",
    "}\n",
    "\n",
    "# display dictionary\n",
    "city_population "
   ]
  },
  {
   "cell_type": "code",
   "execution_count": 30,
   "metadata": {
    "scrolled": true,
    "slideshow": {
     "slide_type": "subslide"
    }
   },
   "outputs": [
    {
     "name": "stdout",
     "output_type": "stream",
     "text": [
      "8400000\n"
     ]
    }
   ],
   "source": [
    "# access the value for the key 'New York City'\n",
    "print(city_population['New York City'])"
   ]
  },
  {
   "cell_type": "code",
   "execution_count": null,
   "metadata": {},
   "outputs": [],
   "source": [
    "# access the value for the key 'Copenhagen'\n",
    "print(city_population['Copenhagen'])"
   ]
  },
  {
   "cell_type": "markdown",
   "metadata": {
    "slideshow": {
     "slide_type": "fragment"
    }
   },
   "source": [
    "**Change values** by specifying the key and using the `=` operator:"
   ]
  },
  {
   "cell_type": "code",
   "execution_count": null,
   "metadata": {
    "slideshow": {
     "slide_type": "fragment"
    }
   },
   "outputs": [],
   "source": [
    "city_population['New York City'] = 73847834\n",
    "city_population"
   ]
  },
  {
   "cell_type": "markdown",
   "metadata": {
    "slideshow": {
     "slide_type": "subslide"
    }
   },
   "source": [
    "**To add a new (key, value) pair**, you can choose between different ways:"
   ]
  },
  {
   "cell_type": "code",
   "execution_count": 31,
   "metadata": {
    "slideshow": {
     "slide_type": "fragment"
    }
   },
   "outputs": [
    {
     "data": {
      "text/plain": [
       "{'Tokyo': 13350000,\n",
       " 'Los Angeles': 18550000,\n",
       " 'New York City': 8400000,\n",
       " 'San Francisco': 1837442,\n",
       " 'Copenhagen': 1000000,\n",
       " 'Barcelona': 5000000}"
      ]
     },
     "execution_count": 31,
     "metadata": {},
     "output_type": "execute_result"
    }
   ],
   "source": [
    "# using the = operator\n",
    "city_population['Copenhagen'] = 1000000\n",
    "\n",
    "# using the update method\n",
    "city_population.update({'Barcelona': 5000000})\n",
    "\n",
    "city_population"
   ]
  },
  {
   "cell_type": "markdown",
   "metadata": {
    "slideshow": {
     "slide_type": "subslide"
    }
   },
   "source": [
    "**A dictionary can hold complex data types as values:**"
   ]
  },
  {
   "cell_type": "code",
   "execution_count": 41,
   "metadata": {
    "slideshow": {
     "slide_type": "fragment"
    }
   },
   "outputs": [],
   "source": [
    "food = {\"fruits\": [\"apple\", \"orange\"], \"vegetables\": [\"chicken\", \"coliflower\"]}"
   ]
  },
  {
   "cell_type": "code",
   "execution_count": 42,
   "metadata": {
    "slideshow": {
     "slide_type": "fragment"
    }
   },
   "outputs": [
    {
     "name": "stdout",
     "output_type": "stream",
     "text": [
      "['apple', 'orange']\n",
      "apple\n"
     ]
    }
   ],
   "source": [
    "# access the value of the key \"fruits\"\n",
    "print(food[\"fruits\"])\n",
    "\n",
    "# access element at index 0 in the list\n",
    "print(food[\"fruits\"][0])"
   ]
  },
  {
   "cell_type": "markdown",
   "metadata": {
    "slideshow": {
     "slide_type": "subslide"
    }
   },
   "source": [
    "**To return all items of a dictionary:**"
   ]
  },
  {
   "cell_type": "code",
   "execution_count": 43,
   "metadata": {
    "slideshow": {
     "slide_type": "fragment"
    }
   },
   "outputs": [
    {
     "data": {
      "text/plain": [
       "dict_items([('fruits', ['apple', 'orange']), ('vegetables', ['chicken', 'coliflower'])])"
      ]
     },
     "execution_count": 43,
     "metadata": {},
     "output_type": "execute_result"
    }
   ],
   "source": [
    "food.items()"
   ]
  },
  {
   "cell_type": "markdown",
   "metadata": {},
   "source": [
    "**To remove a (key, value) pair from the dictionary:**"
   ]
  },
  {
   "cell_type": "code",
   "execution_count": 44,
   "metadata": {},
   "outputs": [],
   "source": [
    "del food['vegetables']"
   ]
  },
  {
   "cell_type": "code",
   "execution_count": 45,
   "metadata": {},
   "outputs": [
    {
     "data": {
      "text/plain": [
       "dict_items([('fruits', ['apple', 'orange'])])"
      ]
     },
     "execution_count": 45,
     "metadata": {},
     "output_type": "execute_result"
    }
   ],
   "source": [
    "food.items()"
   ]
  },
  {
   "cell_type": "markdown",
   "metadata": {
    "slideshow": {
     "slide_type": "slide"
    }
   },
   "source": [
    "# Tuples\n",
    "\n",
    "> A tuple is an (immutable) ordered list of values. \n",
    "\n",
    "* To create a tuple, use round brackets ``()``.\n",
    "* \"Immutable\" means that the elements of a tuple can only be accessed, but _not changed._\n",
    "* Tuples can be used as keys in dictionaries and as elements of sets (lists cannot!)."
   ]
  },
  {
   "cell_type": "code",
   "execution_count": 50,
   "metadata": {
    "slideshow": {
     "slide_type": "fragment"
    }
   },
   "outputs": [
    {
     "data": {
      "text/plain": [
       "(5, 6)"
      ]
     },
     "execution_count": 50,
     "metadata": {},
     "output_type": "execute_result"
    }
   ],
   "source": [
    "# create a tuple\n",
    "t = (5, 6)       \n",
    "\n",
    "# equal formulation \n",
    "# t = 5, 6       \n",
    "\n",
    "t"
   ]
  },
  {
   "cell_type": "markdown",
   "metadata": {
    "slideshow": {
     "slide_type": "subslide"
    }
   },
   "source": [
    "Tuples are useful for instance as keys in dictionaries:"
   ]
  },
  {
   "cell_type": "code",
   "execution_count": 51,
   "metadata": {
    "slideshow": {
     "slide_type": "fragment"
    }
   },
   "outputs": [
    {
     "data": {
      "text/plain": [
       "3.0"
      ]
     },
     "execution_count": 51,
     "metadata": {},
     "output_type": "execute_result"
    }
   ],
   "source": [
    "# use tuples as dictionary keys\n",
    "grades = {(\"Niels\", \"Jensen\"): 3.0, (\"Morten\", \"Schubert\"): 2.8, (\"Niels\", \"Christiansen\"): 4.2}\n",
    "grades[(\"Niels\", \"Jensen\")]"
   ]
  },
  {
   "cell_type": "markdown",
   "metadata": {},
   "source": [
    "### Exercises 7\n",
    "\n",
    "1. Create a dictionary with 4 elements."
   ]
  },
  {
   "cell_type": "code",
   "execution_count": null,
   "metadata": {},
   "outputs": [],
   "source": []
  },
  {
   "cell_type": "markdown",
   "metadata": {},
   "source": [
    "2. List the keys in the dictionary."
   ]
  },
  {
   "cell_type": "code",
   "execution_count": null,
   "metadata": {},
   "outputs": [],
   "source": []
  },
  {
   "cell_type": "markdown",
   "metadata": {},
   "source": [
    "3. List the values in the dictionary."
   ]
  },
  {
   "cell_type": "code",
   "execution_count": null,
   "metadata": {},
   "outputs": [],
   "source": []
  },
  {
   "cell_type": "markdown",
   "metadata": {},
   "source": [
    "4. Create a dictionary where values are lists (i.e countries (keys), cities (values)) and access one of the keys and one of the values in the list."
   ]
  },
  {
   "cell_type": "code",
   "execution_count": null,
   "metadata": {},
   "outputs": [],
   "source": []
  },
  {
   "cell_type": "markdown",
   "metadata": {},
   "source": [
    "5. Add another country and its list of cities."
   ]
  },
  {
   "cell_type": "code",
   "execution_count": null,
   "metadata": {},
   "outputs": [],
   "source": []
  },
  {
   "cell_type": "markdown",
   "metadata": {},
   "source": [
    "6. Remove one of the countries and its elements."
   ]
  },
  {
   "cell_type": "code",
   "execution_count": null,
   "metadata": {},
   "outputs": [],
   "source": []
  }
 ],
 "metadata": {
  "colab": {
   "authorship_tag": "ABX9TyN359fRVS5Nj2AG1ygOcD31",
   "collapsed_sections": [],
   "name": "lists.ipynb",
   "provenance": []
  },
  "kernelspec": {
   "display_name": "Python 3",
   "language": "python",
   "name": "python3"
  },
  "language_info": {
   "codemirror_mode": {
    "name": "ipython",
    "version": 3
   },
   "file_extension": ".py",
   "mimetype": "text/x-python",
   "name": "python",
   "nbconvert_exporter": "python",
   "pygments_lexer": "ipython3",
   "version": "3.8.3"
  },
  "rise": {
   "scroll": true
  },
  "toc": {
   "base_numbering": 1,
   "nav_menu": {},
   "number_sections": true,
   "sideBar": true,
   "skip_h1_title": false,
   "title_cell": "Table of Contents",
   "title_sidebar": "Contents",
   "toc_cell": false,
   "toc_position": {
    "height": "calc(100% - 180px)",
    "left": "10px",
    "top": "150px",
    "width": "512px"
   },
   "toc_section_display": true,
   "toc_window_display": true
  },
  "toc-autonumbering": true
 },
 "nbformat": 4,
 "nbformat_minor": 4
}
