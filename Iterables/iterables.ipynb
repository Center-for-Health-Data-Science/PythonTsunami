{
  "cells": [
    {
      "cell_type": "markdown",
      "metadata": {
        "id": "YbbkpoKXtCy9"
      },
      "source": [
        "<img src=\"https://github.com/Center-for-Health-Data-Science/PythonTsunami/blob/june2022/figures/HeaDS_logo_large_withTitle.png?raw=1\" width=\"300\">\n",
        "\n",
        "<img src=\"https://github.com/Center-for-Health-Data-Science/PythonTsunami/blob/june2022/figures/tsunami_logo.PNG?raw=1\" width=\"600\">\n",
        "\n",
        "[![Open In Colab](https://colab.research.google.com/assets/colab-badge.svg)](https://colab.research.google.com/github/Center-for-Health-Data-Science/PythonTsunami/blob/june2022/Iterables/iterables.ipynb#scrollTo=C45Ny6IznwGu)\n"
      ]
    },
    {
      "cell_type": "markdown",
      "metadata": {
        "id": "I7z74i476fB4"
      },
      "source": [
        "**For (anonymous) questions**, use this **[Padlet link](https://ucph.padlet.org/henrikezschach1/7f65ytua2sv0qt9g)**. "
      ]
    },
    {
      "cell_type": "markdown",
      "metadata": {
        "id": "TuwyDkIktCzC"
      },
      "source": [
        "# Containers\n",
        "You were previously introduced to the following basic data types in Python: ``Boolean``, ``int``, ``float`` and ``str``. There are more fundamental data structures in Python which you will learn about in this notebook. \n",
        "\n",
        "These collections of data types are like containers that can contain several items. In particular, this notebook covers:\n",
        "\n",
        "* ``list``\n",
        "* ``set``\n",
        "* ``tuple``\n",
        "* ``dictionary``"
      ]
    },
    {
      "cell_type": "markdown",
      "metadata": {
        "id": "nNNFT7KttCzD"
      },
      "source": [
        "# Lists part 1\n",
        "\n",
        "> A list is a container of ordered elements that can be accessed by their index.\n",
        "\n",
        "* To create an empty list:\n",
        "    * use square breackets ``[]``\n",
        "* The elements in a list are separated by commas."
      ]
    },
    {
      "cell_type": "code",
      "execution_count": null,
      "metadata": {
        "id": "7P6sZAmjtCzD"
      },
      "outputs": [],
      "source": [
        "tasks = [\"Install Python\", \"Learn Python\", \"Take a break\"]"
      ]
    },
    {
      "cell_type": "markdown",
      "metadata": {
        "id": "U-zdzoLAtCzE"
      },
      "source": [
        "* To find out how many elements there are in a list, you can use the built-in function ``len``."
      ]
    },
    {
      "cell_type": "code",
      "execution_count": null,
      "metadata": {
        "id": "ZM8Gz4RWtCzF"
      },
      "outputs": [],
      "source": [
        "len(tasks)"
      ]
    },
    {
      "cell_type": "markdown",
      "metadata": {
        "id": "Xxg8pJi5czAg"
      },
      "source": [
        "## Accessing values in a ``list``\n",
        "\n",
        "The elements in a list are ordered and can thus be accessed by their index. Lists start counting at ``0``,  i.e. the first element in your list lives at the index position ``0``. "
      ]
    },
    {
      "cell_type": "markdown",
      "metadata": {
        "id": "BzxGAkXqV0XI"
      },
      "source": [
        "### Accessing single elements"
      ]
    },
    {
      "cell_type": "code",
      "execution_count": null,
      "metadata": {
        "id": "S9KidDpNdCTV",
        "scrolled": true
      },
      "outputs": [],
      "source": [
        "friends = [\"Ashley\", \"Matt\", \"Michael\"]"
      ]
    },
    {
      "cell_type": "code",
      "source": [
        "friends[0]"
      ],
      "metadata": {
        "id": "Q7jftirEDNO5"
      },
      "execution_count": null,
      "outputs": []
    },
    {
      "cell_type": "code",
      "source": [
        "print(friends[2]) \n",
        "print(friends[3]) # IndexError"
      ],
      "metadata": {
        "id": "Y-YFq3U5DQ3R"
      },
      "execution_count": null,
      "outputs": []
    },
    {
      "cell_type": "markdown",
      "metadata": {
        "id": "tslhA20TdN--"
      },
      "source": [
        "**To access values from the end**, you can use a negative number to index backwards:"
      ]
    },
    {
      "cell_type": "code",
      "execution_count": null,
      "metadata": {
        "id": "sNTpreo8dNjJ"
      },
      "outputs": [],
      "source": [
        "friends = [\"Ashley\", \"Matt\", \"Michael\"]\n",
        "print(friends[-1])"
      ]
    },
    {
      "cell_type": "code",
      "source": [
        "print(friends[-3])\n",
        "print(friends[-4]) # IndexError"
      ],
      "metadata": {
        "id": "Fl1laCtwDoBM"
      },
      "execution_count": null,
      "outputs": []
    },
    {
      "cell_type": "markdown",
      "metadata": {
        "id": "gT4HfJxCdXsD"
      },
      "source": [
        "**To check if a value is in a list**, you can use the ``in`` operator:"
      ]
    },
    {
      "cell_type": "code",
      "execution_count": null,
      "metadata": {
        "id": "lNx_OJ7AdbNh"
      },
      "outputs": [],
      "source": [
        "friends = [\"Ashley\", \"Matt\", \"Michael\"]\n",
        "print(\"Ashley\" in friends) \n",
        "print(\"Jason\" in friends)\n",
        "print(\"ashley\" in friends) "
      ]
    },
    {
      "cell_type": "markdown",
      "metadata": {
        "id": "Slkq6GYKtCzJ"
      },
      "source": [
        "### Accessing multiple elements: slicing\n",
        "\n",
        "**To access several elements at once**, you can use a technique called _slicing:_\n",
        "\n",
        "```python\n",
        "    some_list[start:end:step]\n",
        "```\n",
        "\n",
        "1. **First parameter:** ``start``  \n",
        "Tell Python which index to start slicing from. If you enter a negative number, it will start the slice back from the end."
      ]
    },
    {
      "cell_type": "code",
      "execution_count": null,
      "metadata": {
        "id": "jS1hzGJStCzJ"
      },
      "outputs": [],
      "source": [
        "first_list = [0, 1, 2, 3, 4, 5, 6]\n",
        "\n",
        "# slice from index 1 (this is the second element in the list)\n",
        "print(first_list[1:])\n",
        "\n",
        "# slice from index 3\n",
        "print(first_list[3:]) \n",
        "\n",
        "# slice from third element backwards\n",
        "print(first_list[-3:])"
      ]
    },
    {
      "cell_type": "markdown",
      "metadata": {
        "id": "e424AWDatCzK"
      },
      "source": [
        "2. **Second parameter:** ``end``  \n",
        "Specifies the index to copy up to (excluding the last one). Negative numbers specify how many items to exclude from the end (i.e. indexing by counting backwards)."
      ]
    },
    {
      "cell_type": "code",
      "execution_count": null,
      "metadata": {
        "id": "5pC_6pUNtCzL"
      },
      "outputs": [],
      "source": [
        "# slice up to (but excluding) index 2\n",
        "print(first_list[:2]) \n",
        "\n",
        "# slice starting from index 1 up to (but excluding) index 4\n",
        "print(first_list[1:4]) \n",
        "\n",
        "# slice up to the (but excluding) the last element\n",
        "# = the first element from the end\n",
        "print(first_list[:-1])"
      ]
    },
    {
      "cell_type": "markdown",
      "metadata": {
        "id": "shXAlwFWtCzL"
      },
      "source": [
        "3. **Third parameter:** ``step``  \n",
        "The ``step`` indicates the number to count at a time. E.g. a step of ``2`` only counts every second number in the list. We can reverse the order by using negative values for the ``step`` parameter."
      ]
    },
    {
      "cell_type": "code",
      "execution_count": null,
      "metadata": {
        "id": "1iKxs0EetCzL"
      },
      "outputs": [],
      "source": [
        "# access entire list from start to end, but only count every other element\n",
        "print(first_list[::2])\n",
        "\n",
        "# start at index 1 and count backwards\n",
        "print(first_list[1::-1])"
      ]
    },
    {
      "cell_type": "markdown",
      "metadata": {
        "id": "taqKnUx8avlW"
      },
      "source": [
        "# Exercise 1\n",
        "\n",
        "_~ 20 minutes_"
      ]
    },
    {
      "cell_type": "markdown",
      "metadata": {
        "id": "ctcR-7RYtCzN"
      },
      "source": [
        "### a. Defining a list\n",
        "\n",
        "Let's start with defining a list called `random_things` that is at least 4 elements long.  The data is completely up to you, but it must contain at least 1 `str` and 1 `float`. \n",
        "\n",
        "Use the ``len`` function to check if your list is indeed at least 4 elements long."
      ]
    },
    {
      "cell_type": "code",
      "execution_count": null,
      "metadata": {
        "id": "4umAIKkttCzN"
      },
      "outputs": [],
      "source": [
        "# your code goes here"
      ]
    },
    {
      "cell_type": "markdown",
      "metadata": {
        "id": "x45KkQBna26L"
      },
      "source": [
        "### b. Accessing elements\n",
        "\n",
        "Next, we should practice accessing elements in a list."
      ]
    },
    {
      "cell_type": "code",
      "execution_count": null,
      "metadata": {
        "id": "t4EtageVbCkv"
      },
      "outputs": [],
      "source": [
        "my_list = [1, 2, 3, 4, 5, 6, 7, 8, 9, 10]\n",
        "\n",
        "###\n",
        "# your code goes below\n",
        "###\n",
        "\n",
        "# display the first element in my_list\n",
        "\n",
        "# display the last element in my_list\n",
        "\n",
        "# display all but the last element in my_list\n",
        "\n",
        "# display the last 3 elements\n",
        "\n",
        "# display all even numbers using the step parameter from slicing\n"
      ]
    },
    {
      "cell_type": "markdown",
      "metadata": {
        "id": "LczWRzjbtCzO"
      },
      "source": [
        "**Quiz**\n",
        "- **Question 1**: Given a list `numbers = [1,2,3,4]`  - what does `numbers[::-1]`  return?\n",
        "\n",
        "    (a) `[1,2,3,4]`  \n",
        "    (b) `[1,4]`  \n",
        "    (c) `[4,3,2,1]`  \n",
        "    (d) `[4]`  \n",
        "    \n",
        "- **Question 2**: Given a list `numbers = [1,2,3,4]`  - what does `numbers[1:3]`  return?\n",
        "\n",
        "    (a) `[1,2,3]`  \n",
        "    (b) `[2,3]`   \n",
        "    (c) `[2,3,4]`  \n",
        "    (d) `[1,2]`  \n",
        "    (e) `[3]`  \n",
        "    \n",
        "- **Question 3**: Given a list `numbers = [1,2,3,4]`  - what does `numbers[-2]`  return?\n",
        "\n",
        "    (a) `[3]`  \n",
        "    (b) `3`  \n",
        "    (c) `[1,2,3]`  \n",
        "    (d) `[2]`  \n",
        "    (e) `2`  "
      ]
    },
    {
      "cell_type": "code",
      "execution_count": null,
      "metadata": {
        "id": "Vyeh3D2DtCzO"
      },
      "outputs": [],
      "source": [
        "# if you are unsure, just try it out here"
      ]
    },
    {
      "cell_type": "markdown",
      "metadata": {
        "id": "rYl080_XJen9"
      },
      "source": [
        "### c. Slicing\n",
        "\n",
        "Here you have a list of names, but it contains a few spelling errors. Correct the entries in the list **by accessing an element by its index** and assigning a new string.\n",
        "\n",
        "    - Change \"Petre\" to \"Peter\"\n",
        "    - Change \"Monika\" to \"Monica\"\n",
        "    - Change \"george\" to \"George\" (capitalize it)"
      ]
    },
    {
      "cell_type": "code",
      "execution_count": null,
      "metadata": {
        "id": "oIVGbBjzJsGp"
      },
      "outputs": [],
      "source": [
        "# DON'T CHANGE ANYTHING UP HERE!\n",
        "people = [\"Petre\",\"Joanna\",\"Louis\",\"Angie\",\"Monika\",\"george\"]\n",
        "# DON'T CHANGE ANYTHING UP HERE!\n",
        "\n",
        "# your code goes here"
      ]
    },
    {
      "cell_type": "markdown",
      "metadata": {
        "id": "lAqWTd6jeFlg"
      },
      "source": [
        "# Lists part 2"
      ]
    },
    {
      "cell_type": "markdown",
      "metadata": {
        "id": "K9hVHmTKtCzM"
      },
      "source": [
        "## Nested Lists\n",
        "Lists can contain any kind of element, even other lists!\n",
        "To access an element in a sublist of a list, you first need to access the sublist by its index and then the element in the sublist by its index."
      ]
    },
    {
      "cell_type": "code",
      "execution_count": null,
      "metadata": {
        "id": "Hgned_74tCzM"
      },
      "outputs": [],
      "source": [
        "nested_list = [[1, 2, 3],\n",
        "               [4, 5, 6],\n",
        "               [7, 8, 9]]\n",
        "nested_list[0][1] # access 2"
      ]
    },
    {
      "cell_type": "markdown",
      "metadata": {
        "id": "9rjTlzPOZWmm"
      },
      "source": [
        "Did you know that strings behave a lot like lists, too? They are what we call ``subscriptable``. A string is not a simple element like an integer. It consists of a sequence of characters, which you can access just like list elements."
      ]
    },
    {
      "cell_type": "code",
      "execution_count": null,
      "metadata": {
        "id": "RzeYo6DCaWvx"
      },
      "outputs": [],
      "source": [
        "my_string = \"Programming is fun!\"\n",
        "print(my_string[-4:])"
      ]
    },
    {
      "cell_type": "markdown",
      "source": [
        "## List Methods\n",
        "\n",
        "Working with lists is very common - there are quite a few things we can do!\n",
        "\n",
        "**Adding elements to a list:**\n",
        "* ``append``: add an item to the end of the list.\n",
        "* ``extend``: add to the end of a list all values passed to extend.\n",
        "* ``insert``: insert an item at a given position. \n",
        "\n",
        "Note on append/extend: append is for adding single elements, extend for appending multiple elements from another iterable"
      ],
      "metadata": {
        "id": "gNaMjfLLIBLj"
      }
    },
    {
      "cell_type": "code",
      "execution_count": null,
      "metadata": {
        "id": "5_vJErJOeP2Z"
      },
      "outputs": [],
      "source": [
        "# append\n",
        "first_list = [1, 2, 3, 4]\n",
        "first_list.append(5)\n",
        "print(first_list)"
      ]
    },
    {
      "cell_type": "code",
      "execution_count": null,
      "metadata": {
        "id": "GXVZAUUxR8QE"
      },
      "outputs": [],
      "source": [
        "# but careful with this one!\n",
        "first_list = [1, 2, 3, 4]\n",
        "first_list.append([5,6])\n",
        "print(first_list)"
      ]
    },
    {
      "cell_type": "code",
      "execution_count": null,
      "metadata": {
        "id": "7cKbC3ecediY"
      },
      "outputs": [],
      "source": [
        "# extend\n",
        "correct_list = [1, 2, 3, 4]\n",
        "correct_list.extend([5, 6, 7, 8])\n",
        "print(correct_list) "
      ]
    },
    {
      "cell_type": "code",
      "execution_count": null,
      "metadata": {
        "id": "sYi8TBMdewL7"
      },
      "outputs": [],
      "source": [
        "# insert\n",
        "first_list = [1, 2, 3, 4]\n",
        "first_list.insert(2, 'Hi!')\n",
        "print(first_list) "
      ]
    },
    {
      "cell_type": "markdown",
      "metadata": {
        "id": "zmgIlhMltCzP"
      },
      "source": [
        "**Removing elements from a list:**\n",
        "* ``clear``: remove all items from a list.\n",
        "* ``pop``\n",
        "    - Remove the item at the given position in the list, and return it.\n",
        "    - If no index is specified, removes & returns last item in the list.\n",
        "* ``del``: deletes a value from a list."
      ]
    },
    {
      "cell_type": "code",
      "execution_count": null,
      "metadata": {
        "id": "Id7y6YRFe9TD"
      },
      "outputs": [],
      "source": [
        "# clear\n",
        "first_list = [1, 2, 3, 4]\n",
        "first_list.clear()\n",
        "print(first_list)"
      ]
    },
    {
      "cell_type": "code",
      "execution_count": null,
      "metadata": {
        "id": "pFvzWU_1fGiy"
      },
      "outputs": [],
      "source": [
        "# pop\n",
        "first_list = [1, 2, 3, 4]\n",
        "last_item = first_list.pop() \n",
        "print(last_item)\n",
        "second_item = first_list.pop(1) \n",
        "print(second_item)\n",
        "\n",
        "# the elements are then not in the list anymore\n",
        "print(first_list)"
      ]
    },
    {
      "cell_type": "code",
      "execution_count": null,
      "metadata": {
        "id": "MZ8i_N2ofpDr"
      },
      "outputs": [],
      "source": [
        "# del \n",
        "first_list = [1, 2, 3, 4]\n",
        "del first_list[3]\n",
        "print(first_list)\n",
        "del first_list[1]\n",
        "print(first_list)"
      ]
    },
    {
      "cell_type": "markdown",
      "metadata": {
        "id": "IrdUeLmFtCzQ"
      },
      "source": [
        "**Other useful list methods:**\n",
        "* `count`: return the number of times x appears in the list.\n",
        "* `sort`: sort the items of the list (in-place).\n",
        "* `copy`: take a list and assign a copy to a new variable."
      ]
    },
    {
      "cell_type": "code",
      "execution_count": null,
      "metadata": {
        "id": "KC6ij_FDtCzQ"
      },
      "outputs": [],
      "source": [
        "# count\n",
        "numbers = [1, 2, 3, 4, 3, 2, 1, 4, 10, 2]\n",
        "\n",
        "# count how often 2 appears in the list\n",
        "print(numbers.count(2))\n",
        "\n",
        "# count how often 21 appears in the list\n",
        "print(numbers.count(21))"
      ]
    },
    {
      "cell_type": "code",
      "execution_count": null,
      "metadata": {
        "id": "UO32yPUmtCzR"
      },
      "outputs": [],
      "source": [
        "# sort\n",
        "another_list = [6, 4, 1, 2, 5]\n",
        "another_list.sort()\n",
        "print(another_list)"
      ]
    },
    {
      "cell_type": "code",
      "execution_count": null,
      "metadata": {
        "id": "WzV0P8MC3jXl"
      },
      "outputs": [],
      "source": [
        "# copy\n",
        "unsorted_list = [6, 4, 1, 2, 5]\n",
        "\n",
        "# just assigning a list to a new variable name does not copy it\n",
        "# you now simply have to variable names pointing to the same list\n",
        "sorted_list = unsorted_list\n",
        "sorted_list.sort()\n",
        "print(sorted_list)\n",
        "print(unsorted_list)"
      ]
    },
    {
      "cell_type": "code",
      "execution_count": null,
      "metadata": {
        "id": "z8l2XQav5YU2"
      },
      "outputs": [],
      "source": [
        "# this is the way to copy a list\n",
        "unsorted_list = [6, 4, 1, 2, 5]\n",
        "\n",
        "sorted_list = unsorted_list.copy()\n",
        "sorted_list.sort()\n",
        "print(sorted_list)\n",
        "print(unsorted_list)"
      ]
    },
    {
      "cell_type": "markdown",
      "metadata": {
        "id": "zyZO6bhUMl6g"
      },
      "source": [
        "# Exercise 2\n",
        "\n",
        "_~15 minutes_"
      ]
    },
    {
      "cell_type": "markdown",
      "metadata": {
        "id": "F3kAmr_VtCzS"
      },
      "source": [
        "Find the instructions as comments."
      ]
    },
    {
      "cell_type": "code",
      "execution_count": null,
      "metadata": {
        "id": "kokClbfGldqK"
      },
      "outputs": [],
      "source": [
        "shopping_list = [['apples','bananas','oranges'],\n",
        "                 ['milk', 'eggs', 'cheese'],\n",
        "                 ['soap', 'toothbrush', 'tissues']]\n",
        "\n",
        "\n",
        "# your code goes here\n",
        "\n",
        "\n",
        "# add one item to every sublist in shopping_list\n",
        "\n",
        "# remove the last sublist from shopping_list\n",
        "\n",
        "# make the shopping list a 'flat' list (non-nested) called new_list, without changing shopping_list\n",
        "# Tip: take the first sublist and extend it with the second\n"
      ]
    },
    {
      "cell_type": "markdown",
      "metadata": {
        "id": "--PTuLUitCzS"
      },
      "source": [
        "# Sets\n",
        "\n",
        "> A set is a collection of unqiue, unordered, (unchangeable,) and unindexed elements.\n",
        "\n",
        "* To create an empty set:\n",
        "    * use curly brackets ``{}``.\n",
        "* **Unique elements:** Each element in a set can only appear once.\n",
        "* **Unordered and unindexed elements:** In a set, you cannot know in which order the elements might appear. Since the elements can appear in any order, they do not have an index and you therefore cannot access the elements of a set by an index.\n",
        "* **\"Unchangeable\" elements:** You cannot change or update the elements of a set, but you can remove or add new items."
      ]
    },
    {
      "cell_type": "code",
      "execution_count": null,
      "metadata": {
        "id": "elOhaC7HtCzS"
      },
      "outputs": [],
      "source": [
        "# create a set\n",
        "number_set = {1,2,3}"
      ]
    },
    {
      "cell_type": "markdown",
      "metadata": {
        "id": "Wy8wy7x1A7r8"
      },
      "source": [
        "Why is this useful?\n",
        "\n",
        "I personally like it to get all unique values in a list."
      ]
    },
    {
      "cell_type": "code",
      "execution_count": null,
      "metadata": {
        "id": "ST0tFE1eBF2i"
      },
      "outputs": [],
      "source": [
        "my_list = [1,4,7,1,2,3,3,7,2,7,7,1]\n",
        "set(my_list)"
      ]
    },
    {
      "cell_type": "markdown",
      "metadata": {
        "id": "SW1Ggx4ytCzX"
      },
      "source": [
        "# Tuples\n",
        "\n",
        "> A tuple is an (immutable) ordered container of values. \n",
        "\n",
        "* To create a tuple, use round brackets ``()``.\n",
        "* \"Immutable\" means that the elements of a tuple can only be accessed, but _not changed._\n",
        "* Tuples can be used as keys in dictionaries and as elements of sets (lists cannot!)."
      ]
    },
    {
      "cell_type": "code",
      "execution_count": null,
      "metadata": {
        "id": "BfMm8NtYtCzX"
      },
      "outputs": [],
      "source": [
        "# create a tuple\n",
        "t = (5, 6)       \n",
        "\n",
        "# equal formulation \n",
        "#t = 5, 6       \n",
        "\n",
        "t"
      ]
    },
    {
      "cell_type": "markdown",
      "metadata": {
        "id": "R2DpFRr98q2k"
      },
      "source": [
        "We will see them in action now."
      ]
    },
    {
      "cell_type": "markdown",
      "metadata": {
        "id": "wveXX--OtCzU"
      },
      "source": [
        "# Dictionaries\n",
        "\n",
        "> A dictionary stores (key, value) pairs.\n",
        "\n",
        "- Dictionaries are created with curly brackets ``{key: value}``\n",
        "- Dictionaries are ordered by insertion order since `Python 3.5`.\n",
        "- Dictionary values are accessed by keys.\n",
        "- Each key in the dictionary is unique and duplicates are not allowed."
      ]
    },
    {
      "cell_type": "code",
      "execution_count": null,
      "metadata": {
        "id": "tSEf7q93tCzU"
      },
      "outputs": [],
      "source": [
        "# define dictionary\n",
        "city_population = {\n",
        "    'Tokyo': 13350000, # a key-value pair\n",
        "    'Los Angeles': 18550000,\n",
        "    'New York City': 8400000,\n",
        "    'San Francisco': 1837442,\n",
        "}\n",
        "\n",
        "# display dictionary\n",
        "city_population"
      ]
    },
    {
      "cell_type": "code",
      "execution_count": null,
      "metadata": {
        "id": "-lV-6YhFtCzV",
        "scrolled": true
      },
      "outputs": [],
      "source": [
        "# access the value for the key 'New York City'\n",
        "print(city_population['New York City'])"
      ]
    },
    {
      "cell_type": "markdown",
      "metadata": {
        "id": "W28zXueotCzV"
      },
      "source": [
        "**Change values** by specifying the key and using the `=` operator:"
      ]
    },
    {
      "cell_type": "code",
      "execution_count": null,
      "metadata": {
        "id": "zEO6zMW0tCzV"
      },
      "outputs": [],
      "source": [
        "city_population['New York City'] = 73847834\n",
        "city_population"
      ]
    },
    {
      "cell_type": "markdown",
      "metadata": {
        "id": "tZkmy0OstCzV"
      },
      "source": [
        "**To add a new (key, value) pair**, you can choose between different ways:"
      ]
    },
    {
      "cell_type": "code",
      "execution_count": null,
      "metadata": {
        "id": "n1sGlyShtCzV"
      },
      "outputs": [],
      "source": [
        "# using the = operator\n",
        "city_population['Copenhagen'] = 1000000\n",
        "\n",
        "# using the update method\n",
        "city_population.update({'Barcelona': 5000000})\n",
        "\n",
        "city_population"
      ]
    },
    {
      "cell_type": "markdown",
      "metadata": {
        "id": "6PtI2mURtCzW"
      },
      "source": [
        "**A dictionary can hold complex data types as values:**"
      ]
    },
    {
      "cell_type": "code",
      "execution_count": null,
      "metadata": {
        "id": "Stn-a7lZtCzW"
      },
      "outputs": [],
      "source": [
        "food = {\"fruits\": [\"apple\", \"orange\"], \"vegetables\": [\"carrot\", \"eggplant\"]}"
      ]
    },
    {
      "cell_type": "code",
      "execution_count": null,
      "metadata": {
        "id": "BMbxYPZZtCzW"
      },
      "outputs": [],
      "source": [
        "# access the value of the key \"fruits\"\n",
        "print(food[\"fruits\"])\n",
        "\n",
        "# access element at index 0 in the list\n",
        "print(food[\"fruits\"][0])"
      ]
    },
    {
      "cell_type": "markdown",
      "metadata": {
        "id": "BdOh9WzstCzW"
      },
      "source": [
        "**To remove a (key, value) pair from the dictionary:**"
      ]
    },
    {
      "cell_type": "code",
      "execution_count": null,
      "metadata": {
        "id": "f3PZs_HZ-DWT"
      },
      "outputs": [],
      "source": [
        "food"
      ]
    },
    {
      "cell_type": "code",
      "execution_count": null,
      "metadata": {
        "id": "FBcRqg9OtCzW"
      },
      "outputs": [],
      "source": [
        "del food['vegetables']"
      ]
    },
    {
      "cell_type": "code",
      "execution_count": null,
      "metadata": {
        "id": "-RoC7lJ2tCzX"
      },
      "outputs": [],
      "source": [
        "food"
      ]
    },
    {
      "cell_type": "markdown",
      "metadata": {
        "id": "SDBcCrpStCzY"
      },
      "source": [
        "# Exercise 3\n",
        "\n",
        "_~ 15 minutes_"
      ]
    },
    {
      "cell_type": "markdown",
      "metadata": {
        "id": "cmK6vWHmCB8F"
      },
      "source": [
        "1. Create a dictionary with 4 elements."
      ]
    },
    {
      "cell_type": "code",
      "execution_count": null,
      "metadata": {
        "id": "V6FcD7pltCzY"
      },
      "outputs": [],
      "source": [
        ""
      ]
    },
    {
      "cell_type": "markdown",
      "metadata": {
        "id": "H4IPZ6JwtCzY"
      },
      "source": [
        "2. List the keys in the dictionary."
      ]
    },
    {
      "cell_type": "code",
      "execution_count": null,
      "metadata": {
        "id": "6W9-codGtCzY"
      },
      "outputs": [],
      "source": [
        ""
      ]
    },
    {
      "cell_type": "markdown",
      "metadata": {
        "id": "lTCtZrvKtCzY"
      },
      "source": [
        "3. List the values in the dictionary."
      ]
    },
    {
      "cell_type": "code",
      "execution_count": null,
      "metadata": {
        "id": "C9jb9ZgstCzY"
      },
      "outputs": [],
      "source": [
        ""
      ]
    },
    {
      "cell_type": "markdown",
      "metadata": {
        "id": "_GrVUskPtCzY"
      },
      "source": [
        "4. Create a dictionary where values are lists (i.e countries (keys), cities (values)) and access one of the keys and one of the values in the list."
      ]
    },
    {
      "cell_type": "code",
      "execution_count": null,
      "metadata": {
        "id": "t-xhyk9WtCzY"
      },
      "outputs": [],
      "source": [
        ""
      ]
    },
    {
      "cell_type": "markdown",
      "metadata": {
        "id": "ZPBcoZrStCzY"
      },
      "source": [
        "5. Add another country and its list of cities."
      ]
    },
    {
      "cell_type": "code",
      "execution_count": null,
      "metadata": {
        "id": "ThFsOIc1tCzZ"
      },
      "outputs": [],
      "source": [
        ""
      ]
    },
    {
      "cell_type": "markdown",
      "metadata": {
        "id": "KK3PF2B2tCzZ"
      },
      "source": [
        "6. Remove one of the countries and its elements."
      ]
    },
    {
      "cell_type": "code",
      "execution_count": null,
      "metadata": {
        "id": "-Y9aaM7wtCzZ"
      },
      "outputs": [],
      "source": [
        ""
      ]
    }
  ],
  "metadata": {
    "colab": {
      "collapsed_sections": [
        "nNNFT7KttCzD",
        "Xxg8pJi5czAg",
        "BzxGAkXqV0XI",
        "Slkq6GYKtCzJ",
        "taqKnUx8avlW",
        "ctcR-7RYtCzN",
        "x45KkQBna26L",
        "rYl080_XJen9",
        "K9hVHmTKtCzM",
        "gNaMjfLLIBLj",
        "zyZO6bhUMl6g",
        "--PTuLUitCzS",
        "SW1Ggx4ytCzX",
        "wveXX--OtCzU",
        "SDBcCrpStCzY"
      ],
      "name": "iterables.ipynb",
      "provenance": []
    },
    "kernelspec": {
      "display_name": "Python 3",
      "language": "python",
      "name": "python3"
    },
    "language_info": {
      "codemirror_mode": {
        "name": "ipython",
        "version": 3
      },
      "file_extension": ".py",
      "mimetype": "text/x-python",
      "name": "python",
      "nbconvert_exporter": "python",
      "pygments_lexer": "ipython3",
      "version": "3.8.3"
    },
    "rise": {
      "scroll": true
    },
    "toc": {
      "base_numbering": 1,
      "nav_menu": {},
      "number_sections": true,
      "sideBar": true,
      "skip_h1_title": false,
      "title_cell": "Table of Contents",
      "title_sidebar": "Contents",
      "toc_cell": false,
      "toc_position": {
        "height": "calc(100% - 180px)",
        "left": "10px",
        "top": "150px",
        "width": "512px"
      },
      "toc_section_display": true,
      "toc_window_display": true
    },
    "toc-autonumbering": true
  },
  "nbformat": 4,
  "nbformat_minor": 0
}