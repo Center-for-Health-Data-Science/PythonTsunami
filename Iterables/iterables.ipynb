{
 "cells": [
  {
   "cell_type": "markdown",
   "metadata": {
    "id": "YbbkpoKXtCy9"
   },
   "source": [
    "<img src=\"https://github.com/Center-for-Health-Data-Science/PythonTsunami/blob/june2022/figures/HeaDS_logo_large_withTitle.png?raw=1\" width=\"300\">\n",
    "\n",
    "<img src=\"https://github.com/Center-for-Health-Data-Science/PythonTsunami/blob/june2022/figures/tsunami_logo.PNG?raw=1\" width=\"600\">\n",
    "\n",
    "[![Open In Colab](https://colab.research.google.com/assets/colab-badge.svg)](https://colab.research.google.com/github/Center-for-Health-Data-Science/PythonTsunami/blob/june2022/Iterables/iterables.ipynb#scrollTo=C45Ny6IznwGu)\n"
   ]
  },
  {
   "cell_type": "markdown",
   "metadata": {},
   "source": [
    "**For (anonymous) questions**, use this **[Padlet link](https://ucph.padlet.org/henrikezschach1/7f65ytua2sv0qt9g)**. "
   ]
  },
  {
   "cell_type": "markdown",
   "metadata": {
    "id": "TuwyDkIktCzC"
   },
   "source": [
    "# Containers\n",
    "You were previously introduced to the following basic data types in Python: ``Boolean``, ``int``, ``float`` and ``str``. There are more fundamental data structures in Python which you will learn about in this notebook. \n",
    "\n",
    "These collections of data types are like containers that can contain several items. In particular, this notebook covers:\n",
    "\n",
    "* ``list``\n",
    "* ``set``\n",
    "* ``tuple``\n",
    "* ``dictionary``"
   ]
  },
  {
   "cell_type": "markdown",
   "metadata": {
    "id": "nNNFT7KttCzD"
   },
   "source": [
    "# Lists\n",
    "\n",
    "> A list is a container of ordered elements that can be accessed by their index.\n",
    "\n",
    "* To create an empty list:\n",
    "    * use square breackets ``[]``\n",
    "    * use the built-in function ``list()``\n",
    "* The elements in a list are separated by commas."
   ]
  },
  {
   "cell_type": "code",
   "execution_count": null,
   "metadata": {
    "id": "7P6sZAmjtCzD"
   },
   "outputs": [],
   "source": [
    "tasks = [\"Install Python\", \"Learn Python\", \"Take a break\"]"
   ]
  },
  {
   "cell_type": "markdown",
   "metadata": {
    "id": "U-zdzoLAtCzE"
   },
   "source": [
    "* To find out how many elements there are in a list, you can use the built-in function ``len``."
   ]
  },
  {
   "cell_type": "code",
   "execution_count": null,
   "metadata": {
    "id": "ZM8Gz4RWtCzF"
   },
   "outputs": [],
   "source": [
    "len(tasks)"
   ]
  },
  {
   "cell_type": "markdown",
   "metadata": {
    "id": "Xxg8pJi5czAg"
   },
   "source": [
    "## Accessing values in a ``list``\n",
    "\n",
    "The elements in a list are ordered and can thusbe accessed by their index. Lists start counting at ``0``,  i.e. the first element in your list lives at the index position ``0``. "
   ]
  },
  {
   "cell_type": "markdown",
   "metadata": {
    "id": "BzxGAkXqV0XI"
   },
   "source": [
    "### Accessing single elements"
   ]
  },
  {
   "cell_type": "code",
   "execution_count": null,
   "metadata": {
    "id": "S9KidDpNdCTV",
    "scrolled": true
   },
   "outputs": [],
   "source": [
    "friends = [\"Ashley\", \"Matt\", \"Michael\"]\n",
    "print(friends[0]) \n",
    "print(friends[2]) \n",
    "print(friends[3]) # IndexError"
   ]
  },
  {
   "cell_type": "markdown",
   "metadata": {
    "id": "tslhA20TdN--"
   },
   "source": [
    "**To access values from the end**, you can use a negative number to index backwards:"
   ]
  },
  {
   "cell_type": "code",
   "execution_count": null,
   "metadata": {
    "id": "sNTpreo8dNjJ"
   },
   "outputs": [],
   "source": [
    "friends = [\"Ashley\", \"Matt\", \"Michael\"]\n",
    "print(friends[-1]) \n",
    "print(friends[-3]) \n",
    "print(friends[-4]) # IndexError"
   ]
  },
  {
   "cell_type": "markdown",
   "metadata": {
    "id": "gT4HfJxCdXsD"
   },
   "source": [
    "**To check if a value is in a list**, you can use the ``in`` operator:"
   ]
  },
  {
   "cell_type": "code",
   "execution_count": null,
   "metadata": {
    "id": "lNx_OJ7AdbNh"
   },
   "outputs": [],
   "source": [
    "friends = [\"Ashley\", \"Matt\", \"Michael\"]\n",
    "print(\"Ashley\" in friends) \n",
    "print(\"Jason\" in friends)\n",
    "print(\"ashley\" in friends) "
   ]
  },
  {
   "cell_type": "markdown",
   "metadata": {
    "id": "Slkq6GYKtCzJ"
   },
   "source": [
    "### Accessing multiple elements: slicing\n",
    "\n",
    "**To access several elements at once**, you can use a technique called _slicing:_\n",
    "\n",
    "```python\n",
    "    some_list[start:end:step]\n",
    "```\n",
    "\n",
    "1. **First parameter:** ``start``  \n",
    "Tell Python which index to start slicing from. If you enter a negative number, it will start the slice back from the end."
   ]
  },
  {
   "cell_type": "code",
   "execution_count": null,
   "metadata": {
    "id": "jS1hzGJStCzJ",
    "outputId": "c0e8b24b-f883-4e1b-d88d-ff12ce4a1607"
   },
   "outputs": [],
   "source": [
    "first_list = [0, 1, 2, 3, 4, 5, 6]\n",
    "\n",
    "# slice from index 1 (this is the second element in the list)\n",
    "print(first_list[1:])\n",
    "\n",
    "# slice from index 3\n",
    "print(first_list[3:]) \n",
    "\n",
    "# slice from third element backwards\n",
    "print(first_list[-3:])"
   ]
  },
  {
   "cell_type": "markdown",
   "metadata": {
    "id": "e424AWDatCzK"
   },
   "source": [
    "2. **Second parameter:** ``end``  \n",
    "Specifies the index to copy up to (excluding the last one). Negative numbers specify how many items to exclude from the end (i.e. indexing by counting backwards)."
   ]
  },
  {
   "cell_type": "code",
   "execution_count": null,
   "metadata": {
    "id": "5pC_6pUNtCzL",
    "outputId": "27670293-0d16-4fbe-fc1a-7b8bbc09169d"
   },
   "outputs": [],
   "source": [
    "# slice up to (but excluding) index 2\n",
    "print(first_list[:2]) \n",
    "\n",
    "# slice starting from index 1 up to (but excluding) index 4\n",
    "print(first_list[1:4]) \n",
    "\n",
    "# slice up to the (but excluding) the last element\n",
    "# = the first element from the end\n",
    "print(first_list[:-1])"
   ]
  },
  {
   "cell_type": "markdown",
   "metadata": {
    "id": "shXAlwFWtCzL"
   },
   "source": [
    "3. **Third parameter:** ``step``  \n",
    "The ``step`` indicates the number to count at a time. E.g. a step of ``2`` only counts every second number in the list. We can reverse the order by using negative values for the ``step`` parameter."
   ]
  },
  {
   "cell_type": "code",
   "execution_count": null,
   "metadata": {
    "id": "1iKxs0EetCzL",
    "outputId": "52ab9109-f0f3-496f-ef80-5c067f8eb13b"
   },
   "outputs": [],
   "source": [
    "# access entire list from start to end, but only count every other element\n",
    "print(first_list[::2])\n",
    "\n",
    "# start at index 1 and count backwards\n",
    "print(first_list[1::-1])\n",
    "      \n",
    "# access list from the end and count backwards\n",
    "print(first_list[:1:-1])"
   ]
  },
  {
   "cell_type": "markdown",
   "metadata": {
    "id": "K9hVHmTKtCzM"
   },
   "source": [
    "## Nested Lists\n",
    "Lists can contain any kind of element, even other lists!\n",
    "To access an element in a sublist of a list, you first need to access the sublist by its index and then the element in the sublist by its index."
   ]
  },
  {
   "cell_type": "code",
   "execution_count": null,
   "metadata": {
    "colab": {
     "base_uri": "https://localhost:8080/"
    },
    "id": "Hgned_74tCzM",
    "outputId": "0e3db887-49ac-4221-ce0d-f4b3f1e90a9e"
   },
   "outputs": [],
   "source": [
    "nested_list = [[1, 2, 3],\n",
    "               [4, 5, 6],\n",
    "               [7, 8, 9]]\n",
    "nested_list[0][1] # access 2"
   ]
  },
  {
   "cell_type": "markdown",
   "metadata": {
    "id": "9rjTlzPOZWmm"
   },
   "source": [
    "Did you know that strings behave a lot like lists, too? They are what we call ``subscriptable``. A string is not a simple element like an integer. It consists of a sequence of characters, which you can access just like list elements."
   ]
  },
  {
   "cell_type": "code",
   "execution_count": null,
   "metadata": {
    "colab": {
     "base_uri": "https://localhost:8080/"
    },
    "id": "RzeYo6DCaWvx",
    "outputId": "7c6c2068-8261-4421-cd54-193d37682cd3"
   },
   "outputs": [],
   "source": [
    "my_string = \"Programming is fun!\"\n",
    "print(my_string[-4:])"
   ]
  },
  {
   "cell_type": "markdown",
   "metadata": {
    "id": "taqKnUx8avlW"
   },
   "source": [
    "# Exercise 1\n",
    "\n",
    "_~ 20 minutes_"
   ]
  },
  {
   "cell_type": "markdown",
   "metadata": {
    "id": "ctcR-7RYtCzN"
   },
   "source": [
    "### a. Defining a list\n",
    "\n",
    "Let's start with defining a list called `random_things` that is at least 4 elements long.  The data is completely up to you, but it must contain at least 1 `str` and 1 `float`. \n",
    "\n",
    "Use the ``len`` function to check if your list is indeed at least 4 elements long."
   ]
  },
  {
   "cell_type": "code",
   "execution_count": null,
   "metadata": {
    "colab": {
     "base_uri": "https://localhost:8080/"
    },
    "id": "4umAIKkttCzN",
    "outputId": "08af7925-4b8c-4ef1-f84c-4e579517e523"
   },
   "outputs": [],
   "source": [
    "# your code goes here"
   ]
  },
  {
   "cell_type": "markdown",
   "metadata": {
    "id": "x45KkQBna26L"
   },
   "source": [
    "### b. Accessing elements\n",
    "\n",
    "Next, we should practice accessing elements in a list."
   ]
  },
  {
   "cell_type": "code",
   "execution_count": null,
   "metadata": {
    "id": "t4EtageVbCkv"
   },
   "outputs": [],
   "source": [
    "my_list = [1, 2, 3, 4, 5, 6, 7, 8, 9, 10]\n",
    "\n",
    "###\n",
    "# your code goes below\n",
    "###\n",
    "\n",
    "# display the first element in my_list\n",
    "\n",
    "# display the last element in my_list\n",
    "\n",
    "# display all but the last element in my_list\n",
    "\n",
    "# display the last 3 elements\n",
    "\n",
    "# display all even numbers using the step parameter from slicing\n"
   ]
  },
  {
   "cell_type": "markdown",
   "metadata": {
    "id": "LczWRzjbtCzO"
   },
   "source": [
    "**Quiz**\n",
    "- **Question 1**: Given a list `numbers = [1,2,3,4]`  - what does `numbers[::-1]`  return?\n",
    "\n",
    "    (a) `[1,2,3,4]`  \n",
    "    (b) `[1,4]`  \n",
    "    (c) `[4,3,2,1]`  \n",
    "    (d) `[4]`  \n",
    "    \n",
    "- **Question 2**: Given a list `numbers = [1,2,3,4]`  - what does `numbers[1:3]`  return?\n",
    "\n",
    "    (a) `[1,2,3]`  \n",
    "    (b) `[2,3]`   \n",
    "    (c) `[2,3,4]`  \n",
    "    (d) `[1,2]`  \n",
    "    (e) `[3]`  \n",
    "    \n",
    "- **Question 3**: Given a list `numbers = [1,2,3,4]`  - what does `numbers[-2]`  return?\n",
    "\n",
    "    (a) `[3]`  \n",
    "    (b) `3`  \n",
    "    (c) `[1,2,3]`  \n",
    "    (d) `[2]`  \n",
    "    (e) `2`  "
   ]
  },
  {
   "cell_type": "code",
   "execution_count": null,
   "metadata": {
    "id": "Vyeh3D2DtCzO"
   },
   "outputs": [],
   "source": [
    "# if you are unsure, just try it out here"
   ]
  },
  {
   "cell_type": "markdown",
   "metadata": {
    "id": "rYl080_XJen9"
   },
   "source": [
    "### c. Slicing\n",
    "\n",
    "Here you have a list of names, but it contains a few spelling errors. Correct the entries in the list **by accessing an element by its index** and assigning a new string.\n",
    "\n",
    "    - Change \"Petre\" to \"Peter\"\n",
    "    - Change \"Monika\" to \"Monica\"\n",
    "    - Change \"george\" to \"George\" (capitalize it)"
   ]
  },
  {
   "cell_type": "code",
   "execution_count": null,
   "metadata": {
    "id": "oIVGbBjzJsGp"
   },
   "outputs": [],
   "source": [
    "# DON'T CHANGE ANYTHING UP HERE!\n",
    "people = [\"Petre\",\"Joanna\",\"Louis\",\"Angie\",\"Monika\",\"george\"]\n",
    "# DON'T CHANGE ANYTHING UP HERE!\n",
    "\n",
    "# your code goes here"
   ]
  },
  {
   "cell_type": "markdown",
   "metadata": {
    "id": "BoqhBlNngEPI"
   },
   "source": [
    "### d. Nested lists\n",
    "\n",
    "This is a nested lists of strings. Print the second element from each sublist."
   ]
  },
  {
   "cell_type": "code",
   "execution_count": null,
   "metadata": {
    "id": "nVqt-HBRfuaJ"
   },
   "outputs": [],
   "source": [
    "shopping_list = [['apples','bananas','oranges'],\n",
    "                 ['milk', 'eggs', 'cheese'],\n",
    "                 ['soap', 'toothbrush', 'tissues']]\n",
    "\n",
    "# your code goes here"
   ]
  },
  {
   "cell_type": "markdown",
   "metadata": {
    "id": "lAqWTd6jeFlg"
   },
   "source": [
    "## List Methods\n",
    "\n",
    "Working with lists is very common - there are quite a few things we can do!\n",
    "\n",
    "**Adding elements to a list:**\n",
    "* ``append``: add an item to the end of the list.\n",
    "* ``extend``: add to the end of a list all values passed to extend.\n",
    "* ``insert``: insert an item at a given position. \n",
    "\n",
    "Note on append/extend: append is for adding single elements, extend for appending multiple elements from another iterable"
   ]
  },
  {
   "cell_type": "code",
   "execution_count": null,
   "metadata": {
    "colab": {
     "base_uri": "https://localhost:8080/"
    },
    "id": "5_vJErJOeP2Z",
    "outputId": "2ff4a933-8d5d-4cb2-96f1-448fcc6cfd66"
   },
   "outputs": [],
   "source": [
    "# append\n",
    "first_list = [1, 2, 3, 4]\n",
    "first_list.append(5)\n",
    "print(first_list)"
   ]
  },
  {
   "cell_type": "code",
   "execution_count": null,
   "metadata": {
    "colab": {
     "base_uri": "https://localhost:8080/"
    },
    "id": "GXVZAUUxR8QE",
    "outputId": "b70840ed-0484-4202-9e10-954a0affc046"
   },
   "outputs": [],
   "source": [
    "# but careful with this one!\n",
    "first_list = [1, 2, 3, 4]\n",
    "first_list.append([5,6])\n",
    "print(first_list)"
   ]
  },
  {
   "cell_type": "code",
   "execution_count": null,
   "metadata": {
    "colab": {
     "base_uri": "https://localhost:8080/"
    },
    "id": "7cKbC3ecediY",
    "outputId": "371c7ea1-7423-4b59-c5cc-23a764762a67"
   },
   "outputs": [],
   "source": [
    "# extend\n",
    "correct_list = [1, 2, 3, 4]\n",
    "correct_list.extend([5, 6, 7, 8])\n",
    "print(correct_list) "
   ]
  },
  {
   "cell_type": "code",
   "execution_count": null,
   "metadata": {
    "colab": {
     "base_uri": "https://localhost:8080/"
    },
    "id": "sYi8TBMdewL7",
    "outputId": "7e33abb0-c0f1-418a-9827-0bcce885f7b7"
   },
   "outputs": [],
   "source": [
    "# insert\n",
    "first_list = [1, 2, 3, 4]\n",
    "first_list.insert(2, 'Hi!') \n",
    "print(first_list) "
   ]
  },
  {
   "cell_type": "markdown",
   "metadata": {
    "id": "zmgIlhMltCzP"
   },
   "source": [
    "**Removing elements from a list:**\n",
    "* ``clear``: remove all items from a list.\n",
    "* ``pop``\n",
    "    - Remove the item at the given position in the list, and return it.\n",
    "    - If no index is specified, removes & returns last item in the list.\n",
    "* ``del``: deletes a value from a list."
   ]
  },
  {
   "cell_type": "code",
   "execution_count": null,
   "metadata": {
    "colab": {
     "base_uri": "https://localhost:8080/"
    },
    "id": "Id7y6YRFe9TD",
    "outputId": "e4cad2ab-5b34-4801-c567-06f586919269"
   },
   "outputs": [],
   "source": [
    "# clear\n",
    "first_list = [1, 2, 3, 4]\n",
    "first_list.clear()\n",
    "print(first_list)"
   ]
  },
  {
   "cell_type": "code",
   "execution_count": null,
   "metadata": {
    "colab": {
     "base_uri": "https://localhost:8080/"
    },
    "id": "pFvzWU_1fGiy",
    "outputId": "835f322c-3752-40e3-f2d1-fac7e594612d"
   },
   "outputs": [],
   "source": [
    "# pop\n",
    "first_list = [1, 2, 3, 4]\n",
    "last_item = first_list.pop() \n",
    "print(last_item)\n",
    "second_item = first_list.pop(1) \n",
    "print(second_item)\n",
    "\n",
    "# the elements are then not in the list anymore\n",
    "print(first_list)"
   ]
  },
  {
   "cell_type": "code",
   "execution_count": null,
   "metadata": {
    "colab": {
     "base_uri": "https://localhost:8080/"
    },
    "id": "MZ8i_N2ofpDr",
    "outputId": "102d2197-f2ea-4591-b7fb-a13cbadb8b85"
   },
   "outputs": [],
   "source": [
    "# del \n",
    "first_list = [1, 2, 3, 4]\n",
    "del first_list[3]\n",
    "print(first_list)\n",
    "del first_list[1]\n",
    "print(first_list)"
   ]
  },
  {
   "cell_type": "markdown",
   "metadata": {
    "id": "IrdUeLmFtCzQ"
   },
   "source": [
    "**Other useful list methods:**\n",
    "* `count`: return the number of times x appears in the list.\n",
    "* `sort`: sort the items of the list (in-place).\n",
    "* `copy`: take a list and assign a copy to a new variable."
   ]
  },
  {
   "cell_type": "code",
   "execution_count": null,
   "metadata": {
    "colab": {
     "base_uri": "https://localhost:8080/"
    },
    "id": "KC6ij_FDtCzQ",
    "outputId": "d47a9847-c53d-402d-f4f8-33b76ed65af5"
   },
   "outputs": [],
   "source": [
    "# count\n",
    "numbers = [1, 2, 3, 4, 3, 2, 1, 4, 10, 2]\n",
    "\n",
    "# count how often 2 appears in the list\n",
    "print(numbers.count(2))\n",
    "\n",
    "# count how often 21 appears in the list\n",
    "print(numbers.count(21))"
   ]
  },
  {
   "cell_type": "code",
   "execution_count": null,
   "metadata": {
    "colab": {
     "base_uri": "https://localhost:8080/"
    },
    "id": "UO32yPUmtCzR",
    "outputId": "3a138e7d-9a3c-4302-c32c-b62b0b4acc45"
   },
   "outputs": [],
   "source": [
    "# sort\n",
    "another_list = [6, 4, 1, 2, 5]\n",
    "another_list.sort()\n",
    "print(another_list)"
   ]
  },
  {
   "cell_type": "code",
   "execution_count": null,
   "metadata": {
    "colab": {
     "base_uri": "https://localhost:8080/"
    },
    "id": "WzV0P8MC3jXl",
    "outputId": "0b2c2cdc-f803-4059-e1c6-8bbdb3d78bfc"
   },
   "outputs": [],
   "source": [
    "# copy\n",
    "unsorted_list = [6, 4, 1, 2, 5]\n",
    "\n",
    "# just assigning a list to a new variable name does not copy it\n",
    "# you now simply have to variable names pointing to the same list\n",
    "sorted_list = unsorted_list\n",
    "sorted_list.sort()\n",
    "print(sorted_list)\n",
    "print(unsorted_list)"
   ]
  },
  {
   "cell_type": "code",
   "execution_count": null,
   "metadata": {
    "colab": {
     "base_uri": "https://localhost:8080/"
    },
    "id": "z8l2XQav5YU2",
    "outputId": "c486551b-35a8-4ed1-e414-faf80dadcf78"
   },
   "outputs": [],
   "source": [
    "# this is the way to copy a list\n",
    "unsorted_list = [6, 4, 1, 2, 5]\n",
    "\n",
    "sorted_list = unsorted_list.copy()\n",
    "sorted_list.sort()\n",
    "print(sorted_list)\n",
    "print(unsorted_list)"
   ]
  },
  {
   "cell_type": "markdown",
   "metadata": {
    "id": "zyZO6bhUMl6g"
   },
   "source": [
    "# Exercise 2\n",
    "\n",
    "_~10 minutes_"
   ]
  },
  {
   "cell_type": "markdown",
   "metadata": {
    "id": "F3kAmr_VtCzS"
   },
   "source": [
    "Find the instructions as comments."
   ]
  },
  {
   "cell_type": "code",
   "execution_count": null,
   "metadata": {
    "id": "kokClbfGldqK"
   },
   "outputs": [],
   "source": [
    "shopping_list = [['apples','bananas','oranges'],\n",
    "                 ['milk', 'eggs', 'cheese'],\n",
    "                 ['soap', 'toothbrush', 'tissues']]\n",
    "\n",
    "\n",
    "# your code goes here\n",
    "\n",
    "\n",
    "# add one item to every sublist in shopping_list\n",
    "\n",
    "# remove the last sublist from shopping_list\n",
    "\n",
    "# make the shopping list a 'flat' list (non-nested) called new_list, without changing shopping_list\n",
    "# Tip: take the first sublist and extend it with the second\n"
   ]
  },
  {
   "cell_type": "markdown",
   "metadata": {
    "id": "--PTuLUitCzS"
   },
   "source": [
    "# Sets\n",
    "\n",
    "> A set is a collection of unqiue, unordered, unchangeable, and unindexed elements.\n",
    "\n",
    "* To create an empty set:\n",
    "    * use curly brackets ``{}``.\n",
    "    * use the built-in method ``set()``.\n",
    "* **Unique elements:** Each element in a set can only appear once.\n",
    "* **Unordered and unindexed elements:** In a set, you cannot know in which order the elements might appear. Since the elements can appear in any order, they do not have an index and you therefore cannot access the elements of a set by an index.\n",
    "* **Unchangeable elements:** You cannot change or update the elements of a set, but you can remove or add new items."
   ]
  },
  {
   "cell_type": "code",
   "execution_count": null,
   "metadata": {
    "id": "elOhaC7HtCzS"
   },
   "outputs": [],
   "source": [
    "# create a set\n",
    "number_set = {1,2,3}"
   ]
  },
  {
   "cell_type": "markdown",
   "metadata": {
    "id": "Wy8wy7x1A7r8"
   },
   "source": [
    "Why is this useful?\n",
    "\n",
    "I personally like it to get all unique values in a list."
   ]
  },
  {
   "cell_type": "code",
   "execution_count": null,
   "metadata": {
    "colab": {
     "base_uri": "https://localhost:8080/"
    },
    "id": "ST0tFE1eBF2i",
    "outputId": "5b7fc151-3cf3-4750-a996-33a4d862fcd7"
   },
   "outputs": [],
   "source": [
    "my_list = [1,4,7,1,2,3,3,7,2,7,7,1]\n",
    "set(my_list)"
   ]
  },
  {
   "cell_type": "markdown",
   "metadata": {
    "id": "SW1Ggx4ytCzX"
   },
   "source": [
    "# Tuples\n",
    "\n",
    "> A tuple is an (immutable) ordered container of values. \n",
    "\n",
    "* To create a tuple, use round brackets ``()``.\n",
    "* \"Immutable\" means that the elements of a tuple can only be accessed, but _not changed._\n",
    "* Tuples can be used as keys in dictionaries and as elements of sets (lists cannot!)."
   ]
  },
  {
   "cell_type": "code",
   "execution_count": null,
   "metadata": {
    "colab": {
     "base_uri": "https://localhost:8080/"
    },
    "id": "BfMm8NtYtCzX",
    "outputId": "a39bad01-866c-4191-fa92-f0b661df97bb"
   },
   "outputs": [],
   "source": [
    "# create a tuple\n",
    "t = (5, 6)       \n",
    "\n",
    "# equal formulation \n",
    "#t = 5, 6       \n",
    "\n",
    "t"
   ]
  },
  {
   "cell_type": "markdown",
   "metadata": {
    "id": "R2DpFRr98q2k"
   },
   "source": [
    "We will see them in action now."
   ]
  },
  {
   "cell_type": "markdown",
   "metadata": {
    "id": "wveXX--OtCzU"
   },
   "source": [
    "# Dictionaries\n",
    "\n",
    "> A dictionary stores (key, value) pairs.\n",
    "\n",
    "- Dictionaries are created with curly brackets ``{key: value}``\n",
    "- Dictionaries are ordered by insertion order since `Python 3.5`.\n",
    "- Dictionary values are accessed by keys.\n",
    "- Each key in the dictionary is unique and duplicates are not allowed."
   ]
  },
  {
   "cell_type": "code",
   "execution_count": null,
   "metadata": {
    "colab": {
     "base_uri": "https://localhost:8080/"
    },
    "id": "tSEf7q93tCzU",
    "outputId": "06105851-19c0-420d-ca37-2bd682f40ea7"
   },
   "outputs": [],
   "source": [
    "# define dictionary\n",
    "city_population = {\n",
    "    'Tokyo': 13350000, # a key-value pair\n",
    "    'Los Angeles': 18550000,\n",
    "    'New York City': 8400000,\n",
    "    'San Francisco': 1837442,\n",
    "}\n",
    "\n",
    "# display dictionary\n",
    "city_population"
   ]
  },
  {
   "cell_type": "code",
   "execution_count": null,
   "metadata": {
    "colab": {
     "base_uri": "https://localhost:8080/"
    },
    "id": "-lV-6YhFtCzV",
    "outputId": "9c121312-f7f6-4f5f-c1c4-6a10b9f912e2",
    "scrolled": true
   },
   "outputs": [],
   "source": [
    "# access the value for the key 'New York City'\n",
    "print(city_population['New York City'])"
   ]
  },
  {
   "cell_type": "markdown",
   "metadata": {
    "id": "W28zXueotCzV"
   },
   "source": [
    "**Change values** by specifying the key and using the `=` operator:"
   ]
  },
  {
   "cell_type": "code",
   "execution_count": null,
   "metadata": {
    "colab": {
     "base_uri": "https://localhost:8080/"
    },
    "id": "zEO6zMW0tCzV",
    "outputId": "5433e1ae-8a55-49d9-e558-e3df5c97a4c7"
   },
   "outputs": [],
   "source": [
    "city_population['New York City'] = 73847834\n",
    "city_population"
   ]
  },
  {
   "cell_type": "markdown",
   "metadata": {
    "id": "tZkmy0OstCzV"
   },
   "source": [
    "**To add a new (key, value) pair**, you can choose between different ways:"
   ]
  },
  {
   "cell_type": "code",
   "execution_count": null,
   "metadata": {
    "colab": {
     "base_uri": "https://localhost:8080/"
    },
    "id": "n1sGlyShtCzV",
    "outputId": "d0ed431b-2815-443b-d13d-05fe2d431a8f"
   },
   "outputs": [],
   "source": [
    "# using the = operator\n",
    "city_population['Copenhagen'] = 1000000\n",
    "\n",
    "# using the update method\n",
    "city_population.update({'Barcelona': 5000000})\n",
    "\n",
    "city_population"
   ]
  },
  {
   "cell_type": "markdown",
   "metadata": {
    "id": "6PtI2mURtCzW"
   },
   "source": [
    "**A dictionary can hold complex data types as values:**"
   ]
  },
  {
   "cell_type": "code",
   "execution_count": null,
   "metadata": {
    "id": "Stn-a7lZtCzW"
   },
   "outputs": [],
   "source": [
    "food = {\"fruits\": [\"apple\", \"orange\"], \"vegetables\": [\"carrot\", \"eggplant\"]}"
   ]
  },
  {
   "cell_type": "code",
   "execution_count": null,
   "metadata": {
    "colab": {
     "base_uri": "https://localhost:8080/"
    },
    "id": "BMbxYPZZtCzW",
    "outputId": "50163601-9ca1-4630-8309-4580ca326fcb"
   },
   "outputs": [],
   "source": [
    "# access the value of the key \"fruits\"\n",
    "print(food[\"fruits\"])\n",
    "\n",
    "# access element at index 0 in the list\n",
    "print(food[\"fruits\"][0])"
   ]
  },
  {
   "cell_type": "markdown",
   "metadata": {
    "id": "BdOh9WzstCzW"
   },
   "source": [
    "**To remove a (key, value) pair from the dictionary:**"
   ]
  },
  {
   "cell_type": "code",
   "execution_count": null,
   "metadata": {
    "colab": {
     "base_uri": "https://localhost:8080/"
    },
    "id": "f3PZs_HZ-DWT",
    "outputId": "7b389fba-7b96-4497-badd-7e78691962dd"
   },
   "outputs": [],
   "source": [
    "food"
   ]
  },
  {
   "cell_type": "code",
   "execution_count": null,
   "metadata": {
    "id": "FBcRqg9OtCzW"
   },
   "outputs": [],
   "source": [
    "del food['vegetables']"
   ]
  },
  {
   "cell_type": "code",
   "execution_count": null,
   "metadata": {
    "colab": {
     "base_uri": "https://localhost:8080/"
    },
    "id": "-RoC7lJ2tCzX",
    "outputId": "6f34016a-583f-4d31-a754-40acc165812a"
   },
   "outputs": [],
   "source": [
    "food"
   ]
  },
  {
   "cell_type": "markdown",
   "metadata": {
    "id": "SDBcCrpStCzY"
   },
   "source": [
    "# Exercise 3\n",
    "\n",
    "_~ 15 minutes_"
   ]
  },
  {
   "cell_type": "markdown",
   "metadata": {
    "id": "cmK6vWHmCB8F"
   },
   "source": [
    "1. Create a dictionary with 4 elements."
   ]
  },
  {
   "cell_type": "code",
   "execution_count": null,
   "metadata": {
    "id": "V6FcD7pltCzY"
   },
   "outputs": [],
   "source": []
  },
  {
   "cell_type": "markdown",
   "metadata": {
    "id": "H4IPZ6JwtCzY"
   },
   "source": [
    "2. List the keys in the dictionary."
   ]
  },
  {
   "cell_type": "code",
   "execution_count": null,
   "metadata": {
    "id": "6W9-codGtCzY"
   },
   "outputs": [],
   "source": []
  },
  {
   "cell_type": "markdown",
   "metadata": {
    "id": "lTCtZrvKtCzY"
   },
   "source": [
    "3. List the values in the dictionary."
   ]
  },
  {
   "cell_type": "code",
   "execution_count": null,
   "metadata": {
    "id": "C9jb9ZgstCzY"
   },
   "outputs": [],
   "source": []
  },
  {
   "cell_type": "markdown",
   "metadata": {
    "id": "_GrVUskPtCzY"
   },
   "source": [
    "4. Create a dictionary where values are lists (i.e countries (keys), cities (values)) and access one of the keys and one of the values in the list."
   ]
  },
  {
   "cell_type": "code",
   "execution_count": null,
   "metadata": {
    "id": "t-xhyk9WtCzY"
   },
   "outputs": [],
   "source": []
  },
  {
   "cell_type": "markdown",
   "metadata": {
    "id": "ZPBcoZrStCzY"
   },
   "source": [
    "5. Add another country and its list of cities."
   ]
  },
  {
   "cell_type": "code",
   "execution_count": null,
   "metadata": {
    "id": "ThFsOIc1tCzZ"
   },
   "outputs": [],
   "source": []
  },
  {
   "cell_type": "markdown",
   "metadata": {
    "id": "KK3PF2B2tCzZ"
   },
   "source": [
    "6. Remove one of the countries and its elements."
   ]
  },
  {
   "cell_type": "code",
   "execution_count": null,
   "metadata": {
    "id": "-Y9aaM7wtCzZ"
   },
   "outputs": [],
   "source": []
  }
 ],
 "metadata": {
  "colab": {
   "collapsed_sections": [
    "nNNFT7KttCzD",
    "Xxg8pJi5czAg",
    "BzxGAkXqV0XI",
    "Slkq6GYKtCzJ",
    "K9hVHmTKtCzM",
    "taqKnUx8avlW",
    "ctcR-7RYtCzN",
    "x45KkQBna26L",
    "rYl080_XJen9",
    "BoqhBlNngEPI",
    "lAqWTd6jeFlg",
    "zyZO6bhUMl6g",
    "--PTuLUitCzS",
    "SW1Ggx4ytCzX",
    "wveXX--OtCzU",
    "SDBcCrpStCzY"
   ],
   "name": "iterables.ipynb",
   "provenance": []
  },
  "kernelspec": {
   "display_name": "Python 3",
   "language": "python",
   "name": "python3"
  },
  "language_info": {
   "codemirror_mode": {
    "name": "ipython",
    "version": 3
   },
   "file_extension": ".py",
   "mimetype": "text/x-python",
   "name": "python",
   "nbconvert_exporter": "python",
   "pygments_lexer": "ipython3",
   "version": "3.8.3"
  },
  "rise": {
   "scroll": true
  },
  "toc": {
   "base_numbering": 1,
   "nav_menu": {},
   "number_sections": true,
   "sideBar": true,
   "skip_h1_title": false,
   "title_cell": "Table of Contents",
   "title_sidebar": "Contents",
   "toc_cell": false,
   "toc_position": {
    "height": "calc(100% - 180px)",
    "left": "10px",
    "top": "150px",
    "width": "512px"
   },
   "toc_section_display": true,
   "toc_window_display": true
  },
  "toc-autonumbering": true
 },
 "nbformat": 4,
 "nbformat_minor": 1
}
