{
 "cells": [
  {
   "cell_type": "markdown",
   "metadata": {
    "id": "YbbkpoKXtCy9"
   },
   "source": [
    "<img src=\"https://github.com/Center-for-Health-Data-Science/PythonTsunami/blob/oct_2022_3days/figures/HeaDS_logo_large_withTitle.png?raw=1\" width=\"300\">\n",
    "\n",
    "<img src=\"https://github.com/Center-for-Health-Data-Science/PythonTsunami/blob/oct_2022_3days/figures/tsunami_logo.PNG?raw=1\" width=\"600\">\n"
   ]
  },
  {
   "cell_type": "markdown",
   "metadata": {
    "id": "TuwyDkIktCzC"
   },
   "source": [
    "# Containers\n",
    "You were previously introduced to the following basic data types in Python: ``bool``, ``int``, ``float`` and ``str``.\n",
    "\n",
    "There are more fundamental data structures in Python, which you will learn about in this notebook. \n",
    "\n",
    "These collections of data types are containers that can contain several items. In particular, this notebook covers:\n",
    "\n",
    "* ``list``\n",
    "* ``set``\n",
    "* ``dict``\n",
    "* ``tuple``"
   ]
  },
  {
   "cell_type": "markdown",
   "metadata": {
    "id": "nNNFT7KttCzD"
   },
   "source": [
    "## Lists (part 1)\n",
    "\n",
    "A list is a container of ordered elements that can be accessed by their index.\n",
    "\n",
    "To create an empty list, use square brackets ``[]``\n",
    "\n",
    "The elements in a list are separated by commas.\n",
    "\n",
    "To find out how many elements there are in a list, you can use the built-in function ``len``."
   ]
  },
  {
   "cell_type": "code",
   "execution_count": 1,
   "metadata": {},
   "outputs": [
    {
     "name": "stdout",
     "output_type": "stream",
     "text": [
      "[]\n"
     ]
    }
   ],
   "source": [
    "# Create an empty list.\n",
    "empty_list = []\n",
    "\n",
    "# Visualize the list.\n",
    "print(empty_list)"
   ]
  },
  {
   "cell_type": "code",
   "execution_count": 2,
   "metadata": {
    "id": "7P6sZAmjtCzD"
   },
   "outputs": [
    {
     "name": "stdout",
     "output_type": "stream",
     "text": [
      "['Install Python', 'Learn Python', 'Take a break', 'Have coffee']\n"
     ]
    }
   ],
   "source": [
    "# Create a list with some items.\n",
    "tasks = [\"Install Python\", \"Learn Python\", \"Take a break\", \"Have coffee\"]\n",
    "\n",
    "# Visualize the list.\n",
    "print(tasks)"
   ]
  },
  {
   "cell_type": "code",
   "execution_count": 3,
   "metadata": {
    "id": "ZM8Gz4RWtCzF"
   },
   "outputs": [
    {
     "data": {
      "text/plain": [
       "4"
      ]
     },
     "execution_count": 3,
     "metadata": {},
     "output_type": "execute_result"
    }
   ],
   "source": [
    "# Call 'len()' on the last list we created\n",
    "# to get its length.\n",
    "len(tasks)"
   ]
  },
  {
   "cell_type": "markdown",
   "metadata": {
    "id": "Xxg8pJi5czAg"
   },
   "source": [
    "### Accessing values in a ``list``\n",
    "\n",
    "The elements in a list are ordered and can thus be accessed by their index.\n",
    "\n",
    "Lists start counting at ``0``,  i.e., the first element in your list lives at the index position ``0``. "
   ]
  },
  {
   "cell_type": "markdown",
   "metadata": {
    "id": "BzxGAkXqV0XI"
   },
   "source": [
    "#### Accessing single elements"
   ]
  },
  {
   "cell_type": "code",
   "execution_count": 5,
   "metadata": {
    "id": "S9KidDpNdCTV",
    "scrolled": true
   },
   "outputs": [
    {
     "name": "stdout",
     "output_type": "stream",
     "text": [
      "['apple', 'pear', 'banana', 'blueberry', 'watermelon']\n"
     ]
    }
   ],
   "source": [
    "# Create a list containing some items.\n",
    "fruits = [\"apple\", \"pear\", \"banana\", \"blueberry\", \"watermelon\"]\n",
    "\n",
    "# Visualize the list.\n",
    "print(fruits)"
   ]
  },
  {
   "cell_type": "code",
   "execution_count": 6,
   "metadata": {
    "id": "Q7jftirEDNO5"
   },
   "outputs": [
    {
     "name": "stdout",
     "output_type": "stream",
     "text": [
      "apple\n"
     ]
    }
   ],
   "source": [
    "# Get and visualize the first element in the list by its index.\n",
    "print(fruits[0])"
   ]
  },
  {
   "cell_type": "code",
   "execution_count": 7,
   "metadata": {
    "id": "Y-YFq3U5DQ3R"
   },
   "outputs": [
    {
     "ename": "IndexError",
     "evalue": "list index out of range",
     "output_type": "error",
     "traceback": [
      "\u001b[0;31m---------------------------------------------------------------------------\u001b[0m",
      "\u001b[0;31mIndexError\u001b[0m                                Traceback (most recent call last)",
      "Cell \u001b[0;32mIn[7], line 3\u001b[0m\n\u001b[1;32m      1\u001b[0m \u001b[38;5;66;03m# Get and visualize a non-existing element in the list.\u001b[39;00m\n\u001b[1;32m      2\u001b[0m \u001b[38;5;66;03m# This raises an 'IndexError'.\u001b[39;00m\n\u001b[0;32m----> 3\u001b[0m \u001b[38;5;28mprint\u001b[39m(\u001b[43mfruits\u001b[49m\u001b[43m[\u001b[49m\u001b[38;5;241;43m6\u001b[39;49m\u001b[43m]\u001b[49m)\n",
      "\u001b[0;31mIndexError\u001b[0m: list index out of range"
     ]
    }
   ],
   "source": [
    "# Get and visualize a non-existing element in the list.\n",
    "# This raises an 'IndexError'.\n",
    "print(fruits[6])"
   ]
  },
  {
   "cell_type": "code",
   "execution_count": 8,
   "metadata": {
    "id": "sNTpreo8dNjJ"
   },
   "outputs": [
    {
     "name": "stdout",
     "output_type": "stream",
     "text": [
      "watermelon\n"
     ]
    }
   ],
   "source": [
    "# We can access values from the end of the list\n",
    "# using a negative number to index backward.\n",
    "\n",
    "# Get and visualize the last element of the list.\n",
    "print(fruits[-1])"
   ]
  },
  {
   "cell_type": "code",
   "execution_count": 9,
   "metadata": {
    "id": "Fl1laCtwDoBM"
   },
   "outputs": [
    {
     "ename": "IndexError",
     "evalue": "list index out of range",
     "output_type": "error",
     "traceback": [
      "\u001b[0;31m---------------------------------------------------------------------------\u001b[0m",
      "\u001b[0;31mIndexError\u001b[0m                                Traceback (most recent call last)",
      "Cell \u001b[0;32mIn[9], line 6\u001b[0m\n\u001b[1;32m      1\u001b[0m \u001b[38;5;66;03m# When we try to access a non-existing element in the list,\u001b[39;00m\n\u001b[1;32m      2\u001b[0m \u001b[38;5;66;03m# we get an 'IndexError' again.\u001b[39;00m\n\u001b[1;32m      3\u001b[0m \n\u001b[1;32m      4\u001b[0m \u001b[38;5;66;03m# Get and visualize the element at index 6 in the list,\u001b[39;00m\n\u001b[1;32m      5\u001b[0m \u001b[38;5;66;03m# counting backward from the end of the list.\u001b[39;00m\n\u001b[0;32m----> 6\u001b[0m \u001b[43mfruits\u001b[49m\u001b[43m[\u001b[49m\u001b[38;5;241;43m-\u001b[39;49m\u001b[38;5;241;43m6\u001b[39;49m\u001b[43m]\u001b[49m\n",
      "\u001b[0;31mIndexError\u001b[0m: list index out of range"
     ]
    }
   ],
   "source": [
    "# When we try to access a non-existing element in the list,\n",
    "# we get an 'IndexError' again.\n",
    "\n",
    "# Get and visualize the element at index 6 in the list,\n",
    "# counting backward from the end of the list.\n",
    "fruits[-6]"
   ]
  },
  {
   "cell_type": "code",
   "execution_count": 10,
   "metadata": {},
   "outputs": [
    {
     "name": "stdout",
     "output_type": "stream",
     "text": [
      "['apple', 'peach', 'banana', 'blueberry', 'watermelon']\n"
     ]
    }
   ],
   "source": [
    "# We can re-define elements in an existing list\n",
    "# using the assignment operator ('=').\n",
    "\n",
    "# Assign a new value to the element at index 1\n",
    "# in the list.\n",
    "fruits[1] = \"peach\"\n",
    "\n",
    "# Visualize the updated list.\n",
    "print(fruits)"
   ]
  },
  {
   "cell_type": "code",
   "execution_count": 11,
   "metadata": {
    "id": "lNx_OJ7AdbNh"
   },
   "outputs": [
    {
     "name": "stdout",
     "output_type": "stream",
     "text": [
      "True\n",
      "True\n",
      "False\n"
     ]
    }
   ],
   "source": [
    "# To check whether a value is in a list,\n",
    "# we can use the 'in' operator.\n",
    "print(\"apple\" in fruits) \n",
    "print(\"watermelon\" in fruits)\n",
    "print(\"blackberry\" in fruits) "
   ]
  },
  {
   "cell_type": "markdown",
   "metadata": {
    "id": "Slkq6GYKtCzJ"
   },
   "source": [
    "#### Accessing multiple elements: slicing\n",
    "\n",
    "To access several elements at once**, you can use a technique called _slicing:_\n",
    "\n",
    "```python\n",
    "    some_list[start:end:step]\n",
    "```\n",
    "\n",
    "Slicing returns a sublist of the original list (up to the entire list).\n",
    "\n",
    "The special thing about slicing is that none of the parameters are required. By selectively including them, we can do different things.\n"
   ]
  },
  {
   "cell_type": "code",
   "execution_count": 12,
   "metadata": {},
   "outputs": [
    {
     "name": "stdout",
     "output_type": "stream",
     "text": [
      "['apple', 'pear', 'banana', 'blueberry', 'watermelon']\n"
     ]
    }
   ],
   "source": [
    "# Create a list containing some items.\n",
    "fruits = [\"apple\", \"pear\", \"banana\", \"blueberry\", \"watermelon\"]\n",
    "\n",
    "# Visualize the list.\n",
    "print(fruits)"
   ]
  },
  {
   "cell_type": "code",
   "execution_count": 13,
   "metadata": {},
   "outputs": [
    {
     "name": "stdout",
     "output_type": "stream",
     "text": [
      "['pear', 'banana', 'blueberry', 'watermelon']\n",
      "['banana', 'blueberry', 'watermelon']\n"
     ]
    }
   ],
   "source": [
    "# If we only specify the 'start' parameter,\n",
    "# the slice will extend all the way to the end of the list.\n",
    "\n",
    "# Get and visualize a slice from index 1\n",
    "# (this is the second element in the list).\n",
    "print(fruits[1:])\n",
    "\n",
    "# Get and visualize a slice from index 2\n",
    "# (this is the third element in the list).\n",
    "print(fruits[2:]) "
   ]
  },
  {
   "cell_type": "code",
   "execution_count": 14,
   "metadata": {},
   "outputs": [
    {
     "name": "stdout",
     "output_type": "stream",
     "text": [
      "['banana', 'blueberry', 'watermelon']\n"
     ]
    }
   ],
   "source": [
    "# If we negate the 'start' parameter,\n",
    "# we will slice the list backward.\n",
    "\n",
    "# Get and visualize a slice starting from the third element\n",
    "# from the end of the list and going backward.\n",
    "print(fruits[-3:])"
   ]
  },
  {
   "cell_type": "code",
   "execution_count": 15,
   "metadata": {},
   "outputs": [
    {
     "name": "stdout",
     "output_type": "stream",
     "text": [
      "['banana', 'blueberry', 'watermelon']\n",
      "['banana', 'blueberry']\n"
     ]
    }
   ],
   "source": [
    "# Now, if we want a slice between two specific indices,\n",
    "# we use both the 'start' and the 'end' parameters.\n",
    "\n",
    "# Note: the element at the 'end' index is not included\n",
    "# (the interval is open-ended)!\n",
    "\n",
    "# Get and visualize a slice from index 2 to 4.\n",
    "print(fruits[2:5]) \n",
    "\n",
    "# Get and visualize a slice from index 2 up to (but excluding) index 4.\n",
    "print(fruits[2:4]) "
   ]
  },
  {
   "cell_type": "code",
   "execution_count": 16,
   "metadata": {},
   "outputs": [
    {
     "name": "stdout",
     "output_type": "stream",
     "text": [
      "['apple', 'pear', 'banana', 'blueberry']\n"
     ]
    }
   ],
   "source": [
    "# When we do not specify the 'start' parameter, the slice\n",
    "# will automatically start at the beginning of the list.\n",
    "\n",
    "# Note: we have to put a colon (':') in front of the 'end'\n",
    "# parameter to let Python know the parameter specified is\n",
    "# the 'end', not the 'start'.\n",
    "\n",
    "# Get and visualize a slice up to (but excluding) index 4.\n",
    "print(fruits[:4]) "
   ]
  },
  {
   "cell_type": "code",
   "execution_count": 17,
   "metadata": {},
   "outputs": [
    {
     "name": "stdout",
     "output_type": "stream",
     "text": [
      "['apple', 'pear', 'banana', 'blueberry']\n"
     ]
    }
   ],
   "source": [
    "# The 'end' parameter can also be negative. In this case,\n",
    "# we count the last element to be included in the list\n",
    "# from the end of the list.\n",
    "\n",
    "# Get and visualize slice up to the (but excluding) the last element\n",
    "# (aka the first element from the end).\n",
    "print(fruits[:-1])"
   ]
  },
  {
   "cell_type": "code",
   "execution_count": 18,
   "metadata": {},
   "outputs": [
    {
     "name": "stdout",
     "output_type": "stream",
     "text": [
      "['apple', 'banana', 'watermelon']\n"
     ]
    }
   ],
   "source": [
    "# The 'step' parameter indicates the size of the step\n",
    "# we use while slicing up the list.\n",
    "#\n",
    "# If you do not specify a step size, it will be 1 by default.\n",
    "\n",
    "# Get and visualize a slice from start to end, but\n",
    "# include only every other element.\n",
    "print(fruits[::2])"
   ]
  },
  {
   "cell_type": "code",
   "execution_count": 19,
   "metadata": {},
   "outputs": [
    {
     "name": "stdout",
     "output_type": "stream",
     "text": [
      "['watermelon', 'blueberry', 'banana', 'pear', 'apple']\n"
     ]
    }
   ],
   "source": [
    "# The 'step' parameter can also be negative. In this case,\n",
    "# we count the steps starting from the end of the list.\n",
    "\n",
    "# Get and visualize slice with 'step' 1 counting from the end\n",
    "# of the list. This results in the original list being reversed.\n",
    "print(fruits[::-1])"
   ]
  },
  {
   "cell_type": "markdown",
   "metadata": {
    "id": "taqKnUx8avlW"
   },
   "source": [
    "### Exercise 1 - lists\n",
    "\n",
    "_~ 20 minutes_"
   ]
  },
  {
   "cell_type": "markdown",
   "metadata": {
    "id": "ctcR-7RYtCzN"
   },
   "source": [
    "#### Defining a list\n",
    "\n",
    "Let's start with defining a list called `random_things` that is at least 4 elements long.  The data is completely up to you, but it must contain at least 1 `str` and 1 `float`. \n",
    "\n",
    "Use the ``len`` function to check if your list is indeed at least 4 elements long."
   ]
  },
  {
   "cell_type": "code",
   "execution_count": null,
   "metadata": {
    "id": "4umAIKkttCzN"
   },
   "outputs": [],
   "source": [
    "# Your code goes here."
   ]
  },
  {
   "cell_type": "code",
   "execution_count": null,
   "metadata": {
    "id": "x45KkQBna26L"
   },
   "outputs": [],
   "source": [
    "# Create a list with some items.\n",
    "sund_centers = [\"BRIC\", \"CPR\", \"CBMR\", \"reNEW\", \"CTN\", \"HeaDS\", \"Globe\", \"Vet\", \"Pharma\"]"
   ]
  },
  {
   "cell_type": "code",
   "execution_count": null,
   "metadata": {
    "id": "x45KkQBna26L"
   },
   "outputs": [],
   "source": [
    "# Your code goes here.\n",
    "\n",
    "# Display the first element in 'sund_centers'.\n",
    "\n",
    "# Display the last element in 'sund_centers'.\n",
    "\n",
    "# Display all but the last element in 'sund_centers'.\n",
    "\n",
    "# Display the last 3 elements in 'sund_centers'.\n",
    "\n",
    "# Display every second element in 'sund_centers'.\n",
    "\n",
    "# Display ever second element starting from \"CPR\" in 'sund_centers'."
   ]
  },
  {
   "cell_type": "markdown",
   "metadata": {
    "id": "LczWRzjbtCzO"
   },
   "source": [
    "#### Quiz\n",
    "\n",
    "Given a list `numbers = [\"one\",\"two\",\"three\",\"four\"]` - what do the following slices return and **why**? \n",
    "\n",
    "- **Slice 1** `numbers[::-1]`:\n",
    "\n",
    "    (a) `[\"one\",\"two\",\"three\",\"four\"]`  \n",
    "    (b) `[\"one\",\"four\"]`  \n",
    "    (c) `[\"four\",\"three\",\"two\",\"one\"]`  \n",
    "    (d) `[\"four\"]`  \n",
    "\n",
    "\n",
    "- **Slice 2**: `numbers[1:3]` :\n",
    "\n",
    "    (a) `[\"one\",\"two\",\"three\"]`  \n",
    "    (b) `[\"two\",\"three\"]`   \n",
    "    (c) `[\"two\",\"three\",\"four\"]`  \n",
    "    (d) `[\"one\",\"two\"]`  \n",
    "    (e) `[\"three\"]`  \n",
    "    \n",
    "\n",
    "- **Slice 3**: `numbers[-2]` :\n",
    "\n",
    "    (a) `[\"three\"]`  \n",
    "    (b) `\"three\"`  \n",
    "    (c) `[\"one\",\"two\",\"three\"]`  \n",
    "    (d) `[\"two\"]`  \n",
    "    (e) `\"two\"`  "
   ]
  },
  {
   "cell_type": "code",
   "execution_count": null,
   "metadata": {
    "id": "Vyeh3D2DtCzO"
   },
   "outputs": [],
   "source": [
    "# If you are unsure, just try it out here."
   ]
  },
  {
   "cell_type": "markdown",
   "metadata": {
    "id": "rYl080_XJen9"
   },
   "source": [
    "#### Setting values\n",
    "\n",
    "Here you have a list of names, but it contains a few spelling errors. Correct the entries in the list **by accessing an element by its index** and assigning a new string.\n",
    "\n",
    "    - Change \"Petre\" to \"Peter\"\n",
    "    - Change \"Monika\" to \"Monica\"\n",
    "    - Change \"george\" to \"George\" (capitalize it)"
   ]
  },
  {
   "cell_type": "code",
   "execution_count": null,
   "metadata": {
    "id": "oIVGbBjzJsGp"
   },
   "outputs": [],
   "source": [
    "# Create our list of interest.\n",
    "people = [\"Petre\", \"Joanna\", \"Louis\", \"Angie\", \"Monika\", \"george\"]"
   ]
  },
  {
   "cell_type": "code",
   "execution_count": null,
   "metadata": {},
   "outputs": [],
   "source": [
    "# Your code goes here."
   ]
  },
  {
   "cell_type": "markdown",
   "metadata": {
    "id": "lAqWTd6jeFlg"
   },
   "source": [
    "## Lists (part 2)"
   ]
  },
  {
   "cell_type": "markdown",
   "metadata": {
    "id": "K9hVHmTKtCzM"
   },
   "source": [
    "### Nested Lists\n",
    "\n",
    "Lists can contain any element, even other lists!\n",
    "\n",
    "We call lists containing other lists \"nested lists\"."
   ]
  },
  {
   "cell_type": "code",
   "execution_count": 20,
   "metadata": {
    "id": "Hgned_74tCzM"
   },
   "outputs": [
    {
     "name": "stdout",
     "output_type": "stream",
     "text": [
      "[[1, 2, 3], [4, 5, 6], [7, 8, 9]]\n"
     ]
    }
   ],
   "source": [
    "# Create a list containing other lists.\n",
    "nested_list = [[1, 2, 3],\n",
    "               [4, 5, 6],\n",
    "               [7, 8, 9]]\n",
    "\n",
    "# Visualize the list.\n",
    "print(nested_list)"
   ]
  },
  {
   "cell_type": "code",
   "execution_count": 21,
   "metadata": {},
   "outputs": [
    {
     "name": "stdout",
     "output_type": "stream",
     "text": [
      "[1, 2, 3]\n"
     ]
    }
   ],
   "source": [
    "# We can access the individual sub-lists in the same way\n",
    "# we accessed a list's elements before.\n",
    "\n",
    "# Get and visualize the first sub-list\n",
    "print(nested_list[0])"
   ]
  },
  {
   "cell_type": "code",
   "execution_count": 22,
   "metadata": {},
   "outputs": [
    {
     "name": "stdout",
     "output_type": "stream",
     "text": [
      "2\n"
     ]
    }
   ],
   "source": [
    "# To access an element inside a sub-list, we first need\n",
    "# to access the sub-list by its index and then the\n",
    "# element inside the sub-list by the index it has\n",
    "# in the sub-list.\n",
    "\n",
    "# Get and visualize the number 2, which is the element\n",
    "# at index 1 of the sub-list at index 0.\n",
    "print(nested_list[0][1])"
   ]
  },
  {
   "cell_type": "code",
   "execution_count": 23,
   "metadata": {
    "id": "RzeYo6DCaWvx"
   },
   "outputs": [
    {
     "name": "stdout",
     "output_type": "stream",
     "text": [
      "Programming\n"
     ]
    }
   ],
   "source": [
    "# Strings can behave a lot like lists! Indeed, a string consists\n",
    "# of a string of characters, which you can access like a list's\n",
    "# elements\n",
    "\n",
    "# Create a string.\n",
    "my_string = \"Programming is fun!\"\n",
    "\n",
    "# Get and visualize a slice of the string until index 11\n",
    "# (not included).\n",
    "print(my_string[:11])"
   ]
  },
  {
   "cell_type": "code",
   "execution_count": 24,
   "metadata": {
    "id": "RzeYo6DCaWvx"
   },
   "outputs": [
    {
     "name": "stdout",
     "output_type": "stream",
     "text": [
      "fun!\n"
     ]
    }
   ],
   "source": [
    "# Get and visualize a slice of the string starting from\n",
    "# the element at index 4, counting backward, and until\n",
    "# the end of the string.\n",
    "print(my_string[-4:])"
   ]
  },
  {
   "cell_type": "code",
   "execution_count": 25,
   "metadata": {
    "id": "RzeYo6DCaWvx"
   },
   "outputs": [
    {
     "name": "stdout",
     "output_type": "stream",
     "text": [
      "!nuf si gnimmargorP\n"
     ]
    }
   ],
   "source": [
    "# Get and visualize the string reversed.\n",
    "print(my_string[::-1])"
   ]
  },
  {
   "cell_type": "markdown",
   "metadata": {
    "id": "gNaMjfLLIBLj"
   },
   "source": [
    "### List methods \n",
    "\n",
    "Working with lists is very common - here are a few things we can do!\n",
    "\n",
    "**Adding elements to a list**"
   ]
  },
  {
   "cell_type": "code",
   "execution_count": 26,
   "metadata": {
    "id": "5_vJErJOeP2Z"
   },
   "outputs": [
    {
     "name": "stdout",
     "output_type": "stream",
     "text": [
      "['one', 'two', 'three', 'four', 'five']\n"
     ]
    }
   ],
   "source": [
    "# Append - add a single item at the end of the list\n",
    "\n",
    "# Create a list with some items.\n",
    "my_list = [\"one\", \"two\", \"three\", \"four\"]\n",
    "\n",
    "# Add a new item to the list.\n",
    "my_list.append(\"five\")\n",
    "\n",
    "# Visualize the updated list.\n",
    "print(my_list)"
   ]
  },
  {
   "cell_type": "code",
   "execution_count": 27,
   "metadata": {
    "id": "5_vJErJOeP2Z"
   },
   "outputs": [
    {
     "name": "stdout",
     "output_type": "stream",
     "text": [
      "['one', 'two', 'three', 'four', ['five', 'six']]\n"
     ]
    }
   ],
   "source": [
    "# Re-create the list.\n",
    "my_list = [\"one\", \"two\", \"three\", \"four\"]\n",
    "\n",
    "# Try to add elements from another list to the list.\n",
    "my_list.append([\"five\", \"six\"])\n",
    "\n",
    "# See what happened!\n",
    "print(my_list)"
   ]
  },
  {
   "cell_type": "code",
   "execution_count": 28,
   "metadata": {
    "id": "7cKbC3ecediY"
   },
   "outputs": [
    {
     "name": "stdout",
     "output_type": "stream",
     "text": [
      "['one', 'two', 'three', 'four', 'five', 'six', 'seven', 'eight']\n"
     ]
    }
   ],
   "source": [
    "# Extend - add all items from an iterable at the end\n",
    "# of the list.\n",
    "\n",
    "# Create a list with some items.\n",
    "my_list = [\"one\", \"two\", \"three\", \"four\"]\n",
    "\n",
    "# Add multiple items from another list to the list.\n",
    "my_list.extend([\"five\", \"six\", \"seven\", \"eight\"])\n",
    "\n",
    "# Visualize the updated list.\n",
    "print(my_list)"
   ]
  },
  {
   "cell_type": "code",
   "execution_count": 29,
   "metadata": {
    "id": "sYi8TBMdewL7"
   },
   "outputs": [
    {
     "name": "stdout",
     "output_type": "stream",
     "text": [
      "['one', 'two', 'Hi!', 'three', 'four']\n"
     ]
    }
   ],
   "source": [
    "# Insert - insert an item at a given index.\n",
    "\n",
    "# Create a list with some items.\n",
    "my_list = [\"one\", \"two\", \"three\", \"four\"]\n",
    "\n",
    "# Insert a new item at a specific index.\n",
    "my_list.insert(2, 'Hi!')\n",
    "\n",
    "# Visualize the updated list.\n",
    "print(my_list)"
   ]
  },
  {
   "cell_type": "markdown",
   "metadata": {
    "id": "gNaMjfLLIBLj"
   },
   "source": [
    "**Removing elements from a list**"
   ]
  },
  {
   "cell_type": "code",
   "execution_count": 30,
   "metadata": {
    "id": "Id7y6YRFe9TD"
   },
   "outputs": [
    {
     "name": "stdout",
     "output_type": "stream",
     "text": [
      "[]\n"
     ]
    }
   ],
   "source": [
    "# Clear - remove all items from a list.\n",
    "\n",
    "# Create a list with some items.\n",
    "my_list = [\"one\", \"two\", \"three\", \"four\"]\n",
    "\n",
    "# Remove all items from the list.\n",
    "my_list.clear()\n",
    "\n",
    "# Visualize the updated list.\n",
    "print(my_list)"
   ]
  },
  {
   "cell_type": "code",
   "execution_count": 32,
   "metadata": {
    "id": "pFvzWU_1fGiy"
   },
   "outputs": [
    {
     "name": "stdout",
     "output_type": "stream",
     "text": [
      "four\n",
      "['one', 'two', 'three']\n"
     ]
    }
   ],
   "source": [
    "# Pop:\n",
    "# - If no index is specified, remove the last\n",
    "#   item from the list and return it.    \n",
    "# - If an index is specified, remove the item\n",
    "#   at that index from the list and return it.\n",
    "\n",
    "# Create a list with some items.\n",
    "my_list = [\"one\", \"two\", \"three\", \"four\"]\n",
    "\n",
    "# Remove the last element from the list.\n",
    "last_item = my_list.pop() \n",
    "\n",
    "# Visualize the removed element.\n",
    "print(last_item)\n",
    "\n",
    "# Visualize the updated list.\n",
    "print(my_list)"
   ]
  },
  {
   "cell_type": "code",
   "execution_count": 33,
   "metadata": {
    "id": "pFvzWU_1fGiy"
   },
   "outputs": [
    {
     "name": "stdout",
     "output_type": "stream",
     "text": [
      "two\n",
      "['one', 'three']\n"
     ]
    }
   ],
   "source": [
    "# Remove the element at index 1 from the list.\n",
    "second_item = my_list.pop(1) \n",
    "\n",
    "# Visualize the removed element.\n",
    "print(second_item)\n",
    "\n",
    "# Visualize the updated list.\n",
    "print(my_list)"
   ]
  },
  {
   "cell_type": "code",
   "execution_count": 34,
   "metadata": {
    "id": "MZ8i_N2ofpDr"
   },
   "outputs": [
    {
     "name": "stdout",
     "output_type": "stream",
     "text": [
      "['one', 'two', 'three']\n"
     ]
    }
   ],
   "source": [
    "# Del - remove a value from the list by its index. \n",
    "\n",
    "# Create a list with some items.\n",
    "my_list = [\"one\", \"two\", \"three\", \"four\"]\n",
    "\n",
    "# Delete the item at index 3 from the list.\n",
    "del my_list[3]\n",
    "\n",
    "# Visualize the updated list.\n",
    "print(my_list)"
   ]
  },
  {
   "cell_type": "code",
   "execution_count": 35,
   "metadata": {
    "id": "MZ8i_N2ofpDr"
   },
   "outputs": [
    {
     "name": "stdout",
     "output_type": "stream",
     "text": [
      "['one', 'three']\n"
     ]
    }
   ],
   "source": [
    "# Delete the item now at index 1 from the list.\n",
    "del my_list[1]\n",
    "\n",
    "# Visualize the updated list.\n",
    "print(my_list)"
   ]
  },
  {
   "cell_type": "markdown",
   "metadata": {
    "id": "gNaMjfLLIBLj"
   },
   "source": [
    "**Other useful list methods**"
   ]
  },
  {
   "cell_type": "code",
   "execution_count": 36,
   "metadata": {
    "id": "KC6ij_FDtCzQ"
   },
   "outputs": [
    {
     "name": "stdout",
     "output_type": "stream",
     "text": [
      "3\n",
      "0\n"
     ]
    }
   ],
   "source": [
    "# Count - get the number of times an item 'x' appears\n",
    "# in a list.\n",
    "\n",
    "# Create a list with some items.\n",
    "numbers = [1, 2, 3, 4, 3, 2, 1, 4, 10, 2]\n",
    "\n",
    "# Count and visualize how often 2 appears in the list.\n",
    "print(numbers.count(2))\n",
    "\n",
    "# Count and visualize how often 21 appears in the list.\n",
    "print(numbers.count(21))"
   ]
  },
  {
   "cell_type": "code",
   "execution_count": 37,
   "metadata": {
    "id": "UO32yPUmtCzR"
   },
   "outputs": [
    {
     "name": "stdout",
     "output_type": "stream",
     "text": [
      "[1, 2, 4, 5, 6]\n"
     ]
    }
   ],
   "source": [
    "# Sort - sort the list in place.\n",
    "\n",
    "# Create another list with some items.\n",
    "another_list = [6, 4, 1, 2, 5]\n",
    "\n",
    "# Sort it in place.\n",
    "another_list.sort()\n",
    "\n",
    "# Visualize the updated list.\n",
    "print(another_list)\n",
    "\n",
    "# In Python, there is also a 'sorted()' function that allows\n",
    "# you to sort a list by returning a sorted copy of the\n",
    "# list."
   ]
  },
  {
   "cell_type": "code",
   "execution_count": null,
   "metadata": {
    "id": "WzV0P8MC3jXl"
   },
   "outputs": [],
   "source": [
    "# Copy - create a copy of a list.\n",
    "\n",
    "# Note: just assigning a list to a new variable name\n",
    "# does not copy it. You simply have two variable names\n",
    "# pointing to the same list.\n",
    "\n",
    "# Create another list with some items.\n",
    "another_list = [6, 4, 1, 2, 5]\n",
    "\n",
    "# Assign a new variable name to the list.\n",
    "copy_of_list = another_list\n",
    "\n",
    "# Sort the original list.\n",
    "another_list.sort()\n",
    "\n",
    "# Visualize the lists associated with both variables.\n",
    "print(another_list)\n",
    "print(copy_of_list)"
   ]
  },
  {
   "cell_type": "code",
   "execution_count": 38,
   "metadata": {
    "id": "z8l2XQav5YU2"
   },
   "outputs": [
    {
     "name": "stdout",
     "output_type": "stream",
     "text": [
      "[1, 2, 4, 5, 6]\n",
      "[6, 4, 1, 2, 5]\n"
     ]
    }
   ],
   "source": [
    "# ...this is the way to copy a list!\n",
    "\n",
    "# Re-create the original list.\n",
    "another_list = [6, 4, 1, 2, 5]\n",
    "\n",
    "# Use the 'copy' method to copy the list.\n",
    "copy_of_list = another_list.copy()\n",
    "\n",
    "# Sort the original list.\n",
    "another_list.sort()\n",
    "\n",
    "# Visualize the lists associated with both variables.\n",
    "print(another_list)\n",
    "print(copy_of_list)"
   ]
  },
  {
   "cell_type": "markdown",
   "metadata": {
    "id": "zyZO6bhUMl6g"
   },
   "source": [
    "### Exercise 2 - more lists\n",
    "\n",
    "_~15 minutes_"
   ]
  },
  {
   "cell_type": "code",
   "execution_count": null,
   "metadata": {
    "id": "kokClbfGldqK"
   },
   "outputs": [],
   "source": [
    "# Here's our list of interest.\n",
    "shopping_list = [[\"apples\", \"bananas\", \"oranges\"],\n",
    "                 [\"milk\", \"eggs\", \"cheese\"],\n",
    "                 [\"soap\", \"toothbrush\", \"tissues\"]]\n",
    "\n",
    "# a. Add one item to every sublist in 'shopping_list'.\n",
    "\n",
    "# b. Remove the last sublist from 'shopping_list'.\n",
    "\n",
    "# c. Make a copy of 'shopping_list' called 'new_list'.\n",
    "\n",
    "# d. Make 'new_list' a 'flat' list (non-nested) without\n",
    "# changing the original 'shopping_list'.\n",
    "# Tip: take the first sublist and extend it with the second.\n",
    "\n",
    "# Your code goes here."
   ]
  },
  {
   "cell_type": "markdown",
   "metadata": {
    "id": "--PTuLUitCzS"
   },
   "source": [
    "## Sets\n",
    "\n",
    "A set is a collection of unique, unordered, unchangeable, and unindexed elements.\n",
    "\n",
    "To create an empty set, you can use curly brackets ``{}`` or the ``set()`` function.\n",
    "\n",
    "Each element in a set can only appear once.\n",
    "\n",
    "You cannot know in which order the elements might appear in a set. Since the elements can appear in any order, they do not have an index, and you cannot access the elements of a set by an index.\n",
    "\n",
    "You cannot change or update the elements of a set, but you can remove or add new items."
   ]
  },
  {
   "cell_type": "code",
   "execution_count": 39,
   "metadata": {
    "id": "elOhaC7HtCzS"
   },
   "outputs": [
    {
     "name": "stdout",
     "output_type": "stream",
     "text": [
      "{1, 2, 3}\n",
      "{4, 5, 6}\n"
     ]
    }
   ],
   "source": [
    "# Create a set using the curly braces.\n",
    "my_set = {1,2,3}\n",
    "\n",
    "# Visualize the set.\n",
    "print(my_set)\n",
    "\n",
    "# Create a set from another iterable \n",
    "# using the 'set()' function.\n",
    "also_my_set = set([4,5,6])\n",
    "\n",
    "# Visualize the set.\n",
    "print(also_my_set)"
   ]
  },
  {
   "cell_type": "code",
   "execution_count": 40,
   "metadata": {
    "id": "elOhaC7HtCzS"
   },
   "outputs": [
    {
     "name": "stdout",
     "output_type": "stream",
     "text": [
      "{4, 5, 6}\n"
     ]
    }
   ],
   "source": [
    "# Create a set from another iterable \n",
    "# using the 'set()' function.\n",
    "also_my_set = set([4,5,6])\n",
    "\n",
    "# Visualize the set.\n",
    "print(also_my_set)"
   ]
  },
  {
   "cell_type": "code",
   "execution_count": 41,
   "metadata": {
    "id": "ST0tFE1eBF2i"
   },
   "outputs": [
    {
     "name": "stdout",
     "output_type": "stream",
     "text": [
      "{1, 2, 3, 4, 7}\n"
     ]
    }
   ],
   "source": [
    "# Sets are very useful when we want to get all unique\n",
    "# elements from a list.\n",
    "\n",
    "# Create a list with some duplicated items.\n",
    "my_list = [1, 4, 7, 1, 2, 3, 3, 7, 2, 7, 7, 1]\n",
    "\n",
    "# Get the unique items in the list by converting\n",
    "# it into a set.\n",
    "unique_items = set(my_list)\n",
    "\n",
    "# Visualize the set.\n",
    "print(unique_items)"
   ]
  },
  {
   "cell_type": "code",
   "execution_count": 42,
   "metadata": {},
   "outputs": [],
   "source": [
    "# Let's create some more sets.\n",
    "favorite_foods = {\"pizza\", \"spaghetti\", \"lemon cake\", \"ice cream\"}\n",
    "desserts = {\"lemon cake\", \"strawberry cake\", \"ice cream\"}\n",
    "carbs = {\"pizza\", \"pasta\", \"potatoes\"}\n",
    "italian_foods = {\"spaghetti\", \"pizza\"}"
   ]
  },
  {
   "cell_type": "code",
   "execution_count": 43,
   "metadata": {},
   "outputs": [
    {
     "name": "stdout",
     "output_type": "stream",
     "text": [
      "{'pizza'}\n"
     ]
    }
   ],
   "source": [
    "# Which of my favorite foods are also carbs?\n",
    "\n",
    "# Let's use the 'intersection()' method to find out!\n",
    "print(favorite_foods.intersection(carbs))"
   ]
  },
  {
   "cell_type": "code",
   "execution_count": 44,
   "metadata": {},
   "outputs": [
    {
     "name": "stdout",
     "output_type": "stream",
     "text": [
      "{'spaghetti', 'pizza'}\n",
      "{'strawberry cake'}\n"
     ]
    }
   ],
   "source": [
    "# Damn, we ran out of sweets in the house. Which foods are left from the favorite set?\n",
    "\n",
    "# Let's use the 'set difference' to see what we are left with.\n",
    "print(favorite_foods - desserts)\n",
    "\n",
    "# Note: that difference is directional! What do you get if you swap the sets?\n",
    "print(desserts - favorite_foods)"
   ]
  },
  {
   "cell_type": "code",
   "execution_count": 45,
   "metadata": {},
   "outputs": [
    {
     "name": "stdout",
     "output_type": "stream",
     "text": [
      "{'strawberry cake'}\n"
     ]
    }
   ],
   "source": [
    "# Note: that difference is directional! What do you get if you swap the sets?\n",
    "print(desserts - favorite_foods)"
   ]
  },
  {
   "cell_type": "code",
   "execution_count": 46,
   "metadata": {},
   "outputs": [
    {
     "name": "stdout",
     "output_type": "stream",
     "text": [
      "{'pasta', 'lemon cake', 'ice cream', 'pizza', 'strawberry cake', 'potatoes'}\n"
     ]
    }
   ],
   "source": [
    "# Let's say a restaurant wants to do everything that is a dessert OR\n",
    "# is a carb. What's their entire menu?\n",
    "\n",
    "# We use the 'union()' method to figure it out.\n",
    "menu = desserts.union(carbs)\n",
    "\n",
    "# Let's visualize the menu.\n",
    "print(menu)"
   ]
  },
  {
   "cell_type": "markdown",
   "metadata": {},
   "source": [
    "There's plenty more set methods!\n",
    "\n",
    "You can find a complete list of them and what they do here: https://www.w3schools.com/python/python_ref_set.asp."
   ]
  },
  {
   "cell_type": "markdown",
   "metadata": {
    "id": "wveXX--OtCzU"
   },
   "source": [
    "## Dictionaries\n",
    "\n",
    "A dictionary stores (key, value) pairs.\n",
    "\n",
    "Dictionaries are created with curly brackets ``{key: value}`` or the ``dict()`` function.\n",
    "\n",
    "Dictionaries are ordered by insertion order since `Python 3.6`.\n",
    "\n",
    "Keys access dictionary values.\n",
    "\n",
    "Each key in the dictionary is unique, and duplicates are not allowed."
   ]
  },
  {
   "cell_type": "code",
   "execution_count": 47,
   "metadata": {
    "id": "tSEf7q93tCzU"
   },
   "outputs": [
    {
     "name": "stdout",
     "output_type": "stream",
     "text": [
      "{'Tokyo': 13350000, 'Los Angeles': 18550000, 'New York City': 8400000, 'San Francisco': 1837442}\n"
     ]
    }
   ],
   "source": [
    "# Create a dictionary\n",
    "my_dict = {\n",
    "    \n",
    "    \"Tokyo\" : 13350000, # A key-value pair\n",
    "    \"Los Angeles\" : 18550000,\n",
    "    \"New York City\" : 8400000,\n",
    "    \"San Francisco\" : 1837442,\n",
    "}\n",
    "\n",
    "# Visualize the dictionary\n",
    "print(my_dict)"
   ]
  },
  {
   "cell_type": "code",
   "execution_count": 48,
   "metadata": {
    "id": "tSEf7q93tCzU"
   },
   "outputs": [
    {
     "name": "stdout",
     "output_type": "stream",
     "text": [
      "{'Tokyo': 13350000, 'Los Angeles': 18550000}\n"
     ]
    }
   ],
   "source": [
    "# Create another dictionary from another iterable\n",
    "# using the 'dict()' function.\n",
    "also_my_dict = dict([[\"Tokyo\", 13350000], [\"Los Angeles\", 18550000]])\n",
    "\n",
    "# Visualize the dictionary\n",
    "print(also_my_dict)"
   ]
  },
  {
   "cell_type": "code",
   "execution_count": 50,
   "metadata": {
    "id": "-lV-6YhFtCzV",
    "scrolled": true
   },
   "outputs": [
    {
     "name": "stdout",
     "output_type": "stream",
     "text": [
      "8400000\n"
     ]
    }
   ],
   "source": [
    "# Get and visualize the value for the key 'New York City'.\n",
    "print(my_dict[\"New York City\"])"
   ]
  },
  {
   "cell_type": "code",
   "execution_count": 51,
   "metadata": {
    "id": "zEO6zMW0tCzV"
   },
   "outputs": [
    {
     "name": "stdout",
     "output_type": "stream",
     "text": [
      "{'Tokyo': 13350000, 'Los Angeles': 18550000, 'New York City': 73847834, 'San Francisco': 1837442}\n"
     ]
    }
   ],
   "source": [
    "# Change a value by assigning a new value to its key\n",
    "# using the assignment ('=') operator.\n",
    "my_dict[\"New York City\"] = 73847834\n",
    "\n",
    "# Visualize the updated dictionary.\n",
    "print(my_dict)"
   ]
  },
  {
   "cell_type": "code",
   "execution_count": 52,
   "metadata": {
    "id": "n1sGlyShtCzV"
   },
   "outputs": [
    {
     "name": "stdout",
     "output_type": "stream",
     "text": [
      "{'Tokyo': 13350000, 'Los Angeles': 18550000, 'New York City': 73847834, 'San Francisco': 1837442, 'Copenhagen': 1000000}\n"
     ]
    }
   ],
   "source": [
    "# You can add a new (key, value) pair using different methods.\n",
    "\n",
    "# Use the = operator\n",
    "my_dict[\"Copenhagen\"] = 1000000\n",
    "\n",
    "# Visualize the updated dictionary.\n",
    "print(my_dict)"
   ]
  },
  {
   "cell_type": "code",
   "execution_count": 53,
   "metadata": {
    "id": "n1sGlyShtCzV"
   },
   "outputs": [
    {
     "name": "stdout",
     "output_type": "stream",
     "text": [
      "{'Tokyo': 13350000, 'Los Angeles': 18550000, 'New York City': 73847834, 'San Francisco': 1837442, 'Copenhagen': 1000000, 'Barcelona': 5000000}\n"
     ]
    }
   ],
   "source": [
    "# Use the 'update()' method\n",
    "my_dict.update({\"Barcelona\": 5000000})\n",
    "\n",
    "# Visualize the updated dictionary.\n",
    "print(my_dict)"
   ]
  },
  {
   "cell_type": "code",
   "execution_count": 54,
   "metadata": {
    "id": "Stn-a7lZtCzW"
   },
   "outputs": [],
   "source": [
    "# A dictionary can hold complex data types as values.\n",
    "\n",
    "# Create a dictionary holding lists as values.\n",
    "food = {\"fruits\": [\"apple\", \"orange\"], \"vegetables\": [\"carrot\", \"eggplant\"]}"
   ]
  },
  {
   "cell_type": "code",
   "execution_count": 55,
   "metadata": {
    "id": "Stn-a7lZtCzW"
   },
   "outputs": [
    {
     "ename": "TypeError",
     "evalue": "unhashable type: 'list'",
     "output_type": "error",
     "traceback": [
      "\u001b[0;31m---------------------------------------------------------------------------\u001b[0m",
      "\u001b[0;31mTypeError\u001b[0m                                 Traceback (most recent call last)",
      "Cell \u001b[0;32mIn[55], line 5\u001b[0m\n\u001b[1;32m      1\u001b[0m \u001b[38;5;66;03m# However, some data types (like lists and sets) cannot\u001b[39;00m\n\u001b[1;32m      2\u001b[0m \u001b[38;5;66;03m# be used as keys.\u001b[39;00m\n\u001b[1;32m      3\u001b[0m \n\u001b[1;32m      4\u001b[0m \u001b[38;5;66;03m# Create a dictionary holding lists as keys.\u001b[39;00m\n\u001b[0;32m----> 5\u001b[0m food \u001b[38;5;241m=\u001b[39m {[\u001b[38;5;124m\"\u001b[39m\u001b[38;5;124mapple\u001b[39m\u001b[38;5;124m\"\u001b[39m, \u001b[38;5;124m\"\u001b[39m\u001b[38;5;124morange\u001b[39m\u001b[38;5;124m\"\u001b[39m] : \u001b[38;5;124m\"\u001b[39m\u001b[38;5;124mfruits\u001b[39m\u001b[38;5;124m\"\u001b[39m}\n",
      "\u001b[0;31mTypeError\u001b[0m: unhashable type: 'list'"
     ]
    }
   ],
   "source": [
    "# However, some data types (like lists and sets) cannot\n",
    "# be used as keys.\n",
    "\n",
    "# Create a dictionary holding lists as keys.\n",
    "food = {[\"apple\", \"orange\"] : \"fruits\"}"
   ]
  },
  {
   "cell_type": "code",
   "execution_count": 56,
   "metadata": {
    "id": "BMbxYPZZtCzW"
   },
   "outputs": [
    {
     "name": "stdout",
     "output_type": "stream",
     "text": [
      "['apple', 'orange']\n"
     ]
    }
   ],
   "source": [
    "# Get and visualize the value of the key \"fruits\".\n",
    "print(food[\"fruits\"])"
   ]
  },
  {
   "cell_type": "code",
   "execution_count": 57,
   "metadata": {
    "id": "BMbxYPZZtCzW"
   },
   "outputs": [
    {
     "name": "stdout",
     "output_type": "stream",
     "text": [
      "apple\n"
     ]
    }
   ],
   "source": [
    "# Get and visualize the element at index 0 in the list\n",
    "# of fruits.\n",
    "print(food[\"fruits\"][0])"
   ]
  },
  {
   "cell_type": "code",
   "execution_count": 58,
   "metadata": {
    "id": "f3PZs_HZ-DWT"
   },
   "outputs": [
    {
     "name": "stdout",
     "output_type": "stream",
     "text": [
      "{'fruits': ['apple', 'orange']}\n"
     ]
    }
   ],
   "source": [
    "# We can use the 'del' keyword to remove\n",
    "# (key, value) pairs from a dictionary.\n",
    "del food[\"vegetables\"]\n",
    "\n",
    "# Visualize the updated dictionary.\n",
    "print(food)"
   ]
  },
  {
   "cell_type": "code",
   "execution_count": 59,
   "metadata": {
    "id": "FBcRqg9OtCzW"
   },
   "outputs": [
    {
     "name": "stdout",
     "output_type": "stream",
     "text": [
      "{'vegetables': ['carrot', 'eggplant']}\n"
     ]
    }
   ],
   "source": [
    "# Otherwise, we can use the 'pop()' method to remove\n",
    "# the (key, value) pair associated with a key,\n",
    "\n",
    "# Create a dictionary.\n",
    "food = {\"fruits\": [\"apple\", \"orange\"], \"vegetables\": [\"carrot\", \"eggplant\"]}\n",
    "\n",
    "# Remove the \"fruits\" key and the associated value.\n",
    "food.pop(\"fruits\")\n",
    "\n",
    "# Visualize the updated dictionary.\n",
    "print(food)"
   ]
  },
  {
   "cell_type": "markdown",
   "metadata": {},
   "source": [
    "Many more dictionary methods and their descriptions can be found here: https://www.w3schools.com/python/python_ref_dictionary.asp."
   ]
  },
  {
   "cell_type": "markdown",
   "metadata": {
    "id": "SW1Ggx4ytCzX"
   },
   "source": [
    "## Tuples\n",
    "\n",
    "A tuple is an (immutable) ordered container of values. \n",
    "\n",
    "To create a tuple, we can use round brackets ``()`` or the ``tuple()`` function.\n",
    "\n",
    "\"Immutable\" means that the elements of a tuple can only be accessed but _not changed._\n",
    "\n",
    "Tuples can be used as keys in dictionaries and as elements of sets, whereas lists cannot!"
   ]
  },
  {
   "cell_type": "code",
   "execution_count": 60,
   "metadata": {
    "id": "BfMm8NtYtCzX"
   },
   "outputs": [
    {
     "name": "stdout",
     "output_type": "stream",
     "text": [
      "(5, 5, 6, 7, 7)\n"
     ]
    }
   ],
   "source": [
    "# Create a tuple using the round brackets\n",
    "my_tuple = (5, 5, 6, 7, 7)       \n",
    "      \n",
    "# Visualize the tuple.\n",
    "print(my_tuple)"
   ]
  },
  {
   "cell_type": "code",
   "execution_count": 61,
   "metadata": {},
   "outputs": [
    {
     "name": "stdout",
     "output_type": "stream",
     "text": [
      "2\n"
     ]
    }
   ],
   "source": [
    "# We can count the number of a specific item\n",
    "# using the 'count()' method.\n",
    "\n",
    "# Get and visualize the number of times the\n",
    "# number 7 appears in the tuple.\n",
    "print(my_tuple.count(7))"
   ]
  },
  {
   "cell_type": "code",
   "execution_count": 62,
   "metadata": {},
   "outputs": [
    {
     "name": "stdout",
     "output_type": "stream",
     "text": [
      "2\n"
     ]
    }
   ],
   "source": [
    "# We can get the index where an item FIRST\n",
    "# appears in the tuple using the 'index()' method.\n",
    "\n",
    "# Get and visualize the index where the number\n",
    "# 6 appears for the first time in the tuple.\n",
    "print(my_tuple.index(6))"
   ]
  },
  {
   "cell_type": "markdown",
   "metadata": {
    "id": "SDBcCrpStCzY"
   },
   "source": [
    "## Exercise 3 - final exercise\n",
    "\n",
    "_~ 15 minutes_"
   ]
  },
  {
   "cell_type": "code",
   "execution_count": null,
   "metadata": {
    "id": "V6FcD7pltCzY"
   },
   "outputs": [],
   "source": [
    "# a. Create a dictionary with 4 elements.\n",
    "\n",
    "# b. Create a dictionary called 'countries' where the key is the country\n",
    "#    and the value is a (non-exhaustive) list of cities in the country.\n",
    "\n",
    "# c. Get the value associated with one of the keys.\n",
    "\n",
    "# d. Add another country and its list of cities.\n",
    "\n",
    "# e. Remove one of the countries and associated cities."
   ]
  }
 ],
 "metadata": {
  "colab": {
   "collapsed_sections": [
    "nNNFT7KttCzD",
    "Xxg8pJi5czAg",
    "BzxGAkXqV0XI",
    "Slkq6GYKtCzJ",
    "taqKnUx8avlW",
    "ctcR-7RYtCzN",
    "x45KkQBna26L",
    "rYl080_XJen9",
    "K9hVHmTKtCzM",
    "gNaMjfLLIBLj",
    "zyZO6bhUMl6g",
    "--PTuLUitCzS",
    "SW1Ggx4ytCzX",
    "wveXX--OtCzU",
    "SDBcCrpStCzY"
   ],
   "name": "iterables.ipynb",
   "provenance": []
  },
  "kernelspec": {
   "display_name": "Python 3 (ipykernel)",
   "language": "python",
   "name": "python3"
  },
  "language_info": {
   "codemirror_mode": {
    "name": "ipython",
    "version": 3
   },
   "file_extension": ".py",
   "mimetype": "text/x-python",
   "name": "python",
   "nbconvert_exporter": "python",
   "pygments_lexer": "ipython3",
   "version": "3.11.7"
  },
  "rise": {
   "scroll": true
  },
  "toc": {
   "base_numbering": 1,
   "nav_menu": {},
   "number_sections": true,
   "sideBar": true,
   "skip_h1_title": false,
   "title_cell": "Table of Contents",
   "title_sidebar": "Contents",
   "toc_cell": false,
   "toc_position": {
    "height": "calc(100% - 180px)",
    "left": "10px",
    "top": "150px",
    "width": "512px"
   },
   "toc_section_display": true,
   "toc_window_display": true
  },
  "toc-autonumbering": true
 },
 "nbformat": 4,
 "nbformat_minor": 4
}
