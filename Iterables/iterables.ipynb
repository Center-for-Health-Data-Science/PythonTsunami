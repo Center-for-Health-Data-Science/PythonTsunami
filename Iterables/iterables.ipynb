{
 "cells": [
  {
   "cell_type": "markdown",
   "metadata": {
    "id": "YbbkpoKXtCy9"
   },
   "source": [
    "<img src=\"https://github.com/Center-for-Health-Data-Science/PythonTsunami/blob/oct_2022_3days/figures/HeaDS_logo_large_withTitle.png?raw=1\" width=\"300\">\n",
    "\n",
    "<img src=\"https://github.com/Center-for-Health-Data-Science/PythonTsunami/blob/oct_2022_3days/figures/tsunami_logo.PNG?raw=1\" width=\"600\">\n",
    "\n",
    "[![Open In Colab](https://colab.research.google.com/assets/colab-badge.svg)](https://colab.research.google.com/github/Center-for-Health-Data-Science/PythonTsunami/blob/oct_2022_3days/Iterables/iterables.ipynb#scrollTo=C45Ny6IznwGu)\n"
   ]
  },
  {
   "cell_type": "markdown",
   "metadata": {
    "id": "TuwyDkIktCzC"
   },
   "source": [
    "# Containers\n",
    "You were previously introduced to the following basic data types in Python: ``Boolean``, ``int``, ``float`` and ``str``. There are more fundamental data structures in Python which you will learn about in this notebook. \n",
    "\n",
    "These collections of data types are like containers that can contain several items. In particular, this notebook covers:\n",
    "\n",
    "* ``list``\n",
    "* ``set``\n",
    "* ``tuple``\n",
    "* ``dictionary``"
   ]
  },
  {
   "cell_type": "markdown",
   "metadata": {
    "id": "nNNFT7KttCzD"
   },
   "source": [
    "# Lists part 1\n",
    "\n",
    "> A list is a container of ordered elements that can be accessed by their index.\n",
    "\n",
    "* To create an empty list use square brackets ``[]``\n",
    "* The elements in a list are separated by commas."
   ]
  },
  {
   "cell_type": "code",
   "execution_count": null,
   "metadata": {},
   "outputs": [],
   "source": [
    "#declare an empty list\n",
    "empty_list = []\n",
    "print(empty_list)"
   ]
  },
  {
   "cell_type": "code",
   "execution_count": null,
   "metadata": {
    "id": "7P6sZAmjtCzD"
   },
   "outputs": [],
   "source": [
    "#declare a list with soem items\n",
    "tasks = [\"Install Python\", \"Learn Python\", \"Take a break\"]\n",
    "print(tasks)"
   ]
  },
  {
   "cell_type": "markdown",
   "metadata": {
    "id": "U-zdzoLAtCzE"
   },
   "source": [
    "* To find out how many elements there are in a list, you can use the built-in function ``len``."
   ]
  },
  {
   "cell_type": "code",
   "execution_count": null,
   "metadata": {
    "id": "ZM8Gz4RWtCzF"
   },
   "outputs": [],
   "source": [
    "len(tasks)"
   ]
  },
  {
   "cell_type": "markdown",
   "metadata": {
    "id": "Xxg8pJi5czAg"
   },
   "source": [
    "## Accessing values in a ``list``\n",
    "\n",
    "The elements in a list are ordered and can thus be accessed by their index. Lists start counting at ``0``,  i.e. the first element in your list lives at the index position ``0``. "
   ]
  },
  {
   "cell_type": "markdown",
   "metadata": {
    "id": "BzxGAkXqV0XI"
   },
   "source": [
    "### Accessing single elements"
   ]
  },
  {
   "cell_type": "code",
   "execution_count": null,
   "metadata": {
    "id": "S9KidDpNdCTV",
    "scrolled": true
   },
   "outputs": [],
   "source": [
    "friends = [\"Rachel\", \"Monica\", \"Phoebe\"]"
   ]
  },
  {
   "cell_type": "code",
   "execution_count": null,
   "metadata": {
    "id": "Q7jftirEDNO5"
   },
   "outputs": [],
   "source": [
    "friends[0]"
   ]
  },
  {
   "cell_type": "code",
   "execution_count": null,
   "metadata": {
    "id": "Y-YFq3U5DQ3R"
   },
   "outputs": [],
   "source": [
    "print(friends[2]) \n",
    "print(friends[3]) # IndexError"
   ]
  },
  {
   "cell_type": "markdown",
   "metadata": {
    "id": "tslhA20TdN--"
   },
   "source": [
    "**To access values from the end**, you can use a negative number to index backwards:"
   ]
  },
  {
   "cell_type": "code",
   "execution_count": null,
   "metadata": {
    "id": "sNTpreo8dNjJ"
   },
   "outputs": [],
   "source": [
    "print(friends[-1])"
   ]
  },
  {
   "cell_type": "code",
   "execution_count": null,
   "metadata": {
    "id": "Fl1laCtwDoBM"
   },
   "outputs": [],
   "source": [
    "print(friends[-3])\n",
    "print(friends[-4]) # IndexError"
   ]
  },
  {
   "cell_type": "markdown",
   "metadata": {},
   "source": [
    "**Setting elements**\n",
    "\n",
    "You can set, i.e. re-define elements in an existing list with the assignment operator"
   ]
  },
  {
   "cell_type": "code",
   "execution_count": null,
   "metadata": {},
   "outputs": [],
   "source": [
    "print(friends)\n",
    "print(friends[1])\n",
    "friends[1] = 'Chandler'\n",
    "print(friends)"
   ]
  },
  {
   "cell_type": "markdown",
   "metadata": {
    "id": "gT4HfJxCdXsD"
   },
   "source": [
    "**To check if a value is in a list**, you can use the ``in`` operator:"
   ]
  },
  {
   "cell_type": "code",
   "execution_count": null,
   "metadata": {
    "id": "lNx_OJ7AdbNh"
   },
   "outputs": [],
   "source": [
    "print(\"Rachel\" in friends) \n",
    "print(\"Jason\" in friends)\n",
    "print(\"rachel\" in friends) "
   ]
  },
  {
   "cell_type": "markdown",
   "metadata": {
    "id": "Slkq6GYKtCzJ"
   },
   "source": [
    "### Accessing multiple elements: slicing\n",
    "\n",
    "**To access several elements at once**, you can use a technique called _slicing:_\n",
    "\n",
    "```python\n",
    "    some_list[start:end:step]\n",
    "```\n",
    "\n",
    "Slicing returns a sublist of the original list (up to the entire original list).\n",
    "\n",
    "The special thing about slicing is that none of the parameters are required. By selectively including thme we can do certain things, see below.\n"
   ]
  },
  {
   "cell_type": "code",
   "execution_count": 1,
   "metadata": {},
   "outputs": [],
   "source": [
    "friends = [\"Rachel\", \"Monica\", \"Phoebe\", 'Joey', 'Chandler', 'Ross']"
   ]
  },
  {
   "cell_type": "markdown",
   "metadata": {},
   "source": [
    "If you don't specify the `end` parameter the slice will extend all the way to the end of the list:"
   ]
  },
  {
   "cell_type": "code",
   "execution_count": null,
   "metadata": {},
   "outputs": [],
   "source": [
    "#only using the start parameter\n",
    "\n",
    "# slice from index 1 (this is the second element in the list) and all the way to the end\n",
    "print(friends[1:])\n",
    "\n",
    "# slice from index 2\n",
    "print(friends[2:]) "
   ]
  },
  {
   "cell_type": "markdown",
   "metadata": {},
   "source": [
    "We can also negate the parameter to count from the back, like we did when accessing single values."
   ]
  },
  {
   "cell_type": "code",
   "execution_count": null,
   "metadata": {},
   "outputs": [],
   "source": [
    "# slice starting from the third element from the back and going forwards\n",
    "print(friends[-3:])"
   ]
  },
  {
   "cell_type": "markdown",
   "metadata": {},
   "source": [
    "We can include the `end` parameter to extract a slice from element 2 to 4. \n",
    "\n",
    "Be mindful that the `end` itself is not included! Also, remember that the first element is at index 0, not index 1. It takes some practise to get exactly the part you want."
   ]
  },
  {
   "cell_type": "code",
   "execution_count": null,
   "metadata": {},
   "outputs": [],
   "source": [
    "# slice from index 2 to 4\n",
    "print(friends[2:5]) \n",
    "\n",
    "# slice starting from index 2 up to (but excluding) index 4\n",
    "print(friends[2:4]) "
   ]
  },
  {
   "cell_type": "markdown",
   "metadata": {},
   "source": [
    "When we do not specify the `start` it will automatically be the beginning of the list (index 0). Notice that we have to put a colon `:` in front of the `end` parameter so python knows it's the `end`, not the `start`. "
   ]
  },
  {
   "cell_type": "code",
   "execution_count": null,
   "metadata": {},
   "outputs": [],
   "source": [
    "# slice up to (but excluding) index 4\n",
    "print(friends[:4]) "
   ]
  },
  {
   "cell_type": "markdown",
   "metadata": {},
   "source": [
    "The `end` parameter can be negative, just like the the `start`. In that case we count from the end of the list."
   ]
  },
  {
   "cell_type": "code",
   "execution_count": null,
   "metadata": {},
   "outputs": [],
   "source": [
    "# slice up to the (but excluding) the last element\n",
    "# = the first element from the end\n",
    "print(friends[:-1])"
   ]
  },
  {
   "cell_type": "markdown",
   "metadata": {
    "id": "e424AWDatCzK"
   },
   "source": [
    "The `step` parameter indicated that step size. If you leave it out, the step size is 1. This was done in all the examples so far.\n",
    "\n",
    "By modifying the step size we can do things like accessing only every nth element:"
   ]
  },
  {
   "cell_type": "code",
   "execution_count": null,
   "metadata": {},
   "outputs": [],
   "source": [
    "# access entire list from start to end, but only count every other element\n",
    "print(friends[::2])"
   ]
  },
  {
   "cell_type": "markdown",
   "metadata": {},
   "source": [
    "When the step size is negative we move in the opposite direction, i.e. from the end towards the front of the list."
   ]
  },
  {
   "cell_type": "code",
   "execution_count": null,
   "metadata": {},
   "outputs": [],
   "source": [
    "print(friends[::-1])"
   ]
  },
  {
   "cell_type": "markdown",
   "metadata": {
    "id": "taqKnUx8avlW"
   },
   "source": [
    "# Exercise 1\n",
    "\n",
    "_~ 20 minutes_"
   ]
  },
  {
   "cell_type": "markdown",
   "metadata": {
    "id": "ctcR-7RYtCzN"
   },
   "source": [
    "### a. Defining a list\n",
    "\n",
    "Let's start with defining a list called `random_things` that is at least 4 elements long.  The data is completely up to you, but it must contain at least 1 `str` and 1 `float`. \n",
    "\n",
    "Use the ``len`` function to check if your list is indeed at least 4 elements long."
   ]
  },
  {
   "cell_type": "code",
   "execution_count": null,
   "metadata": {
    "id": "4umAIKkttCzN"
   },
   "outputs": [],
   "source": [
    "# your code goes here"
   ]
  },
  {
   "cell_type": "markdown",
   "metadata": {
    "id": "x45KkQBna26L"
   },
   "source": [
    "### b. Slicing\n",
    "\n",
    "Next, we should practice accessing elements in a list."
   ]
  },
  {
   "cell_type": "code",
   "execution_count": null,
   "metadata": {
    "id": "t4EtageVbCkv"
   },
   "outputs": [],
   "source": [
    "sund_centers = ['BRIC', 'CPR', 'CBMR', 'reNEW', 'CTN', 'HeaDS', 'Globe', 'Vet', 'Pharma']\n",
    "\n",
    "###\n",
    "# your code goes below\n",
    "###\n",
    "\n",
    "# display the first element in sund_centers\n",
    "\n",
    "# display the last element in sund_centers\n",
    "\n",
    "# display all but the last element in sund_centers\n",
    "\n",
    "# display the last 3 elements\n",
    "\n",
    "# display every second element\n",
    "\n",
    "# display ever second element starting from 'CPR'\n"
   ]
  },
  {
   "cell_type": "markdown",
   "metadata": {
    "id": "LczWRzjbtCzO"
   },
   "source": [
    "**Quiz**\n",
    "\n",
    "Given a list `numbers = ['one','two','three','four']` - what do the following slices return and **why**? \n",
    "\n",
    "- **slice 1** `numbers[::-1]`:\n",
    "\n",
    "    (a) `['one','two','three','four']`  \n",
    "    (b) `['one','four']`  \n",
    "    (c) `['four','three','two','one']`  \n",
    "    (d) `['four']`  \n",
    "\n",
    "\n",
    "- **slice 2**: `numbers[1:3]` :\n",
    "\n",
    "    (a) `['one','two','three']`  \n",
    "    (b) `['two','three']`   \n",
    "    (c) `['two','three','four']`  \n",
    "    (d) `['one','two']`  \n",
    "    (e) `['three']`  \n",
    "    \n",
    "\n",
    "- **slice 3**: `numbers[-2]` :\n",
    "\n",
    "    (a) `['three']`  \n",
    "    (b) `'three'`  \n",
    "    (c) `['one','two','three']`  \n",
    "    (d) `['two']`  \n",
    "    (e) `'two`  "
   ]
  },
  {
   "cell_type": "code",
   "execution_count": null,
   "metadata": {
    "id": "Vyeh3D2DtCzO"
   },
   "outputs": [],
   "source": [
    "# if you are unsure, just try it out here"
   ]
  },
  {
   "cell_type": "markdown",
   "metadata": {
    "id": "rYl080_XJen9"
   },
   "source": [
    "### c. Setting values\n",
    "\n",
    "Here you have a list of names, but it contains a few spelling errors. Correct the entries in the list **by accessing an element by its index** and assigning a new string.\n",
    "\n",
    "    - Change \"Petre\" to \"Peter\"\n",
    "    - Change \"Monika\" to \"Monica\"\n",
    "    - Change \"george\" to \"George\" (capitalize it)"
   ]
  },
  {
   "cell_type": "code",
   "execution_count": null,
   "metadata": {
    "id": "oIVGbBjzJsGp"
   },
   "outputs": [],
   "source": [
    "people = [\"Petre\",\"Joanna\",\"Louis\",\"Angie\",\"Monika\",\"george\"]"
   ]
  },
  {
   "cell_type": "code",
   "execution_count": null,
   "metadata": {},
   "outputs": [],
   "source": [
    "# your code goes here"
   ]
  },
  {
   "cell_type": "markdown",
   "metadata": {
    "id": "lAqWTd6jeFlg"
   },
   "source": [
    "# Lists part 2"
   ]
  },
  {
   "cell_type": "markdown",
   "metadata": {
    "id": "K9hVHmTKtCzM"
   },
   "source": [
    "## Nested Lists\n",
    "Lists can contain any kind of element, even other lists!\n"
   ]
  },
  {
   "cell_type": "code",
   "execution_count": null,
   "metadata": {
    "id": "Hgned_74tCzM"
   },
   "outputs": [],
   "source": [
    "nested_list = [[1, 2, 3],\n",
    "               [4, 5, 6],\n",
    "               [7, 8, 9]]\n",
    "print(nested_list)"
   ]
  },
  {
   "cell_type": "markdown",
   "metadata": {},
   "source": [
    "You access the individual sublists in the same way as we accessed simple elements before:"
   ]
  },
  {
   "cell_type": "code",
   "execution_count": null,
   "metadata": {},
   "outputs": [],
   "source": [
    "# returns the first sublist\n",
    "nested_list[0]"
   ]
  },
  {
   "cell_type": "markdown",
   "metadata": {},
   "source": [
    "To access an element inside a sublist of a list, you first need to access the sublist by its index and then the element in the sublist by its index in the sublist:"
   ]
  },
  {
   "cell_type": "code",
   "execution_count": null,
   "metadata": {},
   "outputs": [],
   "source": [
    "# This will return 2, the 1st element in the 0th sublist.\n",
    "nested_list[0][1] "
   ]
  },
  {
   "cell_type": "markdown",
   "metadata": {
    "id": "9rjTlzPOZWmm"
   },
   "source": [
    "Did you know that strings behave a lot like lists, too? They are what we call ``subscriptable``. A string is not a simple element like an integer. It consists of a sequence of characters, which you can access just like list elements."
   ]
  },
  {
   "cell_type": "code",
   "execution_count": null,
   "metadata": {
    "id": "RzeYo6DCaWvx"
   },
   "outputs": [],
   "source": [
    "my_string = \"Programming is fun!\"\n",
    "print(my_string[:11])\n",
    "print(my_string[-4:])\n",
    "print(my_string[::-1])"
   ]
  },
  {
   "cell_type": "markdown",
   "metadata": {
    "id": "gNaMjfLLIBLj"
   },
   "source": [
    "## List Methods\n",
    "\n",
    "Working with lists is very common - here are a few things we can do!\n",
    "\n",
    "**Adding elements to a list:**\n",
    "* ``append``: add an item to the end of the list.\n",
    "* ``extend``: add to the end of a list all values passed to extend.\n",
    "* ``insert``: insert an item at a given position. \n",
    "\n",
    "Note on append/extend: append is for adding single elements, extend for appending multiple elements from another iterable"
   ]
  },
  {
   "cell_type": "code",
   "execution_count": null,
   "metadata": {
    "id": "5_vJErJOeP2Z"
   },
   "outputs": [],
   "source": [
    "# append\n",
    "first_list = ['one', 'two', 'three', 'four']\n",
    "first_list.append('five')\n",
    "print(first_list)"
   ]
  },
  {
   "cell_type": "code",
   "execution_count": null,
   "metadata": {
    "id": "GXVZAUUxR8QE"
   },
   "outputs": [],
   "source": [
    "# but careful with this one!\n",
    "first_list = ['one', 'two', 'three', 'four']\n",
    "first_list.append(['five','six'])\n",
    "print(first_list)"
   ]
  },
  {
   "cell_type": "code",
   "execution_count": null,
   "metadata": {
    "id": "7cKbC3ecediY"
   },
   "outputs": [],
   "source": [
    "# extend\n",
    "correct_list = ['one', 'two', 'three', 'four']\n",
    "correct_list.extend(['five','six', 'seven', 'eight'])\n",
    "print(correct_list) "
   ]
  },
  {
   "cell_type": "code",
   "execution_count": null,
   "metadata": {
    "id": "sYi8TBMdewL7"
   },
   "outputs": [],
   "source": [
    "# insert\n",
    "first_list = ['one', 'two', 'three', 'four']\n",
    "first_list.insert(2, 'Hi!')\n",
    "print(first_list) "
   ]
  },
  {
   "cell_type": "markdown",
   "metadata": {
    "id": "zmgIlhMltCzP"
   },
   "source": [
    "**Removing elements from a list:**\n",
    "* ``clear``: remove all items from a list.\n",
    "* ``pop``\n",
    "    - Remove the item at the given position in the list, and return it.\n",
    "    - If no index is specified, removes & returns last item in the list.\n",
    "* ``del``: deletes a value from a list."
   ]
  },
  {
   "cell_type": "code",
   "execution_count": null,
   "metadata": {
    "id": "Id7y6YRFe9TD"
   },
   "outputs": [],
   "source": [
    "# clear\n",
    "first_list = ['one', 'two', 'three', 'four']\n",
    "first_list.clear()\n",
    "print(first_list)"
   ]
  },
  {
   "cell_type": "code",
   "execution_count": null,
   "metadata": {
    "id": "pFvzWU_1fGiy"
   },
   "outputs": [],
   "source": [
    "# pop\n",
    "first_list = ['one', 'two', 'three', 'four']\n",
    "last_item = first_list.pop() \n",
    "print(last_item)\n",
    "second_item = first_list.pop(1) \n",
    "print(second_item)\n",
    "\n",
    "# the elements are then not in the list anymore\n",
    "print(first_list)"
   ]
  },
  {
   "cell_type": "code",
   "execution_count": null,
   "metadata": {
    "id": "MZ8i_N2ofpDr"
   },
   "outputs": [],
   "source": [
    "# del \n",
    "first_list = ['one', 'two', 'three', 'four']\n",
    "del first_list[3]\n",
    "print(first_list)\n",
    "del first_list[1]\n",
    "print(first_list)"
   ]
  },
  {
   "cell_type": "markdown",
   "metadata": {
    "id": "IrdUeLmFtCzQ"
   },
   "source": [
    "**Other useful list methods:**\n",
    "* `count`: return the number of times x appears in the list.\n",
    "* `sort`: sort the items of the list (in-place).\n",
    "* `copy`: take a list and assign a copy to a new variable."
   ]
  },
  {
   "cell_type": "code",
   "execution_count": null,
   "metadata": {
    "id": "KC6ij_FDtCzQ"
   },
   "outputs": [],
   "source": [
    "# count\n",
    "numbers = [1, 2, 3, 4, 3, 2, 1, 4, 10, 2]\n",
    "\n",
    "# count how often 2 appears in the list\n",
    "print(numbers.count(2))\n",
    "\n",
    "# count how often 21 appears in the list\n",
    "print(numbers.count(21))"
   ]
  },
  {
   "cell_type": "code",
   "execution_count": null,
   "metadata": {
    "id": "UO32yPUmtCzR"
   },
   "outputs": [],
   "source": [
    "# sort\n",
    "another_list = [6, 4, 1, 2, 5]\n",
    "another_list.sort()\n",
    "print(another_list)"
   ]
  },
  {
   "cell_type": "code",
   "execution_count": null,
   "metadata": {
    "id": "WzV0P8MC3jXl"
   },
   "outputs": [],
   "source": [
    "# copy\n",
    "unsorted_list = [6, 4, 1, 2, 5]\n",
    "\n",
    "# just assigning a list to a new variable name does not copy it\n",
    "# you now simply have to variable names pointing to the same list\n",
    "sorted_list = unsorted_list\n",
    "sorted_list.sort()\n",
    "print(sorted_list)\n",
    "print(unsorted_list)"
   ]
  },
  {
   "cell_type": "code",
   "execution_count": null,
   "metadata": {
    "id": "z8l2XQav5YU2"
   },
   "outputs": [],
   "source": [
    "# this is the way to copy a list\n",
    "import copy\n",
    "\n",
    "unsorted_list = [6, 4, 1, 2, 5]\n",
    "\n",
    "sorted_list = copy.deepcopy(unsorted_list)\n",
    "sorted_list.sort()\n",
    "print(sorted_list)\n",
    "print(unsorted_list)"
   ]
  },
  {
   "cell_type": "markdown",
   "metadata": {
    "id": "zyZO6bhUMl6g"
   },
   "source": [
    "# Exercise 2\n",
    "\n",
    "_~15 minutes_"
   ]
  },
  {
   "cell_type": "markdown",
   "metadata": {
    "id": "F3kAmr_VtCzS"
   },
   "source": [
    "Find the instructions as comments."
   ]
  },
  {
   "cell_type": "code",
   "execution_count": 6,
   "metadata": {
    "id": "kokClbfGldqK"
   },
   "outputs": [],
   "source": [
    "shopping_list = [['apples','bananas','oranges'],\n",
    "                 ['milk', 'eggs', 'cheese'],\n",
    "                 ['soap', 'toothbrush', 'tissues']]\n",
    "\n",
    "\n",
    "# your code goes here\n",
    "\n",
    "\n",
    "# add one item to every sublist in shopping_list\n",
    "\n",
    "# remove the last sublist from shopping_list\n",
    "\n",
    "# make a copy of the shopping list called new_list\n",
    "\n",
    "# make new_list a 'flat' list (non-nested) without changing the original shopping_list\n",
    "# Tip: take the first sublist and extend it with the second\n"
   ]
  },
  {
   "cell_type": "markdown",
   "metadata": {
    "id": "--PTuLUitCzS"
   },
   "source": [
    "# Sets\n",
    "\n",
    "> A set is a collection of unqiue, unordered, (unchangeable,) and unindexed elements.\n",
    "\n",
    "* To create an empty set:\n",
    "    * use curly brackets ``{}``.\n",
    "* **Unique elements:** Each element in a set can only appear once.\n",
    "* **Unordered and unindexed elements:** In a set, you cannot know in which order the elements might appear. Since the elements can appear in any order, they do not have an index and you therefore cannot access the elements of a set by an index.\n",
    "* **\"Unchangeable\" elements:** You cannot change or update the elements of a set, but you can remove or add new items."
   ]
  },
  {
   "cell_type": "code",
   "execution_count": null,
   "metadata": {
    "id": "elOhaC7HtCzS"
   },
   "outputs": [],
   "source": [
    "# create a set\n",
    "number_set = {1,2,3}"
   ]
  },
  {
   "cell_type": "markdown",
   "metadata": {
    "id": "Wy8wy7x1A7r8"
   },
   "source": [
    "Why is this useful?\n",
    "\n",
    "I personally like it to get all unique values in a list."
   ]
  },
  {
   "cell_type": "code",
   "execution_count": null,
   "metadata": {
    "id": "ST0tFE1eBF2i"
   },
   "outputs": [],
   "source": [
    "my_list = [1,4,7,1,2,3,3,7,2,7,7,1]\n",
    "set(my_list)"
   ]
  },
  {
   "cell_type": "markdown",
   "metadata": {},
   "source": [
    "Having set objects allows you to perform set operations such as:\n",
    "- union\n",
    "- intersection\n",
    "- set difference"
   ]
  },
  {
   "cell_type": "code",
   "execution_count": null,
   "metadata": {},
   "outputs": [],
   "source": [
    "fav_foods = {'pizza', 'pasta', 'sushi','ice cream'}\n",
    "\n",
    "deserts = {'cake', 'pancake', 'ice cream'}\n",
    "carbs = {'pizza', 'pasta', 'potatoes'}\n",
    "asian_foods = {'pho', 'stir fry', 'sushi'}\n",
    "\n"
   ]
  },
  {
   "cell_type": "code",
   "execution_count": null,
   "metadata": {},
   "outputs": [],
   "source": [
    "# Which of my favorite foods are also carbs?\n",
    "\n",
    "fav_foods.intersection(carbs)"
   ]
  },
  {
   "cell_type": "code",
   "execution_count": null,
   "metadata": {},
   "outputs": [],
   "source": [
    "# Its diet week and we're not having desert. Which foods are left from the favorite set?\n",
    "# Notice that difference is directional! What do you get if you swap the sets below?\n",
    "\n",
    "fav_foods - deserts"
   ]
  },
  {
   "cell_type": "code",
   "execution_count": null,
   "metadata": {},
   "outputs": [],
   "source": [
    "# Lets say a restaurant wants to do everything from the deserts and carbs sets, whats their entire menu?\n",
    "menu = deserts.union(carbs)\n",
    "menu"
   ]
  },
  {
   "cell_type": "markdown",
   "metadata": {
    "id": "wveXX--OtCzU"
   },
   "source": [
    "# Dictionaries\n",
    "\n",
    "> A dictionary stores (key, value) pairs.\n",
    "\n",
    "- Dictionaries are created with curly brackets ``{key: value}``\n",
    "- Dictionaries are ordered by insertion order since `Python 3.5`.\n",
    "- Dictionary values are accessed by keys.\n",
    "- Each key in the dictionary is unique and duplicates are not allowed."
   ]
  },
  {
   "cell_type": "code",
   "execution_count": null,
   "metadata": {
    "id": "tSEf7q93tCzU"
   },
   "outputs": [],
   "source": [
    "# define dictionary\n",
    "city_population = {\n",
    "    'Tokyo': 13350000, # a key-value pair\n",
    "    'Los Angeles': 18550000,\n",
    "    'New York City': 8400000,\n",
    "    'San Francisco': 1837442,\n",
    "}\n",
    "\n",
    "# display dictionary\n",
    "city_population"
   ]
  },
  {
   "cell_type": "code",
   "execution_count": null,
   "metadata": {
    "id": "-lV-6YhFtCzV",
    "scrolled": true
   },
   "outputs": [],
   "source": [
    "# access the value for the key 'New York City'\n",
    "print(city_population['New York City'])"
   ]
  },
  {
   "cell_type": "markdown",
   "metadata": {
    "id": "W28zXueotCzV"
   },
   "source": [
    "**Change values** by specifying the key and using the `=` operator:"
   ]
  },
  {
   "cell_type": "code",
   "execution_count": null,
   "metadata": {
    "id": "zEO6zMW0tCzV"
   },
   "outputs": [],
   "source": [
    "city_population['New York City'] = 73847834\n",
    "city_population"
   ]
  },
  {
   "cell_type": "markdown",
   "metadata": {
    "id": "tZkmy0OstCzV"
   },
   "source": [
    "**To add a new (key, value) pair**, you can choose between different ways:"
   ]
  },
  {
   "cell_type": "code",
   "execution_count": null,
   "metadata": {
    "id": "n1sGlyShtCzV"
   },
   "outputs": [],
   "source": [
    "# using the = operator\n",
    "city_population['Copenhagen'] = 1000000\n",
    "\n",
    "# using the update method\n",
    "city_population.update({'Barcelona': 5000000})\n",
    "\n",
    "city_population"
   ]
  },
  {
   "cell_type": "markdown",
   "metadata": {
    "id": "6PtI2mURtCzW"
   },
   "source": [
    "**A dictionary can hold complex data types as values:**"
   ]
  },
  {
   "cell_type": "code",
   "execution_count": null,
   "metadata": {
    "id": "Stn-a7lZtCzW"
   },
   "outputs": [],
   "source": [
    "food = {\"fruits\": [\"apple\", \"orange\"], \"vegetables\": [\"carrot\", \"eggplant\"]}"
   ]
  },
  {
   "cell_type": "code",
   "execution_count": null,
   "metadata": {
    "id": "BMbxYPZZtCzW"
   },
   "outputs": [],
   "source": [
    "# access the value of the key \"fruits\"\n",
    "print(food[\"fruits\"])\n",
    "\n",
    "# access element at index 0 in the list\n",
    "print(food[\"fruits\"][0])"
   ]
  },
  {
   "cell_type": "markdown",
   "metadata": {
    "id": "BdOh9WzstCzW"
   },
   "source": [
    "**To remove a (key, value) pair from the dictionary:**"
   ]
  },
  {
   "cell_type": "code",
   "execution_count": null,
   "metadata": {
    "id": "f3PZs_HZ-DWT"
   },
   "outputs": [],
   "source": [
    "food"
   ]
  },
  {
   "cell_type": "code",
   "execution_count": null,
   "metadata": {
    "id": "FBcRqg9OtCzW"
   },
   "outputs": [],
   "source": [
    "del food['vegetables']"
   ]
  },
  {
   "cell_type": "code",
   "execution_count": null,
   "metadata": {
    "id": "-RoC7lJ2tCzX"
   },
   "outputs": [],
   "source": [
    "food"
   ]
  },
  {
   "cell_type": "markdown",
   "metadata": {
    "id": "SW1Ggx4ytCzX"
   },
   "source": [
    "# Tuples\n",
    "\n",
    "> A tuple is an (immutable) ordered container of values. \n",
    "\n",
    "* To create a tuple, use round brackets ``()``.\n",
    "* \"Immutable\" means that the elements of a tuple can only be accessed, but _not changed._\n",
    "* Tuples can be used as keys in dictionaries and as elements of sets whereas lists cannot!"
   ]
  },
  {
   "cell_type": "code",
   "execution_count": null,
   "metadata": {
    "id": "BfMm8NtYtCzX"
   },
   "outputs": [],
   "source": [
    "# create a tuple\n",
    "t = (5, 6)       \n",
    "\n",
    "# equal formulation \n",
    "#t = 5, 6       \n",
    "\n",
    "t"
   ]
  },
  {
   "cell_type": "code",
   "execution_count": null,
   "metadata": {},
   "outputs": [],
   "source": [
    "# a tuple can have an arbitrary amount of elements:\n",
    "t2 = (1,2,5,3,8,11)\n",
    "t2"
   ]
  },
  {
   "cell_type": "markdown",
   "metadata": {
    "id": "SDBcCrpStCzY"
   },
   "source": [
    "# Exercise 3\n",
    "\n",
    "_~ 15 minutes_"
   ]
  },
  {
   "cell_type": "markdown",
   "metadata": {
    "id": "cmK6vWHmCB8F"
   },
   "source": [
    "1. Create a dictionary with 4 elements."
   ]
  },
  {
   "cell_type": "code",
   "execution_count": null,
   "metadata": {
    "id": "V6FcD7pltCzY"
   },
   "outputs": [],
   "source": []
  },
  {
   "cell_type": "markdown",
   "metadata": {
    "id": "H4IPZ6JwtCzY"
   },
   "source": [
    "2. Create a dictionary called countries where the key is the country and the value is a (non-exhaustive) list of cities in the country."
   ]
  },
  {
   "cell_type": "code",
   "execution_count": null,
   "metadata": {
    "id": "6W9-codGtCzY"
   },
   "outputs": [],
   "source": []
  },
  {
   "cell_type": "markdown",
   "metadata": {
    "id": "lTCtZrvKtCzY"
   },
   "source": [
    "3. Access one of the keys."
   ]
  },
  {
   "cell_type": "code",
   "execution_count": null,
   "metadata": {
    "id": "C9jb9ZgstCzY"
   },
   "outputs": [],
   "source": []
  },
  {
   "cell_type": "markdown",
   "metadata": {
    "id": "_GrVUskPtCzY"
   },
   "source": [
    "4. Access one of the values, i.e. cities belonging to that key."
   ]
  },
  {
   "cell_type": "code",
   "execution_count": null,
   "metadata": {
    "id": "t-xhyk9WtCzY"
   },
   "outputs": [],
   "source": []
  },
  {
   "cell_type": "markdown",
   "metadata": {
    "id": "ZPBcoZrStCzY"
   },
   "source": [
    "5. Add another country and its list of cities."
   ]
  },
  {
   "cell_type": "code",
   "execution_count": null,
   "metadata": {
    "id": "ThFsOIc1tCzZ"
   },
   "outputs": [],
   "source": []
  },
  {
   "cell_type": "markdown",
   "metadata": {
    "id": "KK3PF2B2tCzZ"
   },
   "source": [
    "6. Remove one of the countries and its elements."
   ]
  },
  {
   "cell_type": "code",
   "execution_count": null,
   "metadata": {
    "id": "-Y9aaM7wtCzZ"
   },
   "outputs": [],
   "source": []
  }
 ],
 "metadata": {
  "colab": {
   "collapsed_sections": [
    "nNNFT7KttCzD",
    "Xxg8pJi5czAg",
    "BzxGAkXqV0XI",
    "Slkq6GYKtCzJ",
    "taqKnUx8avlW",
    "ctcR-7RYtCzN",
    "x45KkQBna26L",
    "rYl080_XJen9",
    "K9hVHmTKtCzM",
    "gNaMjfLLIBLj",
    "zyZO6bhUMl6g",
    "--PTuLUitCzS",
    "SW1Ggx4ytCzX",
    "wveXX--OtCzU",
    "SDBcCrpStCzY"
   ],
   "name": "iterables.ipynb",
   "provenance": []
  },
  "kernelspec": {
   "display_name": "Python 3 (ipykernel)",
   "language": "python",
   "name": "python3"
  },
  "language_info": {
   "codemirror_mode": {
    "name": "ipython",
    "version": 3
   },
   "file_extension": ".py",
   "mimetype": "text/x-python",
   "name": "python",
   "nbconvert_exporter": "python",
   "pygments_lexer": "ipython3",
   "version": "3.11.1"
  },
  "rise": {
   "scroll": true
  },
  "toc": {
   "base_numbering": 1,
   "nav_menu": {},
   "number_sections": true,
   "sideBar": true,
   "skip_h1_title": false,
   "title_cell": "Table of Contents",
   "title_sidebar": "Contents",
   "toc_cell": false,
   "toc_position": {
    "height": "calc(100% - 180px)",
    "left": "10px",
    "top": "150px",
    "width": "512px"
   },
   "toc_section_display": true,
   "toc_window_display": true
  },
  "toc-autonumbering": true
 },
 "nbformat": 4,
 "nbformat_minor": 1
}
