{
 "cells": [
  {
   "cell_type": "markdown",
   "metadata": {},
   "source": [
    "### Exercise 1\n",
    "1. Define a list called `random_things` that is at least 4 elements long.  The data is completely up to you, but it must contain at least 1 `str` and 1 `float`. \n",
    "2. Use the ``len`` function to check if your list is indeed 4 elements long."
   ]
  },
  {
   "cell_type": "code",
   "execution_count": 1,
   "metadata": {},
   "outputs": [
    {
     "data": {
      "text/plain": [
       "4"
      ]
     },
     "execution_count": 1,
     "metadata": {},
     "output_type": "execute_result"
    }
   ],
   "source": [
    "# your code goes here\n",
    "\n",
    "random_things = ['one', 'two', 3, 4.0]\n",
    "len(random_things)"
   ]
  },
  {
   "cell_type": "markdown",
   "metadata": {},
   "source": [
    "### Exercise 2\n",
    "\n",
    "1. The list below contains a few spelling errors. Correct the entries in the list **by accessing an element by its index** and assigning a new string.\n",
    "    - Change \"Petre\" to \"Peter\"\n",
    "    - Change \"Monika\" to \"Monica\"\n",
    "    - Change \"george\" to \"George\" (capitalize it)\n",
    "    \n",
    "2. Access the name \"Louis\" from the list. Then access the last two characters of that string and print them backwards."
   ]
  },
  {
   "cell_type": "code",
   "execution_count": 2,
   "metadata": {},
   "outputs": [],
   "source": [
    "# DON'T CHANGE ANYTHING UP HERE!\n",
    "people = [\"Petre\",\"Joanna\",\"Louis\",\"Angie\",\"Monika\",\"george\"]\n",
    "# DON'T CHANGE ANYTHING UP HERE!\n",
    "\n",
    "# your code goes here"
   ]
  },
  {
   "cell_type": "code",
   "execution_count": null,
   "metadata": {},
   "outputs": [],
   "source": [
    "print(people)\n",
    "people[0] = 'Peter'\n",
    "#print again to see that the first element of the list has changed to 'Peter' now\n",
    "print(people)"
   ]
  },
  {
   "cell_type": "code",
   "execution_count": null,
   "metadata": {},
   "outputs": [],
   "source": [
    "#find the index i.e. position of the item Monika\n",
    "print(people.index('Monika'))\n",
    "#replace Monika with Monica whereever it is. This will only work for the first instance of 'Monika'!\n",
    "people[people.index('Monika')] = 'Monica'"
   ]
  },
  {
   "cell_type": "code",
   "execution_count": null,
   "metadata": {},
   "outputs": [],
   "source": [
    "#we can comfortable access the last item in the list, 'george', by using the minus syntax in slicing\n",
    "people[-1] = 'George'"
   ]
  },
  {
   "cell_type": "code",
   "execution_count": 3,
   "metadata": {},
   "outputs": [
    {
     "name": "stdout",
     "output_type": "stream",
     "text": [
      "si\n",
      "si\n"
     ]
    }
   ],
   "source": [
    "#get the last two letters of Louis and print them backwards:\n",
    "print(people[2][-1:2:-1])\n",
    "\n",
    "#you can also do this stepwise:\n",
    "louis = people[2]\n",
    "last_two = louis[-1:2:-1]\n",
    "print(last_two)"
   ]
  },
  {
   "cell_type": "markdown",
   "metadata": {},
   "source": [
    "### Exercise 3: Quiz\n",
    "- **Question 1**: Given a list `numbers = [1,2,3,4]`  - what does `numbers[::-1]`  return?\n",
    "\n",
    "    (a) `[1,2,3,4]`  \n",
    "    (b) `[1,4]`  \n",
    "    (c) `[4,3,2,1]`  \n",
    "    (d) `[4]`  \n",
    "    \n",
    "- **Question 2**: Given a list `numbers = [1,2,3,4]`  - what does `numbers[1:3]`  return?\n",
    "\n",
    "    (a) `[1,2,3]`  \n",
    "    (b) `[2,3]`   \n",
    "    (c) `[2,3,4]`  \n",
    "    (d) `[1,2]`  \n",
    "    (e) `[3]`  \n",
    "    \n",
    "- **Question 3**: Given a list `numbers = [1,2,3,4]`  - what does `numbers[-2]`  return?\n",
    "\n",
    "    (a) `[3]`  \n",
    "    (b) `3`  \n",
    "    (c) `[1,2,3]`  \n",
    "    (d) `[2]`  \n",
    "    (e) `2`  "
   ]
  },
  {
   "cell_type": "code",
   "execution_count": 4,
   "metadata": {},
   "outputs": [],
   "source": [
    "numbers = [1,2,3,4]"
   ]
  },
  {
   "cell_type": "code",
   "execution_count": 5,
   "metadata": {},
   "outputs": [
    {
     "data": {
      "text/plain": [
       "[4, 3, 2, 1]"
      ]
     },
     "execution_count": 5,
     "metadata": {},
     "output_type": "execute_result"
    }
   ],
   "source": [
    "#Q1\n",
    "numbers[::-1]"
   ]
  },
  {
   "cell_type": "code",
   "execution_count": 6,
   "metadata": {},
   "outputs": [
    {
     "data": {
      "text/plain": [
       "[2, 3]"
      ]
     },
     "execution_count": 6,
     "metadata": {},
     "output_type": "execute_result"
    }
   ],
   "source": [
    "#Q2\n",
    "numbers[1:3]"
   ]
  },
  {
   "cell_type": "code",
   "execution_count": 7,
   "metadata": {},
   "outputs": [
    {
     "data": {
      "text/plain": [
       "3"
      ]
     },
     "execution_count": 7,
     "metadata": {},
     "output_type": "execute_result"
    }
   ],
   "source": [
    "#Q3\n",
    "numbers[-2]"
   ]
  },
  {
   "cell_type": "markdown",
   "metadata": {},
   "source": [
    "## Exercise 4:\n",
    "\n",
    "Create a list called instructors\n",
    "\n",
    "1. Add the following strings to the instructors list \n",
    "* \"Marc\"\n",
    "* \"Rita\"\n",
    "* \"Henry\"\n",
    "\n",
    "2. Remove the last value in the list\n",
    "\n",
    "3. Add the string \"Done\" to the beginning of the list\n",
    "\n",
    "4. Print to make sure you did this right\n"
   ]
  },
  {
   "cell_type": "code",
   "execution_count": 8,
   "metadata": {},
   "outputs": [
    {
     "name": "stdout",
     "output_type": "stream",
     "text": [
      "['Marc', 'Rita']\n",
      "['Done', 'Marc', 'Rita']\n"
     ]
    }
   ],
   "source": [
    "#declare list\n",
    "i = [\"Marc\",\"Rita\",\"Henry\"]\n",
    "\n",
    "# Remove the last value in the list\n",
    "del i[-1]\n",
    "print(i)\n",
    "\n",
    "# Remove the first value in the list\n",
    " \n",
    "# Add the string \"Done\" to the beginning of the list\n",
    "i.insert(0, 'Done')\n",
    "print(i)\n",
    "\n",
    "# Print to make sure you did this right"
   ]
  },
  {
   "cell_type": "markdown",
   "metadata": {},
   "source": [
    "### Exercise 5: Quiz\n",
    "1. Question: What method here does not add one or more elements to a list?\n",
    "    1. extend\n",
    "    2. add (x)\n",
    "    3. append  \n",
    "    4. insert\n",
    "\n",
    "`add` is a method of sets, not lists.\n",
    "\n",
    "2. Question: Given a list `numbers = [1,2,3]` how would you access the first element in the list?\n",
    "\n",
    "`numbers[0]`\n",
    "\n",
    "3. Question: Given a list `numbers = [1,2,3]` what would the result of `numbers.pop(5)` be?\n",
    "    \n",
    "    1. `None`\n",
    "    2. `IndexError` (x)\n",
    "    3. `3`\n",
    "\n",
    "`Numbers` only has 3 elements, we cannot remove 5.\n",
    "\n",
    "4. Question: Which of the following is not true about lists:\n",
    "    1. You can only store basic data types in it \n",
    "    2. The index starts at 1 (x)\n",
    "    3. They are collections of elements\n",
    "    \n",
    "Indices in python always start at 0.    "
   ]
  },
  {
   "cell_type": "markdown",
   "metadata": {},
   "source": [
    "## Exercise 6\n",
    "\n",
    "1. Examine the three examples below: Is there a difference between case a) and case b)? \n",
    "\n",
    "**Example 1:**\n",
    "```python\n",
    "first_set.difference(second_set)     # case a)\n",
    "second_set.difference(first_set)     # case b)\n",
    "```\n",
    "\n",
    "There is a difference since set differences are by definition directional. `first_set.difference(second_set)` are the elements in `first_set` that are not in `second_set`. \n",
    "\n",
    "**Example 2:**\n",
    "```python\n",
    "first_set.intersection(second_set)     # case a)\n",
    "second_set.intersection(first_set)     # case b)\n",
    "```\n",
    "\n",
    "**Example 3:**\n",
    "```python\n",
    "first_set.union(second_set)     # case a)\n",
    "second_set.union(first_set)     # case b)\n",
    "```\n",
    "\n",
    "The intersection and union of two sets are not directional and there is therefore no difference.\n",
    "\n",
    "2. Can you think of a use case in which it makes more sense to use a ``set`` than a ``list``? And vice versa: when does it make more sense to use a ``list`` instead of a ``set``?\n",
    "\n",
    "Sets are composed of unique elements, therefore the preferable data structure if each element can only occur once. They are intrinsically unordered which speeds up look-up compared to lists. \n",
    "\n",
    "Lists have an order unlike sets and therefore preserve the order in which elements where added. Look-up can become slow with large lists since the entire list needs to be traversed to find out whether it contains element x or not."
   ]
  },
  {
   "cell_type": "markdown",
   "metadata": {},
   "source": [
    "### Exercises 7\n",
    "\n",
    "1. Create a dictionary with 4 elements.\n",
    "2. List the keys in the dictionary.\n",
    "3. List the values in the dictionary.\n",
    "4. Create a dictionary where values are lists (i.e countries (keys), cities (values)) and access one of the keys and one of the values in the list.\n",
    "5. Add another country and its list of cities.\n",
    "6. Remove one of the countries and its elements."
   ]
  },
  {
   "cell_type": "code",
   "execution_count": 11,
   "metadata": {},
   "outputs": [],
   "source": [
    "#1\n",
    "d = {'name': 'John Doe',\n",
    "     'age': 40,\n",
    "     'BMI': 25,\n",
    "     'smoker': True}"
   ]
  },
  {
   "cell_type": "code",
   "execution_count": null,
   "metadata": {},
   "outputs": [],
   "source": [
    "#2\n",
    "d.keys()"
   ]
  },
  {
   "cell_type": "code",
   "execution_count": null,
   "metadata": {},
   "outputs": [],
   "source": [
    "#3\n",
    "d.values()"
   ]
  },
  {
   "cell_type": "code",
   "execution_count": null,
   "metadata": {},
   "outputs": [],
   "source": [
    "#4\n",
    "d2 = {'Denmark': ['Copenhagen', 'Esbjerg'],\n",
    "      'France': ['Paris', 'Lyon'],\n",
    "      'UK': ['London','Bristol']}\n",
    "\n",
    "d2['Denmark'][0]"
   ]
  },
  {
   "cell_type": "code",
   "execution_count": null,
   "metadata": {},
   "outputs": [],
   "source": [
    "#5\n",
    "d2['Italy'] = ['Rome', 'Napoli']\n",
    "d2"
   ]
  },
  {
   "cell_type": "code",
   "execution_count": null,
   "metadata": {},
   "outputs": [],
   "source": [
    "#6 \n",
    "del d2['UK']\n",
    "d2"
   ]
  }
 ],
 "metadata": {
  "kernelspec": {
   "display_name": "Python 3",
   "language": "python",
   "name": "python3"
  },
  "language_info": {
   "codemirror_mode": {
    "name": "ipython",
    "version": 3
   },
   "file_extension": ".py",
   "mimetype": "text/x-python",
   "name": "python",
   "nbconvert_exporter": "python",
   "pygments_lexer": "ipython3",
   "version": "3.8.5"
  }
 },
 "nbformat": 4,
 "nbformat_minor": 4
}
