{
 "cells": [
  {
   "cell_type": "markdown",
   "id": "8ed220f0",
   "metadata": {},
   "source": [
    "<img src=\"../figures/HeaDS_logo_large_withTitle.png\" width=\"300\">\n",
    "\n",
    "<img src=\"../figures/tsunami_logo.PNG\" width=\"600\">\n",
    "\n",
    "[![Open In Colab](https://colab.research.google.com/assets/colab-badge.svg)](https://colab.research.google.com/github/Center-for-Health-Data-Science/PythonTsunami/blob/intro/Visualizations/plotly.ipynb)"
   ]
  },
  {
   "cell_type": "markdown",
   "id": "c3917388",
   "metadata": {},
   "source": [
    "# Plotly\n",
    "\n",
    "*Prepared by Alberto Santos at [HeaDS](https://heads.ku.dk/)\n",
    "\n",
    "### Python Open Source Graphing Library\n",
    "\n",
    "Plotly's Python graphing library makes interactive, publication-quality graphs. Examples of how to make line plots, scatter plots, area charts, bar charts, error bars, box plots, histograms, heatmaps, subplots, multiple-axes, polar charts, and bubble charts.\n",
    "\n",
    "![gallery](https://miro.medium.com/max/1458/1*qKpV3vkPZYoffsvFSEuw8A.png)\n",
    "\n",
    "\n",
    "Plotly has an easy-to-use interface to it called [Plotly express](https://plotly.com/python/plotly-express/). This library makes plotting with Plotly very easy. Plotly express works nicely with Pandas dataframes as input, we just need to specify which columns need to be plotted.\n",
    "\n",
    "**`Note`: If our dataframe has not the right format (the columns we need), we may need to change the shape**. Have a look at the [melt method in Pandas](https://pandas.pydata.org/pandas-docs/stable/reference/api/pandas.melt.html).\n"
   ]
  },
  {
   "cell_type": "code",
   "execution_count": null,
   "id": "81f05b77",
   "metadata": {},
   "outputs": [],
   "source": [
    "import pandas as pd\n",
    "\n",
    "df = pd.DataFrame({'Year': {0: '2000', 1: '2010', 2: '2012'},\n",
    "                   'Canada': {0: 1, 1: 3, 2: 5},\n",
    "                   'USA': {0: 2, 1: 4, 2: 6}})\n",
    "\n",
    "df"
   ]
  },
  {
   "cell_type": "code",
   "execution_count": null,
   "id": "4319f565",
   "metadata": {},
   "outputs": [],
   "source": [
    "pd.melt(df, id_vars=['Year'], value_vars=['Canada', 'USA'])"
   ]
  },
  {
   "cell_type": "code",
   "execution_count": null,
   "id": "05d4b903",
   "metadata": {},
   "outputs": [],
   "source": [
    "#automated plotly update\n",
    "import plotly\n",
    "if tuple(int(x) for x in plotly.__version__.split('.')) < (4,14):\n",
    "    !pip install plotly --upgrade\n",
    "    !pip install plotly.express\n",
    "exit()"
   ]
  },
  {
   "cell_type": "code",
   "execution_count": null,
   "id": "43ce8d60",
   "metadata": {},
   "outputs": [],
   "source": [
    "import plotly.express as px"
   ]
  },
  {
   "cell_type": "markdown",
   "id": "80557d2e",
   "metadata": {},
   "source": [
    "# Line Charts\n",
    "\n",
    "\n",
    "How to make line charts in Python with Plotly.\n",
    "\n",
    "With px.line, each data point is represented as a vertex (which location is given by the x and y columns) of a polyline mark in 2D space."
   ]
  },
  {
   "cell_type": "code",
   "execution_count": null,
   "id": "ecde116a",
   "metadata": {},
   "outputs": [],
   "source": [
    "df = px.data.gapminder().query(\"country=='Canada'\")"
   ]
  },
  {
   "cell_type": "code",
   "execution_count": null,
   "id": "a8175e45",
   "metadata": {},
   "outputs": [],
   "source": [
    "df.head()"
   ]
  },
  {
   "cell_type": "code",
   "execution_count": null,
   "id": "6295d14d",
   "metadata": {},
   "outputs": [],
   "source": [
    "fig = px.line(df, x=\"year\", y=\"lifeExp\", title='Life expectancy in Canada')\n",
    "fig.show()"
   ]
  },
  {
   "cell_type": "code",
   "execution_count": null,
   "id": "25616be0",
   "metadata": {},
   "outputs": [],
   "source": [
    "df = px.data.gapminder().query(\"continent=='Oceania'\")"
   ]
  },
  {
   "cell_type": "code",
   "execution_count": null,
   "id": "84437c97",
   "metadata": {},
   "outputs": [],
   "source": [
    "df.head()"
   ]
  },
  {
   "cell_type": "code",
   "execution_count": null,
   "id": "6fa063e0",
   "metadata": {},
   "outputs": [],
   "source": [
    "fig = px.line(df, x=\"year\", y=\"lifeExp\", color='country')\n",
    "fig.show()"
   ]
  },
  {
   "cell_type": "markdown",
   "id": "d1e73236",
   "metadata": {},
   "source": [
    "## Layout Basics\n",
    "In the examples above, we plot the charts immediately using `px.line(df, params)`, but in order to influence the other parts of the plot, you can assign it into the a variable. As standard `fig = px.chart_type()` is used. In such a case, you render the plot using `fig.show()`"
   ]
  },
  {
   "cell_type": "code",
   "execution_count": null,
   "id": "f305bb76",
   "metadata": {},
   "outputs": [],
   "source": [
    "fig = px.line(df, x=\"year\", y=\"lifeExp\", color='country')\n",
    "fig.update_layout(template=\"plotly_dark\")\n",
    "fig.show()"
   ]
  },
  {
   "cell_type": "markdown",
   "id": "0d0ff459",
   "metadata": {},
   "source": [
    "### Tooltips\n",
    "* `hover_name` - highlights value of this column on the top of the tooltip\n",
    "* `hover_data` - let you add or remove tooltips by setting them True/False\n",
    "* `labels` - let you rename the column names inside the tooltip\n",
    "\n",
    "You can also use the icons in the Plotly interactive menu to change between single tooltip appearing or a tooltip for all the lines at the `x` coordinate you hover over - `show closest data on hover` vs `compare data on hover` icons."
   ]
  },
  {
   "cell_type": "code",
   "execution_count": null,
   "id": "9413be46",
   "metadata": {},
   "outputs": [],
   "source": [
    "fig = px.line(df,\n",
    "              x=\"year\",\n",
    "              y=\"lifeExp\",\n",
    "              color='country',\n",
    "              hover_name=\"country\",\n",
    "              text=\"lifeExp\",\n",
    "              labels={\"country\": \"\"},\n",
    "              title=\"Life expectancy per year\")\n",
    "\n",
    "fig.update_traces(texttemplate='%{text:.2f}', textposition=\"top center\")\n",
    "fig.show()"
   ]
  },
  {
   "cell_type": "markdown",
   "id": "652b3641",
   "metadata": {},
   "source": [
    "## Exercise -- Breakout Rooms\n",
    "\n",
    "1) Create a line chart for continent 'Americas'\n"
   ]
  },
  {
   "cell_type": "code",
   "execution_count": null,
   "id": "132acdd7",
   "metadata": {},
   "outputs": [],
   "source": []
  },
  {
   "cell_type": "markdown",
   "id": "88cf8eb0",
   "metadata": {},
   "source": [
    "2) Add a tool tip so that when you hover over it will provide information about life expectancy, population, GDP and country code."
   ]
  },
  {
   "cell_type": "markdown",
   "id": "9994ad6d",
   "metadata": {},
   "source": []
  },
  {
   "cell_type": "markdown",
   "id": "94ad7c3f",
   "metadata": {},
   "source": [
    "3) Change the template of the plot. Check out templates [here](https://plotly.com/python/templates/)"
   ]
  },
  {
   "cell_type": "code",
   "execution_count": null,
   "id": "79f54dec",
   "metadata": {},
   "outputs": [],
   "source": []
  },
  {
   "cell_type": "markdown",
   "id": "796ceb0b",
   "metadata": {},
   "source": [
    "## Parameter - facet_row and facet_col\n",
    "split the chart into rows or columns"
   ]
  },
  {
   "cell_type": "code",
   "execution_count": null,
   "id": "85bc505d",
   "metadata": {},
   "outputs": [],
   "source": [
    "df = px.data.gapminder().query(\"continent=='Oceania'\")\n",
    "fig = px.line(df,\n",
    "              x=\"year\",\n",
    "              y=\"lifeExp\",\n",
    "              color='country',\n",
    "              facet_col =\"country\",\n",
    "              hover_name=\"country\",\n",
    "              text=\"lifeExp\",\n",
    "              labels={\"country\": \"\"},\n",
    "              title=\"Life expectancy per year\")\n",
    "\n",
    "fig.update_traces(texttemplate='%{text:.2f}', textposition=\"top center\")\n",
    "fig.show()"
   ]
  },
  {
   "cell_type": "markdown",
   "id": "6eb00b44",
   "metadata": {},
   "source": [
    "## Parameter - color_discrete_map\n",
    "To set up the exact color of each line using a dictionary"
   ]
  },
  {
   "cell_type": "code",
   "execution_count": null,
   "id": "b8736b0a",
   "metadata": {},
   "outputs": [],
   "source": [
    "fig = px.line(df,\n",
    "              x=\"year\",\n",
    "              y=\"lifeExp\",\n",
    "              color='country',\n",
    "              facet_col =\"country\",\n",
    "              hover_name=\"country\",\n",
    "              text=\"lifeExp\",\n",
    "              labels={\"country\": \"\"},\n",
    "              color_discrete_map  = {\"Australia\":\"Black\", \"New Zealand\": \"Red\"},\n",
    "              title=\"Life expectancy per year\")\n",
    "\n",
    "fig.update_traces(texttemplate='%{text:.2f}', textposition=\"top center\")\n",
    "fig.show()"
   ]
  },
  {
   "cell_type": "markdown",
   "id": "327a1a92",
   "metadata": {},
   "source": [
    "## Parameters - line_dash\n",
    "Changes the dash pattern of the lines"
   ]
  },
  {
   "cell_type": "code",
   "execution_count": null,
   "id": "22b1e71e",
   "metadata": {},
   "outputs": [],
   "source": [
    "fig = px.line(df,\n",
    "              x=\"year\",\n",
    "              y=\"lifeExp\",\n",
    "              color='country',\n",
    "              facet_col =\"country\",\n",
    "              hover_name=\"country\",\n",
    "              text=\"lifeExp\",\n",
    "              labels={\"country Code\": \"iso_alpha\"},\n",
    "              color_discrete_map  = {\"Australia\":\"Black\", \"New Zealand\": \"Red\"},\n",
    "              line_dash = \"country\",\n",
    "              title=\"Life expectancy per year\")\n",
    "\n",
    "fig.update_traces(texttemplate='%{text:.2f}', textposition=\"top center\")\n",
    "fig.show()"
   ]
  },
  {
   "cell_type": "markdown",
   "id": "78f8d548",
   "metadata": {},
   "source": [
    "## Exercise\n",
    "\n",
    "What would you do if instead of a line chart you wanted to show the data in a scatter plot? "
   ]
  },
  {
   "cell_type": "code",
   "execution_count": null,
   "id": "818e309a",
   "metadata": {},
   "outputs": [],
   "source": []
  },
  {
   "cell_type": "markdown",
   "id": "504cc410",
   "metadata": {},
   "source": [
    "## Range Slider and Selector in Python\n",
    "\n",
    "\n",
    "You can use sliders to navigate the range of your axis. This can for instance be very useful when visualizing time-series data. (https://plotly.com/python/reference/layout/xaxis/#layout-xaxis-rangeslider)"
   ]
  },
  {
   "cell_type": "code",
   "execution_count": null,
   "id": "a1277e70",
   "metadata": {},
   "outputs": [],
   "source": [
    "fig = px.line(df,\n",
    "              x=\"year\",\n",
    "              y=\"lifeExp\",\n",
    "              color='country',\n",
    "              facet_col =\"country\",\n",
    "              hover_name=\"country\",\n",
    "              text=\"lifeExp\",\n",
    "              labels={\"country\": \"\"},\n",
    "              color_discrete_map  = {\"Australia\":\"Black\", \"New Zealand\": \"Red\"},\n",
    "              line_dash = \"country\",\n",
    "              title=\"Life expectancy per year\")\n",
    "\n",
    "fig.update_traces(texttemplate='%{text:.2f}', textposition=\"top center\")\n",
    "fig.update_xaxes(rangeslider_visible=True)\n",
    "fig.show()"
   ]
  },
  {
   "cell_type": "code",
   "execution_count": null,
   "id": "b0ef5fa6",
   "metadata": {},
   "outputs": [],
   "source": []
  },
  {
   "cell_type": "markdown",
   "id": "3d06760a",
   "metadata": {},
   "source": [
    "## Bar Charts"
   ]
  },
  {
   "cell_type": "code",
   "execution_count": null,
   "id": "7dc6db3a",
   "metadata": {},
   "outputs": [],
   "source": [
    "df = px.data.gapminder().query(\"continent == 'Oceania'\")\n",
    "fig = px.bar(df, x='year', y='pop')\n",
    "fig.show()"
   ]
  },
  {
   "cell_type": "code",
   "execution_count": null,
   "id": "887358ce",
   "metadata": {},
   "outputs": [],
   "source": [
    "fig = px.bar(df, x='year', y='pop', color='country')\n",
    "fig.show()"
   ]
  },
  {
   "cell_type": "markdown",
   "id": "d600b61b",
   "metadata": {},
   "source": [
    "## Animating your plot\n",
    "\n",
    "Several Plotly Express functions support the creation of animated figures through the `animation_frame` and `animation_group` arguments (https://plotly.com/python/animations/)."
   ]
  },
  {
   "cell_type": "code",
   "execution_count": null,
   "id": "e95f5508",
   "metadata": {},
   "outputs": [],
   "source": [
    "fig = px.bar(df, \n",
    "             y=\"country\", \n",
    "             x=\"gdpPercap\", \n",
    "             color=\"country\",\n",
    "             orientation=\"h\", \n",
    "             animation_frame=\"year\",\n",
    "             animation_group=\"country\",\n",
    "            title=\"Evolution of GDP\",\n",
    "            text=\"gdpPercap\", range_x=[5000, 40000])\n",
    "\n",
    "fig.show()"
   ]
  },
  {
   "cell_type": "markdown",
   "id": "738d9a92",
   "metadata": {},
   "source": [
    "## Scatter plots\n",
    "\n",
    "We have seen in the example how to use [`px.scatter`](https://plotly.com/python/line-and-scatter/). Now we will look at more examples but also combine them with other plots (what is called as [Scatter Plot Marginals](https://plotly.com/python/marginal-plots/)).\n"
   ]
  },
  {
   "cell_type": "markdown",
   "id": "595b0037",
   "metadata": {},
   "source": [
    "### A simple scatter plot"
   ]
  },
  {
   "cell_type": "code",
   "execution_count": null,
   "id": "090b393c",
   "metadata": {},
   "outputs": [],
   "source": [
    "df = px.data.gapminder().query(\"continent == 'Africa'\")\n",
    "\n",
    "fig = px.scatter(df,\n",
    "                 x=\"lifeExp\",\n",
    "                 y=\"gdpPercap\",\n",
    "                 color=\"country\",\n",
    "                 hover_name=\"country\")\n",
    "fig.show()"
   ]
  },
  {
   "cell_type": "markdown",
   "id": "f1b30a0b",
   "metadata": {},
   "source": [
    "We can also play with the `size of the dots`"
   ]
  },
  {
   "cell_type": "code",
   "execution_count": null,
   "id": "dc555f08",
   "metadata": {},
   "outputs": [],
   "source": [
    "fig = px.scatter(df,\n",
    "                 x=\"lifeExp\",\n",
    "                 y=\"gdpPercap\",\n",
    "                 color=\"country\",\n",
    "                 size='pop',\n",
    "                 hover_name=\"country\")\n",
    "fig.show()"
   ]
  },
  {
   "cell_type": "markdown",
   "id": "b5f9823f",
   "metadata": {},
   "source": [
    "## Exercises -- Breakout rooms\n",
    "\n",
    "1) Animate the previous scatter plot so that we see the correlation between GDP and life expectancy over time."
   ]
  },
  {
   "cell_type": "code",
   "execution_count": null,
   "id": "434b2aac",
   "metadata": {},
   "outputs": [],
   "source": []
  },
  {
   "cell_type": "markdown",
   "id": "9a92de46",
   "metadata": {},
   "source": [
    "2) Can you plot data in different facets for Uganda, Zambia and Zimbabwe only (life expectancy vs gdp)? "
   ]
  },
  {
   "cell_type": "code",
   "execution_count": null,
   "id": "0f46db5e",
   "metadata": {},
   "outputs": [],
   "source": []
  },
  {
   "cell_type": "markdown",
   "id": "04b67eb5",
   "metadata": {},
   "source": [
    "3) Using the data from 'Oceania', model the correlation between GDP and life expectancy (trendline)"
   ]
  },
  {
   "cell_type": "code",
   "execution_count": null,
   "id": "42a8c529",
   "metadata": {},
   "outputs": [],
   "source": []
  },
  {
   "cell_type": "markdown",
   "id": "fb4ef4c1",
   "metadata": {},
   "source": [
    "### Plot marginals\n",
    "\n",
    "In scatter plots, you can add extra plots on the margins of your scatter plot, for instance \"histogram\", \"rug\", \"box\", or \"violin\" plots. These plots can be easily added by just using the attributes: `marginal_x` and `marginal_y`."
   ]
  },
  {
   "cell_type": "code",
   "execution_count": null,
   "id": "60bb8e3e",
   "metadata": {},
   "outputs": [],
   "source": [
    "df = px.data.iris()\n",
    "df.head()"
   ]
  },
  {
   "cell_type": "code",
   "execution_count": null,
   "id": "7405abe4",
   "metadata": {},
   "outputs": [],
   "source": [
    "fig = px.scatter(df,\n",
    "                 x=\"sepal_length\",\n",
    "                 y=\"sepal_width\",\n",
    "                 color=\"species\",\n",
    "                 marginal_x=\"box\",\n",
    "                 marginal_y=\"violin\",\n",
    "                 size='petal_width',\n",
    "                 hover_name=\"species\")\n",
    "fig.show()"
   ]
  },
  {
   "cell_type": "markdown",
   "id": "e3173a00",
   "metadata": {},
   "source": [
    "## Exercises -- Breakout room\n"
   ]
  },
  {
   "cell_type": "markdown",
   "id": "c4d4c19b",
   "metadata": {},
   "source": [
    "1) Build a 3D scatter plot with the sepal measurements"
   ]
  },
  {
   "cell_type": "code",
   "execution_count": null,
   "id": "1e130c82",
   "metadata": {},
   "outputs": [],
   "source": []
  },
  {
   "cell_type": "markdown",
   "id": "998f404d",
   "metadata": {},
   "source": [
    "2) Can you get a 2D scatter plot with a histogram instead of a rug distribution plot?"
   ]
  },
  {
   "cell_type": "code",
   "execution_count": null,
   "id": "39d1eb4d",
   "metadata": {},
   "outputs": [],
   "source": []
  },
  {
   "cell_type": "markdown",
   "id": "b2d2be2c",
   "metadata": {},
   "source": [
    "## Parallel Coordinates"
   ]
  },
  {
   "cell_type": "code",
   "execution_count": null,
   "id": "8c42acfb",
   "metadata": {},
   "outputs": [],
   "source": [
    "fig = px.parallel_coordinates(df,\n",
    "                              color=\"species_id\",\n",
    "                              labels={\"sepal_width\": \"Sepal Width\", \"sepal_length\": \"Sepal Length\"})\n",
    "fig.show()"
   ]
  },
  {
   "cell_type": "code",
   "execution_count": null,
   "id": "c963c0b7",
   "metadata": {},
   "outputs": [],
   "source": []
  },
  {
   "cell_type": "code",
   "execution_count": null,
   "id": "72175d8e",
   "metadata": {},
   "outputs": [],
   "source": []
  }
 ],
 "metadata": {
  "kernelspec": {
   "display_name": "Python 3",
   "language": "python",
   "name": "python3"
  },
  "language_info": {
   "codemirror_mode": {
    "name": "ipython",
    "version": 3
   },
   "file_extension": ".py",
   "mimetype": "text/x-python",
   "name": "python",
   "nbconvert_exporter": "python",
   "pygments_lexer": "ipython3",
   "version": "3.9.2"
  }
 },
 "nbformat": 4,
 "nbformat_minor": 5
}
