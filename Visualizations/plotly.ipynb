{
 "cells": [
  {
   "cell_type": "markdown",
   "id": "a90eeebc",
   "metadata": {
    "slideshow": {
     "slide_type": "slide"
    }
   },
   "source": [
    "<img src=\"../figures/HeaDS_logo_large_withTitle.png\" width=\"300\">\n",
    "\n",
    "<img src=\"../figures/tsunami_logo.PNG\" width=\"600\">\n",
    "\n",
    "[![Open In Colab](https://colab.research.google.com/assets/colab-badge.svg)](https://colab.research.google.com/github/Center-for-Health-Data-Science/PythonTsunami/blob/spring2022/Visualizations/plotly.ipynb)"
   ]
  },
  {
   "cell_type": "markdown",
   "id": "2aa4e46b",
   "metadata": {},
   "source": [
    "**For (anonymous) questions**, use this **[Padlet link](https://ucph.padlet.org/henrikezschach1/7f65ytua2sv0qt9g)**. "
   ]
  },
  {
   "cell_type": "markdown",
   "id": "a14faf2e",
   "metadata": {
    "slideshow": {
     "slide_type": "slide"
    }
   },
   "source": [
    "# Plotly\n",
    "\n",
    "## Python Open Source Graphing Library\n",
    "\n",
    "Plotly's Python graphing library makes interactive, publication-quality graphs. Examples of how to make line plots, scatter plots, area charts, bar charts, error bars, box plots, histograms, heatmaps, subplots, multiple-axes, polar charts, and bubble charts.\n",
    "\n",
    "![gallery](https://miro.medium.com/max/1458/1*qKpV3vkPZYoffsvFSEuw8A.png)\n",
    "\n",
    "\n",
    "Plotly has an easy-to-use interface to it called [Plotly express](https://plotly.com/python/plotly-express/). This library makes plotting with Plotly very easy. Plotly express works nicely with Pandas dataframes as input, we just need to specify which columns need to be plotted."
   ]
  },
  {
   "cell_type": "markdown",
   "id": "1999c3dd",
   "metadata": {},
   "source": [
    "# Import modules"
   ]
  },
  {
   "cell_type": "code",
   "execution_count": null,
   "id": "602650a6",
   "metadata": {},
   "outputs": [],
   "source": [
    "import pandas as pd\n",
    "import plotly.express as px"
   ]
  },
  {
   "cell_type": "markdown",
   "id": "f33b27fd",
   "metadata": {},
   "source": [
    "# Introduction\n",
    "Let's start exploring the Plotly Database. The regular syntax for any Plotly.Express chart is `px.chart_type(df, parameters)` so let's try a simple line chart: `px.line(df, parameters)`. \n",
    "\n",
    "There're different ways to create the plot. We will check them all, but I think the third one makes the most sense. \n",
    "\n",
    "1. using lists of values \n",
    "2. using `pandas.Series`\n",
    "3. using `pandas.DataFrame` and referencing the column names "
   ]
  },
  {
   "cell_type": "markdown",
   "id": "f585e490",
   "metadata": {},
   "source": [
    "**1. Using lists of values.**\n",
    "\n",
    "We can create two lists of values for the `x` and `y` axis and use them as parameters for the line chart plot"
   ]
  },
  {
   "cell_type": "code",
   "execution_count": null,
   "id": "5240e629",
   "metadata": {},
   "outputs": [],
   "source": [
    "year = list(range(1996,2020,4))\n",
    "medals = [1,4,5,9,1,2]\n",
    "\n",
    "print(year, medals)"
   ]
  },
  {
   "cell_type": "code",
   "execution_count": null,
   "id": "a4d2f2b3",
   "metadata": {},
   "outputs": [],
   "source": [
    "px.line(x = year, y = medals)"
   ]
  },
  {
   "cell_type": "markdown",
   "id": "f203328f",
   "metadata": {},
   "source": [
    "**2. Using `pandas.Series`**\n",
    "\n",
    "This is very much like using lists"
   ]
  },
  {
   "cell_type": "code",
   "execution_count": null,
   "id": "7dc6ea69",
   "metadata": {},
   "outputs": [],
   "source": [
    "year = pd.Series(year)\n",
    "medals = pd.Series(medals)\n",
    "\n",
    "print(year, medals)"
   ]
  },
  {
   "cell_type": "code",
   "execution_count": null,
   "id": "06af4f80",
   "metadata": {},
   "outputs": [],
   "source": [
    "px.line(x = year, y = medals)"
   ]
  },
  {
   "cell_type": "markdown",
   "id": "6b821e47",
   "metadata": {},
   "source": [
    "**3. Using `pandas.DataFrame`**\n",
    "\n",
    "This is most of the time the **best option**. We can plot things directly from our DataFrame of interest. We need to give the `px.chart_type()` function our dataframe using the argument `data_frame`. Then we only need to specify as `x` and `y` axis the name of the columns we want to use!"
   ]
  },
  {
   "cell_type": "code",
   "execution_count": null,
   "id": "bb8d1015",
   "metadata": {},
   "outputs": [],
   "source": [
    "# We create our dataframe \n",
    "df = pd.DataFrame({\"Year\" : year, \"Medals\" : medals})\n",
    "df.head()"
   ]
  },
  {
   "cell_type": "code",
   "execution_count": null,
   "id": "b0cd38a3",
   "metadata": {},
   "outputs": [],
   "source": [
    "px.line(data_frame = df, x = \"Year\" , y = \"Medals\")"
   ]
  },
  {
   "cell_type": "markdown",
   "id": "155c971b",
   "metadata": {},
   "source": [
    "**`Note`: If our dataframe is in wide format, we may need to change the shape to long format.** This means that we always need to have our variables of interest as columns!\n",
    "Have a look at the [melt method in Pandas](https://pandas.pydata.org/pandas-docs/stable/reference/api/pandas.melt.html). For example, lets make a wide dataframe:"
   ]
  },
  {
   "cell_type": "code",
   "execution_count": null,
   "id": "b7453a1b",
   "metadata": {},
   "outputs": [],
   "source": [
    "df = pd.DataFrame({'Year': {0: '2000', 1: '2010', 2: '2012'},\n",
    "                   'Canada': {0: 1, 1: 3, 2: 5},\n",
    "                   'USA': {0: 2, 1: 4, 2: 6}})\n",
    "\n",
    "df"
   ]
  },
  {
   "cell_type": "markdown",
   "id": "b6c08c7a",
   "metadata": {},
   "source": [
    "In this case, we would like to have a column named \"Countries\" that will encompass Canada and USA. We use the `.melt()` method to do this."
   ]
  },
  {
   "cell_type": "code",
   "execution_count": null,
   "id": "4ec13046",
   "metadata": {},
   "outputs": [],
   "source": [
    "df = pd.melt(df, id_vars=['Year'], value_vars=['Canada', 'USA'])\n",
    "df"
   ]
  },
  {
   "cell_type": "markdown",
   "id": "004bcf04",
   "metadata": {},
   "source": [
    "Now we can use the long format dataframe to plot"
   ]
  },
  {
   "cell_type": "code",
   "execution_count": null,
   "id": "c9e9b653",
   "metadata": {},
   "outputs": [],
   "source": [
    "px.line(data_frame = df, x = \"Year\" , y = \"value\", color = \"variable\")"
   ]
  },
  {
   "cell_type": "markdown",
   "id": "d513879b",
   "metadata": {},
   "source": [
    "## Save as variable and show\n",
    "\n",
    "We can save our plots as variables. Then, if you would like to show your plot again, you can call it using the method `.show()`"
   ]
  },
  {
   "cell_type": "code",
   "execution_count": null,
   "id": "a3d5e3af",
   "metadata": {},
   "outputs": [],
   "source": [
    "fig = px.line(data_frame = df, x = \"Year\" , y = \"value\", color = \"variable\")"
   ]
  },
  {
   "cell_type": "code",
   "execution_count": null,
   "id": "eefc45e2",
   "metadata": {},
   "outputs": [],
   "source": [
    "fig.show()"
   ]
  },
  {
   "cell_type": "markdown",
   "id": "143be129",
   "metadata": {},
   "source": [
    "## Plotly object structure\n",
    "\n",
    "On the background, each graph is a dictionary. When you store the chart into a variable, commonly `fig` and display this dictionary using `fig.to_dict()` or `fig[\"data\"]` or `fig.data` to see the elements data or `fig[\"layout\"]` to review the design of the plot."
   ]
  },
  {
   "cell_type": "code",
   "execution_count": null,
   "id": "2f59ff01",
   "metadata": {},
   "outputs": [],
   "source": [
    "fig.data, fig.layout"
   ]
  },
  {
   "cell_type": "markdown",
   "id": "cf834861",
   "metadata": {},
   "source": [
    "As you can see, there are many attributes inside this dictionary. This means that a plot can be modified even after it is created. For example, we can use a layout template to modify the design of a plot or change the plot and axis titles"
   ]
  },
  {
   "cell_type": "code",
   "execution_count": null,
   "id": "0ab10eb5",
   "metadata": {},
   "outputs": [],
   "source": [
    "fig.update_traces(line={\"color\":\"red\"})\n",
    "fig.update_layout(template=\"plotly_dark\", title = \"Example\", yaxis_title='Medals')"
   ]
  },
  {
   "cell_type": "markdown",
   "id": "0b182846",
   "metadata": {},
   "source": [
    "We will see more ways of modifying the plots as we go through the different types of plots we can make!"
   ]
  },
  {
   "cell_type": "markdown",
   "id": "98444e3a",
   "metadata": {
    "slideshow": {
     "slide_type": "slide"
    }
   },
   "source": [
    "# Line Charts\n",
    "\n",
    "\n",
    "Although we have seen already how to make line charts in Python with Plotly, let's take a look at what else we can learn.\n",
    "\n",
    "With `px.line`, each data point is represented as a vertex (which location is given by the x and y columns) of a polyline mark in 2D space.\n",
    "\n",
    "Let's use a more complicated dataframe to check it. The *gapminder* dataset from plotly contains information about different countries around the world."
   ]
  },
  {
   "cell_type": "code",
   "execution_count": null,
   "id": "ef24a7fa",
   "metadata": {
    "slideshow": {
     "slide_type": "fragment"
    }
   },
   "outputs": [],
   "source": [
    "# We use the query function to only retrieve data that we want\n",
    "df = px.data.gapminder().query(\"country=='Canada'\")"
   ]
  },
  {
   "cell_type": "code",
   "execution_count": null,
   "id": "5654475c",
   "metadata": {
    "slideshow": {
     "slide_type": "fragment"
    }
   },
   "outputs": [],
   "source": [
    "df.head()"
   ]
  },
  {
   "cell_type": "code",
   "execution_count": null,
   "id": "4741a67a",
   "metadata": {
    "slideshow": {
     "slide_type": "fragment"
    }
   },
   "outputs": [],
   "source": [
    "# we can add a title to the plot using the argument `title`\n",
    "fig = px.line(df, x=\"year\", y=\"lifeExp\", title='Life expectancy in Canada')\n",
    "fig.show()"
   ]
  },
  {
   "cell_type": "markdown",
   "id": "7887f57f",
   "metadata": {},
   "source": [
    "## Color argument\n",
    "\n",
    "We can change the color of the lines based on another variable using the argument `color`. In order to show it, we will need information about different countries."
   ]
  },
  {
   "cell_type": "code",
   "execution_count": null,
   "id": "89e3ed97",
   "metadata": {
    "slideshow": {
     "slide_type": "fragment"
    }
   },
   "outputs": [],
   "source": [
    "# By querying the data from a continent we now have information on several countries\n",
    "df = px.data.gapminder().query(\"continent=='Oceania'\")\n",
    "df.head()"
   ]
  },
  {
   "cell_type": "code",
   "execution_count": null,
   "id": "750d7d8a",
   "metadata": {
    "slideshow": {
     "slide_type": "fragment"
    }
   },
   "outputs": [],
   "source": [
    "# We can now separate the data from the different countries by color using the argument `color`\n",
    "fig = px.line(df, x=\"year\", y=\"lifeExp\", color='country')\n",
    "fig.show()"
   ]
  },
  {
   "cell_type": "markdown",
   "id": "caaa5de7",
   "metadata": {},
   "source": [
    "You want, instead, to **change the color of all the lines**, we need to use the method `update_traces()`"
   ]
  },
  {
   "cell_type": "code",
   "execution_count": null,
   "id": "79a99b43",
   "metadata": {},
   "outputs": [],
   "source": [
    "fig = px.line(df, x=\"year\", y=\"lifeExp\", color = \"country\")\n",
    "fig.update_traces(line={\"color\":\"red\"})\n",
    "fig.show()"
   ]
  },
  {
   "cell_type": "markdown",
   "id": "9ce76954",
   "metadata": {},
   "source": [
    "## Text argument\n",
    "\n",
    "We can add the value of a variable at the coordinates given by the x and y argument by using the `text` argument,"
   ]
  },
  {
   "cell_type": "code",
   "execution_count": null,
   "id": "9bcfb188",
   "metadata": {
    "slideshow": {
     "slide_type": "fragment"
    }
   },
   "outputs": [],
   "source": [
    "fig = px.line(df,\n",
    "              x=\"year\",\n",
    "              y=\"lifeExp\",\n",
    "              color='country',\n",
    "              text=\"lifeExp\", #The text argument allows us to plot the actual number on the datapoint\n",
    "              labels={\"year\": \"Year\"}, # change year for Year\n",
    "              title=\"Life expectancy per year\")\n",
    "fig.show()"
   ]
  },
  {
   "cell_type": "markdown",
   "id": "c8e72eec",
   "metadata": {},
   "source": [
    "Notice how the text argument positioned the text right on top of the data points? We can modify this behaviour by updating our figures using the `update_traces()` method, which will modify all data points inside `fig.data`."
   ]
  },
  {
   "cell_type": "code",
   "execution_count": null,
   "id": "dad46258",
   "metadata": {},
   "outputs": [],
   "source": [
    "fig.update_traces(textposition=\"top center\")\n",
    "fig.show()"
   ]
  },
  {
   "cell_type": "markdown",
   "id": "04e58351",
   "metadata": {},
   "source": [
    "## Color_discrete_map argument\n",
    "\n",
    "We can set up the exact color of each line using a dictionary in the argument `color_discrete_map`"
   ]
  },
  {
   "cell_type": "code",
   "execution_count": null,
   "id": "a676f8c8",
   "metadata": {},
   "outputs": [],
   "source": [
    "fig = px.line(df,\n",
    "              x=\"year\",\n",
    "              y=\"lifeExp\",\n",
    "              color='country',\n",
    "              text=\"lifeExp\",\n",
    "              color_discrete_map = {\"Australia\":\"Black\", \"New Zealand\": \"Red\"},\n",
    "              title=\"Life expectancy per year\")\n",
    "\n",
    "fig.update_traces(textposition=\"top center\")\n",
    "fig.show()"
   ]
  },
  {
   "cell_type": "markdown",
   "id": "594e44d5",
   "metadata": {},
   "source": [
    "## Line_dash argument\n",
    "By using the `line_dash` argument, we can change the dash pattern of the lines based on a variable."
   ]
  },
  {
   "cell_type": "code",
   "execution_count": null,
   "id": "d8e594a1",
   "metadata": {},
   "outputs": [],
   "source": [
    "fig = px.line(df,\n",
    "              x=\"year\",\n",
    "              y=\"lifeExp\",\n",
    "              color='country',\n",
    "              text=\"lifeExp\",\n",
    "              color_discrete_map  = {\"Australia\":\"Black\", \"New Zealand\": \"Red\"},\n",
    "              line_dash = \"country\",\n",
    "              title=\"Life expectancy per year\")\n",
    "\n",
    "fig.update_traces(textposition=\"top center\")\n",
    "fig.show()"
   ]
  },
  {
   "cell_type": "markdown",
   "id": "8f2c4f6b",
   "metadata": {},
   "source": [
    "If you want, instead to **change all lines to be dashed**, you need to use the `update_traces()` method. Types could be one of `dash`, `dot` or the default `solid`."
   ]
  },
  {
   "cell_type": "code",
   "execution_count": null,
   "id": "79cc099e",
   "metadata": {},
   "outputs": [],
   "source": [
    "fig = px.line(df,\n",
    "              x=\"year\",\n",
    "              y=\"lifeExp\",\n",
    "              color='country',\n",
    "              text=\"lifeExp\",\n",
    "              color_discrete_map  = {\"Australia\":\"Black\", \"New Zealand\": \"Red\"},\n",
    "              title=\"Life expectancy per year\")\n",
    "\n",
    "fig.update_traces(textposition=\"top center\", line = {\"dash\" : \"dot\"})\n",
    "fig.show()"
   ]
  },
  {
   "cell_type": "markdown",
   "id": "e70f09c4",
   "metadata": {
    "slideshow": {
     "slide_type": "subslide"
    }
   },
   "source": [
    "## Exercise\n",
    "\n",
    "1) Create a line chart for continent 'Ocenia' and 'Africa' \n",
    "\n",
    "Tip: use as query: `(\"continent=='Oceania' | continent=='Africa'\")`\n"
   ]
  },
  {
   "cell_type": "code",
   "execution_count": null,
   "id": "30e60b1f",
   "metadata": {
    "slideshow": {
     "slide_type": "fragment"
    }
   },
   "outputs": [],
   "source": []
  },
  {
   "cell_type": "markdown",
   "id": "3337518a",
   "metadata": {
    "slideshow": {
     "slide_type": "fragment"
    }
   },
   "source": [
    "2) Color by the country and change the line type by the continent"
   ]
  },
  {
   "cell_type": "code",
   "execution_count": null,
   "id": "4f8c4cf5",
   "metadata": {
    "slideshow": {
     "slide_type": "fragment"
    }
   },
   "outputs": [],
   "source": []
  },
  {
   "cell_type": "markdown",
   "id": "2586d870",
   "metadata": {
    "slideshow": {
     "slide_type": "fragment"
    }
   },
   "source": [
    "3) Change the template of the plot. Check out templates [here](https://plotly.com/python/templates/)"
   ]
  },
  {
   "cell_type": "code",
   "execution_count": null,
   "id": "ec73511b",
   "metadata": {
    "slideshow": {
     "slide_type": "fragment"
    }
   },
   "outputs": [],
   "source": []
  },
  {
   "cell_type": "markdown",
   "id": "3f127215",
   "metadata": {
    "slideshow": {
     "slide_type": "subslide"
    }
   },
   "source": [
    "## Exercise\n",
    "\n",
    "What would you do if instead of a line chart you wanted to show the data in a scatter plot? "
   ]
  },
  {
   "cell_type": "markdown",
   "id": "c271bd3a",
   "metadata": {
    "slideshow": {
     "slide_type": "slide"
    }
   },
   "source": [
    "# Scatter plots\n",
    "\n",
    "Scatter plots are coordinate plots that use x and y coordinates to show the relationship between two variables. However, the values of the variables do not necessarily need to be linked or ordered like in a line plot.\n",
    "\n",
    "Plotting a scatter plot is very much like plotting a line plot, but we use the `px.scatter()` function. Many of the arguments shown previously for the line plots work here as well, for example, the color argument:"
   ]
  },
  {
   "cell_type": "code",
   "execution_count": null,
   "id": "c84b5f1d",
   "metadata": {
    "slideshow": {
     "slide_type": "fragment"
    }
   },
   "outputs": [],
   "source": [
    "df = px.data.gapminder().query(\"continent == 'Africa'\")\n",
    "\n",
    "fig = px.scatter(df,\n",
    "                 x=\"lifeExp\",\n",
    "                 y=\"gdpPercap\",\n",
    "                 color=\"country\")\n",
    "fig.show()"
   ]
  },
  {
   "cell_type": "markdown",
   "id": "6da4f8cd",
   "metadata": {},
   "source": [
    "## Symbol argument\n",
    "If you want to further differenciate the countries from each other, you can the `symbol` argument to different types of symbols, not just dots/circles."
   ]
  },
  {
   "cell_type": "code",
   "execution_count": null,
   "id": "e606d874",
   "metadata": {},
   "outputs": [],
   "source": [
    "fig = px.scatter(df,\n",
    "                 x=\"lifeExp\",\n",
    "                 y=\"gdpPercap\",\n",
    "                 color=\"country\",\n",
    "                 symbol='country')\n",
    "fig.show()"
   ]
  },
  {
   "cell_type": "markdown",
   "id": "f118a89d",
   "metadata": {
    "slideshow": {
     "slide_type": "fragment"
    }
   },
   "source": [
    "## Size argument\n",
    "We can also play with the `size` of the dots to create **Bubble plots**"
   ]
  },
  {
   "cell_type": "code",
   "execution_count": null,
   "id": "f5bbbe0d",
   "metadata": {
    "slideshow": {
     "slide_type": "fragment"
    }
   },
   "outputs": [],
   "source": [
    "fig = px.scatter(df,\n",
    "                 x=\"lifeExp\",\n",
    "                 y=\"gdpPercap\",\n",
    "                 color=\"country\",\n",
    "                 size='pop') # Using population as the size for the plot\n",
    "\n",
    "fig.show()"
   ]
  },
  {
   "cell_type": "markdown",
   "id": "e25569e7",
   "metadata": {},
   "source": [
    "## Trendline argument\n",
    "We can easily add trendlines to our scatter plot using the argument `trendline`. By default you will use the Ordinary Least Squares trendline (linear regression). "
   ]
  },
  {
   "cell_type": "code",
   "execution_count": null,
   "id": "6444b625",
   "metadata": {},
   "outputs": [],
   "source": [
    "fig = px.scatter(df,\n",
    "                 x=\"lifeExp\",\n",
    "                 y=\"gdpPercap\",\n",
    "                 trendline = \"ols\") # Using population as the size for the plot\n",
    "\n",
    "fig.show()"
   ]
  },
  {
   "cell_type": "markdown",
   "id": "6421b3eb",
   "metadata": {},
   "source": [
    "If you have separated the countries using the `color` argument, you will get a trendline per country.\n",
    "\n",
    "*This will look quite ugly since there are many countries*"
   ]
  },
  {
   "cell_type": "code",
   "execution_count": null,
   "id": "1547382d",
   "metadata": {},
   "outputs": [],
   "source": [
    "fig = px.scatter(df,\n",
    "                 x=\"lifeExp\",\n",
    "                 y=\"gdpPercap\",\n",
    "                 color=\"country\",\n",
    "                 trendline = \"ols\")\n",
    "\n",
    "fig.show()"
   ]
  },
  {
   "cell_type": "markdown",
   "id": "f2b45123",
   "metadata": {},
   "source": [
    "If you want to color by a variable but still have a global trend, use the argument `trendline_scope=\"overall\""
   ]
  },
  {
   "cell_type": "code",
   "execution_count": null,
   "id": "84e6c9ec",
   "metadata": {},
   "outputs": [],
   "source": [
    "fig = px.scatter(df,\n",
    "                 x=\"lifeExp\",\n",
    "                 y=\"gdpPercap\",\n",
    "                 color=\"country\",\n",
    "                 trendline = \"ols\",\n",
    "                 trendline_scope=\"overall\")\n",
    "\n",
    "fig.show()"
   ]
  },
  {
   "cell_type": "markdown",
   "id": "e84277f0",
   "metadata": {},
   "source": [
    "## Exercise\n",
    "1) Using the data from 'Oceania', create a scatter plot using GDP and population. Try to make the countries as distinguishable as possible. "
   ]
  },
  {
   "cell_type": "code",
   "execution_count": null,
   "id": "f7a64b8b",
   "metadata": {},
   "outputs": [],
   "source": []
  },
  {
   "cell_type": "markdown",
   "id": "5001e8a0",
   "metadata": {
    "slideshow": {
     "slide_type": "fragment"
    }
   },
   "source": [
    "2) Model the correlation between GDP and population using a non-linear trendline (LOWESS) for each country"
   ]
  },
  {
   "cell_type": "code",
   "execution_count": null,
   "id": "cefecb6d",
   "metadata": {
    "slideshow": {
     "slide_type": "fragment"
    }
   },
   "outputs": [],
   "source": []
  },
  {
   "cell_type": "markdown",
   "id": "425c9149",
   "metadata": {
    "slideshow": {
     "slide_type": "slide"
    }
   },
   "source": [
    "# Bar Charts\n",
    "\n",
    "With `px.bar()`, each row of the DataFrame is represented as a rectangular mark. Bar plots are very useful to show quantitative information across qualitative features such as years, countries or other categorical data.\n",
    "\n",
    "As line and scatter plots, `px.bar()` shares a lot of arguments with line and scatter plots."
   ]
  },
  {
   "cell_type": "code",
   "execution_count": null,
   "id": "5d3d8a5a",
   "metadata": {
    "slideshow": {
     "slide_type": "fragment"
    }
   },
   "outputs": [],
   "source": [
    "df = px.data.gapminder().query(\"continent == 'Oceania'\")\n",
    "fig = px.bar(df, x='year', y='pop', color='country')\n",
    "fig.show()"
   ]
  },
  {
   "cell_type": "markdown",
   "id": "e5174952",
   "metadata": {},
   "source": [
    "## Orientation argument\n",
    "\n",
    "If we would rather see horizontal bars instead of vertical, we can set the argument `orientation` to `\"h\"`. We still need to **change the order** of the `x` and `y` arguments!"
   ]
  },
  {
   "cell_type": "code",
   "execution_count": null,
   "id": "823199d8",
   "metadata": {},
   "outputs": [],
   "source": [
    "fig = px.bar(df, x='pop', y='year', color='country', orientation=\"h\")\n",
    "fig.show()"
   ]
  },
  {
   "cell_type": "markdown",
   "id": "fb724879",
   "metadata": {},
   "source": [
    "## Text on bar charts\n",
    "You can add text to bars using the `text_auto` or `text` argument. `text_auto=True` will automatically use the same variable as the `y` argument, while you can use any variable with `text`."
   ]
  },
  {
   "cell_type": "code",
   "execution_count": null,
   "id": "e4973025",
   "metadata": {},
   "outputs": [],
   "source": [
    "df = px.data.medals_long()\n",
    "df.head()"
   ]
  },
  {
   "cell_type": "code",
   "execution_count": null,
   "id": "274282d4",
   "metadata": {},
   "outputs": [],
   "source": [
    "fig = px.bar(df, x=\"medal\", y=\"count\", color=\"nation\", text=\"nation\")\n",
    "fig.show()"
   ]
  },
  {
   "cell_type": "markdown",
   "id": "73bbf14a",
   "metadata": {},
   "source": [
    "By default, Plotly will scale and rotate text labels to maximize the number of visible labels, which can result in a variety of text angles and sizes and positions in the same figure. The `textfont`, `textposition` and `textangle` trace attributes can be used to control these.\n",
    "\n",
    "In addition, you can use the `text_auto` argument to format the text shown in the plot`\n",
    "\n",
    "This is the default behaviour"
   ]
  },
  {
   "cell_type": "code",
   "execution_count": null,
   "id": "e7af5d27",
   "metadata": {},
   "outputs": [],
   "source": [
    "df = px.data.gapminder().query(\"continent == 'Europe' and year == 2007 and pop > 2.e6\")\n",
    "fig = px.bar(df, y='pop', x='country', text_auto='.2s', #text_auto will show only two numbers\n",
    "            title=\"Default: various text sizes, positions and angles\")\n",
    "fig.show()"
   ]
  },
  {
   "cell_type": "markdown",
   "id": "8f801879",
   "metadata": {},
   "source": [
    "Here we use `update_traces()` to control the angle (set to 0) and the position (outside the bar) and the size"
   ]
  },
  {
   "cell_type": "code",
   "execution_count": null,
   "id": "26cf413e",
   "metadata": {},
   "outputs": [],
   "source": [
    "fig = px.bar(df, y='pop', x='country', text_auto='.2s',\n",
    "            title=\"Controlled text sizes, positions and angles\")\n",
    "\n",
    "fig.update_traces(textfont_size=12, textangle=0, textposition=\"outside\")\n",
    "fig.update_layout(yaxis_range=[0,10**8]) # We increase the range of the plot so the text fits\n",
    "fig.show()"
   ]
  },
  {
   "cell_type": "markdown",
   "id": "90f37c31",
   "metadata": {},
   "source": [
    "## Stacked vs Grouped Bars\n",
    "\n",
    "When several rows share the same value of x (here Female or Male for the tips dataset), the rectangles are stacked on top of one another by default."
   ]
  },
  {
   "cell_type": "code",
   "execution_count": null,
   "id": "5aeb87fc",
   "metadata": {},
   "outputs": [],
   "source": [
    "df = px.data.tips()\n",
    "df.head()"
   ]
  },
  {
   "cell_type": "code",
   "execution_count": null,
   "id": "ae856de0",
   "metadata": {},
   "outputs": [],
   "source": [
    "fig = px.bar(df, x=\"sex\", y=\"total_bill\", color='time')\n",
    "fig.show()"
   ]
  },
  {
   "cell_type": "markdown",
   "id": "9582d53e",
   "metadata": {},
   "source": [
    "The default stacked bar chart behavior can be changed to grouped (also known as clustered) using the `barmode` argument:"
   ]
  },
  {
   "cell_type": "code",
   "execution_count": null,
   "id": "5b62acfb",
   "metadata": {},
   "outputs": [],
   "source": [
    "fig = px.bar(df, x=\"sex\", y=\"total_bill\",\n",
    "             color='smoker', barmode='group')\n",
    "fig.show()"
   ]
  },
  {
   "cell_type": "markdown",
   "id": "0254cfc8",
   "metadata": {},
   "source": [
    "# Histograms\n",
    "\n",
    "In statistics, a histogram is representation of the distribution of numerical data, where the data are binned and the count for each bin is represented. More generally, in Plotly a histogram is an aggregated bar chart, with several possible aggregation functions (e.g. sum, average, count...) which can be used to visualize data on categorical and date axes as well as linear axes.\n",
    "\n",
    "Compared to `px.bar()`, `px.histogram()` can work with only the `x` argument, which can be a continuous or categorical variable"
   ]
  },
  {
   "cell_type": "code",
   "execution_count": null,
   "id": "86e8ed7f",
   "metadata": {},
   "outputs": [],
   "source": [
    "fig = px.histogram(df, x=\"total_bill\", title = \"Continuous variable\")\n",
    "fig.show()"
   ]
  },
  {
   "cell_type": "code",
   "execution_count": null,
   "id": "7bc828f3",
   "metadata": {},
   "outputs": [],
   "source": [
    "fig = px.histogram(df, x=\"day\", title=\"Categorical variable\")\n",
    "fig.show()"
   ]
  },
  {
   "cell_type": "markdown",
   "id": "2564b18f",
   "metadata": {},
   "source": [
    "`px.histogram()` also shares the `color`, `text_auto` and `barmode` argument"
   ]
  },
  {
   "cell_type": "code",
   "execution_count": null,
   "id": "38e78297",
   "metadata": {},
   "outputs": [],
   "source": [
    "fig = px.histogram(df, x=\"total_bill\", color=\"sex\", text_auto=True)\n",
    "fig.show()"
   ]
  },
  {
   "cell_type": "markdown",
   "id": "f0492e65",
   "metadata": {},
   "source": [
    "## Bins argument\n",
    "\n",
    "By default, the number of bins is chosen so that this number is comparable to the typical number of samples in a bin. This number can be customized, as well as the range of values, with the `nbins` argument:"
   ]
  },
  {
   "cell_type": "code",
   "execution_count": null,
   "id": "f4e801e4",
   "metadata": {},
   "outputs": [],
   "source": [
    "fig = px.histogram(df, x=\"total_bill\", nbins=20)\n",
    "fig.show()"
   ]
  },
  {
   "cell_type": "markdown",
   "id": "840313ae",
   "metadata": {},
   "source": [
    "## Histnorm argument\n",
    "\n",
    "The default mode is to represent the count of samples in each bin. With the `histnorm` argument, it is also possible to represent the **percentage or fraction** of samples in each bin (`histnorm='percent'` or probability), or a `density histogram` (the sum of all bar areas equals the total number of sample points, density), or a `probability density histogram` (the sum of all bar areas equals 1, probability density)."
   ]
  },
  {
   "cell_type": "code",
   "execution_count": null,
   "id": "319c16c8",
   "metadata": {},
   "outputs": [],
   "source": [
    "fig = px.histogram(df, x=\"total_bill\", histnorm='probability density')\n",
    "fig.show()"
   ]
  },
  {
   "cell_type": "markdown",
   "id": "66974462",
   "metadata": {},
   "source": [
    "## Histfunc and y argument\n",
    "\n",
    "For each bin of `x`, one can compute a function of data using `histfunc`. The argument of `histfunc` is the dataframe column given as the `y` argument. Below the plot shows that the average tip increases with the total bill."
   ]
  },
  {
   "cell_type": "code",
   "execution_count": null,
   "id": "37d75b49",
   "metadata": {},
   "outputs": [],
   "source": [
    "fig = px.histogram(df, x=\"total_bill\", y=\"tip\", histfunc='avg')\n",
    "fig.show()"
   ]
  },
  {
   "cell_type": "markdown",
   "id": "035ae863",
   "metadata": {},
   "source": [
    "The default `histfunc` is `sum` if `y` is given, and works with categorical as well as binned numeric data on the `x` axis\n",
    "\n",
    "**Note**: As noted above `px.bar()` will result in one rectangle drawn per row of input. This can sometimes result in a striped look as in the tips examples above. To combine these rectangles into one per color per position, you can use `px.histogram()`"
   ]
  },
  {
   "cell_type": "code",
   "execution_count": null,
   "id": "67099051",
   "metadata": {},
   "outputs": [],
   "source": [
    "fig = px.histogram(df, x=\"sex\", y=\"total_bill\",\n",
    "             color='time')\n",
    "fig.show()"
   ]
  },
  {
   "cell_type": "code",
   "execution_count": null,
   "id": "55124de0",
   "metadata": {},
   "outputs": [],
   "source": [
    "fig = px.bar(df, x=\"sex\", y=\"total_bill\", color='time')\n",
    "fig.show()"
   ]
  },
  {
   "cell_type": "markdown",
   "id": "3180b2f2",
   "metadata": {
    "slideshow": {
     "slide_type": "subslide"
    }
   },
   "source": [
    "## Exercises"
   ]
  },
  {
   "cell_type": "markdown",
   "id": "0a515726",
   "metadata": {},
   "source": [
    "1) Using the tips dataset, create a chart that displays the average total bill depending on the day of the week"
   ]
  },
  {
   "cell_type": "code",
   "execution_count": null,
   "id": "84c455b9",
   "metadata": {},
   "outputs": [],
   "source": []
  },
  {
   "cell_type": "markdown",
   "id": "0eb38921",
   "metadata": {},
   "source": [
    "2) Create a chart using the \"Oceania\" gapminder and show the evolution of GDP per year. Separate the countries (non-stacked plot) and show the GDP value on the plot."
   ]
  },
  {
   "cell_type": "code",
   "execution_count": null,
   "id": "36afbba4",
   "metadata": {},
   "outputs": [],
   "source": []
  },
  {
   "cell_type": "markdown",
   "id": "89789a77",
   "metadata": {},
   "source": [
    "# Box plots and violin plots\n",
    "\n",
    "Box plots and violin plots are another nice way of showing data distributions. `px.box()` and `px.violin()` share almost all their arguments and can be used interchangebly."
   ]
  },
  {
   "cell_type": "code",
   "execution_count": null,
   "id": "1ccbd212",
   "metadata": {},
   "outputs": [],
   "source": [
    "df = px.data.tips()\n",
    "fig = px.box(df, y=\"tip\", x=\"smoker\", color=\"sex\")\n",
    "fig.show()"
   ]
  },
  {
   "cell_type": "code",
   "execution_count": null,
   "id": "a6df9e41",
   "metadata": {},
   "outputs": [],
   "source": [
    "fig = px.violin(df, y=\"tip\", x=\"smoker\", color=\"sex\")\n",
    "fig.show()"
   ]
  },
  {
   "cell_type": "markdown",
   "id": "cc1443f3",
   "metadata": {},
   "source": [
    "## Points argument\n",
    "You can show the underlying data inside the plots by setting the argument `points=\"all\"`, to show only outliers `points=\"outliers\"` or not show any points with `points=False`"
   ]
  },
  {
   "cell_type": "code",
   "execution_count": null,
   "id": "8223f610",
   "metadata": {},
   "outputs": [],
   "source": [
    "fig = px.violin(df, y=\"total_bill\", x=\"smoker\", color=\"sex\", points = \"all\")\n",
    "fig.show()"
   ]
  },
  {
   "cell_type": "code",
   "execution_count": null,
   "id": "fb0745ae",
   "metadata": {},
   "outputs": [],
   "source": [
    "fig = px.box(df, y=\"total_bill\", x=\"smoker\", color=\"sex\", points = False)\n",
    "fig.show()"
   ]
  },
  {
   "cell_type": "markdown",
   "id": "c112105e",
   "metadata": {},
   "source": [
    "## Boxplot inside violin\n",
    "You can show a boxplot inside a violin plot using `box=True`"
   ]
  },
  {
   "cell_type": "code",
   "execution_count": null,
   "id": "b246f638",
   "metadata": {},
   "outputs": [],
   "source": [
    "fig = px.violin(df, y=\"tip\", x=\"smoker\", color=\"sex\", box=True)\n",
    "fig.show()"
   ]
  },
  {
   "cell_type": "markdown",
   "id": "b3bd0c51",
   "metadata": {},
   "source": [
    "## Notched bloxplot\n",
    "\n",
    "You can add notches to your boxplot using `notched=True`"
   ]
  },
  {
   "cell_type": "code",
   "execution_count": null,
   "id": "5f647d0e",
   "metadata": {},
   "outputs": [],
   "source": [
    "fig = px.box(df, y=\"total_bill\", x=\"smoker\", color=\"sex\", points=\"all\", notched=True)\n",
    "fig.show()"
   ]
  },
  {
   "cell_type": "markdown",
   "id": "aeaa20c4",
   "metadata": {},
   "source": [
    "## Show mean\n",
    "We can show the mean in our boxplot using by updating our traces using `boxmean=True` and in our violin plots using `meanline_visible=True`"
   ]
  },
  {
   "cell_type": "code",
   "execution_count": null,
   "id": "d5b72a2a",
   "metadata": {},
   "outputs": [],
   "source": [
    "fig = px.box(df, y=\"total_bill\", x=\"smoker\", color=\"sex\", points=\"all\", notched=True)\n",
    "fig.update_traces(boxmean=True)\n",
    "fig.show()"
   ]
  },
  {
   "cell_type": "code",
   "execution_count": null,
   "id": "4a5af509",
   "metadata": {},
   "outputs": [],
   "source": [
    "fig = px.violin(df, y=\"total_bill\", x=\"smoker\", color=\"sex\", points=\"all\", box=True)\n",
    "fig.update_traces(meanline_visible=True)\n",
    "fig.show()"
   ]
  },
  {
   "cell_type": "markdown",
   "id": "a100a629",
   "metadata": {},
   "source": [
    "# Heatmaps\n",
    "\n",
    "The `px.imshow()` function can be used to display heatmaps (as well as full-color images, as its name suggests). It accepts both array-like objects like lists of lists, as well as pandas.DataFrame objects. Heatmaps are particularly useful to display correlations between the variables of the data"
   ]
  },
  {
   "cell_type": "code",
   "execution_count": null,
   "id": "286863af",
   "metadata": {},
   "outputs": [],
   "source": [
    "df = px.data.tips()\n",
    "px.imshow(df.corr(), text_auto=True)"
   ]
  },
  {
   "cell_type": "markdown",
   "id": "8c479c90",
   "metadata": {},
   "source": [
    "We can modify the color scale using the argument `color_continuous_scale`"
   ]
  },
  {
   "cell_type": "code",
   "execution_count": null,
   "id": "188c453d",
   "metadata": {},
   "outputs": [],
   "source": [
    "px.imshow(df.corr(), text_auto=True, color_continuous_scale='RdBu_r')"
   ]
  },
  {
   "cell_type": "markdown",
   "id": "f0b20348",
   "metadata": {},
   "source": [
    "We can also explicitly map the color scale using `ranger_color` argument."
   ]
  },
  {
   "cell_type": "code",
   "execution_count": null,
   "id": "87875baa",
   "metadata": {},
   "outputs": [],
   "source": [
    "px.imshow(df.corr(), text_auto= '.2f',\n",
    "          color_continuous_scale='RdBu_r', range_color=[-1,1])"
   ]
  },
  {
   "cell_type": "markdown",
   "id": "93b2a057",
   "metadata": {},
   "source": [
    "# Advanced plotting"
   ]
  },
  {
   "cell_type": "markdown",
   "id": "9005e8ce",
   "metadata": {
    "slideshow": {
     "slide_type": "subslide"
    }
   },
   "source": [
    "##  Facet_row and facet_col arguments\n",
    "Another cool thing we can do in many types of plots is to split the chart into rows or columns depending on a variable. For example, we can divide the information of life expectancy into different plots using the variable \"country\""
   ]
  },
  {
   "cell_type": "code",
   "execution_count": null,
   "id": "18418fdf",
   "metadata": {
    "slideshow": {
     "slide_type": "fragment"
    }
   },
   "outputs": [],
   "source": [
    "df = px.data.gapminder().query(\"continent=='Oceania'\")\n",
    "fig = px.line(df,\n",
    "              x=\"year\",\n",
    "              y=\"lifeExp\",\n",
    "              color='country',\n",
    "              facet_col =\"country\",\n",
    "              text=\"lifeExp\",\n",
    "              title=\"Life expectancy per year\")\n",
    "\n",
    "fig.update_traces(textposition=\"top center\")\n",
    "fig.show()"
   ]
  },
  {
   "cell_type": "markdown",
   "id": "ec876abc",
   "metadata": {
    "slideshow": {
     "slide_type": "slide"
    }
   },
   "source": [
    "## Plot marginals\n",
    "\n",
    "In **scatter** and **histogram** plots, you can add extra plots on the margins (called [Plot Marginals](https://plotly.com/python/marginal-plots/)) of your scatter plot, for instance \"histogram\", \"rug\", \"box\", or \"violin\" plots. These plots can be easily added by just using the attributes: `marginal_x` and `marginal_y`."
   ]
  },
  {
   "cell_type": "code",
   "execution_count": null,
   "id": "ddad982c",
   "metadata": {
    "scrolled": true,
    "slideshow": {
     "slide_type": "fragment"
    }
   },
   "outputs": [],
   "source": [
    "df = px.data.iris()\n",
    "df.head()"
   ]
  },
  {
   "cell_type": "code",
   "execution_count": null,
   "id": "3ed7df46",
   "metadata": {
    "slideshow": {
     "slide_type": "fragment"
    }
   },
   "outputs": [],
   "source": [
    "fig = px.scatter(df,\n",
    "                 x=\"sepal_length\",\n",
    "                 y=\"sepal_width\",\n",
    "                 color=\"species\",\n",
    "                 marginal_x=\"box\",\n",
    "                 marginal_y=\"rug\",\n",
    "                 size='petal_width',\n",
    "fig.show()"
   ]
  },
  {
   "cell_type": "markdown",
   "id": "633b89f7",
   "metadata": {},
   "source": [
    "## Exercise"
   ]
  },
  {
   "cell_type": "markdown",
   "id": "94bd7c12",
   "metadata": {},
   "source": [
    "1) Can you get a scatter plot with a histogram instead of a rug distribution plot? "
   ]
  },
  {
   "cell_type": "code",
   "execution_count": null,
   "id": "e51ef988",
   "metadata": {},
   "outputs": [],
   "source": []
  },
  {
   "cell_type": "markdown",
   "id": "d776ea26",
   "metadata": {
    "slideshow": {
     "slide_type": "fragment"
    }
   },
   "source": [
    "2) Divide the previous plot using the species variable"
   ]
  },
  {
   "cell_type": "code",
   "execution_count": null,
   "id": "9aee2e39",
   "metadata": {
    "slideshow": {
     "slide_type": "fragment"
    }
   },
   "outputs": [],
   "source": []
  },
  {
   "cell_type": "markdown",
   "id": "47c8712d",
   "metadata": {},
   "source": [
    "## Error argument\n",
    "\n",
    "In **scatter**, **line** and **bar** plots we can show error bar information, such as confidence intervals or measurement errors, using the `error` arguments. You can choose between displaying the error in the y or x axis (`error_y` and `error_x`, respectively).\n",
    "\n",
    "**Note**: You will need another variable that contains such information! Below, we create an error variable for showcasing. "
   ]
  },
  {
   "cell_type": "code",
   "execution_count": null,
   "id": "d374c859",
   "metadata": {},
   "outputs": [],
   "source": [
    "df = px.data.gapminder().query(\"continent=='Oceania'\")\n",
    "df['e'] = df[\"lifeExp\"]/100 # We create an error variable just to show case\n",
    "fig = px.line(df,\n",
    "              x=\"year\",\n",
    "              y=\"lifeExp\",\n",
    "              color='country',\n",
    "              color_discrete_map  = {\"Australia\":\"Black\", \"New Zealand\": \"Red\"},\n",
    "              error_y='e',\n",
    "              title=\"Life expectancy per year\")\n",
    "\n",
    "fig.show()"
   ]
  },
  {
   "cell_type": "markdown",
   "id": "0980fc1e",
   "metadata": {},
   "source": [
    "## Modifying Tooltips\n",
    "\n",
    "Tooltips are the square popups that appear when you hover the mouse over a data point in the plot. We can modify the behaviour of these:\n",
    "\n",
    "* `hover_name` - highlights value of this column on the top of the tooltip\n",
    "* `hover_data` - let you add or remove tooltips by setting them True/False\n",
    "* `labels` - let you rename the column names inside the tooltip"
   ]
  },
  {
   "cell_type": "code",
   "execution_count": null,
   "id": "9938b1c6",
   "metadata": {},
   "outputs": [],
   "source": [
    "df = px.data.gapminder().query(\"continent=='Oceania'\")\n",
    "fig = px.line(df, x=\"year\", y=\"lifeExp\", color='country')\n",
    "fig.show()"
   ]
  },
  {
   "cell_type": "code",
   "execution_count": null,
   "id": "fab059c5",
   "metadata": {},
   "outputs": [],
   "source": [
    "fig = px.line(df,\n",
    "              x=\"year\",\n",
    "              y=\"lifeExp\",\n",
    "              color='country',\n",
    "              hover_name=\"country\",\n",
    "              hover_data = {\"country\" : False}, # we remove country from the tooltip\n",
    "              labels={\"year\": \"Year\"}, # change year for Year\n",
    "              title=\"Life expectancy per year\")\n",
    "fig.show()"
   ]
  },
  {
   "cell_type": "markdown",
   "id": "1dc93228",
   "metadata": {
    "slideshow": {
     "slide_type": "slide"
    }
   },
   "source": [
    "## Range Slider and Selector in Python\n",
    "\n",
    "\n",
    "You can use sliders to navigate the range of your axis. This can for instance be very useful when visualizing time-series data. (https://plotly.com/python/reference/layout/xaxis/#layout-xaxis-rangeslider)"
   ]
  },
  {
   "cell_type": "code",
   "execution_count": null,
   "id": "82ee3412",
   "metadata": {
    "slideshow": {
     "slide_type": "fragment"
    }
   },
   "outputs": [],
   "source": [
    "fig = px.line(df,\n",
    "              x=\"year\",\n",
    "              y=\"lifeExp\",\n",
    "              color='country',\n",
    "              facet_col =\"country\",\n",
    "              hover_name=\"country\",\n",
    "              text=\"lifeExp\",\n",
    "              color_discrete_map  = {\"Australia\":\"Black\", \"New Zealand\": \"Red\"},\n",
    "              line_dash = \"country\",\n",
    "              title=\"Life expectancy per year\")\n",
    "\n",
    "fig.update_traces(textposition=\"top center\")\n",
    "fig.update_xaxes(rangeslider_visible=True)\n",
    "fig.show()"
   ]
  },
  {
   "cell_type": "markdown",
   "id": "686b4d1a",
   "metadata": {},
   "source": [
    "## Exercise"
   ]
  },
  {
   "cell_type": "markdown",
   "id": "51d7054f",
   "metadata": {},
   "source": [
    "1) Using the Africa's gapminder dataset, create a scatter plot with a [range selector](https://plotly.com/python/reference/layout/xaxis/#layout-xaxis-rangeselector)."
   ]
  },
  {
   "cell_type": "code",
   "execution_count": null,
   "id": "0d19c933",
   "metadata": {},
   "outputs": [],
   "source": [
    "df = px.data.gapminder().query(\"continent=='Africa'\")\n",
    "fig = px.scatter(df,\n",
    "              x=\"year\",\n",
    "              y=\"pop\",\n",
    "              color='country',\n",
    "              title=\"Life expectancy per year\")\n",
    "\n",
    "fig.update_xaxes(rangeselector=dict(\n",
    "            buttons=list([\n",
    "                dict(count=10,\n",
    "                     label=\"10y\",\n",
    "                     step=\"year\")])),\n",
    "                visible = True, type = 'date',\n",
    "                rangeslider_visible=True)\n",
    "\n",
    "fig.show()"
   ]
  },
  {
   "cell_type": "markdown",
   "id": "d80b8b55",
   "metadata": {},
   "source": [
    "2) Modify the tool tip so that when you hover over it will provide information about life expectancy, population, GDP and country code."
   ]
  },
  {
   "cell_type": "code",
   "execution_count": null,
   "id": "8f412cb6",
   "metadata": {},
   "outputs": [],
   "source": [
    "df.columns"
   ]
  },
  {
   "cell_type": "code",
   "execution_count": null,
   "id": "9cfcb9f9",
   "metadata": {},
   "outputs": [],
   "source": [
    "fig = px.scatter(df,\n",
    "              x=\"year\",\n",
    "              y=\"pop\",\n",
    "              color='country',\n",
    "              title=\"Life expectancy per year\", \n",
    "              hover_data = {\"country\" : False, \"gdpPercap\":True,\n",
    "                           'lifeExp' : True, 'pop' : True, 'iso_num' : True})\n",
    "\n",
    "fig.update_xaxes(rangeselector=dict(\n",
    "            buttons=list([\n",
    "                dict(count=10,\n",
    "                     label=\"10y\",\n",
    "                     step=\"year\")])),\n",
    "                visible = True, type = 'date',\n",
    "                rangeslider_visible=True)\n",
    "\n",
    "fig.show()"
   ]
  },
  {
   "cell_type": "markdown",
   "id": "f1c19391",
   "metadata": {},
   "source": [
    "## Changing axis ticks\n",
    "\n",
    "If we do not like the ticks on our axis, we can change them using the method `update_xaxes()` or `update_yaxes()`. We will tell what texts we would like to show (`ticktext`) instead of the actual values (`tickvals`)"
   ]
  },
  {
   "cell_type": "code",
   "execution_count": null,
   "id": "931cfbdb",
   "metadata": {
    "slideshow": {
     "slide_type": "fragment"
    }
   },
   "outputs": [],
   "source": [
    "df = px.data.gapminder().query(\"continent=='Oceania'\")\n",
    "\n",
    "fig = px.line(df,\n",
    "              x=\"year\",\n",
    "              y=\"lifeExp\",\n",
    "              color='country',\n",
    "              facet_col =\"country\",\n",
    "              hover_name=\"country\",\n",
    "              text=\"lifeExp\",\n",
    "              color_discrete_map  = {\"Australia\":\"Black\", \"New Zealand\": \"Red\"},\n",
    "              line_dash = \"country\",\n",
    "              title=\"Life expectancy per year\")\n",
    "\n",
    "fig.update_xaxes(\n",
    "    ticktext=[\"50s\", \"60s\", \"70s\", \"80s\", \"90s\", \"00s\"],\n",
    "    tickvals=[\"1950\", \"1960\", \"1970\", \"1980\", \"1990\", \"2000\"],\n",
    ")\n",
    "fig.show()"
   ]
  },
  {
   "cell_type": "markdown",
   "id": "0f5e1fef",
   "metadata": {
    "slideshow": {
     "slide_type": "slide"
    }
   },
   "source": [
    "## Animating your plot\n",
    "\n",
    "Several Plotly Express functions support the creation of animated figures through the `animation_frame` and `animation_group` arguments (https://plotly.com/python/animations/).\n",
    "\n",
    "In order to make the animation look nicer, we will use the `orientation` argument to make the plot horizontal. In addition, the variable `gdoPercap` has too many decimals. We can change the look of the text value by using again the `update_traces()` method, which will use text comprehension to only display 2 decimals."
   ]
  },
  {
   "cell_type": "code",
   "execution_count": null,
   "id": "c7740333",
   "metadata": {
    "slideshow": {
     "slide_type": "fragment"
    }
   },
   "outputs": [],
   "source": [
    "df = px.data.gapminder().query(\"continent=='Oceania'\")\n",
    "\n",
    "fig = px.bar(df, \n",
    "             y=\"country\", \n",
    "             x=\"gdpPercap\", \n",
    "             color=\"country\",\n",
    "             orientation=\"h\", \n",
    "             animation_frame=\"year\",\n",
    "             animation_group=\"country\",\n",
    "            title=\"Evolution of GDP\",\n",
    "            text=\"gdpPercap\", range_x=[5000, 40000])\n",
    "\n",
    "fig.update_traces(texttemplate='%{text:.2f}')\n",
    "fig.show()"
   ]
  },
  {
   "cell_type": "markdown",
   "id": "d19539d8",
   "metadata": {
    "slideshow": {
     "slide_type": "subslide"
    }
   },
   "source": [
    "## Exercise\n",
    "\n",
    "Animate an african gapminder bar plot so that we see the evolution of life expectancy over time. Remember to separate the countries"
   ]
  },
  {
   "cell_type": "code",
   "execution_count": null,
   "id": "44361deb",
   "metadata": {
    "slideshow": {
     "slide_type": "fragment"
    }
   },
   "outputs": [],
   "source": []
  }
 ],
 "metadata": {
  "kernelspec": {
   "display_name": "Python 3 (ipykernel)",
   "language": "python",
   "name": "python3"
  },
  "language_info": {
   "codemirror_mode": {
    "name": "ipython",
    "version": 3
   },
   "file_extension": ".py",
   "mimetype": "text/x-python",
   "name": "python",
   "nbconvert_exporter": "python",
   "pygments_lexer": "ipython3",
   "version": "3.8.12"
  },
  "rise": {
   "scroll": true
  }
 },
 "nbformat": 4,
 "nbformat_minor": 5
}
