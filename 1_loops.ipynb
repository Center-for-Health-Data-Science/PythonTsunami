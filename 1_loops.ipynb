{
 "cells": [
  {
   "cell_type": "markdown",
   "metadata": {
    "colab_type": "text",
    "id": "jzzrpQS-zxnF"
   },
   "source": [
    "# Loops\n",
    "\n",
    "\n",
    "- prepared by [Katarina Nastou](https://www.cpr.ku.dk/staff/?pure=en/persons/672471)\n",
    "\n",
    "[![Open In Colab](https://colab.research.google.com/assets/colab-badge.svg)](https://colab.research.google.com/github/pythontsunami/teaching/blob/intro/1_loops.ipynb)"
   ]
  },
  {
   "cell_type": "markdown",
   "metadata": {
    "colab_type": "text",
    "id": "pjlidX5Dzxyl"
   },
   "source": [
    "\n",
    "## Objectives\n",
    "- Understand what loops are and how they are useful\n",
    "- Learn what an \"iterable object\" is\n",
    "- Use ***for*** and ***while*** loops to iterate over ranges and strings \n",
    "- Learn how to control exiting a loop\n",
    "\n"
   ]
  },
  {
   "cell_type": "markdown",
   "metadata": {
    "colab_type": "text",
    "id": "HrDeygtfzx7P"
   },
   "source": [
    "Test: Print numbers 1 through 10 using what you already know\n"
   ]
  },
  {
   "cell_type": "code",
   "execution_count": null,
   "metadata": {
    "colab": {},
    "colab_type": "code",
    "id": "tjj39-AazwAb"
   },
   "outputs": [],
   "source": [
    "print(1)\n",
    "print(2)\n",
    "print(3)\n",
    "print(4)\n",
    "print(5)\n",
    "print(6)\n",
    "print(7)\n",
    "print(8)\n",
    "print(9)\n",
    "print(10)"
   ]
  },
  {
   "cell_type": "markdown",
   "metadata": {
    "colab_type": "text",
    "id": "EClTb9Qy0i8U"
   },
   "source": [
    "## ***for*** loops\n",
    "In Python, ***for*** loops are written like this:\n",
    "```\n",
    "for item in iterable_object:\n",
    "    # do something with item\n",
    "```\n",
    "- An **iterable object** is some kind of collection of items, for instance: a string of characters, a range, a list etc.\n",
    "- ***item*** is a new variable that can be called whatever you want\n",
    "- ***item*** references the current position of our ***iterator*** within the iterable. It will iterate over (run through) every item of the collection and then go away when it has visited all items"
   ]
  },
  {
   "cell_type": "markdown",
   "metadata": {
    "colab_type": "text",
    "id": "EClTb9Qy0i8U"
   },
   "source": [
    "## ***for*** loops with **ranges**\n",
    "Let's print numbers 1 - 10 using ranges."
   ]
  },
  {
   "cell_type": "code",
   "execution_count": null,
   "metadata": {
    "colab": {},
    "colab_type": "code",
    "id": "aI1zSyEw1Tvk"
   },
   "outputs": [],
   "source": [
    "for number in range(1, 11):\n",
    "    print(number)"
   ]
  },
  {
   "cell_type": "markdown",
   "metadata": {
    "colab_type": "text",
    "id": "ZCj6EX711bw1"
   },
   "source": [
    "## ranges\n",
    "If we just want to print numbers, we can simply iterate over a range.\n",
    "\n",
    "Python ranges come in multiple forms:\n",
    "\n",
    "- `range(8)` gives you integers from 0 through 7 (Count starts at 0 and is exclusive)\n",
    "\n",
    "- `range(2, 9)` will give you integers from 2 to 8 (Two parameters are (start, end))\n",
    "\n",
    "- `range(10, 20, 2)`  will give you odds from 10 to 20\n",
    "\n",
    "- `range(9, 0, -1)`  will give you integers from 9 to 1 (Third parameter is the \"step\", meaning how many to skip. Also, which way to count, up + or down -)\n"
   ]
  },
  {
   "cell_type": "markdown",
   "metadata": {
    "colab_type": "text",
    "id": "o42yFkWx4WyO"
   },
   "source": [
    "## Quiz\n",
    "- *Question 1*: What numbers does the following range generate?\n",
    "`range(6,12)` \n",
    "\n",
    "- *Question 2*: What numbers does the following range generate?\n",
    "`range(4)` \n",
    "\n",
    "- *Question 3*: What is printed out after the following code?\n",
    "```\n",
    "nums = range(1,5)\n",
    "print(nums)\n",
    "```\n",
    "tip: run the code to check for yourself!\n",
    "\n",
    "- *Question 4*: What numbers does the following range generate: `range(12,0,-3)`"
   ]
  },
  {
   "cell_type": "markdown",
   "metadata": {
    "colab_type": "text",
    "id": "O42wSNIP2OWP"
   },
   "source": [
    "### Exercise 1\n",
    "Loop through numbers 1-20:\n",
    "- for 4 and 13, print \"x is unlucky\"\n",
    "- for even numbers, print \"x is even\"\n",
    "- for odd numbers, print \"x is odd\"\n",
    "\n"
   ]
  },
  {
   "cell_type": "code",
   "execution_count": null,
   "metadata": {
    "colab": {},
    "colab_type": "code",
    "id": "XbGvBLQk5Ymo"
   },
   "outputs": [],
   "source": []
  },
  {
   "cell_type": "markdown",
   "metadata": {
    "colab_type": "text",
    "id": "4NJV8SnW2dcf"
   },
   "source": [
    "## ***while*** loops\n",
    "\n",
    "We can also iterate using a ***while*** loop, which has a different format:\n",
    "```\n",
    "while im_tired:\n",
    "    # drink coffee\n",
    "```\n",
    "while loops continue to execute while a certain condition is True, and will end when it becomes False.\n",
    "```\n",
    "user_response = \"Something...\"\n",
    "while user_response != \"please\":\n",
    "    user_response = input(\"Ah ah ah, you didn't say the magic word: \")\n",
    "```\n",
    "\n",
    "***while*** loops require more careful setup than ***for*** loops, since you have to specify the termination conditions manually.\n",
    "\n",
    "Be careful! If the condition doesn't become false at some point, your loop will continue ***forever***!\n"
   ]
  },
  {
   "cell_type": "markdown",
   "metadata": {
    "colab_type": "text",
    "id": "xKOz5qSs5bfV"
   },
   "source": [
    "Quiz:\n",
    "- *Question 1*: What does the following loop do?\n",
    "    ```\n",
    "        i = 1\n",
    "        while i < 5:\n",
    "            i + i\n",
    "            print(i)\n",
    "    ```\n",
    "    *hint: is the value of i changing?*\n",
    "\n",
    "- *Question 2*: What does the following loop do?\n",
    "    ```\n",
    "        i = 0\n",
    "        while i <= 5:\n",
    "            i =+ 1\n",
    "            print(i)\n",
    "    ```\n",
    "    *hint: have you checked for typos here?\n",
    "\n",
    "- *Question 3*: What can we do to get out of the infinite loop below?\n",
    "    ```\n",
    "        #this code runs forever...\n",
    "        x = 0\n",
    "        while x != 11:\n",
    "            x += 2\n",
    "            print(x)\n",
    "    ```\n",
    "\n",
    "    (a) change the condition to `x != 10`\n",
    "    \n",
    "    (b) change the condition to `x < 11`\n",
    "    \n",
    "    (c) add conditional that says \n",
    "    ```\n",
    "    if x == 10:\n",
    "        break\n",
    "    ```\n",
    "\n",
    "    (d) press Ctrl + C to kill the program\n",
    "\n",
    "    (e) all of the above\n"
   ]
  },
  {
   "cell_type": "markdown",
   "metadata": {
    "colab_type": "text",
    "id": "XKETo3jK3aue"
   },
   "source": [
    "## Controlled Exit\n",
    "\n",
    "\n",
    "The keyword break gives us the ability to exit out of while loops whenever we want:\n",
    "```\n",
    "while True:\n",
    "    command = input(\"Type 'exit' to exit: \")\n",
    "    if (command == \"exit\"):\n",
    "        break\n",
    "```\n",
    "\n",
    "We can also use it to end for loops early:\n",
    "```\n",
    "for x in range(1, 101):\n",
    "    print(x)\n",
    "    if x == 3:\n",
    "        break\n",
    "```\n",
    "\n",
    "### Adding a break\n"
   ]
  },
  {
   "cell_type": "code",
   "execution_count": 6,
   "metadata": {
    "colab": {
     "base_uri": "https://localhost:8080/",
     "height": 139
    },
    "colab_type": "code",
    "executionInfo": {
     "elapsed": 3318,
     "status": "ok",
     "timestamp": 1583751015556,
     "user": {
      "displayName": "Catherine Nst",
      "photoUrl": "",
      "userId": "00118750132604534762"
     },
     "user_tz": -60
    },
    "id": "VsEuKOb731qP",
    "outputId": "55af52b6-e389-47c6-f708-60abe34a9994"
   },
   "outputs": [
    {
     "name": "stdout",
     "output_type": "stream",
     "text": [
      "Give me a number from 10 to 100 to count to and you can hide: 32\n",
      "1 missisipi\n",
      "2 missisipi\n",
      "3 missisipi\n",
      "4 missisipi\n",
      "5 missisipi\n",
      "Hahaha I won't count that far!\n"
     ]
    }
   ],
   "source": [
    "times = int(input(\"Give me a number from 10 to 100 to count to and you can hide: \"))\n",
    "\n",
    "for time in range(times):\n",
    "    print(str(time+1)+\" missisipi\")\n",
    "    if time+1 == 5: \n",
    "        print(\"Hahaha I won't count that far!\")\n",
    "    break\n"
   ]
  },
  {
   "cell_type": "markdown",
   "metadata": {
    "colab_type": "text",
    "id": "OdT8saj44Avh"
   },
   "source": [
    "## Recap\n",
    "\n",
    "- Loops are sections of code that keep repeating\n",
    "- For loops are useful for going through iterable objects\n",
    "- While loops are more versatile but require more set up\n",
    "- Any loop can be short-circuited with the break keyword\n",
    "\n",
    "\n",
    "\n"
   ]
  },
  {
   "cell_type": "markdown",
   "metadata": {
    "colab_type": "text",
    "id": "THMUNuzm3jtb"
   },
   "source": [
    "*Note: This notebook's contents have been adapted from Colt Steele's slides used in \"Modern Python 3 Bootcamp Course\" on Udemy*"
   ]
  }
 ],
 "metadata": {
  "colab": {
   "authorship_tag": "ABX9TyNn48PoJA8yAKrQsJwUhfXp",
   "collapsed_sections": [],
   "name": "loops.ipynb",
   "provenance": []
  },
  "kernelspec": {
   "display_name": "Python 3",
   "language": "python",
   "name": "python3"
  },
  "language_info": {
   "codemirror_mode": {
    "name": "ipython",
    "version": 3
   },
   "file_extension": ".py",
   "mimetype": "text/x-python",
   "name": "python",
   "nbconvert_exporter": "python",
   "pygments_lexer": "ipython3",
   "version": "3.7.7"
  },
  "toc-autonumbering": true
 },
 "nbformat": 4,
 "nbformat_minor": 4
}
