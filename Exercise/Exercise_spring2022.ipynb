{
 "cells": [
  {
   "cell_type": "code",
   "execution_count": 1,
   "metadata": {
    "id": "3YLOMOoHRwRR"
   },
   "outputs": [],
   "source": [
    "import pandas as pd\n",
    "import plotly.express as px"
   ]
  },
  {
   "cell_type": "markdown",
   "metadata": {
    "id": "k9Nxy_ic9GgE"
   },
   "source": [
    "# Exercise\n",
    "\n",
    "Now that we have learned some of the basics of python, we should practice how to use this new superpower. We have herefore prepared a loosely guided exercise that focusses on data exploration and visualization for some simple example datasets. You can choose whether you would like to work with the cirrhosis or the stroke dataset for which we have prepared a little more guidance, or you can be bold and just use any dataset you like. \n",
    "\n",
    "If you are interested in what the columns for the cirrhosis dataset mean, take a look at the [metadata](https://www.kaggle.com/datasets/fedesoriano/cirrhosis-prediction-dataset)"
   ]
  },
  {
   "cell_type": "markdown",
   "metadata": {
    "id": "XVWSFVPK9TCe"
   },
   "source": [
    "## 1. Data Loading\n",
    "\n",
    "1. We have provided you with two datasets on the GitHub repository. Load it into colab by using one of the following approaches\n",
    "\n",
    "  - use pandas csv reader with the link on GitHub\n",
    "  - manually load the dataset into colab and then read it with the pandas csv reader\n",
    "\n",
    "  And assign it to variable name ```data```.\n",
    "\n",
    "\n",
    "2. Have a first look at the data. There are some neat built-in pandas functions to get an initial understanding of the data. Questions you might want to answer here: What different types of columns do you have? What is the 'outcome' column? How many values does each feature have and what are some preliminary statistics of the features? (tip: use pandas `describe` function)\n",
    "\n",
    "  - You might be interested in comparing statistics across different groups (e.g. female/male, age, etc)\n",
    "\n",
    "It helps to know which column is the outcome observable. If you assign the column name to a variable, you can perform the same analysis to different datasets. **Note** that the outcome variable is a numerical variable, when it reality it is categorical. **Change the data type of the outcome variable to \"object\" before describing the dataset.**"
   ]
  },
  {
   "cell_type": "markdown",
   "metadata": {
    "id": "Hto297viwyzY"
   },
   "source": [
    "### Solution 1.1"
   ]
  },
  {
   "cell_type": "markdown",
   "metadata": {
    "id": "SmuuZeHpx3S_"
   },
   "source": [
    "Go to the github repository, find the dataset you want to work with and click on the 'raw' button. Copy the link and enter it as the file directory in pandas csv reader."
   ]
  },
  {
   "cell_type": "code",
   "execution_count": null,
   "metadata": {
    "colab": {
     "base_uri": "https://localhost:8080/"
    },
    "id": "lGW4Cz2AsojD",
    "outputId": "d116586d-b178-4b68-9e43-33b621615050"
   },
   "outputs": [],
   "source": []
  },
  {
   "cell_type": "code",
   "execution_count": null,
   "metadata": {
    "colab": {
     "base_uri": "https://localhost:8080/",
     "height": 557
    },
    "id": "vR5EptJg0G1J",
    "outputId": "36b6ab74-9760-45b7-8ada-672b6902d1a4"
   },
   "outputs": [],
   "source": []
  },
  {
   "cell_type": "markdown",
   "metadata": {
    "id": "MXMXD20CxXHT"
   },
   "source": [
    "... or\n",
    "\n",
    "1. go to the left side bar and click on the folder icon\n",
    "2. click on data upload\n",
    "3. select dataset from your computer\n",
    "4. call pandas csv reader with the name of the dataset"
   ]
  },
  {
   "cell_type": "code",
   "execution_count": null,
   "metadata": {
    "colab": {
     "base_uri": "https://localhost:8080/"
    },
    "id": "LWfDOeGB9Uw2",
    "outputId": "23cec57b-61fe-4434-ec7b-7f9078c3d7db"
   },
   "outputs": [],
   "source": []
  },
  {
   "cell_type": "markdown",
   "metadata": {
    "id": "Gf5b1jRGxVOO"
   },
   "source": [
    "### Solution 1.2"
   ]
  },
  {
   "cell_type": "markdown",
   "metadata": {
    "id": "Jfbzxli59lR4"
   },
   "source": [
    "Once the data is loaded, there are some in-built functions you can use to get an initial understanding about the data."
   ]
  },
  {
   "cell_type": "code",
   "execution_count": null,
   "metadata": {
    "colab": {
     "base_uri": "https://localhost:8080/"
    },
    "id": "JVMoOn5G9bMp",
    "outputId": "3c434a9b-c6c1-4f16-e154-dc526e61ec94"
   },
   "outputs": [],
   "source": []
  },
  {
   "cell_type": "code",
   "execution_count": null,
   "metadata": {
    "colab": {
     "base_uri": "https://localhost:8080/"
    },
    "id": "-U3eWqWn9fCX",
    "outputId": "bdcd5a2d-5b76-4997-b269-4415f85f3801"
   },
   "outputs": [],
   "source": []
  },
  {
   "cell_type": "code",
   "execution_count": null,
   "metadata": {},
   "outputs": [],
   "source": []
  },
  {
   "cell_type": "markdown",
   "metadata": {
    "id": "ScZ9eNl99zEN"
   },
   "source": [
    "## 2. Exploratory analysis\n",
    "\n",
    "Get to know your data better. If you want to first visually inspect the data it can help to explore with some plots.\n",
    "\n",
    "1. Create a function that takes a DataFrame as an argument. The function should return a list of violin plots if the variable is an integer or float, or an histogram if the variable is a string **(ignore the ID)**. Name the plot (add title) after the variable. Show all the plots (do not do it one by one)!\n",
    "\n",
    "\n",
    "2. Plot the correlation coefficients of all numerical features (tip: use heatmaps and the pandas method `corr()`)\n",
    "\n",
    "\n",
    "3. Make a scatter plot with the variable with the highest correlation. Divide the plots by the outcome variable (`Stage` for the cirrhosis dataset or `Stroke` for the stroke dataset). Add marginal plots and a trendline."
   ]
  },
  {
   "cell_type": "markdown",
   "metadata": {
    "id": "TC6ewdf5qFze"
   },
   "source": [
    "### Solution 2.1"
   ]
  },
  {
   "cell_type": "code",
   "execution_count": null,
   "metadata": {
    "id": "llINtmry-NqA"
   },
   "outputs": [],
   "source": []
  },
  {
   "cell_type": "markdown",
   "metadata": {
    "id": "-d-4HSAay-xc"
   },
   "source": [
    "### Solution 2.2"
   ]
  },
  {
   "cell_type": "code",
   "execution_count": null,
   "metadata": {
    "colab": {
     "base_uri": "https://localhost:8080/",
     "height": 543
    },
    "id": "yc3GuLRe-U6l",
    "outputId": "b70f3805-16ae-473e-98e3-1d6035897577"
   },
   "outputs": [],
   "source": []
  },
  {
   "cell_type": "markdown",
   "metadata": {
    "id": "v9Ez8XDCzCGW"
   },
   "source": [
    "### Solution 2.3"
   ]
  },
  {
   "cell_type": "code",
   "execution_count": null,
   "metadata": {
    "colab": {
     "base_uri": "https://localhost:8080/",
     "height": 334
    },
    "id": "5xNHY4LwAJx8",
    "outputId": "ff56127e-c7fd-4370-d5af-525c6f2d58eb"
   },
   "outputs": [],
   "source": []
  },
  {
   "cell_type": "markdown",
   "metadata": {
    "id": "XzWC3UdNAhdt"
   },
   "source": [
    "## 3. Data cleaning\n",
    "\n",
    "Maybe you have noticed when looking at the data that some rows have missing values. This is specially relevant for the \n",
    "[cirrhosis dataset]('https://raw.githubusercontent.com/Center-for-Health-Data-Science/PythonTsunami/spring2022/Exercise/datasets/cirrhosis.csv')\n",
    "\n",
    "1. Which features have missing values? How many do they each have? You can return the sum of missing values per feature and plot a barplot of missing values per entry. For either approach, you can make use of the pandas method `isnull`.\n",
    "\n",
    "2. How many observations would you be left with if you removed all missing values or just those in the outcome variable?\n",
    "\n",
    "3. Does removing missing values in features (not outcome) change the correlations with the outcome variable?\n",
    "\n",
    "4. Impute missing values for numerical columns (do not do it one by one). How did the correlations change after imputing missing values? [Tip](https://pandas.pydata.org/pandas-docs/stable/reference/api/pandas.DataFrame.fillna.html)\n",
    "\n",
    "Note that imputation is a __complex subject__ and whether it makes sense to do it and the method used highly depend on the data set. Sometimes, the mean of a value across all non-missing obeservations is a good approximation for the missing values. On the other hand, if you have a column that says whether or not the person was treated with the drug or the placebo we have no good way to guess which treatment the person received. Replacing missing values in this column with the most common value (which is that they did get the drug) will produce extremely __wrong data__ and lead you to __wrong conclusions__. Do not do that!"
   ]
  },
  {
   "cell_type": "markdown",
   "metadata": {
    "id": "FxHy9gKJqtNE"
   },
   "source": [
    "### Solution 3.1"
   ]
  },
  {
   "cell_type": "code",
   "execution_count": null,
   "metadata": {
    "colab": {
     "base_uri": "https://localhost:8080/"
    },
    "id": "KB_RPg-U9i8J",
    "outputId": "0e8b746c-6a6e-45f8-9e17-ee1f695487a3"
   },
   "outputs": [],
   "source": []
  },
  {
   "cell_type": "code",
   "execution_count": null,
   "metadata": {
    "colab": {
     "base_uri": "https://localhost:8080/",
     "height": 676
    },
    "id": "XEbMbPHqAj2X",
    "outputId": "78a35ec2-c230-4859-9dea-19e713af43df"
   },
   "outputs": [],
   "source": []
  },
  {
   "cell_type": "markdown",
   "metadata": {
    "id": "3qBOePAlzIrv"
   },
   "source": [
    "### Solution 3.2"
   ]
  },
  {
   "cell_type": "code",
   "execution_count": null,
   "metadata": {
    "colab": {
     "base_uri": "https://localhost:8080/"
    },
    "id": "j3rEUU7iA1La",
    "outputId": "6e30e79b-b57c-4bac-fab9-3f16e886435d"
   },
   "outputs": [],
   "source": []
  },
  {
   "cell_type": "code",
   "execution_count": null,
   "metadata": {
    "colab": {
     "base_uri": "https://localhost:8080/"
    },
    "id": "0SbRFgmGChph",
    "outputId": "1e978688-250b-4cdf-9731-cbb398c5f0f3"
   },
   "outputs": [],
   "source": []
  },
  {
   "cell_type": "markdown",
   "metadata": {
    "id": "nKknLSw1zOqi"
   },
   "source": [
    "### Solution 3.3"
   ]
  },
  {
   "cell_type": "markdown",
   "metadata": {
    "id": "t1_fL5hEC2LN"
   },
   "source": [
    "We can now have a look at how removing nans effects the data."
   ]
  },
  {
   "cell_type": "code",
   "execution_count": null,
   "metadata": {
    "colab": {
     "base_uri": "https://localhost:8080/",
     "height": 666
    },
    "id": "r5G9AqzzDSBJ",
    "outputId": "4ceb80f2-e439-4235-b732-430f63941f68"
   },
   "outputs": [],
   "source": []
  },
  {
   "cell_type": "markdown",
   "metadata": {
    "id": "9b40PElUzT-2"
   },
   "source": [
    "### Solution 3.4"
   ]
  },
  {
   "cell_type": "code",
   "execution_count": null,
   "metadata": {
    "id": "SF8PoOvOcp7n"
   },
   "outputs": [],
   "source": []
  },
  {
   "cell_type": "code",
   "execution_count": null,
   "metadata": {},
   "outputs": [],
   "source": []
  },
  {
   "cell_type": "code",
   "execution_count": null,
   "metadata": {},
   "outputs": [],
   "source": []
  },
  {
   "cell_type": "code",
   "execution_count": null,
   "metadata": {},
   "outputs": [],
   "source": []
  }
 ],
 "metadata": {
  "colab": {
   "collapsed_sections": [
    "Hto297viwyzY",
    "Gf5b1jRGxVOO",
    "TC6ewdf5qFze",
    "-d-4HSAay-xc",
    "v9Ez8XDCzCGW",
    "FxHy9gKJqtNE",
    "3qBOePAlzIrv",
    "nKknLSw1zOqi",
    "9b40PElUzT-2",
    "_CwrlBmMOzif",
    "ATnfchJIyGKj",
    "SS-KMKN7zeNw",
    "feYvDsddzhUl",
    "f8vhdvqVzjXi"
   ],
   "name": "Exercise_spring2022.ipynb",
   "provenance": []
  },
  "kernelspec": {
   "display_name": "Python 3",
   "language": "python",
   "name": "python3"
  },
  "language_info": {
   "codemirror_mode": {
    "name": "ipython",
    "version": 3
   },
   "file_extension": ".py",
   "mimetype": "text/x-python",
   "name": "python",
   "nbconvert_exporter": "python",
   "pygments_lexer": "ipython3",
   "version": "3.6.8"
  }
 },
 "nbformat": 4,
 "nbformat_minor": 1
}
