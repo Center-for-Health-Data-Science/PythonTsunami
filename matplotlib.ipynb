{
 "cells": [
  {
   "cell_type": "markdown",
   "metadata": {},
   "source": [
    "# Matploblib\n",
    "\n",
    "- Henry Webel at [NNF CPR](https://www.cpr.ku.dk/staff/rasmussen-group/?pure=en/persons/662319)\n",
    "- Python Tsumanmi 2020 at [SUND]()\n",
    "- Session : `Day 1, 15:30 -18.00`\n",
    "\n",
    "\n",
    "<table align=\"left\">\n",
    "  <td>\n",
    "    <a target=\"_blank\" href=\"https://colab.research.google.com/github/pythontsunami/teaching/blob/matplotlib/matplotlib.ipynb\"><img src=\"https://www.tensorflow.org/images/colab_logo_32px.png\" />Run in Google Colab</a>\n",
    "  </td>\n",
    "</table>"
   ]
  },
  {
   "cell_type": "markdown",
   "metadata": {},
   "source": [
    "### Saving the notebook in Drive\n",
    "Save a copy in your drive if you want to save your changes: `File` -> `Save a copy in Drive`\n",
    "\n",
    "\n",
    "![Save Colab Notebook in Google Drive](figures/colab_save_in_drive.png)"
   ]
  },
  {
   "cell_type": "markdown",
   "metadata": {},
   "source": [
    "## Tutorial selection\n",
    "- [cheat sheets](https://github.com/rougier/matplotlib-cheatsheet)\n",
    "- [SciPy 2019](https://github.com/story645/mpl_tutorial)\n",
    "- [Usage Guide](https://matplotlib.org/tutorials/introductory/usage.html#sphx-glr-tutorials-introductory-usage-py)\n",
    "- [The lifecycle of a plot](https://matplotlib.org/tutorials/introductory/lifecycle.html)\n"
   ]
  },
  {
   "cell_type": "markdown",
   "metadata": {},
   "source": [
    "## Objectives\n",
    "\n",
    "1. Matplotlibs two [APIs](https://matplotlib.org/3.1.1/api/index.html#usage-patterns): pyplot API vs object-orientated API like interface vs OOM\n",
    "2. Distinction between figure, axes and axis\n",
    "3. labels, ticks, legends, annotations\n",
    "4. Some use-cases\n",
    "5. No confusion when you search for help on [stackoverflow](https://stackoverflow.com/questions/tagged/matplotlib)\n",
    "\n",
    "> The goal is not to introduce most parts of the API, but to make it accessible"
   ]
  },
  {
   "cell_type": "markdown",
   "metadata": {},
   "source": [
    "## [Matplotlib](https://matplotlib.org/3.1.1/index.html)\n",
    "\n",
    "- versatile set of instruction for plotting figures\n",
    "- widely used by third party libraries\n",
    "- supports many [backends](https://matplotlib.org/tutorials/introductory/usage.html#backends) (application, machine or operating system specific)"
   ]
  },
  {
   "cell_type": "code",
   "execution_count": null,
   "metadata": {},
   "outputs": [],
   "source": [
    "import matplotlib\n",
    "\n",
    "matplotlib.__version__"
   ]
  },
  {
   "cell_type": "code",
   "execution_count": null,
   "metadata": {},
   "outputs": [],
   "source": [
    "matplotlib.get_backend()"
   ]
  },
  {
   "cell_type": "markdown",
   "metadata": {},
   "source": [
    "## Matplotlib API\n",
    "\n",
    "- `pyplot` global functionality is a copy of `matlab`-plotting functinality.\n",
    "- recommendation by matplotlib: Use object orientated plotting, see [usage guide](https://matplotlib.org/3.1.1/tutorials/introductory/usage.html#figure)\n"
   ]
  },
  {
   "cell_type": "markdown",
   "metadata": {},
   "source": [
    "### Example\n",
    "    1.  `pyplot` plotting\n",
    "    2. Object Orientated plotting"
   ]
  },
  {
   "cell_type": "markdown",
   "metadata": {},
   "source": [
    "### Pyplot-API"
   ]
  },
  {
   "cell_type": "code",
   "execution_count": null,
   "metadata": {},
   "outputs": [],
   "source": [
    "import matplotlib.pyplot as plt\n",
    "\n",
    "fig = plt.figure()\n",
    "ax = plt.subplot()"
   ]
  },
  {
   "cell_type": "markdown",
   "metadata": {},
   "source": [
    "### Object-Oriented API"
   ]
  },
  {
   "cell_type": "code",
   "execution_count": null,
   "metadata": {
    "scrolled": true
   },
   "outputs": [],
   "source": [
    "import matplotlib\n",
    "\n",
    "fig = matplotlib.figure.Figure()\n",
    "ax = fig.add_subplot(1, 1, 1)\n",
    "fig"
   ]
  },
  {
   "cell_type": "markdown",
   "metadata": {},
   "source": [
    "### Mixing up both\n",
    "\n",
    "> This is in my impression the most common use"
   ]
  },
  {
   "cell_type": "code",
   "execution_count": null,
   "metadata": {},
   "outputs": [],
   "source": [
    "import matplotlib.pyplot as plt\n",
    "\n",
    "fig, ax = plt.subplots()"
   ]
  },
  {
   "cell_type": "markdown",
   "metadata": {},
   "source": [
    "## Naming\n",
    "\n",
    "- common language vs (painful) _automated programming interface_ (API) naming\n",
    "- A *figure* can contain multiple **ax*e*s**, each of which in a 2D plot has two [**ax*e*s**](https://www.merriam-webster.com/dictionary/axis#:~:text=Language%20Learners%20Dictionary-,axis,axes%5C%20%CB%88ak%2D%E2%80%8B%CB%8Cs%C4%93z%20%5C) (which in singular are the **x-axis** and **y-axis**)"
   ]
  },
  {
   "cell_type": "markdown",
   "metadata": {
    "tags": []
   },
   "source": [
    "![Figure, Axes and Axis](figures/matplotlib/fig_axes_axis.png)"
   ]
  },
  {
   "cell_type": "markdown",
   "metadata": {},
   "source": [
    "## Anatomy of Figure\n",
    "- [code](https://matplotlib.org/3.1.1/gallery/showcase/anatomy.html)\n",
    "\n",
    "![[Matplotlib Anatomoy of a Figure](https://matplotlib.org/3.1.1/gallery/showcase/anatomy.html)](https://matplotlib.org/3.1.1/_images/anatomy.png)"
   ]
  },
  {
   "cell_type": "markdown",
   "metadata": {},
   "source": [
    "### Plot without the annotation"
   ]
  },
  {
   "cell_type": "code",
   "execution_count": null,
   "metadata": {},
   "outputs": [],
   "source": [
    "import matplotlib.pyplot as plt\n",
    "import numpy as np\n",
    "from matplotlib.ticker import AutoMinorLocator, FuncFormatter, MultipleLocator\n",
    "\n",
    "# Numpy part - please skip\n",
    "np.random.seed(19680801)\n",
    "\n",
    "X = np.linspace(0.5, 3.5, 100)\n",
    "Y1 = 3 + np.cos(X)\n",
    "Y2 = 1 + np.cos(1 + X / 0.75) / 2\n",
    "Y3 = np.random.uniform(Y1, Y2, len(X))\n",
    "\n",
    "# Matplotlib part\n",
    "fig = plt.figure(figsize=(8, 8))\n",
    "ax = fig.add_subplot(1, 1, 1, aspect=1)\n",
    "\n",
    "\n",
    "def minor_tick(x, pos):\n",
    "    if not x % 1.0:\n",
    "        return \"\"\n",
    "    return \"%.2f\" % x\n",
    "\n",
    "\n",
    "ax.xaxis.set_major_locator(MultipleLocator(1.000))\n",
    "ax.xaxis.set_minor_locator(AutoMinorLocator(4))\n",
    "ax.yaxis.set_major_locator(MultipleLocator(1.000))\n",
    "ax.yaxis.set_minor_locator(AutoMinorLocator(4))\n",
    "ax.xaxis.set_minor_formatter(FuncFormatter(minor_tick))\n",
    "\n",
    "ax.set_xlim(0, 4)\n",
    "ax.set_ylim(0, 4)\n",
    "\n",
    "ax.tick_params(which=\"major\", width=1.0)\n",
    "ax.tick_params(which=\"major\", length=10)\n",
    "ax.tick_params(which=\"minor\", width=1.0, labelsize=10)\n",
    "ax.tick_params(which=\"minor\", length=5, labelsize=10, labelcolor=\"0.25\")\n",
    "\n",
    "ax.grid(linestyle=\"--\", linewidth=0.5, color=\".25\", zorder=-10)\n",
    "\n",
    "ax.plot(X, Y1, c=(0.25, 0.25, 1.00), lw=2, label=\"Blue signal\", zorder=10)\n",
    "ax.plot(X, Y2, c=(1.00, 0.25, 0.25), lw=2, label=\"Red signal\")\n",
    "ax.plot(X, Y3, linewidth=0, marker=\"o\", markerfacecolor=\"w\", markeredgecolor=\"k\")\n",
    "\n",
    "ax.set_title(\"Anatomy of a figure\", fontsize=20, verticalalignment=\"bottom\")\n",
    "ax.set_xlabel(\"X axis label\")\n",
    "ax.set_ylabel(\"Y axis label\")\n",
    "\n",
    "_ = ax.legend()"
   ]
  },
  {
   "cell_type": "markdown",
   "metadata": {},
   "source": [
    "## Plotting Ecosystem\n",
    "\n",
    "Libraries using matplotlib\n",
    "- seaborn \n",
    "- pandas `.plot`- method ([guide](https://pandas.pydata.org/pandas-docs/stable/user_guide/visualization.html), \n",
    "    [method-doc](https://pandas.pydata.org/pandas-docs/stable/reference/frame.html#plotting), \n",
    "    [plotting-sublibrary](https://pandas.pydata.org/pandas-docs/stable/reference/plotting.html))\n",
    "    \n",
    "> Claim: You will hardly use matplotlib directly, when your data is in a [`pandas.DataFrame`](https://pandas.pydata.org/pandas-docs/stable/reference/api/pandas.DataFrame.html)  \n",
    "> If you program in pure numpy this would be different.\n",
    "    "
   ]
  },
  {
   "cell_type": "code",
   "execution_count": null,
   "metadata": {},
   "outputs": [],
   "source": [
    "import seaborn as sns\n",
    "\n",
    "sns.__version__"
   ]
  },
  {
   "cell_type": "code",
   "execution_count": null,
   "metadata": {},
   "outputs": [],
   "source": [
    "import pandas as pd\n",
    "\n",
    "pd.__version__"
   ]
  },
  {
   "cell_type": "code",
   "execution_count": null,
   "metadata": {},
   "outputs": [],
   "source": [
    "# help(pd.plotting)"
   ]
  },
  {
   "cell_type": "markdown",
   "metadata": {},
   "source": [
    "## Example using matplotlib, seaborn and pandas plotting together"
   ]
  },
  {
   "cell_type": "markdown",
   "metadata": {},
   "source": [
    "### Data"
   ]
  },
  {
   "cell_type": "code",
   "execution_count": null,
   "metadata": {},
   "outputs": [],
   "source": [
    "data_fasta_uniprot = {\n",
    "    \"protein_id\": {\n",
    "        0: 0,\n",
    "        1: 1173665,\n",
    "        2: 703064,\n",
    "        3: 469464,\n",
    "        4: 301013,\n",
    "        5: 191521,\n",
    "        6: 117915,\n",
    "        7: 72008,\n",
    "        8: 48178,\n",
    "        9: 33798,\n",
    "        10: 23277,\n",
    "    },\n",
    "    \"protein\": {\n",
    "        0: 0,\n",
    "        1: 1758959,\n",
    "        2: 749718,\n",
    "        3: 346667,\n",
    "        4: 153179,\n",
    "        5: 81073,\n",
    "        6: 42527,\n",
    "        7: 24434,\n",
    "        8: 14458,\n",
    "        9: 9126,\n",
    "        10: 6935,\n",
    "    },\n",
    "    \"gene\": {\n",
    "        0: 19444,\n",
    "        1: 3105730,\n",
    "        2: 64634,\n",
    "        3: 11683,\n",
    "        4: 3670,\n",
    "        5: 1866,\n",
    "        6: 931,\n",
    "        7: 821,\n",
    "        8: 469,\n",
    "        9: 407,\n",
    "        10: 237,\n",
    "    },\n",
    "}"
   ]
  },
  {
   "cell_type": "markdown",
   "metadata": {},
   "source": [
    "## Figure with 4 subplots"
   ]
  },
  {
   "cell_type": "code",
   "execution_count": null,
   "metadata": {},
   "outputs": [],
   "source": [
    "fig, axes = plt.subplots(nrows=2, ncols=2, figsize=(10, 10))\n",
    "axes"
   ]
  },
  {
   "cell_type": "markdown",
   "metadata": {},
   "source": [
    "### Matplotlib bar plot\n",
    "\n",
    "- check [`axes` API](https://matplotlib.org/3.1.0/api/axes_api.html) documentation\n"
   ]
  },
  {
   "cell_type": "code",
   "execution_count": null,
   "metadata": {},
   "outputs": [],
   "source": [
    "x = list(data_fasta_uniprot[\"protein_id\"].keys())\n",
    "x"
   ]
  },
  {
   "cell_type": "code",
   "execution_count": null,
   "metadata": {},
   "outputs": [],
   "source": [
    "y = list(data_fasta_uniprot[\"protein_id\"].values())\n",
    "y"
   ]
  },
  {
   "cell_type": "code",
   "execution_count": null,
   "metadata": {},
   "outputs": [],
   "source": [
    "ax = axes[0, 0]\n",
    "ax.bar(x, y)"
   ]
  },
  {
   "cell_type": "code",
   "execution_count": null,
   "metadata": {},
   "outputs": [],
   "source": [
    "fig"
   ]
  },
  {
   "cell_type": "markdown",
   "metadata": {},
   "source": [
    "### Bar plot using Pandas"
   ]
  },
  {
   "cell_type": "code",
   "execution_count": null,
   "metadata": {},
   "outputs": [],
   "source": [
    "df_fasta_uniprot = pd.DataFrame(data_fasta_uniprot)\n",
    "df_fasta_uniprot"
   ]
  },
  {
   "cell_type": "code",
   "execution_count": null,
   "metadata": {},
   "outputs": [],
   "source": [
    "df_fasta_uniprot.plot(kind=\"bar\", ax=axes[0, 1])"
   ]
  },
  {
   "cell_type": "code",
   "execution_count": null,
   "metadata": {},
   "outputs": [],
   "source": [
    "fig"
   ]
  },
  {
   "cell_type": "markdown",
   "metadata": {},
   "source": [
    "#### Side Note: Matplotlib also works with `pandas.DataFrames`\n",
    "\n",
    "> Don't use it. Use Pandas directly!"
   ]
  },
  {
   "cell_type": "code",
   "execution_count": null,
   "metadata": {},
   "outputs": [],
   "source": [
    "axes[1,0].clear()\n",
    "axes[1,0].bar(x=list(range(len(df_fasta_uniprot))), height='protein_id', data=df_fasta_uniprot)"
   ]
  },
  {
   "cell_type": "code",
   "execution_count": null,
   "metadata": {},
   "outputs": [],
   "source": [
    "fig"
   ]
  },
  {
   "cell_type": "code",
   "execution_count": null,
   "metadata": {},
   "outputs": [],
   "source": [
    "axes[1,0].clear()"
   ]
  },
  {
   "cell_type": "markdown",
   "metadata": {},
   "source": [
    "### Barplot in Seaborn\n",
    "\n",
    "- seaborn summarizes the data "
   ]
  },
  {
   "cell_type": "code",
   "execution_count": null,
   "metadata": {},
   "outputs": [],
   "source": [
    "sns.barplot(data=df_fasta_uniprot.T, ax=axes[1, 1])\n",
    "fig"
   ]
  },
  {
   "cell_type": "markdown",
   "metadata": {},
   "source": [
    "### Exercise: Plot something in the last subplot"
   ]
  },
  {
   "cell_type": "code",
   "execution_count": null,
   "metadata": {},
   "outputs": [],
   "source": []
  },
  {
   "cell_type": "markdown",
   "metadata": {},
   "source": [
    "## Extras: Some spotlights\n",
    "\n",
    "> Collection of options for figure layouts (tbc)"
   ]
  },
  {
   "cell_type": "markdown",
   "metadata": {},
   "source": [
    "### Different sized subplots"
   ]
  },
  {
   "cell_type": "code",
   "execution_count": null,
   "metadata": {},
   "outputs": [],
   "source": [
    "fig = plt.figure()\n",
    "# define axes [left, bottom, width, height] as fractions of figure width and height.\n",
    "frames = [[0.04, 0.08, .22, .90], [0.4, 0.08, .63, .90]]\n",
    "axes = (fig.add_axes(frames[0], frame_on=False), fig.add_axes(frames[1], frame_on=True))"
   ]
  },
  {
   "cell_type": "code",
   "execution_count": null,
   "metadata": {},
   "outputs": [],
   "source": [
    "fig, axes = plt.subplots(ncols=2, gridspec_kw={\"width_ratios\": [5, 1], \"wspace\": 0.2}, figsize=(10,4))"
   ]
  },
  {
   "cell_type": "code",
   "execution_count": null,
   "metadata": {},
   "outputs": [],
   "source": [
    "_ = axes[1].axis(\"off\")\n",
    "fig"
   ]
  },
  {
   "cell_type": "code",
   "execution_count": null,
   "metadata": {},
   "outputs": [],
   "source": [
    "fig.clear() # fig.clf()\n",
    "fig"
   ]
  },
  {
   "cell_type": "markdown",
   "metadata": {},
   "source": [
    "### Reusing code\n",
    "\n",
    "- define a function which takes as first argument an `axes` object: `myfunc(ax, ...)`\n",
    "- use only object-orientated matplotlib (OOM) API\n",
    "\n",
    "> Reference: [Coding Style](https://matplotlib.org/3.1.1/tutorials/introductory/usage.html#coding-styles) section in Usage Guide"
   ]
  },
  {
   "cell_type": "code",
   "execution_count": null,
   "metadata": {},
   "outputs": [],
   "source": [
    "#ToDo"
   ]
  },
  {
   "cell_type": "markdown",
   "metadata": {},
   "source": [
    "## Galary\n",
    "- [gallary](https://matplotlib.org/gallery) \n",
    "- check out some examples: [XKCD](https://matplotlib.org/3.1.1/gallery/showcase/xkcd.html#sphx-glr-gallery-showcase-xkcd-py)\n"
   ]
  },
  {
   "cell_type": "markdown",
   "metadata": {},
   "source": [
    "## Covid19 data\n",
    "\n",
    "Let's plot some Covid19 aggregates."
   ]
  },
  {
   "cell_type": "code",
   "execution_count": null,
   "metadata": {},
   "outputs": [],
   "source": [
    "import os\n",
    "import pandas as pd\n",
    "\n",
    "FOLDER_DATA = 'data/covid-19/data/'\n",
    "COUNTRIES_AGG = os.path.join(FOLDER_DATA, 'countries-aggregated.csv')\n",
    "TIME_SERIES_COVID19 = os.path.join(FOLDER_DATA, 'time-series-19-covid-combined.csv')\n",
    "REFERENCE = os.path.join(FOLDER_DATA, 'reference.csv')\n",
    "\n",
    "data_covid19 = pd.read_csv(COUNTRIES_AGG, index_col='Date')\n",
    "data_covid19_reference = pd.read_csv(REFERENCE)"
   ]
  },
  {
   "cell_type": "code",
   "execution_count": null,
   "metadata": {},
   "outputs": [],
   "source": []
  },
  {
   "cell_type": "markdown",
   "metadata": {},
   "source": [
    "## Different kinds of plots\n",
    "\n",
    "matplotlib | pandas | seaborn\n",
    "---------- | ------ | -------\n",
    "ax.plot"
   ]
  },
  {
   "cell_type": "markdown",
   "metadata": {},
   "source": [
    "## Color maps and Styles\n",
    "\n",
    "- [Color maps](https://matplotlib.org/3.3.1/tutorials/colors/colormaps.html#sphx-glr-tutorials-colors-colormaps-py), abreviated `cmap`, map numeric values (of a certain range) to colors.\n",
    "- [style sheets](https://matplotlib.org/3.3.1/gallery/style_sheets/style_sheets_reference.html#sphx-glr-gallery-style-sheets-style-sheets-reference-py) define several aspects at once"
   ]
  },
  {
   "cell_type": "markdown",
   "metadata": {},
   "source": [
    "## Scientific Figures - Case Study"
   ]
  },
  {
   "cell_type": "code",
   "execution_count": null,
   "metadata": {},
   "outputs": [],
   "source": [
    "data_fasta_uniprot = {\n",
    "    \"protein_id\": {\n",
    "        0: 0,\n",
    "        1: 1173665,\n",
    "        2: 703064,\n",
    "        3: 469464,\n",
    "        4: 301013,\n",
    "        5: 191521,\n",
    "        6: 117915,\n",
    "        7: 72008,\n",
    "        8: 48178,\n",
    "        9: 33798,\n",
    "        10: 23277,\n",
    "    },\n",
    "    \"protein\": {\n",
    "        0: 0,\n",
    "        1: 1758959,\n",
    "        2: 749718,\n",
    "        3: 346667,\n",
    "        4: 153179,\n",
    "        5: 81073,\n",
    "        6: 42527,\n",
    "        7: 24434,\n",
    "        8: 14458,\n",
    "        9: 9126,\n",
    "        10: 6935,\n",
    "    },\n",
    "    \"gene\": {\n",
    "        0: 19444,\n",
    "        1: 3105730,\n",
    "        2: 64634,\n",
    "        3: 11683,\n",
    "        4: 3670,\n",
    "        5: 1866,\n",
    "        6: 931,\n",
    "        7: 821,\n",
    "        8: 469,\n",
    "        9: 407,\n",
    "        10: 237,\n",
    "    },\n",
    "}"
   ]
  },
  {
   "cell_type": "code",
   "execution_count": null,
   "metadata": {},
   "outputs": [],
   "source": [
    "x = np.linspace(0, 2, 100)\n",
    "\n",
    "plt.plot(x, x, label='linear')\n",
    "plt.plot(x, x**2, label='quadratic')\n",
    "plt.plot(x, x**3, label='cubic')\n",
    "\n",
    "plt.xlabel('x label')\n",
    "plt.ylabel('y label')\n",
    "\n",
    "plt.title(\"Simple Plot\")\n",
    "\n",
    "plt.legend()\n",
    "\n",
    "plt.show()"
   ]
  },
  {
   "cell_type": "code",
   "execution_count": null,
   "metadata": {},
   "outputs": [],
   "source": [
    "x = np.arange(11)\n",
    "\n",
    "plt.plot(x, data_fasta_uniprot['protein_id'].values(), label='protein_id')\n",
    "plt.plot(x, data_fasta_uniprot['protein'].values(), label='protein')\n",
    "plt.plot(x, data_fasta_uniprot['gene'].values(), label='gene')\n",
    "\n",
    "plt.xlabel('x label')\n",
    "plt.ylabel('y label')\n",
    "\n",
    "plt.title(\"Simple Plot\")\n",
    "\n",
    "plt.legend()\n",
    "\n",
    "plt.show()"
   ]
  },
  {
   "cell_type": "markdown",
   "metadata": {},
   "source": [
    "## Remarks\n",
    "- matplotlib is powerful and thus maybe frighting in the beginning\n",
    "- many issues and technical details are still a mistery for me\n",
    "- this notebook is not a reference, please browse the offical documentation for latest news\n",
    "    - examples are referenced in text part."
   ]
  },
  {
   "cell_type": "markdown",
   "metadata": {},
   "source": [
    "## Matplotlib Documentation\n",
    "- [Tutorials](https://matplotlib.org/tutorials/index.html)"
   ]
  },
  {
   "cell_type": "code",
   "execution_count": null,
   "metadata": {},
   "outputs": [],
   "source": []
  }
 ],
 "metadata": {
  "kernelspec": {
   "display_name": "Python3.8 (tsunami)",
   "language": "python",
   "name": "tsunami"
  },
  "language_info": {
   "codemirror_mode": {
    "name": "ipython",
    "version": 3
   },
   "file_extension": ".py",
   "mimetype": "text/x-python",
   "name": "python",
   "nbconvert_exporter": "python",
   "pygments_lexer": "ipython3",
   "version": "3.8.5"
  }
 },
 "nbformat": 4,
 "nbformat_minor": 4
}
