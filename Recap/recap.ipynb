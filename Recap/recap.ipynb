{
 "cells": [
  {
   "cell_type": "markdown",
   "metadata": {},
   "source": [
    "<img src=\"../figures/HeaDS_logo_large_withTitle.png\" width=\"300\">\n",
    "\n",
    "<img src=\"../figures/tsunami_logo.PNG\" width=\"600\">\n",
    "\n",
    "[![Open In Colab](https://colab.research.google.com/assets/colab-badge.svg)](https://colab.research.google.com/github/Center-for-Health-Data-Science/PythonTsunami/blob/fall2021/Variables_and_data_types/recap.ipynb)\n",
    "\n",
    "*Prepared by [Marilena Hohmann](https://heads.ku.dk/team/)*."
   ]
  },
  {
   "cell_type": "markdown",
   "metadata": {},
   "source": [
    "# Recap Python Day 1\n",
    "You learned a whole lot of new programming concepts and skills yesterday. **Congratulations!**  \n",
    "To kick off day 2 of programming in Python, we will start by recaping some of the most important points from yesterday."
   ]
  },
  {
   "cell_type": "markdown",
   "metadata": {},
   "source": [
    "## What have we learned so far?\n",
    "1) Take 5 minutes to write down all the concepts and programming terms you can remember from yesterday here: [Padlet](https://ucph.padlet.org/marilenahohmann/x2mcg3xpebcp8spf).  \n",
    "2) Based on Padlet overview, are there any things you are not sure about? Is there anything that we should explain again in more detail?"
   ]
  },
  {
   "cell_type": "markdown",
   "metadata": {},
   "source": [
    "## Recap Quiz"
   ]
  },
  {
   "cell_type": "markdown",
   "metadata": {},
   "source": [
    "**Question 1**   \n",
    "Which of these variable names are valid? ``var&sund``, ``protein``, ``_network``, ``8heads``, ``heads8``"
   ]
  },
  {
   "cell_type": "markdown",
   "metadata": {},
   "source": [
    "**Question 2**  \n",
    "Can you explain what happens to ``var`` in the example below? What type is ``var`` at the end of the program below?\n",
    "```python\n",
    "var = 1\n",
    "var *= 100\n",
    "var /= 2\n",
    "var = int(var)\n",
    "var = str(var)\n",
    "var = var + \" points to Gryffindor!\"\n",
    "print(var)\n",
    "```"
   ]
  },
  {
   "cell_type": "markdown",
   "metadata": {},
   "source": [
    "**Question 3**  \n",
    "What is the loop below printing at each iteration?\n",
    "  \n",
    "```python\n",
    "scand = [\"Denmark\", \"Finnland\", \"Sweden\", \"Norway\"]\n",
    "\n",
    "for index, country in enumerate(scand):\n",
    "    if country != \"Finnland\":\n",
    "        print(f\"My #{index+1} favorite country in Scandinavia is {country}.\")\n",
    "    \n",
    "    else:\n",
    "        print(\"Sorry, but Finnland is not part of Scandinavia.\")\n",
    "        break\n",
    "```"
   ]
  },
  {
   "cell_type": "markdown",
   "metadata": {},
   "source": [
    "**Question 4**  \n",
    "Can you explain what happens to the string in each line of the program below?   \n",
    "  \n",
    "**Hint:** the code uses some string methods that you have not encountered before. As you progress in learning to code, you'll encounter many new methods and concepts that you haven't seen before and a crucial skill is figuring out how they work. \n",
    "\n",
    "If in doubt, open the search engine of your choice and look up what those methods do and how they are used. The internet has the right answer for you - we promise!"
   ]
  },
  {
   "cell_type": "code",
   "execution_count": 27,
   "metadata": {},
   "outputs": [
    {
     "data": {
      "text/plain": [
       "'atoyotaracefastsafecaratoyota'"
      ]
     },
     "execution_count": 27,
     "metadata": {},
     "output_type": "execute_result"
    }
   ],
   "source": [
    "toy = \"A Toyota. Race fast, safe car. A Toyota.\"\n",
    "toy = toy.lower()\n",
    "toy = toy.replace(',', '')\n",
    "toy = toy.replace('.', '')\n",
    "toy = toy.replace(' ', '')\n",
    "toy[::-1]"
   ]
  },
  {
   "cell_type": "markdown",
   "metadata": {},
   "source": [
    "**Question 5**  \n",
    "In the example above, we use the notation ``[::-1]`` to slice the ``toy`` string.   \n",
    "\n",
    "What other data structure can be sliced using this notation?  \n",
    "Can you come up with an example?"
   ]
  },
  {
   "cell_type": "code",
   "execution_count": null,
   "metadata": {},
   "outputs": [],
   "source": [
    "# your example goes here"
   ]
  },
  {
   "cell_type": "markdown",
   "metadata": {},
   "source": [
    "**Question 6**  \n",
    "Consider the scenarios A-D below. Which Python data structure would you use to solve them?\n",
    "\n",
    "**A.** You have all names of the participants in this course. You want to store them in a variable that perserves the order in which the participants signed up for the course.  \n",
    "**B.** You have (a) all names of the participants in this course, and (b) the names of everyone who is currently employed at SUND. Next, you want to find all employees who DID NOT participate in the course. Which data structure would you store (a) and (b) in to achieve this?  \n",
    "**C.** You want to store information about all capital cities in Europe and the number of their inhabitants. Since the numbers might change, you want to make sure that you can update the information at any time.  \n",
    "**D.** Same as 3), but this time you want to make sure that the data structure used does not allow for any of the information to be changed or updated. "
   ]
  },
  {
   "cell_type": "markdown",
   "metadata": {},
   "source": [
    "**Question 7**  \n",
    "Explain the errors below, and change the code to fix them."
   ]
  },
  {
   "cell_type": "code",
   "execution_count": 30,
   "metadata": {},
   "outputs": [
    {
     "ename": "ZeroDivisionError",
     "evalue": "division by zero",
     "output_type": "error",
     "traceback": [
      "\u001b[1;31m---------------------------------------------------------------------------\u001b[0m",
      "\u001b[1;31mZeroDivisionError\u001b[0m                         Traceback (most recent call last)",
      "\u001b[1;32m<ipython-input-30-e8a6058597d5>\u001b[0m in \u001b[0;36m<module>\u001b[1;34m\u001b[0m\n\u001b[1;32m----> 1\u001b[1;33m \u001b[1;36m75\u001b[0m \u001b[1;33m*\u001b[0m \u001b[1;33m(\u001b[0m\u001b[1;36m2\u001b[0m\u001b[1;33m/\u001b[0m\u001b[1;36m0\u001b[0m\u001b[1;33m)\u001b[0m\u001b[1;33m\u001b[0m\u001b[1;33m\u001b[0m\u001b[0m\n\u001b[0m",
      "\u001b[1;31mZeroDivisionError\u001b[0m: division by zero"
     ]
    }
   ],
   "source": [
    "# error 1\n",
    "75 * (2/0)"
   ]
  },
  {
   "cell_type": "code",
   "execution_count": 32,
   "metadata": {},
   "outputs": [
    {
     "ename": "IndexError",
     "evalue": "list index out of range",
     "output_type": "error",
     "traceback": [
      "\u001b[1;31m---------------------------------------------------------------------------\u001b[0m",
      "\u001b[1;31mIndexError\u001b[0m                                Traceback (most recent call last)",
      "\u001b[1;32m<ipython-input-32-58a7a2c5c1cb>\u001b[0m in \u001b[0;36m<module>\u001b[1;34m\u001b[0m\n\u001b[0;32m      1\u001b[0m \u001b[1;31m# error 2\u001b[0m\u001b[1;33m\u001b[0m\u001b[1;33m\u001b[0m\u001b[1;33m\u001b[0m\u001b[0m\n\u001b[0;32m      2\u001b[0m \u001b[0mweather\u001b[0m \u001b[1;33m=\u001b[0m \u001b[1;33m[\u001b[0m\u001b[1;34m\"sunny\"\u001b[0m\u001b[1;33m,\u001b[0m \u001b[1;34m\"cloudy\"\u001b[0m\u001b[1;33m,\u001b[0m \u001b[1;34m\"rainy\"\u001b[0m\u001b[1;33m]\u001b[0m\u001b[1;33m\u001b[0m\u001b[1;33m\u001b[0m\u001b[0m\n\u001b[1;32m----> 3\u001b[1;33m \u001b[0mweather\u001b[0m\u001b[1;33m[\u001b[0m\u001b[1;36m4\u001b[0m\u001b[1;33m]\u001b[0m\u001b[1;33m\u001b[0m\u001b[1;33m\u001b[0m\u001b[0m\n\u001b[0m",
      "\u001b[1;31mIndexError\u001b[0m: list index out of range"
     ]
    }
   ],
   "source": [
    "# error 2\n",
    "weather = [\"sunny\", \"cloudy\", \"rainy\"]\n",
    "weather[4]"
   ]
  },
  {
   "cell_type": "code",
   "execution_count": 33,
   "metadata": {},
   "outputs": [
    {
     "ename": "NameError",
     "evalue": "name 'typ' is not defined",
     "output_type": "error",
     "traceback": [
      "\u001b[1;31m---------------------------------------------------------------------------\u001b[0m",
      "\u001b[1;31mNameError\u001b[0m                                 Traceback (most recent call last)",
      "\u001b[1;32m<ipython-input-33-763239a28138>\u001b[0m in \u001b[0;36m<module>\u001b[1;34m\u001b[0m\n\u001b[0;32m      1\u001b[0m \u001b[1;31m# error 3\u001b[0m\u001b[1;33m\u001b[0m\u001b[1;33m\u001b[0m\u001b[1;33m\u001b[0m\u001b[0m\n\u001b[0;32m      2\u001b[0m \u001b[0muniversity\u001b[0m \u001b[1;33m=\u001b[0m \u001b[1;34m\"ucph\"\u001b[0m\u001b[1;33m\u001b[0m\u001b[1;33m\u001b[0m\u001b[0m\n\u001b[1;32m----> 3\u001b[1;33m \u001b[0mtyp\u001b[0m\u001b[1;33m(\u001b[0m\u001b[0muniversity\u001b[0m\u001b[1;33m)\u001b[0m\u001b[1;33m\u001b[0m\u001b[1;33m\u001b[0m\u001b[0m\n\u001b[0m",
      "\u001b[1;31mNameError\u001b[0m: name 'typ' is not defined"
     ]
    }
   ],
   "source": [
    "# error 3\n",
    "university = \"ucph\"\n",
    "typ(university)"
   ]
  },
  {
   "cell_type": "code",
   "execution_count": 39,
   "metadata": {},
   "outputs": [
    {
     "ename": "IndentationError",
     "evalue": "expected an indented block (<ipython-input-39-4b9a5b796b8f>, line 3)",
     "output_type": "error",
     "traceback": [
      "\u001b[1;36m  File \u001b[1;32m\"<ipython-input-39-4b9a5b796b8f>\"\u001b[1;36m, line \u001b[1;32m3\u001b[0m\n\u001b[1;33m    print(f\"I work at {university.upper()}.\")\u001b[0m\n\u001b[1;37m    ^\u001b[0m\n\u001b[1;31mIndentationError\u001b[0m\u001b[1;31m:\u001b[0m expected an indented block\n"
     ]
    }
   ],
   "source": [
    "# error 4\n",
    "if \"c\" in university:\n",
    "print(f\"I work at {university.upper()}.\")"
   ]
  },
  {
   "cell_type": "code",
   "execution_count": 40,
   "metadata": {},
   "outputs": [
    {
     "ename": "NameError",
     "evalue": "name 'example_error' is not defined",
     "output_type": "error",
     "traceback": [
      "\u001b[1;31m---------------------------------------------------------------------------\u001b[0m",
      "\u001b[1;31mNameError\u001b[0m                                 Traceback (most recent call last)",
      "\u001b[1;32m<ipython-input-40-cbe156732600>\u001b[0m in \u001b[0;36m<module>\u001b[1;34m\u001b[0m\n\u001b[0;32m      1\u001b[0m \u001b[1;31m# error 5\u001b[0m\u001b[1;33m\u001b[0m\u001b[1;33m\u001b[0m\u001b[1;33m\u001b[0m\u001b[0m\n\u001b[1;32m----> 2\u001b[1;33m \u001b[0mprint\u001b[0m\u001b[1;33m(\u001b[0m\u001b[0mexample_error\u001b[0m\u001b[1;33m)\u001b[0m\u001b[1;33m\u001b[0m\u001b[1;33m\u001b[0m\u001b[0m\n\u001b[0m",
      "\u001b[1;31mNameError\u001b[0m: name 'example_error' is not defined"
     ]
    }
   ],
   "source": [
    "# error 5\n",
    "print(example_error)"
   ]
  },
  {
   "cell_type": "markdown",
   "metadata": {},
   "source": [
    "## To sum it up...\n",
    "\n",
    "...here are the most important take-away points:\n",
    "\n",
    "\n",
    "#### Variables\n",
    "A variable is a named symbol that holds a value.  \n",
    "  \n",
    "  \n",
    "#### Data Types and Structures\n",
    "\n",
    "* ``int``: zero, positive or negative whole number \n",
    "```python\n",
    "int_example = 1\n",
    "```\n",
    "  \n",
    "* ``float``: zero, positive or negative number with a decimal point\n",
    "```python\n",
    "float_example = 34.6\n",
    "```\n",
    "* ``str``: containers of characters  \n",
    "```python\n",
    "str_example = \"I am a string!\"\n",
    "```\n",
    "* ``list``: container of ordered items that can be accessed by their index\n",
    "```python\n",
    "list_example = [\"element\", 1, 2, \"another_element\"]\n",
    "```\n",
    "* ``set``: collection of unqiue, unordered, unchangeable, and unindexed elements\n",
    "```python\n",
    "list_example = [\"element\", 1, 2, \"another_element\"]\n",
    "```\n",
    "* ``dict``: stores (key, value) pairs\n",
    "```python\n",
    "dict_example = [\"apple\":1, \"cherry\":20, \"strawberry\":10]\n",
    "```\n",
    "* ``tuple``: immutable, ordered list of values\n",
    "```python\n",
    "tuple_example = (1,20,78,5)\n",
    "```\n",
    "* ``bool``: can only take the values `True` or `False`\n",
    "```python\n",
    "bool_example = True\n",
    "```\n",
    "\n",
    "\n",
    "#### Indexing and Slicing\n",
    "Both the characters in a string and the elements in a list can be accessed by their index. In Python, indexing always starts with 0, i.e. the first element of a list lives at index position 0. To access values in a string or list, we can use the slicing notation ``[start, end, step]``:\n",
    "```python\n",
    "list_example[1:3] # access the element of index 1 and 2\n",
    "```\n",
    "\n",
    "####  Comparison Operators and Boolean Logic\n",
    "Comparison operators can tell how two Python values relate, resulting in a boolean. They answer yes/no questions.\n",
    "\n",
    "#### Conditional Statements\n",
    "Conditional statements use the keywords ``if``, ``elif`` and ``else``. They are used to control a piece of code based on the value of a Boolean condition.\n",
    "\n",
    "```python\n",
    "num_example = # you define a number here\n",
    "\n",
    "if num_example % 2:\n",
    "    print(f\"{num_example} is an odd number.\")\n",
    "else:\n",
    "    print(f\"{num_example} is an even number.\")\n",
    "```\n",
    "\n",
    "\n",
    "\n",
    "#### Loops\n",
    "Loops allow you to repeatedly execute a piece of code. You can control the flow of your loop with the statements ``break``, ``continue`` and ``pass``.\n",
    "  \n",
    "``for`` loops repeat the code you want to run for each variable in the sequence you loop over.  \n",
    "```python\n",
    "number_list = [1, 2, 3, 4, 5]\n",
    "for number in number_list:\n",
    "    print(number)\n",
    "```\n",
    "  \n",
    "``while`` loops continue to execute while a certain condition is ``True``, and ends once this conditions becomes ``False``.\n",
    "```python\n",
    "i = 0\n",
    "while i < 10:\n",
    "    i += 1\n",
    "    print(i)\n",
    "```"
   ]
  },
  {
   "cell_type": "code",
   "execution_count": null,
   "metadata": {},
   "outputs": [],
   "source": []
  }
 ],
 "metadata": {
  "kernelspec": {
   "display_name": "Python 3",
   "language": "python",
   "name": "python3"
  },
  "language_info": {
   "codemirror_mode": {
    "name": "ipython",
    "version": 3
   },
   "file_extension": ".py",
   "mimetype": "text/x-python",
   "name": "python",
   "nbconvert_exporter": "python",
   "pygments_lexer": "ipython3",
   "version": "3.8.3"
  }
 },
 "nbformat": 4,
 "nbformat_minor": 4
}
