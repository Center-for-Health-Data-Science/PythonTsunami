{
 "cells": [
  {
   "cell_type": "markdown",
   "metadata": {},
   "source": [
    "<img src=\"../figures/HeaDS_logo_large_withTitle.png\" width=\"300\">\n",
    "\n",
    "<img src=\"../figures/tsunami_logo.PNG\" width=\"600\">\n",
    "\n",
    "[![Open In Colab](https://colab.research.google.com/assets/colab-badge.svg)](https://colab.research.google.com/github/Center-for-Health-Data-Science/PythonTsunami/blob/fall2021/Variables_and_data_types/recap.ipynb)"
   ]
  },
  {
   "cell_type": "markdown",
   "metadata": {},
   "source": [
    "# Recap Python Day 1\n",
    "**Congratulations!** \n",
    "\n",
    "You learned a whole lot of new programming concepts and skills over the last two days. \n",
    "To kick off the final day of of this Python course, we will start by recaping some of the most important concepts."
   ]
  },
  {
   "cell_type": "markdown",
   "metadata": {},
   "source": [
    "## Recap Quiz"
   ]
  },
  {
   "cell_type": "markdown",
   "metadata": {},
   "source": [
    "Use the next 45 minutes on the quiz below. Work together with the people at your table and discuss your answers. Add code cells and try the code written in the question if you are unsure. "
   ]
  },
  {
   "cell_type": "markdown",
   "metadata": {},
   "source": [
    "**Question 1**  \n",
    "Can you explain what happens to ``var`` in each step the example below? What type is ``var`` at the end of the program?\n",
    "```python\n",
    "var = 1\n",
    "var *= 100\n",
    "var /= 2\n",
    "var = int(var)\n",
    "var = str(var)\n",
    "var = var + \" points to Gryffindor!\"\n",
    "print(var)\n",
    "```"
   ]
  },
  {
   "cell_type": "markdown",
   "metadata": {},
   "source": [
    "**Question 2**  \n",
    "What is the loop below printing at each iteration?\n",
    "  \n",
    "```python\n",
    "scand = [\"Denmark\", \"Finnland\", \"Sweden\", \"Norway\"]\n",
    "\n",
    "for index, country in enumerate(scand):\n",
    "    if country != \"Finnland\":\n",
    "        print(f\"My #{index+1} favorite country in Scandinavia is {country}.\")\n",
    "    \n",
    "    else:\n",
    "        print(\"Sorry, but Finnland is not part of Scandinavia.\")\n",
    "        break\n",
    "```"
   ]
  },
  {
   "cell_type": "markdown",
   "metadata": {},
   "source": [
    "**Question 3**  \n",
    "Consider the scenarios A-C below. Which Python data structure would you use to solve them?\n",
    "\n",
    "**A.** You have all names of the participants in this course. You want to store them in a variable that perserves the order in which the participants signed up for the course.  \n",
    "\n",
    "**B.** You have (a) all names of the participants in this course, and (b) the names of everyone who is currently employed at SUND. Next, you want to find all employees who DID NOT participate in the course. Which data structure would you store (a) and (b) in to achieve this? And bonus question: How would you achieve it? \n",
    "\n",
    "**C.** You want to store information about all capital cities in Europe and the number of their inhabitants. Since the numbers might change, you want to make sure that you can update the information at any time. "
   ]
  },
  {
   "cell_type": "markdown",
   "metadata": {},
   "source": [
    "**Question 4**\n",
    "\n",
    "Does the expression used in the `if` below evaluate to `True` or `False`? Can you explain why? Can you change it to make it `False`?\n",
    "\n"
   ]
  },
  {
   "cell_type": "code",
   "execution_count": 1,
   "metadata": {},
   "outputs": [
    {
     "name": "stdout",
     "output_type": "stream",
     "text": [
      "Include in study\n"
     ]
    }
   ],
   "source": [
    "smoker = False\n",
    "patient_age = 50\n",
    "\n",
    "if (not smoker and patient_age < 65):\n",
    "    print('Include in study')    "
   ]
  },
  {
   "cell_type": "markdown",
   "metadata": {},
   "source": [
    "**Question 5**  \n",
    "Explain the errors below, and change the code to fix them."
   ]
  },
  {
   "cell_type": "code",
   "execution_count": null,
   "metadata": {},
   "outputs": [],
   "source": [
    "# error 1\n",
    "75 * (2/0)"
   ]
  },
  {
   "cell_type": "code",
   "execution_count": null,
   "metadata": {},
   "outputs": [],
   "source": [
    "# error 2\n",
    "weather = [\"sunny\", \"cloudy\", \"rainy\"]\n",
    "weather[4]"
   ]
  },
  {
   "cell_type": "code",
   "execution_count": null,
   "metadata": {},
   "outputs": [],
   "source": [
    "# error 3\n",
    "university = \"ucph\"\n",
    "typ(university)"
   ]
  },
  {
   "cell_type": "code",
   "execution_count": null,
   "metadata": {},
   "outputs": [],
   "source": [
    "# error 4\n",
    "if \"c\" in university:\n",
    "print(f\"I work at {university.upper()}.\")"
   ]
  },
  {
   "cell_type": "code",
   "execution_count": null,
   "metadata": {},
   "outputs": [],
   "source": [
    "# error 5\n",
    "print(hello_world)"
   ]
  },
  {
   "cell_type": "markdown",
   "metadata": {},
   "source": [
    "**Question 6**\n",
    "\n",
    "Consider the data frame below. How do you:\n",
    "\n",
    "1. Create a new dataframe with only the treatment, age and satisfaction columns?\n",
    "2. Calculate the mean age?\n",
    "3. Extract all rows with patients older than 70?\n",
    "4. Omit rows with missing data?\n"
   ]
  },
  {
   "cell_type": "code",
   "execution_count": 19,
   "metadata": {},
   "outputs": [
    {
     "data": {
      "text/html": [
       "<div>\n",
       "<style scoped>\n",
       "    .dataframe tbody tr th:only-of-type {\n",
       "        vertical-align: middle;\n",
       "    }\n",
       "\n",
       "    .dataframe tbody tr th {\n",
       "        vertical-align: top;\n",
       "    }\n",
       "\n",
       "    .dataframe thead th {\n",
       "        text-align: right;\n",
       "    }\n",
       "</style>\n",
       "<table border=\"1\" class=\"dataframe\">\n",
       "  <thead>\n",
       "    <tr style=\"text-align: right;\">\n",
       "      <th></th>\n",
       "      <th>patient_id</th>\n",
       "      <th>treatment</th>\n",
       "      <th>hospital</th>\n",
       "      <th>convalescence_days</th>\n",
       "      <th>age</th>\n",
       "      <th>satisfaction</th>\n",
       "    </tr>\n",
       "  </thead>\n",
       "  <tbody>\n",
       "    <tr>\n",
       "      <th>0</th>\n",
       "      <td>402109</td>\n",
       "      <td>A</td>\n",
       "      <td>Rigshospitalet</td>\n",
       "      <td>15.0</td>\n",
       "      <td>68</td>\n",
       "      <td>3</td>\n",
       "    </tr>\n",
       "    <tr>\n",
       "      <th>1</th>\n",
       "      <td>092070</td>\n",
       "      <td>A</td>\n",
       "      <td>Rigshospitalet</td>\n",
       "      <td>13.0</td>\n",
       "      <td>74</td>\n",
       "      <td>5</td>\n",
       "    </tr>\n",
       "    <tr>\n",
       "      <th>2</th>\n",
       "      <td>994082</td>\n",
       "      <td>B</td>\n",
       "      <td>Herlev</td>\n",
       "      <td>27.0</td>\n",
       "      <td>76</td>\n",
       "      <td>2</td>\n",
       "    </tr>\n",
       "    <tr>\n",
       "      <th>3</th>\n",
       "      <td>843094</td>\n",
       "      <td>A</td>\n",
       "      <td>Herlev</td>\n",
       "      <td>30.0</td>\n",
       "      <td>65</td>\n",
       "      <td>5</td>\n",
       "    </tr>\n",
       "    <tr>\n",
       "      <th>4</th>\n",
       "      <td>369360</td>\n",
       "      <td>B</td>\n",
       "      <td>Rigshospitalet</td>\n",
       "      <td>21.0</td>\n",
       "      <td>68</td>\n",
       "      <td>5</td>\n",
       "    </tr>\n",
       "    <tr>\n",
       "      <th>5</th>\n",
       "      <td>688213</td>\n",
       "      <td>B</td>\n",
       "      <td>Rigshospitalet</td>\n",
       "      <td>29.0</td>\n",
       "      <td>77</td>\n",
       "      <td>3</td>\n",
       "    </tr>\n",
       "    <tr>\n",
       "      <th>6</th>\n",
       "      <td>197347</td>\n",
       "      <td>A</td>\n",
       "      <td>Herlev</td>\n",
       "      <td>25.0</td>\n",
       "      <td>65</td>\n",
       "      <td>5</td>\n",
       "    </tr>\n",
       "    <tr>\n",
       "      <th>7</th>\n",
       "      <td>374793</td>\n",
       "      <td>A</td>\n",
       "      <td>Rigshospitalet</td>\n",
       "      <td>NaN</td>\n",
       "      <td>67</td>\n",
       "      <td>5</td>\n",
       "    </tr>\n",
       "    <tr>\n",
       "      <th>8</th>\n",
       "      <td>759063</td>\n",
       "      <td>B</td>\n",
       "      <td>Rigshospitalet</td>\n",
       "      <td>16.0</td>\n",
       "      <td>75</td>\n",
       "      <td>4</td>\n",
       "    </tr>\n",
       "    <tr>\n",
       "      <th>9</th>\n",
       "      <td>121219</td>\n",
       "      <td>B</td>\n",
       "      <td>None</td>\n",
       "      <td>27.0</td>\n",
       "      <td>68</td>\n",
       "      <td>4</td>\n",
       "    </tr>\n",
       "    <tr>\n",
       "      <th>10</th>\n",
       "      <td>427898</td>\n",
       "      <td>B</td>\n",
       "      <td>Rigshospitalet</td>\n",
       "      <td>15.0</td>\n",
       "      <td>74</td>\n",
       "      <td>5</td>\n",
       "    </tr>\n",
       "  </tbody>\n",
       "</table>\n",
       "</div>"
      ],
      "text/plain": [
       "   patient_id treatment        hospital  convalescence_days  age  satisfaction\n",
       "0      402109         A  Rigshospitalet                15.0   68             3\n",
       "1      092070         A  Rigshospitalet                13.0   74             5\n",
       "2      994082         B          Herlev                27.0   76             2\n",
       "3      843094         A          Herlev                30.0   65             5\n",
       "4      369360         B  Rigshospitalet                21.0   68             5\n",
       "5      688213         B  Rigshospitalet                29.0   77             3\n",
       "6      197347         A          Herlev                25.0   65             5\n",
       "7      374793         A  Rigshospitalet                 NaN   67             5\n",
       "8      759063         B  Rigshospitalet                16.0   75             4\n",
       "9      121219         B            None                27.0   68             4\n",
       "10     427898         B  Rigshospitalet                15.0   74             5"
      ]
     },
     "execution_count": 19,
     "metadata": {},
     "output_type": "execute_result"
    }
   ],
   "source": [
    "#defining the dataframe\n",
    "import pandas as pd\n",
    "\n",
    "data = [\n",
    "    ['402109','A','Rigshospitalet',15,68,3],\n",
    "    ['092070','A','Rigshospitalet',13,74,5],\n",
    "    ['994082','B','Herlev',27,76,2],\n",
    "    ['843094','A','Herlev',30,65,5],\n",
    "    ['369360','B','Rigshospitalet',21,68,5],\n",
    "    ['688213','B','Rigshospitalet',29,77,3],\n",
    "    ['197347','A','Herlev',25,65,5],\n",
    "    ['374793','A','Rigshospitalet', None, 67,5],\n",
    "    ['759063','B','Rigshospitalet',16,75,4],\n",
    "    ['121219','B',None,27,68,4],\n",
    "    ['427898','B','Rigshospitalet',15,74,5]\n",
    "]\n",
    "\n",
    "df = pd.DataFrame(data, columns=['patient_id', 'treatment', 'hospital', 'convalescence_days' ,'age', 'satisfaction'])\n",
    "df\n"
   ]
  },
  {
   "cell_type": "code",
   "execution_count": null,
   "metadata": {},
   "outputs": [],
   "source": [
    "#your answers here"
   ]
  },
  {
   "cell_type": "markdown",
   "metadata": {},
   "source": [
    "## To sum it up...\n",
    "\n",
    "...here are the most important take-away points:\n",
    "\n",
    "\n",
    "#### Variables\n",
    "A variable is a named symbol that holds a value.  \n",
    "  \n",
    "  \n",
    "#### Data Types and Structures\n",
    "\n",
    "* ``int``: zero, positive or negative whole number \n",
    "```python\n",
    "int_example = 1\n",
    "```\n",
    "  \n",
    "* ``float``: zero, positive or negative number with a decimal point\n",
    "```python\n",
    "float_example = 34.6\n",
    "```\n",
    "* ``str``: containers of characters.  \n",
    "```python\n",
    "str_example = \"I am a string!\"\n",
    "```\n",
    "* ``list``: container of ordered items that can be accessed by their index\n",
    "```python\n",
    "list_example = [\"element\", 1, 2, \"another_element\"]\n",
    "```\n",
    "* ``set``: collection of unqiue, unordered, unchangeable, and unindexed elements\n",
    "```python\n",
    "list_example = [\"element\", 1, 2, \"another_element\"]\n",
    "```\n",
    "* ``dict``: stores (key, value) pairs\n",
    "```python\n",
    "dict_example = [\"apple\":1, \"cherry\":20, \"strawberry\":10]\n",
    "```\n",
    "* ``tuple``: immutable, ordered list of values\n",
    "```python\n",
    "tuple_example = (1,20,78,5)\n",
    "```\n",
    "* ``bool``: can only take the values `True` or `False`\n",
    "```python\n",
    "bool_example = True\n",
    "```\n",
    "\n",
    "\n",
    "#### Indexing and Slicing\n",
    "Indexing and slicing: Both the characters in a string and the elements in a list can be accessed by their index. In Python, indexing always starts with 0, i.e. the first element of a list lives at index position 0. To access values in a string or list, we can use the slicing notation ``[start, end, step]``:\n",
    "```python\n",
    "list_example[1:3] # access the element of index 1 and 2\n",
    "```\n",
    "\n",
    "####  Comparison Operators and Boolean Logic\n",
    "Comparison operators can tell how two Python values relate, resulting in a boolean. They answer yes/no questions.\n",
    "\n",
    "#### Conditional Statements\n",
    "Conditional statements use the keywords ``if``, ``elif`` and ``else``. They are used to control a piece of code based on the value of a Boolean condition.\n",
    "\n",
    "```python\n",
    "num_example = # you define a number here\n",
    "\n",
    "if num_example % 2:\n",
    "    print(f\"{num_example} is an odd number.\")\n",
    "else:\n",
    "    print(f\"{num_example} is an even number.\")\n",
    "```\n",
    "\n",
    "\n",
    "\n",
    "#### Loops\n",
    "Loops allow you to repeatedly execute a piece of code. You can control the flow of your loop with the statements ``break``, ``continue`` and ``pass``.\n",
    "  \n",
    "``for`` loops repeat the code you want to run for each variable in the sequence you loop over.  \n",
    "```python\n",
    "number_list = [1, 2, 3, 4, 5]\n",
    "for number in number_list:\n",
    "    print(number)\n",
    "```\n",
    "  \n",
    "``while`` loops continue to execute while a certain condition is ``True``, and ends once this conditions becomes ``False``.\n",
    "```python\n",
    "i = 0\n",
    "while i < 10:\n",
    "    i += 1\n",
    "    print(i)\n",
    "```\n"
   ]
  },
  {
   "cell_type": "code",
   "execution_count": null,
   "metadata": {},
   "outputs": [],
   "source": []
  }
 ],
 "metadata": {
  "kernelspec": {
   "display_name": "Python 3",
   "language": "python",
   "name": "python3"
  },
  "language_info": {
   "codemirror_mode": {
    "name": "ipython",
    "version": 3
   },
   "file_extension": ".py",
   "mimetype": "text/x-python",
   "name": "python",
   "nbconvert_exporter": "python",
   "pygments_lexer": "ipython3",
   "version": "3.8.5"
  }
 },
 "nbformat": 4,
 "nbformat_minor": 4
}
